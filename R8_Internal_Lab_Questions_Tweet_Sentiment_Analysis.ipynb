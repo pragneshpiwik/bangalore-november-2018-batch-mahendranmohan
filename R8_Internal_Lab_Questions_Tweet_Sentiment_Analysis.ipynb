{
 "cells": [
  {
   "cell_type": "markdown",
   "metadata": {
    "colab_type": "text",
    "id": "FU-HwvIdH0M-"
   },
   "source": [
    "## Sentiment analysis <br> \n",
    "\n",
    "The objective of the second problem is to perform Sentiment analysis from the tweets data collected from the users targeted at various mobile devices.\n",
    "Based on the tweet posted by a user (text), we will classify if the sentiment of the user targeted at a particular mobile device is positive or not."
   ]
  },
  {
   "cell_type": "markdown",
   "metadata": {
    "colab_type": "text",
    "id": "nAQDiZHRH0M_"
   },
   "source": [
    "### 1. Read the dataset (tweets.csv) and drop the NA's while reading the dataset"
   ]
  },
  {
   "cell_type": "code",
   "execution_count": 1,
   "metadata": {
    "colab": {},
    "colab_type": "code",
    "id": "3eXGIe-SH0NA"
   },
   "outputs": [],
   "source": [
    "from IPython.core.interactiveshell import InteractiveShell\n",
    "\n",
    "from sklearn.linear_model import LogisticRegression\n",
    "from sklearn.naive_bayes import GaussianNB , MultinomialNB\n",
    "from sklearn import metrics\n",
    "import pandas as pd      \n",
    "import numpy as np\n",
    "import re\n",
    "from sklearn.feature_extraction.text import CountVectorizer\n",
    "from sklearn.feature_extraction.text import TfidfVectorizer\n",
    "from sklearn.model_selection import train_test_split\n",
    "from nltk.corpus import stopwords\n",
    "import nltk\n",
    "\n",
    "InteractiveShell.ast_node_interactivity = \"all\"\n",
    "import warnings\n",
    "warnings.filterwarnings('ignore')"
   ]
  },
  {
   "cell_type": "code",
   "execution_count": 2,
   "metadata": {
    "colab": {},
    "colab_type": "code",
    "id": "CWeWe1eJH0NF"
   },
   "outputs": [],
   "source": [
    "\n",
    "data = pd.read_csv(\"tweets.csv\",encoding = 'unicode_escape',keep_default_na=False)"
   ]
  },
  {
   "cell_type": "code",
   "execution_count": 3,
   "metadata": {},
   "outputs": [
    {
     "data": {
      "text/plain": [
       "(9093, 3)"
      ]
     },
     "execution_count": 3,
     "metadata": {},
     "output_type": "execute_result"
    }
   ],
   "source": [
    "data.shape"
   ]
  },
  {
   "cell_type": "code",
   "execution_count": 4,
   "metadata": {},
   "outputs": [],
   "source": [
    "data = data.dropna()"
   ]
  },
  {
   "cell_type": "code",
   "execution_count": 5,
   "metadata": {},
   "outputs": [
    {
     "data": {
      "text/plain": [
       "(9093, 3)"
      ]
     },
     "execution_count": 5,
     "metadata": {},
     "output_type": "execute_result"
    }
   ],
   "source": [
    "data.shape"
   ]
  },
  {
   "cell_type": "code",
   "execution_count": 6,
   "metadata": {},
   "outputs": [
    {
     "name": "stdout",
     "output_type": "stream",
     "text": [
      "<class 'pandas.core.frame.DataFrame'>\n",
      "Int64Index: 9093 entries, 0 to 9092\n",
      "Data columns (total 3 columns):\n",
      "tweet_text                                            9093 non-null object\n",
      "emotion_in_tweet_is_directed_at                       9093 non-null object\n",
      "is_there_an_emotion_directed_at_a_brand_or_product    9093 non-null object\n",
      "dtypes: object(3)\n",
      "memory usage: 284.2+ KB\n"
     ]
    }
   ],
   "source": [
    "data.info()"
   ]
  },
  {
   "cell_type": "code",
   "execution_count": 7,
   "metadata": {},
   "outputs": [
    {
     "data": {
      "text/html": [
       "<div>\n",
       "<style scoped>\n",
       "    .dataframe tbody tr th:only-of-type {\n",
       "        vertical-align: middle;\n",
       "    }\n",
       "\n",
       "    .dataframe tbody tr th {\n",
       "        vertical-align: top;\n",
       "    }\n",
       "\n",
       "    .dataframe thead th {\n",
       "        text-align: right;\n",
       "    }\n",
       "</style>\n",
       "<table border=\"1\" class=\"dataframe\">\n",
       "  <thead>\n",
       "    <tr style=\"text-align: right;\">\n",
       "      <th></th>\n",
       "      <th>tweet_text</th>\n",
       "      <th>emotion_in_tweet_is_directed_at</th>\n",
       "      <th>is_there_an_emotion_directed_at_a_brand_or_product</th>\n",
       "    </tr>\n",
       "  </thead>\n",
       "  <tbody>\n",
       "    <tr>\n",
       "      <th>0</th>\n",
       "      <td>.@wesley83 I have a 3G iPhone. After 3 hrs twe...</td>\n",
       "      <td>iPhone</td>\n",
       "      <td>Negative emotion</td>\n",
       "    </tr>\n",
       "    <tr>\n",
       "      <th>1</th>\n",
       "      <td>@jessedee Know about @fludapp ? Awesome iPad/i...</td>\n",
       "      <td>iPad or iPhone App</td>\n",
       "      <td>Positive emotion</td>\n",
       "    </tr>\n",
       "    <tr>\n",
       "      <th>2</th>\n",
       "      <td>@swonderlin Can not wait for #iPad 2 also. The...</td>\n",
       "      <td>iPad</td>\n",
       "      <td>Positive emotion</td>\n",
       "    </tr>\n",
       "    <tr>\n",
       "      <th>3</th>\n",
       "      <td>@sxsw I hope this year's festival isn't as cra...</td>\n",
       "      <td>iPad or iPhone App</td>\n",
       "      <td>Negative emotion</td>\n",
       "    </tr>\n",
       "    <tr>\n",
       "      <th>4</th>\n",
       "      <td>@sxtxstate great stuff on Fri #SXSW: Marissa M...</td>\n",
       "      <td>Google</td>\n",
       "      <td>Positive emotion</td>\n",
       "    </tr>\n",
       "  </tbody>\n",
       "</table>\n",
       "</div>"
      ],
      "text/plain": [
       "                                          tweet_text  \\\n",
       "0  .@wesley83 I have a 3G iPhone. After 3 hrs twe...   \n",
       "1  @jessedee Know about @fludapp ? Awesome iPad/i...   \n",
       "2  @swonderlin Can not wait for #iPad 2 also. The...   \n",
       "3  @sxsw I hope this year's festival isn't as cra...   \n",
       "4  @sxtxstate great stuff on Fri #SXSW: Marissa M...   \n",
       "\n",
       "  emotion_in_tweet_is_directed_at  \\\n",
       "0                          iPhone   \n",
       "1              iPad or iPhone App   \n",
       "2                            iPad   \n",
       "3              iPad or iPhone App   \n",
       "4                          Google   \n",
       "\n",
       "  is_there_an_emotion_directed_at_a_brand_or_product  \n",
       "0                                   Negative emotion  \n",
       "1                                   Positive emotion  \n",
       "2                                   Positive emotion  \n",
       "3                                   Negative emotion  \n",
       "4                                   Positive emotion  "
      ]
     },
     "execution_count": 7,
     "metadata": {},
     "output_type": "execute_result"
    }
   ],
   "source": [
    "data.head()"
   ]
  },
  {
   "cell_type": "markdown",
   "metadata": {
    "colab_type": "text",
    "id": "jPJvTjefH0NI"
   },
   "source": [
    "### 2. Preprocess the text and add the preprocessed text in a column with name `text` in the dataframe."
   ]
  },
  {
   "cell_type": "code",
   "execution_count": 8,
   "metadata": {
    "colab": {},
    "colab_type": "code",
    "id": "5iec5s9gH0NI"
   },
   "outputs": [],
   "source": [
    "\n",
    "def preprocess(text):\n",
    "    try:\n",
    "        \n",
    "        # Remove all the special characters\n",
    "        processed_tweet = re.sub(r'\\W', ' ', text)\n",
    " \n",
    "        # remove all single characters\n",
    "        processed_tweet = re.sub(r'\\s+[a-zA-Z]\\s+', ' ', processed_tweet)\n",
    " \n",
    "        # Remove single characters from the start\n",
    "        processed_tweet = re.sub(r'\\^[a-zA-Z]\\s+', ' ', processed_tweet) \n",
    " \n",
    "        # Substituting multiple spaces with single space\n",
    "        processed_tweet= re.sub(r'\\s+', ' ', processed_tweet, flags=re.I)\n",
    " \n",
    "        # Removing prefixed 'b'\n",
    "        processed_tweet = re.sub(r'^b\\s+', '', processed_tweet)\n",
    " \n",
    "        # Converting to Lowercase\n",
    "        processed_tweet = processed_tweet.lower()\n",
    " \n",
    "        return str(processed_tweet)\n",
    "    \n",
    "    except Exception as e:\n",
    "        return \"\""
   ]
  },
  {
   "cell_type": "code",
   "execution_count": 9,
   "metadata": {
    "colab": {},
    "colab_type": "code",
    "id": "EQSmqA-vH0NT"
   },
   "outputs": [],
   "source": [
    "data['text'] = [preprocess(text) for text in data.tweet_text]"
   ]
  },
  {
   "cell_type": "code",
   "execution_count": 10,
   "metadata": {
    "colab": {},
    "colab_type": "code",
    "id": "7kX-WoJDH0NV"
   },
   "outputs": [
    {
     "data": {
      "text/plain": [
       "(9093, 4)"
      ]
     },
     "execution_count": 10,
     "metadata": {},
     "output_type": "execute_result"
    }
   ],
   "source": [
    "data.shape"
   ]
  },
  {
   "cell_type": "code",
   "execution_count": 11,
   "metadata": {},
   "outputs": [
    {
     "data": {
      "text/html": [
       "<div>\n",
       "<style scoped>\n",
       "    .dataframe tbody tr th:only-of-type {\n",
       "        vertical-align: middle;\n",
       "    }\n",
       "\n",
       "    .dataframe tbody tr th {\n",
       "        vertical-align: top;\n",
       "    }\n",
       "\n",
       "    .dataframe thead th {\n",
       "        text-align: right;\n",
       "    }\n",
       "</style>\n",
       "<table border=\"1\" class=\"dataframe\">\n",
       "  <thead>\n",
       "    <tr style=\"text-align: right;\">\n",
       "      <th></th>\n",
       "      <th>tweet_text</th>\n",
       "      <th>emotion_in_tweet_is_directed_at</th>\n",
       "      <th>is_there_an_emotion_directed_at_a_brand_or_product</th>\n",
       "      <th>text</th>\n",
       "    </tr>\n",
       "  </thead>\n",
       "  <tbody>\n",
       "    <tr>\n",
       "      <th>0</th>\n",
       "      <td>.@wesley83 I have a 3G iPhone. After 3 hrs twe...</td>\n",
       "      <td>iPhone</td>\n",
       "      <td>Negative emotion</td>\n",
       "      <td>wesley83 have 3g iphone after 3 hrs tweeting ...</td>\n",
       "    </tr>\n",
       "    <tr>\n",
       "      <th>1</th>\n",
       "      <td>@jessedee Know about @fludapp ? Awesome iPad/i...</td>\n",
       "      <td>iPad or iPhone App</td>\n",
       "      <td>Positive emotion</td>\n",
       "      <td>jessedee know about fludapp awesome ipad ipho...</td>\n",
       "    </tr>\n",
       "    <tr>\n",
       "      <th>2</th>\n",
       "      <td>@swonderlin Can not wait for #iPad 2 also. The...</td>\n",
       "      <td>iPad</td>\n",
       "      <td>Positive emotion</td>\n",
       "      <td>swonderlin can not wait for ipad 2 also they ...</td>\n",
       "    </tr>\n",
       "    <tr>\n",
       "      <th>3</th>\n",
       "      <td>@sxsw I hope this year's festival isn't as cra...</td>\n",
       "      <td>iPad or iPhone App</td>\n",
       "      <td>Negative emotion</td>\n",
       "      <td>sxsw hope this year festival isn as crashy as...</td>\n",
       "    </tr>\n",
       "    <tr>\n",
       "      <th>4</th>\n",
       "      <td>@sxtxstate great stuff on Fri #SXSW: Marissa M...</td>\n",
       "      <td>Google</td>\n",
       "      <td>Positive emotion</td>\n",
       "      <td>sxtxstate great stuff on fri sxsw marissa may...</td>\n",
       "    </tr>\n",
       "  </tbody>\n",
       "</table>\n",
       "</div>"
      ],
      "text/plain": [
       "                                          tweet_text  \\\n",
       "0  .@wesley83 I have a 3G iPhone. After 3 hrs twe...   \n",
       "1  @jessedee Know about @fludapp ? Awesome iPad/i...   \n",
       "2  @swonderlin Can not wait for #iPad 2 also. The...   \n",
       "3  @sxsw I hope this year's festival isn't as cra...   \n",
       "4  @sxtxstate great stuff on Fri #SXSW: Marissa M...   \n",
       "\n",
       "  emotion_in_tweet_is_directed_at  \\\n",
       "0                          iPhone   \n",
       "1              iPad or iPhone App   \n",
       "2                            iPad   \n",
       "3              iPad or iPhone App   \n",
       "4                          Google   \n",
       "\n",
       "  is_there_an_emotion_directed_at_a_brand_or_product  \\\n",
       "0                                   Negative emotion   \n",
       "1                                   Positive emotion   \n",
       "2                                   Positive emotion   \n",
       "3                                   Negative emotion   \n",
       "4                                   Positive emotion   \n",
       "\n",
       "                                                text  \n",
       "0   wesley83 have 3g iphone after 3 hrs tweeting ...  \n",
       "1   jessedee know about fludapp awesome ipad ipho...  \n",
       "2   swonderlin can not wait for ipad 2 also they ...  \n",
       "3   sxsw hope this year festival isn as crashy as...  \n",
       "4   sxtxstate great stuff on fri sxsw marissa may...  "
      ]
     },
     "execution_count": 11,
     "metadata": {},
     "output_type": "execute_result"
    }
   ],
   "source": [
    "data.head()"
   ]
  },
  {
   "cell_type": "code",
   "execution_count": 12,
   "metadata": {},
   "outputs": [
    {
     "data": {
      "text/plain": [
       "Index(['tweet_text', 'emotion_in_tweet_is_directed_at',\n",
       "       'is_there_an_emotion_directed_at_a_brand_or_product', 'text'],\n",
       "      dtype='object')"
      ]
     },
     "execution_count": 12,
     "metadata": {},
     "output_type": "execute_result"
    }
   ],
   "source": [
    "data.columns"
   ]
  },
  {
   "cell_type": "code",
   "execution_count": 13,
   "metadata": {},
   "outputs": [
    {
     "data": {
      "text/plain": [
       "No emotion toward brand or product    5389\n",
       "Positive emotion                      2978\n",
       "Negative emotion                       570\n",
       "I can't tell                           156\n",
       "Name: is_there_an_emotion_directed_at_a_brand_or_product, dtype: int64"
      ]
     },
     "execution_count": 13,
     "metadata": {},
     "output_type": "execute_result"
    }
   ],
   "source": [
    "data[\"is_there_an_emotion_directed_at_a_brand_or_product\"].value_counts()"
   ]
  },
  {
   "cell_type": "code",
   "execution_count": 14,
   "metadata": {},
   "outputs": [
    {
     "data": {
      "text/plain": [
       "rt mention google to launch major new social network called circles possibly today link sxsw                                                    11\n",
       "rt mention marissa mayer google will connect the digital amp physical worlds through mobile link sxsw                                           10\n",
       "win free ipad 2 from webdoc com sxsw rt                                                                                                          7\n",
       "google to launch major new social network called circles possibly today link sxsw                                                                7\n",
       "at sxsw apple schools the marketing experts link                                                                                                 4\n",
       "marissa mayer google will connect the digital amp physical worlds through mobile link sxsw                                                       4\n",
       "before it even begins apple wins sxsw link                                                                                                       3\n",
       "rt mention new ubersocial for iphone now in the app store includes uberguide to sxsw sponsored by mashable link                                  3\n",
       "rt mention yes updated iphone app has song info mention 24 7 stream others also live video streaming for sxsw link                               3\n",
       "rt mention google to launch major new social network called circles possibly today link sxsw twnp socmedia                                       3\n",
       "rt mention rt mention google to launch major new social network called circles possibly today link sxsw                                          3\n",
       "rt mention it not rumor apple is opening up temporary store in downtown austin for sxsw and the ipad 2 launch link                               3\n",
       "rt mention rt mention it not rumor apple is opening up temporary store in downtown austin for sxsw and the ipad 2 launch link                    3\n",
       "rt mention we interrupt your regularly scheduled sxsw geek programming with big news link google circles                                         3\n",
       "google to launch major new social network called circles link sxsw                                                                               3\n",
       " mention saw r going to sxsw dwnld groundlink app amp ride for 10 in austin during sxswi link see us booth 437                                   3\n",
       "rt mention rt mention traveling to sxsw with your ipad 1 is so 3 10 2011                                                                         2\n",
       "using an ipad for set list sxsw band                                                                                                             2\n",
       " quot mention new ubersocial for iphone now in the app store includes uberguide to sxsw sponsored by mashable link                               2\n",
       " quot mention google to launch major new social network called circles possibly today link sxsw quot                                             2\n",
       "switching to the office ipad for this next session on flipboard gamechanger or passing fad mention should like this one sxsw                     2\n",
       " mention google will connect the digital amp physical worlds through mobile link sxsw rt mention                                                 2\n",
       " apple set to open popup shop in core of sxsw action in downtown austin link ipad                                                                2\n",
       "need to buy an ipad2 while m in austin at sxsw not sure if ll need to up at an austin apple store                                                2\n",
       "rt mention google to launch major new social network called circles possibly today link sxsw via mention                                         2\n",
       "really enjoying the changes in gowalla 3 0 for android looking forward to seeing what else they amp foursquare have up their sleeves at sxsw     2\n",
       "counting down the days to sxsw plus strong canadian dollar means stock up on apple gear                                                          2\n",
       "rt mention don worry you guys found an iphone charger what the deal with hipsters and beards right sxsw                                          2\n",
       "lightbox photos wants to be your new android camera app sxsw link                                                                                2\n",
       "rt mention win free ipad 2 from webdoc com sxsw rt                                                                                               2\n",
       "                                                                                                                                                ..\n",
       "windows in the scarborough building on corner of 6th amp congress blacked out an apple pop up store is being born sxsw welivehere                1\n",
       "cool one ll be there rt mention sxsw friday at 5pm doodle google session link                                                                    1\n",
       "talk about trying to steal the show rt mention apple pop up store popping up in austin for sxsw link sxsw apple ipad2                            1\n",
       " google launching quot major quot new social network at sxsw wonder what that can be                                                             1\n",
       "rt mention rt mention free itunes album sxsw featured artists grab it if you missed it link                                                      1\n",
       " mention yeah we have mention google has nothing on us sxsw                                                                                      1\n",
       "rt mention convinced myself not to upgrade to ipad 2 but then just held one at the sxsw trade show and failed my willpower check                 1\n",
       " sxsw essentials water energy bars smart phone camera map of dt sunglasses rainjacket laptop ipad mp3 player ipod earplugs                       1\n",
       "google supposedly announcing new social networking service called quot circles quot today at sxsw link                                           1\n",
       "rt mention our sxsw app is now on android huge props to mention mention mention amp mobileroadie get it now link                                 1\n",
       "at the android party and kinda embarrassed by my iphone sxsw                                                                                     1\n",
       "possible dì voilement au sxsw rt mention google to launch major new social network called circles possibly today link                            1\n",
       "apple set to open popup shop in austin for sxsw rim hp going to lease stores next door put up ûïcoming soon û signs link                         1\n",
       "following the mention leanux panel from sxsw on realtime on google docs link thanks to mention                                                   1\n",
       "spotted at sxsw table of three people with 8 phones an ipad and macbook out gadgetoverload                                                       1\n",
       "at the apple pop up store on congress ipad 2s everywhere sxsw mosaicxm                                                                           1\n",
       "google to launch major new social network called circles possibly today link sxsw quot                                                           1\n",
       "the hive of innovation but yet every booth at the sxsw trade show had the exact same promotional idea ipad 2 raffle                              1\n",
       "this google bing amp panel is like the world most expensive seo consultation sxsw                                                                1\n",
       "spent 45 mins mention the foursquare lot charging the iphone got it from 29 back up to 75 before getting in line for the digg party sxsw         1\n",
       "just informed you have to take your ipad out when you have quot cluttered bag quot apparently ray technology can see through books wtf sxsw      1\n",
       "wishes he could be at the mention mention mention party at sxsw instead of doing homework for tomorrow                                           1\n",
       "apple saves sxsw set to open pop up store cnet news link sxsw                                                                                    1\n",
       "rt mention google to launch major new social network called circles possibly today mention sxsw sxswi link via mention                           1\n",
       "walked by the mobile apple store in austin line was insane sxsw                                                                                  1\n",
       " sxsw tweeted too fast it appears google may do preview today of circles their new social endeavor                                               1\n",
       " sxsw news google to launch major new social network called circles possibly today link                                                          1\n",
       "rt mention no more stumbling around lost at sxsw stay in contact with your group with the mention iphone application link                        1\n",
       " mention who said you won be able to get the ipad 2 at sxsw apple is opening pop up store in austin for sxsw link                                1\n",
       "                                                                                                                                                 1\n",
       "Name: text, Length: 8951, dtype: int64"
      ]
     },
     "execution_count": 14,
     "metadata": {},
     "output_type": "execute_result"
    }
   ],
   "source": [
    "data[\"text\"].value_counts()"
   ]
  },
  {
   "cell_type": "code",
   "execution_count": 15,
   "metadata": {},
   "outputs": [
    {
     "data": {
      "text/plain": [
       "                                   5802\n",
       "iPad                                946\n",
       "Apple                               661\n",
       "iPad or iPhone App                  470\n",
       "Google                              430\n",
       "iPhone                              297\n",
       "Other Google product or service     293\n",
       "Android App                          81\n",
       "Android                              78\n",
       "Other Apple product or service       35\n",
       "Name: emotion_in_tweet_is_directed_at, dtype: int64"
      ]
     },
     "execution_count": 15,
     "metadata": {},
     "output_type": "execute_result"
    }
   ],
   "source": [
    "data[\"emotion_in_tweet_is_directed_at\"].value_counts()"
   ]
  },
  {
   "cell_type": "markdown",
   "metadata": {
    "colab_type": "text",
    "id": "OGWB3P2WH0NY"
   },
   "source": [
    "### 3. Consider only rows having Positive emotion and Negative emotion and remove other rows from the dataframe."
   ]
  },
  {
   "cell_type": "code",
   "execution_count": 16,
   "metadata": {
    "colab": {},
    "colab_type": "code",
    "id": "bdgA_8N2H0NY"
   },
   "outputs": [],
   "source": [
    "#data_s3_b4 = data.copy()"
   ]
  },
  {
   "cell_type": "code",
   "execution_count": 17,
   "metadata": {
    "colab": {},
    "colab_type": "code",
    "id": "_Jlu-reIH0Na"
   },
   "outputs": [],
   "source": [
    "data = data[data[\"is_there_an_emotion_directed_at_a_brand_or_product\"].isin([\"Positive emotion\",\"Negative emotion\"])]"
   ]
  },
  {
   "cell_type": "code",
   "execution_count": 18,
   "metadata": {},
   "outputs": [
    {
     "data": {
      "text/plain": [
       "(3548, 4)"
      ]
     },
     "execution_count": 18,
     "metadata": {},
     "output_type": "execute_result"
    }
   ],
   "source": [
    "data.shape"
   ]
  },
  {
   "cell_type": "code",
   "execution_count": 19,
   "metadata": {},
   "outputs": [
    {
     "data": {
      "text/plain": [
       "Positive emotion    2978\n",
       "Negative emotion     570\n",
       "Name: is_there_an_emotion_directed_at_a_brand_or_product, dtype: int64"
      ]
     },
     "execution_count": 19,
     "metadata": {},
     "output_type": "execute_result"
    }
   ],
   "source": [
    "data[\"is_there_an_emotion_directed_at_a_brand_or_product\"].value_counts()"
   ]
  },
  {
   "cell_type": "code",
   "execution_count": 20,
   "metadata": {},
   "outputs": [
    {
     "data": {
      "text/html": [
       "<div>\n",
       "<style scoped>\n",
       "    .dataframe tbody tr th:only-of-type {\n",
       "        vertical-align: middle;\n",
       "    }\n",
       "\n",
       "    .dataframe tbody tr th {\n",
       "        vertical-align: top;\n",
       "    }\n",
       "\n",
       "    .dataframe thead th {\n",
       "        text-align: right;\n",
       "    }\n",
       "</style>\n",
       "<table border=\"1\" class=\"dataframe\">\n",
       "  <thead>\n",
       "    <tr style=\"text-align: right;\">\n",
       "      <th></th>\n",
       "      <th>tweet_text</th>\n",
       "      <th>emotion_in_tweet_is_directed_at</th>\n",
       "      <th>is_there_an_emotion_directed_at_a_brand_or_product</th>\n",
       "      <th>text</th>\n",
       "    </tr>\n",
       "  </thead>\n",
       "  <tbody>\n",
       "    <tr>\n",
       "      <th>0</th>\n",
       "      <td>.@wesley83 I have a 3G iPhone. After 3 hrs twe...</td>\n",
       "      <td>iPhone</td>\n",
       "      <td>Negative emotion</td>\n",
       "      <td>wesley83 have 3g iphone after 3 hrs tweeting ...</td>\n",
       "    </tr>\n",
       "    <tr>\n",
       "      <th>1</th>\n",
       "      <td>@jessedee Know about @fludapp ? Awesome iPad/i...</td>\n",
       "      <td>iPad or iPhone App</td>\n",
       "      <td>Positive emotion</td>\n",
       "      <td>jessedee know about fludapp awesome ipad ipho...</td>\n",
       "    </tr>\n",
       "    <tr>\n",
       "      <th>2</th>\n",
       "      <td>@swonderlin Can not wait for #iPad 2 also. The...</td>\n",
       "      <td>iPad</td>\n",
       "      <td>Positive emotion</td>\n",
       "      <td>swonderlin can not wait for ipad 2 also they ...</td>\n",
       "    </tr>\n",
       "    <tr>\n",
       "      <th>3</th>\n",
       "      <td>@sxsw I hope this year's festival isn't as cra...</td>\n",
       "      <td>iPad or iPhone App</td>\n",
       "      <td>Negative emotion</td>\n",
       "      <td>sxsw hope this year festival isn as crashy as...</td>\n",
       "    </tr>\n",
       "    <tr>\n",
       "      <th>4</th>\n",
       "      <td>@sxtxstate great stuff on Fri #SXSW: Marissa M...</td>\n",
       "      <td>Google</td>\n",
       "      <td>Positive emotion</td>\n",
       "      <td>sxtxstate great stuff on fri sxsw marissa may...</td>\n",
       "    </tr>\n",
       "  </tbody>\n",
       "</table>\n",
       "</div>"
      ],
      "text/plain": [
       "                                          tweet_text  \\\n",
       "0  .@wesley83 I have a 3G iPhone. After 3 hrs twe...   \n",
       "1  @jessedee Know about @fludapp ? Awesome iPad/i...   \n",
       "2  @swonderlin Can not wait for #iPad 2 also. The...   \n",
       "3  @sxsw I hope this year's festival isn't as cra...   \n",
       "4  @sxtxstate great stuff on Fri #SXSW: Marissa M...   \n",
       "\n",
       "  emotion_in_tweet_is_directed_at  \\\n",
       "0                          iPhone   \n",
       "1              iPad or iPhone App   \n",
       "2                            iPad   \n",
       "3              iPad or iPhone App   \n",
       "4                          Google   \n",
       "\n",
       "  is_there_an_emotion_directed_at_a_brand_or_product  \\\n",
       "0                                   Negative emotion   \n",
       "1                                   Positive emotion   \n",
       "2                                   Positive emotion   \n",
       "3                                   Negative emotion   \n",
       "4                                   Positive emotion   \n",
       "\n",
       "                                                text  \n",
       "0   wesley83 have 3g iphone after 3 hrs tweeting ...  \n",
       "1   jessedee know about fludapp awesome ipad ipho...  \n",
       "2   swonderlin can not wait for ipad 2 also they ...  \n",
       "3   sxsw hope this year festival isn as crashy as...  \n",
       "4   sxtxstate great stuff on fri sxsw marissa may...  "
      ]
     },
     "execution_count": 20,
     "metadata": {},
     "output_type": "execute_result"
    }
   ],
   "source": [
    "data.head()"
   ]
  },
  {
   "cell_type": "code",
   "execution_count": 21,
   "metadata": {},
   "outputs": [
    {
     "data": {
      "text/plain": [
       "0"
      ]
     },
     "execution_count": 21,
     "metadata": {},
     "output_type": "execute_result"
    }
   ],
   "source": [
    "data.isnull().sum().sum()"
   ]
  },
  {
   "cell_type": "code",
   "execution_count": 22,
   "metadata": {},
   "outputs": [
    {
     "data": {
      "text/plain": [
       "0"
      ]
     },
     "execution_count": 22,
     "metadata": {},
     "output_type": "execute_result"
    }
   ],
   "source": [
    "data[\"is_there_an_emotion_directed_at_a_brand_or_product\"].isnull().sum().sum()"
   ]
  },
  {
   "cell_type": "code",
   "execution_count": 23,
   "metadata": {},
   "outputs": [
    {
     "data": {
      "text/plain": [
       "0"
      ]
     },
     "execution_count": 23,
     "metadata": {},
     "output_type": "execute_result"
    }
   ],
   "source": [
    "data[\"emotion_in_tweet_is_directed_at\"].isnull().sum().sum()"
   ]
  },
  {
   "cell_type": "code",
   "execution_count": 24,
   "metadata": {},
   "outputs": [
    {
     "data": {
      "text/plain": [
       "0"
      ]
     },
     "execution_count": 24,
     "metadata": {},
     "output_type": "execute_result"
    }
   ],
   "source": [
    "data[\"tweet_text\"].isnull().sum().sum()"
   ]
  },
  {
   "cell_type": "markdown",
   "metadata": {
    "colab_type": "text",
    "id": "SotCRvkDH0Nf"
   },
   "source": [
    "### 4. Represent text as numerical data using `CountVectorizer` and get the document term frequency matrix\n",
    "\n",
    "#### Use `vect` as the variable name for initialising CountVectorizer."
   ]
  },
  {
   "cell_type": "code",
   "execution_count": 25,
   "metadata": {
    "colab": {},
    "colab_type": "code",
    "id": "YcbkY4sgH0Ng"
   },
   "outputs": [
    {
     "data": {
      "text/plain": [
       "CountVectorizer(analyzer='word', binary=False, decode_error='strict',\n",
       "        dtype=<class 'numpy.int64'>, encoding='utf-8', input='content',\n",
       "        lowercase=True, max_df=1.0, max_features=None, min_df=1,\n",
       "        ngram_range=(1, 1), preprocessor=None, stop_words=None,\n",
       "        strip_accents=None, token_pattern='(?u)\\\\b\\\\w\\\\w+\\\\b',\n",
       "        tokenizer=None, vocabulary=None)"
      ]
     },
     "execution_count": 25,
     "metadata": {},
     "output_type": "execute_result"
    },
    {
     "name": "stdout",
     "output_type": "stream",
     "text": [
      "{'wesley83': 5775, 'have': 2461, '3g': 91, 'iphone': 2831, 'after': 252, 'hrs': 2609, 'tweeting': 5484, 'at': 463, 'rise_austin': 4433, 'it': 2855, 'was': 5728, 'dead': 1391, 'need': 3547, 'to': 5351, 'upgrade': 5574, 'plugin': 3972, 'stations': 4939, 'sxsw': 5096, 'jessedee': 2887, 'know': 2989, 'about': 173, 'fludapp': 2056, 'awesome': 524, 'ipad': 2821, 'app': 389, 'that': 5247, 'you': 5953, 'll': 3141, 'likely': 3109, 'appreciate': 410, 'for': 2090, 'its': 2858, 'design': 1455, 'also': 312, 'they': 5272, 're': 4237, 'giving': 2268, 'free': 2124, 'ts': 5452, 'swonderlin': 5087, 'can': 876, 'not': 3616, 'wait': 5698, 'should': 4682, 'sale': 4489, 'them': 5258, 'down': 1613, 'hope': 2580, 'this': 5286, 'year': 5935, 'festival': 1982, 'isn': 2850, 'as': 452, 'crashy': 1276, 'sxtxstate': 5124, 'great': 2346, 'stuff': 5007, 'on': 3689, 'fri': 2130, 'marissa': 3285, 'mayer': 3319, 'google': 2308, 'tim': 5322, 'reilly': 4316, 'tech': 5190, 'books': 721, 'conferences': 1151, 'amp': 335, 'matt': 3311, 'mullenweg': 3502, 'wordpress': 5872, 'is': 2847, 'just': 2927, 'starting': 4931, 'ctia': 1319, 'around': 436, 'the': 5249, 'corner': 1226, 'and': 341, 'googleio': 2316, 'only': 3694, 'hop': 2579, 'skip': 4747, 'jump': 2925, 'from': 2139, 'there': 5267, 'good': 2301, 'time': 5324, 'be': 604, 'an': 338, 'android': 346, 'fan': 1922, 'beautifully': 613, 'smart': 4776, 'simple': 4716, 'idea': 2643, 'rt': 4468, 'madebymany': 3237, 'thenextweb': 5263, 'wrote': 5907, 'our': 3739, 'hollergram': 2558, 'http': 2615, 'bit': 677, 'ly': 3219, 'ieavob': 2654, 'counting': 1245, 'days': 1389, 'plus': 3974, 'strong': 4997, 'canadian': 878, 'dollar': 1583, 'means': 3331, 'stock': 4961, 'up': 5567, 'apple': 399, 'gear': 2212, 'excited': 1849, 'meet': 3339, 'samsungmobileus': 4497, 'so': 4810, 'show': 4688, 'my': 3521, 'sprint': 4907, 'galaxy': 2189, 'still': 4958, 'running': 4479, 'fail': 1912, 'find': 2011, 'start': 4929, 'impromptu': 2695, 'parties': 3821, 'with': 5839, 'hurricaneparty': 2626, 'gvlrin': 2399, 'til': 5320, 'comes': 1105, 'out': 3741, 'foursquare': 2111, 'ups': 5579, 'game': 2192, 'in': 2704, 'mp': 3494, 'grn7pk': 2358, 'prefer': 4043, 'gowalla': 2328, 'by': 849, 'far': 1932, 'best': 647, 'looking': 3172, 'date': 1379, 'gotta': 2323, 'love': 3192, 'calendar': 859, 'featuring': 1961, 'top': 5372, 'cases': 906, 'check': 980, 'hamsandwich': 2423, 'via': 5643, 'ischafer': 2849, 'gt': 2379, 'axzwxb': 531, 'tinyurl': 5333, 'com': 1098, '4nqv92l': 109, 'haha': 2413, 'awesomely': 525, 'rad': 4205, 'htdfim': 2611, 'noticed': 3624, 'dst': 1649, 'coming': 1109, 'weekend': 5763, 'how': 2603, 'many': 3271, 'users': 5599, 'will': 5810, 'hour': 2598, 'late': 3026, 'come': 1102, 'sunday': 5041, 'morning': 3474, 'added': 217, 'flights': 2046, 'planely': 3943, 'matching': 3308, 'people': 3871, 'planes': 3944, 'airports': 282, 'downloaded': 1616, 'klm': 2982, 'nicely': 3590, 'done': 1594, 'must': 3516, 'malbonster': 3259, 'lovely': 3196, 'review': 4399, 'forbes': 2091, 'holler': 2557, 'gram': 2335, 'co': 1074, 'g4gzypv': 2178, 'buy': 842, 'ipad2': 2823, 'while': 5786, 'austin': 490, 'sure': 5054, 'if': 2655, 'store': 4971, 'oh': 3676, 'god': 2283, 'pure': 4153, 'unadulterated': 5518, 'easier': 1682, 'browse': 802, 'events': 1821, 'than': 5242, 'website': 5758, 'okay': 3679, 'really': 4253, 'yay': 5931, 'new': 3570, '11': 16, 'kthxbai': 2996, 'photo': 3898, 'installed': 2766, 'which': 5785, 'nice': 3589, 'tumblr': 5459, 'x6t1pi6av7': 5916, 'enjoying': 1768, 'changes': 957, 'forward': 2107, 'seeing': 4578, 'what': 5780, 'else': 1729, 'their': 5256, 'sleeves': 4757, 'laurieshook': 3041, 'smcdallas': 4785, 'pre': 4039, 'party': 3826, 'wed': 5761, 'hoping': 2583, 'win': 5816, 'resulting': 4385, 'shameless': 4643, 'promotion': 4112, 'chevysmc': 991, 'michaelpiliero': 3377, 'someone': 4839, 'started': 4930, 'partnerhub': 3823, 'group': 2363, 'groups': 2368, '4sq3': 111, 'looks': 3174, 'like': 3106, 'going': 2293, 'rock': 4444, 'update': 5570, 'push': 4156, 'tonight': 5361, 'etsbzk': 1809, 'keepaustinweird': 2942, 'were': 5773, 'right': 4422, 'sweeeeet': 5076, 'job': 2895, 'team': 5183, 'very': 5639, 'a3xvwc6': 166, 'may': 3317, 'leave': 3066, 'vuvuzela': 5694, 'home': 2564, 'now': 3631, 'your': 5955, 'are': 424, 'itunes': 2862, 'us': 5587, 'id420666439': 2642, 'mt': 3500, 'mention': 3356, 'ha': 2404, 'first': 2023, 'line': 3117, 'quot': 4199, 'pop': 3994, 'event': 1818, 'planner': 3946, 'eventprofs': 1820, 'pcma': 3854, 'engage365': 1758, 'false': 1918, 'alarm': 290, 'circles': 1022, 'ûòand': 6017, 'probably': 4090, 'ever': 1824, 'link': 3121, 'social': 4812, 'weather': 5748, 'greet': 2350, 'sweater': 5075, 'night': 3595, 'putting': 4163, 'flash': 2037, 'downtown': 1621, 'sell': 4592, 'smartcover': 4777, 'ûª': 6001, 'opens': 3705, 'instant': 2769, 'access': 183, 'waited': 5699, 'get': 2242, 'one': 3691, 'hand': 2424, 'held': 2497, 'hobo': 2550, 'drafthouse': 1623, 'launches': 3038, 'shotgun': 4681, 'hooray': 2575, 'ûï': 6006, 'opening': 3704, 'wooooo': 5867, 'open': 3699, 'midnight': 3384, 'talking': 5160, 'effort': 1714, 'allow': 303, 'systems': 5137, 'bettercloud': 654, '1st': 50, 'stop': 4967, 'chaos': 961, 'hunt': 2624, 'java': 2875, 'spy': 4908, 'chance': 952, 'omfg': 3685, 'heard': 2483, 'pics': 3910, 'already': 311, 'again': 254, 'insane': 2751, 'attending': 474, 'headaches': 2474, 'boooo': 724, 'flipboard': 2048, 'developing': 1479, 'version': 5637, 'says': 4520, 'power': 4026, 'sxswi': 5110, 'do': 1566, 'bands': 558, 'food': 2080, 'art': 441, 'ice': 2638, 'cream': 1283, 'nifty': 3594, 'interactive': 2782, 'maps': 3277, 'holla': 2556, 'butt': 838, 'over': 3749, 'here': 2506, 'case': 905, 'but': 837, 'phone': 3896, 'of': 3661, 'post': 4017, 'makes': 3255, 'easy': 1685, 'connect': 1162, 'all': 300, 'networks': 3566, 'behaving': 629, 'today': 5353, 'crashes': 1274, 'yesterday': 5945, 'ridiculous': 4417, 'hey': 2509, 'fans': 1929, 'peek': 3862, 'space': 4866, 'slated': 4753, 'tomorrow': 5357, 'thing': 5276, 'doing': 1580, 'earth': 1677, 'face': 1902, 'company': 1124, 'her': 2505, 'sxwsi': 5125, 'thanks': 5244, 'speech': 4879, 'apps': 417, 'being': 632, 'showcased': 4690, 'conf': 1149, 'sxswh': 5109, 'sxsh': 5094, 'does': 1575, 'provide': 4124, 'chargers': 966, 've': 5625, 'changed': 955, 'mind': 3397, 'next': 3582, 'xmas': 5921, 'shiny': 4663, 'garyvee': 2201, 'book': 719, 'stores': 4972, 'christmas': 1012, 'nerds': 3556, 'yai': 5928, 'ubersocial': 5502, 'includes': 2712, 'uberguide': 5501, 'sponsored': 4898, 'cont': 1182, 'fast': 1940, 'fun': 2161, 'future': 2168, 'presenting': 4063, 'search': 4563, 'local': 3149, 'mobile': 3437, 'headline': 2477, 'gadget': 2180, 'hmm': 2547, 'could': 1241, 'seen': 4583, 'dataviz': 1378, 'translates': 5416, 'satanic': 4505, 'sayin': 4518, 'launched': 3037, 'checkins': 983, 'month': 3464, 'ago': 264, 'ins': 2750, 'ok': 3678, 'outs': 3747, 'bizzy': 680, 'before': 622, 'tweet': 5477, 'think': 5279, 'speak': 4873, 'mark': 3289, 'belinsky': 634, '911tweets': 148, 'panel': 3793, 'kawasaki': 2940, 'lewis': 3090, 'level': 3088, 'reasoning': 4259, 'continued': 1190, 'existence': 1860, 'evidence': 1834, 'bawling': 599, 'pagemaker': 3782, 'saved': 4510, 'those': 5291, 'jwtatl': 2935, 'enchantment': 1749, 'spark': 4868, 'teamandroid': 5185, 'award': 518, 'read': 4241, 'thoughts': 5295, 'japan': 2872, 'apac': 384, 'regions': 4305, 'dealing': 1395, 'earthquake': 1679, 'tsunami': 5454, 'trauma': 5420, 'schools': 4544, 'marketing': 3294, 'experts': 1875, 'temporary': 5218, 'def': 1413, 'tent': 5225, 'powerhouse': 4029, 'gym': 2400, '6th': 130, 'congress': 1161, 'along': 308, '10': 5, '000': 0, 'happy': 2444, 'hipsters': 2534, 'wins': 5825, 'support': 5049, 'launch': 3036, 'trending': 5428, 'nerdy': 3558, 'christian': 1011, 'devs': 1484, 'want': 5718, 'talk': 5158, 'or': 3715, 'maybe': 3318, 'we': 5744, 'wk': 5847, 'together': 5354, 'cool': 1209, 'me': 3326, 'has': 2450, 'taken': 5150, 'storm': 4974, 'part': 3817, 'haz': 2469, 'ifrom': 2657, 'gr8': 2331, 'stacks': 4916, 'waiting': 5700, 'bought': 742, 'got': 2322, 'mine': 3405, 'no': 3603, 'hassle': 2456, 'handled': 2428, 'perfectly': 3877, 'smallbiz': 4774, 'reviews': 4400, 'play': 3953, 'places': 3937, 'seo': 4603, 'take': 5148, 'major': 3251, 'south': 4862, 'korean': 2994, 'director': 1521, 'gets': 2244, '130': 24, 'make': 3253, 'movie': 3490, 'entirely': 1779, 'his': 2538, 'beautiful': 612, 'pic': 3905, 'sneaky': 4808, 'usual': 5604, 'beta': 651, 'testing': 5233, 'moonbot': 3469, 'studios': 5004, 'louisiana': 3189, 'won': 5860, 'day': 1387, 'ton': 5358, 'sold': 4827, 'everything': 1831, 'except': 1846, '64gig': 126, 'wifi': 5805, 'white': 5788, 'did': 1494, 'manage': 3263, 'yours': 5956, 'known': 2992, 'jeans': 2881, 'configuration': 1153, 'offered': 3664, 'promo': 4110, 'ninjafinder': 3602, 'who': 5790, 'sucks': 5027, 'poursite': 4025, 'learning': 3060, 'life': 3096, 'changing': 958, 'impact': 2681, 'real': 4246, 'actual': 209, 'lives': 3136, 'bravo': 764, 'lonelyplanet': 3164, 'guide': 2388, 'limited': 3114, 'lp': 3206, 'travel': 5421, 'short': 4676, 'lines': 3118, 'left': 3069, 'tradeshow': 5406, 'demo': 1439, 'theatre': 5251, 'see': 4577, 'why': 5799, 'presenters': 4062, 'using': 5602, 'anyone': 376, 'quick': 4192, 'hundred': 2620, 'dollars': 1584, 'ad': 211, 'hoc': 2551, 'cost': 1235, 'monday': 3456, 'barry': 574, 'diller': 1514, 'york': 5952, 'times': 5329, 'lunch': 3214, 'hotel': 2593, 'six': 4734, 'dirty': 1523, 'martinis': 3298, 'mondays': 3457, 'seriously': 4608, 'any': 372, 'constant': 1175, 'causing': 921, 'lost': 3183, 'schedules': 4539, 'sync': 5130, 'wp7': 5897, 'ready': 4245, 'some': 4835, 'ur': 5583, 'blogging': 700, 'conflagration': 1156, 'doofusness': 1602, 'attention': 475, 'ers': 1797, 'rumored': 4474, 'needs': 3549, 'went': 5772, 'lousy': 3191, 'winning': 5824, 'picture': 3911, 'spent': 4886, 'used': 5594, 'couple': 1247, 'city': 1027, 'blocks': 696, 'behind': 631, '100s': 7, 'emails': 1732, 'give': 2263, 'composed': 1139, 'replies': 4354, 'protip': 4120, '10pm': 14, 'block': 693, 'popup': 4001, 'selling': 4593, 'ipad2s': 2824, '2s': 72, 'wild': 5808, 'both': 738, 'say': 4517, 'terrible': 5230, 'takes': 5152, 'video': 5649, 'snapping': 4805, 'away': 522, 'keynote': 2951, 'slides': 4761, 'southwest': 4865, 'sweet': 5079, 'ballroom': 554, 'more': 3472, '35': 85, 'million': 3394, 'miles': 3390, 'per': 3873, 'driving': 1637, 'navigation': 3539, 'growing': 2370, 'band': 557, 'share': 4645, 'track': 5398, 'audience': 483, 'stage': 4918, 'use': 5593, 'frostwire': 2143, 'wi': 5800, 'fi': 1989, 'available': 509, 'don': 1589, 'car': 889, 'zimride': 5977, 'etc': 1807, 'rides': 4414, 'shareable': 4646, 'picked': 3907, 'mophie': 3471, 'battery': 592, 'prep': 4052, 'lugging': 3213, 'laptop': 3016, 'huge': 2618, 'last': 3023, 'rumor': 4473, 'monger': 3460, 'å_': 5992, 'preview': 4071, 'socbiz': 4811, 'fb': 1956, 'yes': 5944, 'please': 3964, 'build': 818, 'less': 3079, '24': 61, 'hours': 2599, 'biggest': 666, 'history': 2540, 'groupme': 2366, 'sounds': 4859, 'incredible': 2716, 'phones': 3897, 'yet': 5946, 'alarms': 291, 'botch': 737, 'timechange': 5325, 'freak': 2122, 'missed': 3417, 'panels': 3796, 'bloody': 702, 'marys': 3300, 'shouts': 4687, 'ladies': 3005, 'holding': 2554, 'shows': 4695, 'photos': 3901, 'sipping': 4726, 'beer': 621, 'cc': 924, 'meant': 3332, 'wish': 5836, 'dyac': 1663, 'stupid': 5012, 'rumors': 4475, 'signs': 4711, 'point': 3980, '15': 29, 'minute': 3412, 'brilliant': 787, 'enlightening': 1770, 'mechanics': 3337, 'presentation': 4060, 'sales': 4490, 'genius': 2234, 'dictaphone': 1491, 'vid': 5648, 'camera': 871, 'wow': 5894, 'cerebellum': 940, 'charged': 964, 'personal': 3885, 'found': 2109, 'kyping': 2999, 'geolocation': 2239, 'releasing': 4327, 'when': 5782, 'background': 536, 'patch': 3839, 'batterykiller': 593, 'live': 3134, 'rsvp': 4467, 'sundayswagger': 5042, 'eventbrite': 1819, '20': 51, 'scoremore': 4552, 'course': 1249, 'built': 821, 'temp': 5215, 'texas': 5237, 'understand': 5529, 'concept': 1144, 'corralling': 1231, 'cattle': 918, 'pickmeupanipad2': 3909, 'didn': 1495, 'let': 3081, 'something': 4841, 'having': 2464, 'retail': 4388, 'near': 3544, 'keep': 2941, 'surprise': 5059, 'opened': 3702, 'town': 5396, 'cnet': 1067, 'ipads': 2830, 'example': 1842, 'layed': 3047, 'registers': 4307, 'checkout': 984, 'gswsxsw': 2378, 'traffic': 5407, 'noon': 3611, 'fresh': 2129, 'shipment': 4664, 'pretty': 4069, 'fingers': 2018, 'crossed': 1303, 'technews': 5199, 'saves': 4511, 'set': 4621, 'tech_news': 5192, 'lt': 3207, 'true': 5442, 'loathe': 3146, 'blogs': 701, 'atx': 480, 'mall': 3260, '10x': 15, 'crowded': 1307, 'fake': 1917, 'fucking': 2154, 'dongle': 1595, 'makeshift': 3256, 'kidding': 2963, 'amazing': 322, 'fanboy': 1924, 'shit': 4668, 'temptation': 5220, 'control': 1194, '5pm': 121, 'view': 5654, 'io': 2817, 'office': 3667, 'news': 3574, 'ûªll': 6002, 'during': 1660, '150': 30, 'few': 1986, 'too': 5363, 'atåê': 482, 'software': 4825, 'development': 1480, 'once': 3690, 'release': 4324, 'working': 5878, 'overheard': 3754, 'relaxing': 4323, 'computer': 1140, 'agreed': 266, 'arg': 428, 'hate': 2457, 'blackberry': 683, 'back': 535, 'shocked': 4671, 'technology': 5202, 'because': 615, 'go': 2281, 'everbody': 1825, 'media': 3338, 'driven': 1634, 'revolutions': 4404, 'better': 653, 'long': 3165, 'work': 5874, 'rather': 4232, 'agileagency': 262, 'knackered': 2983, 'playing': 3960, 'updating': 5573, 'timeline': 5327, 'smashed': 4784, 'partytweets': 3828, 'bed': 618, 'mdw': 3325, 'second': 4573, 'halfway': 2419, 'through': 5301, 'haven': 2462, 'even': 1816, 'boarded': 714, 'plane': 3942, 'amateurhour': 321, 'jobs_co': 2897, 'final': 2006, 'doodles': 1601, 'googledoodle': 2313, 'crowd': 1305, 'tripping': 5436, 'each': 1667, 'other': 3735, 'aclu': 196, '80': 134, 'laughed': 3035, 'until': 5560, 'week': 5762, 'hauling': 2460, 'macbook': 3226, 'everywhere': 1833, 'shoulder': 4684, 'rub': 4469, 'attendees': 473, 'qr': 4169, 'code': 1079, 'reader': 4242, 'image': 2671, 'badge': 542, 'optiscan': 3714, 'four': 2110, 'took': 5366, 'lego': 3071, 'pit': 3926, 'replaced': 4349, 'recharging': 4268, 'station': 4938, 'might': 3388, 'prices': 4075, 'crap': 1266, 'samsung': 4496, 'bad': 541, 'qs': 4173, 'process': 4092, 'poo': 3989, 'poos': 3993, 'ideas': 2645, 'leaves': 3067, 'early': 1672, 'creative': 1288, 'busy': 836, 'gamestorming': 2197, 'trying': 5451, 'balance': 550, 'vs': 5690, 'airplane': 280, 'mode': 3444, '100': 6, 'tweets': 5485, 'precommerce': 4041, 'watch': 5733, 'ipadmadness': 2829, 'shop': 4674, 'core': 1225, 'action': 202, 'celebrate': 926, 'beauty': 614, 'web': 5749, 'msft': 3499, 'ie9': 2653, 'html5': 2613, 'gave': 2206, 'money': 3459, 'relief': 4331, 'had': 2411, 'improve': 2696, 'beyond': 659, 'sharing': 4649, 'positive': 4011, 'actions': 203, 'world': 5881, 'download': 1615, 'earthhour': 1678, '60': 123, 'bing': 671, 'bettersearch': 655, 'shot': 4680, 'success': 5019, 'structured': 4998, 'potentially': 4023, 'higher': 2517, 'margin': 3283, 'cpa': 1261, 'model': 3445, 'results': 4386, 'qagb': 4167, 'impulsive': 2701, 'friends': 2137, 'gen': 2228, '32gb': 84, 'buying': 844, 'geekdate': 2216, 'herself': 2508, 'present': 4059, 'rsq': 4466, 'tuxedo': 5471, 'lose': 3180, 'yourself': 5957, 'exciting': 1851, 'ûªt': 6005, 'certain': 942, 'meetings': 3342, 'hello': 2499, 'dont': 1597, 'miss': 3416, 'charles': 971, 'chen': 989, 'chromeos': 1014, 'booth': 726, 'exhibit': 1857, 'hall': 2420, '1pm': 49, 'guess': 2384, 'desperate': 1465, 'locations': 3154, 'considering': 1172, 'leaving': 3068, 'pro': 4088, 'flying': 2061, 'solo': 4830, 'shipments': 4665, 'daily': 1352, 'follow': 2072, 'appleatxdt': 402, 'updates': 5572, 'seems': 4582, 'battlela': 596, 'secret': 4575, 'batphone': 589, 'tv': 5472, 'league': 3054, 'extraordinary': 1892, 'hackers': 2409, 'lxh': 3218, 'big': 664, 'chunky': 1017, 'elements': 1725, 'generous': 2233, 'clarity': 1031, 'trumps': 5445, 'density': 1451, 'tap': 5163, 'quality': 4178, 'quantity': 4179, 'tapworthy': 5164, 'designing': 1460, 'interfaces': 2786, 'schemas': 4541, 'lovin': 3201, 'digital': 1510, 'sings': 4724, 'into': 2796, 'plays': 3961, 'guitar': 2393, 'record': 4282, 'vids': 5653, 'cnn': 1068, 'cnngrill': 1069, 'thinks': 5281, 'content': 1184, 'nuts': 3642, 'another': 361, 'network': 3564, 'docomo': 1569, 'introduced': 2801, 'years': 5936, 'came': 870, 'jpmobilesummit': 2915, 'jeez': 2883, 'guys': 2398, 'dunno': 1658, 'gold': 2294, 'realize': 4249, 'un': 5515, 'jobs': 2896, 'aesthetic': 246, 'begins': 626, 'tc': 5176, 'techcrunch': 5193, 'winsåê': 5826, 'gonna': 2298, 'sum': 5037, 'pm': 3975, 'winsåêsxsw': 5827, 'badgeless': 543, 'drinks': 1632, 'heading': 2476, 'semantic': 4596, 'fogo': 2069, 'de': 1390, 'chìáo': 1018, 'swag': 5072, 'charging': 969, 'timing': 5330, 'brand': 761, 'winner': 5822, 'pnid': 3976, 'exhibitors': 1858, 'capture': 887, 'experience': 1870, 'retrollect': 4390, 'disc': 1530, 'most': 3477, 'popular': 3999, 'fantastic': 1930, 'schedule': 4536, 'bummer': 826, 'am': 320, 'crackberry': 1264, 'accessory': 187, 'followed': 2073, 'closely': 1054, 'margarita': 3282, 'fav': 1949, 'fell': 1973, 'throwing': 5305, 'nerd': 3551, 'speakeasy': 4874, 'way': 5741, 'figure': 1995, 'replacement': 4350, 'making': 3257, 'stream': 4985, 'inane': 2705, 'surely': 5055, 'southby': 4863, 'hottest': 2597, 'spots': 4902, 'hot': 2592, 'focusing': 2067, 'bridging': 781, 'physical': 3903, 'divide': 1559, 'eg': 1716, 'streetview': 4989, 'hotpot': 2595, 'autonomous': 507, 'folks': 2071, 'posted': 4018, 'blast': 687, 'customers': 1338, 'alcoholics': 294, 'call': 862, 'enabling': 1746, 'rest': 4376, 'bound': 744, 'fanboys': 1926, 'list': 3126, 'ntn': 3636, 'helps': 2504, 'field': 1990, 'kids': 2964, 'hitlantis': 2543, 'song': 4843, 'explorer': 1881, 'musicviz': 3512, 'willing': 5812, 'pick': 3906, 'pay': 3847, 'premium': 4051, 'dm': 1565, 'atl': 465, 'akqas': 286, 'interface': 2785, 'callback': 864, 'principles': 4078, 'examples': 1843, 'person': 3884, 'front': 2140, 'outside': 3748, 'word': 5870, 'forget': 2097, 'snap': 4804, 'air': 277, 'getting': 2245, 'full': 2158, 'underway': 5531, 'tell': 5213, 'intermittent': 2787, 'brick': 779, 'labs': 3003, 'laptops': 3017, 'source': 4861, 'coders': 1081, 'cupcake': 1324, 'windows': 5818, 'addition': 224, 'afraid': 250, 'omg': 3686, 'iphone4': 2832, 'ipod': 2835, 'tab': 5139, 'techgeek': 5195, 'golden': 2295, 'tickets': 5315, '4sq': 110, 'redbullbpm': 4293, 'felix': 1972, 'da': 1348, 'housecat': 2601, 'gsd': 2376, 'blowing': 704, 'much': 3501, 'drink': 1631, 'music': 3509, 'authenticator': 498, 'devices': 1483, 'step': 4952, 'ahead': 268, 'alternative': 315, 'facebook': 1903, 'lets': 3082, 'sites': 4732, 'stand': 4919, 'blocking': 695, 'length': 3076, 'penalty': 3867, 'based': 579, 'severity': 4631, 'breach': 767, 'webmaster': 5756, 'guidelines': 2389, 'text': 5239, 'bgr': 662, '30': 75, 'pen': 3866, 'called': 865, 'possibly': 4016, 'never': 3568, 'beat': 610, 'myspace': 3526, 'bigger': 665, 'gaga': 2184, 'super': 5046, 'interesting': 2784, 'applause': 398, 'privacy': 4084, 'attempt': 470, 'worlds': 5882, 'contextual': 1188, 'discovery': 1535, 'location': 3153, 'context': 1187, 'deeper': 1412, 'searches': 4565, 'without': 5843, 'googletv': 2319, 'connected': 1163, 'connectedtv': 1166, 'fascinating': 1937, 'cnnmoney': 1070, 'craving': 1278, 'minds': 3401, 'created': 1285, 'foodspotting': 2084, 'dude': 1653, 'cutsies': 1343, 'smtravel': 4794, 'hasn': 2455, 'plans': 3948, 'socnet': 4822, 'learned': 3059, 'lot': 3184, 'lots': 3185, 'invites': 2815, 'two': 5494, 'pocket': 3977, 'been': 620, 'place': 3936, 'hawk': 2466, 'enjoy': 1766, 'ride': 4413, 'anywhere': 381, 'groundlink': 2362, '437': 100, 'lordy': 3178, 'pulling': 4143, 'trigger': 5434, 'loved': 3193, 'honesty': 2568, 'products': 4097, 'customer': 1337, 'service': 4616, 'bout': 746, 'donating': 1592, 'spending': 4885, 'wondering': 5863, 'revenue': 4398, 'grossed': 2360, 'account': 192, 'amid': 330, 'strategic': 4982, 'cell': 929, 'glad': 2269, 'lifelinetotheworld': 3098, 'feeling': 1968, 'worst': 5888, 'try': 5450, 'everyone': 1830, 'techiesunite': 5198, 'runs': 4480, 'juice': 2920, 'holy': 2562, 'cow': 1258, 'hooked': 2573, 'paolo': 3803, 'alex': 297, 'backup': 539, 'charger': 965, 'powermat': 4031, 'powermatteam': 4032, 'powermattteam': 4033, 'catch': 914, '22': 59, 'û_': 6000, 'mean': 3328, 'knew': 2984, 'plied': 3967, 'stogies': 4962, 'weasel': 5747, 'thought': 5293, 'would': 5892, 'touched': 5387, 'hmmzies': 2549, 'convention': 1199, 'center': 931, 'fam': 1919, 'showing': 4694, 'frustrated': 2147, 'moment': 3451, 'runaround': 4478, 'att': 468, 'startupbus': 4934, 'addictive': 221, 'spot': 4901, 'data': 1376, 'speed': 4880, 'ios': 2818, 'ppl': 4035, 'friday': 2134, 'queue': 4189, 'centre': 934, 'xd': 5918, 'figuring': 1996, 'wot': 5891, 'clip': 1049, 'joins': 2903, 'sxswgo': 5107, 'room': 4456, 'run': 4477, 'others': 3736, 'cnt': 1072, 'ignite': 2658, 'supporting': 5050, 'smarty': 4783, 'ears': 1676, 'therapy': 5266, 'mac': 3224, 'goodness': 2305, 'zite': 5980, 'intelligent': 2777, 'magazine': 3241, 'deliciousness': 1429, 'youneedthis': 5954, 'interested': 2783, 'indoor': 2724, 'venues': 5633, 'businesses': 835, 'centers': 932, 'soo': 4847, 'invisible': 2812, 'instruments': 2772, 'jaw': 2877, 'dropping': 1642, 'wii': 5806, 'controller': 1195, 'lovemusicapi': 3197, 'rockin': 4447, 'apple_store': 400, 'ipad_2': 2826, 'jailbreak': 2867, 'grateful': 2344, 'fab5': 1900, '70': 131, 'buyers': 843, 'report': 4355, 'socialmedia': 4815, 'remaining': 4338, 'accessories': 186, 'bag': 546, 'exist': 1859, 'feel': 1966, 'antique': 367, 'everytime': 1832, 'turn': 5467, 'messaging': 3364, 'platform': 3952, 'cheeky': 985, 'shoot': 4672, 'display': 1547, 'questions': 4188, 'later': 3028, 'osmpw': 3733, 'performance': 3878, 'accordion': 191, 'toodamnlucky': 5365, 'fear': 1957, '3gs': 92, 'slowpoke': 4770, 'sxswmusic': 5115, 'mocking': 3443, 'flypost': 2062, 'community': 1119, 'bulletin': 823, 'board': 713, 'learn': 3058, 'pedicab': 3861, 'epic': 1788, 'developer': 1477, 'transient': 5413, 'device': 1482, 'bursts': 831, '8pm': 144, 'couch': 1238, 'disliking': 1544, 'twitter': 5490, 'auto': 501, 'shortening': 4678, 'links': 3123, 'clearly': 1041, 'positively': 4012, 'happily': 2443, 'overheating': 3755, 'british': 792, 'sounding': 4858, 'crashing': 1275, 'instead': 2771, 'then': 5262, 'works': 5879, 'sister': 4728, 'tonigh': 5360, 'wilting': 5815, 'under': 5526, 'stress': 4991, 'believe': 633, 'almost': 306, 'always': 318, '40': 96, 'own': 3767, 'geeksrule': 2226, 'taariq': 5138, 'howdy': 2604, 'usguys': 5601, 'smaller': 4775, 'pc': 3852, 'meeti': 3340, 'meeting': 3341, 'jealous': 2879, 'obsolete': 3656, 'these': 5270, 'things': 5277, 'screen': 4556, 'old': 3681, 'explanation': 1878, 'she': 4653, 'instantly': 2770, 'pixieengine': 3935, 'keeps': 2944, 'awake': 517, 'thank': 5243, 'tough': 5390, 'dwindling': 1662, 'help': 2500, 'jeebus': 2882, 'correcting': 1233, 'curse': 1332, 'words': 5873, 'updated': 5571, 'soon': 4848, 'care': 894, 'brazil': 766, 'orkut': 3729, 'threat': 5297, 'pakistan': 3789, 'cwc2011': 1345, 'screenfuture': 4557, 'linking': 3122, 'peeps': 3864, 'product': 4096, 'exists': 1862, 'imac': 2668, 'staring': 4926, 'enough': 1771, 'remember': 4341, 'wth': 5911, 'saw': 4516, 'giant': 2248, 'premiere': 4050, 'screams': 4555, 'since': 4721, 'listening': 3129, 'engaging': 1760, 'heck': 2496, 'happened': 2440, 'buzz': 846, 'ranking': 4226, 'efforts': 1715, 'helping': 2503, 'global': 2274, 'issues': 2852, 'wtf': 5910, 'unabashed': 5517, 'geeky': 2227, 'detailed': 1470, 'colour': 1097, 'coded': 1080, 'proving': 4127, 'organized': 3726, 'whole': 5792, 'raises': 4216, 'half': 2418, 'stillonamacbook': 4960, 'shame': 4641, 'nfusion': 3587, 'inside': 2755, 'marty': 3299, 'unboxing': 5521, 'veterans': 5642, 'reasons': 4260, 'shouldn': 4685, 'made': 3236, 'soundcloud': 4857, 'ambassador': 325, 'upload': 5576, 'reward': 4405, 'alert': 295, 'tablet': 5142, 'finding': 2013, 'needle': 3548, 'haystack': 2468, 'cr': 1262, '48': 104, 'mental': 3355, 'session': 4619, 'taking': 5154, 'doingitwrong': 1581, 'purchased': 4149, 'mexican': 3371, 'mavis': 3315, 'boy': 751, 'bear': 607, 'listen': 3127, 'same': 4494, 'twice': 5487, 'agnerd': 263, 'dairy': 1353, 'relies': 4332, 'evernote': 1826, 'agchat': 256, 'bummed': 825, 'quarantined': 4181, 'kiddie': 2962, 'cold': 1088, 'garageband': 2200, 'comfort': 1106, 'spotted': 4903, 'nfc': 3585, 'enabled': 1744, 'marker': 3290, 'birds': 674, 'wonder': 5861, 'billboard': 668, 'loving': 3202, 'morphie': 3475, 'juicepack': 2922, 'recharge': 4267, 'worth': 5889, 'move': 3486, 'murphy': 3505, 'usa': 5588, 'serve': 4611, 'announcing': 357, 'features': 1960, 'v5': 5615, 'intimate': 2794, 'designflaws': 1459, 'compiling': 1132, 'doc': 1567, 'longer': 3166, 'musicians': 3511, 'kicked': 2959, 'bucket': 812, 'where': 5783, 'within': 5841, 'walking': 5708, 'distance': 1553, 'unequipped': 5534, 'compared': 1125, 'dang': 1365, 'hm': 2546, 'mashable': 3302, 'random': 4220, 'tips': 5336, 'dev': 1474, 'politics': 3986, 'trophy': 5438, 'lookingforwardtothemusicfest': 3173, 'hard': 2446, 'feelings': 1969, 'towards': 5394, 'partner': 3822, '1of': 48, 'dfcbto': 1486, 'launching': 3039, 'anything': 378, 'partying': 3827, 'farooqui': 1936, 'catching': 915, 'grow': 2369, 'purchasing': 4152, 'gamesfortv': 2196, 'extended': 1888, '13': 23, 'nothing': 3622, 'teeming': 5206, 'sea': 4562, 'addicts': 222, 'twittering': 5491, 'engage': 1757, 'anoth': 360, 'trend': 5427, 'opinions': 3707, 'annoying': 359, 'hundreds': 2621, 'attend': 471, 'continuum': 1193, 'attitudes': 476, 'crowdsourcing': 1309, 'gap': 2199, 'hear': 2482, 'third': 5284, 'era': 1794, 'logos': 3161, 'gsdm': 2377, 'highlight': 2518, 'undoubtedly': 5533, 'seconds': 4574, 'softball': 4823, 'fancrazed': 1927, 'preso': 4064, '3d': 90, 'vector': 5626, 'panning': 3800, 'gasps': 2203, 'appreciation': 411, 'tomlinson': 5356, 'tx': 5495, 'observer': 3654, 'subscription': 5016, 'impediment': 2683, 'newsapps': 3576, 'official': 3669, 'jk': 2893, 'kiss': 2979, 'slap': 4752, 'xoom': 5923, 'hit': 2542, 'finds': 2014, 'foods': 2083, 'crave': 1277, 'cnnmoneysxsw': 1071, 'shortcuts': 4677, 'newspaper': 3577, 'caramel': 890, 'macchiato': 3229, 'ouch': 3738, 'hiss': 2539, 'apparently': 391, 'pumps': 4145, 'lava': 3042, 'tmsxsw': 5348, 'showed': 4693, 'off': 3662, 'charge': 963, 'bar': 568, 'table': 5140, 'wanted': 5719, 'across': 199, 'street': 4988, 'weeks': 5764, 'umm': 5512, 'obvious': 3658, 'cough': 1240, 'wouldn': 5893, 'spend': 4884, 'tempted': 5221, 'dexteria': 1485, 'plenty': 3966, 'scarfing': 4529, '65': 128, 'packing': 3776, 'fragmentation': 2114, 'voicefeed': 5681, 'planning': 3947, 'previews': 4072, 'cope': 1216, 'usability': 5589, 'joke': 2905, 'attractive': 479, 'impressive': 2694, 'permanent': 3881, 'finally': 2009, 'dwindled': 1661, 'hook': 2572, 'singing': 4722, 'dancing': 1362, 'high': 2516, 'fives': 2030, 'purchase': 4148, 'pr': 4036, 'stunt': 5011, 'business': 834, 'response': 4373, 'sets': 4623, 'draws': 1628, 'crowds': 1308, 'excellent': 1845, 'untapped': 5559, 'market': 3291, 'site': 4731, 'pour': 4024, 'accessibility': 184, 'sick': 4700, 'problem': 4091, 'living': 3139, 'stories': 4973, 'creating': 1287, 'change': 954, 'hacknews': 2410, 'marketers': 3293, 'professionals': 4098, 'save': 4508, 'reproducing': 4359, 'digitally': 1512, 'organically': 3723, 'consume': 1178, 'information': 2734, 'goggles': 2290, 'marissameyer': 3288, 'retiring': 4389, 'wine': 5820, 'library': 3093, 'moving': 3492, 'onto': 3695, 'grape': 2340, 'yr': 5960, 'thankyouecon': 5246, 'reveals': 4395, 'average': 512, 'nyt': 3648, 'oscars': 3732, '16mins': 40, 'blew': 690, 'congrats': 1158, 'eats': 1689, 'bbq': 601, 'sxswbuffalo': 5103, 'lounge': 3190, 'complete': 1134, 'quibidswin': 4191, 'andoid': 342, 'choice': 1005, 'awards': 519, 'law': 3044, 'averages': 513, '______': 160, 'naomi': 3534, 'campbell': 874, 'rage': 4211, 'rule': 4471, 'ooing': 3696, 'ahing': 272, 'deal': 1394, 'everybody': 1828, 'status': 4941, 'saving': 4513, 'gps': 2329, 'alternate': 314, 'routes': 4461, 'computing': 1142, 'rare': 4229, 'sighting': 4704, 'indeed': 2719, 'internet': 2789, 'though': 5292, 'suggestions': 5033, 'grabbed': 2333, 'seat': 4568, 'setting': 4624, 'bajillions': 549, 'exclusive': 1853, 'fools': 2085, 'spilled': 4888, 'beans': 606, 'sxflip': 5092, 'impressed': 2691, 'slim': 4763, 'form': 2101, 'ness': 3559, 'tried': 5432, 'myself': 3525, 'head': 2473, 'explode': 1879, 'message': 3362, 'brought': 801, 'delicious': 1427, 'often': 3673, 'including': 2713, 'drag': 1624, 'drop': 1640, 'management': 3264, 'talked': 5159, 'developers': 1478, 'meetup': 3344, 'androidsxsw': 347, 'transfer': 5412, 'fetishism': 1985, 'slowly': 4769, 'man': 3262, 'ûò': 6016, 'least': 3064, 'look': 3168, 'fonts': 2079, 'lord': 3177, 'vortex': 5686, 'smugness': 4796, 'unbearable': 5519, 'feed': 1964, 'geek': 2215, 'dokobots': 1582, 'geogames': 2238, 'dangerous': 1366, 'hopefully': 2581, 'fact': 1908, 'flew': 2044, 'emc': 1734, 'enter': 1774, 'sampler': 4495, 'following': 2075, 'qa': 4166, 'insights': 2760, 'webmasters': 5757, 'ipoo': 2837, '4chan': 107, 'bathroom': 588, 'wall': 5710, 'sxswmoot': 5114, 'pdanet': 3855, 'likes': 3110, 'whrrl': 5798, 'marketplace': 3295, 'ol': 3680, 'brits': 793, 'gooddeed': 2303, 'original': 3728, '2nd': 70, 'unveiling': 5564, 'scarborough': 4526, 'building': 819, 'star': 4923, 'ftp': 2151, 'cloudapp': 1058, 'typing': 5498, 'skype': 4751, 'exploring': 1883, 'xml': 5922, 'combines': 1100, 'individuals': 2723, 'single': 4723, 'public': 4138, 'common': 1113, 'tablets': 5143, 'finger': 2016, 'carry': 899, 'lame': 3008, 'expectation': 1866, 'engagement': 1759, 'visual': 5673, 'delving': 1437, 'sxfl': 5091, 'insanely': 2752, 'thin': 5275, 'light': 3100, 'hold': 2553, 'mosaicxm': 3476, 'among': 333, 'missing': 3418, 'dance': 1361, 'outbrain': 3742, 'decided': 1406, 'suggestion': 5032, 'welcome': 5769, 'inferior': 2728, 'released': 4325, 'well': 5771, 'wrong': 5906, 'smell': 4787, 'hereforwork': 2507, 'nottheipad2': 3628, 'glimpse': 2273, 'gadgets': 2182, 'resist': 4366, 'brainwashed': 760, 'thousands': 5296, 'floating': 2049, 'zero': 5976, 'tip': 5334, 'march': 3281, 'letting': 3086, 'test': 5231, 'drive': 1633, 'fix': 2032, 'bloggable': 698, 'forgot': 2099, 'cleveland': 1042, 'hopkins': 2584, 'airport': 281, 'saying': 4519, 'yelp': 5940, 'services': 4617, 'die': 1496, 'discuss': 1537, 'geeks': 2224, 'expecting': 1868, 'flood': 2051, 'debuting': 1401, 'twit': 5488, 'boxee': 749, 'keg': 2945, 'robots': 4443, 'ferris': 1977, 'checked': 981, 'ebay': 1690, 'hackathon': 2407, 'fond': 2077, 'futuremf': 2170, 'trajan': 5410, 'destroyed': 1468, 'title': 5339, 'tag': 5146, 'websites': 5759, 'graph': 2341, 'protocol': 4121, 'clean': 1039, 'formula': 2106, 'goes': 2288, 'presence': 4058, 'weve': 5777, 'heyo': 2510, 'unloading': 5548, 'dis': 1524, 'bars': 576, 'ridic': 4415, 'luck': 3208, 'mexico': 3372, 'sorta': 4853, 'sux': 5069, 'kik': 2966, 'concierge': 1147, 'add': 216, 'user': 5598, 'ask': 454, 'uxdes': 5610, 'little': 3133, 'parents': 3813, 'anymore': 375, 'comment': 1111, 'child': 996, 'ûó': 6018, 'connectedbrands': 1164, 'cover': 1253, 'filming': 2002, 'playback': 3954, 'dense': 1450, 'una': 5516, 'vuelta': 5691, 'por': 4004, 'socialfuel': 4813, 'para': 3809, 'ver': 5634, 'la': 3001, 'gran': 2336, 'diferencia': 1502, 'revolution': 4402, 'clumsily': 1060, 'translated': 5415, 'wishing': 5838, 'ã_': 5989, 'edchat': 1700, 'musedchat': 3506, 'classical': 1034, 'newtwitter': 3581, 'interrupt': 2791, 'regularly': 4313, 'scheduled': 4537, 'programming': 4102, 'creator': 1291, 'create': 1284, 'either': 1720, 'sadly': 4486, 'anybodywanttobuymeanipad2': 374, 'weren': 5774, 'cocky': 1077, 'perhaps': 3879, 'separate': 4604, 'extra': 1891, 'articulate': 444, 'relevant': 4329, 'resourceful': 4369, 'hashable': 2452, 'droid': 1638, 'disgusted': 1541, 'witnessed': 5844, 'homeless': 2565, 'guy': 2396, 'inventory': 2807, 'info': 2732, 'passerby': 3832, 'respect': 4370, 'invited': 2814, 'fill': 1997, 'chair': 946, 'couldn': 1242, 'overblown': 3751, 'mom': 3449, 'boomers': 723, '_¼': 163, 'ä___ü': 5990, '___': 158, '_____': 159, '_µ': 162, 'classiest': 1036, 'fascist': 1938, 'america': 328, 'elegant': 1724, 'rji': 4437, 'mint': 3411, 'confines': 1154, 'coding': 1082, 'luxury': 3217, 'worry': 5886, 'diff': 1503, 'versions': 5638, 'sxswmobileapps': 5113, 'tracks': 5401, 'industry': 2725, 'favorites': 1953, 'breakout': 773, 'artists': 448, 'copy': 1220, 'kindle': 2974, 'thx': 5313, 'keeping': 2943, 'enchanted': 1747, 'lack': 3004, 'newsworthy': 3579, 'announcements': 355, 'unless': 5545, 'count': 1243, 'googlecircles': 2311, 'spread': 4904, 'markets': 3296, 'comers': 1104, 'ordinance': 3720, 'admission': 229, 'recovery': 4286, 'corrupted': 1234, 'crazy': 1280, 'hotels': 2594, 'aus': 489, 'bergstrom': 642, 'midday': 3381, 'mid': 3380, 'outlet': 3745, 'blocked': 694, 'immobile': 2678, 'serves': 4615, 'purpose': 4155, 'taunt': 5171, 'sorry': 4851, 'forever': 2096, 'ning': 3600, 'roadie': 4440, 'thrilled': 5300, 'offer': 3663, 'unofficial': 5552, 'insider': 2756, 'packed': 3775, 'strangeproblems': 4978, '2011': 54, 'novelty': 3629, 'fades': 1911, 'delegates': 1424, 'xipad': 5919, 'killer': 2969, 'photoes': 3900, 'sxswchi': 5104, 'latest': 3029, 'playsxsw': 3963, 'rankings': 4227, 'advice': 244, 'caring': 896, 'psych': 4133, 'dt': 1650, '80s': 136, 'hosted': 2590, 'yeah': 5934, 'cute': 1341, 'girls': 2260, 'ends': 1755, 'shite': 4669, 'sponso': 4897, 'tons': 5362, 'w00t': 5695, 'yeaayyy': 5933, 'story': 4975, 'stay': 4943, 'tuned': 5462, 'wise': 5835, 'fyi': 2174, 'breaking': 772, 'www': 5915, 'divasanddorks': 1558, 'invades': 2805, 'goodguide': 2304, 'scans': 4525, 'barcode': 569, 'rank': 4224, 'environmental': 1785, 'responsibility': 4375, 'pressure': 4068, 'smmnextgen': 4790, 'order': 3717, 'tempt': 5219, 'austintx': 493, 'lying': 3221, 'signal': 4707, 'strength': 4990, 'dedication': 1410, 'sleepy': 4756, 'largest': 3020, 'nexus': 3584, 'useful': 5595, 'maggie': 3243, 'maes': 3240, 'glow': 2277, 'dark': 1370, 'shades': 4636, 'scale': 4522, 'tiny': 5332, 'colors': 1096, 'blue': 706, 'meaningful': 3330, 'optimum': 3712, 'shade': 4635, 'scavenger': 4531, 'hunts': 2625, 'hootsuite': 2578, 'tweetdeck': 5479, 'ceo': 937, 'tells': 5214, 'journey': 2913, 'blinksale': 692, 'iconbuffet': 2640, 'packrat': 3777, 'born': 733, 'lightbulb': 3103, 'turned': 5468, 'passì': 3836, 'wssxsw': 5909, 'zomg': 5983, 'loaded': 3144, 'hoot': 2576, 'ps': 4129, 'tvontheradio': 5474, 'tix': 5341, 'yall': 5929, 'studies': 5003, 'players': 3958, 'petting': 3891, 'paper': 3806, 'useless': 5597, 'beforetwitter': 623, 'such': 5022, 'envy': 1787, 'agree': 265, 'mealtime': 3327, 'details': 1471, 'giveaway': 2264, 'woot': 5869, 'score': 4550, 'handing': 2426, 'pi': 3904, 'whoa': 5791, 'reading': 4244, 'flight': 2045, 'boom': 722, 'important': 2689, 'rite': 4435, 'passage': 3829, 'woo': 5865, 'hoo': 2571, 'il': 2662, 'nc': 3541, 'buzzing': 847, 'geekdom': 2218, 'elevate': 1726, 'yeay': 5938, 'masha': 3301, 'rollout': 4454, 'breath': 775, 'minded': 3398, 'efficient': 1712, 'beats': 611, 'leather': 3065, 'woohoo': 5866, 'standing': 4922, 'popupstore': 4003, 'twitpic': 5489, 'zazzlesxsw': 5971, 'justmet': 2930, 'worked': 5875, '25': 62, 'et': 1806, 'funny': 2166, 'confirmed': 1155, 'applauds': 397, 'freeze': 2127, 'conversion': 1204, 'possibility': 4014, 'ideally': 2644, 'bring': 788, 'socially': 4814, 'lead': 3052, 'doodle': 1600, 'evil': 1835, 'ponies': 3988, 'arm': 432, 'meat': 3335, 'pointer': 3981, 'hilarious': 2523, 'smartphone': 4780, 'land': 3010, 'bus': 832, 'airline': 278, 'mentioned': 3357, 'delightful': 1431, 'drumroll': 1646, 'bt': 809, 'discovr': 1536, 'killing': 2971, 'pubcamp': 4137, 'kirkus': 2978, 'qrank': 4171, 'prizes': 4087, 'saysshewithoutanipad': 4521, 'smileyparty': 4788, 'sn': 4801, 'tunage': 5460, 'leading': 3053, 'getjarsxsw': 2243, 'unique': 5539, 'klick': 2981, 'models': 3446, 'straps': 4981, 'schwag': 4546, 'waste': 5730, 'blogger': 699, 'orange': 3716, 'wodpress': 5852, 'owns': 3770, 'blog': 697, 'grand': 2337, 'tis': 5338, 'covered': 1255, 'sauce': 4507, 'plan': 3940, 'lust': 3215, 'rubbing': 4470, 'escape': 1799, 'rocks': 4449, 'alot': 309, 'sxswnui': 5117, 'denotes': 1449, 'theme': 5259, '1986': 43, 'mae': 3239, 'radio': 4208, 'plug': 3970, 'sound': 4856, 'system': 5136, 'hanging': 2435, 'survival': 5064, 'kit': 2980, '64gb': 125, 'paypal': 3851, 'bored': 731, 'fluffertrax': 2057, 'consulting': 1177, 'avoiding': 515, 'pitfalls': 3929, 'challenges': 950, 'notes': 3619, 'taccsxsw': 5144, 'disaster': 1529, 'died': 1497, 'middle': 3382, 'function': 2162, 'quadroid': 4174, 'qualcomm': 4176, 'decade': 1403, 'wintel': 5828, 'cloud': 1057, '900': 147, '32': 83, 'gb': 2210, 'willpay': 5813, 'zaarly': 5964, 'map': 3272, 'usage': 5590, '59pm': 119, 'pst': 4132, 'trends': 5429, 'angry': 349, 'smackdown': 4772, 'banality': 556, '10am': 11, 'batt': 590, '54': 114, 'notevenstartedyet': 3621, 'worthwhile': 5890, 'improvements': 2698, 'advertising': 243, 'inde': 2718, 'channels': 960, 'uncategorized': 5522, 'rewardswagon': 4407, 'bookbook': 720, '15slides': 36, 'gruber': 2374, 'desk': 1462, 'keyboard': 2950, 'discontinued': 1531, '1991': 45, '169': 38, 'loud': 3187, 'feels': 1970, 'he': 2472, 'writes': 5904, 'wjchat': 5846, 'q7a': 4165, 'zagg': 5966, 'hopes': 2582, 'neat': 3546, 'database': 1377, 'shall': 4639, 'mystery': 3527, 'prize': 4086, 'gift': 2251, 'discotalk': 1532, '15k': 35, 'pdf': 3856, 'investment': 2809, 'small': 4773, 'mags': 3249, 'chris': 1010, 'formerly': 2105, 'obs': 3651, 'ap': 383, 'setup': 4627, 'restaurant': 4377, 'page': 3781, 'sign': 4706, 'hi': 2513, 'door': 1603, 'invite': 2813, 'goona': 2320, 'ass': 459, '3rd': 94, 'charm': 972, 'randomly': 4221, 'sandwich': 4499, 'edible': 1702, 'wrapper': 5900, 'welivehere': 5770, 'featured': 1959, 'watching': 5735, 'simultaneously': 4719, 'force': 2093, 'mmm': 3432, 'beluga': 636, 'coordinate': 1215, 'sxsw4japan': 5099, 'selfish': 4591, 'microsoft': 3379, 'served': 4612, 'engine': 1761, 'techies': 5197, 'harnessing': 2448, 'collective': 1093, 'stolen': 4965, 'months': 3466, 'highly': 2520, 'recommend': 4277, 'goodcustomerservice': 2302, 'discover': 1533, 'bro': 795, 'posed': 4008, 'asking': 456, 'absolute': 176, 'portable': 4006, 'pushed': 4157, 'paperless': 3807, 'biz': 679, 'card': 892, 'solution': 4831, 'tempting': 5222, 'related': 4319, 'rm': 4438, 'lovefresh': 3194, 'nat': 3535, 'geo': 2237, 'article': 442, 'cooler': 1211, 'current': 1331, 'arctic': 422, 'explorers': 1882, 'mistakes': 3422, 'netflix': 3562, 'cwebb': 1346, 'grant': 2338, 'hill': 2524, 'yikes': 5948, 'reached': 4239, 'fanboyism': 1925, 'literally': 3131, 'asleep': 458, 'touch': 5386, 'trackpads': 5400, 'positives': 4013, 'natural': 3537, 'sit': 4729, 'relaxed': 4322, 'wohooo': 5854, 'tnx': 5350, 'red': 4290, 'cross': 1302, 'hands': 2429, 'exquisite': 1887, 'clipcon': 1050, 'intro': 2800, 'reel': 4296, 'suasxsw': 5015, 'sxswaccel': 5100, 'entrepreneur': 1780, 'ceokidschat': 938, 'writer': 5903, 'dawn': 1385, 'circle': 1021, 'result': 4384, 'geekdilemma': 2217, 'ipad1': 2822, 'wipes': 5830, 'donates': 1591, 'mrs': 3498, 'adfonic': 227, 'ðü': 5997, 'lol': 3162, 'gadgetzilla': 2183, 'scared': 4528, 'netbook': 3561, 'fully': 2160, 'granted': 2339, 'edit': 1703, '4square': 112, 'zap': 5968, 'kno': 2987, 'dell': 1436, 'richard': 4411, 'mercy': 3361, 'bb': 600, 'torch': 5378, 'webmail': 5755, 'suppose': 5051, 'cheers': 987, 'eagerly': 1668, 'brain': 758, 'apologies': 388, 'randy': 4222, 'ads': 238, 'popping': 3996, 'algorithm': 298, 'skewed': 4741, 'queries': 4185, 'film': 2000, 'filmaster': 2001, 'screenings': 4559, 'private': 4085, 'recommendations': 4279, 'doesn': 1577, 'sense': 4601, 'limit': 3113, 'specific': 4878, 'interview': 2792, 'takeaway': 5149, 'continuous': 1192, 'teach': 5181, 'tax': 5172, 'write': 5902, 'kinda': 2973, 'essential': 1802, 'underwire': 5532, 'wired': 5831, 'informal': 2733, 'unscientific': 5556, 'observation': 3652, 'contest': 1186, 'alive': 299, 'talks': 5161, 'jonathan': 2906, 'dahl': 1350, 'minimalistprogramming': 3408, 'marissagoogle': 3286, 'realized': 4250, 'havnt': 2465, 'thursday': 5310, 'sprinkle': 4906, 'approval': 414, 'woes': 5853, 'whowillrise': 5797, 'quite': 4198, 'grumbling': 2375, 'v2': 5613, 'meetups': 3345, 'virtualwallet': 5667, 'iphone5': 2833, 'bc': 602, 'standardization': 4921, 'confusion': 1157, 'monthly': 3465, 'value': 5620, '50': 113, 'utility': 5606, 'valuable': 5619, 'sxsweisner': 5105, 'dl': 1564, 'calyp': 868, 'avail': 508, 'analytics': 340, 'offsite': 3672, 'virtual': 5664, 'views': 5658, 'javascript': 2876, 'moreknowledge': 3473, 'mitharvard': 3424, 'view512': 5655, 'sters': 4955, 'umshini': 5514, 'wam': 5713, 'fishing': 2025, 'weird': 5768, 'said': 4488, 'liked': 3108, 'esp': 1800, 'footage': 2088, 'revolt': 4401, 'vegan': 5628, 'lazy': 3049, 'smurf': 4797, 'rear': 4256, 'facing': 1906, 'gives': 2267, 'otherwise': 3737, 'actually': 210, 'task': 5166, 'fxsw': 2173, 'courtesy': 1250, 'stranger': 4979, 'investor': 2810, 'utter': 5608, 'cheaper': 979, 'scheduling': 4540, 'flummoxed': 2059, 'shooting': 4673, 'videos': 5652, 'offers': 3666, 'gamelayer': 2194, 'hhrs': 2512, 'guest': 2386, 'godsend': 2285, 'aware': 520, 'lonely': 3163, 'planet': 3945, 'releases': 4326, 'aren': 427, 'cluttering': 1062, 'handset': 2430, 'bank': 563, '250k': 63, 'bankinnovation': 566, 'barging': 571, 'tables': 5141, 'failure': 1915, 'thingsthatdontgotogether': 5278, 'lisa': 3125, 'rinna': 4427, 'rosso': 4457, 'paste': 3838, 'recipe': 4269, 'mothers': 3480, 'generated': 2231, 'leanstartup': 3057, 'supply': 5048, 'chain': 945, 'walmart': 5712, 'behance': 627, 'deleting': 1426, 'loading': 3145, 'draining': 1625, 'cancel': 879, 'recap': 4265, 'seemingly': 4581, 'relive': 4335, 'graphics': 2343, 'faster': 1943, 'motorola': 3482, 'evaporation': 1815, 'tools': 5370, 'approves': 416, 'irelay': 2840, 'project': 4105, 'manager': 3265, 'nowhammies': 3632, 'turning': 5469, 'listened': 3128, 'betterthingstodo': 656, 'freaking': 2123, 'question': 4186, 'trucks': 5441, 'jobsco': 2898, 'clever': 1043, 'recognition': 4273, 'seriousness': 4609, 'cant': 881, 'spell': 4882, 'checking': 982, 'correct': 1232, 'grrr': 2372, 'wrapping': 5901, 'posterous': 4019, 'pile': 3917, 'socmedia': 4821, 'square': 4910, 'credit': 1294, 'amazingly': 323, 'load': 3143, 'feelin': 1967, 'every': 1827, '6hours': 129, 'lowest': 3203, 'possible': 4015, 'brightness': 785, 'basics': 583, 'hallway': 2422, 'ux': 5609, 'ia': 2634, 'unite': 5540, 'rachael': 4204, 'harris': 2449, 'doesdroid': 1576, 'puts': 4162, 'famous': 1921, 'artworks': 450, 'billion': 669, 'pixels': 3934, 'allowing': 304, 'zoom': 5985, 'different': 1505, 'trip': 5435, 'museums': 3508, 'edtech': 1706, 'innovators': 2748, 'bringing': 789, 'griddler': 2353, 'lustre': 3216, 'pearl': 3859, '36': 86, 'study': 5005, 'mktg': 3431, 'discussion': 1539, 'flask': 2039, 'sitting': 4733, '9th': 156, 'st': 4914, 'aicn': 273, 'screening': 4558, 'prepared': 4055, 'iloveasurprise': 2666, 'asked': 455, 'remove': 4345, 'deadly': 1393, 'death': 1398, 'valley': 5618, 'wsj': 5908, 'branded': 762, 'native': 3536, 'send': 4599, 'videogame': 5650, 'shat': 4651, 'tear': 5188, 'newapplestoreaustin': 3571, 'target': 5165, 'awesometiming': 527, 'excuse': 1854, 'percentage': 3875, 'participants': 3819, 'walked': 5706, 'appolicious': 409, 'messages': 3363, 'entertaining': 1777, 'phenomenal': 3894, 'venturebeat': 5631, 'appears': 396, 'vb': 5623, 'vicariously': 5646, 'damn': 1358, 'rocking': 4448, 'spasmatics': 4869, 'hp': 2606, 'congratulation': 1159, 'spin': 4890, 'whatcha': 5781, 'television': 5211, 'expierence': 1876, 'spoken': 4896, 'danny': 1369, 'sullivan': 5036, 'larger': 3019, 'kill': 2967, 'wings': 5821, 'drivers': 1635, 'fuel': 2157, 'sem': 4595, 'googlemaps': 2317, 'topnews': 5375, 'matthew': 3313, 'davis': 1382, 'strip': 4994, 'quibids': 4190, 'custom': 1335, 'wearing': 5746, 'openbeta': 3700, 'vip': 5661, 'traded': 5405, 'piece': 3914, 'awesomeness': 526, 'arduino': 423, 'flaming': 2034, 'skulls': 4748, 'smartthings': 4782, 'sharers': 4648, 'join': 2901, 'aos': 382, 'ginger': 2257, 'cards': 893, 'exchange': 1848, 'serious': 4607, 'style': 5013, 'conv': 1196, 'cntr': 1073, 'fashion': 1939, 'gaining': 2187, 'movers': 3488, 'shakers': 4637, 'loyalists': 3204, 'nearly': 3545, 'anyones': 377, 'smarter': 4778, 'knowing': 2990, 'sched': 4535, 'suggest': 5031, 'cursor': 1334, 'btw': 810, 'speaking': 4875, 'surpassed': 5057, 'online': 3693, 'past': 3837, 'discusses': 1538, 'answer': 362, 'ratings': 4234, 'kek': 2946, 'vp': 5689, 'consumer': 1179, 'focus': 2065, 'demoed': 1441, 'augmented': 486, 'reality': 4248, 'webvisions': 5760, 'wil': 5807, 'thats': 5248, 'loyalty': 3205, 'quicker': 4193, 'responses': 4374, 'fh': 1988, 'enable': 1743, 'douche': 1609, 'cake': 858, 'crowley': 1310, 'dodgeball': 1573, 'chrome': 1013, 'calls': 867, 'tub': 5456, 'steamy': 4950, 'mindshare': 3402, 'rim': 4424, 'mnbuzz': 3434, 'berkowitz': 644, 'rfid': 4409, 'ncf': 3543, 'bullish': 824, 'sxswgood': 5108, 'globalbestaward': 2275, 'hmmm': 2548, 'quotable': 4200, 'flip': 2047, 'somebody': 4836, 'consistently': 1174, 'type': 5497, 'goddamn': 2284, '8am': 142, '30pm': 81, 'usefulness': 5596, 'redbull': 4292, 'bpm': 755, 'dj': 1561, 'powering': 4030, 'dtas': 1651, 'republic': 4360, 'charity': 970, 'water': 5736, 'throwin': 5304, 'studentsforcleanwater': 5002, 'org': 3721, 'fusion': 2167, 'election': 1722, 'visualization': 5675, 'greeted': 2351, 'lindsay': 3116, 'stillman': 4959, 'birth': 675, 'fuck': 2153, 'him': 2526, 'wwsxsw': 5914, 'walk': 5705, 'lady': 3006, 'bird': 673, 'lake': 3007, 'trusted': 5447, 'ironic': 2844, 'tee': 5205, 'usurped': 5605, 'hipster': 2532, 'chic': 994, 'item': 2856, 'frankeninterface': 2121, 'designed': 1456, 'metaphor': 3369, 'uses': 5600, 'macallan': 3225, 'successful': 5020, 'sessions': 4620, 'glass': 2270, 'malt': 3261, 'recording': 4284, 'voluntarily': 5683, 'greatest': 2349, 'collection': 1092, 'egomaniacs': 1717, 'dream': 1629, 'steve': 4956, '188': 42, 'parts': 3825, 'suicidal': 5034, 'chinese': 1001, 'tastes': 5167, 'skills': 4745, 'eventseekr': 1822, 'smyle': 4800, 'chat': 974, 'shared': 4647, 'whiteboarding': 5789, 'vintage': 5660, 'format': 2102, 'mostly': 3478, 'ipods': 2836, 'snarky': 4806, 'employees': 1738, 'ah': 267, 'saveustechies': 4512, 'surui': 5062, 'carbon': 891, 'hls': 2545, 'dynamic': 1664, 'insertion': 2754, 'kid': 2961, 'atari': 464, '800': 135, 'able': 172, 'crowdbeacon': 1306, 'put': 4161, 'becoming': 617, 'congratulations': 1160, 'sent': 4602, 'seesmic': 4586, 'convince': 1206, 'comedy': 1103, 'ustream': 5603, 'skyfire': 4749, 'browser': 803, 'safari': 4487, 'eating': 1688, 'coolhaus': 1213, 'airs': 283, 'crew': 1297, 'ripped': 4430, 'crunch': 1311, 'crippling': 1299, 'voice': 5680, 'regular': 4312, 'texting': 5240, 'pants': 3802, 'dock': 1568, 'expect': 1865, 'insidious': 2757, 'approaches': 413, 'subscriptions': 5017, 'disgraceful': 1540, 'libraries': 3092, 'bjdproductions': 681, 'security': 4576, 'guard': 2381, 'unimitated': 5538, 'fingerprint': 2017, 'scan': 4523, '1990style': 44, 'bldg': 688, 'appstore': 418, 'wholistic': 5793, 'awareness': 521, 'strategy': 4983, 'adoption': 236, 'rely': 4337, 'ordered': 3718, 'wasting': 5732, 'fellowship': 1975, 'discovered': 1534, 'conversation': 1202, 'icebreaker': 2639, 'acerbic': 193, 'cynical': 1347, 'crashed': 1272, 'dumped': 1657, 'twitterpower': 5492, 'imthatgood': 2703, 'lasts': 3024, 'awkward': 529, 'framework': 2115, 'lovers': 3198, 'tiff': 5317, 'disappointingly': 1528, 'friendly': 2136, 'ridiculously': 4418, 'al': 287, 'franken': 2120, 'justin': 2928, 'timberlake': 5323, 'unexpected': 5535, 'bonus': 717, 'waking': 5703, '4am': 105, 'communication': 1117, 'bemyneighbor': 637, 'flaw': 2041, 'switch': 5085, 'ipaddesignheadaches': 2827, 'headed': 2475, 'integrated': 2773, 'dynamics': 1665, 'synergy': 5135, 'draw': 1626, 'artist': 446, 'trust': 5446, 'zappos': 5969, 'likability': 3105, 'virgin': 5662, 'focuses': 2066, 'object': 3649, 'survive': 5065, 'succeed': 5018, 'nike': 3597, 'sneakers': 4807, 'geekout': 2223, 'traveller': 5424, 'rpg': 4465, 'stood': 4966, 'minutes': 3413, 'fuckyeah': 2156, 'sam': 4493, 'licked': 3094, 'mapquest': 3276, 'reacquainted': 4240, 'mq': 3496, 'embarrassed': 1733, 'uber': 5500, 'localmind': 3150, 'incredibly': 2717, 'annoyed': 358, 'ui': 5509, 'ain': 276, 'fat': 1946, 'ûªs': 6004, 'projects': 4108, 'obv': 3657, 'friend': 2135, 'jeff': 2884, 'helped': 2501, 'especially': 1801, '15am': 34, 'ya': 5927, 'psyched': 4134, 'infact': 2726, 'cobra': 1075, 'iradar': 2839, 'detection': 1473, 'ferriss': 1978, 'pie': 3913, 'mylunch': 3523, 'forbidden': 2092, 'spoiled': 4894, 'decision': 1408, 'id': 2641, 'perfect': 3876, 'lists': 3130, 'gtd': 2380, 'syncs': 5134, 'cuz': 1344, 'hilton': 2525, 'salon': 4492, 'filling': 1999, 'quickly': 4194, 'surprises': 5060, 'skill': 4743, 'havent': 2463, 'mccannsxsw': 3324, 'disappointed': 1527, 'overlapping': 3757, 'spins': 4892, 'arsenal': 440, 'jinx': 2892, 'ran': 4218, 'fest': 1980, 'fellow': 1974, 'festgoers': 1981, 'alan': 289, 'turing': 5465, 'robot': 4442, 'consumerization': 1181, 'empowered': 1739, 'kh': 2954, 'heavier': 2493, 'giddy': 2250, 'theindustryparty': 5255, 'non': 3608, 'swsurrogates': 5089, 'notpouting': 3626, 'body': 715, 'health2dev': 2481, 'anybody': 373, 'stuck': 5001, 'downloading': 1617, 'startup': 4933, 'gonnagetanipad2': 2299, 'pillow': 3919, 'numbassonfloor': 3639, 'srsly': 4913, 'excludes': 1852, 'insists': 2761, 'disney': 1545, 'spazmatics': 4871, 'franchised': 2116, 'dgtltribe': 1489, 'openbeta6': 3701, 'squeeze': 4912, 'total': 5382, 'scene': 4532, 'spoke': 4895, 'cautiously': 922, 'optimistic': 3710, 'alerts': 296, 'happen': 2439, 'country': 1246, 'united': 5541, 'states': 4937, 'sxswsa': 5120, 'dfp': 1487, 'insight': 2758, 'managing': 3266, 'campaigns': 873, 'measurement': 3333, 'hisxsw': 2541, 'liking': 3111, 'sixth': 4735, 'avenue': 511, 'whale': 5779, '14': 25, 'madness': 3238, 'autocorrect': 502, 'coworkers': 1260, 'visigoths': 5668, 'five': 2029, 'hipstamatic': 2530, 'convore': 1208, 'mashbash': 3303, 'statement': 4936, 'dammit': 1357, 'isack': 2848, 'sweeeet': 5077, 'special': 4877, 'tries': 5433, 'foot': 2087, 'newest': 3572, 'interviewed': 2793, 'thoora': 5290, 'xwave': 5926, 'headsets': 2480, 'notice': 3623, 'prodmktg': 4093, 'recomds': 4276, 'recommends': 4281, 'evolvingworkplace': 1839, 'webdoc': 5753, 'chip': 1002, 'brings': 790, 'browsing': 805, 'boost': 725, 'hungry': 2623, 'mekong': 3349, 'river': 4436, 'term': 5227, 'web3': 5750, 'saatchiny': 4482, 'someday': 4837, 'swsx': 5090, 'volume': 5682, 'overwhelming': 3764, 'self': 4590, 'police': 3983, 'curatedebate': 1328, 'leaning': 3056, 'conventions': 1200, 'buttons': 840, 'basis': 584, 'ex': 1840, 'stealing': 4947, 'yrs': 5961, 'mkt': 3430, 'passing': 3834, 'hipstermuch': 2533, 'starts': 4932, 'germ': 2240, 'towel': 5395, 'projecting': 4107, 'profits': 4100, 'alone': 307, 'palette': 3790, 'truck': 5440, 'parked': 3816, 'profile': 4099, 'entry': 1781, 'digg': 1507, 'hireme': 2536, 'hire': 2535, 'qualified': 4177, 'talented': 5156, 'women': 5859, 'consciously': 1170, 'startups': 4935, 'achieve': 194, 'tops': 5376, 'mentionr': 3359, 'visit': 5669, 'wozniak': 5896, 'h4ckers': 2403, 'popped': 3995, 'dreams': 1630, 'ûªm': 6003, 'clothes': 1056, 'compatible': 1126, 'nextflix': 3583, 'hide': 2515, 'straw': 4984, 'lbs': 3051, 'commandeered': 1110, 'relinquish': 4334, 'sxsw11': 5097, 'yo': 5949, 'hated': 2458, 'ubertwitter': 5503, 'waves': 5740, 'webber': 5752, 'searching': 4566, 'cmswire': 1064, 'web30': 5751, 'js': 2918, 'winwin': 5829, 'tigerblood': 5318, 'dear': 1397, 'roll': 4452, 'dog': 1578, 'cart': 901, 'dogs': 1579, 'girl': 2258, 'sharp': 4650, 'strums': 5000, 'installing': 2767, 'paying': 3848, 'dividends': 1560, 'layer': 3048, 'breathtaking': 776, 'shitty': 4670, 'steals': 4948, 'met': 3368, 'ftw': 2152, 'beechwood': 619, 'several': 4628, 'reason': 4257, 'sxsw2011': 5098, 'followers': 2074, 'competitors': 1131, 'eurosxsw': 1813, 'tidbit': 5316, 'echofon': 1693, 'ûïmute': 6012, 'functions': 2164, 'somehow': 4838, 'mozilla': 3493, 'crapkit': 1267, 'webkit': 5754, 'gecko': 2213, 'bandwaggoners': 559, 'woah': 5851, 'cited': 1025, 'opposite': 3709, 'proprietary': 4116, 'csuitecsourcing': 1318, 'amused': 336, 'bahahahaha': 548, 'heatmap': 2488, 'leveraging': 3089, 'quiet': 4195, 'select': 4587, 'streams': 4987, 'incl': 2709, 'streaming': 4986, 'nailed': 3530, 'boundaries': 745, 'offline': 3671, 'bluetooth': 708, 'convinced': 1207, 'trade': 5404, 'failed': 1913, 'willpower': 5814, 'supposed': 5052, 'downstairs': 1620, 'cult': 1320, 'iphones': 2834, 'passed': 3830, 'easily': 1683, 'joined': 2902, 'heaving': 2494, 'flow': 2055, 'showcasing': 4692, 'completely': 1135, 'coffee': 1083, 'issue': 2851, 'solving': 4834, 'handsome': 2431, 'grabs': 2334, 'selection': 4589, 'heavy': 2495, 'duh': 1655, 'sees': 4585, 'evolving': 1838, 'converge': 1201, 'yield': 5947, 'mindjet': 3399, 'mindmanager': 3400, 'prefers': 4048, 'hyped': 2632, 'meh': 3348, 'bang': 561, 'vegas': 5629, 'ces': 944, 'warmer': 5723, 'articles': 443, 'touchingstories': 5389, 'fr': 2112, 'recs': 4288, 'end': 1750, 'sloanxsw': 4766, 'staying': 4944, 'indie': 2721, 'kind': 2972, 'downer': 1614, 'coronasdk': 1227, 'delay': 1422, 'catphysics': 917, 'drug': 1644, 'pusher': 4158, 'international': 2788, 'note': 3618, 'downside': 1619, 'mocked': 3442, 'announced': 353, 'changer': 956, 'happening': 2441, 'interact': 2781, 'megastore': 3347, 'sabotaged': 4484, 'youtube': 5958, 'entire': 1778, 'ecosystem': 1698, 'lifetime': 3099, 'scanner': 4524, 'creators': 1292, 'abandoned': 169, 'stopped': 4968, 'normal': 3614, 'lap': 3015, 'taxi': 5173, 'magic': 3244, 'cabs': 856, 'suspense': 5067, 'dennis': 1448, 'owners': 3769, 'looked': 3170, 'lighters': 3104, 'concert': 1145, 'essentials': 1804, 'energy': 1756, 'sunglasses': 5043, 'rainjacket': 4214, 'mp3': 3495, 'player': 3957, 'earplugs': 1675, 'somewhere': 4842, 'ausxsw': 496, 'chatting': 976, 'banged': 562, 'explaining': 1877, 'realistic': 4247, 'bots': 740, 'experiment': 1872, 'gee': 2214, 'intrvw': 2804, 'govt': 2327, 'vending': 5630, 'machine': 3230, 'svcs': 5071, 'teaching': 5182, 'wew': 5778, 'badger': 544, 'angel': 348, 'playbook': 3955, 'refine': 4300, 'protect': 4118, 'smut': 4798, 'presented': 4061, 'larry': 3021, 'elevation': 1727, 'roof': 4455, 'deep': 1411, 'eddy': 1701, 'tea': 5180, 'vodka': 5679, 'factor': 1909, '120': 20, 'letter': 3084, 'wrap': 5899, 'hacker': 2408, 'debuts': 1402, 'steampunk': 4949, '37': 88, 'ft': 2150, 'reclaimed': 4272, 'copper': 1218, 'piping': 3922, 'mini': 3407, 'maglight': 3245, 'etch': 1808, 'sketch': 4739, 'engineer': 1762, 'misstatements': 3420, 'payingwithdata': 3849, 'mega': 3346, 'tether': 5235, 'chargin2diffphonesatonce': 968, 'dorkinout': 1604, 'gamechanger': 2193, 'wave': 5739, 'doubt': 1608, 'apparent': 390, 'removable': 4344, 'batteries': 591, 'alwayshavingtoplugin': 319, 'l8er': 3000, 'closer': 1055, 'owner': 3768, 'stoked': 4963, 'finals': 2010, 'alas': 292, 'overtaken': 3762, 'ahh': 270, 'wonderful': 5862, 'ordering': 3719, 'urs': 5585, 'experimenting': 1873, 'tinkering': 5331, 'nineties': 3599, 'viewed': 5656, 'suffering': 5030, 'donation': 1593, 'program': 4101, 'house': 2600, 'farmers': 1934, 'mobilefarm': 3438, 'double': 1606, 'bloomberg': 703, 'kick': 2957, 'basically': 582, 'foing': 2070, 'potential': 4022, 'applications': 408, 'pair': 3786, 'general': 2229, 'album': 293, 'grab': 2332, 'bruises': 806, 'panelists': 3795, 'regarded': 4303, 'sustainability': 5068, 'corporate': 1228, 'reporting': 4356, 'transparency': 5417, 'dailies': 1351, 'evolve': 1837, 'impossible': 2690, 'mb': 3322, 'downloads': 1618, 'gig': 2252, 'color': 1095, 'preference': 4044, 'sans': 4502, 'techrockstar': 5203, 'priority': 4083, 'smokes': 4791, 'replacing': 4351, 'cam': 869, 'default': 1414, 'pitch': 3927, 'omgz': 3687, 'golds': 2296, 'sooo': 4849, 'amismarternow': 332, 'acknowledge': 195, 'increase': 2715, 'incorrect': 2714, 'shakespeare': 4638, 'pub': 4136, 'delete': 1425, 'button': 839, 'brisk': 791, 'sxxpress': 5126, 'austinites': 492, 'couchfan': 1239, 'lovesit': 3200, 'tramplings': 5411, 'letushopenot': 3087, 'poppop': 3998, 'killers': 2970, 'between': 657, 'letschangetheworld': 3083, 'dominance': 1587, 'compels': 1127, 'frickin': 2131, 'cabbies': 853, 'savvy': 4515, 'seem': 4579, 'range': 4223, '2012': 55, 'knickers': 2985, 'mobil': 3436, 'workers': 5876, 'telework': 5212, 'fluid': 2058, 'pls': 3969, 'exposing': 1885, 'horrendous': 2586, 'aron': 435, 'pilhofer': 3918, 'khoi': 2956, 'vinh': 5659, 'close': 1052, 'fwd': 2172, 'coolest': 1212, '75': 132, 'barely': 570, 'shrink': 4697, '10k': 12, 'imagine': 2673, 'bavcid': 598, 'box': 748, 'qho': 4168, 'route': 4460, 'feature': 1958, 'pollak': 3987, 'trouble': 5439, 'sxswbigbrands': 5102, 'puppy': 4147, 'fawning': 1955, 'forgotten': 2100, 'uzu': 5611, 'kicking': 2960, 'neither': 3550, 'nor': 3613, 'approved': 415, 'stereo': 4954, 'shiner': 4661, 'crasher': 1273, 'cluster': 1061, 'prepping': 4057, 'dehumanizing': 1421, 'concertgoers': 1146, 'withdrawal': 5840, 'stretches': 4992, 'ballrooms': 555, 'outlandish': 3744, 'partial': 3818, 'fine': 2015, 'deciding': 1407, 'wants': 5721, 'ze': 5973, 'frank': 2119, 'childhood': 997, 'enables': 1745, 'stunning': 5010, 'revelations': 4396, 'buffalo': 813, 'afternoon': 253, 'cab': 852, 'hell': 2498, 'dinner': 1517, 'homepage': 2566, 'woman': 5858, 'housing': 2602, 'frontend': 2141, 'cor': 1221, 'treatment': 5425, 'navigating': 3538, 'worse': 5887, 'walks': 5709, 'adpeopleproblems': 237, 'usb': 5591, 'cord': 1222, 'dfw': 1488, 'admits': 231, 'yobongo': 5950, 'regretting': 4311, 'woops': 5868, 'locals': 3151, 'lining': 3120, 'addicted': 218, 'intense': 2779, '1406': 26, '08': 4, 'deals': 1396, 'packs': 3778, 'giveaways': 2265, 'infektd': 2727, 'wider': 5801, 'detect': 1472, 'zombies': 5982, 'nieuwe': 3593, 'regel': 4304, 'pun': 4146, 'intended': 2778, 'geniuses': 2235, 'nfl': 3586, 'lockout': 3156, 'shinmy': 4662, '40min': 98, 'augmentedreality': 487, 'fave': 1950, 'food4thought': 2081, 'juxtaposed': 2934, 'lybian': 3220, 'rebels': 4262, 'thwarted': 5312, 'gorgeous': 2321, 'reeling': 4297, 'lightbox_photos': 3102, 'although': 316, 'quit': 4197, 'fighting': 1993, '59': 117, 'tm': 5343, 'litle': 3132, 'given': 2266, 'faulty': 1948, 'dies': 1500, 'knows': 2993, 'suckas': 5024, 'conference': 1150, 'aristotle': 431, 'taught': 5170, 'nxt': 3646, 'condense': 1148, 'nine': 3598, 'technical': 5200, 'solutions': 4832, 'human': 2619, 'dat': 1375, 'received': 4266, 'anti': 364, 'petition': 3889, 'behave': 628, 'malady': 3258, 'elbow': 1721, 'heat': 2486, 'suns': 5045, '21': 57, 'haul': 2459, 'innovative': 2747, 'biomimicry': 672, 'oldschool': 3682, 'novideo': 3630, 'veryslow': 5640, 'bet': 650, 'que': 4184, 'watched': 5734, 'season': 4567, 'guild': 2391, 'abt': 178, 'hijack': 2522, 'engines': 1763, 'tht': 5307, 'recognize': 4274, 'pictures': 3912, 'artificial': 445, 'intelligence': 2776, 'nobody': 3604, 'socialviewing': 4818, 'whoohoo': 5794, 'totally': 5384, 'props': 4117, 'agency': 259, 'bluezoom': 709, 'unsix': 5557, 'tweetup': 5486, 'happydance': 2445, 'busdev': 833, 'wr': 5898, 'iads': 2635, 'crazyco': 1281, 'geekfest': 2221, 'brian_lam': 778, 'despite': 1467, 'demonstrate': 1443, 'dilemma': 1513, 'trenches': 5426, 'painful': 3785, 'sleek': 4754, 'repair': 4348, 'damage': 1355, 'microformats': 3378, 'jo': 2894, 'bull': 822, 'courtyard': 1252, 'hirer': 2537, 'expected': 1867, 'midem': 3383, 'climbing': 1048, 'charts': 973, 'math': 3310, '45': 101, 'clocks': 1051, 'awwww': 530, 'boyfriend': 752, 'aw': 516, 'cbatsxsw': 923, 'impression': 2692, 'lemon': 3075, 'backlight': 537, 'bleed': 689, 'thru': 5306, 'bottom': 741, 'enchanting': 1748, 'likeability': 3107, 'trustworthiness': 5448, 'airlines': 279, 'disabilities': 1525, 'insightful': 2759, 'icanhas': 2637, 'fire': 2021, 'thanksforthebrandedshades': 5245, '58': 116, '967': 151, 'visits': 5672, 'ranked': 4225, 'ways': 5742, 'age': 257, '55': 115, 'newsapp': 3575, 'gone': 2297, 'toolongforme': 5369, 'amount': 334, 'beware': 658, 'innacurate': 2741, 'hyatt': 2630, 'sxswfail': 5106, 'wean': 5745, 'addiction': 220, 'nah': 3529, 'paired': 3787, 'oil': 3677, 'companies': 1123, 'monopoly': 3462, 'terms': 5229, 'wary': 5727, 'nick': 3592, 'im': 2667, 'barton': 578, 'creek': 1295, 'mackbook': 3232, 'rows': 4464, 'challenged': 949, 'tdg': 5179, 'kara': 2937, 'swisher': 5084, 'stylish': 5014, 'eric': 1795, 'earned': 1673, 'sleep': 4755, 'anyway': 379, 'race': 4203, 'smartphones': 4781, 'á¾_î¾ð': 5988, '__': 157, '_ô': 165, 'èï': 5996, '_ã': 164, 'öý': 5998, 'çü': 5995, '¼¼': 5987, 'documents': 1572, 'paul': 3843, 'adams': 213, 'chronicling': 1015, 'witty': 5845, 'unlocking': 5550, 'mayor': 3321, 'badges': 545, 'owl': 3765, 'threw': 5299, 'earbuds': 1670, 'symbol': 5129, 'proof': 4114, 'toy': 5397, 'guykawasaki': 2397, 'cashmore': 909, 'crushing': 1312, 'endorsement': 1754, 'grooving': 2359, 'rip': 4429, 'june': 2926, '2010': 53, 'survived': 5066, 'severe': 4629, 'evade': 1814, 'drowning': 1643, '95': 149, 'respecting': 4372, 'personalized': 3887, 'abuzz': 179, 'rendering': 4346, 'pack': 3774, 'solely': 4828, 'min': 3396, 'salesperson': 4491, 'darryl': 1372, 'impulse': 2700, '23': 60, 'ave': 510, '64mb': 127, 'comic': 1108, 'finder': 2012, 'english': 1764, 'japanese': 2873, 'stole': 4964, 'shamed': 4642, 'sigh': 4703, '25th': 64, 'ken': 2947, 'calhoun': 860, 'sun': 5040, '5hrs': 120, 'premature': 4049, 'ie': 2652, 'ubuntu': 5506, 'desktop': 1463, 'outdid': 3743, 'broken': 799, 'ketchsx': 2949, 'resume': 4387, 'tethering': 5236, 'blows': 705, 'forgo': 2098, 'liveblog': 3135, 'implementing': 2687, 'brightens': 784, 'guessing': 2385, 'josh': 2909, 'williams': 5811, 'farmville': 1935, 'wakeup': 5701, 'games': 2195, 'totalitarian': 5383, 'worldwide': 5883, 'decide': 1405, 'rediculous': 4295, 'overflow': 3753, 'sxswsmall': 5122, 'cannot': 880, 'silly': 4714, 'ridculous': 4412, 'lie': 3095, 'stars': 4928, 'moody': 3468, 'directors': 1522, 'attracting': 478, 'whimsical': 5787, 'spirit': 4893, 'googledoodles': 2314, 'intentionally': 2780, 'coincide': 1085, 'crafty': 1265, 'wannabe': 5717, 'fanbois': 1923, 'acting': 201, 'giggling': 2254, 'schoolgirls': 4543, 'snagged': 4802, 'supposedly': 5053, 'campus': 875, 'verizon': 5635, 'bandwidth': 560, 'tweeted': 5480, 'dawdled': 1383, 'pull': 4142, 'name': 3532, 'cash': 907, 'suckling': 5026, 'pig': 3915, 'dandy': 1363, 'shirt': 4667, 'compan': 1122, 'pinoy': 3921, 'ûïbuttons': 6008, 'hack': 2406, 'approach': 412, 'skepticism': 4738, 'amigos': 331, 'broadcastr': 797, 'bestappever': 648, 'farm': 1933, 'emulates': 1742, 'mouse': 3485, 'click': 1044, 'input': 2749, 'futureoftouch': 2171, 'techie': 5196, 'moderator': 3447, 'europe': 1812, '3000': 77, 'roaming': 4441, 'charges': 967, 'monitor': 3461, 'illegal': 2664, 'deforestation': 1419, 'tech4good': 5191, 'replicate': 4353, 'press': 4066, 'miller': 3393, 'shout': 4686, 'khan': 2955, 'academy': 180, 'education': 1707, 'fmsignal': 2064, 'amex': 329, 'partnership': 3824, 'till': 5321, 'juts': 2933, 'war': 5722, 'heats': 2489, 'society': 4819, 'bynd': 850, 'arrived': 437, '30am': 79, 'degrees': 1420, 'wandered': 5714, 'mad': 3235, 'influence': 2729, 'highs': 2521, 'quotables': 4201, 'simply': 4718, 'entered': 1775, 'automatically': 506, 'volunteering': 5684, 'boring': 732, 'thumbs': 5308, 'tired': 5337, 'extreme': 1894, 'waterproof': 5737, 'cigarettes': 1019, 'adding': 223, 'handy': 2433, 'starry': 4927, 'thinking': 5280, 'executed': 1855, 'sporting': 4900, 'install': 2765, 'windows7': 5819, 'animation': 351, 'definitely': 1418, 'gadgetenvy': 2181, 'brains': 759, 'contentrules': 1185, 'fastsociety': 1945, 'texasevery': 5238, 'coinsidence': 1087, 'instagram': 2764, 'mister': 3423, 'evo': 1836, 'research': 4364, 'cat': 913, 'comms': 1114, 'remedied': 4340, 'settling': 4626, 'battledecks': 595, 'agencies': 258, 'directions': 1520, 'lab': 3002, 'tmr': 5346, 'fastcompanygrill': 1941, 'fees': 1971, 'booyah': 728, 'gitchococktailon': 2262, 'formation': 2103, 'rebeltv': 4263, 'unreal': 5555, 'clicked': 1045, 'seats': 4570, 'summer': 5038, 'nerdheaven': 3554, 'registration': 4309, 'lmndst': 3142, 'areas': 426, 'filter': 2003, 'grill': 2355, 'customizable': 1339, 'tractor': 5403, 'trailer': 5408, 'justsaying': 2932, 'heads': 2479, 'ixd': 2866, 'domo': 1588, 'tonchidot': 5359, 'hip': 2529, 'preparation': 4053, 'hangover3': 2437, 'socks': 4820, 'git': 2261, 'yer': 5943, 'heart': 2485, 'panned': 3799, 'trumping': 5444, 'rightfully': 4423, 'lug': 3212, 'southpaw': 4864, 'lineup': 3119, 'frozen': 2145, 'tmobile': 5345, 'teathering': 5189, 'g2': 2177, 'inspiring': 2763, 'netflixiphone': 3563, 'goog': 2307, 'appletogo': 406, 'costs': 1236, 'louis': 3188, 'vuitton': 5693, 'amble': 326, 'digitalluxury': 1511, 'occasional': 3660, 'row': 4463, 'writing': 5905, 'favorite': 1951, 'backpack': 538, 'mommy': 3454, 'empowering': 1740, 'fight': 1992, 'against': 255, 'east': 1684, 'dictators': 1492, 'wireless': 5832, 'api': 386, 'king': 2975, 'accesssxsw': 188, 'publishers': 4139, 'enhancements': 1765, 'th': 5241, 'david': 1381, 'foster': 2108, 'wallace': 5711, 'footnotes': 2089, 'irrelevant': 2845, 'fiendishly': 1991, 'crisis': 1300, 'silver': 4715, 'logo': 3160, 'notionink': 3625, 'adam': 212, 'brands': 763, 'admit': 230, 'aapl': 167, 'horrible': 2587, 'wasted': 5731, 'festivalgenius': 1984, 'notsomuch': 3627, 'revenge': 4397, 'ridicule': 4416, 'unlisted': 5546, 'suddenly': 5028, 'fml': 2063, 'thick': 5273, 'rimmed': 4425, 'glasses': 2271, 'skynet': 4750, 'announce': 352, 'withme': 5842, 'truth': 5449, 'joint': 2904, 'quake': 4175, 'nhk': 3588, 'black': 682, 'precedent': 4040, 'creatures': 1293, 'er': 1793, 'priorities': 4082, 'bnet': 712, 'boxes': 750, 'techenvy': 5194, 'deadline': 1392, 'mistake': 3421, 'jared': 2874, 'implementation': 2686, 'pac': 3772, 'logic': 3157, 'recreated': 4287, 'lax': 3046, 'wife': 5804, 'freespeech': 2126, 'servers': 4614, 'synced': 5131, 'joy': 2914, 'easeljs': 1681, 'canvas': 882, 'brah': 757, 'printed': 4080, 'signed': 4709, 'weinschenk': 5767, 'battle': 594, 'picking': 3908, 'hair': 2415, 'stickers': 4957, 'allhat3': 302, 'hollrback': 2560, 'rocked': 4446, 'demos': 1446, 'sxswparty': 5118, 'mon': 3455, 'podcast': 3978, 'passes': 3833, 'economy': 1697, 'crushit': 1313, 'tye': 5496, 'clark': 1032, 'fabulous': 1901, 'objective': 3650, 'critiques': 1301, 'chng': 1004, 'hannukah': 2438, 'miracle': 3414, 'uncharged': 5524, 'detail': 1469, 'bomb': 716, 'adopters': 235, 'ado': 233, 'rebranded': 4264, 'inner': 2742, 'appleaddiction': 401, 'tracker': 5399, 'overlay': 3758, 'craziness': 1279, 'mantra': 3270, 'pride': 4076, 'guilty': 2392, '7th': 133, 'sin': 4720, 'superbia': 5047, 'turkey': 5466, 'provided': 4125, 'playhopskoch': 3959, 'publishing': 4140, '106': 10, 'hang': 2434, 'debut': 1400, 'eatdrinktweet': 1687, '2day': 67, 'bunch': 829, 'dontbehatin': 1598, 'fandango': 1928, 'karaoke': 2938, 'tkts': 5342, 'canada': 877, 'leisure': 3073, 'restful': 4379, 'price': 4074, 'buildings': 820, 'mapped': 3273, 'groupon': 2367, 'igottagetit': 2660, 'baby': 534, 'striking': 4993, 'iron': 2843, 'handle': 2427, 'sucked': 5025, 'fly': 2060, 'gr2l2': 2330, 'poole': 3991, 'refrigerator': 4302, 'magnet': 3246, 'flop': 2053, 'acc': 181, 'demonstration': 1445, 'uosxsw': 5566, 'marissamayer': 3287, 'gettinng': 2246, 'venue': 5632, 'sq': 4909, 'boo': 718, 'rallying': 4217, 'massive': 3306, 'relation': 4320, 'alamo': 288, 'cinema': 1020, 'photobooth': 3899, 'corporation': 1229, 'expensive': 1869, 'consultation': 1176, 'tore': 5379, 'celebrating': 927, 'selected': 4588, 'finalist': 2007, 'googlegays': 2315, 'sxswsex': 5121, 'gay': 2208, 'dating': 1380, 'grindr': 2357, 'magazines': 3242, 'truly': 5443, 'emotional': 1736, 'harlow': 2447, 'pragmatic': 4038, 'straight': 4976, 'pitchforks': 3928, 'widfy': 5802, 'rate': 4230, 'torturous': 5381, 'endorsed': 1753, 'html': 2612, 'sliced': 4759, 'bread': 768, 'revolutionary': 4403, 'sis': 4727, 'julie': 2924, 'rockaroke': 4445, 'struggle': 4999, 'hole': 2555, 'religion': 4333, 'atrix': 467, 'california': 861, 'followings': 2076, 'chevytweethouse': 993, 'delivery': 1435, 'meaning': 3329, 'hearing': 2484, 'career': 895, 'eat': 1686, 'itself': 2859, 'rhizome': 4410, 'sxswk': 5111, 'dieing': 1499, 'hunger': 2622, 'postpc': 4020, 'competitor': 1130, 'creeper': 1296, 'suck': 5023, '97': 152, 'realllllllly': 4252, 'options': 3713, 'overload': 3759, 'delivered': 1433, 'curiosity': 1329, 'serendipity': 4606, 'countering': 1244, 'jetlag': 2890, 'ittttt': 2860, 'asddieu': 453, 'pumped': 4144, 'networking': 3565, 'shelves': 4657, 'feeding': 1965, 'frenzy': 2128, 'nokiaconnects': 3607, 'elonsxsw': 1728, 'ubiquity': 5505, 'apis': 387, 'visualizing': 5677, 'government': 2326, 'login': 3159, 'authorization': 499, 'error': 1796, 'employee': 1737, 'psyches': 4135, 'moments': 3453, 'luckily': 3209, 'lucky': 3210, 'latitude': 3033, 'concentrate': 1143, 'teamandroidsxsw': 5186, 'cause': 919, 'mr': 3497, 'heavenly': 2491, 'aka': 285, 'michael': 3376, 'cera': 939, 'bat': 587, 'cameras': 872, 'rigeur': 4421, 'timely': 5328, 'continues': 1191, 'rise': 4432, 'mwrc11': 3519, 'introduces': 2802, 'fair': 1916, 'innovation': 2746, 'dig': 1506, 'sad': 4485, 'chill': 998, 'drives': 1636, 'galore': 2191, 'earphones': 1674, '1k': 46, 'connects': 1168, 'advanced': 239, 'adopter': 234, 'gas': 2202, 'officially': 3670, 'yup': 5963, 'yawn': 5930, 'mbp': 3323, 'transparently': 5418, 'thisisdare': 5287, 'saber': 4483, 'barroom': 573, 'brawls': 765, 'fists': 2026, 'fab': 1899, 'workin': 5877, 'scored': 4551, 'plixi': 3968, '83323324': 139, '83323414': 140, 'familiarize': 1920, 'casually': 912, 'forecast': 2094, 'dow': 1612, 'mood': 3467, 'analysis': 339, 'smvis': 4799, 'imrich': 2702, 'marcelosomers': 3280, 'keys': 2952, 'worn': 5884, 'disagree': 1526, 'peter': 3888, 'minor': 3409, 'improvement': 2697, 'burn': 830, 'severely': 4630, 'autistic': 500, 'mastered': 3307, 'puzzles': 4164, 'rumours': 4476, 'bavc': 597, 'dashboard': 1374, 'collect': 1091, 'host': 2589, 'visualize': 5676, 'competition': 1129, 'winners': 5823, 'initial': 2738, 'impressions': 2693, 'nvidia': 3645, 'gaming': 2198, 'nope': 3612, 'seattle': 4571, 'restored': 4382, 'unleash': 5544, 'mixed': 3426, 'magnetic': 3247, 'overall': 3750, 'improvemnt': 2699, 'restore': 4381, 'dali': 1354, 'pak': 3788, 'vacation': 5616, 'exploiting': 1880, 'return': 4391, 'policy': 3984, 'imacs': 2670, 'ahhh': 271, 'darn': 1371, 'according': 190, 'ûïmore': 6011, 'assisted': 460, 'toast': 5352, 'australian': 495, 'digibiz': 1509, 'sides': 4702, 'killcommunity': 2968, 'twnp': 5493, 'blame': 686, 'fixing': 2033, 'preferrably': 4046, 'hashtags': 2454, 'deficit': 1415, 'banking': 564, 'tron': 5437, 'swish': 5083, 'scenes': 4533, 'blueray': 707, 'eminent': 1735, 'thoughtful': 5294, 'handwriting': 2432, 'conquered': 1169, 'hairy': 2416, 'butts': 841, 'fessing': 1979, 'admitting': 232, 'cohen': 1084, 'comcom': 1101, 'mike': 3389, 'tyson': 5499, 'wanting': 5720, 'unconfirmed': 5525, 'crossing': 1304, 'ours': 3740, 'covering': 1256, 'asks': 457, 'reid': 4315, 'hoffman': 2552, 'summit': 5039, 'delight': 1430, 'floor': 2052, 'fondling': 2078, 'disturbing': 1556, 'ground': 2361, 'blacked': 685, 'realizing': 4251, 'designers': 1458, 'googleplaces': 2318, 'knockout': 2988, 'ireport': 2841, 'berklee': 643, 'topspin': 5377, 'class': 1033, 'apples': 404, 'woke': 5855, 'sandwiched': 4500, 'spring': 4905, 'break': 769, 'depressed': 1453, 'ûójust': 6019, 'macbooks': 3228, 'grouped': 2365, 'aber': 170, 'leider': 3072, 'nur': 3641, 'fì_r': 2175, 'livingthedream': 3140, 'ncaa': 3542, 'mmod': 3433, 'flawless': 2042, 'livesteam': 3137, 'bracket': 756, 'mute': 3517, 'plancast': 3941, 'exported': 1884, 'san': 4498, 'diego': 1498, 'pacific': 3773, 'shift': 4659, 'central': 933, 'tme': 5344, 'wack': 5697, 'mix': 3425, 'barrydiller': 575, 'james': 2869, 'franco': 2118, 'expert': 1874, 'demand': 1438, 'insatiable': 2753, 'surrounded': 5061, 'aquent': 419, '1415': 28, 'bereft': 641, 'wanderer': 5715, 'limp': 3115, 'lifeless': 3097, 'poetry': 3979, 'vufinders': 5692, '3x': 95, 'speedup': 4881, 'tagging': 5147, 'clear': 1040, 'points': 3982, 'throughout': 5302, 'overview': 3763, 'plunge': 3973, 'panhandling': 3797, 'tshirt': 5453, 'strangers': 4980, 'crash': 1271, '10mins': 13, 'fuckit': 2155, 'illmakeitwork': 2665, 'rockstache': 4450, 'techsmith': 5204, 'istache': 2853, '3blks': 89, 'address': 226, 'yeasayer': 5937, 'failing': 1914, 'paid': 3784, 'idontbelieve': 2651, 'helpful': 2502, 'three': 5298, 'artistic': 447, 'protecting': 4119, 'someones': 4840, 'thewildernessdowntown': 5271, 'thomas': 5289, 'gayno': 2209, 'choreography': 1009, 'blurs': 710, 'avoid': 514, 'collectively': 1094, 'assistivetech': 461, 'augcomm': 485, 'hcsm': 2470, 'mhealth': 3373, 'covet': 1257, 'pp': 4034, '2yrs': 73, 'locating': 3152, 'earlier': 1671, 'tt': 5455, 'ff': 1987, 'bashing': 580, 'consistent': 1173, 'wowwwwww': 5895, 'periscope': 3880, 'danfung': 1364, 'demoing': 1442, 'immersive': 2677, 'rig': 4420, 'debating': 1399, 'role': 4451, 'enjoyed': 1767, 'existent': 1861, 'owllove': 3766, 'passport': 3835, 'pg': 3892, 'script': 4560, 'mock': 3441, 'remembered': 4342, 'horror': 2588, 'movies': 3491, 'yellow': 5939, 'pages': 3783, 'practice': 4037, 'abacus': 168, 'unloaded': 5547, 'refresh': 4301, 'åç': 5993, 'rails': 4212, 'deliver': 1432, 'confession': 1152, 'dom': 1585, 'organizing': 3727, 'denies': 1447, 'reily': 4317, 'pissedimnotgoingtosxsw': 3924, 'wknd': 5850, 'phew': 3895, 'beginning': 625, 'panic': 3798, 'innovating': 2745, 'talib': 5157, 'kweli': 2998, 'gogo': 2291, 'evening': 1817, 'karateka': 2939, 'castle': 911, 'wolfenstein': 5856, 'choplifter': 1008, 'classics': 1035, 'oldsko0l': 3683, 'dan': 1360, 'neumann': 3567, 'organic': 3722, 'broadfeed': 798, 'ones': 3692, 'mypov': 3524, 'chevy': 990, 'cruze': 1314, 'losers': 3181, 'investors': 2811, 'propping': 4115, 'frothy': 2144, 'enterprise': 1776, 'teleporting': 5210, 'capabilities': 883, 'nokia': 3606, 'pushsnowboarding': 4160, 'shill': 4660, 'underestimate': 5527, 'appeal': 393, 'mayers': 3320, '12': 19, 'desperately': 1466, 'drooling': 1639, 'sillier': 4713, 'ended': 1752, 'ninja': 3601, 'wars': 5726, 'shoulda': 4683, 'wanna': 5716, 'producers': 4095, 'whether': 5784, 'nab': 3528, 'played': 3956, 'fruit': 2146, 'tnw': 5349, 'plaid': 3938, 'boys': 754, 'attracted': 477, 'define': 1416, 'thereby': 5268, 'defining': 1417, 'values': 5621, 'consumerist': 1180, 'tournament': 5393, 'pitted': 3930, 'round': 4459, 'swing': 5082, 'actsofsharing': 208, 'anticipate': 365, 'toting': 5385, 'inventing': 2806, 'dislike': 1543, 'innovate': 2744, 'fathom': 1947, 'succumb': 5021, 'upgrading': 5575, 'highlights': 2519, 'thus': 5311, 'istock': 2854, 'singularity': 4725, 'oy': 3771, 'das': 1373, 'verpixelungsrecht': 5636, 'ûóthe': 6021, 'pixelated': 3933, 'theft': 5253, 'hangover': 2436, 'breakfast': 771, 'yummy': 5962, 'tunes': 5464, 'griffin': 2354, 'cordless': 1223, 'told': 5355, 'brief': 782, 'paradigms': 3811, 'grrrr': 2373, 'muting': 3518, 'omitting': 3688, 'effective': 1711, 'h264': 2401, 'browserwars': 804, 'petricone': 3890, 'quantter': 4180, 'participating': 3820, 'launchrock': 3040, 'comp': 1120, 'ing': 2736, 'rating': 4233, 'recommendation': 4278, 'ip': 2819, 'hhaha': 2511, 'intimidated': 2795, 'unveils': 5565, 'greater': 2347, 'waaaaaa': 5696, 'sony': 4846, 'xperia': 5924, 'tuesday': 5458, 'heattracker': 2490, 'temperatures': 5217, '20s': 56, 'wkend': 5849, 'mass': 3304, 'influx': 2731, 'combine': 1099, 'flavor': 2040, 'abroad': 175, '4g': 108, 'connectivity': 1167, 'joe': 2899, 'berry': 646, 'connectedcar': 1165, 'g03mzb': 2176, 'inspired': 2762, 'ed': 1699, 'justinjustinjustin': 2929, 'curious': 1330, 'ref': 4298, 'favour': 1954, '150m': 32, 'noes': 3605, 'rejection': 4318, 'gotten': 2324, 'pleased': 3965, 'clients': 1047, 'anxious': 371, 'wonders': 5864, 'kingston': 2976, 'cheer': 986, 'reasonable': 4258, 'auth': 497, 'computers': 1141, 'fantastico': 1931, 'toooo': 5371, 'road': 4439, 'dawg': 1384, 'observations': 3653, 'vast': 5622, 'majority': 3252, 'appletakingoverworld': 405, 'ogilvy': 3674, 'autocorrects': 504, 'idiocy': 2647, 'ogilvynotes': 3675, 'peaked': 3858, 'surface': 5056, 'complex': 1137, 'intricate': 2798, 'underneath': 5528, 'agenda': 260, 'reminding': 4343, 'facts': 1910, 'belong': 635, 'strive': 4995, 'complement': 1133, 'artwork': 449, 'showcases': 4691, 'equity': 1792, 'attached': 469, 'honor': 2569, 'landlords': 3011, 'leasing': 3063, 'agents': 261, 'utilize': 5607, 'shops': 4675, 'millions': 3395, 'docs': 1570, 'incenticize': 2708, 'teams': 5187, 'cashmere': 908, 'parachute': 3810, 'andrew': 343, 'prx': 4128, 'equates': 1791, 'homogeneity': 2567, 'predictability': 4042, 'west': 5776, 'imaconf': 2669, 'drumbeat': 1645, 'mojo': 3448, 'urthots': 5586, 'guru': 2395, 'express': 1886, 'scepticism': 4534, 'surplus': 5058, 'leash': 3062, 'payments': 3850, 'yowza': 5959, 'myegc': 3522, 'stats': 4940, 'coolaid': 1210, 'intel': 2775, 'thegogame': 5254, 'revealed': 4394, 'team_android': 5184, 'euphoria': 1811, 'centric': 935, 'advantage': 240, 'teeth': 5208, 'hawt': 2467, 'howmto': 2605, 'usdes': 5592, 'learnt': 3061, 'jesus': 2888, 'allhat': 301, 'arriving': 439, '2åê': 74, 'macbookpro': 3227, 'pandora': 3792, 'stumbledupon': 5008, 'holytrafficjams': 2563, 'ûïline': 6010, 'signals': 4708, 'cedar': 925, 'sxswbarcrawl': 5101, 'gun': 2394, 'nutshell': 3643, 'pseudoretweet': 4130, 'democracy': 1440, 'mobs': 3440, 'hive': 2544, 'affirmative': 248, 'nptech': 3634, 'multiple': 3503, 'monetization': 3458, 'cheapen': 978, 'etsy': 1810, 'realtalk': 4254, 'stops': 4969, 'argues': 429, 'exceptionally': 1847, 'frm': 2138, 'comments': 1112, 'h2o': 2402, '8th': 145, 'cheap': 977, 'excel': 1844, 'buzzmetrics': 848, 'radian6': 4206, 'altimeter': 317, 'sloansxsw': 4765, 'beyondwc': 660, '101': 9, 'standard': 4920, 'csr': 1316, 'janecek': 2871, 'bright': 783, 'develop': 1475, 'chilltab': 999, 'damon': 1359, 'upstairs': 5582, 'guardian': 2382, 'eye': 1895, 'sd': 4561, 'storage': 4970, 'iusxsw': 2864, 'cried': 1298, 'frid': 2133, 'compact': 1121, 'disk': 1542, 'mill': 3392, 'slightly': 4762, 'thinner': 5283, 'earths': 1680, 'smudgy': 4795, 'fundraising': 2165, 'kiosk': 2977, 'waze': 5743, 'duking': 1656, 'mapping': 3275, 'maudies': 3314, 'tacos': 5145, 'ajs2011': 284, 'diabetes': 1490, 'plate': 3951, 'absolutely': 177, 'schtuff': 4545, 'iqlab': 2838, '_______': 161, 'answered': 363, 'looseorganizations': 3176, '30p': 80, 'saturday': 4506, 'andro': 345, 'curated': 1327, 'quotes': 4202, 'donate': 1590, 'victims': 5647, 'preferences': 4045, 'seenocreepy': 4584, '16gb': 39, 'go2': 2282, 'antonio': 368, 'kudos': 2997, 'quarter': 4182, 'tbwasxsw': 5175, 'sat': 4504, 'convenient': 1197, 'speaks': 4876, 'demonstrates': 1444, 'pause': 3845, 'tveverywhere': 5473, 'mindtouchers': 3404, 'mindtouch': 3403, 'tcs': 5178, 'tweethouse': 5481, 'rana': 4219, 'dotco': 1605, 'backupify': 540, 'announces': 356, 'cloudsight': 1059, 'searchable': 4564, 'archive': 421, 'ge': 2211, 'solar': 4826, 'powered': 4027, 'carousel': 897, 'park': 3815, 'amen': 327, 'studying': 5006, 'flocking': 2050, 'swarming': 5073, 'behavior': 630, 'collab': 1090, 'due': 1654, 'showcase': 4689, 'bounced': 743, 'admired': 228, 'classy': 1037, 'rerouted': 4362, 'images': 2672, 'jcpenney': 2878, 'macys': 3234, 'trashy': 5419, 'restraunts': 4383, 'implode': 2688, 'activity': 206, 'lightbox': 3101, 'finalists': 2008, 'mk': 3428, 'claims': 1030, 'ratio': 4235, 'raffled': 4209, 'inbox': 2706, 'peer': 3865, 'ecodriving': 1695, 'habits': 2405, 'ûï35': 6007, 'cunning': 1322, 'lat': 3025, 'deliciously': 1428, 'cartel': 902, 'military': 3391, 'scientific': 4548, 'dictatorship': 1493, 'takeover': 5151, 'rant': 4228, 'deviantart': 1481, 'buys': 845, 'tests': 5234, 'muro': 3504, 'drawing': 1627, 'htt': 2614, 'wasn': 5729, 'beards': 609, 'hollywood': 2561, 'silicon': 4712, 'meets': 3343, 'nyc': 3647, 'sunny': 5044, 'pool': 3990, 'cowboy': 1259, 'boots': 727, 'vibe': 5645, 'epicurious': 1790, 'moma': 3450, 'guards': 2383, 'reports': 4357, 'unveil': 5562, 'fed': 1963, 'angrybirds': 350, 'julian': 2923, 'screamed': 4554, 'zone': 5984, 'pigfucker': 3916, 'snakeheead': 4803, 'fodder': 2068, 'snubor': 4809, 'gains': 2188, 'traction': 5402, 'knife': 2986, 'psfk': 4131, 'gabacustweets': 2179, 'brk': 794, 'geeking': 2222, '4android': 106, 'integration': 2774, 'mappers': 3274, 'gallery': 2190, 'daniel': 1368, 'johnston': 2900, 'gatekeeper': 2204, 'ht': 2610, 'pixel': 3932, 'aim': 275, 'promote': 4111, 'communal': 1115, 'restaurants': 4378, 'recos': 4285, 'um': 5510, 'skiers': 4742, 'overlaid': 3756, 'mountain': 3483, 'empty': 1741, 'positioning': 4010, 'savebrands': 4509, 'latina': 3030, 'porn': 4005, 'latism': 3032, 'sxswlatam': 5112, 'latinasintech': 3031, 'providing': 4126, 'tested': 5232, '41': 99, 'difference': 1504, 'nuances': 3637, 'matter': 3312, 'rww': 4481, 'f6bcet': 1898, 'goody': 2306, 'incapable': 2707, 'disruptive': 1550, 'acquired': 198, '89': 141, 'extolling': 1890, 'coolness': 1214, 'vmware': 5678, 'talent': 5155, 'signing': 4710, 'jaloux': 2868, 'school': 4542, 'skinny': 4746, 'flannel': 2035, 'beard': 608, 'imanoutcast': 2675, 'hah': 2412, '2moro': 69, 'organize': 3725, 'realtime': 4255, 'ducks': 1652, 'client': 1046, 'foodies': 2082, 'arw': 451, 'dine': 1516, 'oversized': 3761, 'pluged': 3971, 'loose': 3175, 'laws': 3045, 'pot': 4021, 'huzzah': 2629, 'umassjour': 5511, 'nerdsunite': 3557, 'fit': 2027, '400': 97, 'shuffling': 4698, 'eyes': 1897, 'effing': 1713, 'hubby': 2617, 'number': 3640, 'referrals': 4299, '12th': 22, 'zaarlyiscoming': 5965, 'coupons': 1248, 'dodo': 1574, 'memolane': 3352, '12b': 21, 'jr': 2917, 'unstable': 5558, 'nten': 3635, '11ntc': 17, 'raised': 4215, 'gotto': 2325, 'shallow': 4640, 'austincrowd': 491, 'aiding': 274, 'size': 4736, 'googled': 2312, 'direction': 1519, 'slips': 4764, 'jammy': 2870, 'bugger': 815, 'fastcompanygrille': 1942, 'makery': 3254, 'zaggle': 5967, 'zms': 5981, 'lamesauce': 3009, 'finished': 2020, 'sightings': 4705, 'piss': 3923, 'pissing': 3925, 'kiiiiiilling': 2965, 'survey': 5063, 'starbucks': 4925, 'gratification': 2345, 'tweetignite': 5483, 'marc': 3279, 'ecko': 1694, 'autodial': 505, 'political': 3985, 'edreform': 1705, 'eduvc': 1709, 'fightthepaddle': 1994, 'cm48': 1063, 'circus': 1023, 'workspace': 5880, 'virtualoffice': 5666, 'tool': 5367, 'measuring': 3334, 'displaying': 1548, 'cry': 1315, 'slp': 4771, 'videogames': 5651, 'cartoon': 903, 'ûïview': 6015, 'stumbling': 5009, 'contact': 1183, 'application': 407, 'fricking': 2132, 'science': 4547, 'readership': 4243, 'opportunity': 3708, 'ignore': 2659, 'boyfriends': 753, 'donline': 1596, 'dk': 1563, 'nerdbird': 3552, 'wal': 5704, 'mart': 3297, 'ooooo': 3698, 'mobileroadie': 3439, '300': 76, 'suxsw': 5070, 'throw': 5303, 'tchin': 5177, 'papa': 3804, 'sangre': 4501, 'audio': 484, 'recommended': 4280, 'papasangre': 3805, 'journalsim': 2912, 'informed': 2735, 'populous': 4000, 'themed': 5260, 'costume': 1237, 'yep': 5942, 'organization': 3724, 'poor': 3992, 'coincides': 1086, 'begin': 624, 'weeping': 5765, 'preparing': 4056, 'qrafter': 4170, 'vcards': 5624, 'qrcode': 4172, 'questioner': 4187, 'caused': 920, 'giggle': 2253, 'laugh': 3034, 'https': 2616, 'borderstylo': 730, 'machines': 3231, 'electronics': 1723, 'smm': 4789, 'exactly': 1841, 'slice': 4758, 'pcbuzz': 3853, 'intrestin': 2797, 'pauly': 3844, 'celebs': 928, 'simplicity': 4717, 'cn': 1066, 'eightbit': 1719, 'zazzlsxsw': 5972, 'dr_black': 1622, 'jerranalley': 2886, 'tbalinas': 5174, 'member': 3351, 'carrying': 900, 'bags': 547, 'wolfram': 5857, 'sheraton': 4658, 'smartest': 4779, 'imho': 2676, 'shut': 4699, 'i41h53': 2633, 'breakdown': 770, '98': 153, '03': 2, '02': 1, 'symbian': 5128, 'kickass': 2958, 'sms': 4793, 'pink': 3920, 'soundtrckr': 4860, 'staff': 4917, 'facepalmed': 1904, 'ugh': 5507, 'longlinesbadux': 3167, 'strange': 4977, 'penetrates': 3868, 'bubble': 811, 'tvs': 5475, 'scarbrough': 4527, 'closed': 1053, 'cops': 1219, 'barring': 572, 'ludicon': 3211, 'ossum': 3734, 'cut': 1340, 'cocaine': 1076, 'facetime': 1905, 'mel': 3350, 'gibson': 2249, 'cartoonishly': 904, 'large': 3018, 'cstejas': 1317, 'fin': 2005, 'serv': 4610, 'operators': 3706, 'banks': 567, 'bankinnovate': 565, 'judging': 2919, 'designingforkids': 1461, 'relationship': 4321, 'sapient': 4503, 'upside': 5581, 'designer': 1457, 'train': 5409, 'thier': 5274, 'former': 2104, 'chief': 995, 'officer': 3668, 'advisory': 245, 'innotribe': 2743, 'openexhibits': 3703, 'wakeuplaughing': 5702, 'itun': 2861, 'es': 1798, 'ifr3dw': 2656, 'ray': 4236, 'additional': 225, 'npr': 3633, 'songs': 4844, 'named': 3533, 'ten': 5223, 'decent': 1404, 'heating': 2487, 'rewards': 4406, 'titles': 5340, 'pep': 3872, 'upc': 5569, 'edition': 1704, '2nite': 71, 'b4': 532, 'hosting': 2591, 'cmty': 1065, 'mngr': 3435, '8p': 143, 'relic': 4330, 'topicality': 5373, 'reputation': 4361, 'rules': 4472, '96': 150, 'eyeballed': 1896, 'ip4': 2820, '1413': 27, 'glenda': 2272, 'watson': 5738, 'cerebral': 941, 'palsy': 3791, 'communicate': 1116, 'lobby': 3147, 'speller': 4883, 'autocorrected': 503, 'impactdashboard': 2682, 'become': 616, 'cle': 1038, 'motherboard': 3479, 'developed': 1476, 'cheese': 988, 'valid': 5617, 'tho': 5288, '2honor': 68, 'suffered': 5029, 'zazzle': 5970, 'grille': 2356, 'mania': 3268, 'filters': 2004, 'v1': 5612, 'crapped': 1268, 'goers': 2287, 'sore': 4850, 'amusing': 337, 'starbu': 4924, 'cks': 1029, 'acrosse': 200, 'unpack': 5553, 'theirs': 5257, 'creatively': 1289, 'socialmediabum': 4816, 'honors': 2570, 'conversations': 1203, 'powerful': 4028, 'motivator': 3481, 'earbud': 1669, 'headphones': 2478, 'cables': 855, 'museum': 3507, 'magnifying': 3248, 'vectors': 5627, 'dimensional': 1515, 'transition': 5414, 'cup': 1323, 'leaked': 3055, 'goo': 2300, 'jqtouch': 2916, 'geekery': 2219, 'pix': 3931, 'mirroring': 3415, 'hdmi': 2471, 'cable': 854, 'gents': 2236, 'scouts': 4553, 'planting': 3949, 'themselves': 5261, 'atms': 466, 'ca': 851, 'thinmints': 5282, 'bastards': 586, 'obviously': 3659, 'shell': 4656, '1500': 31, 'visiting': 5670, 'accommodate': 189, 'influencers': 2730, 'dropped': 1641, 'estate': 1805, 'invest': 2808, '0310apple': 3, 'bestie': 649, 'recipes': 4270, 'hype': 2631, 'viagra': 5644, 'communications': 1118, 'expansion': 1864, 'outlook': 3746, 'antwoord': 369, 'korine': 2995, '11th': 18, 'lynn': 3222, 'teo': 5226, 'alphagraphics': 310, 'laser': 3022, 'prints': 4081, 'optimized': 3711, 'ripping': 4431, 'joomla': 2907, 'gah': 2185, 'torture': 5380, 'addictedtotheinterwebs': 219, 'yea': 5932, 'bricklin': 780, 'notetaker': 3620, 'chokes': 1006, 'tougher': 5391, 'colin': 1089, 'quinn': 4196, 'environment': 1784, 'theplatform': 5264, 'googlebread': 2310, 'lil': 3112, 'crappy': 1269, 'crazyfest': 1282, 'rolled': 4453, 'functionality': 2163, 'africans': 251, 'capped': 885, 'iwantacameraonmyipad': 2865, 'mkesxsw': 3429, 'wisconsin': 5834, '17': 41, 'ink': 2740, 'miamibeach': 3374, 'enviro': 1783, 'bin': 670, 'greatergood': 2348, 'routing': 4462, 'copia': 1217, 'cocoon': 1078, 'messenger': 3366, 'redbox': 4291, 'gilt': 2256, 'graphic': 2342, 'sesh': 4618, 'dawned': 1386, 'timed': 5326, 'gain': 2186, 'maximum': 3316, '16162': 37, 'allows': 305, 'benefit': 639, 'ma': 3223, 'zing': 5978, 'sxsurrogates': 5095, 'atzip': 481, 'swift': 5081, 'upbeat': 5568, 'rises': 4434, 'dangling': 1367, 'lions': 3124, 'irresistible': 2846, 'unfair': 5536, 'borrowing': 735, 'chk': 1003, 'slow': 4767, 'idiot': 2648, 'smcomedyfyeah': 4786, '81': 137, 'worried': 5885, 'midway': 3386, 'toured': 5392, 'shaping': 4644, 'toocoolforsxswanyway': 5364, 'preparations': 4054, 'beach': 605, 'geekspringbreak': 2225, 'antigov': 366, 'lobbying': 3148, 'initiative': 2739, 'invoking': 2816, 'puregenius': 4154, 'path': 3841, 'weight': 5766, 'lockers': 3155, 'registrant': 4308, 'juiced': 2921, 'sonos': 4845, 'side': 4701, 'cactus': 857, 'balcony': 552, 'shatter': 4652, 'gogglers': 2289, 'marketer': 3292, 'newspapers': 3578, 'permanently': 3882, 'convience': 1205, 'drunk': 1647, 'hahaha': 2414, 'ships': 4666, 'methinks': 3370, 'capitol': 884, 'fulltime': 2159, 'eh': 1718, 'nudgenudge': 3638, 'actors': 207, 'diet': 1501, 'planzai': 3950, 'tipped': 5335, 'creates': 1286, 'peddle': 3860, 'daylight': 1388, 'savings': 4514, 'bug': 814, 'whoops': 5796, 'sells': 4594, 'ughhh': 5508, 'domain': 1586, 'rain': 4213, 'purchases': 4151, 'regrets': 4310, 'disrupts': 1551, 'preferred': 4047, 'tune': 5461, 'groupchatapps': 2364, 'orlando': 3730, 'attended': 472, '100tc': 8, 'felt': 1976, 'prob': 4089, 'sxprotect': 5093, 'renders': 4347, 'landscapes': 3013, 'included': 2711, 'basic': 581, 'percent': 3874, 'understanding': 5530, 'internetonlinewebsite': 2790, 'perserverance': 3883, 'vote': 5687, 'husband': 2628, 'depeche': 1452, 'prettycool': 4070, 'chevysxsw': 992, 'ringing': 4426, 'softlayer': 4824, 'server': 4613, 'challenge': 948, 'äá': 5991, 'hash': 2451, 'nerdiest': 3555, 'spiltbeer': 4889, 'consequences': 1171, 'generally': 2230, 'doubly': 1607, 'handicapped': 2425, 'assume': 462, 'ditch': 1557, 'previous': 4073, '47': 103, 'nutters': 3644, 'ipading': 2828, 'techno': 5201, 'mecca': 3336, 'seated': 4569, 'bowl': 747, 'armadillo': 433, 'frabjous': 2113, 'callooh': 866, 'callay': 863, 'baaah': 533, 'ûólewis': 6020, 'carroll': 898, 'swarms': 5074, 'distract': 1554, 'pubs': 4141, 'sez': 4633, 'exp': 1863, 'delivering': 1434, 'elusive': 1730, 'radical': 4207, 'arcade': 420, 'wilderness': 5809, 'frustrating': 2148, 'zeldman': 5975, 'zelda': 5974, 'jzsxsw': 2936, 'whoooooo': 5795, 'described': 1454, 'orly': 3731, 'lanyrd': 3014, 'basket': 585, 'v3': 5614, 'stepped': 4953, 'ûïfoursquare': 6009, 'temperature': 5216, 'fiving': 2031, 'sec': 4572, 'enuf': 1782, 'chumps': 1016, 'nightjar': 3596, 'ability': 171, 'brushstroke': 807, 'loveher': 3195, 'xplat': 5925, 'promises': 4109, 'ther': 5265, 'deck': 1409, 'unlockable': 5549, 'googleblog': 2309, 'imo': 2679, 'balckberries': 551, 'andriod': 344, 'durable': 1659, 'therefore': 5269, 'repressed': 4358, 'memories': 3353, 'spinning': 4891, 'ball': 553, 'progressbar': 4103, 'respectfully': 4371, 'ubiquitous': 5504, 'project314': 4106, 'popupshop': 4002, 'adaptive': 215, 'skillfully': 4744, 'cupertino': 1325, '310409h2011': 82, 'plain': 3939, 'proud': 4122, 'scoping': 4549, 'proven': 4123, 'untrue': 5561, 'announcement': 354, 'everyday': 1829, 'macs': 3233, 'monster': 3463, 'anxiety': 370, 'fits': 2028, 'personalcloud': 3886, 'merchant': 3360, 'ûïspecials': 6013, 'flashspecial': 2038, 'thunder': 5309, '2b': 66, 'niceness': 3591, 'september': 4605, 'spontaniety': 4899, 'bday': 603, 'pressie': 4067, 'wkd': 5848, 'indigenous': 2722, 'tribes': 5430, 'statuses': 4942, 'forests': 2095, 'booze': 729, 'frood': 2142, '157': 33, 'gigs': 2255, 'circusmash': 1024, 'ecademy': 1692, 'itme': 2857, '30a': 78, 'manhandling': 3267, 'unoffic': 5551, '90': 146, 'tan': 5162, 'coverage': 1254, 'position': 4009, 'china': 1000, 'suicide': 5035, 'rates': 4231, 'adventure': 242, 'aclus': 197, 'cites': 1026, 'resting': 4380, 'leisurely': 3074, 'desktops': 1464, 'slower': 4768, 'nevertheless': 3569, 'hints': 2528, 'messed': 3365, 'yonkers': 5951, 'ming': 3406, 'moves': 3489, 'stays': 4945, 'hurt': 2627, 'sending': 4600, 'lorry': 3179, 'riots': 4428, 'ensue': 1772, 'lazyweb': 3050, 'mixing': 3427, 'globally': 2276, 'implement': 2685, 'eventually': 1823, 'theem': 5252, 'spazmatic': 4870, 'hoooooooooooooo': 2574, 'register': 4306, 'liberty': 3091, 'sxswpass': 5119, 'experiential': 1871, 'xm': 5920, 'popplet': 3997, 'hordes': 2585, 'purchasers': 4150, 'tweeps': 5476, 'ical': 2636, 'goin': 2292, 'seta': 4622, 'educational': 1708, 'tunehopper': 5463, 'gmail': 2280, 'synching': 5132, 'socialmuse': 4817, 'lookalike': 3169, 'appcircus': 392, 'tweetie': 5482, 'leopard': 3078, 'pariah': 3814, 'activate': 204, 'cellular': 930, 'warning': 5725, 'loves': 3199, 'obsessed': 3655, 'feckin': 1962, 'scary': 4530, 'boss': 736, 'recognizing': 4275, 'relevance': 4328, 'corps': 1230, 'syked': 5127, 'topics': 5374, 'sexy': 4632, 'soul': 4855, 'rotational': 4458, 'viewing': 5657, 'mail': 3250, 'finish': 2019, 'wundertablet': 5912, 'touching': 5388, 'complicated': 1138, 'naive': 3531, 'wishful': 5837, 'semis': 4598, 'filled': 1998, 'masses': 3305, 'bump': 827, 'ensues': 1773, 'ûïthe': 6014, 'messina': 3367, 'knowledge': 2991, 'identity': 2646, 'leo': 3077, 'email': 1731, 'disneyland': 1546, 'happiest': 2442, 'resetting': 4365, 'produced': 4094, 'spazzmatics': 4872, 'slick': 4760, 'conveniently': 1198, 'rf': 4408, 'dissapointment': 1552, 'foosspotting': 2086, 'guides': 2390, 'bumped': 828, 'lottery': 3186, 'ticket': 5314, 'cast': 910, 'characters': 962, 'stroke': 4996, 'vestibule': 5641, '64g': 124, 'replenished': 4352, 'presos': 4065, 'uncertainty': 5523, 'telegraph': 5209, 'semi': 4597, 'justsayin': 2931, 'upon': 5577, 'illa': 2663, '360': 87, 'panorama': 3801, 'nba': 3540, 'courtside': 1251, 'itwillbemine': 2863, 'certificate': 943, 'nonprofit': 3609, 'nonprofits': 3610, 'ipad2time': 2825, 'frustration': 2149, 'glued': 2279, 'resonance': 4367, 'marisa': 3284, 'mater': 3309, 'hotspot': 2596, 'idk': 2649, 'newtrent': 3580, 'imp1000': 2680, 'unpaid': 5554, 'drupalcon': 1648, 'firstworldproblems': 2024, 'ihop': 2661, 'excitement': 1850, 'buggy': 816, 'lately': 3027, 'custome': 1336, 'blackbook': 684, 'advent': 241, 'accessible': 185, 'ebooks': 1691, 'generations': 2232, 'landmark': 3012, 'blind': 691, 'unbelievable': 5520, 'recorder': 4283, 'reddit': 4294, 'moonshine': 3470, 'hr': 2608, 'squeal': 4911, 'virginity': 5663, 'åçwhat': 5994, 'turns': 5470, 'douchebag': 1610, 'gawking': 2207, 'futurecast': 2169, 'champ': 951, 'imanidiot': 2674, 'oooh': 3697, 'recycled': 4289, 'skateboards': 4737, 'damm': 1356, 'captain': 886, 'penguin': 3870, 'pengairborne': 3869, 'takin': 5153, 'mic': 3375, 'brother': 800, 'acceptable': 182, 'warmth': 5724, 'upset': 5580, 'installs': 2768, 'visitors': 5671, 'tattooed': 5169, 'sketchy': 4740, 'bite': 678, 'fleets': 2043, 'armed': 434, 'swoon': 5088, 'nerdcore': 3553, 'idol': 2650, 'ingenious': 2737, 'ireports': 2842, 'brilliance': 786, '5th': 122, '200': 52, 'bart': 577, 'retweeting': 4393, 'jeanne': 2880, 'retweet': 4392, 'uppward': 5578, 'jerk': 2885, 'awe': 523, 'jetsons': 2891, 'crack': 1263, 'facist': 1907, 'switches': 5086, 'glowing': 2278, 'cups': 1326, 'units': 5542, 'comfortable': 1107, 'tricked': 5431, 'birthday': 676, 'net': 3560, 'flap': 2036, 'peeked': 3863, 'journalists': 2911, 'afford': 249, 'bother': 739, 'scheduler': 4538, 'hipstapaks': 2531, 'austinwins': 494, '2am': 65, 'disrupt': 1549, 'riding': 4419, '210': 58, 'unveiled': 5563, 'jet': 2889, 'betainvites': 652, '1m': 47, 'ea1zgd': 1666, 'breakthrough': 774, 'activations': 205, 'mission': 3419, 'haiti': 2417, 'executing': 1856, 'jose': 2908, 'bff': 661, 'bernd': 645, 'florian': 2054, 'guguchu': 2387, 'terminal': 5228, 'compete': 1128, 'patience': 3842, 'douchebaggery': 1611, 'kenny': 2948, 'enjoys': 1769, 'spanking': 4867, 'above': 174, 'urinal': 5584, 'sweepstakes': 5078, 'tattoo': 5168, 'chalked': 947, 'pavement': 3846, 'applefanatic': 403, 'toolkit': 5368, 'bike': 667, 'rei': 4314, 'sxswtoolkit': 5123, 'digging': 1508, 'craps': 1270, 'rematch': 4339, 'omaha': 3684, 'seemed': 4580, 'offering': 3665, 'anyways': 380, 'logical': 3158, 'progression': 4104, 'intriguing': 2799, 'chatter': 975, 'introducing': 2803, 'affair': 247, 'print': 4079, 'cuts': 1342, 'bugs': 817, 'sweets': 5080, 'economies': 1696, 'continual': 1189, 'pgi': 3893, 'borrow': 734, '82': 138, 'choose': 1007, 'awhile': 528, 'visualisation': 5674, 'ghost': 2247, 'movement': 3487, 'pacman': 3779, 'rebecca': 4261, 'distribution': 1555, 'recipient': 4271, 'ungrateful': 5537, 'sheeple': 4655, 'gesture': 2241, 'ahem': 269, 'mounts': 3484, 'journal': 2910, 'momento': 3452, '59p': 118, '99å': 155, 'catfight': 916, 'patented': 3840, 'mentionn': 3358, 'notch': 3617, 'stellar': 4951, 'smooth': 4792, 'showusyouricrazy': 4696, 'eff': 1710, 'reliving': 4336, 'completes': 1136, 'letters': 3085, 'ben': 638, 'benieuwd': 640, 'indicates': 2720, 'widgets': 5803, 'tube': 5457, 'hint': 2527, 'heavens': 2492, 'travelers': 5422, 'delayed': 1423, 'passenger': 3831, 'girlcrush': 2259, 'shortly': 4679, 'overshadowing': 3760, 'arrives': 438, 'porting': 4007, 'syncing': 5133, '3k': 93, 'hpsxsw': 2607, 'rescuing': 4363, 'envisioning': 1786, 'broadcast': 796, 'area': 425, 'auntie': 488, 'voxpop': 5688, 'channel': 959, 'volunteers': 5685, '45am': 102, 'alt': 313, 'universe': 5543, 'fastest': 1944, 'reach': 4238, 'mxm': 3520, 'firm': 2022, 'goer': 2286, 'halls': 2421, 'bicycle': 663, 'cursing': 1333, 'losing': 3182, 'zzzs': 5986, 'sitby': 4730, 'include': 2710, 'hollow': 2559, 'freemusic': 2125, 'teeny': 5207, 'steady': 4946, 'winamp': 5817, 'direct': 1518, 'quarters': 4183, 'extenders': 1889, 'tight': 5319, 'endeavor': 1751, 'ummmm': 5513, 'djroe': 1562, 'chances': 953, 'lookin': 3171, 'north': 3615, 'apartment': 385, 'wires': 5833, 'livetapp': 3138, 'raffling': 4210, 'thirsty': 5285, 'walkin': 5707, 'yelping': 5941, 'the_daily': 5250, 'appear': 395, 'festivalexplorer': 1983, 'solves': 4833, 'musica': 3510, 'musiek': 3513, 'musique': 3515, 'musik': 3514, 'ù_¾': 5999, 'captured': 888, 'lessons': 3080, 'sheen': 4654, 'spider': 4887, 'bryce': 808, 'manor': 3269, '99': 154, 'cents': 936, 'pdx': 3857, 'epicenter': 1789, 'settle': 4625, 'argument': 430, 'parentheses': 3812, 'wordnerd': 5871, 'mifi': 3387, 'solid': 4829, 'resource': 4368, 'tenets': 5224, 'newly': 3573, 'traveling': 5423, 'impedimenta': 2684, 'photosharing': 3902, 'ck': 1028, 'culture': 1321, 'documented': 1571, 'geekest': 2220, 'hidden': 2514, 'sorted': 4854, 'appealing': 394, 'adapt': 214, 'overcome': 3752, 'creativity': 1290, 'prompt': 4113, 'virtually': 5665, 'panelist': 3794, 'grew': 2352, 'mins': 3410, 'wut': 5913, 'francisco': 2117, 'sfo': 4634, 'legacy': 3070, 'extras': 1893, 'breeds': 777, 'midst': 3385, 'mar': 3278, 'favorited': 1952, 'doo': 1599, 'dah': 1349, 'pushio': 4159, 'amazon': 324, 'tmrw': 5347, 'tweetcaster': 5478, 'zip': 5979, 'keywords': 2953, 'hashtag': 2453, 'padless': 3780, 'bmm': 711, 'sxswmymistake': 5116, 'gathering': 2205, 'grown': 2371, 'men': 3354, 'hooting': 2577, 'cords': 1224, 'princess': 4077, 'papyrus': 3808, 'sort': 4852, 'lavelle': 3043, 'playstation': 3962, 'xbox': 5917, 'essentially': 1803, 'stabilizer': 4915}\n"
     ]
    }
   ],
   "source": [
    "# create the transform\n",
    "vectorizer = CountVectorizer()\n",
    "# tokenize and build vocab\n",
    "vectorizer.fit(data[\"text\"])\n",
    "# summarize\n",
    "print(vectorizer.vocabulary_)\n"
   ]
  },
  {
   "cell_type": "code",
   "execution_count": 26,
   "metadata": {},
   "outputs": [
    {
     "name": "stdout",
     "output_type": "stream",
     "text": [
      "(3548, 6022)\n",
      "<class 'scipy.sparse.csr.csr_matrix'>\n",
      "[[0 0 0 ... 0 0 0]\n",
      " [0 0 0 ... 0 0 0]\n",
      " [0 0 0 ... 0 0 0]\n",
      " ...\n",
      " [0 0 0 ... 0 0 0]\n",
      " [0 0 0 ... 0 0 0]\n",
      " [0 0 0 ... 0 0 0]]\n"
     ]
    }
   ],
   "source": [
    "# encode document\n",
    "vector = vectorizer.transform(data[\"text\"])\n",
    "# summarize encoded vector\n",
    "print(vector.shape)\n",
    "print(type(vector))\n",
    "print(vector.toarray())\n"
   ]
  },
  {
   "cell_type": "code",
   "execution_count": 27,
   "metadata": {
    "colab": {},
    "colab_type": "code",
    "id": "KyXtZGr-H0Nl"
   },
   "outputs": [
    {
     "name": "stdout",
     "output_type": "stream",
     "text": [
      "      000  02  03  0310apple  08  10  100  100s  100tc  101  ...    ûïmute  \\\n",
      "0       0   0   0          0   0   0    0     0      0    0  ...         0   \n",
      "1       0   0   0          0   0   0    0     0      0    0  ...         0   \n",
      "2       0   0   0          0   0   0    0     0      0    0  ...         0   \n",
      "3       0   0   0          0   0   0    0     0      0    0  ...         0   \n",
      "4       0   0   0          0   0   0    0     0      0    0  ...         0   \n",
      "5       0   0   0          0   0   0    0     0      0    0  ...         0   \n",
      "6       0   0   0          0   0   0    0     0      0    0  ...         0   \n",
      "7       0   0   0          0   0   0    0     0      0    0  ...         0   \n",
      "8       0   0   0          0   0   0    0     0      0    0  ...         0   \n",
      "9       0   0   0          0   0   0    0     0      0    0  ...         0   \n",
      "10      0   0   0          0   0   0    0     0      0    0  ...         0   \n",
      "11      0   0   0          0   0   0    0     0      0    0  ...         0   \n",
      "12      0   0   0          0   0   0    0     0      0    0  ...         0   \n",
      "13      0   0   0          0   0   0    0     0      0    0  ...         0   \n",
      "14      0   0   0          0   0   0    0     0      0    0  ...         0   \n",
      "15      0   0   0          0   0   0    0     0      0    0  ...         0   \n",
      "16      0   0   0          0   0   0    0     0      0    0  ...         0   \n",
      "17      0   0   0          0   0   0    0     0      0    0  ...         0   \n",
      "18      0   0   0          0   0   0    0     0      0    0  ...         0   \n",
      "19      0   0   0          0   0   0    0     0      0    0  ...         0   \n",
      "20      0   0   0          0   0   0    0     0      0    0  ...         0   \n",
      "21      0   0   0          0   0   0    0     0      0    0  ...         0   \n",
      "22      0   0   0          0   0   0    0     0      0    0  ...         0   \n",
      "23      0   0   0          0   0   0    0     0      0    0  ...         0   \n",
      "24      0   0   0          0   0   0    0     0      0    0  ...         0   \n",
      "25      0   0   0          0   0   0    0     0      0    0  ...         0   \n",
      "26      0   0   0          0   0   0    0     0      0    0  ...         0   \n",
      "27      0   0   0          0   0   0    0     0      0    0  ...         0   \n",
      "28      0   0   0          0   0   0    0     0      0    0  ...         0   \n",
      "29      0   0   0          0   0   0    0     0      0    0  ...         0   \n",
      "...   ...  ..  ..        ...  ..  ..  ...   ...    ...  ...  ...       ...   \n",
      "3518    0   0   0          0   0   0    0     0      0    0  ...         0   \n",
      "3519    0   0   0          0   0   0    0     0      0    0  ...         0   \n",
      "3520    0   0   0          0   0   0    0     0      0    0  ...         0   \n",
      "3521    0   0   0          0   0   0    0     0      0    0  ...         0   \n",
      "3522    0   0   0          0   0   0    0     0      0    0  ...         0   \n",
      "3523    0   0   0          0   0   0    0     0      0    0  ...         0   \n",
      "3524    0   0   0          0   0   0    0     0      0    0  ...         0   \n",
      "3525    0   0   0          0   0   0    0     0      0    0  ...         0   \n",
      "3526    0   0   0          0   0   0    0     0      0    0  ...         0   \n",
      "3527    0   0   0          0   0   0    0     0      0    0  ...         0   \n",
      "3528    0   0   0          0   0   0    0     0      0    0  ...         0   \n",
      "3529    0   0   0          0   0   0    0     0      0    0  ...         0   \n",
      "3530    0   0   0          0   0   0    0     0      0    0  ...         0   \n",
      "3531    0   0   0          0   0   0    0     0      0    0  ...         0   \n",
      "3532    0   0   0          0   0   0    0     0      0    0  ...         0   \n",
      "3533    0   0   0          0   0   0    0     0      0    0  ...         0   \n",
      "3534    0   0   0          0   0   0    0     0      0    0  ...         0   \n",
      "3535    0   0   0          0   0   0    0     0      0    0  ...         0   \n",
      "3536    0   0   0          0   0   0    0     0      0    0  ...         0   \n",
      "3537    0   0   0          0   0   0    0     0      0    0  ...         0   \n",
      "3538    0   0   0          0   0   0    0     0      0    0  ...         0   \n",
      "3539    0   0   0          0   0   0    0     0      0    0  ...         0   \n",
      "3540    0   0   0          0   0   0    0     0      0    0  ...         0   \n",
      "3541    0   0   0          0   0   0    0     0      0    0  ...         0   \n",
      "3542    0   0   0          0   0   0    0     0      0    0  ...         0   \n",
      "3543    0   0   0          0   0   0    0     0      0    0  ...         0   \n",
      "3544    0   0   0          0   0   0    0     0      0    0  ...         0   \n",
      "3545    0   0   0          0   0   0    0     0      0    0  ...         0   \n",
      "3546    0   0   0          0   0   0    0     0      0    0  ...         0   \n",
      "3547    0   0   0          0   0   0    0     0      0    0  ...         0   \n",
      "\n",
      "      ûïspecials  ûïthe  ûïview  ûò  ûòand  ûó  ûójust  ûólewis  ûóthe  \n",
      "0              0      0       0   0      0   0       0        0      0  \n",
      "1              0      0       0   0      0   0       0        0      0  \n",
      "2              0      0       0   0      0   0       0        0      0  \n",
      "3              0      0       0   0      0   0       0        0      0  \n",
      "4              0      0       0   0      0   0       0        0      0  \n",
      "5              0      0       0   0      0   0       0        0      0  \n",
      "6              0      0       0   0      0   0       0        0      0  \n",
      "7              0      0       0   0      0   0       0        0      0  \n",
      "8              0      0       0   0      0   0       0        0      0  \n",
      "9              0      0       0   0      0   0       0        0      0  \n",
      "10             0      0       0   0      0   0       0        0      0  \n",
      "11             0      0       0   0      0   0       0        0      0  \n",
      "12             0      0       0   0      0   0       0        0      0  \n",
      "13             0      0       0   0      0   0       0        0      0  \n",
      "14             0      0       0   0      0   0       0        0      0  \n",
      "15             0      0       0   0      0   0       0        0      0  \n",
      "16             0      0       0   0      0   0       0        0      0  \n",
      "17             0      0       0   0      0   0       0        0      0  \n",
      "18             0      0       0   0      0   0       0        0      0  \n",
      "19             0      0       0   0      0   0       0        0      0  \n",
      "20             0      0       0   0      0   0       0        0      0  \n",
      "21             0      0       0   0      0   0       0        0      0  \n",
      "22             0      0       0   0      0   0       0        0      0  \n",
      "23             0      0       0   0      0   0       0        0      0  \n",
      "24             0      0       0   0      0   0       0        0      0  \n",
      "25             0      0       0   0      0   0       0        0      0  \n",
      "26             0      0       0   0      0   0       0        0      0  \n",
      "27             0      0       0   0      0   0       0        0      0  \n",
      "28             0      0       0   0      0   0       0        0      0  \n",
      "29             0      0       0   0      0   0       0        0      0  \n",
      "...          ...    ...     ...  ..    ...  ..     ...      ...    ...  \n",
      "3518           0      0       0   0      0   0       0        0      0  \n",
      "3519           0      0       0   0      0   0       0        0      0  \n",
      "3520           0      0       0   0      0   0       0        0      0  \n",
      "3521           0      0       0   0      0   0       0        0      0  \n",
      "3522           0      0       0   0      0   0       0        0      0  \n",
      "3523           0      0       0   0      0   0       0        0      0  \n",
      "3524           0      0       0   0      0   0       0        0      0  \n",
      "3525           0      0       0   0      0   0       0        0      0  \n",
      "3526           0      0       0   0      0   0       0        0      0  \n",
      "3527           0      0       0   0      0   0       0        0      0  \n",
      "3528           0      0       0   0      0   0       0        0      0  \n",
      "3529           0      0       0   0      0   0       0        0      0  \n",
      "3530           0      0       0   0      0   0       0        0      0  \n",
      "3531           0      0       0   0      0   0       0        0      0  \n",
      "3532           0      0       0   0      0   0       0        0      0  \n",
      "3533           0      0       0   0      0   0       0        0      0  \n",
      "3534           0      0       0   0      0   0       0        0      0  \n",
      "3535           0      0       0   0      0   0       0        0      0  \n",
      "3536           0      0       0   0      0   0       0        0      0  \n",
      "3537           0      0       0   0      0   0       0        0      0  \n",
      "3538           0      0       0   0      0   0       0        0      0  \n",
      "3539           0      0       0   0      0   0       0        0      0  \n",
      "3540           0      0       0   0      0   0       0        0      0  \n",
      "3541           0      0       0   0      0   0       0        0      0  \n",
      "3542           0      0       0   0      0   0       0        0      0  \n",
      "3543           0      0       0   0      0   0       0        0      0  \n",
      "3544           0      0       0   0      0   0       0        0      0  \n",
      "3545           0      0       0   0      0   0       0        0      0  \n",
      "3546           0      0       0   0      0   0       0        0      0  \n",
      "3547           0      0       0   0      0   0       0        0      0  \n",
      "\n",
      "[3548 rows x 6022 columns]\n"
     ]
    }
   ],
   "source": [
    "dtm_df = pd.DataFrame(vector.toarray(), columns=vectorizer.get_feature_names())\n",
    "print(dtm_df)"
   ]
  },
  {
   "cell_type": "markdown",
   "metadata": {
    "colab_type": "text",
    "id": "5pxd5fSHH0Nt"
   },
   "source": [
    "### 5. Find number of different words in vocabulary"
   ]
  },
  {
   "cell_type": "code",
   "execution_count": 28,
   "metadata": {},
   "outputs": [
    {
     "data": {
      "text/plain": [
       "['__class__',\n",
       " '__delattr__',\n",
       " '__dict__',\n",
       " '__dir__',\n",
       " '__doc__',\n",
       " '__eq__',\n",
       " '__format__',\n",
       " '__ge__',\n",
       " '__getattribute__',\n",
       " '__getstate__',\n",
       " '__gt__',\n",
       " '__hash__',\n",
       " '__init__',\n",
       " '__init_subclass__',\n",
       " '__le__',\n",
       " '__lt__',\n",
       " '__module__',\n",
       " '__ne__',\n",
       " '__new__',\n",
       " '__reduce__',\n",
       " '__reduce_ex__',\n",
       " '__repr__',\n",
       " '__setattr__',\n",
       " '__setstate__',\n",
       " '__sizeof__',\n",
       " '__str__',\n",
       " '__subclasshook__',\n",
       " '__weakref__',\n",
       " '_char_ngrams',\n",
       " '_char_wb_ngrams',\n",
       " '_check_vocabulary',\n",
       " '_count_vocab',\n",
       " '_get_param_names',\n",
       " '_limit_features',\n",
       " '_sort_features',\n",
       " '_validate_vocabulary',\n",
       " '_white_spaces',\n",
       " '_word_ngrams',\n",
       " 'analyzer',\n",
       " 'binary',\n",
       " 'build_analyzer',\n",
       " 'build_preprocessor',\n",
       " 'build_tokenizer',\n",
       " 'decode',\n",
       " 'decode_error',\n",
       " 'dtype',\n",
       " 'encoding',\n",
       " 'fit',\n",
       " 'fit_transform',\n",
       " 'fixed_vocabulary_',\n",
       " 'get_feature_names',\n",
       " 'get_params',\n",
       " 'get_stop_words',\n",
       " 'input',\n",
       " 'inverse_transform',\n",
       " 'lowercase',\n",
       " 'max_df',\n",
       " 'max_features',\n",
       " 'min_df',\n",
       " 'ngram_range',\n",
       " 'preprocessor',\n",
       " 'set_params',\n",
       " 'stop_words',\n",
       " 'stop_words_',\n",
       " 'strip_accents',\n",
       " 'token_pattern',\n",
       " 'tokenizer',\n",
       " 'transform',\n",
       " 'vocabulary',\n",
       " 'vocabulary_']"
      ]
     },
     "execution_count": 28,
     "metadata": {},
     "output_type": "execute_result"
    }
   ],
   "source": [
    "dir(vectorizer)"
   ]
  },
  {
   "cell_type": "code",
   "execution_count": 29,
   "metadata": {
    "colab": {},
    "colab_type": "code",
    "id": "p1DQ2LdNH0Nu"
   },
   "outputs": [
    {
     "data": {
      "text/plain": [
       "{'wesley83': 5775,\n",
       " 'have': 2461,\n",
       " '3g': 91,\n",
       " 'iphone': 2831,\n",
       " 'after': 252,\n",
       " 'hrs': 2609,\n",
       " 'tweeting': 5484,\n",
       " 'at': 463,\n",
       " 'rise_austin': 4433,\n",
       " 'it': 2855,\n",
       " 'was': 5728,\n",
       " 'dead': 1391,\n",
       " 'need': 3547,\n",
       " 'to': 5351,\n",
       " 'upgrade': 5574,\n",
       " 'plugin': 3972,\n",
       " 'stations': 4939,\n",
       " 'sxsw': 5096,\n",
       " 'jessedee': 2887,\n",
       " 'know': 2989,\n",
       " 'about': 173,\n",
       " 'fludapp': 2056,\n",
       " 'awesome': 524,\n",
       " 'ipad': 2821,\n",
       " 'app': 389,\n",
       " 'that': 5247,\n",
       " 'you': 5953,\n",
       " 'll': 3141,\n",
       " 'likely': 3109,\n",
       " 'appreciate': 410,\n",
       " 'for': 2090,\n",
       " 'its': 2858,\n",
       " 'design': 1455,\n",
       " 'also': 312,\n",
       " 'they': 5272,\n",
       " 're': 4237,\n",
       " 'giving': 2268,\n",
       " 'free': 2124,\n",
       " 'ts': 5452,\n",
       " 'swonderlin': 5087,\n",
       " 'can': 876,\n",
       " 'not': 3616,\n",
       " 'wait': 5698,\n",
       " 'should': 4682,\n",
       " 'sale': 4489,\n",
       " 'them': 5258,\n",
       " 'down': 1613,\n",
       " 'hope': 2580,\n",
       " 'this': 5286,\n",
       " 'year': 5935,\n",
       " 'festival': 1982,\n",
       " 'isn': 2850,\n",
       " 'as': 452,\n",
       " 'crashy': 1276,\n",
       " 'sxtxstate': 5124,\n",
       " 'great': 2346,\n",
       " 'stuff': 5007,\n",
       " 'on': 3689,\n",
       " 'fri': 2130,\n",
       " 'marissa': 3285,\n",
       " 'mayer': 3319,\n",
       " 'google': 2308,\n",
       " 'tim': 5322,\n",
       " 'reilly': 4316,\n",
       " 'tech': 5190,\n",
       " 'books': 721,\n",
       " 'conferences': 1151,\n",
       " 'amp': 335,\n",
       " 'matt': 3311,\n",
       " 'mullenweg': 3502,\n",
       " 'wordpress': 5872,\n",
       " 'is': 2847,\n",
       " 'just': 2927,\n",
       " 'starting': 4931,\n",
       " 'ctia': 1319,\n",
       " 'around': 436,\n",
       " 'the': 5249,\n",
       " 'corner': 1226,\n",
       " 'and': 341,\n",
       " 'googleio': 2316,\n",
       " 'only': 3694,\n",
       " 'hop': 2579,\n",
       " 'skip': 4747,\n",
       " 'jump': 2925,\n",
       " 'from': 2139,\n",
       " 'there': 5267,\n",
       " 'good': 2301,\n",
       " 'time': 5324,\n",
       " 'be': 604,\n",
       " 'an': 338,\n",
       " 'android': 346,\n",
       " 'fan': 1922,\n",
       " 'beautifully': 613,\n",
       " 'smart': 4776,\n",
       " 'simple': 4716,\n",
       " 'idea': 2643,\n",
       " 'rt': 4468,\n",
       " 'madebymany': 3237,\n",
       " 'thenextweb': 5263,\n",
       " 'wrote': 5907,\n",
       " 'our': 3739,\n",
       " 'hollergram': 2558,\n",
       " 'http': 2615,\n",
       " 'bit': 677,\n",
       " 'ly': 3219,\n",
       " 'ieavob': 2654,\n",
       " 'counting': 1245,\n",
       " 'days': 1389,\n",
       " 'plus': 3974,\n",
       " 'strong': 4997,\n",
       " 'canadian': 878,\n",
       " 'dollar': 1583,\n",
       " 'means': 3331,\n",
       " 'stock': 4961,\n",
       " 'up': 5567,\n",
       " 'apple': 399,\n",
       " 'gear': 2212,\n",
       " 'excited': 1849,\n",
       " 'meet': 3339,\n",
       " 'samsungmobileus': 4497,\n",
       " 'so': 4810,\n",
       " 'show': 4688,\n",
       " 'my': 3521,\n",
       " 'sprint': 4907,\n",
       " 'galaxy': 2189,\n",
       " 'still': 4958,\n",
       " 'running': 4479,\n",
       " 'fail': 1912,\n",
       " 'find': 2011,\n",
       " 'start': 4929,\n",
       " 'impromptu': 2695,\n",
       " 'parties': 3821,\n",
       " 'with': 5839,\n",
       " 'hurricaneparty': 2626,\n",
       " 'gvlrin': 2399,\n",
       " 'til': 5320,\n",
       " 'comes': 1105,\n",
       " 'out': 3741,\n",
       " 'foursquare': 2111,\n",
       " 'ups': 5579,\n",
       " 'game': 2192,\n",
       " 'in': 2704,\n",
       " 'mp': 3494,\n",
       " 'grn7pk': 2358,\n",
       " 'prefer': 4043,\n",
       " 'gowalla': 2328,\n",
       " 'by': 849,\n",
       " 'far': 1932,\n",
       " 'best': 647,\n",
       " 'looking': 3172,\n",
       " 'date': 1379,\n",
       " 'gotta': 2323,\n",
       " 'love': 3192,\n",
       " 'calendar': 859,\n",
       " 'featuring': 1961,\n",
       " 'top': 5372,\n",
       " 'cases': 906,\n",
       " 'check': 980,\n",
       " 'hamsandwich': 2423,\n",
       " 'via': 5643,\n",
       " 'ischafer': 2849,\n",
       " 'gt': 2379,\n",
       " 'axzwxb': 531,\n",
       " 'tinyurl': 5333,\n",
       " 'com': 1098,\n",
       " '4nqv92l': 109,\n",
       " 'haha': 2413,\n",
       " 'awesomely': 525,\n",
       " 'rad': 4205,\n",
       " 'htdfim': 2611,\n",
       " 'noticed': 3624,\n",
       " 'dst': 1649,\n",
       " 'coming': 1109,\n",
       " 'weekend': 5763,\n",
       " 'how': 2603,\n",
       " 'many': 3271,\n",
       " 'users': 5599,\n",
       " 'will': 5810,\n",
       " 'hour': 2598,\n",
       " 'late': 3026,\n",
       " 'come': 1102,\n",
       " 'sunday': 5041,\n",
       " 'morning': 3474,\n",
       " 'added': 217,\n",
       " 'flights': 2046,\n",
       " 'planely': 3943,\n",
       " 'matching': 3308,\n",
       " 'people': 3871,\n",
       " 'planes': 3944,\n",
       " 'airports': 282,\n",
       " 'downloaded': 1616,\n",
       " 'klm': 2982,\n",
       " 'nicely': 3590,\n",
       " 'done': 1594,\n",
       " 'must': 3516,\n",
       " 'malbonster': 3259,\n",
       " 'lovely': 3196,\n",
       " 'review': 4399,\n",
       " 'forbes': 2091,\n",
       " 'holler': 2557,\n",
       " 'gram': 2335,\n",
       " 'co': 1074,\n",
       " 'g4gzypv': 2178,\n",
       " 'buy': 842,\n",
       " 'ipad2': 2823,\n",
       " 'while': 5786,\n",
       " 'austin': 490,\n",
       " 'sure': 5054,\n",
       " 'if': 2655,\n",
       " 'store': 4971,\n",
       " 'oh': 3676,\n",
       " 'god': 2283,\n",
       " 'pure': 4153,\n",
       " 'unadulterated': 5518,\n",
       " 'easier': 1682,\n",
       " 'browse': 802,\n",
       " 'events': 1821,\n",
       " 'than': 5242,\n",
       " 'website': 5758,\n",
       " 'okay': 3679,\n",
       " 'really': 4253,\n",
       " 'yay': 5931,\n",
       " 'new': 3570,\n",
       " '11': 16,\n",
       " 'kthxbai': 2996,\n",
       " 'photo': 3898,\n",
       " 'installed': 2766,\n",
       " 'which': 5785,\n",
       " 'nice': 3589,\n",
       " 'tumblr': 5459,\n",
       " 'x6t1pi6av7': 5916,\n",
       " 'enjoying': 1768,\n",
       " 'changes': 957,\n",
       " 'forward': 2107,\n",
       " 'seeing': 4578,\n",
       " 'what': 5780,\n",
       " 'else': 1729,\n",
       " 'their': 5256,\n",
       " 'sleeves': 4757,\n",
       " 'laurieshook': 3041,\n",
       " 'smcdallas': 4785,\n",
       " 'pre': 4039,\n",
       " 'party': 3826,\n",
       " 'wed': 5761,\n",
       " 'hoping': 2583,\n",
       " 'win': 5816,\n",
       " 'resulting': 4385,\n",
       " 'shameless': 4643,\n",
       " 'promotion': 4112,\n",
       " 'chevysmc': 991,\n",
       " 'michaelpiliero': 3377,\n",
       " 'someone': 4839,\n",
       " 'started': 4930,\n",
       " 'partnerhub': 3823,\n",
       " 'group': 2363,\n",
       " 'groups': 2368,\n",
       " '4sq3': 111,\n",
       " 'looks': 3174,\n",
       " 'like': 3106,\n",
       " 'going': 2293,\n",
       " 'rock': 4444,\n",
       " 'update': 5570,\n",
       " 'push': 4156,\n",
       " 'tonight': 5361,\n",
       " 'etsbzk': 1809,\n",
       " 'keepaustinweird': 2942,\n",
       " 'were': 5773,\n",
       " 'right': 4422,\n",
       " 'sweeeeet': 5076,\n",
       " 'job': 2895,\n",
       " 'team': 5183,\n",
       " 'very': 5639,\n",
       " 'a3xvwc6': 166,\n",
       " 'may': 3317,\n",
       " 'leave': 3066,\n",
       " 'vuvuzela': 5694,\n",
       " 'home': 2564,\n",
       " 'now': 3631,\n",
       " 'your': 5955,\n",
       " 'are': 424,\n",
       " 'itunes': 2862,\n",
       " 'us': 5587,\n",
       " 'id420666439': 2642,\n",
       " 'mt': 3500,\n",
       " 'mention': 3356,\n",
       " 'ha': 2404,\n",
       " 'first': 2023,\n",
       " 'line': 3117,\n",
       " 'quot': 4199,\n",
       " 'pop': 3994,\n",
       " 'event': 1818,\n",
       " 'planner': 3946,\n",
       " 'eventprofs': 1820,\n",
       " 'pcma': 3854,\n",
       " 'engage365': 1758,\n",
       " 'false': 1918,\n",
       " 'alarm': 290,\n",
       " 'circles': 1022,\n",
       " 'ûòand': 6017,\n",
       " 'probably': 4090,\n",
       " 'ever': 1824,\n",
       " 'link': 3121,\n",
       " 'social': 4812,\n",
       " 'weather': 5748,\n",
       " 'greet': 2350,\n",
       " 'sweater': 5075,\n",
       " 'night': 3595,\n",
       " 'putting': 4163,\n",
       " 'flash': 2037,\n",
       " 'downtown': 1621,\n",
       " 'sell': 4592,\n",
       " 'smartcover': 4777,\n",
       " 'ûª': 6001,\n",
       " 'opens': 3705,\n",
       " 'instant': 2769,\n",
       " 'access': 183,\n",
       " 'waited': 5699,\n",
       " 'get': 2242,\n",
       " 'one': 3691,\n",
       " 'hand': 2424,\n",
       " 'held': 2497,\n",
       " 'hobo': 2550,\n",
       " 'drafthouse': 1623,\n",
       " 'launches': 3038,\n",
       " 'shotgun': 4681,\n",
       " 'hooray': 2575,\n",
       " 'ûï': 6006,\n",
       " 'opening': 3704,\n",
       " 'wooooo': 5867,\n",
       " 'open': 3699,\n",
       " 'midnight': 3384,\n",
       " 'talking': 5160,\n",
       " 'effort': 1714,\n",
       " 'allow': 303,\n",
       " 'systems': 5137,\n",
       " 'bettercloud': 654,\n",
       " '1st': 50,\n",
       " 'stop': 4967,\n",
       " 'chaos': 961,\n",
       " 'hunt': 2624,\n",
       " 'java': 2875,\n",
       " 'spy': 4908,\n",
       " 'chance': 952,\n",
       " 'omfg': 3685,\n",
       " 'heard': 2483,\n",
       " 'pics': 3910,\n",
       " 'already': 311,\n",
       " 'again': 254,\n",
       " 'insane': 2751,\n",
       " 'attending': 474,\n",
       " 'headaches': 2474,\n",
       " 'boooo': 724,\n",
       " 'flipboard': 2048,\n",
       " 'developing': 1479,\n",
       " 'version': 5637,\n",
       " 'says': 4520,\n",
       " 'power': 4026,\n",
       " 'sxswi': 5110,\n",
       " 'do': 1566,\n",
       " 'bands': 558,\n",
       " 'food': 2080,\n",
       " 'art': 441,\n",
       " 'ice': 2638,\n",
       " 'cream': 1283,\n",
       " 'nifty': 3594,\n",
       " 'interactive': 2782,\n",
       " 'maps': 3277,\n",
       " 'holla': 2556,\n",
       " 'butt': 838,\n",
       " 'over': 3749,\n",
       " 'here': 2506,\n",
       " 'case': 905,\n",
       " 'but': 837,\n",
       " 'phone': 3896,\n",
       " 'of': 3661,\n",
       " 'post': 4017,\n",
       " 'makes': 3255,\n",
       " 'easy': 1685,\n",
       " 'connect': 1162,\n",
       " 'all': 300,\n",
       " 'networks': 3566,\n",
       " 'behaving': 629,\n",
       " 'today': 5353,\n",
       " 'crashes': 1274,\n",
       " 'yesterday': 5945,\n",
       " 'ridiculous': 4417,\n",
       " 'hey': 2509,\n",
       " 'fans': 1929,\n",
       " 'peek': 3862,\n",
       " 'space': 4866,\n",
       " 'slated': 4753,\n",
       " 'tomorrow': 5357,\n",
       " 'thing': 5276,\n",
       " 'doing': 1580,\n",
       " 'earth': 1677,\n",
       " 'face': 1902,\n",
       " 'company': 1124,\n",
       " 'her': 2505,\n",
       " 'sxwsi': 5125,\n",
       " 'thanks': 5244,\n",
       " 'speech': 4879,\n",
       " 'apps': 417,\n",
       " 'being': 632,\n",
       " 'showcased': 4690,\n",
       " 'conf': 1149,\n",
       " 'sxswh': 5109,\n",
       " 'sxsh': 5094,\n",
       " 'does': 1575,\n",
       " 'provide': 4124,\n",
       " 'chargers': 966,\n",
       " 've': 5625,\n",
       " 'changed': 955,\n",
       " 'mind': 3397,\n",
       " 'next': 3582,\n",
       " 'xmas': 5921,\n",
       " 'shiny': 4663,\n",
       " 'garyvee': 2201,\n",
       " 'book': 719,\n",
       " 'stores': 4972,\n",
       " 'christmas': 1012,\n",
       " 'nerds': 3556,\n",
       " 'yai': 5928,\n",
       " 'ubersocial': 5502,\n",
       " 'includes': 2712,\n",
       " 'uberguide': 5501,\n",
       " 'sponsored': 4898,\n",
       " 'cont': 1182,\n",
       " 'fast': 1940,\n",
       " 'fun': 2161,\n",
       " 'future': 2168,\n",
       " 'presenting': 4063,\n",
       " 'search': 4563,\n",
       " 'local': 3149,\n",
       " 'mobile': 3437,\n",
       " 'headline': 2477,\n",
       " 'gadget': 2180,\n",
       " 'hmm': 2547,\n",
       " 'could': 1241,\n",
       " 'seen': 4583,\n",
       " 'dataviz': 1378,\n",
       " 'translates': 5416,\n",
       " 'satanic': 4505,\n",
       " 'sayin': 4518,\n",
       " 'launched': 3037,\n",
       " 'checkins': 983,\n",
       " 'month': 3464,\n",
       " 'ago': 264,\n",
       " 'ins': 2750,\n",
       " 'ok': 3678,\n",
       " 'outs': 3747,\n",
       " 'bizzy': 680,\n",
       " 'before': 622,\n",
       " 'tweet': 5477,\n",
       " 'think': 5279,\n",
       " 'speak': 4873,\n",
       " 'mark': 3289,\n",
       " 'belinsky': 634,\n",
       " '911tweets': 148,\n",
       " 'panel': 3793,\n",
       " 'kawasaki': 2940,\n",
       " 'lewis': 3090,\n",
       " 'level': 3088,\n",
       " 'reasoning': 4259,\n",
       " 'continued': 1190,\n",
       " 'existence': 1860,\n",
       " 'evidence': 1834,\n",
       " 'bawling': 599,\n",
       " 'pagemaker': 3782,\n",
       " 'saved': 4510,\n",
       " 'those': 5291,\n",
       " 'jwtatl': 2935,\n",
       " 'enchantment': 1749,\n",
       " 'spark': 4868,\n",
       " 'teamandroid': 5185,\n",
       " 'award': 518,\n",
       " 'read': 4241,\n",
       " 'thoughts': 5295,\n",
       " 'japan': 2872,\n",
       " 'apac': 384,\n",
       " 'regions': 4305,\n",
       " 'dealing': 1395,\n",
       " 'earthquake': 1679,\n",
       " 'tsunami': 5454,\n",
       " 'trauma': 5420,\n",
       " 'schools': 4544,\n",
       " 'marketing': 3294,\n",
       " 'experts': 1875,\n",
       " 'temporary': 5218,\n",
       " 'def': 1413,\n",
       " 'tent': 5225,\n",
       " 'powerhouse': 4029,\n",
       " 'gym': 2400,\n",
       " '6th': 130,\n",
       " 'congress': 1161,\n",
       " 'along': 308,\n",
       " '10': 5,\n",
       " '000': 0,\n",
       " 'happy': 2444,\n",
       " 'hipsters': 2534,\n",
       " 'wins': 5825,\n",
       " 'support': 5049,\n",
       " 'launch': 3036,\n",
       " 'trending': 5428,\n",
       " 'nerdy': 3558,\n",
       " 'christian': 1011,\n",
       " 'devs': 1484,\n",
       " 'want': 5718,\n",
       " 'talk': 5158,\n",
       " 'or': 3715,\n",
       " 'maybe': 3318,\n",
       " 'we': 5744,\n",
       " 'wk': 5847,\n",
       " 'together': 5354,\n",
       " 'cool': 1209,\n",
       " 'me': 3326,\n",
       " 'has': 2450,\n",
       " 'taken': 5150,\n",
       " 'storm': 4974,\n",
       " 'part': 3817,\n",
       " 'haz': 2469,\n",
       " 'ifrom': 2657,\n",
       " 'gr8': 2331,\n",
       " 'stacks': 4916,\n",
       " 'waiting': 5700,\n",
       " 'bought': 742,\n",
       " 'got': 2322,\n",
       " 'mine': 3405,\n",
       " 'no': 3603,\n",
       " 'hassle': 2456,\n",
       " 'handled': 2428,\n",
       " 'perfectly': 3877,\n",
       " 'smallbiz': 4774,\n",
       " 'reviews': 4400,\n",
       " 'play': 3953,\n",
       " 'places': 3937,\n",
       " 'seo': 4603,\n",
       " 'take': 5148,\n",
       " 'major': 3251,\n",
       " 'south': 4862,\n",
       " 'korean': 2994,\n",
       " 'director': 1521,\n",
       " 'gets': 2244,\n",
       " '130': 24,\n",
       " 'make': 3253,\n",
       " 'movie': 3490,\n",
       " 'entirely': 1779,\n",
       " 'his': 2538,\n",
       " 'beautiful': 612,\n",
       " 'pic': 3905,\n",
       " 'sneaky': 4808,\n",
       " 'usual': 5604,\n",
       " 'beta': 651,\n",
       " 'testing': 5233,\n",
       " 'moonbot': 3469,\n",
       " 'studios': 5004,\n",
       " 'louisiana': 3189,\n",
       " 'won': 5860,\n",
       " 'day': 1387,\n",
       " 'ton': 5358,\n",
       " 'sold': 4827,\n",
       " 'everything': 1831,\n",
       " 'except': 1846,\n",
       " '64gig': 126,\n",
       " 'wifi': 5805,\n",
       " 'white': 5788,\n",
       " 'did': 1494,\n",
       " 'manage': 3263,\n",
       " 'yours': 5956,\n",
       " 'known': 2992,\n",
       " 'jeans': 2881,\n",
       " 'configuration': 1153,\n",
       " 'offered': 3664,\n",
       " 'promo': 4110,\n",
       " 'ninjafinder': 3602,\n",
       " 'who': 5790,\n",
       " 'sucks': 5027,\n",
       " 'poursite': 4025,\n",
       " 'learning': 3060,\n",
       " 'life': 3096,\n",
       " 'changing': 958,\n",
       " 'impact': 2681,\n",
       " 'real': 4246,\n",
       " 'actual': 209,\n",
       " 'lives': 3136,\n",
       " 'bravo': 764,\n",
       " 'lonelyplanet': 3164,\n",
       " 'guide': 2388,\n",
       " 'limited': 3114,\n",
       " 'lp': 3206,\n",
       " 'travel': 5421,\n",
       " 'short': 4676,\n",
       " 'lines': 3118,\n",
       " 'left': 3069,\n",
       " 'tradeshow': 5406,\n",
       " 'demo': 1439,\n",
       " 'theatre': 5251,\n",
       " 'see': 4577,\n",
       " 'why': 5799,\n",
       " 'presenters': 4062,\n",
       " 'using': 5602,\n",
       " 'anyone': 376,\n",
       " 'quick': 4192,\n",
       " 'hundred': 2620,\n",
       " 'dollars': 1584,\n",
       " 'ad': 211,\n",
       " 'hoc': 2551,\n",
       " 'cost': 1235,\n",
       " 'monday': 3456,\n",
       " 'barry': 574,\n",
       " 'diller': 1514,\n",
       " 'york': 5952,\n",
       " 'times': 5329,\n",
       " 'lunch': 3214,\n",
       " 'hotel': 2593,\n",
       " 'six': 4734,\n",
       " 'dirty': 1523,\n",
       " 'martinis': 3298,\n",
       " 'mondays': 3457,\n",
       " 'seriously': 4608,\n",
       " 'any': 372,\n",
       " 'constant': 1175,\n",
       " 'causing': 921,\n",
       " 'lost': 3183,\n",
       " 'schedules': 4539,\n",
       " 'sync': 5130,\n",
       " 'wp7': 5897,\n",
       " 'ready': 4245,\n",
       " 'some': 4835,\n",
       " 'ur': 5583,\n",
       " 'blogging': 700,\n",
       " 'conflagration': 1156,\n",
       " 'doofusness': 1602,\n",
       " 'attention': 475,\n",
       " 'ers': 1797,\n",
       " 'rumored': 4474,\n",
       " 'needs': 3549,\n",
       " 'went': 5772,\n",
       " 'lousy': 3191,\n",
       " 'winning': 5824,\n",
       " 'picture': 3911,\n",
       " 'spent': 4886,\n",
       " 'used': 5594,\n",
       " 'couple': 1247,\n",
       " 'city': 1027,\n",
       " 'blocks': 696,\n",
       " 'behind': 631,\n",
       " '100s': 7,\n",
       " 'emails': 1732,\n",
       " 'give': 2263,\n",
       " 'composed': 1139,\n",
       " 'replies': 4354,\n",
       " 'protip': 4120,\n",
       " '10pm': 14,\n",
       " 'block': 693,\n",
       " 'popup': 4001,\n",
       " 'selling': 4593,\n",
       " 'ipad2s': 2824,\n",
       " '2s': 72,\n",
       " 'wild': 5808,\n",
       " 'both': 738,\n",
       " 'say': 4517,\n",
       " 'terrible': 5230,\n",
       " 'takes': 5152,\n",
       " 'video': 5649,\n",
       " 'snapping': 4805,\n",
       " 'away': 522,\n",
       " 'keynote': 2951,\n",
       " 'slides': 4761,\n",
       " 'southwest': 4865,\n",
       " 'sweet': 5079,\n",
       " 'ballroom': 554,\n",
       " 'more': 3472,\n",
       " '35': 85,\n",
       " 'million': 3394,\n",
       " 'miles': 3390,\n",
       " 'per': 3873,\n",
       " 'driving': 1637,\n",
       " 'navigation': 3539,\n",
       " 'growing': 2370,\n",
       " 'band': 557,\n",
       " 'share': 4645,\n",
       " 'track': 5398,\n",
       " 'audience': 483,\n",
       " 'stage': 4918,\n",
       " 'use': 5593,\n",
       " 'frostwire': 2143,\n",
       " 'wi': 5800,\n",
       " 'fi': 1989,\n",
       " 'available': 509,\n",
       " 'don': 1589,\n",
       " 'car': 889,\n",
       " 'zimride': 5977,\n",
       " 'etc': 1807,\n",
       " 'rides': 4414,\n",
       " 'shareable': 4646,\n",
       " 'picked': 3907,\n",
       " 'mophie': 3471,\n",
       " 'battery': 592,\n",
       " 'prep': 4052,\n",
       " 'lugging': 3213,\n",
       " 'laptop': 3016,\n",
       " 'huge': 2618,\n",
       " 'last': 3023,\n",
       " 'rumor': 4473,\n",
       " 'monger': 3460,\n",
       " 'å_': 5992,\n",
       " 'preview': 4071,\n",
       " 'socbiz': 4811,\n",
       " 'fb': 1956,\n",
       " 'yes': 5944,\n",
       " 'please': 3964,\n",
       " 'build': 818,\n",
       " 'less': 3079,\n",
       " '24': 61,\n",
       " 'hours': 2599,\n",
       " 'biggest': 666,\n",
       " 'history': 2540,\n",
       " 'groupme': 2366,\n",
       " 'sounds': 4859,\n",
       " 'incredible': 2716,\n",
       " 'phones': 3897,\n",
       " 'yet': 5946,\n",
       " 'alarms': 291,\n",
       " 'botch': 737,\n",
       " 'timechange': 5325,\n",
       " 'freak': 2122,\n",
       " 'missed': 3417,\n",
       " 'panels': 3796,\n",
       " 'bloody': 702,\n",
       " 'marys': 3300,\n",
       " 'shouts': 4687,\n",
       " 'ladies': 3005,\n",
       " 'holding': 2554,\n",
       " 'shows': 4695,\n",
       " 'photos': 3901,\n",
       " 'sipping': 4726,\n",
       " 'beer': 621,\n",
       " 'cc': 924,\n",
       " 'meant': 3332,\n",
       " 'wish': 5836,\n",
       " 'dyac': 1663,\n",
       " 'stupid': 5012,\n",
       " 'rumors': 4475,\n",
       " 'signs': 4711,\n",
       " 'point': 3980,\n",
       " '15': 29,\n",
       " 'minute': 3412,\n",
       " 'brilliant': 787,\n",
       " 'enlightening': 1770,\n",
       " 'mechanics': 3337,\n",
       " 'presentation': 4060,\n",
       " 'sales': 4490,\n",
       " 'genius': 2234,\n",
       " 'dictaphone': 1491,\n",
       " 'vid': 5648,\n",
       " 'camera': 871,\n",
       " 'wow': 5894,\n",
       " 'cerebellum': 940,\n",
       " 'charged': 964,\n",
       " 'personal': 3885,\n",
       " 'found': 2109,\n",
       " 'kyping': 2999,\n",
       " 'geolocation': 2239,\n",
       " 'releasing': 4327,\n",
       " 'when': 5782,\n",
       " 'background': 536,\n",
       " 'patch': 3839,\n",
       " 'batterykiller': 593,\n",
       " 'live': 3134,\n",
       " 'rsvp': 4467,\n",
       " 'sundayswagger': 5042,\n",
       " 'eventbrite': 1819,\n",
       " '20': 51,\n",
       " 'scoremore': 4552,\n",
       " 'course': 1249,\n",
       " 'built': 821,\n",
       " 'temp': 5215,\n",
       " 'texas': 5237,\n",
       " 'understand': 5529,\n",
       " 'concept': 1144,\n",
       " 'corralling': 1231,\n",
       " 'cattle': 918,\n",
       " 'pickmeupanipad2': 3909,\n",
       " 'didn': 1495,\n",
       " 'let': 3081,\n",
       " 'something': 4841,\n",
       " 'having': 2464,\n",
       " 'retail': 4388,\n",
       " 'near': 3544,\n",
       " 'keep': 2941,\n",
       " 'surprise': 5059,\n",
       " 'opened': 3702,\n",
       " 'town': 5396,\n",
       " 'cnet': 1067,\n",
       " 'ipads': 2830,\n",
       " 'example': 1842,\n",
       " 'layed': 3047,\n",
       " 'registers': 4307,\n",
       " 'checkout': 984,\n",
       " 'gswsxsw': 2378,\n",
       " 'traffic': 5407,\n",
       " 'noon': 3611,\n",
       " 'fresh': 2129,\n",
       " 'shipment': 4664,\n",
       " 'pretty': 4069,\n",
       " 'fingers': 2018,\n",
       " 'crossed': 1303,\n",
       " 'technews': 5199,\n",
       " 'saves': 4511,\n",
       " 'set': 4621,\n",
       " 'tech_news': 5192,\n",
       " 'lt': 3207,\n",
       " 'true': 5442,\n",
       " 'loathe': 3146,\n",
       " 'blogs': 701,\n",
       " 'atx': 480,\n",
       " 'mall': 3260,\n",
       " '10x': 15,\n",
       " 'crowded': 1307,\n",
       " 'fake': 1917,\n",
       " 'fucking': 2154,\n",
       " 'dongle': 1595,\n",
       " 'makeshift': 3256,\n",
       " 'kidding': 2963,\n",
       " 'amazing': 322,\n",
       " 'fanboy': 1924,\n",
       " 'shit': 4668,\n",
       " 'temptation': 5220,\n",
       " 'control': 1194,\n",
       " '5pm': 121,\n",
       " 'view': 5654,\n",
       " 'io': 2817,\n",
       " 'office': 3667,\n",
       " 'news': 3574,\n",
       " 'ûªll': 6002,\n",
       " 'during': 1660,\n",
       " '150': 30,\n",
       " 'few': 1986,\n",
       " 'too': 5363,\n",
       " 'atåê': 482,\n",
       " 'software': 4825,\n",
       " 'development': 1480,\n",
       " 'once': 3690,\n",
       " 'release': 4324,\n",
       " 'working': 5878,\n",
       " 'overheard': 3754,\n",
       " 'relaxing': 4323,\n",
       " 'computer': 1140,\n",
       " 'agreed': 266,\n",
       " 'arg': 428,\n",
       " 'hate': 2457,\n",
       " 'blackberry': 683,\n",
       " 'back': 535,\n",
       " 'shocked': 4671,\n",
       " 'technology': 5202,\n",
       " 'because': 615,\n",
       " 'go': 2281,\n",
       " 'everbody': 1825,\n",
       " 'media': 3338,\n",
       " 'driven': 1634,\n",
       " 'revolutions': 4404,\n",
       " 'better': 653,\n",
       " 'long': 3165,\n",
       " 'work': 5874,\n",
       " 'rather': 4232,\n",
       " 'agileagency': 262,\n",
       " 'knackered': 2983,\n",
       " 'playing': 3960,\n",
       " 'updating': 5573,\n",
       " 'timeline': 5327,\n",
       " 'smashed': 4784,\n",
       " 'partytweets': 3828,\n",
       " 'bed': 618,\n",
       " 'mdw': 3325,\n",
       " 'second': 4573,\n",
       " 'halfway': 2419,\n",
       " 'through': 5301,\n",
       " 'haven': 2462,\n",
       " 'even': 1816,\n",
       " 'boarded': 714,\n",
       " 'plane': 3942,\n",
       " 'amateurhour': 321,\n",
       " 'jobs_co': 2897,\n",
       " 'final': 2006,\n",
       " 'doodles': 1601,\n",
       " 'googledoodle': 2313,\n",
       " 'crowd': 1305,\n",
       " 'tripping': 5436,\n",
       " 'each': 1667,\n",
       " 'other': 3735,\n",
       " 'aclu': 196,\n",
       " '80': 134,\n",
       " 'laughed': 3035,\n",
       " 'until': 5560,\n",
       " 'week': 5762,\n",
       " 'hauling': 2460,\n",
       " 'macbook': 3226,\n",
       " 'everywhere': 1833,\n",
       " 'shoulder': 4684,\n",
       " 'rub': 4469,\n",
       " 'attendees': 473,\n",
       " 'qr': 4169,\n",
       " 'code': 1079,\n",
       " 'reader': 4242,\n",
       " 'image': 2671,\n",
       " 'badge': 542,\n",
       " 'optiscan': 3714,\n",
       " 'four': 2110,\n",
       " 'took': 5366,\n",
       " 'lego': 3071,\n",
       " 'pit': 3926,\n",
       " 'replaced': 4349,\n",
       " 'recharging': 4268,\n",
       " 'station': 4938,\n",
       " 'might': 3388,\n",
       " 'prices': 4075,\n",
       " 'crap': 1266,\n",
       " 'samsung': 4496,\n",
       " 'bad': 541,\n",
       " 'qs': 4173,\n",
       " 'process': 4092,\n",
       " 'poo': 3989,\n",
       " 'poos': 3993,\n",
       " 'ideas': 2645,\n",
       " 'leaves': 3067,\n",
       " 'early': 1672,\n",
       " 'creative': 1288,\n",
       " 'busy': 836,\n",
       " 'gamestorming': 2197,\n",
       " 'trying': 5451,\n",
       " 'balance': 550,\n",
       " 'vs': 5690,\n",
       " 'airplane': 280,\n",
       " 'mode': 3444,\n",
       " '100': 6,\n",
       " 'tweets': 5485,\n",
       " 'precommerce': 4041,\n",
       " 'watch': 5733,\n",
       " 'ipadmadness': 2829,\n",
       " 'shop': 4674,\n",
       " 'core': 1225,\n",
       " 'action': 202,\n",
       " 'celebrate': 926,\n",
       " 'beauty': 614,\n",
       " 'web': 5749,\n",
       " 'msft': 3499,\n",
       " 'ie9': 2653,\n",
       " 'html5': 2613,\n",
       " 'gave': 2206,\n",
       " 'money': 3459,\n",
       " 'relief': 4331,\n",
       " 'had': 2411,\n",
       " 'improve': 2696,\n",
       " 'beyond': 659,\n",
       " 'sharing': 4649,\n",
       " 'positive': 4011,\n",
       " 'actions': 203,\n",
       " 'world': 5881,\n",
       " 'download': 1615,\n",
       " 'earthhour': 1678,\n",
       " '60': 123,\n",
       " 'bing': 671,\n",
       " 'bettersearch': 655,\n",
       " 'shot': 4680,\n",
       " 'success': 5019,\n",
       " 'structured': 4998,\n",
       " 'potentially': 4023,\n",
       " 'higher': 2517,\n",
       " 'margin': 3283,\n",
       " 'cpa': 1261,\n",
       " 'model': 3445,\n",
       " 'results': 4386,\n",
       " 'qagb': 4167,\n",
       " 'impulsive': 2701,\n",
       " 'friends': 2137,\n",
       " 'gen': 2228,\n",
       " '32gb': 84,\n",
       " 'buying': 844,\n",
       " 'geekdate': 2216,\n",
       " 'herself': 2508,\n",
       " 'present': 4059,\n",
       " 'rsq': 4466,\n",
       " 'tuxedo': 5471,\n",
       " 'lose': 3180,\n",
       " 'yourself': 5957,\n",
       " 'exciting': 1851,\n",
       " 'ûªt': 6005,\n",
       " 'certain': 942,\n",
       " 'meetings': 3342,\n",
       " 'hello': 2499,\n",
       " 'dont': 1597,\n",
       " 'miss': 3416,\n",
       " 'charles': 971,\n",
       " 'chen': 989,\n",
       " 'chromeos': 1014,\n",
       " 'booth': 726,\n",
       " 'exhibit': 1857,\n",
       " 'hall': 2420,\n",
       " '1pm': 49,\n",
       " 'guess': 2384,\n",
       " ...}"
      ]
     },
     "execution_count": 29,
     "metadata": {},
     "output_type": "execute_result"
    }
   ],
   "source": [
    "\n",
    "vectorizer.vocabulary_"
   ]
  },
  {
   "cell_type": "markdown",
   "metadata": {
    "colab_type": "text",
    "id": "dwtgjTBeH0Ny"
   },
   "source": [
    "#### Tip: To see all available functions for an Object use dir"
   ]
  },
  {
   "cell_type": "code",
   "execution_count": null,
   "metadata": {
    "colab": {},
    "colab_type": "code",
    "id": "2n_iCcTNH0N0"
   },
   "outputs": [],
   "source": []
  },
  {
   "cell_type": "markdown",
   "metadata": {
    "colab_type": "text",
    "id": "ShA6D8jKH0N5"
   },
   "source": [
    "### 6. Find out how many Positive and Negative emotions are there.\n",
    "\n",
    "Hint: Use value_counts on that column"
   ]
  },
  {
   "cell_type": "code",
   "execution_count": 30,
   "metadata": {
    "colab": {},
    "colab_type": "code",
    "id": "q7LAl5pzH0N6"
   },
   "outputs": [
    {
     "data": {
      "text/plain": [
       "Positive emotion    2978\n",
       "Negative emotion     570\n",
       "Name: is_there_an_emotion_directed_at_a_brand_or_product, dtype: int64"
      ]
     },
     "execution_count": 30,
     "metadata": {},
     "output_type": "execute_result"
    }
   ],
   "source": [
    "data[\"is_there_an_emotion_directed_at_a_brand_or_product\"].value_counts()"
   ]
  },
  {
   "cell_type": "markdown",
   "metadata": {
    "colab_type": "text",
    "id": "IUvgj0FoH0N9"
   },
   "source": [
    "### 7. Change the labels for Positive and Negative emotions as 1 and 0 respectively and store in a different column in the same dataframe named 'Label'\n",
    "\n",
    "Hint: use map on that column and give labels"
   ]
  },
  {
   "cell_type": "code",
   "execution_count": 31,
   "metadata": {},
   "outputs": [],
   "source": [
    "data['Label']=data[\"is_there_an_emotion_directed_at_a_brand_or_product\"].map({\"Negative emotion\":0, \"Positive emotion\":1})"
   ]
  },
  {
   "cell_type": "code",
   "execution_count": 32,
   "metadata": {},
   "outputs": [
    {
     "data": {
      "text/plain": [
       "1    2978\n",
       "0     570\n",
       "Name: Label, dtype: int64"
      ]
     },
     "execution_count": 32,
     "metadata": {},
     "output_type": "execute_result"
    }
   ],
   "source": [
    "data['Label'].value_counts()"
   ]
  },
  {
   "cell_type": "code",
   "execution_count": 33,
   "metadata": {},
   "outputs": [
    {
     "name": "stdout",
     "output_type": "stream",
     "text": [
      "<class 'pandas.core.frame.DataFrame'>\n",
      "Int64Index: 3548 entries, 0 to 9088\n",
      "Data columns (total 5 columns):\n",
      "tweet_text                                            3548 non-null object\n",
      "emotion_in_tweet_is_directed_at                       3548 non-null object\n",
      "is_there_an_emotion_directed_at_a_brand_or_product    3548 non-null object\n",
      "text                                                  3548 non-null object\n",
      "Label                                                 3548 non-null int64\n",
      "dtypes: int64(1), object(4)\n",
      "memory usage: 166.3+ KB\n"
     ]
    }
   ],
   "source": [
    "data.info()"
   ]
  },
  {
   "cell_type": "markdown",
   "metadata": {
    "colab_type": "text",
    "id": "3YErwYLCH0N_"
   },
   "source": [
    "### 8 Define the feature set (independent variable or X) to be `text` column and `labels` as target (or dependent variable)  and divide into train and test datasets"
   ]
  },
  {
   "cell_type": "code",
   "execution_count": 34,
   "metadata": {
    "colab": {},
    "colab_type": "code",
    "id": "lNkwrGgEH0OA"
   },
   "outputs": [
    {
     "name": "stdout",
     "output_type": "stream",
     "text": [
      "(3548, 6022) (3548,)\n",
      "(2661, 6022) (2661,) (887, 6022) (887,)\n",
      "(2661, 6022) (2661,) (887, 6022) (887,)\n"
     ]
    }
   ],
   "source": [
    "\n",
    "print(vector.shape,data['Label'].shape)\n",
    "X_train_cv, X_test_cv, y_train, y_test = train_test_split(vector, data['Label'].values, test_size=0.25)\n",
    "print(X_train_cv.shape,y_train.shape,X_test_cv.shape,y_test.shape)\n",
    "X_train_cv=X_train_cv.toarray()\n",
    "X_test_cv=X_test_cv.toarray()\n",
    "print(X_train_cv.shape,y_train.shape,X_test_cv.shape,y_test.shape)"
   ]
  },
  {
   "cell_type": "markdown",
   "metadata": {
    "colab_type": "text",
    "id": "Q5nlCuaaH0OD"
   },
   "source": [
    "## 9. **Predicting the sentiment:**\n",
    "\n",
    "\n",
    "### Use Naive Bayes and Logistic Regression and their accuracy scores for predicting the sentiment of the given text"
   ]
  },
  {
   "cell_type": "code",
   "execution_count": 35,
   "metadata": {
    "colab": {},
    "colab_type": "code",
    "id": "2AbVYssaH0OE"
   },
   "outputs": [
    {
     "data": {
      "text/plain": [
       "GaussianNB(priors=None)"
      ]
     },
     "execution_count": 35,
     "metadata": {},
     "output_type": "execute_result"
    },
    {
     "data": {
      "text/plain": [
       "0.9297256670424653"
      ]
     },
     "execution_count": 35,
     "metadata": {},
     "output_type": "execute_result"
    },
    {
     "data": {
      "text/plain": [
       "0.7835400225479143"
      ]
     },
     "execution_count": 35,
     "metadata": {},
     "output_type": "execute_result"
    },
    {
     "name": "stdout",
     "output_type": "stream",
     "text": [
      "             precision    recall  f1-score   support\n",
      "\n",
      "          0       0.35      0.54      0.43       132\n",
      "          1       0.91      0.83      0.87       755\n",
      "\n",
      "avg / total       0.83      0.78      0.80       887\n",
      "\n",
      "[[ 71  61]\n",
      " [131 624]]\n"
     ]
    },
    {
     "data": {
      "text/plain": [
       "0.7835400225479143"
      ]
     },
     "execution_count": 35,
     "metadata": {},
     "output_type": "execute_result"
    }
   ],
   "source": [
    "model_nb = GaussianNB()\n",
    "model_nb.fit(X_train_cv, y_train)\n",
    "model_nb.score(X_train_cv, y_train)\n",
    "model_nb.score(X_test_cv, y_test)\n",
    "test_pred_nb = model_nb.predict(X_test_cv)\n",
    "print(metrics.classification_report(y_test, test_pred_nb))\n",
    "print(metrics.confusion_matrix(y_test, test_pred_nb))\n",
    "accuracy = (test_pred_nb == y_test).mean()\n",
    "accuracy"
   ]
  },
  {
   "cell_type": "code",
   "execution_count": 36,
   "metadata": {
    "colab": {},
    "colab_type": "code",
    "id": "ktXrLhmOH0Of"
   },
   "outputs": [
    {
     "data": {
      "text/plain": [
       "LogisticRegression(C=1.0, class_weight=None, dual=False, fit_intercept=True,\n",
       "          intercept_scaling=1, max_iter=100, multi_class='ovr', n_jobs=1,\n",
       "          penalty='l2', random_state=None, solver='liblinear', tol=0.0001,\n",
       "          verbose=0, warm_start=False)"
      ]
     },
     "execution_count": 36,
     "metadata": {},
     "output_type": "execute_result"
    },
    {
     "data": {
      "text/plain": [
       "0.9804584742577979"
      ]
     },
     "execution_count": 36,
     "metadata": {},
     "output_type": "execute_result"
    },
    {
     "data": {
      "text/plain": [
       "0.8793686583990981"
      ]
     },
     "execution_count": 36,
     "metadata": {},
     "output_type": "execute_result"
    },
    {
     "name": "stdout",
     "output_type": "stream",
     "text": [
      "             precision    recall  f1-score   support\n",
      "\n",
      "          0       0.67      0.38      0.48       132\n",
      "          1       0.90      0.97      0.93       755\n",
      "\n",
      "avg / total       0.86      0.88      0.86       887\n",
      "\n",
      "[[ 50  82]\n",
      " [ 25 730]]\n"
     ]
    },
    {
     "data": {
      "text/plain": [
       "0.8793686583990981"
      ]
     },
     "execution_count": 36,
     "metadata": {},
     "output_type": "execute_result"
    }
   ],
   "source": [
    "#model = LogisticRegression(C=0.2, dual=True)\n",
    "#model.fit(X_train_tfidf, y_train)\n",
    "#preds = model.predict(X_test_tfidf)\n",
    "#accuracy = (preds == y_test).mean()\n",
    "\n",
    "model_logr = LogisticRegression()\n",
    "model_logr.fit(X_train_cv, y_train)\n",
    "model_logr.score(X_train_cv, y_train)\n",
    "model_logr.score(X_test_cv, y_test)\n",
    "test_pred_logr = model_logr.predict(X_test_cv)\n",
    "print(metrics.classification_report(y_test, test_pred_logr))\n",
    "print(metrics.confusion_matrix(y_test, test_pred_logr))\n",
    "accuracy = (test_pred_logr == y_test).mean()\n",
    "accuracy"
   ]
  },
  {
   "cell_type": "markdown",
   "metadata": {
    "colab_type": "text",
    "id": "sw-0B33tH0Ox"
   },
   "source": [
    "## 10. Create a function called `tokenize_predict` which can take count vectorizer object as input and prints the accuracy for x (text) and y (labels)"
   ]
  },
  {
   "cell_type": "code",
   "execution_count": 37,
   "metadata": {
    "colab": {},
    "colab_type": "code",
    "id": "okCTOs1TH0Oy"
   },
   "outputs": [
    {
     "name": "stdout",
     "output_type": "stream",
     "text": [
      "(2483,) (1065,) (2483,) (1065,)\n"
     ]
    }
   ],
   "source": [
    "X_train, X_test, Y_train, Y_test = train_test_split(data[\"text\"], data[\"Label\"], test_size=0.30, random_state=1)\n",
    "print(X_train.shape, X_test.shape, Y_train.shape, Y_test.shape)"
   ]
  },
  {
   "cell_type": "code",
   "execution_count": 38,
   "metadata": {},
   "outputs": [],
   "source": [
    "def tokenize_test(vect):\n",
    "    X_train_dtm = vect.fit_transform(X_train)\n",
    "    print('Features: ', X_train_dtm.shape[1])\n",
    "    X_test_dtm = vect.transform(X_test)\n",
    "    nb = MultinomialNB()\n",
    "    nb.fit(X_train_dtm, Y_train)\n",
    "    Y_pred_class = nb.predict(X_test_dtm)\n",
    "    print('Accuracy: ', metrics.accuracy_score(Y_test, Y_pred_class))"
   ]
  },
  {
   "cell_type": "code",
   "execution_count": 39,
   "metadata": {},
   "outputs": [
    {
     "name": "stdout",
     "output_type": "stream",
     "text": [
      "Features:  4994\n",
      "Accuracy:  0.8676056338028169\n"
     ]
    }
   ],
   "source": [
    "vectorizer1 = CountVectorizer()\n",
    "tokenize_test(vectorizer1)"
   ]
  },
  {
   "cell_type": "markdown",
   "metadata": {
    "colab_type": "text",
    "id": "JxZ8jfPEH0O0"
   },
   "source": [
    "### 11 Create a count vectorizer function which includes n_grams = 1,2  and pass it to tokenize_predict function to print the accuracy score"
   ]
  },
  {
   "cell_type": "code",
   "execution_count": 40,
   "metadata": {
    "colab": {},
    "colab_type": "code",
    "id": "kdCyAN_IH0O0"
   },
   "outputs": [
    {
     "name": "stdout",
     "output_type": "stream",
     "text": [
      "Features:  25332\n",
      "Accuracy:  0.8751173708920188\n"
     ]
    }
   ],
   "source": [
    "vectorizer2 = CountVectorizer(ngram_range=(1,2))\n",
    "tokenize_test(vectorizer2)"
   ]
  },
  {
   "cell_type": "markdown",
   "metadata": {
    "colab_type": "text",
    "id": "axepytmgH0O4"
   },
   "source": [
    "### Q 12 Create a count vectorizer function with stopwords = 'english'  and pass it to tokenize_predict function to print the accuracy score"
   ]
  },
  {
   "cell_type": "code",
   "execution_count": 41,
   "metadata": {
    "colab": {},
    "colab_type": "code",
    "id": "HToGkq7vH0O4"
   },
   "outputs": [
    {
     "name": "stdout",
     "output_type": "stream",
     "text": [
      "Features:  4758\n",
      "Accuracy:  0.8666666666666667\n"
     ]
    }
   ],
   "source": [
    "vectorizer3 = CountVectorizer( stop_words='english')\n",
    "tokenize_test(vectorizer3)"
   ]
  },
  {
   "cell_type": "markdown",
   "metadata": {
    "colab_type": "text",
    "id": "iOIlJRxoH0O7"
   },
   "source": [
    "### Q 13 Create a count vectorizer function with stopwords = 'english' and max_features =300  and pass it to tokenize_predict function to print the accuracy score"
   ]
  },
  {
   "cell_type": "code",
   "execution_count": 42,
   "metadata": {
    "colab": {},
    "colab_type": "code",
    "id": "6fUhff-oH0O8"
   },
   "outputs": [
    {
     "name": "stdout",
     "output_type": "stream",
     "text": [
      "Features:  300\n",
      "Accuracy:  0.8112676056338028\n"
     ]
    }
   ],
   "source": [
    "vectorizer4 = CountVectorizer(max_features =300)\n",
    "tokenize_test(vectorizer4)"
   ]
  },
  {
   "cell_type": "markdown",
   "metadata": {
    "colab_type": "text",
    "id": "S2KZNWVkH0PA"
   },
   "source": [
    "### Q 14 Create a count vectorizer function with n_grams = 1,2  and max_features = 15000  and pass it to tokenize_predict function to print the accuracy score"
   ]
  },
  {
   "cell_type": "code",
   "execution_count": 43,
   "metadata": {
    "colab": {},
    "colab_type": "code",
    "id": "3v9XD082H0PB"
   },
   "outputs": [
    {
     "name": "stdout",
     "output_type": "stream",
     "text": [
      "Features:  15000\n",
      "Accuracy:  0.8788732394366198\n"
     ]
    }
   ],
   "source": [
    "vectorizer5 = CountVectorizer(ngram_range=(1,2),max_features =15000)\n",
    "tokenize_test(vectorizer5)"
   ]
  },
  {
   "cell_type": "markdown",
   "metadata": {
    "colab_type": "text",
    "id": "We3JK_SRH0PO"
   },
   "source": [
    "### Q. 15 -Create a count vectorizer function with n_grams = 1,2  and include terms that appear at least 2 times (min_df = 2)  and pass it to tokenize_predict function to print the accuracy score"
   ]
  },
  {
   "cell_type": "code",
   "execution_count": 44,
   "metadata": {
    "colab": {},
    "colab_type": "code",
    "id": "fUHrfDCyH0PP"
   },
   "outputs": [
    {
     "name": "stdout",
     "output_type": "stream",
     "text": [
      "Features:  8112\n",
      "Accuracy:  0.8685446009389671\n"
     ]
    }
   ],
   "source": [
    "vectorizer6 = CountVectorizer(ngram_range=(1,2), min_df = 2)\n",
    "tokenize_test(vectorizer6)"
   ]
  }
 ],
 "metadata": {
  "accelerator": "GPU",
  "colab": {
   "collapsed_sections": [],
   "name": "R8_Internal_Lab_Questions.ipynb",
   "provenance": [],
   "version": "0.3.2"
  },
  "kernelspec": {
   "display_name": "Python 3",
   "language": "python",
   "name": "python3"
  },
  "language_info": {
   "codemirror_mode": {
    "name": "ipython",
    "version": 3
   },
   "file_extension": ".py",
   "mimetype": "text/x-python",
   "name": "python",
   "nbconvert_exporter": "python",
   "pygments_lexer": "ipython3",
   "version": "3.7.0"
  }
 },
 "nbformat": 4,
 "nbformat_minor": 1
}
