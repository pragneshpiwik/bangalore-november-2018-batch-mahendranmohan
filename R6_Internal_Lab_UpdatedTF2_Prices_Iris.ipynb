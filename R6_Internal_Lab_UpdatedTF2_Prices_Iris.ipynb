{
 "cells": [
  {
   "cell_type": "code",
   "execution_count": 18,
   "metadata": {},
   "outputs": [],
   "source": []
  },
  {
   "cell_type": "markdown",
   "metadata": {
    "colab_type": "text",
    "id": "84Q8JfvaeZZ6"
   },
   "source": [
    "## Linear Classifier in TensorFlow \n",
    "Using Low Level API in Eager Execution mode"
   ]
  },
  {
   "cell_type": "markdown",
   "metadata": {
    "colab_type": "text",
    "id": "sb7Epo0VOB58"
   },
   "source": [
    "### Load tensorflow"
   ]
  },
  {
   "cell_type": "code",
   "execution_count": 1,
   "metadata": {
    "colab": {},
    "colab_type": "code",
    "id": "fHpCNRv1OB5-"
   },
   "outputs": [],
   "source": [
    "import tensorflow as tf"
   ]
  },
  {
   "cell_type": "code",
   "execution_count": 2,
   "metadata": {
    "colab": {},
    "colab_type": "code",
    "id": "Mjtb-EMcm5K0"
   },
   "outputs": [],
   "source": [
    "#Enable Eager Execution if using tensflow version < 2.0\n",
    "#From tensorflow v2.0 onwards, Eager Execution will be enabled by default\n",
    "from __future__ import absolute_import, division, print_function\n",
    "tf.enable_eager_execution()\n",
    "\n",
    "%matplotlib inline\n",
    "import warnings\n",
    "warnings.filterwarnings('ignore')\n",
    "from IPython.core.interactiveshell import InteractiveShell\n",
    "InteractiveShell.ast_node_interactivity = \"all\""
   ]
  },
  {
   "cell_type": "code",
   "execution_count": 3,
   "metadata": {},
   "outputs": [
    {
     "data": {
      "text/plain": [
       "True"
      ]
     },
     "execution_count": 3,
     "metadata": {},
     "output_type": "execute_result"
    }
   ],
   "source": [
    "tf.executing_eagerly() "
   ]
  },
  {
   "cell_type": "markdown",
   "metadata": {
    "colab_type": "text",
    "id": "DxJDmJqqOB6K",
    "slideshow": {
     "slide_type": "slide"
    }
   },
   "source": [
    "### Collect Data"
   ]
  },
  {
   "cell_type": "code",
   "execution_count": 4,
   "metadata": {
    "colab": {},
    "colab_type": "code",
    "id": "FhllFLyKOB6N"
   },
   "outputs": [],
   "source": [
    "#from google.colab import drive\n",
    "#drive.mount('/gdrive')"
   ]
  },
  {
   "cell_type": "code",
   "execution_count": 5,
   "metadata": {
    "colab": {},
    "colab_type": "code",
    "id": "KiObW4V4SIOz"
   },
   "outputs": [],
   "source": [
    "import pandas as pd"
   ]
  },
  {
   "cell_type": "code",
   "execution_count": 6,
   "metadata": {
    "colab": {},
    "colab_type": "code",
    "id": "B4yQKMiJOB6R"
   },
   "outputs": [],
   "source": [
    "df = pd.read_csv('prices.csv')"
   ]
  },
  {
   "cell_type": "markdown",
   "metadata": {
    "colab_type": "text",
    "id": "fgkX6SEqOB6W"
   },
   "source": [
    "\n",
    "### Check all columns in the dataset"
   ]
  },
  {
   "cell_type": "code",
   "execution_count": 7,
   "metadata": {
    "colab": {},
    "colab_type": "code",
    "id": "7K8pWsNQOB6X"
   },
   "outputs": [
    {
     "data": {
      "text/plain": [
       "(851264, 7)"
      ]
     },
     "execution_count": 7,
     "metadata": {},
     "output_type": "execute_result"
    },
    {
     "name": "stdout",
     "output_type": "stream",
     "text": [
      "<class 'pandas.core.frame.DataFrame'>\n",
      "RangeIndex: 851264 entries, 0 to 851263\n",
      "Data columns (total 7 columns):\n",
      "date      851264 non-null object\n",
      "symbol    851264 non-null object\n",
      "open      851264 non-null float64\n",
      "close     851264 non-null float64\n",
      "low       851264 non-null float64\n",
      "high      851264 non-null float64\n",
      "volume    851264 non-null float64\n",
      "dtypes: float64(5), object(2)\n",
      "memory usage: 45.5+ MB\n"
     ]
    },
    {
     "data": {
      "text/html": [
       "<div>\n",
       "<style scoped>\n",
       "    .dataframe tbody tr th:only-of-type {\n",
       "        vertical-align: middle;\n",
       "    }\n",
       "\n",
       "    .dataframe tbody tr th {\n",
       "        vertical-align: top;\n",
       "    }\n",
       "\n",
       "    .dataframe thead th {\n",
       "        text-align: right;\n",
       "    }\n",
       "</style>\n",
       "<table border=\"1\" class=\"dataframe\">\n",
       "  <thead>\n",
       "    <tr style=\"text-align: right;\">\n",
       "      <th></th>\n",
       "      <th>count</th>\n",
       "      <th>mean</th>\n",
       "      <th>std</th>\n",
       "      <th>min</th>\n",
       "      <th>25%</th>\n",
       "      <th>50%</th>\n",
       "      <th>75%</th>\n",
       "      <th>max</th>\n",
       "    </tr>\n",
       "  </thead>\n",
       "  <tbody>\n",
       "    <tr>\n",
       "      <th>open</th>\n",
       "      <td>851264.0</td>\n",
       "      <td>7.083699e+01</td>\n",
       "      <td>8.369588e+01</td>\n",
       "      <td>0.85</td>\n",
       "      <td>3.384000e+01</td>\n",
       "      <td>5.277000e+01</td>\n",
       "      <td>7.988000e+01</td>\n",
       "      <td>1.584440e+03</td>\n",
       "    </tr>\n",
       "    <tr>\n",
       "      <th>close</th>\n",
       "      <td>851264.0</td>\n",
       "      <td>7.085711e+01</td>\n",
       "      <td>8.368969e+01</td>\n",
       "      <td>0.86</td>\n",
       "      <td>3.385000e+01</td>\n",
       "      <td>5.280000e+01</td>\n",
       "      <td>7.989000e+01</td>\n",
       "      <td>1.578130e+03</td>\n",
       "    </tr>\n",
       "    <tr>\n",
       "      <th>low</th>\n",
       "      <td>851264.0</td>\n",
       "      <td>7.011841e+01</td>\n",
       "      <td>8.287729e+01</td>\n",
       "      <td>0.83</td>\n",
       "      <td>3.348000e+01</td>\n",
       "      <td>5.223000e+01</td>\n",
       "      <td>7.911000e+01</td>\n",
       "      <td>1.549940e+03</td>\n",
       "    </tr>\n",
       "    <tr>\n",
       "      <th>high</th>\n",
       "      <td>851264.0</td>\n",
       "      <td>7.154348e+01</td>\n",
       "      <td>8.446550e+01</td>\n",
       "      <td>0.88</td>\n",
       "      <td>3.419000e+01</td>\n",
       "      <td>5.331000e+01</td>\n",
       "      <td>8.061000e+01</td>\n",
       "      <td>1.600930e+03</td>\n",
       "    </tr>\n",
       "    <tr>\n",
       "      <th>volume</th>\n",
       "      <td>851264.0</td>\n",
       "      <td>5.415113e+06</td>\n",
       "      <td>1.249468e+07</td>\n",
       "      <td>0.00</td>\n",
       "      <td>1.221500e+06</td>\n",
       "      <td>2.476250e+06</td>\n",
       "      <td>5.222500e+06</td>\n",
       "      <td>8.596434e+08</td>\n",
       "    </tr>\n",
       "  </tbody>\n",
       "</table>\n",
       "</div>"
      ],
      "text/plain": [
       "           count          mean           std   min           25%  \\\n",
       "open    851264.0  7.083699e+01  8.369588e+01  0.85  3.384000e+01   \n",
       "close   851264.0  7.085711e+01  8.368969e+01  0.86  3.385000e+01   \n",
       "low     851264.0  7.011841e+01  8.287729e+01  0.83  3.348000e+01   \n",
       "high    851264.0  7.154348e+01  8.446550e+01  0.88  3.419000e+01   \n",
       "volume  851264.0  5.415113e+06  1.249468e+07  0.00  1.221500e+06   \n",
       "\n",
       "                 50%           75%           max  \n",
       "open    5.277000e+01  7.988000e+01  1.584440e+03  \n",
       "close   5.280000e+01  7.989000e+01  1.578130e+03  \n",
       "low     5.223000e+01  7.911000e+01  1.549940e+03  \n",
       "high    5.331000e+01  8.061000e+01  1.600930e+03  \n",
       "volume  2.476250e+06  5.222500e+06  8.596434e+08  "
      ]
     },
     "execution_count": 7,
     "metadata": {},
     "output_type": "execute_result"
    },
    {
     "data": {
      "text/html": [
       "<div>\n",
       "<style scoped>\n",
       "    .dataframe tbody tr th:only-of-type {\n",
       "        vertical-align: middle;\n",
       "    }\n",
       "\n",
       "    .dataframe tbody tr th {\n",
       "        vertical-align: top;\n",
       "    }\n",
       "\n",
       "    .dataframe thead th {\n",
       "        text-align: right;\n",
       "    }\n",
       "</style>\n",
       "<table border=\"1\" class=\"dataframe\">\n",
       "  <thead>\n",
       "    <tr style=\"text-align: right;\">\n",
       "      <th></th>\n",
       "      <th>date</th>\n",
       "      <th>symbol</th>\n",
       "      <th>open</th>\n",
       "      <th>close</th>\n",
       "      <th>low</th>\n",
       "      <th>high</th>\n",
       "      <th>volume</th>\n",
       "    </tr>\n",
       "  </thead>\n",
       "  <tbody>\n",
       "    <tr>\n",
       "      <th>0</th>\n",
       "      <td>2016-01-05 00:00:00</td>\n",
       "      <td>WLTW</td>\n",
       "      <td>123.430000</td>\n",
       "      <td>125.839996</td>\n",
       "      <td>122.309998</td>\n",
       "      <td>126.250000</td>\n",
       "      <td>2163600.0</td>\n",
       "    </tr>\n",
       "    <tr>\n",
       "      <th>1</th>\n",
       "      <td>2016-01-06 00:00:00</td>\n",
       "      <td>WLTW</td>\n",
       "      <td>125.239998</td>\n",
       "      <td>119.980003</td>\n",
       "      <td>119.940002</td>\n",
       "      <td>125.540001</td>\n",
       "      <td>2386400.0</td>\n",
       "    </tr>\n",
       "    <tr>\n",
       "      <th>2</th>\n",
       "      <td>2016-01-07 00:00:00</td>\n",
       "      <td>WLTW</td>\n",
       "      <td>116.379997</td>\n",
       "      <td>114.949997</td>\n",
       "      <td>114.930000</td>\n",
       "      <td>119.739998</td>\n",
       "      <td>2489500.0</td>\n",
       "    </tr>\n",
       "    <tr>\n",
       "      <th>3</th>\n",
       "      <td>2016-01-08 00:00:00</td>\n",
       "      <td>WLTW</td>\n",
       "      <td>115.480003</td>\n",
       "      <td>116.620003</td>\n",
       "      <td>113.500000</td>\n",
       "      <td>117.440002</td>\n",
       "      <td>2006300.0</td>\n",
       "    </tr>\n",
       "    <tr>\n",
       "      <th>4</th>\n",
       "      <td>2016-01-11 00:00:00</td>\n",
       "      <td>WLTW</td>\n",
       "      <td>117.010002</td>\n",
       "      <td>114.970001</td>\n",
       "      <td>114.089996</td>\n",
       "      <td>117.330002</td>\n",
       "      <td>1408600.0</td>\n",
       "    </tr>\n",
       "  </tbody>\n",
       "</table>\n",
       "</div>"
      ],
      "text/plain": [
       "                  date symbol        open       close         low        high  \\\n",
       "0  2016-01-05 00:00:00   WLTW  123.430000  125.839996  122.309998  126.250000   \n",
       "1  2016-01-06 00:00:00   WLTW  125.239998  119.980003  119.940002  125.540001   \n",
       "2  2016-01-07 00:00:00   WLTW  116.379997  114.949997  114.930000  119.739998   \n",
       "3  2016-01-08 00:00:00   WLTW  115.480003  116.620003  113.500000  117.440002   \n",
       "4  2016-01-11 00:00:00   WLTW  117.010002  114.970001  114.089996  117.330002   \n",
       "\n",
       "      volume  \n",
       "0  2163600.0  \n",
       "1  2386400.0  \n",
       "2  2489500.0  \n",
       "3  2006300.0  \n",
       "4  1408600.0  "
      ]
     },
     "execution_count": 7,
     "metadata": {},
     "output_type": "execute_result"
    }
   ],
   "source": [
    "df.shape\n",
    "df.info()\n",
    "df.describe().transpose()\n",
    "df.head()\n"
   ]
  },
  {
   "cell_type": "markdown",
   "metadata": {
    "colab_type": "text",
    "id": "7dU6X7MpOB6c"
   },
   "source": [
    "### Drop columns `date` and  `symbol`"
   ]
  },
  {
   "cell_type": "code",
   "execution_count": 8,
   "metadata": {
    "colab": {},
    "colab_type": "code",
    "id": "lh_6spSKOB6e"
   },
   "outputs": [],
   "source": [
    "df.drop(\"date\",axis=1,inplace=True)\n",
    "df.drop(\"symbol\",axis=1,inplace=True)"
   ]
  },
  {
   "cell_type": "code",
   "execution_count": 9,
   "metadata": {
    "colab": {},
    "colab_type": "code",
    "id": "xlwbUgTwOB6i",
    "outputId": "56bad82a-f271-415a-e0d6-cbe1c4290743"
   },
   "outputs": [
    {
     "data": {
      "text/html": [
       "<div>\n",
       "<style scoped>\n",
       "    .dataframe tbody tr th:only-of-type {\n",
       "        vertical-align: middle;\n",
       "    }\n",
       "\n",
       "    .dataframe tbody tr th {\n",
       "        vertical-align: top;\n",
       "    }\n",
       "\n",
       "    .dataframe thead th {\n",
       "        text-align: right;\n",
       "    }\n",
       "</style>\n",
       "<table border=\"1\" class=\"dataframe\">\n",
       "  <thead>\n",
       "    <tr style=\"text-align: right;\">\n",
       "      <th></th>\n",
       "      <th>open</th>\n",
       "      <th>close</th>\n",
       "      <th>low</th>\n",
       "      <th>high</th>\n",
       "      <th>volume</th>\n",
       "    </tr>\n",
       "  </thead>\n",
       "  <tbody>\n",
       "    <tr>\n",
       "      <th>0</th>\n",
       "      <td>123.430000</td>\n",
       "      <td>125.839996</td>\n",
       "      <td>122.309998</td>\n",
       "      <td>126.250000</td>\n",
       "      <td>2163600.0</td>\n",
       "    </tr>\n",
       "    <tr>\n",
       "      <th>1</th>\n",
       "      <td>125.239998</td>\n",
       "      <td>119.980003</td>\n",
       "      <td>119.940002</td>\n",
       "      <td>125.540001</td>\n",
       "      <td>2386400.0</td>\n",
       "    </tr>\n",
       "    <tr>\n",
       "      <th>2</th>\n",
       "      <td>116.379997</td>\n",
       "      <td>114.949997</td>\n",
       "      <td>114.930000</td>\n",
       "      <td>119.739998</td>\n",
       "      <td>2489500.0</td>\n",
       "    </tr>\n",
       "    <tr>\n",
       "      <th>3</th>\n",
       "      <td>115.480003</td>\n",
       "      <td>116.620003</td>\n",
       "      <td>113.500000</td>\n",
       "      <td>117.440002</td>\n",
       "      <td>2006300.0</td>\n",
       "    </tr>\n",
       "    <tr>\n",
       "      <th>4</th>\n",
       "      <td>117.010002</td>\n",
       "      <td>114.970001</td>\n",
       "      <td>114.089996</td>\n",
       "      <td>117.330002</td>\n",
       "      <td>1408600.0</td>\n",
       "    </tr>\n",
       "  </tbody>\n",
       "</table>\n",
       "</div>"
      ],
      "text/plain": [
       "         open       close         low        high     volume\n",
       "0  123.430000  125.839996  122.309998  126.250000  2163600.0\n",
       "1  125.239998  119.980003  119.940002  125.540001  2386400.0\n",
       "2  116.379997  114.949997  114.930000  119.739998  2489500.0\n",
       "3  115.480003  116.620003  113.500000  117.440002  2006300.0\n",
       "4  117.010002  114.970001  114.089996  117.330002  1408600.0"
      ]
     },
     "execution_count": 9,
     "metadata": {},
     "output_type": "execute_result"
    }
   ],
   "source": [
    "df.head()"
   ]
  },
  {
   "cell_type": "markdown",
   "metadata": {
    "colab_type": "text",
    "id": "3DBv3WWYOB6q"
   },
   "source": [
    "### Consider only first 1000 rows in the dataset for building feature set and target set\n",
    "Target 'Volume' has very high values. Divide 'Volume' by 1000,000"
   ]
  },
  {
   "cell_type": "code",
   "execution_count": 10,
   "metadata": {},
   "outputs": [
    {
     "data": {
      "text/plain": [
       "count    8.512640e+05\n",
       "mean     5.415113e+06\n",
       "std      1.249468e+07\n",
       "min      0.000000e+00\n",
       "25%      1.221500e+06\n",
       "50%      2.476250e+06\n",
       "75%      5.222500e+06\n",
       "max      8.596434e+08\n",
       "Name: volume, dtype: float64"
      ]
     },
     "execution_count": 10,
     "metadata": {},
     "output_type": "execute_result"
    },
    {
     "data": {
      "text/plain": [
       "(1000, 5)"
      ]
     },
     "execution_count": 10,
     "metadata": {},
     "output_type": "execute_result"
    }
   ],
   "source": [
    "df[\"volume\"].describe()\n",
    "#df = df.head(1000)\n",
    "df=df.iloc[0:1000,:]\n",
    "\n",
    "df.shape"
   ]
  },
  {
   "cell_type": "code",
   "execution_count": 11,
   "metadata": {
    "colab": {},
    "colab_type": "code",
    "id": "Z_hG9rGBOB6s"
   },
   "outputs": [],
   "source": [
    "df[\"volume\"] = df[\"volume\"] / 1000000"
   ]
  },
  {
   "cell_type": "markdown",
   "metadata": {
    "colab_type": "text",
    "id": "M3UaApqYOB6x"
   },
   "source": [
    "### Divide the data into train and test sets"
   ]
  },
  {
   "cell_type": "code",
   "execution_count": 12,
   "metadata": {},
   "outputs": [
    {
     "data": {
      "text/plain": [
       "(1000, 4)"
      ]
     },
     "execution_count": 12,
     "metadata": {},
     "output_type": "execute_result"
    },
    {
     "data": {
      "text/plain": [
       "(1000,)"
      ]
     },
     "execution_count": 12,
     "metadata": {},
     "output_type": "execute_result"
    }
   ],
   "source": [
    "X = df.iloc[:,0:4]\n",
    "Y = df['volume']\n",
    "X.shape\n",
    "Y.shape"
   ]
  },
  {
   "cell_type": "code",
   "execution_count": 13,
   "metadata": {
    "colab": {},
    "colab_type": "code",
    "id": "4LE4U8lTdQJq"
   },
   "outputs": [],
   "source": [
    "from sklearn.model_selection import train_test_split\n",
    "\n",
    "X_train, X_test, y_train, y_test = train_test_split(X, Y, test_size=0.30, random_state=1)"
   ]
  },
  {
   "cell_type": "markdown",
   "metadata": {
    "colab_type": "text",
    "id": "oYK-aUuLbrz2"
   },
   "source": [
    "#### Convert Training and Test Data to numpy float32 arrays\n"
   ]
  },
  {
   "cell_type": "code",
   "execution_count": 14,
   "metadata": {
    "colab": {},
    "colab_type": "code",
    "id": "Ao-S0tQGcncz"
   },
   "outputs": [
    {
     "name": "stdout",
     "output_type": "stream",
     "text": [
      "float32\n"
     ]
    }
   ],
   "source": [
    "#X_train = X_train.to_records()\n",
    "#X_test = X_test.to_records()  \n",
    "import numpy as np\n",
    "import pandas as pd\n",
    "\n",
    "X_train = np.float32(X_train)\n",
    "print(X_train.dtype)\n",
    "X_test = np.float32(X_test)\n",
    "y_train = np.float32(y_train)\n",
    "X_test = np.float32(X_test)\n"
   ]
  },
  {
   "cell_type": "markdown",
   "metadata": {
    "colab_type": "text",
    "id": "im1ZegbDdKgv"
   },
   "source": [
    "### Normalize the data\n",
    "You can use Normalizer from sklearn.preprocessing"
   ]
  },
  {
   "cell_type": "code",
   "execution_count": 15,
   "metadata": {
    "colab": {},
    "colab_type": "code",
    "id": "2EkKAy7fOB6y"
   },
   "outputs": [],
   "source": [
    "from sklearn.preprocessing import StandardScaler\n",
    "import sklearn.preprocessing as preprocessing\n",
    "#X_scaler = StandardScaler()\n",
    "#X_train_scaled = preprocessing.scale(X_train)\n",
    "#X_test_scaled = preprocessing.scale(X_test)\n",
    "#normalized_X = preprocessing.normalize([x_array])\n",
    "\n",
    "\n",
    "from sklearn.preprocessing import StandardScaler\n",
    "sc = StandardScaler()\n",
    "X_train_fit = sc.fit(X_train)\n",
    "X_train_std = X_train_fit.transform(X_train)\n",
    "X_test_fit = sc.fit(X_test)\n",
    "X_test_std = X_test_fit.transform(X_test)\n",
    "\n",
    "#y_train_fit = sc.fit(y_train)\n",
    "#y_train_std = y_train_fit.transform(y_train)\n",
    "#y_test_fit = sc.fit(y_test)\n",
    "#y_test_std = y_test_fit.transform(y_test)\n",
    "\n",
    "#y_train = y_scaler.fit_transform(y_train[:, None])[:, 0]\n",
    "#y_test = y_scaler.transform(y_test[:, None])[:, 0]\n",
    "\n",
    "\n",
    "#y_scaler = StandardScaler()\n",
    "#y_train = y_scaler.fit_transform(y_train[:, None])[:, 0]\n",
    "#y_test = y_scaler.transform(y_test[:, None])[:, 0]"
   ]
  },
  {
   "cell_type": "markdown",
   "metadata": {
    "colab_type": "text",
    "id": "v6vE4eYCOB62",
    "slideshow": {
     "slide_type": "slide"
    }
   },
   "source": [
    "## Building the Model in tensorflow"
   ]
  },
  {
   "cell_type": "markdown",
   "metadata": {
    "colab_type": "text",
    "id": "297_qja4OB7A",
    "slideshow": {
     "slide_type": "slide"
    }
   },
   "source": [
    "1.Define Weights and Bias, use tf.zeros to initialize weights and Bias"
   ]
  },
  {
   "cell_type": "code",
   "execution_count": 16,
   "metadata": {
    "colab": {},
    "colab_type": "code",
    "id": "L205qPeQOB7B"
   },
   "outputs": [],
   "source": [
    "#Declare Weights and Bias\n",
    "\n",
    "w = tf.zeros(shape=(4,1))\n",
    "b = tf.zeros(shape=(1))"
   ]
  },
  {
   "cell_type": "markdown",
   "metadata": {
    "colab_type": "text",
    "id": "HgtWA-UIOB7F",
    "slideshow": {
     "slide_type": "slide"
    }
   },
   "source": [
    "2.Define a function to calculate prediction"
   ]
  },
  {
   "cell_type": "code",
   "execution_count": 17,
   "metadata": {
    "colab": {},
    "colab_type": "code",
    "id": "JveGlx25OB7H"
   },
   "outputs": [],
   "source": [
    "# y = wx + b\n",
    "\n",
    "def prediction(x, w, b):\n",
    "    xw_matmul = tf.matmul(x, w)\n",
    "    y = tf.add(xw_matmul, b)\n",
    "    \n",
    "    return y"
   ]
  },
  {
   "cell_type": "markdown",
   "metadata": {
    "colab_type": "text",
    "id": "TL1hIwf_OB7M",
    "slideshow": {
     "slide_type": "slide"
    }
   },
   "source": [
    "3.Loss (Cost) Function [Mean square error]"
   ]
  },
  {
   "cell_type": "code",
   "execution_count": 18,
   "metadata": {
    "colab": {},
    "colab_type": "code",
    "id": "8VSWPiGXOB7P"
   },
   "outputs": [],
   "source": [
    "#Define Loss\n",
    "\n",
    "def loss(y_actual, y_predicted):\n",
    "    \n",
    "    diff = y_actual - y_predicted\n",
    "    sqr = tf.square(diff)\n",
    "    avg = tf.reduce_mean(sqr)\n",
    "    \n",
    "    return avg\n",
    "\n"
   ]
  },
  {
   "cell_type": "markdown",
   "metadata": {
    "colab_type": "text",
    "id": "jzG85FUlOB7U",
    "slideshow": {
     "slide_type": "slide"
    }
   },
   "source": [
    "4.Function to train the Model\n",
    "\n",
    "1.   Record all the mathematical steps to calculate Loss\n",
    "2.   Calculate Gradients of Loss w.r.t weights and bias\n",
    "3.   Update Weights and Bias based on gradients and learning rate to minimize loss"
   ]
  },
  {
   "cell_type": "code",
   "execution_count": 19,
   "metadata": {
    "colab": {},
    "colab_type": "code",
    "id": "cj802w-3OB7X"
   },
   "outputs": [],
   "source": [
    "#Define Gradient Descent function\n",
    "\n",
    "def train(x, y_actual, w, b, learning_rate=0.01):\n",
    "    \n",
    "    #Record math ops on 'tape' to calculate loss\n",
    "    with tf.GradientTape() as t:\n",
    "        \n",
    "        t.watch([w,b])\n",
    "        \n",
    "        current_prediction = prediction(x, w, b)\n",
    "        current_loss = loss(y_actual, current_prediction)\n",
    "    \n",
    "    #Calculate Gradients for Loss w.r.t Weights and Bias\n",
    "    dw, db = t.gradient(current_loss,[w, b])\n",
    "    \n",
    "    #Update Weights and Bias\n",
    "    w = w - learning_rate*dw\n",
    "    b = b - learning_rate*db\n",
    "    \n",
    "    return w, b"
   ]
  },
  {
   "cell_type": "markdown",
   "metadata": {
    "colab_type": "text",
    "id": "xSypb_u8OB7e",
    "slideshow": {
     "slide_type": "slide"
    }
   },
   "source": [
    "## Train the model for 100 epochs \n",
    "1. Observe the training loss at every iteration\n",
    "2. Observe Test loss at every 5th iteration"
   ]
  },
  {
   "cell_type": "code",
   "execution_count": 20,
   "metadata": {
    "colab": {},
    "colab_type": "code",
    "id": "DVvgj7eQOB7f"
   },
   "outputs": [
    {
     "name": "stdout",
     "output_type": "stream",
     "text": [
      "Current Loss on iteration 0 224.67271\n",
      "Current Loss on iteration 5 219.31863\n",
      "Current Loss on iteration 10 214.94374\n",
      "Current Loss on iteration 15 211.36942\n",
      "Current Loss on iteration 20 208.4487\n",
      "Current Loss on iteration 25 206.06248\n",
      "Current Loss on iteration 30 204.11282\n",
      "Current Loss on iteration 35 202.51955\n",
      "Current Loss on iteration 40 201.21788\n",
      "Current Loss on iteration 45 200.15422\n",
      "Current Loss on iteration 50 199.28519\n",
      "Current Loss on iteration 55 198.57529\n",
      "Current Loss on iteration 60 197.9949\n",
      "Current Loss on iteration 65 197.52095\n",
      "Current Loss on iteration 70 197.13365\n",
      "Current Loss on iteration 75 196.81714\n",
      "Current Loss on iteration 80 196.5585\n",
      "Current Loss on iteration 85 196.34721\n",
      "Current Loss on iteration 90 196.17462\n",
      "Current Loss on iteration 95 196.03357\n"
     ]
    }
   ],
   "source": [
    "#Training the model for 100 iterations\n",
    "\n",
    "for i in range(100):\n",
    "    \n",
    "    w, b = train(X_train_std, y_train, w, b)\n",
    "    if i % 5 == 0:\n",
    "        print('Current Loss on iteration', i, loss(y_train, prediction(X_train_std, w, b)).numpy())"
   ]
  },
  {
   "cell_type": "markdown",
   "metadata": {
    "colab_type": "text",
    "id": "DOL2ncA1OB7q"
   },
   "source": [
    "### Get the shapes and values of W and b"
   ]
  },
  {
   "cell_type": "code",
   "execution_count": 21,
   "metadata": {
    "colab": {},
    "colab_type": "code",
    "id": "ZGvtyTeuOB7r"
   },
   "outputs": [
    {
     "data": {
      "text/plain": [
       "TensorShape([Dimension(4), Dimension(1)])"
      ]
     },
     "execution_count": 21,
     "metadata": {},
     "output_type": "execute_result"
    },
    {
     "data": {
      "text/plain": [
       "<tf.Tensor: id=4483, shape=(4, 1), dtype=float32, numpy=\n",
       "array([[ 3.5973258e-07],\n",
       "       [-1.8332148e-07],\n",
       "       [ 2.7734783e-08],\n",
       "       [-1.3710931e-07]], dtype=float32)>"
      ]
     },
     "execution_count": 21,
     "metadata": {},
     "output_type": "execute_result"
    }
   ],
   "source": [
    "w.shape\n",
    "w"
   ]
  },
  {
   "cell_type": "code",
   "execution_count": 22,
   "metadata": {
    "colab": {},
    "colab_type": "code",
    "id": "vhDtOv5UOB7x"
   },
   "outputs": [
    {
     "data": {
      "text/plain": [
       "TensorShape([Dimension(1)])"
      ]
     },
     "execution_count": 22,
     "metadata": {},
     "output_type": "execute_result"
    },
    {
     "data": {
      "text/plain": [
       "<tf.Tensor: id=4486, shape=(1,), dtype=float32, numpy=array([4.788385], dtype=float32)>"
      ]
     },
     "execution_count": 22,
     "metadata": {},
     "output_type": "execute_result"
    }
   ],
   "source": [
    "b.shape\n",
    "b"
   ]
  },
  {
   "cell_type": "markdown",
   "metadata": {
    "colab_type": "text",
    "id": "ERq9GOKKciho"
   },
   "source": [
    "### Model Prediction on 1st Examples in Test Dataset"
   ]
  },
  {
   "cell_type": "code",
   "execution_count": 28,
   "metadata": {
    "colab": {},
    "colab_type": "code",
    "id": "gKGvUWahcihp"
   },
   "outputs": [
    {
     "data": {
      "text/plain": [
       "<tf.Tensor: id=4527, shape=(1,), dtype=float32, numpy=array([4.788385], dtype=float32)>"
      ]
     },
     "execution_count": 28,
     "metadata": {},
     "output_type": "execute_result"
    }
   ],
   "source": [
    "current_prediction = prediction(X_test_std, w, b)\n",
    "\n",
    "current_prediction[0]\n",
    "#y_test[0:1,]\n",
    "#loss(y_actual, current_prediction)"
   ]
  },
  {
   "cell_type": "code",
   "execution_count": 26,
   "metadata": {},
   "outputs": [],
   "source": [
    "#print('Current Loss on iteration', loss(y_test, prediction(X_test_std, w, b)).numpy())"
   ]
  },
  {
   "cell_type": "markdown",
   "metadata": {
    "colab_type": "text",
    "id": "YJRBuqXhOB7_"
   },
   "source": [
    "## Classification using tf.Keras\n",
    "\n",
    "In this exercise, we will build a Deep Neural Network using tf.Keras. We will use Iris Dataset for this exercise."
   ]
  },
  {
   "cell_type": "markdown",
   "metadata": {
    "colab_type": "text",
    "id": "sb7Epo0VOB58"
   },
   "source": [
    "### Load tensorflow if not done already"
   ]
  },
  {
   "cell_type": "markdown",
   "metadata": {
    "colab_type": "text",
    "id": "O0g6lorycihf"
   },
   "source": [
    "### Load the given Iris data using pandas (Iris.csv)"
   ]
  },
  {
   "cell_type": "code",
   "execution_count": 1,
   "metadata": {
    "colab": {},
    "colab_type": "code",
    "id": "6xFvb5sRcihg"
   },
   "outputs": [
    {
     "name": "stdout",
     "output_type": "stream",
     "text": [
      "<class 'pandas.core.frame.DataFrame'>\n",
      "RangeIndex: 150 entries, 0 to 149\n",
      "Data columns (total 6 columns):\n",
      "Id               150 non-null int64\n",
      "SepalLengthCm    150 non-null float64\n",
      "SepalWidthCm     150 non-null float64\n",
      "PetalLengthCm    150 non-null float64\n",
      "PetalWidthCm     150 non-null float64\n",
      "Species          150 non-null object\n",
      "dtypes: float64(4), int64(1), object(1)\n",
      "memory usage: 7.1+ KB\n"
     ]
    },
    {
     "data": {
      "text/html": [
       "<div>\n",
       "<style scoped>\n",
       "    .dataframe tbody tr th:only-of-type {\n",
       "        vertical-align: middle;\n",
       "    }\n",
       "\n",
       "    .dataframe tbody tr th {\n",
       "        vertical-align: top;\n",
       "    }\n",
       "\n",
       "    .dataframe thead th {\n",
       "        text-align: right;\n",
       "    }\n",
       "</style>\n",
       "<table border=\"1\" class=\"dataframe\">\n",
       "  <thead>\n",
       "    <tr style=\"text-align: right;\">\n",
       "      <th></th>\n",
       "      <th>Id</th>\n",
       "      <th>SepalLengthCm</th>\n",
       "      <th>SepalWidthCm</th>\n",
       "      <th>PetalLengthCm</th>\n",
       "      <th>PetalWidthCm</th>\n",
       "      <th>Species</th>\n",
       "    </tr>\n",
       "  </thead>\n",
       "  <tbody>\n",
       "    <tr>\n",
       "      <th>0</th>\n",
       "      <td>1</td>\n",
       "      <td>5.1</td>\n",
       "      <td>3.5</td>\n",
       "      <td>1.4</td>\n",
       "      <td>0.2</td>\n",
       "      <td>Iris-setosa</td>\n",
       "    </tr>\n",
       "    <tr>\n",
       "      <th>1</th>\n",
       "      <td>2</td>\n",
       "      <td>4.9</td>\n",
       "      <td>3.0</td>\n",
       "      <td>1.4</td>\n",
       "      <td>0.2</td>\n",
       "      <td>Iris-setosa</td>\n",
       "    </tr>\n",
       "    <tr>\n",
       "      <th>2</th>\n",
       "      <td>3</td>\n",
       "      <td>4.7</td>\n",
       "      <td>3.2</td>\n",
       "      <td>1.3</td>\n",
       "      <td>0.2</td>\n",
       "      <td>Iris-setosa</td>\n",
       "    </tr>\n",
       "    <tr>\n",
       "      <th>3</th>\n",
       "      <td>4</td>\n",
       "      <td>4.6</td>\n",
       "      <td>3.1</td>\n",
       "      <td>1.5</td>\n",
       "      <td>0.2</td>\n",
       "      <td>Iris-setosa</td>\n",
       "    </tr>\n",
       "    <tr>\n",
       "      <th>4</th>\n",
       "      <td>5</td>\n",
       "      <td>5.0</td>\n",
       "      <td>3.6</td>\n",
       "      <td>1.4</td>\n",
       "      <td>0.2</td>\n",
       "      <td>Iris-setosa</td>\n",
       "    </tr>\n",
       "  </tbody>\n",
       "</table>\n",
       "</div>"
      ],
      "text/plain": [
       "   Id  SepalLengthCm  SepalWidthCm  PetalLengthCm  PetalWidthCm      Species\n",
       "0   1            5.1           3.5            1.4           0.2  Iris-setosa\n",
       "1   2            4.9           3.0            1.4           0.2  Iris-setosa\n",
       "2   3            4.7           3.2            1.3           0.2  Iris-setosa\n",
       "3   4            4.6           3.1            1.5           0.2  Iris-setosa\n",
       "4   5            5.0           3.6            1.4           0.2  Iris-setosa"
      ]
     },
     "execution_count": 1,
     "metadata": {},
     "output_type": "execute_result"
    }
   ],
   "source": [
    "%matplotlib inline\n",
    "import numpy as np\n",
    "import pandas as pd\n",
    "from sklearn.model_selection import train_test_split\n",
    "from sklearn.preprocessing import LabelEncoder\n",
    "\n",
    "iris_data = pd.read_csv('Iris.csv')\n",
    "iris_data.info()\n",
    "iris_data.shape\n",
    "iris_data.head()"
   ]
  },
  {
   "cell_type": "markdown",
   "metadata": {
    "colab_type": "text",
    "id": "SAB--Qdwcihm"
   },
   "source": [
    "### Target set has different categories. So, Label encode them. And convert into one-hot vectors using get_dummies in pandas."
   ]
  },
  {
   "cell_type": "code",
   "execution_count": 2,
   "metadata": {
    "colab": {},
    "colab_type": "code",
    "id": "IJr5dYnocihm"
   },
   "outputs": [],
   "source": [
    "#iris_data.head()\n",
    "#iris_data.Species.value_counts()\n",
    "#target = \n",
    "#label_encoder = preprocessing.LabelEncoder() \n",
    "# Encode labels in column 'species'. \n",
    "#iris_data['Species']= label_encoder.fit_transform(iris_data['Species']) \n",
    "#iris_data['Species'].head()\n",
    "#iris_data['Species'].value_counts()\n",
    "#iris_data = pd.concat([iris_data,pd.get_dummies(iris_data['Species'],prefix='iris')],axis=1).drop(['Species'],axis=1)\n",
    "#iris_data.head()\n",
    "#pd.get_dummies(iris_data.Species)\n",
    "iris_data.Species.value_counts()\n",
    "X = iris_data.iloc[:,1:5].values\n",
    "y = iris_data.iloc[:,5].values\n",
    "\n",
    "encoder =  LabelEncoder()\n",
    "y1 = encoder.fit_transform(y)\n",
    "\n",
    "Y = pd.get_dummies(y1).values\n"
   ]
  },
  {
   "cell_type": "markdown",
   "metadata": {
    "colab_type": "text",
    "id": "D95nY5ILcihj"
   },
   "source": [
    "### Splitting the data into feature set and target set"
   ]
  },
  {
   "cell_type": "code",
   "execution_count": 3,
   "metadata": {
    "colab": {},
    "colab_type": "code",
    "id": "RyMQoLMucihj"
   },
   "outputs": [
    {
     "data": {
      "text/plain": [
       "array([[1, 0, 0],\n",
       "       [1, 0, 0],\n",
       "       [1, 0, 0],\n",
       "       [1, 0, 0],\n",
       "       [1, 0, 0],\n",
       "       [1, 0, 0],\n",
       "       [1, 0, 0],\n",
       "       [1, 0, 0],\n",
       "       [1, 0, 0],\n",
       "       [1, 0, 0],\n",
       "       [1, 0, 0],\n",
       "       [1, 0, 0],\n",
       "       [1, 0, 0],\n",
       "       [1, 0, 0],\n",
       "       [1, 0, 0],\n",
       "       [1, 0, 0],\n",
       "       [1, 0, 0],\n",
       "       [1, 0, 0],\n",
       "       [1, 0, 0],\n",
       "       [1, 0, 0],\n",
       "       [1, 0, 0],\n",
       "       [1, 0, 0],\n",
       "       [1, 0, 0],\n",
       "       [1, 0, 0],\n",
       "       [1, 0, 0],\n",
       "       [1, 0, 0],\n",
       "       [1, 0, 0],\n",
       "       [1, 0, 0],\n",
       "       [1, 0, 0],\n",
       "       [1, 0, 0],\n",
       "       [1, 0, 0],\n",
       "       [1, 0, 0],\n",
       "       [1, 0, 0],\n",
       "       [1, 0, 0],\n",
       "       [1, 0, 0],\n",
       "       [1, 0, 0],\n",
       "       [1, 0, 0],\n",
       "       [1, 0, 0],\n",
       "       [1, 0, 0],\n",
       "       [1, 0, 0],\n",
       "       [1, 0, 0],\n",
       "       [1, 0, 0],\n",
       "       [1, 0, 0],\n",
       "       [1, 0, 0],\n",
       "       [1, 0, 0],\n",
       "       [1, 0, 0],\n",
       "       [1, 0, 0],\n",
       "       [1, 0, 0],\n",
       "       [1, 0, 0],\n",
       "       [1, 0, 0],\n",
       "       [0, 1, 0],\n",
       "       [0, 1, 0],\n",
       "       [0, 1, 0],\n",
       "       [0, 1, 0],\n",
       "       [0, 1, 0],\n",
       "       [0, 1, 0],\n",
       "       [0, 1, 0],\n",
       "       [0, 1, 0],\n",
       "       [0, 1, 0],\n",
       "       [0, 1, 0],\n",
       "       [0, 1, 0],\n",
       "       [0, 1, 0],\n",
       "       [0, 1, 0],\n",
       "       [0, 1, 0],\n",
       "       [0, 1, 0],\n",
       "       [0, 1, 0],\n",
       "       [0, 1, 0],\n",
       "       [0, 1, 0],\n",
       "       [0, 1, 0],\n",
       "       [0, 1, 0],\n",
       "       [0, 1, 0],\n",
       "       [0, 1, 0],\n",
       "       [0, 1, 0],\n",
       "       [0, 1, 0],\n",
       "       [0, 1, 0],\n",
       "       [0, 1, 0],\n",
       "       [0, 1, 0],\n",
       "       [0, 1, 0],\n",
       "       [0, 1, 0],\n",
       "       [0, 1, 0],\n",
       "       [0, 1, 0],\n",
       "       [0, 1, 0],\n",
       "       [0, 1, 0],\n",
       "       [0, 1, 0],\n",
       "       [0, 1, 0],\n",
       "       [0, 1, 0],\n",
       "       [0, 1, 0],\n",
       "       [0, 1, 0],\n",
       "       [0, 1, 0],\n",
       "       [0, 1, 0],\n",
       "       [0, 1, 0],\n",
       "       [0, 1, 0],\n",
       "       [0, 1, 0],\n",
       "       [0, 1, 0],\n",
       "       [0, 1, 0],\n",
       "       [0, 1, 0],\n",
       "       [0, 1, 0],\n",
       "       [0, 1, 0],\n",
       "       [0, 1, 0],\n",
       "       [0, 1, 0],\n",
       "       [0, 0, 1],\n",
       "       [0, 0, 1],\n",
       "       [0, 0, 1],\n",
       "       [0, 0, 1],\n",
       "       [0, 0, 1],\n",
       "       [0, 0, 1],\n",
       "       [0, 0, 1],\n",
       "       [0, 0, 1],\n",
       "       [0, 0, 1],\n",
       "       [0, 0, 1],\n",
       "       [0, 0, 1],\n",
       "       [0, 0, 1],\n",
       "       [0, 0, 1],\n",
       "       [0, 0, 1],\n",
       "       [0, 0, 1],\n",
       "       [0, 0, 1],\n",
       "       [0, 0, 1],\n",
       "       [0, 0, 1],\n",
       "       [0, 0, 1],\n",
       "       [0, 0, 1],\n",
       "       [0, 0, 1],\n",
       "       [0, 0, 1],\n",
       "       [0, 0, 1],\n",
       "       [0, 0, 1],\n",
       "       [0, 0, 1],\n",
       "       [0, 0, 1],\n",
       "       [0, 0, 1],\n",
       "       [0, 0, 1],\n",
       "       [0, 0, 1],\n",
       "       [0, 0, 1],\n",
       "       [0, 0, 1],\n",
       "       [0, 0, 1],\n",
       "       [0, 0, 1],\n",
       "       [0, 0, 1],\n",
       "       [0, 0, 1],\n",
       "       [0, 0, 1],\n",
       "       [0, 0, 1],\n",
       "       [0, 0, 1],\n",
       "       [0, 0, 1],\n",
       "       [0, 0, 1],\n",
       "       [0, 0, 1],\n",
       "       [0, 0, 1],\n",
       "       [0, 0, 1],\n",
       "       [0, 0, 1],\n",
       "       [0, 0, 1],\n",
       "       [0, 0, 1],\n",
       "       [0, 0, 1],\n",
       "       [0, 0, 1],\n",
       "       [0, 0, 1],\n",
       "       [0, 0, 1]], dtype=uint8)"
      ]
     },
     "execution_count": 3,
     "metadata": {},
     "output_type": "execute_result"
    }
   ],
   "source": [
    "X\n",
    "Y"
   ]
  },
  {
   "cell_type": "markdown",
   "metadata": {
    "colab_type": "text",
    "id": "ERq9GOKKciho"
   },
   "source": [
    "### Divide the dataset into Training and test (70:30)"
   ]
  },
  {
   "cell_type": "code",
   "execution_count": 4,
   "metadata": {
    "colab": {},
    "colab_type": "code",
    "id": "gKGvUWahcihp"
   },
   "outputs": [
    {
     "name": "stdout",
     "output_type": "stream",
     "text": [
      "X_train  (105, 4)\n",
      "X_test  (45, 4)\n",
      "Y_train  (105, 3)\n",
      "Y_test  (45, 3)\n"
     ]
    }
   ],
   "source": [
    "X_train, X_test, Y_train, Y_test = train_test_split(X, Y, test_size=0.30, random_state=1)\n",
    "print(\"X_train \", X_train.shape)\n",
    "print(\"X_test \", X_test.shape)\n",
    "print(\"Y_train \", Y_train.shape)\n",
    "print(\"Y_test \", Y_test.shape)"
   ]
  },
  {
   "cell_type": "markdown",
   "metadata": {
    "colab_type": "text",
    "id": "b22qpC5xcihr"
   },
   "source": [
    "###  Building Model in tf.keras\n",
    "\n",
    "Build a Linear Classifier model  <br>\n",
    "1.  Use Dense Layer  with input shape of 4 (according to the feature set) and number of outputs set to 3<br> \n",
    "2. Apply Softmax on Dense Layer outputs <br>\n",
    "3. Use SGD as Optimizer\n",
    "4. Use categorical_crossentropy as loss function "
   ]
  },
  {
   "cell_type": "code",
   "execution_count": 5,
   "metadata": {
    "colab": {},
    "colab_type": "code",
    "id": "Hov_UFnUciht"
   },
   "outputs": [
    {
     "name": "stderr",
     "output_type": "stream",
     "text": [
      "Using TensorFlow backend.\n"
     ]
    }
   ],
   "source": [
    "from keras.models import Sequential\n",
    "from keras.layers import Dense"
   ]
  },
  {
   "cell_type": "markdown",
   "metadata": {
    "colab_type": "text",
    "id": "T5FdzqIKcihw"
   },
   "source": [
    "### Model Training "
   ]
  },
  {
   "cell_type": "code",
   "execution_count": 6,
   "metadata": {},
   "outputs": [],
   "source": [
    "#tf.disable_eager_execution()"
   ]
  },
  {
   "cell_type": "code",
   "execution_count": 7,
   "metadata": {
    "colab": {},
    "colab_type": "code",
    "id": "4qLEdHPscihx"
   },
   "outputs": [
    {
     "name": "stdout",
     "output_type": "stream",
     "text": [
      "WARNING:tensorflow:From C:\\ProgramData\\Anaconda3\\lib\\site-packages\\tensorflow\\python\\framework\\op_def_library.py:263: colocate_with (from tensorflow.python.framework.ops) is deprecated and will be removed in a future version.\n",
      "Instructions for updating:\n",
      "Colocations handled automatically by placer.\n",
      "_________________________________________________________________\n",
      "Layer (type)                 Output Shape              Param #   \n",
      "=================================================================\n",
      "dense_1 (Dense)              (None, 10)                50        \n",
      "_________________________________________________________________\n",
      "dense_2 (Dense)              (None, 3)                 33        \n",
      "=================================================================\n",
      "Total params: 83\n",
      "Trainable params: 83\n",
      "Non-trainable params: 0\n",
      "_________________________________________________________________\n",
      "WARNING:tensorflow:From C:\\ProgramData\\Anaconda3\\lib\\site-packages\\tensorflow\\python\\ops\\math_ops.py:3066: to_int32 (from tensorflow.python.ops.math_ops) is deprecated and will be removed in a future version.\n",
      "Instructions for updating:\n",
      "Use tf.cast instead.\n",
      "Epoch 1/100\n",
      "105/105 [==============================] - 0s 1ms/step - loss: 1.6087 - acc: 0.3524\n",
      "Epoch 2/100\n",
      "105/105 [==============================] - 0s 72us/step - loss: 1.3517 - acc: 0.3524\n",
      "Epoch 3/100\n",
      "105/105 [==============================] - 0s 38us/step - loss: 1.2342 - acc: 0.3524\n",
      "Epoch 4/100\n",
      "105/105 [==============================] - 0s 76us/step - loss: 1.1409 - acc: 0.3524\n",
      "Epoch 5/100\n",
      "105/105 [==============================] - 0s 38us/step - loss: 1.0726 - acc: 0.3619\n",
      "Epoch 6/100\n",
      "105/105 [==============================] - 0s 38us/step - loss: 1.0262 - acc: 0.3619\n",
      "Epoch 7/100\n",
      "105/105 [==============================] - 0s 38us/step - loss: 0.9866 - acc: 0.3524\n",
      "Epoch 8/100\n",
      "105/105 [==============================] - 0s 76us/step - loss: 0.9610 - acc: 0.3524\n",
      "Epoch 9/100\n",
      "105/105 [==============================] - 0s 38us/step - loss: 0.9309 - acc: 0.3524\n",
      "Epoch 10/100\n",
      "105/105 [==============================] - 0s 38us/step - loss: 0.9048 - acc: 0.3524\n",
      "Epoch 11/100\n",
      "105/105 [==============================] - 0s 38us/step - loss: 0.8782 - acc: 0.6952\n",
      "Epoch 12/100\n",
      "105/105 [==============================] - 0s 38us/step - loss: 0.8564 - acc: 0.6952\n",
      "Epoch 13/100\n",
      "105/105 [==============================] - 0s 38us/step - loss: 0.8334 - acc: 0.6952\n",
      "Epoch 14/100\n",
      "105/105 [==============================] - 0s 49us/step - loss: 0.8168 - acc: 0.6952\n",
      "Epoch 15/100\n",
      "105/105 [==============================] - 0s 38us/step - loss: 0.7947 - acc: 0.6952\n",
      "Epoch 16/100\n",
      "105/105 [==============================] - 0s 76us/step - loss: 0.7805 - acc: 0.6952\n",
      "Epoch 17/100\n",
      "105/105 [==============================] - 0s 38us/step - loss: 0.7618 - acc: 0.6952\n",
      "Epoch 18/100\n",
      "105/105 [==============================] - 0s 38us/step - loss: 0.7502 - acc: 0.7048\n",
      "Epoch 19/100\n",
      "105/105 [==============================] - 0s 38us/step - loss: 0.7317 - acc: 0.7048\n",
      "Epoch 20/100\n",
      "105/105 [==============================] - 0s 38us/step - loss: 0.7167 - acc: 0.6952\n",
      "Epoch 21/100\n",
      "105/105 [==============================] - 0s 76us/step - loss: 0.7062 - acc: 0.6952\n",
      "Epoch 22/100\n",
      "105/105 [==============================] - 0s 38us/step - loss: 0.6910 - acc: 0.7429\n",
      "Epoch 23/100\n",
      "105/105 [==============================] - 0s 38us/step - loss: 0.6824 - acc: 0.7524\n",
      "Epoch 24/100\n",
      "105/105 [==============================] - 0s 79us/step - loss: 0.6661 - acc: 0.6952\n",
      "Epoch 25/100\n",
      "105/105 [==============================] - 0s 29us/step - loss: 0.6551 - acc: 0.6952\n",
      "Epoch 26/100\n",
      "105/105 [==============================] - 0s 38us/step - loss: 0.6427 - acc: 0.6952\n",
      "Epoch 27/100\n",
      "105/105 [==============================] - 0s 38us/step - loss: 0.6346 - acc: 0.6952\n",
      "Epoch 28/100\n",
      "105/105 [==============================] - 0s 76us/step - loss: 0.6215 - acc: 0.8190\n",
      "Epoch 29/100\n",
      "105/105 [==============================] - 0s 38us/step - loss: 0.6143 - acc: 0.6952\n",
      "Epoch 30/100\n",
      "105/105 [==============================] - 0s 76us/step - loss: 0.6036 - acc: 0.8286\n",
      "Epoch 31/100\n",
      "105/105 [==============================] - 0s 38us/step - loss: 0.5946 - acc: 0.7143\n",
      "Epoch 32/100\n",
      "105/105 [==============================] - 0s 38us/step - loss: 0.5872 - acc: 0.7619\n",
      "Epoch 33/100\n",
      "105/105 [==============================] - 0s 38us/step - loss: 0.5848 - acc: 0.7714\n",
      "Epoch 34/100\n",
      "105/105 [==============================] - 0s 38us/step - loss: 0.5757 - acc: 0.8762\n",
      "Epoch 35/100\n",
      "105/105 [==============================] - 0s 76us/step - loss: 0.5683 - acc: 0.7429\n",
      "Epoch 36/100\n",
      "105/105 [==============================] - 0s 38us/step - loss: 0.5564 - acc: 0.7143\n",
      "Epoch 37/100\n",
      "105/105 [==============================] - 0s 38us/step - loss: 0.5508 - acc: 0.7143\n",
      "Epoch 38/100\n",
      "105/105 [==============================] - 0s 38us/step - loss: 0.5481 - acc: 0.7143\n",
      "Epoch 39/100\n",
      "105/105 [==============================] - 0s 59us/step - loss: 0.5423 - acc: 0.6952\n",
      "Epoch 40/100\n",
      "105/105 [==============================] - 0s 38us/step - loss: 0.5348 - acc: 0.7143\n",
      "Epoch 41/100\n",
      "105/105 [==============================] - 0s 38us/step - loss: 0.5274 - acc: 0.7333\n",
      "Epoch 42/100\n",
      "105/105 [==============================] - 0s 38us/step - loss: 0.5204 - acc: 0.7238\n",
      "Epoch 43/100\n",
      "105/105 [==============================] - 0s 76us/step - loss: 0.5173 - acc: 0.7714\n",
      "Epoch 44/100\n",
      "105/105 [==============================] - 0s 38us/step - loss: 0.5126 - acc: 0.8381\n",
      "Epoch 45/100\n",
      "105/105 [==============================] - 0s 38us/step - loss: 0.5128 - acc: 0.9238\n",
      "Epoch 46/100\n",
      "105/105 [==============================] - 0s 76us/step - loss: 0.5033 - acc: 0.9333\n",
      "Epoch 47/100\n",
      "105/105 [==============================] - 0s 38us/step - loss: 0.4982 - acc: 0.8667\n",
      "Epoch 48/100\n",
      "105/105 [==============================] - 0s 38us/step - loss: 0.4935 - acc: 0.7048\n",
      "Epoch 49/100\n",
      "105/105 [==============================] - 0s 38us/step - loss: 0.4875 - acc: 0.9143\n",
      "Epoch 50/100\n",
      "105/105 [==============================] - 0s 38us/step - loss: 0.4856 - acc: 0.7619\n",
      "Epoch 51/100\n",
      "105/105 [==============================] - 0s 38us/step - loss: 0.4871 - acc: 0.7143\n",
      "Epoch 52/100\n",
      "105/105 [==============================] - 0s 38us/step - loss: 0.4769 - acc: 0.7143\n",
      "Epoch 53/100\n",
      "105/105 [==============================] - 0s 38us/step - loss: 0.4727 - acc: 0.8286\n",
      "Epoch 54/100\n",
      "105/105 [==============================] - 0s 59us/step - loss: 0.4689 - acc: 0.7714\n",
      "Epoch 55/100\n",
      "105/105 [==============================] - 0s 38us/step - loss: 0.4651 - acc: 0.7333\n",
      "Epoch 56/100\n",
      "105/105 [==============================] - 0s 38us/step - loss: 0.4628 - acc: 0.8952\n",
      "Epoch 57/100\n",
      "105/105 [==============================] - 0s 38us/step - loss: 0.4611 - acc: 0.9524\n",
      "Epoch 58/100\n",
      "105/105 [==============================] - 0s 38us/step - loss: 0.4560 - acc: 0.8667\n",
      "Epoch 59/100\n",
      "105/105 [==============================] - 0s 38us/step - loss: 0.4580 - acc: 0.8762\n",
      "Epoch 60/100\n",
      "105/105 [==============================] - 0s 38us/step - loss: 0.4462 - acc: 0.9048\n",
      "Epoch 61/100\n",
      "105/105 [==============================] - 0s 38us/step - loss: 0.4453 - acc: 0.7524\n",
      "Epoch 62/100\n",
      "105/105 [==============================] - 0s 38us/step - loss: 0.4415 - acc: 0.9143\n",
      "Epoch 63/100\n",
      "105/105 [==============================] - 0s 85us/step - loss: 0.4407 - acc: 0.8952\n",
      "Epoch 64/100\n",
      "105/105 [==============================] - 0s 47us/step - loss: 0.4362 - acc: 0.8381\n",
      "Epoch 65/100\n",
      "105/105 [==============================] - 0s 38us/step - loss: 0.4298 - acc: 0.9048\n",
      "Epoch 66/100\n",
      "105/105 [==============================] - 0s 38us/step - loss: 0.4298 - acc: 0.9429\n",
      "Epoch 67/100\n",
      "105/105 [==============================] - 0s 38us/step - loss: 0.4300 - acc: 0.7905\n",
      "Epoch 68/100\n",
      "105/105 [==============================] - 0s 42us/step - loss: 0.4251 - acc: 0.8095\n",
      "Epoch 69/100\n",
      "105/105 [==============================] - 0s 38us/step - loss: 0.4245 - acc: 0.8190\n",
      "Epoch 70/100\n",
      "105/105 [==============================] - 0s 38us/step - loss: 0.4175 - acc: 0.9238\n",
      "Epoch 71/100\n",
      "105/105 [==============================] - 0s 38us/step - loss: 0.4173 - acc: 0.8667\n",
      "Epoch 72/100\n",
      "105/105 [==============================] - 0s 38us/step - loss: 0.4152 - acc: 0.9524\n",
      "Epoch 73/100\n"
     ]
    },
    {
     "name": "stdout",
     "output_type": "stream",
     "text": [
      "105/105 [==============================] - 0s 38us/step - loss: 0.4175 - acc: 0.9524\n",
      "Epoch 74/100\n",
      "105/105 [==============================] - 0s 38us/step - loss: 0.4094 - acc: 0.9143\n",
      "Epoch 75/100\n",
      "105/105 [==============================] - 0s 76us/step - loss: 0.4041 - acc: 0.9143\n",
      "Epoch 76/100\n",
      "105/105 [==============================] - 0s 38us/step - loss: 0.4007 - acc: 0.9238\n",
      "Epoch 77/100\n",
      "105/105 [==============================] - 0s 52us/step - loss: 0.4006 - acc: 0.9619\n",
      "Epoch 78/100\n",
      "105/105 [==============================] - 0s 38us/step - loss: 0.4000 - acc: 0.8762\n",
      "Epoch 79/100\n",
      "105/105 [==============================] - 0s 76us/step - loss: 0.4064 - acc: 0.7810\n",
      "Epoch 80/100\n",
      "105/105 [==============================] - 0s 38us/step - loss: 0.3964 - acc: 0.8476\n",
      "Epoch 81/100\n",
      "105/105 [==============================] - 0s 38us/step - loss: 0.3900 - acc: 0.9333\n",
      "Epoch 82/100\n",
      "105/105 [==============================] - 0s 76us/step - loss: 0.3892 - acc: 0.9429\n",
      "Epoch 83/100\n",
      "105/105 [==============================] - 0s 38us/step - loss: 0.3888 - acc: 0.9524\n",
      "Epoch 84/100\n",
      "105/105 [==============================] - 0s 38us/step - loss: 0.3842 - acc: 0.9143\n",
      "Epoch 85/100\n",
      "105/105 [==============================] - 0s 38us/step - loss: 0.3880 - acc: 0.9429\n",
      "Epoch 86/100\n",
      "105/105 [==============================] - 0s 38us/step - loss: 0.3790 - acc: 0.9143\n",
      "Epoch 87/100\n",
      "105/105 [==============================] - 0s 38us/step - loss: 0.3777 - acc: 0.9524\n",
      "Epoch 88/100\n",
      "105/105 [==============================] - 0s 38us/step - loss: 0.3741 - acc: 0.9619\n",
      "Epoch 89/100\n",
      "105/105 [==============================] - 0s 38us/step - loss: 0.3716 - acc: 0.9619\n",
      "Epoch 90/100\n",
      "105/105 [==============================] - 0s 38us/step - loss: 0.3753 - acc: 0.8476\n",
      "Epoch 91/100\n",
      "105/105 [==============================] - 0s 38us/step - loss: 0.3691 - acc: 0.9333\n",
      "Epoch 92/100\n",
      "105/105 [==============================] - 0s 76us/step - loss: 0.3679 - acc: 0.9429\n",
      "Epoch 93/100\n",
      "105/105 [==============================] - 0s 38us/step - loss: 0.3644 - acc: 0.9333\n",
      "Epoch 94/100\n",
      "105/105 [==============================] - 0s 76us/step - loss: 0.3617 - acc: 0.9333\n",
      "Epoch 95/100\n",
      "105/105 [==============================] - 0s 38us/step - loss: 0.3634 - acc: 0.9238\n",
      "Epoch 96/100\n",
      "105/105 [==============================] - 0s 38us/step - loss: 0.3577 - acc: 0.9524\n",
      "Epoch 97/100\n",
      "105/105 [==============================] - 0s 76us/step - loss: 0.3636 - acc: 0.9238\n",
      "Epoch 98/100\n",
      "105/105 [==============================] - 0s 38us/step - loss: 0.3609 - acc: 0.9524\n",
      "Epoch 99/100\n",
      "105/105 [==============================] - 0s 38us/step - loss: 0.3584 - acc: 0.9524\n",
      "Epoch 100/100\n",
      "105/105 [==============================] - 0s 38us/step - loss: 0.3536 - acc: 0.9619\n"
     ]
    },
    {
     "data": {
      "text/plain": [
       "<keras.callbacks.History at 0x20ff33cf320>"
      ]
     },
     "execution_count": 7,
     "metadata": {},
     "output_type": "execute_result"
    }
   ],
   "source": [
    "# Create model\n",
    "model = Sequential()\n",
    "\n",
    "model.add(Dense(10,input_shape=(4,),activation='relu'))\n",
    "#model.add(Dense(8,activation='relu'))\n",
    "#model.add(Dense(6,activation='relu'))\n",
    "model.add(Dense(3,activation='softmax'))\n",
    "\n",
    "#model.compile(Adam(lr=0.04),'categorical_crossentropy',metrics=['accuracy'])\n",
    "model.compile(loss='categorical_crossentropy', optimizer='sgd', metrics=['accuracy'])\n",
    "\n",
    "model.summary()\n",
    "#fitting the model and predicting \n",
    "model.fit(X_train,Y_train,epochs=100)"
   ]
  },
  {
   "cell_type": "markdown",
   "metadata": {
    "colab_type": "text",
    "id": "y-SgSSdRcih5"
   },
   "source": [
    "#### Model Prediction"
   ]
  },
  {
   "cell_type": "code",
   "execution_count": 8,
   "metadata": {
    "colab": {},
    "colab_type": "code",
    "id": "GBgKZkhkcih6"
   },
   "outputs": [
    {
     "name": "stdout",
     "output_type": "stream",
     "text": [
      "0.9555555555555556\n",
      "             precision    recall  f1-score   support\n",
      "\n",
      "          0       1.00      1.00      1.00        14\n",
      "          1       1.00      0.89      0.94        18\n",
      "          2       0.87      1.00      0.93        13\n",
      "\n",
      "avg / total       0.96      0.96      0.96        45\n",
      "\n",
      "[[14  0  0]\n",
      " [ 0 16  2]\n",
      " [ 0  0 13]]\n"
     ]
    }
   ],
   "source": [
    "from sklearn import metrics\n",
    "from sklearn.metrics import classification_report,confusion_matrix\n",
    "y_pred = model.predict(X_test)\n",
    "y_test_class = np.argmax(Y_test,axis=1)\n",
    "y_pred_class = np.argmax(y_pred,axis=1)\n",
    "\n",
    "#y_predict=model.predict(X_test)\n",
    "print(metrics.accuracy_score(y_test_class,y_pred_class))\n",
    "#Accuracy of the predicted values\n",
    "print(classification_report(y_test_class,y_pred_class))\n",
    "print(confusion_matrix(y_test_class,y_pred_class))"
   ]
  },
  {
   "cell_type": "markdown",
   "metadata": {
    "colab_type": "text",
    "id": "P32ASP1Vjt0a"
   },
   "source": [
    "### Save the Model"
   ]
  },
  {
   "cell_type": "code",
   "execution_count": 9,
   "metadata": {
    "colab": {},
    "colab_type": "code",
    "id": "n8rd0jjAjyTR"
   },
   "outputs": [],
   "source": [
    "model.save('iris_keras.h5')"
   ]
  },
  {
   "cell_type": "markdown",
   "metadata": {
    "colab_type": "text",
    "id": "XiipRpe7rbVh"
   },
   "source": [
    "### Build and Train a Deep Neural network with 2 hidden layer  - Optional - For Practice\n",
    "\n",
    "Does it perform better than Linear Classifier? What could be the reason for difference in performance?"
   ]
  },
  {
   "cell_type": "code",
   "execution_count": 10,
   "metadata": {
    "colab": {},
    "colab_type": "code",
    "id": "v5Du3lubr4sA"
   },
   "outputs": [
    {
     "name": "stdout",
     "output_type": "stream",
     "text": [
      "_________________________________________________________________\n",
      "Layer (type)                 Output Shape              Param #   \n",
      "=================================================================\n",
      "dense_3 (Dense)              (None, 10)                50        \n",
      "_________________________________________________________________\n",
      "dense_4 (Dense)              (None, 8)                 88        \n",
      "_________________________________________________________________\n",
      "dense_5 (Dense)              (None, 6)                 54        \n",
      "_________________________________________________________________\n",
      "dense_6 (Dense)              (None, 3)                 21        \n",
      "=================================================================\n",
      "Total params: 213\n",
      "Trainable params: 213\n",
      "Non-trainable params: 0\n",
      "_________________________________________________________________\n",
      "Epoch 1/100\n",
      "105/105 [==============================] - 0s 2ms/step - loss: 1.1105 - acc: 0.3429\n",
      "Epoch 2/100\n",
      "105/105 [==============================] - 0s 163us/step - loss: 0.9956 - acc: 0.3619\n",
      "Epoch 3/100\n",
      "105/105 [==============================] - 0s 38us/step - loss: 0.9678 - acc: 0.5048\n",
      "Epoch 4/100\n",
      "105/105 [==============================] - 0s 38us/step - loss: 0.9555 - acc: 0.5905\n",
      "Epoch 5/100\n",
      "105/105 [==============================] - 0s 38us/step - loss: 0.9447 - acc: 0.6000\n",
      "Epoch 6/100\n",
      "105/105 [==============================] - 0s 38us/step - loss: 0.9319 - acc: 0.6000\n",
      "Epoch 7/100\n",
      "105/105 [==============================] - 0s 76us/step - loss: 0.9210 - acc: 0.6762\n",
      "Epoch 8/100\n",
      "105/105 [==============================] - 0s 38us/step - loss: 0.9067 - acc: 0.6095\n",
      "Epoch 9/100\n",
      "105/105 [==============================] - 0s 76us/step - loss: 0.8947 - acc: 0.6190\n",
      "Epoch 10/100\n",
      "105/105 [==============================] - 0s 76us/step - loss: 0.8828 - acc: 0.6667\n",
      "Epoch 11/100\n",
      "105/105 [==============================] - 0s 76us/step - loss: 0.8721 - acc: 0.6667\n",
      "Epoch 12/100\n",
      "105/105 [==============================] - 0s 76us/step - loss: 0.8613 - acc: 0.6667\n",
      "Epoch 13/100\n",
      "105/105 [==============================] - 0s 76us/step - loss: 0.8507 - acc: 0.6857\n",
      "Epoch 14/100\n",
      "105/105 [==============================] - 0s 38us/step - loss: 0.8407 - acc: 0.6952\n",
      "Epoch 15/100\n",
      "105/105 [==============================] - 0s 76us/step - loss: 0.8290 - acc: 0.6857\n",
      "Epoch 16/100\n",
      "105/105 [==============================] - 0s 76us/step - loss: 0.8180 - acc: 0.7048\n",
      "Epoch 17/100\n",
      "105/105 [==============================] - 0s 76us/step - loss: 0.8077 - acc: 0.6952\n",
      "Epoch 18/100\n",
      "105/105 [==============================] - 0s 76us/step - loss: 0.7980 - acc: 0.6952\n",
      "Epoch 19/100\n",
      "105/105 [==============================] - 0s 38us/step - loss: 0.7890 - acc: 0.6952\n",
      "Epoch 20/100\n",
      "105/105 [==============================] - 0s 38us/step - loss: 0.7817 - acc: 0.7048\n",
      "Epoch 21/100\n",
      "105/105 [==============================] - 0s 76us/step - loss: 0.7740 - acc: 0.7143\n",
      "Epoch 22/100\n",
      "105/105 [==============================] - 0s 76us/step - loss: 0.7660 - acc: 0.7333\n",
      "Epoch 23/100\n",
      "105/105 [==============================] - 0s 38us/step - loss: 0.7593 - acc: 0.7143\n",
      "Epoch 24/100\n",
      "105/105 [==============================] - 0s 38us/step - loss: 0.7537 - acc: 0.7333\n",
      "Epoch 25/100\n",
      "105/105 [==============================] - 0s 38us/step - loss: 0.7466 - acc: 0.7333\n",
      "Epoch 26/100\n",
      "105/105 [==============================] - 0s 76us/step - loss: 0.7411 - acc: 0.7333\n",
      "Epoch 27/100\n",
      "105/105 [==============================] - 0s 63us/step - loss: 0.7359 - acc: 0.7619\n",
      "Epoch 28/100\n",
      "105/105 [==============================] - 0s 56us/step - loss: 0.7317 - acc: 0.7238\n",
      "Epoch 29/100\n",
      "105/105 [==============================] - 0s 76us/step - loss: 0.7274 - acc: 0.7619\n",
      "Epoch 30/100\n",
      "105/105 [==============================] - 0s 38us/step - loss: 0.7235 - acc: 0.7429\n",
      "Epoch 31/100\n",
      "105/105 [==============================] - 0s 76us/step - loss: 0.7201 - acc: 0.7714\n",
      "Epoch 32/100\n",
      "105/105 [==============================] - 0s 38us/step - loss: 0.7165 - acc: 0.7429\n",
      "Epoch 33/100\n",
      "105/105 [==============================] - 0s 38us/step - loss: 0.7123 - acc: 0.7524\n",
      "Epoch 34/100\n",
      "105/105 [==============================] - 0s 55us/step - loss: 0.7091 - acc: 0.7714\n",
      "Epoch 35/100\n",
      "105/105 [==============================] - 0s 47us/step - loss: 0.7056 - acc: 0.7714\n",
      "Epoch 36/100\n",
      "105/105 [==============================] - 0s 47us/step - loss: 0.7024 - acc: 0.7429\n",
      "Epoch 37/100\n",
      "105/105 [==============================] - 0s 47us/step - loss: 0.6997 - acc: 0.7333\n",
      "Epoch 38/100\n",
      "105/105 [==============================] - 0s 47us/step - loss: 0.6965 - acc: 0.7333\n",
      "Epoch 39/100\n",
      "105/105 [==============================] - 0s 52us/step - loss: 0.6935 - acc: 0.7524\n",
      "Epoch 40/100\n",
      "105/105 [==============================] - 0s 38us/step - loss: 0.6907 - acc: 0.7238\n",
      "Epoch 41/100\n",
      "105/105 [==============================] - 0s 76us/step - loss: 0.6879 - acc: 0.7429\n",
      "Epoch 42/100\n",
      "105/105 [==============================] - 0s 38us/step - loss: 0.6851 - acc: 0.7619\n",
      "Epoch 43/100\n",
      "105/105 [==============================] - 0s 38us/step - loss: 0.6829 - acc: 0.7333\n",
      "Epoch 44/100\n",
      "105/105 [==============================] - 0s 38us/step - loss: 0.6800 - acc: 0.7333\n",
      "Epoch 45/100\n",
      "105/105 [==============================] - 0s 38us/step - loss: 0.6774 - acc: 0.7619\n",
      "Epoch 46/100\n",
      "105/105 [==============================] - 0s 38us/step - loss: 0.6750 - acc: 0.7524\n",
      "Epoch 47/100\n",
      "105/105 [==============================] - 0s 38us/step - loss: 0.6728 - acc: 0.7714\n",
      "Epoch 48/100\n",
      "105/105 [==============================] - 0s 38us/step - loss: 0.6704 - acc: 0.7524\n",
      "Epoch 49/100\n",
      "105/105 [==============================] - 0s 38us/step - loss: 0.6681 - acc: 0.7524\n",
      "Epoch 50/100\n",
      "105/105 [==============================] - 0s 38us/step - loss: 0.6657 - acc: 0.7524\n",
      "Epoch 51/100\n",
      "105/105 [==============================] - 0s 76us/step - loss: 0.6635 - acc: 0.7524\n",
      "Epoch 52/100\n",
      "105/105 [==============================] - 0s 38us/step - loss: 0.6616 - acc: 0.7619\n",
      "Epoch 53/100\n",
      "105/105 [==============================] - 0s 74us/step - loss: 0.6594 - acc: 0.7619\n",
      "Epoch 54/100\n",
      "105/105 [==============================] - 0s 38us/step - loss: 0.6572 - acc: 0.7619\n",
      "Epoch 55/100\n",
      "105/105 [==============================] - 0s 38us/step - loss: 0.6551 - acc: 0.7619\n",
      "Epoch 56/100\n",
      "105/105 [==============================] - 0s 76us/step - loss: 0.6533 - acc: 0.7619\n",
      "Epoch 57/100\n",
      "105/105 [==============================] - 0s 38us/step - loss: 0.6511 - acc: 0.7619\n",
      "Epoch 58/100\n",
      "105/105 [==============================] - 0s 76us/step - loss: 0.6493 - acc: 0.7714\n",
      "Epoch 59/100\n",
      "105/105 [==============================] - 0s 38us/step - loss: 0.6475 - acc: 0.7619\n",
      "Epoch 60/100\n",
      "105/105 [==============================] - 0s 38us/step - loss: 0.6456 - acc: 0.7619\n",
      "Epoch 61/100\n",
      "105/105 [==============================] - 0s 76us/step - loss: 0.6438 - acc: 0.7619\n",
      "Epoch 62/100\n",
      "105/105 [==============================] - 0s 38us/step - loss: 0.6421 - acc: 0.7429\n",
      "Epoch 63/100\n",
      "105/105 [==============================] - 0s 38us/step - loss: 0.6402 - acc: 0.7619\n",
      "Epoch 64/100\n",
      "105/105 [==============================] - 0s 38us/step - loss: 0.6387 - acc: 0.7619\n",
      "Epoch 65/100\n",
      "105/105 [==============================] - 0s 76us/step - loss: 0.6370 - acc: 0.7619\n",
      "Epoch 66/100\n",
      "105/105 [==============================] - 0s 38us/step - loss: 0.6351 - acc: 0.7619\n",
      "Epoch 67/100\n",
      "105/105 [==============================] - 0s 38us/step - loss: 0.6336 - acc: 0.7619\n",
      "Epoch 68/100\n",
      "105/105 [==============================] - 0s 38us/step - loss: 0.6321 - acc: 0.7619\n",
      "Epoch 69/100\n",
      "105/105 [==============================] - 0s 38us/step - loss: 0.6305 - acc: 0.7619\n",
      "Epoch 70/100\n",
      "105/105 [==============================] - 0s 38us/step - loss: 0.6290 - acc: 0.7619\n",
      "Epoch 71/100\n",
      "105/105 [==============================] - 0s 38us/step - loss: 0.6272 - acc: 0.7619\n",
      "Epoch 72/100\n",
      "105/105 [==============================] - 0s 38us/step - loss: 0.6257 - acc: 0.7619\n",
      "Epoch 73/100\n",
      "105/105 [==============================] - 0s 76us/step - loss: 0.6243 - acc: 0.7619\n",
      "Epoch 74/100\n",
      "105/105 [==============================] - 0s 38us/step - loss: 0.6227 - acc: 0.7619\n",
      "Epoch 75/100\n",
      "105/105 [==============================] - 0s 38us/step - loss: 0.6212 - acc: 0.7619\n"
     ]
    },
    {
     "name": "stdout",
     "output_type": "stream",
     "text": [
      "Epoch 76/100\n",
      "105/105 [==============================] - 0s 38us/step - loss: 0.6198 - acc: 0.7619\n",
      "Epoch 77/100\n",
      "105/105 [==============================] - 0s 76us/step - loss: 0.6184 - acc: 0.7619\n",
      "Epoch 78/100\n",
      "105/105 [==============================] - 0s 38us/step - loss: 0.6170 - acc: 0.7619\n",
      "Epoch 79/100\n",
      "105/105 [==============================] - 0s 38us/step - loss: 0.6155 - acc: 0.7619\n",
      "Epoch 80/100\n",
      "105/105 [==============================] - 0s 38us/step - loss: 0.6141 - acc: 0.7619\n",
      "Epoch 81/100\n",
      "105/105 [==============================] - 0s 38us/step - loss: 0.6128 - acc: 0.7619\n",
      "Epoch 82/100\n",
      "105/105 [==============================] - 0s 76us/step - loss: 0.6116 - acc: 0.7619\n",
      "Epoch 83/100\n",
      "105/105 [==============================] - 0s 38us/step - loss: 0.6100 - acc: 0.7619\n",
      "Epoch 84/100\n",
      "105/105 [==============================] - 0s 38us/step - loss: 0.6087 - acc: 0.7714\n",
      "Epoch 85/100\n",
      "105/105 [==============================] - 0s 38us/step - loss: 0.6075 - acc: 0.7619\n",
      "Epoch 86/100\n",
      "105/105 [==============================] - 0s 38us/step - loss: 0.6061 - acc: 0.7810\n",
      "Epoch 87/100\n",
      "105/105 [==============================] - 0s 38us/step - loss: 0.6048 - acc: 0.7714\n",
      "Epoch 88/100\n",
      "105/105 [==============================] - 0s 48us/step - loss: 0.6035 - acc: 0.7619\n",
      "Epoch 89/100\n",
      "105/105 [==============================] - 0s 38us/step - loss: 0.6022 - acc: 0.7714\n",
      "Epoch 90/100\n",
      "105/105 [==============================] - 0s 76us/step - loss: 0.6011 - acc: 0.7810\n",
      "Epoch 91/100\n",
      "105/105 [==============================] - 0s 76us/step - loss: 0.6000 - acc: 0.7714\n",
      "Epoch 92/100\n",
      "105/105 [==============================] - 0s 38us/step - loss: 0.5988 - acc: 0.7714\n",
      "Epoch 93/100\n",
      "105/105 [==============================] - 0s 76us/step - loss: 0.5974 - acc: 0.7810\n",
      "Epoch 94/100\n",
      "105/105 [==============================] - 0s 76us/step - loss: 0.5963 - acc: 0.7905\n",
      "Epoch 95/100\n",
      "105/105 [==============================] - 0s 38us/step - loss: 0.5950 - acc: 0.7619\n",
      "Epoch 96/100\n",
      "105/105 [==============================] - 0s 38us/step - loss: 0.5938 - acc: 0.7714\n",
      "Epoch 97/100\n",
      "105/105 [==============================] - 0s 38us/step - loss: 0.5927 - acc: 0.7905\n",
      "Epoch 98/100\n",
      "105/105 [==============================] - 0s 50us/step - loss: 0.5913 - acc: 0.7810\n",
      "Epoch 99/100\n",
      "105/105 [==============================] - 0s 38us/step - loss: 0.5903 - acc: 0.7810\n",
      "Epoch 100/100\n",
      "105/105 [==============================] - 0s 76us/step - loss: 0.5890 - acc: 0.7905\n"
     ]
    },
    {
     "data": {
      "text/plain": [
       "<keras.callbacks.History at 0x20ff48044a8>"
      ]
     },
     "execution_count": 10,
     "metadata": {},
     "output_type": "execute_result"
    }
   ],
   "source": [
    "model2 = Sequential()\n",
    "\n",
    "model2.add(Dense(10,input_shape=(4,),activation='relu'))\n",
    "model2.add(Dense(8,activation='relu'))\n",
    "model2.add(Dense(6,activation='relu'))\n",
    "model2.add(Dense(3,activation='softmax'))\n",
    "\n",
    "#model.compile(Adam(lr=0.04),'categorical_crossentropy',metrics=['accuracy'])\n",
    "model2.compile(loss='categorical_crossentropy', optimizer='sgd', metrics=['accuracy'])\n",
    "\n",
    "model2.summary()\n",
    "#fitting the model and predicting \n",
    "model2.fit(X_train,Y_train,epochs=100)"
   ]
  },
  {
   "cell_type": "code",
   "execution_count": 11,
   "metadata": {},
   "outputs": [
    {
     "name": "stdout",
     "output_type": "stream",
     "text": [
      "0.6444444444444445\n",
      "             precision    recall  f1-score   support\n",
      "\n",
      "          0       0.93      1.00      0.97        14\n",
      "          1       1.00      0.11      0.20        18\n",
      "          2       0.46      1.00      0.63        13\n",
      "\n",
      "avg / total       0.82      0.64      0.56        45\n",
      "\n",
      "[[14  0  0]\n",
      " [ 1  2 15]\n",
      " [ 0  0 13]]\n"
     ]
    }
   ],
   "source": [
    "from sklearn import metrics\n",
    "from sklearn.metrics import classification_report,confusion_matrix\n",
    "y_pred2 = model2.predict(X_test)\n",
    "y_test_class = np.argmax(Y_test,axis=1)\n",
    "y_pred2_class = np.argmax(y_pred2,axis=1)\n",
    "\n",
    "#y_predict=model.predict(X_test)\n",
    "print(metrics.accuracy_score(y_test_class,y_pred2_class))\n",
    "#Accuracy of the predicted values\n",
    "print(classification_report(y_test_class,y_pred2_class))\n",
    "print(confusion_matrix(y_test_class,y_pred2_class))"
   ]
  },
  {
   "cell_type": "code",
   "execution_count": 12,
   "metadata": {},
   "outputs": [
    {
     "name": "stdout",
     "output_type": "stream",
     "text": [
      "_________________________________________________________________\n",
      "Layer (type)                 Output Shape              Param #   \n",
      "=================================================================\n",
      "dense_7 (Dense)              (None, 10)                50        \n",
      "_________________________________________________________________\n",
      "dense_8 (Dense)              (None, 80)                880       \n",
      "_________________________________________________________________\n",
      "dense_9 (Dense)              (None, 80)                6480      \n",
      "_________________________________________________________________\n",
      "dense_10 (Dense)             (None, 3)                 243       \n",
      "=================================================================\n",
      "Total params: 7,653\n",
      "Trainable params: 7,653\n",
      "Non-trainable params: 0\n",
      "_________________________________________________________________\n",
      "Epoch 1/100\n",
      "105/105 [==============================] - 0s 2ms/step - loss: 1.0147 - acc: 0.3524\n",
      "Epoch 2/100\n",
      "105/105 [==============================] - 0s 65us/step - loss: 0.9646 - acc: 0.3524\n",
      "Epoch 3/100\n",
      "105/105 [==============================] - 0s 17us/step - loss: 0.9234 - acc: 0.3524\n",
      "Epoch 4/100\n",
      "105/105 [==============================] - 0s 38us/step - loss: 0.8757 - acc: 0.5429\n",
      "Epoch 5/100\n",
      "105/105 [==============================] - 0s 52us/step - loss: 0.8442 - acc: 0.6857\n",
      "Epoch 6/100\n",
      "105/105 [==============================] - 0s 38us/step - loss: 0.8080 - acc: 0.6952\n",
      "Epoch 7/100\n",
      "105/105 [==============================] - 0s 38us/step - loss: 0.7777 - acc: 0.6952\n",
      "Epoch 8/100\n",
      "105/105 [==============================] - 0s 76us/step - loss: 0.7526 - acc: 0.6952\n",
      "Epoch 9/100\n",
      "105/105 [==============================] - 0s 38us/step - loss: 0.7232 - acc: 0.7048\n",
      "Epoch 10/100\n",
      "105/105 [==============================] - 0s 38us/step - loss: 0.6930 - acc: 0.6952\n",
      "Epoch 11/100\n",
      "105/105 [==============================] - 0s 76us/step - loss: 0.6681 - acc: 0.7143\n",
      "Epoch 12/100\n",
      "105/105 [==============================] - 0s 38us/step - loss: 0.6496 - acc: 0.6952\n",
      "Epoch 13/100\n",
      "105/105 [==============================] - 0s 76us/step - loss: 0.6412 - acc: 0.6952\n",
      "Epoch 14/100\n",
      "105/105 [==============================] - 0s 38us/step - loss: 0.6190 - acc: 0.6952\n",
      "Epoch 15/100\n",
      "105/105 [==============================] - 0s 38us/step - loss: 0.5974 - acc: 0.6952\n",
      "Epoch 16/100\n",
      "105/105 [==============================] - 0s 38us/step - loss: 0.5806 - acc: 0.7048\n",
      "Epoch 17/100\n",
      "105/105 [==============================] - 0s 76us/step - loss: 0.5656 - acc: 0.6952\n",
      "Epoch 18/100\n",
      "105/105 [==============================] - 0s 38us/step - loss: 0.5514 - acc: 0.7905\n",
      "Epoch 19/100\n",
      "105/105 [==============================] - 0s 38us/step - loss: 0.5342 - acc: 0.7333\n",
      "Epoch 20/100\n",
      "105/105 [==============================] - 0s 76us/step - loss: 0.5243 - acc: 0.6952\n",
      "Epoch 21/100\n",
      "105/105 [==============================] - 0s 38us/step - loss: 0.5146 - acc: 0.8571\n",
      "Epoch 22/100\n",
      "105/105 [==============================] - 0s 38us/step - loss: 0.5037 - acc: 0.8571\n",
      "Epoch 23/100\n",
      "105/105 [==============================] - 0s 76us/step - loss: 0.4931 - acc: 0.7143\n",
      "Epoch 24/100\n",
      "105/105 [==============================] - 0s 38us/step - loss: 0.4853 - acc: 0.8286\n",
      "Epoch 25/100\n",
      "105/105 [==============================] - 0s 80us/step - loss: 0.4960 - acc: 0.8476\n",
      "Epoch 26/100\n",
      "105/105 [==============================] - 0s 48us/step - loss: 0.4698 - acc: 0.8476\n",
      "Epoch 27/100\n",
      "105/105 [==============================] - 0s 38us/step - loss: 0.4761 - acc: 0.7619\n",
      "Epoch 28/100\n",
      "105/105 [==============================] - 0s 76us/step - loss: 0.4711 - acc: 0.8762\n",
      "Epoch 29/100\n",
      "105/105 [==============================] - 0s 38us/step - loss: 0.4638 - acc: 0.7810\n",
      "Epoch 30/100\n",
      "105/105 [==============================] - 0s 76us/step - loss: 0.4424 - acc: 0.8571\n",
      "Epoch 31/100\n",
      "105/105 [==============================] - 0s 38us/step - loss: 0.4413 - acc: 0.9524\n",
      "Epoch 32/100\n",
      "105/105 [==============================] - 0s 38us/step - loss: 0.4324 - acc: 0.8000\n",
      "Epoch 33/100\n",
      "105/105 [==============================] - 0s 38us/step - loss: 0.4224 - acc: 0.8000\n",
      "Epoch 34/100\n",
      "105/105 [==============================] - 0s 38us/step - loss: 0.4206 - acc: 0.8952\n",
      "Epoch 35/100\n",
      "105/105 [==============================] - 0s 76us/step - loss: 0.4210 - acc: 0.7905\n",
      "Epoch 36/100\n",
      "105/105 [==============================] - 0s 76us/step - loss: 0.4091 - acc: 0.8381\n",
      "Epoch 37/100\n",
      "105/105 [==============================] - 0s 77us/step - loss: 0.4097 - acc: 0.9048\n",
      "Epoch 38/100\n",
      "105/105 [==============================] - 0s 57us/step - loss: 0.3981 - acc: 0.8190\n",
      "Epoch 39/100\n",
      "105/105 [==============================] - 0s 67us/step - loss: 0.4014 - acc: 0.9143\n",
      "Epoch 40/100\n",
      "105/105 [==============================] - 0s 66us/step - loss: 0.3928 - acc: 0.9048\n",
      "Epoch 41/100\n",
      "105/105 [==============================] - 0s 38us/step - loss: 0.3854 - acc: 0.9238\n",
      "Epoch 42/100\n",
      "105/105 [==============================] - 0s 76us/step - loss: 0.3843 - acc: 0.9333\n",
      "Epoch 43/100\n",
      "105/105 [==============================] - 0s 76us/step - loss: 0.3926 - acc: 0.9238\n",
      "Epoch 44/100\n",
      "105/105 [==============================] - 0s 38us/step - loss: 0.3738 - acc: 0.9333\n",
      "Epoch 45/100\n",
      "105/105 [==============================] - 0s 76us/step - loss: 0.3763 - acc: 0.8762\n",
      "Epoch 46/100\n",
      "105/105 [==============================] - 0s 76us/step - loss: 0.3733 - acc: 0.9238\n",
      "Epoch 47/100\n",
      "105/105 [==============================] - 0s 38us/step - loss: 0.3606 - acc: 0.9619\n",
      "Epoch 48/100\n",
      "105/105 [==============================] - 0s 38us/step - loss: 0.3599 - acc: 0.8952\n",
      "Epoch 49/100\n",
      "105/105 [==============================] - 0s 38us/step - loss: 0.3574 - acc: 0.8571\n",
      "Epoch 50/100\n",
      "105/105 [==============================] - 0s 76us/step - loss: 0.3487 - acc: 0.9524\n",
      "Epoch 51/100\n",
      "105/105 [==============================] - 0s 38us/step - loss: 0.3534 - acc: 0.9429\n",
      "Epoch 52/100\n",
      "105/105 [==============================] - 0s 76us/step - loss: 0.3428 - acc: 0.9619\n",
      "Epoch 53/100\n",
      "105/105 [==============================] - 0s 47us/step - loss: 0.3451 - acc: 0.9143\n",
      "Epoch 54/100\n",
      "105/105 [==============================] - 0s 47us/step - loss: 0.3463 - acc: 0.9048\n",
      "Epoch 55/100\n",
      "105/105 [==============================] - 0s 48us/step - loss: 0.3387 - acc: 0.9238\n",
      "Epoch 56/100\n",
      "105/105 [==============================] - 0s 47us/step - loss: 0.3359 - acc: 0.9238\n",
      "Epoch 57/100\n",
      "105/105 [==============================] - 0s 29us/step - loss: 0.3284 - acc: 0.9048\n",
      "Epoch 58/100\n",
      "105/105 [==============================] - 0s 76us/step - loss: 0.3212 - acc: 0.9333\n",
      "Epoch 59/100\n",
      "105/105 [==============================] - 0s 38us/step - loss: 0.3251 - acc: 0.8762\n",
      "Epoch 60/100\n",
      "105/105 [==============================] - 0s 76us/step - loss: 0.3293 - acc: 0.8762\n",
      "Epoch 61/100\n",
      "105/105 [==============================] - 0s 38us/step - loss: 0.3185 - acc: 0.9333\n",
      "Epoch 62/100\n",
      "105/105 [==============================] - 0s 76us/step - loss: 0.3051 - acc: 0.9333\n",
      "Epoch 63/100\n",
      "105/105 [==============================] - 0s 38us/step - loss: 0.3005 - acc: 0.9619\n",
      "Epoch 64/100\n",
      "105/105 [==============================] - 0s 38us/step - loss: 0.2975 - acc: 0.9714\n",
      "Epoch 65/100\n",
      "105/105 [==============================] - 0s 38us/step - loss: 0.2952 - acc: 0.9619\n",
      "Epoch 66/100\n",
      "105/105 [==============================] - 0s 76us/step - loss: 0.2880 - acc: 0.9524\n",
      "Epoch 67/100\n",
      "105/105 [==============================] - 0s 38us/step - loss: 0.2867 - acc: 0.9429\n",
      "Epoch 68/100\n",
      "105/105 [==============================] - 0s 38us/step - loss: 0.2982 - acc: 0.8952\n",
      "Epoch 69/100\n",
      "105/105 [==============================] - 0s 38us/step - loss: 0.2796 - acc: 0.9619\n",
      "Epoch 70/100\n",
      "105/105 [==============================] - 0s 38us/step - loss: 0.3220 - acc: 0.8762\n",
      "Epoch 71/100\n",
      "105/105 [==============================] - 0s 38us/step - loss: 0.2747 - acc: 0.9619\n",
      "Epoch 72/100\n",
      "105/105 [==============================] - 0s 76us/step - loss: 0.2709 - acc: 0.9619\n",
      "Epoch 73/100\n",
      "105/105 [==============================] - 0s 38us/step - loss: 0.2721 - acc: 0.9333\n",
      "Epoch 74/100\n",
      "105/105 [==============================] - 0s 76us/step - loss: 0.2691 - acc: 0.9619\n",
      "Epoch 75/100\n"
     ]
    },
    {
     "name": "stdout",
     "output_type": "stream",
     "text": [
      "105/105 [==============================] - 0s 38us/step - loss: 0.3103 - acc: 0.8857\n",
      "Epoch 76/100\n",
      "105/105 [==============================] - 0s 76us/step - loss: 0.2574 - acc: 0.9429\n",
      "Epoch 77/100\n",
      "105/105 [==============================] - 0s 38us/step - loss: 0.2571 - acc: 0.9429\n",
      "Epoch 78/100\n",
      "105/105 [==============================] - 0s 38us/step - loss: 0.2479 - acc: 0.9619\n",
      "Epoch 79/100\n",
      "105/105 [==============================] - 0s 76us/step - loss: 0.2960 - acc: 0.8952\n",
      "Epoch 80/100\n",
      "105/105 [==============================] - ETA: 0s - loss: 0.2415 - acc: 0.968 - 0s 38us/step - loss: 0.2397 - acc: 0.9619\n",
      "Epoch 81/100\n",
      "105/105 [==============================] - 0s 38us/step - loss: 0.2607 - acc: 0.9429\n",
      "Epoch 82/100\n",
      "105/105 [==============================] - ETA: 0s - loss: 0.3559 - acc: 0.812 - 0s 38us/step - loss: 0.3039 - acc: 0.8857\n",
      "Epoch 83/100\n",
      "105/105 [==============================] - 0s 38us/step - loss: 0.2576 - acc: 0.9619\n",
      "Epoch 84/100\n",
      "105/105 [==============================] - 0s 38us/step - loss: 0.2529 - acc: 0.9143\n",
      "Epoch 85/100\n",
      "105/105 [==============================] - 0s 76us/step - loss: 0.2218 - acc: 0.9714\n",
      "Epoch 86/100\n",
      "105/105 [==============================] - 0s 38us/step - loss: 0.2258 - acc: 0.9619\n",
      "Epoch 87/100\n",
      "105/105 [==============================] - 0s 76us/step - loss: 0.2197 - acc: 0.9619\n",
      "Epoch 88/100\n",
      "105/105 [==============================] - 0s 38us/step - loss: 0.2256 - acc: 0.9524\n",
      "Epoch 89/100\n",
      "105/105 [==============================] - 0s 76us/step - loss: 0.2340 - acc: 0.9524\n",
      "Epoch 90/100\n",
      "105/105 [==============================] - 0s 76us/step - loss: 0.2256 - acc: 0.9429\n",
      "Epoch 91/100\n",
      "105/105 [==============================] - 0s 38us/step - loss: 0.2311 - acc: 0.9429\n",
      "Epoch 92/100\n",
      "105/105 [==============================] - 0s 76us/step - loss: 0.2062 - acc: 0.9619\n",
      "Epoch 93/100\n",
      "105/105 [==============================] - 0s 38us/step - loss: 0.2006 - acc: 0.9238\n",
      "Epoch 94/100\n",
      "105/105 [==============================] - 0s 38us/step - loss: 0.1966 - acc: 0.9524\n",
      "Epoch 95/100\n",
      "105/105 [==============================] - 0s 38us/step - loss: 0.1965 - acc: 0.9524\n",
      "Epoch 96/100\n",
      "105/105 [==============================] - 0s 38us/step - loss: 0.2001 - acc: 0.9429\n",
      "Epoch 97/100\n",
      "105/105 [==============================] - 0s 38us/step - loss: 0.2032 - acc: 0.9619\n",
      "Epoch 98/100\n",
      "105/105 [==============================] - 0s 38us/step - loss: 0.2013 - acc: 0.9524\n",
      "Epoch 99/100\n",
      "105/105 [==============================] - 0s 76us/step - loss: 0.2010 - acc: 0.9524\n",
      "Epoch 100/100\n",
      "105/105 [==============================] - 0s 38us/step - loss: 0.2239 - acc: 0.9333\n"
     ]
    },
    {
     "data": {
      "text/plain": [
       "<keras.callbacks.History at 0x20ff4b25e80>"
      ]
     },
     "execution_count": 12,
     "metadata": {},
     "output_type": "execute_result"
    }
   ],
   "source": [
    "###########Add more neurons\n",
    "model3 = Sequential()\n",
    "\n",
    "model3.add(Dense(10,input_shape=(4,),activation='relu'))\n",
    "model3.add(Dense(80,activation='relu'))\n",
    "model3.add(Dense(80,activation='relu'))\n",
    "model3.add(Dense(3,activation='softmax'))\n",
    "\n",
    "#model.compile(Adam(lr=0.04),'categorical_crossentropy',metrics=['accuracy'])\n",
    "model3.compile(loss='categorical_crossentropy', optimizer='sgd', metrics=['accuracy'])\n",
    "\n",
    "model3.summary()\n",
    "#fitting the model and predicting \n",
    "model3.fit(X_train,Y_train,epochs=100)"
   ]
  },
  {
   "cell_type": "code",
   "execution_count": 13,
   "metadata": {},
   "outputs": [
    {
     "name": "stdout",
     "output_type": "stream",
     "text": [
      "0.9777777777777777\n",
      "             precision    recall  f1-score   support\n",
      "\n",
      "          0       1.00      1.00      1.00        14\n",
      "          1       1.00      0.94      0.97        18\n",
      "          2       0.93      1.00      0.96        13\n",
      "\n",
      "avg / total       0.98      0.98      0.98        45\n",
      "\n",
      "[[14  0  0]\n",
      " [ 0 17  1]\n",
      " [ 0  0 13]]\n"
     ]
    }
   ],
   "source": [
    "from sklearn import metrics\n",
    "from sklearn.metrics import classification_report,confusion_matrix\n",
    "y_pred3 = model3.predict(X_test)\n",
    "y_test_class = np.argmax(Y_test,axis=1)\n",
    "y_pred3_class = np.argmax(y_pred3,axis=1)\n",
    "\n",
    "#y_predict=model.predict(X_test)\n",
    "print(metrics.accuracy_score(y_test_class,y_pred3_class))\n",
    "#Accuracy of the predicted values\n",
    "print(classification_report(y_test_class,y_pred3_class))\n",
    "print(confusion_matrix(y_test_class,y_pred3_class))"
   ]
  },
  {
   "cell_type": "code",
   "execution_count": null,
   "metadata": {},
   "outputs": [],
   "source": [
    "##Based on the above two models with 2 hidden layers - one with relatively less no of neurons and another with high number of \n",
    "##neurons in hidden layers, it seems the poor performance of model2 with 2 hidden layers compared to first model without hidden\n",
    "##layer is due to relatively less no of neurons in model2. More neurons are required (as shown in model3) to mitigate the \n",
    "##effects of random initial weights and data division in input layers. The additional neurons in model3 achieves this effect with improved result. "
   ]
  }
 ],
 "metadata": {
  "colab": {
   "name": "3. R6_InternalLab_AIML_Share_Prices-Eager Execution.ipynb",
   "provenance": [],
   "version": "0.3.2"
  },
  "kernelspec": {
   "display_name": "Python 3",
   "language": "python",
   "name": "python3"
  },
  "language_info": {
   "codemirror_mode": {
    "name": "ipython",
    "version": 3
   },
   "file_extension": ".py",
   "mimetype": "text/x-python",
   "name": "python",
   "nbconvert_exporter": "python",
   "pygments_lexer": "ipython3",
   "version": "3.7.0"
  }
 },
 "nbformat": 4,
 "nbformat_minor": 1
}
