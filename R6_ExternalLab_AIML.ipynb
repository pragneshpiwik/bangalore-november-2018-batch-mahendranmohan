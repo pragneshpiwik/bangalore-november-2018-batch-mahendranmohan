{
 "cells": [
  {
   "cell_type": "markdown",
   "metadata": {
    "colab_type": "text",
    "id": "YYk8NG3yOIT9"
   },
   "source": [
    "### A MNIST-like fashion product database\n",
    "\n",
    "In this, we classify the images into respective classes given in the dataset. We use a Neural Net and a Deep Neural Net in Keras to solve this and check the accuracy scores."
   ]
  },
  {
   "cell_type": "markdown",
   "metadata": {
    "colab_type": "text",
    "id": "tFO6PuxzOIT_",
    "slideshow": {
     "slide_type": "slide"
    }
   },
   "source": [
    "### Load tensorflow"
   ]
  },
  {
   "cell_type": "code",
   "execution_count": 1,
   "metadata": {
    "colab": {},
    "colab_type": "code",
    "id": "efNjNImfOIUC"
   },
   "outputs": [],
   "source": [
    "import tensorflow as tf\n",
    "tf.set_random_seed(42)"
   ]
  },
  {
   "cell_type": "code",
   "execution_count": 2,
   "metadata": {
    "colab": {},
    "colab_type": "code",
    "id": "l9C4aAIGOIUH",
    "outputId": "5ef9aff6-a7bd-4b26-cba6-8750955f6ca3"
   },
   "outputs": [
    {
     "data": {
      "text/plain": [
       "'1.13.1'"
      ]
     },
     "execution_count": 2,
     "metadata": {},
     "output_type": "execute_result"
    }
   ],
   "source": [
    "tf.__version__"
   ]
  },
  {
   "cell_type": "code",
   "execution_count": 3,
   "metadata": {},
   "outputs": [],
   "source": [
    "\n",
    "import numpy as np\n",
    "import matplotlib.pyplot as plt\n",
    "#warnings.filterwarnings('ignore')\n",
    "\n",
    "from IPython.core.interactiveshell import InteractiveShell\n",
    "InteractiveShell.ast_node_interactivity = \"all\""
   ]
  },
  {
   "cell_type": "markdown",
   "metadata": {
    "colab_type": "text",
    "id": "HcoZBStrOIUQ",
    "slideshow": {
     "slide_type": "slide"
    }
   },
   "source": [
    "### Collect Data"
   ]
  },
  {
   "cell_type": "code",
   "execution_count": 4,
   "metadata": {
    "colab": {},
    "colab_type": "code",
    "id": "XA1WsFSeOIUS"
   },
   "outputs": [
    {
     "name": "stderr",
     "output_type": "stream",
     "text": [
      "Using TensorFlow backend.\n"
     ]
    }
   ],
   "source": [
    "import keras"
   ]
  },
  {
   "cell_type": "code",
   "execution_count": 5,
   "metadata": {
    "colab": {},
    "colab_type": "code",
    "id": "qnbx7TyQOIUY"
   },
   "outputs": [],
   "source": [
    "(trainX_orig, trainY_orig), (testX_orig, testY_orig) = keras.datasets.fashion_mnist.load_data()"
   ]
  },
  {
   "cell_type": "code",
   "execution_count": 6,
   "metadata": {
    "colab": {},
    "colab_type": "code",
    "id": "UbiHj5YPOIUc",
    "outputId": "87e1b9cd-07f0-45cb-e706-0d51ad742d72",
    "slideshow": {
     "slide_type": "fragment"
    }
   },
   "outputs": [
    {
     "name": "stdout",
     "output_type": "stream",
     "text": [
      "[9 2 1 1 6]\n"
     ]
    }
   ],
   "source": [
    "trainX, trainY, testX, testY = trainX_orig, trainY_orig, testX_orig, testY_orig\n",
    "\n",
    "print(testY_orig[0:5])"
   ]
  },
  {
   "cell_type": "code",
   "execution_count": 7,
   "metadata": {},
   "outputs": [
    {
     "name": "stdout",
     "output_type": "stream",
     "text": [
      "(60000, 28, 28) (60000,) (10000, 28, 28) (10000,)\n"
     ]
    }
   ],
   "source": [
    "print(trainX.shape, trainY.shape, testX.shape, testY.shape)\n"
   ]
  },
  {
   "cell_type": "markdown",
   "metadata": {
    "colab_type": "text",
    "id": "lDAYzkwyOIUj",
    "slideshow": {
     "slide_type": "slide"
    }
   },
   "source": [
    "### Convert both training and testing labels into one-hot vectors.\n",
    "\n",
    "**Hint:** check **tf.keras.utils.to_categorical()**"
   ]
  },
  {
   "cell_type": "code",
   "execution_count": 8,
   "metadata": {
    "colab": {},
    "colab_type": "code",
    "id": "vBlfYlANOIUk"
   },
   "outputs": [
    {
     "name": "stdout",
     "output_type": "stream",
     "text": [
      "(60000, 28, 28) (60000, 10) (10000, 28, 28) (10000, 10)\n"
     ]
    }
   ],
   "source": [
    "trainY = tf.keras.utils.to_categorical(trainY, num_classes=10)\n",
    "testY = tf.keras.utils.to_categorical(testY, num_classes=10)\n",
    "print(trainX.shape, trainY.shape, testX.shape, testY.shape)"
   ]
  },
  {
   "cell_type": "code",
   "execution_count": 9,
   "metadata": {
    "colab": {},
    "colab_type": "code",
    "id": "RHV3b9mzOIUq",
    "outputId": "27bdfe58-91ee-4677-fe49-e742ad306c70",
    "scrolled": true,
    "slideshow": {
     "slide_type": "fragment"
    }
   },
   "outputs": [
    {
     "name": "stdout",
     "output_type": "stream",
     "text": [
      "(60000, 10)\n",
      "First 5 examples now are:  [[0. 0. 0. 0. 0. 0. 0. 0. 0. 1.]\n",
      " [1. 0. 0. 0. 0. 0. 0. 0. 0. 0.]\n",
      " [1. 0. 0. 0. 0. 0. 0. 0. 0. 0.]\n",
      " [0. 0. 0. 1. 0. 0. 0. 0. 0. 0.]\n",
      " [1. 0. 0. 0. 0. 0. 0. 0. 0. 0.]]\n"
     ]
    }
   ],
   "source": [
    "print(trainY.shape)\n",
    "print('First 5 examples now are: ', trainY[0:5])"
   ]
  },
  {
   "cell_type": "markdown",
   "metadata": {
    "colab_type": "text",
    "id": "FwhQ8e7VOIUw"
   },
   "source": [
    "### Visualize the data\n",
    "\n",
    "Plot first 10 images in the triaining set and their labels."
   ]
  },
  {
   "cell_type": "code",
   "execution_count": 10,
   "metadata": {
    "colab": {},
    "colab_type": "code",
    "id": "AvDML2OoOIUx",
    "outputId": "9dafc94e-61a8-4089-be03-d143163d68aa"
   },
   "outputs": [
    {
     "data": {
      "text/plain": [
       "<matplotlib.image.AxesImage at 0x29b239765c0>"
      ]
     },
     "execution_count": 10,
     "metadata": {},
     "output_type": "execute_result"
    },
    {
     "data": {
      "text/plain": [
       "Text(0.5,1,'9')"
      ]
     },
     "execution_count": 10,
     "metadata": {},
     "output_type": "execute_result"
    },
    {
     "data": {
      "text/plain": [
       "<matplotlib.image.AxesImage at 0x29b23976a20>"
      ]
     },
     "execution_count": 10,
     "metadata": {},
     "output_type": "execute_result"
    },
    {
     "data": {
      "text/plain": [
       "Text(0.5,1,'0')"
      ]
     },
     "execution_count": 10,
     "metadata": {},
     "output_type": "execute_result"
    },
    {
     "data": {
      "text/plain": [
       "<matplotlib.image.AxesImage at 0x29b23976da0>"
      ]
     },
     "execution_count": 10,
     "metadata": {},
     "output_type": "execute_result"
    },
    {
     "data": {
      "text/plain": [
       "Text(0.5,1,'0')"
      ]
     },
     "execution_count": 10,
     "metadata": {},
     "output_type": "execute_result"
    },
    {
     "data": {
      "text/plain": [
       "<matplotlib.image.AxesImage at 0x29b23989128>"
      ]
     },
     "execution_count": 10,
     "metadata": {},
     "output_type": "execute_result"
    },
    {
     "data": {
      "text/plain": [
       "Text(0.5,1,'3')"
      ]
     },
     "execution_count": 10,
     "metadata": {},
     "output_type": "execute_result"
    },
    {
     "data": {
      "text/plain": [
       "<matplotlib.image.AxesImage at 0x29b239890f0>"
      ]
     },
     "execution_count": 10,
     "metadata": {},
     "output_type": "execute_result"
    },
    {
     "data": {
      "text/plain": [
       "Text(0.5,1,'0')"
      ]
     },
     "execution_count": 10,
     "metadata": {},
     "output_type": "execute_result"
    },
    {
     "data": {
      "text/plain": [
       "<matplotlib.image.AxesImage at 0x29b239897f0>"
      ]
     },
     "execution_count": 10,
     "metadata": {},
     "output_type": "execute_result"
    },
    {
     "data": {
      "text/plain": [
       "Text(0.5,1,'2')"
      ]
     },
     "execution_count": 10,
     "metadata": {},
     "output_type": "execute_result"
    },
    {
     "data": {
      "text/plain": [
       "<matplotlib.image.AxesImage at 0x29b23989b38>"
      ]
     },
     "execution_count": 10,
     "metadata": {},
     "output_type": "execute_result"
    },
    {
     "data": {
      "text/plain": [
       "Text(0.5,1,'7')"
      ]
     },
     "execution_count": 10,
     "metadata": {},
     "output_type": "execute_result"
    },
    {
     "data": {
      "text/plain": [
       "<matplotlib.image.AxesImage at 0x29b23989e48>"
      ]
     },
     "execution_count": 10,
     "metadata": {},
     "output_type": "execute_result"
    },
    {
     "data": {
      "text/plain": [
       "Text(0.5,1,'2')"
      ]
     },
     "execution_count": 10,
     "metadata": {},
     "output_type": "execute_result"
    },
    {
     "data": {
      "text/plain": [
       "<matplotlib.image.AxesImage at 0x29b23994208>"
      ]
     },
     "execution_count": 10,
     "metadata": {},
     "output_type": "execute_result"
    },
    {
     "data": {
      "text/plain": [
       "Text(0.5,1,'5')"
      ]
     },
     "execution_count": 10,
     "metadata": {},
     "output_type": "execute_result"
    },
    {
     "data": {
      "text/plain": [
       "<matplotlib.image.AxesImage at 0x29b23994550>"
      ]
     },
     "execution_count": 10,
     "metadata": {},
     "output_type": "execute_result"
    },
    {
     "data": {
      "text/plain": [
       "Text(0.5,1,'5')"
      ]
     },
     "execution_count": 10,
     "metadata": {},
     "output_type": "execute_result"
    },
    {
     "data": {
      "text/plain": [
       "([], <a list of 0 Text xticklabel objects>)"
      ]
     },
     "execution_count": 10,
     "metadata": {},
     "output_type": "execute_result"
    },
    {
     "data": {
      "text/plain": [
       "([], <a list of 0 Text yticklabel objects>)"
      ]
     },
     "execution_count": 10,
     "metadata": {},
     "output_type": "execute_result"
    },
    {
     "name": "stdout",
     "output_type": "stream",
     "text": [
      "label for each of the below images:  [9 0 0 3 0 2 7 2 5 5]\n"
     ]
    },
    {
     "data": {
      "image/png": "[encoded data removed]",
      "text/plain": [
       "<Figure size 648x648 with 10 Axes>"
      ]
     },
     "metadata": {},
     "output_type": "display_data"
    }
   ],
   "source": [
    "fig, axes = plt.subplots(1, 10,figsize=(9, 9), sharey=True, sharex=True)\n",
    "\n",
    "for i in range(10):\n",
    "    axes[i].imshow(trainX[i].reshape(28,28),cmap=plt.get_cmap('gray'))\n",
    "    axes[i].set_title(trainY_orig[i])\n",
    "    \n",
    "plt.xticks([])\n",
    "plt.yticks([])\n",
    "\n",
    "print('label for each of the below images: ', trainY_orig[0:10])"
   ]
  },
  {
   "cell_type": "markdown",
   "metadata": {
    "colab_type": "text",
    "id": "l4TbJGeSOIU4",
    "slideshow": {
     "slide_type": "slide"
    }
   },
   "source": [
    "### Build a neural Network with a cross entropy loss function and sgd optimizer in Keras. The output layer with 10 neurons as we have 10 classes."
   ]
  },
  {
   "cell_type": "code",
   "execution_count": 11,
   "metadata": {
    "colab": {},
    "colab_type": "code",
    "id": "Ac06XZZTOIU6"
   },
   "outputs": [
    {
     "name": "stdout",
     "output_type": "stream",
     "text": [
      "(60000, 28, 28) (60000, 10) (10000, 28, 28) (10000, 10)\n",
      "(60000, 784) (60000, 10) (10000, 784) (10000, 10)\n"
     ]
    }
   ],
   "source": [
    "print(trainX.shape, trainY.shape, testX.shape, testY.shape)\n",
    "\n",
    "trainX = trainX.astype(\"float32\") / 255.0\n",
    "testX = testX.astype(\"float32\") / 255.0\n",
    "\n",
    "trainX = trainX.reshape(60000, 784)\n",
    "testX = testX.reshape(10000, 784)\n",
    "\n",
    "print(trainX.shape, trainY.shape, testX.shape, testY.shape)"
   ]
  },
  {
   "cell_type": "code",
   "execution_count": 12,
   "metadata": {},
   "outputs": [
    {
     "name": "stdout",
     "output_type": "stream",
     "text": [
      "WARNING:tensorflow:From C:\\ProgramData\\Anaconda3\\lib\\site-packages\\tensorflow\\python\\ops\\resource_variable_ops.py:435: colocate_with (from tensorflow.python.framework.ops) is deprecated and will be removed in a future version.\n",
      "Instructions for updating:\n",
      "Colocations handled automatically by placer.\n"
     ]
    }
   ],
   "source": [
    "model = tf.keras.models.Sequential([ tf.keras.layers.Dense(10,input_shape=(784,),activation='softmax')])\n",
    "model.compile(optimizer='sgd', loss='categorical_crossentropy', metrics=['accuracy'])"
   ]
  },
  {
   "cell_type": "markdown",
   "metadata": {
    "colab_type": "text",
    "id": "3hQpLv3aOIU_",
    "slideshow": {
     "slide_type": "slide"
    }
   },
   "source": [
    "### Execute the model using model.fit()"
   ]
  },
  {
   "cell_type": "code",
   "execution_count": 13,
   "metadata": {
    "colab": {},
    "colab_type": "code",
    "id": "O59C_-IgOIVB"
   },
   "outputs": [
    {
     "name": "stdout",
     "output_type": "stream",
     "text": [
      "Train on 60000 samples, validate on 10000 samples\n",
      "WARNING:tensorflow:From C:\\ProgramData\\Anaconda3\\lib\\site-packages\\tensorflow\\python\\ops\\math_ops.py:3066: to_int32 (from tensorflow.python.ops.math_ops) is deprecated and will be removed in a future version.\n",
      "Instructions for updating:\n",
      "Use tf.cast instead.\n",
      "Epoch 1/30\n",
      " - 0s - loss: 2.3156 - acc: 0.1106 - val_loss: 2.2817 - val_acc: 0.1166\n",
      "Epoch 2/30\n",
      " - 0s - loss: 2.2759 - acc: 0.1184 - val_loss: 2.2482 - val_acc: 0.1258\n",
      "Epoch 3/30\n",
      " - 0s - loss: 2.2424 - acc: 0.1279 - val_loss: 2.2189 - val_acc: 0.1378\n",
      "Epoch 4/30\n",
      " - 0s - loss: 2.2131 - acc: 0.1408 - val_loss: 2.1928 - val_acc: 0.1517\n",
      "Epoch 5/30\n",
      " - 0s - loss: 2.1869 - acc: 0.1564 - val_loss: 2.1690 - val_acc: 0.1691\n",
      "Epoch 6/30\n",
      " - 0s - loss: 2.1630 - acc: 0.1742 - val_loss: 2.1470 - val_acc: 0.1876\n",
      "Epoch 7/30\n",
      " - 0s - loss: 2.1409 - acc: 0.1944 - val_loss: 2.1265 - val_acc: 0.2054\n",
      "Epoch 8/30\n",
      " - 0s - loss: 2.1203 - acc: 0.2139 - val_loss: 2.1071 - val_acc: 0.2240\n",
      "Epoch 9/30\n",
      " - 0s - loss: 2.1008 - acc: 0.2341 - val_loss: 2.0887 - val_acc: 0.2418\n",
      "Epoch 10/30\n",
      " - 0s - loss: 2.0823 - acc: 0.2526 - val_loss: 2.0710 - val_acc: 0.2592\n",
      "Epoch 11/30\n",
      " - 0s - loss: 2.0645 - acc: 0.2701 - val_loss: 2.0540 - val_acc: 0.2763\n",
      "Epoch 12/30\n",
      " - 0s - loss: 2.0474 - acc: 0.2875 - val_loss: 2.0376 - val_acc: 0.2909\n",
      "Epoch 13/30\n",
      " - 0s - loss: 2.0309 - acc: 0.3033 - val_loss: 2.0217 - val_acc: 0.3065\n",
      "Epoch 14/30\n",
      " - 0s - loss: 2.0149 - acc: 0.3187 - val_loss: 2.0062 - val_acc: 0.3232\n",
      "Epoch 15/30\n",
      " - 0s - loss: 1.9993 - acc: 0.3333 - val_loss: 1.9912 - val_acc: 0.3376\n",
      "Epoch 16/30\n",
      " - 0s - loss: 1.9842 - acc: 0.3470 - val_loss: 1.9765 - val_acc: 0.3524\n",
      "Epoch 17/30\n",
      " - 0s - loss: 1.9694 - acc: 0.3608 - val_loss: 1.9621 - val_acc: 0.3643\n",
      "Epoch 18/30\n",
      " - 0s - loss: 1.9550 - acc: 0.3741 - val_loss: 1.9481 - val_acc: 0.3756\n",
      "Epoch 19/30\n",
      " - 0s - loss: 1.9408 - acc: 0.3872 - val_loss: 1.9344 - val_acc: 0.3879\n",
      "Epoch 20/30\n",
      " - 0s - loss: 1.9270 - acc: 0.3993 - val_loss: 1.9210 - val_acc: 0.3991\n",
      "Epoch 21/30\n",
      " - 0s - loss: 1.9135 - acc: 0.4108 - val_loss: 1.9078 - val_acc: 0.4088\n",
      "Epoch 22/30\n",
      " - 0s - loss: 1.9002 - acc: 0.4226 - val_loss: 1.8949 - val_acc: 0.4179\n",
      "Epoch 23/30\n",
      " - 0s - loss: 1.8872 - acc: 0.4329 - val_loss: 1.8822 - val_acc: 0.4280\n",
      "Epoch 24/30\n",
      " - 0s - loss: 1.8745 - acc: 0.4424 - val_loss: 1.8698 - val_acc: 0.4391\n",
      "Epoch 25/30\n",
      " - 0s - loss: 1.8620 - acc: 0.4519 - val_loss: 1.8577 - val_acc: 0.4468\n",
      "Epoch 26/30\n",
      " - 0s - loss: 1.8497 - acc: 0.4615 - val_loss: 1.8457 - val_acc: 0.4571\n",
      "Epoch 27/30\n",
      " - 0s - loss: 1.8377 - acc: 0.4699 - val_loss: 1.8340 - val_acc: 0.4660\n",
      "Epoch 28/30\n",
      " - 0s - loss: 1.8259 - acc: 0.4775 - val_loss: 1.8225 - val_acc: 0.4741\n",
      "Epoch 29/30\n",
      " - 0s - loss: 1.8143 - acc: 0.4851 - val_loss: 1.8112 - val_acc: 0.4818\n",
      "Epoch 30/30\n",
      " - 0s - loss: 1.8029 - acc: 0.4932 - val_loss: 1.8001 - val_acc: 0.4862\n"
     ]
    },
    {
     "data": {
      "text/plain": [
       "<tensorflow.python.keras.callbacks.History at 0x29b2c21f6a0>"
      ]
     },
     "execution_count": 13,
     "metadata": {},
     "output_type": "execute_result"
    },
    {
     "name": "stdout",
     "output_type": "stream",
     "text": [
      "Test accuracy: 0.4862\n"
     ]
    }
   ],
   "source": [
    "model.fit(trainX, trainY, batch_size=trainX.shape[0], epochs=30, verbose=2, validation_data=(testX, testY))\n",
    "score, acc = model.evaluate(testX, testY, verbose=0)\n",
    "print('Test accuracy:', acc)\n",
    "\n"
   ]
  },
  {
   "cell_type": "markdown",
   "metadata": {
    "colab_type": "text",
    "id": "JdzDtGwDOIVF",
    "slideshow": {
     "slide_type": "slide"
    }
   },
   "source": [
    "### In the above Neural Network model add Batch Normalization layer after the input layer and repeat the steps."
   ]
  },
  {
   "cell_type": "code",
   "execution_count": 14,
   "metadata": {},
   "outputs": [],
   "source": [
    "#Initialize Sequential model\n",
    "model = tf.keras.models.Sequential()\n",
    "\n",
    "#Reshape data from 2D to 1D -> 28x28 to 784\n",
    "#model.add(tf.keras.layers.Reshape((784,),input_shape=(28,28,)))\n",
    "model.add(tf.keras.layers.Dense(10, activation='relu', input_dim=784))\n",
    "\n",
    "#Normalize the data\n",
    "model.add(tf.keras.layers.BatchNormalization())\n",
    "\n",
    "#Add Dense Layer which provides 10 Outputs after applying softmax\n",
    "model.add(tf.keras.layers.Dense(10, activation='softmax'))\n",
    "\n",
    "#Comile the model ((We will learn about optimizers it in the next residency))\n",
    "model.compile(optimizer='sgd', loss='categorical_crossentropy', metrics=['accuracy'])"
   ]
  },
  {
   "cell_type": "markdown",
   "metadata": {
    "colab_type": "text",
    "id": "mwk3T5LJOIVN",
    "slideshow": {
     "slide_type": "slide"
    }
   },
   "source": [
    "### Execute the model"
   ]
  },
  {
   "cell_type": "code",
   "execution_count": 15,
   "metadata": {
    "colab": {},
    "colab_type": "code",
    "id": "JNLR8tcBOIVP"
   },
   "outputs": [
    {
     "name": "stdout",
     "output_type": "stream",
     "text": [
      "Train on 60000 samples, validate on 10000 samples\n",
      "Epoch 1/30\n",
      " - 0s - loss: 2.5153 - acc: 0.1129 - val_loss: 2.2668 - val_acc: 0.1309\n",
      "Epoch 2/30\n",
      " - 0s - loss: 2.3394 - acc: 0.1450 - val_loss: 2.2328 - val_acc: 0.1607\n",
      "Epoch 3/30\n",
      " - 0s - loss: 2.2220 - acc: 0.1833 - val_loss: 2.2028 - val_acc: 0.1874\n",
      "Epoch 4/30\n",
      " - 0s - loss: 2.1299 - acc: 0.2197 - val_loss: 2.1777 - val_acc: 0.2067\n",
      "Epoch 5/30\n",
      " - 0s - loss: 2.0586 - acc: 0.2528 - val_loss: 2.1563 - val_acc: 0.2202\n",
      "Epoch 6/30\n",
      " - 0s - loss: 2.0005 - acc: 0.2826 - val_loss: 2.1374 - val_acc: 0.2309\n",
      "Epoch 7/30\n",
      " - 0s - loss: 1.9509 - acc: 0.3083 - val_loss: 2.1205 - val_acc: 0.2390\n",
      "Epoch 8/30\n",
      " - 0s - loss: 1.9074 - acc: 0.3326 - val_loss: 2.1053 - val_acc: 0.2408\n",
      "Epoch 9/30\n",
      " - 0s - loss: 1.8686 - acc: 0.3539 - val_loss: 2.0919 - val_acc: 0.2412\n",
      "Epoch 10/30\n",
      " - 0s - loss: 1.8343 - acc: 0.3738 - val_loss: 2.0799 - val_acc: 0.2402\n",
      "Epoch 11/30\n",
      " - 0s - loss: 1.8041 - acc: 0.3906 - val_loss: 2.0691 - val_acc: 0.2409\n",
      "Epoch 12/30\n",
      " - 0s - loss: 1.7772 - acc: 0.4058 - val_loss: 2.0591 - val_acc: 0.2404\n",
      "Epoch 13/30\n",
      " - 0s - loss: 1.7530 - acc: 0.4196 - val_loss: 2.0496 - val_acc: 0.2411\n",
      "Epoch 14/30\n",
      " - 0s - loss: 1.7308 - acc: 0.4329 - val_loss: 2.0407 - val_acc: 0.2422\n",
      "Epoch 15/30\n",
      " - 0s - loss: 1.7100 - acc: 0.4457 - val_loss: 2.0322 - val_acc: 0.2416\n",
      "Epoch 16/30\n",
      " - 0s - loss: 1.6907 - acc: 0.4568 - val_loss: 2.0240 - val_acc: 0.2425\n",
      "Epoch 17/30\n",
      " - 0s - loss: 1.6724 - acc: 0.4688 - val_loss: 2.0161 - val_acc: 0.2431\n",
      "Epoch 18/30\n",
      " - 0s - loss: 1.6554 - acc: 0.4787 - val_loss: 2.0083 - val_acc: 0.2451\n",
      "Epoch 19/30\n",
      " - 0s - loss: 1.6401 - acc: 0.4885 - val_loss: 2.0007 - val_acc: 0.2481\n",
      "Epoch 20/30\n",
      " - 0s - loss: 1.6261 - acc: 0.4972 - val_loss: 1.9929 - val_acc: 0.2517\n",
      "Epoch 21/30\n",
      " - 0s - loss: 1.6133 - acc: 0.5048 - val_loss: 1.9851 - val_acc: 0.2553\n",
      "Epoch 22/30\n",
      " - 0s - loss: 1.6016 - acc: 0.5123 - val_loss: 1.9774 - val_acc: 0.2601\n",
      "Epoch 23/30\n",
      " - 0s - loss: 1.5907 - acc: 0.5191 - val_loss: 1.9698 - val_acc: 0.2652\n",
      "Epoch 24/30\n",
      " - 0s - loss: 1.5805 - acc: 0.5258 - val_loss: 1.9624 - val_acc: 0.2696\n",
      "Epoch 25/30\n",
      " - 0s - loss: 1.5709 - acc: 0.5309 - val_loss: 1.9550 - val_acc: 0.2753\n",
      "Epoch 26/30\n",
      " - 0s - loss: 1.5619 - acc: 0.5364 - val_loss: 1.9477 - val_acc: 0.2798\n",
      "Epoch 27/30\n",
      " - 0s - loss: 1.5533 - acc: 0.5413 - val_loss: 1.9406 - val_acc: 0.2848\n",
      "Epoch 28/30\n",
      " - 0s - loss: 1.5452 - acc: 0.5453 - val_loss: 1.9336 - val_acc: 0.2896\n",
      "Epoch 29/30\n",
      " - 0s - loss: 1.5374 - acc: 0.5498 - val_loss: 1.9266 - val_acc: 0.2961\n",
      "Epoch 30/30\n",
      " - 0s - loss: 1.5300 - acc: 0.5537 - val_loss: 1.9198 - val_acc: 0.3007\n"
     ]
    },
    {
     "data": {
      "text/plain": [
       "<tensorflow.python.keras.callbacks.History at 0x29b2c937ef0>"
      ]
     },
     "execution_count": 15,
     "metadata": {},
     "output_type": "execute_result"
    },
    {
     "name": "stdout",
     "output_type": "stream",
     "text": [
      "Test accuracy: 0.3007\n"
     ]
    }
   ],
   "source": [
    "model.fit(trainX, trainY, batch_size=trainX.shape[0], epochs=30, verbose=2, validation_data=(testX, testY))\n",
    "score, acc = model.evaluate(testX, testY, verbose=0)\n",
    "print('Test accuracy:', acc)\n"
   ]
  },
  {
   "cell_type": "markdown",
   "metadata": {
    "colab_type": "text",
    "id": "Py-KwkmjOIVU"
   },
   "source": [
    "### Customize the learning rate to 0.001 in sgd optimizer and run the model"
   ]
  },
  {
   "cell_type": "code",
   "execution_count": 16,
   "metadata": {
    "colab": {},
    "colab_type": "code",
    "id": "yLXUE9jWOIVV"
   },
   "outputs": [],
   "source": [
    "#Initialize Sequential model\n",
    "model = tf.keras.models.Sequential()\n",
    "\n",
    "model.add(tf.keras.layers.Dense(10, activation='relu', input_dim=784))\n",
    "model.add(tf.keras.layers.BatchNormalization())\n",
    "model.add(tf.keras.layers.Dense(10, activation='softmax'))\n",
    "sgd = tf.keras.optimizers.SGD(lr=0.001)\n",
    "#Comile the model\n",
    "model.compile(optimizer=sgd, loss='categorical_crossentropy', metrics=['accuracy'])"
   ]
  },
  {
   "cell_type": "code",
   "execution_count": 17,
   "metadata": {
    "colab": {},
    "colab_type": "code",
    "id": "pJUqA5T4OIVc"
   },
   "outputs": [
    {
     "name": "stdout",
     "output_type": "stream",
     "text": [
      "Train on 60000 samples, validate on 10000 samples\n",
      "Epoch 1/30\n",
      " - 1s - loss: 2.9487 - acc: 0.0716 - val_loss: 2.5307 - val_acc: 0.0576\n",
      "Epoch 2/30\n",
      " - 0s - loss: 2.9329 - acc: 0.0736 - val_loss: 2.5235 - val_acc: 0.0567\n",
      "Epoch 3/30\n",
      " - 0s - loss: 2.9171 - acc: 0.0757 - val_loss: 2.5164 - val_acc: 0.0562\n",
      "Epoch 4/30\n",
      " - 0s - loss: 2.9013 - acc: 0.0780 - val_loss: 2.5095 - val_acc: 0.0555\n",
      "Epoch 5/30\n",
      " - 0s - loss: 2.8853 - acc: 0.0799 - val_loss: 2.5026 - val_acc: 0.0550\n",
      "Epoch 6/30\n",
      " - 0s - loss: 2.8695 - acc: 0.0823 - val_loss: 2.4959 - val_acc: 0.0553\n",
      "Epoch 7/30\n",
      " - 0s - loss: 2.8536 - acc: 0.0839 - val_loss: 2.4894 - val_acc: 0.0549\n",
      "Epoch 8/30\n",
      " - 0s - loss: 2.8379 - acc: 0.0859 - val_loss: 2.4830 - val_acc: 0.0554\n",
      "Epoch 9/30\n",
      " - 0s - loss: 2.8223 - acc: 0.0882 - val_loss: 2.4769 - val_acc: 0.0556\n",
      "Epoch 10/30\n",
      " - 0s - loss: 2.8070 - acc: 0.0904 - val_loss: 2.4710 - val_acc: 0.0563\n",
      "Epoch 11/30\n",
      " - 0s - loss: 2.7920 - acc: 0.0924 - val_loss: 2.4653 - val_acc: 0.0570\n",
      "Epoch 12/30\n",
      " - 0s - loss: 2.7773 - acc: 0.0943 - val_loss: 2.4600 - val_acc: 0.0578\n",
      "Epoch 13/30\n",
      " - 0s - loss: 2.7632 - acc: 0.0958 - val_loss: 2.4549 - val_acc: 0.0576\n",
      "Epoch 14/30\n",
      " - 0s - loss: 2.7497 - acc: 0.0971 - val_loss: 2.4502 - val_acc: 0.0585\n",
      "Epoch 15/30\n",
      " - 0s - loss: 2.7370 - acc: 0.0980 - val_loss: 2.4458 - val_acc: 0.0594\n",
      "Epoch 16/30\n",
      " - 0s - loss: 2.7248 - acc: 0.0988 - val_loss: 2.4415 - val_acc: 0.0615\n",
      "Epoch 17/30\n",
      " - 0s - loss: 2.7134 - acc: 0.0993 - val_loss: 2.4375 - val_acc: 0.0635\n",
      "Epoch 18/30\n",
      " - 0s - loss: 2.7024 - acc: 0.0997 - val_loss: 2.4337 - val_acc: 0.0653\n",
      "Epoch 19/30\n",
      " - 0s - loss: 2.6919 - acc: 0.1001 - val_loss: 2.4300 - val_acc: 0.0685\n",
      "Epoch 20/30\n",
      " - 0s - loss: 2.6818 - acc: 0.1004 - val_loss: 2.4264 - val_acc: 0.0709\n",
      "Epoch 21/30\n",
      " - 0s - loss: 2.6720 - acc: 0.1004 - val_loss: 2.4229 - val_acc: 0.0731\n",
      "Epoch 22/30\n",
      " - 0s - loss: 2.6624 - acc: 0.1005 - val_loss: 2.4195 - val_acc: 0.0753\n",
      "Epoch 23/30\n",
      " - 0s - loss: 2.6531 - acc: 0.1004 - val_loss: 2.4162 - val_acc: 0.0785\n",
      "Epoch 24/30\n",
      " - 0s - loss: 2.6439 - acc: 0.1008 - val_loss: 2.4130 - val_acc: 0.0818\n",
      "Epoch 25/30\n",
      " - 0s - loss: 2.6349 - acc: 0.1008 - val_loss: 2.4098 - val_acc: 0.0852\n",
      "Epoch 26/30\n",
      " - 0s - loss: 2.6261 - acc: 0.1010 - val_loss: 2.4067 - val_acc: 0.0878\n",
      "Epoch 27/30\n",
      " - 0s - loss: 2.6174 - acc: 0.1011 - val_loss: 2.4036 - val_acc: 0.0897\n",
      "Epoch 28/30\n",
      " - 0s - loss: 2.6090 - acc: 0.1012 - val_loss: 2.4005 - val_acc: 0.0922\n",
      "Epoch 29/30\n",
      " - 0s - loss: 2.6006 - acc: 0.1009 - val_loss: 2.3975 - val_acc: 0.0955\n",
      "Epoch 30/30\n",
      " - 0s - loss: 2.5924 - acc: 0.1009 - val_loss: 2.3946 - val_acc: 0.0983\n"
     ]
    },
    {
     "data": {
      "text/plain": [
       "<tensorflow.python.keras.callbacks.History at 0x29b2cb4df28>"
      ]
     },
     "execution_count": 17,
     "metadata": {},
     "output_type": "execute_result"
    },
    {
     "name": "stdout",
     "output_type": "stream",
     "text": [
      "Test accuracy: 0.0983\n"
     ]
    }
   ],
   "source": [
    "\n",
    "model.fit(trainX, trainY, batch_size=trainX.shape[0], epochs=30, verbose=2, validation_data=(testX, testY))\n",
    "score, acc = model.evaluate(testX, testY, verbose=0)\n",
    "print('Test accuracy:', acc)"
   ]
  },
  {
   "cell_type": "markdown",
   "metadata": {
    "colab_type": "text",
    "id": "j9CSqKvpOIVk",
    "slideshow": {
     "slide_type": "slide"
    }
   },
   "source": [
    "### Build the Neural Network model with 3 Dense layers with 100,100,10 neurons respectively in each layer. Use cross entropy loss function and singmoid as activation in the hidden layers and softmax as activation function in the output layer. Use sgd optimizer with learning rate 0.03."
   ]
  },
  {
   "cell_type": "code",
   "execution_count": 18,
   "metadata": {
    "colab": {},
    "colab_type": "code",
    "id": "GGAad54JOIVm"
   },
   "outputs": [],
   "source": [
    "#Initialize Sequential model\n",
    "model = tf.keras.models.Sequential()\n",
    "\n",
    "model.add(tf.keras.layers.Dense(10, activation='relu', input_dim=784))\n",
    "\n",
    "#Add 3 Dense Layers \n",
    "model.add(tf.keras.layers.Dense(100,activation='sigmoid'))\n",
    "model.add(tf.keras.layers.Dense(100, activation='sigmoid'))\n",
    "model.add(tf.keras.layers.Dense(10, activation='softmax'))\n",
    "sgd = tf.keras.optimizers.SGD(lr=0.03)\n",
    "\n",
    "model.compile(optimizer=sgd, loss='categorical_crossentropy', metrics=['accuracy'])\n",
    "\n"
   ]
  },
  {
   "cell_type": "markdown",
   "metadata": {
    "colab_type": "text",
    "id": "Nr2YsZV0OIV0",
    "slideshow": {
     "slide_type": "slide"
    }
   },
   "source": [
    "## Review model"
   ]
  },
  {
   "cell_type": "code",
   "execution_count": 19,
   "metadata": {
    "colab": {},
    "colab_type": "code",
    "id": "h4ojW6-oOIV2"
   },
   "outputs": [
    {
     "name": "stdout",
     "output_type": "stream",
     "text": [
      "Test accuracy: 0.1\n"
     ]
    }
   ],
   "source": [
    "score, acc = model.evaluate(testX, testY, verbose=0)\n",
    "print('Test accuracy:', acc)"
   ]
  },
  {
   "cell_type": "markdown",
   "metadata": {
    "colab_type": "text",
    "id": "gfFGmbZLOIV5",
    "slideshow": {
     "slide_type": "slide"
    }
   },
   "source": [
    "### Run the model"
   ]
  },
  {
   "cell_type": "code",
   "execution_count": 20,
   "metadata": {
    "colab": {},
    "colab_type": "code",
    "id": "bIkbMEN5OIV7"
   },
   "outputs": [
    {
     "name": "stdout",
     "output_type": "stream",
     "text": [
      "Train on 60000 samples, validate on 10000 samples\n",
      "Epoch 1/30\n",
      " - 1s - loss: 2.3660 - acc: 0.1000 - val_loss: 2.3558 - val_acc: 0.1000\n",
      "Epoch 2/30\n",
      " - 0s - loss: 2.3558 - acc: 0.1000 - val_loss: 2.3472 - val_acc: 0.1000\n",
      "Epoch 3/30\n",
      " - 0s - loss: 2.3472 - acc: 0.1000 - val_loss: 2.3400 - val_acc: 0.1000\n",
      "Epoch 4/30\n",
      " - 0s - loss: 2.3400 - acc: 0.1000 - val_loss: 2.3339 - val_acc: 0.1000\n",
      "Epoch 5/30\n",
      " - 0s - loss: 2.3339 - acc: 0.1000 - val_loss: 2.3287 - val_acc: 0.1000\n",
      "Epoch 6/30\n",
      " - 0s - loss: 2.3287 - acc: 0.1000 - val_loss: 2.3244 - val_acc: 0.1000\n",
      "Epoch 7/30\n",
      " - 0s - loss: 2.3244 - acc: 0.1000 - val_loss: 2.3208 - val_acc: 0.1000\n",
      "Epoch 8/30\n",
      " - 0s - loss: 2.3208 - acc: 0.1000 - val_loss: 2.3178 - val_acc: 0.1000\n",
      "Epoch 9/30\n",
      " - 0s - loss: 2.3177 - acc: 0.1000 - val_loss: 2.3152 - val_acc: 0.1000\n",
      "Epoch 10/30\n",
      " - 0s - loss: 2.3152 - acc: 0.1000 - val_loss: 2.3131 - val_acc: 0.1000\n",
      "Epoch 11/30\n",
      " - 0s - loss: 2.3130 - acc: 0.1000 - val_loss: 2.3113 - val_acc: 0.1000\n",
      "Epoch 12/30\n",
      " - 0s - loss: 2.3112 - acc: 0.0999 - val_loss: 2.3098 - val_acc: 0.1000\n",
      "Epoch 13/30\n",
      " - 0s - loss: 2.3097 - acc: 0.0996 - val_loss: 2.3085 - val_acc: 0.0995\n",
      "Epoch 14/30\n",
      " - 0s - loss: 2.3085 - acc: 0.0993 - val_loss: 2.3074 - val_acc: 0.0983\n",
      "Epoch 15/30\n",
      " - 0s - loss: 2.3074 - acc: 0.0982 - val_loss: 2.3065 - val_acc: 0.0969\n",
      "Epoch 16/30\n",
      " - 0s - loss: 2.3065 - acc: 0.0970 - val_loss: 2.3058 - val_acc: 0.0944\n",
      "Epoch 17/30\n",
      " - 0s - loss: 2.3058 - acc: 0.0951 - val_loss: 2.3052 - val_acc: 0.0946\n",
      "Epoch 18/30\n",
      " - 0s - loss: 2.3051 - acc: 0.0934 - val_loss: 2.3046 - val_acc: 0.0937\n",
      "Epoch 19/30\n",
      " - 0s - loss: 2.3046 - acc: 0.0921 - val_loss: 2.3042 - val_acc: 0.0927\n",
      "Epoch 20/30\n",
      " - 0s - loss: 2.3042 - acc: 0.0908 - val_loss: 2.3038 - val_acc: 0.0913\n",
      "Epoch 21/30\n",
      " - 0s - loss: 2.3038 - acc: 0.0895 - val_loss: 2.3035 - val_acc: 0.0907\n",
      "Epoch 22/30\n",
      " - 0s - loss: 2.3035 - acc: 0.0888 - val_loss: 2.3033 - val_acc: 0.0901\n",
      "Epoch 23/30\n",
      " - 0s - loss: 2.3032 - acc: 0.0889 - val_loss: 2.3030 - val_acc: 0.0884\n",
      "Epoch 24/30\n",
      " - 0s - loss: 2.3030 - acc: 0.0890 - val_loss: 2.3028 - val_acc: 0.0890\n",
      "Epoch 25/30\n",
      " - 0s - loss: 2.3028 - acc: 0.0892 - val_loss: 2.3027 - val_acc: 0.0871\n",
      "Epoch 26/30\n",
      " - 0s - loss: 2.3027 - acc: 0.0880 - val_loss: 2.3025 - val_acc: 0.0839\n",
      "Epoch 27/30\n",
      " - 0s - loss: 2.3025 - acc: 0.0864 - val_loss: 2.3024 - val_acc: 0.0818\n",
      "Epoch 28/30\n",
      " - 0s - loss: 2.3024 - acc: 0.0840 - val_loss: 2.3023 - val_acc: 0.0799\n",
      "Epoch 29/30\n",
      " - 0s - loss: 2.3023 - acc: 0.0812 - val_loss: 2.3022 - val_acc: 0.0781\n",
      "Epoch 30/30\n",
      " - 0s - loss: 2.3022 - acc: 0.0791 - val_loss: 2.3021 - val_acc: 0.0760\n"
     ]
    },
    {
     "data": {
      "text/plain": [
       "<tensorflow.python.keras.callbacks.History at 0x29b2d5cd748>"
      ]
     },
     "execution_count": 20,
     "metadata": {},
     "output_type": "execute_result"
    }
   ],
   "source": [
    "\n",
    "model.fit(trainX, trainY, batch_size=trainX.shape[0], epochs=30, verbose=2, validation_data=(testX, testY))\n"
   ]
  },
  {
   "cell_type": "code",
   "execution_count": null,
   "metadata": {},
   "outputs": [],
   "source": []
  }
 ],
 "metadata": {
  "colab": {
   "name": "R6_ExternalLab_AIML.ipynb",
   "provenance": [],
   "version": "0.3.2"
  },
  "kernelspec": {
   "display_name": "Python 3",
   "language": "python",
   "name": "python3"
  },
  "language_info": {
   "codemirror_mode": {
    "name": "ipython",
    "version": 3
   },
   "file_extension": ".py",
   "mimetype": "text/x-python",
   "name": "python",
   "nbconvert_exporter": "python",
   "pygments_lexer": "ipython3",
   "version": "3.7.0"
  }
 },
 "nbformat": 4,
 "nbformat_minor": 1
}
