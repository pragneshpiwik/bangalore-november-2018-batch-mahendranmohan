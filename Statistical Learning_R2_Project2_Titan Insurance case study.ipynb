{
 "cells": [
  {
   "cell_type": "code",
   "execution_count": 37,
   "metadata": {},
   "outputs": [],
   "source": [
    "import pandas as pd\n",
    "import numpy as np\n",
    "from math import sqrt\n",
    "import scipy.stats as st\n",
    "from scipy.stats import t\n",
    "from scipy.stats import norm\n",
    "\n"
   ]
  },
  {
   "cell_type": "code",
   "execution_count": 38,
   "metadata": {},
   "outputs": [
    {
     "name": "stdout",
     "output_type": "stream",
     "text": [
      "   SALESPERSON  Old Scheme (in thousands)  New Scheme (in thousands)\n",
      "0            1                         57                         62\n",
      "1            2                        103                        122\n",
      "2            3                         59                         54\n",
      "3            4                         75                         82\n",
      "SALESPERSON                  int64\n",
      "Old Scheme (in thousands)    int64\n",
      "New Scheme (in thousands)    int64\n",
      "dtype: object\n",
      "(30, 3)\n",
      "       SALESPERSON  Old Scheme (in thousands)  New Scheme (in thousands)\n",
      "count    30.000000                  30.000000                  30.000000\n",
      "mean     15.500000                  68.033333                  72.033333\n",
      "std       8.803408                  20.455980                  24.062395\n",
      "min       1.000000                  28.000000                  32.000000\n",
      "25%       8.250000                  54.000000                  55.000000\n",
      "50%      15.500000                  67.000000                  74.000000\n",
      "75%      22.750000                  81.500000                  85.750000\n",
      "max      30.000000                 110.000000                 122.000000\n"
     ]
    }
   ],
   "source": [
    "titan_data = pd.read_csv(\"D:/D_DATA/CODE/Python/Statistical Learning_R2_Project2_Titan Insurance case study/Titan_Insurance_data.csv\")\n",
    "\n",
    "print(titan_data.head(4))\n",
    "print(titan_data.dtypes)\n",
    "print(titan_data.shape)\n",
    "print(titan_data.describe())\n"
   ]
  },
  {
   "cell_type": "code",
   "execution_count": 39,
   "metadata": {},
   "outputs": [
    {
     "name": "stdout",
     "output_type": "stream",
     "text": [
      "Index(['SALESPERSON', 'Old Scheme (in thousands)',\n",
      "       'New Scheme (in thousands)'],\n",
      "      dtype='object')\n",
      "   SALESPERSON  Old Scheme (in thousands)  New Scheme (in thousands)  \\\n",
      "0            1                         57                         62   \n",
      "1            2                        103                        122   \n",
      "2            3                         59                         54   \n",
      "3            4                         75                         82   \n",
      "\n",
      "   Old Scheme  New Scheme  \n",
      "0       57000       62000  \n",
      "1      103000      122000  \n",
      "2       59000       54000  \n",
      "3       75000       82000  \n",
      "68033.33333333333\n",
      "72033.33333333333\n"
     ]
    }
   ],
   "source": [
    "\n",
    "print(titan_data.columns)\n",
    "titan_data[\"Old Scheme\"] = titan_data[\"Old Scheme (in thousands)\"] * 1000\n",
    "titan_data[\"New Scheme\"] = titan_data[\"New Scheme (in thousands)\"] * 1000\n",
    "print(titan_data.head(4))\n",
    "\n",
    "#Question1: Find the mean of old scheme and new scheme column. \n",
    "print(titan_data[\"Old Scheme\"].mean())\n",
    "print(titan_data[\"New Scheme\"].mean())\n"
   ]
  },
  {
   "cell_type": "code",
   "execution_count": 40,
   "metadata": {},
   "outputs": [
    {
     "data": {
      "text/plain": [
       "Ttest_relResult(statistic=1.5559143823544377, pvalue=0.13057553961337662)"
      ]
     },
     "execution_count": 40,
     "metadata": {},
     "output_type": "execute_result"
    }
   ],
   "source": [
    "#Question2: Use the five percent significance test over the data to determine the p value to check new scheme has significantly raised outputs\n",
    "st.ttest_rel(titan_data[\"New Scheme\"], titan_data[\"Old Scheme\"])\n",
    "#Answer: pvalue=0.13057553961337662"
   ]
  },
  {
   "cell_type": "code",
   "execution_count": 41,
   "metadata": {},
   "outputs": [],
   "source": [
    "#Question3: What conclusion does the test (p-value) lead to\n",
    "#Answer: Null hypothesis is accepted since p value is greater than 0.05. Good sales improvement seen in new scheme\n"
   ]
  },
  {
   "cell_type": "code",
   "execution_count": 42,
   "metadata": {},
   "outputs": [],
   "source": [
    "#Question4: Suppose it has been calculated that in order for Titan to break even, the average output must increase by £5000 in the \n",
    "#scheme compared to the old scheme. If this figure is alternative hypothesis, what is:"
   ]
  },
  {
   "cell_type": "code",
   "execution_count": 43,
   "metadata": {},
   "outputs": [],
   "source": [
    "#Q4a: The probability of a type 1 error? \n",
    "#Answer: Probability of Type I error will be 0.05 "
   ]
  },
  {
   "cell_type": "code",
   "execution_count": 44,
   "metadata": {},
   "outputs": [
    {
     "name": "stdout",
     "output_type": "stream",
     "text": [
      "   SALESPERSON  Old Scheme (in thousands)  New Scheme (in thousands)  \\\n",
      "0            1                         57                         62   \n",
      "1            2                        103                        122   \n",
      "2            3                         59                         54   \n",
      "3            4                         75                         82   \n",
      "4            5                         84                         84   \n",
      "\n",
      "   Old Scheme  New Scheme  CompareSales  \n",
      "0       57000       62000          5000  \n",
      "1      103000      122000         19000  \n",
      "2       59000       54000         -5000  \n",
      "3       75000       82000          7000  \n",
      "4       84000       84000             0  \n",
      "4000.0\n",
      "14081.046199376151\n",
      "2570.8355455569017\n",
      "-0.38897859558860937\n",
      "0.6499332543693357\n"
     ]
    }
   ],
   "source": [
    "#Q4b: What is the p- value of the hypothesis test if we test for a difference of $5000? \n",
    "titan_data[\"CompareSales\"] = titan_data[\"New Scheme\"] - titan_data[\"Old Scheme\"]\n",
    "print(titan_data.head())\n",
    "comparesales_mean = titan_data[\"CompareSales\"].mean()\n",
    "print(comparesales_mean)\n",
    "comparesales_std = titan_data[\"CompareSales\"].std()\n",
    "print(comparesales_std)\n",
    "comparesales_se = comparesales_std/sqrt(30) # sample size is 30\n",
    "print(comparesales_se)\n",
    "tstat = (comparesales_mean - 5000)/comparesales_se\n",
    "print(tstat)\n",
    "p_value = 1- st.t.cdf(tstat, df=29) \n",
    "#Answer for Q4b: 0.64993\n",
    "print(p_value)\n"
   ]
  },
  {
   "cell_type": "code",
   "execution_count": 45,
   "metadata": {},
   "outputs": [
    {
     "name": "stdout",
     "output_type": "stream",
     "text": [
      "0.3888876925908805\n",
      "0.6498999996651291\n",
      "0.38505050131866764\n",
      "0.6499\n",
      "1.6991270265334972\n",
      "4368.176156228719\n",
      "-0.2457659514095497\n",
      "0.40379725247943166\n"
     ]
    }
   ],
   "source": [
    "#Q4c: Power of the test (5 points)\n",
    "#Answer: P value = 0.64993 ( degree of freedom is 29 )\n",
    "# finding t critical value using student t test\n",
    "# define probability\n",
    "p = 0.6499\n",
    "df = 29\n",
    "# retrieve value <= probability\n",
    "value = t.ppf(p, df)\n",
    "print(value)\n",
    "t_value = t.cdf(value, df)\n",
    "print(t_value)\n",
    "# finding t critical value using Gaussian \n",
    "# define probability\n",
    "p = 0.6499\n",
    "# retrieve value <= probability\n",
    "value = norm.ppf(p)\n",
    "print(value)\n",
    "# confirm with cdf\n",
    "t_value = norm.cdf(value)\n",
    "print(t_value)\n",
    "t_critical = t.ppf(1-0.05, 29)\n",
    "print(t_critical)\n",
    "#finding xbar value\n",
    "mu0 = 0\n",
    "xbar = mu0 + t_critical * comparesales_se\n",
    "print(xbar)\n",
    "t_stat = ( xbar - 5000 ) / comparesales_se\n",
    "print(t_stat)\n",
    "print(st.t.cdf(t_stat, df=29) )\n",
    "#Answer for Q4c 0.403797"
   ]
  }
 ],
 "metadata": {
  "kernelspec": {
   "display_name": "Python 3",
   "language": "python",
   "name": "python3"
  },
  "language_info": {
   "codemirror_mode": {
    "name": "ipython",
    "version": 3
   },
   "file_extension": ".py",
   "mimetype": "text/x-python",
   "name": "python",
   "nbconvert_exporter": "python",
   "pygments_lexer": "ipython3",
   "version": "3.7.0"
  }
 },
 "nbformat": 4,
 "nbformat_minor": 2
}
