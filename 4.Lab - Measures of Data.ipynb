{
 "cells": [
  {
   "cell_type": "markdown",
   "metadata": {},
   "source": [
    "## Lab Brief - Statistical Learning with Python"
   ]
  },
  {
   "cell_type": "markdown",
   "metadata": {},
   "source": [
    "### Part-1"
   ]
  },
  {
   "cell_type": "markdown",
   "metadata": {},
   "source": [
    "## Measures of Data"
   ]
  },
  {
   "cell_type": "markdown",
   "metadata": {},
   "source": [
    "Descriptive Statistcs are measures that summarize important features of data. Producing these descriptive statistics is a common first step to take after cleaning and preparing a dataset for further analysis. Examples are like calculating Mean or Median. In this lab, we will be looking into some of these functions and explore several new ones."
   ]
  },
  {
   "cell_type": "markdown",
   "metadata": {},
   "source": [
    "#### Measures of Central Tendency"
   ]
  },
  {
   "cell_type": "markdown",
   "metadata": {},
   "source": [
    "Whenever you measure things of the same kind, a fairly large number of such measurements will tend to cluster around the middle value. Such a value is called a measure of \"Central Tendency\". The other terms that are used synonymously are \"Measures of Location\", or \"Statistical Averages\". "
   ]
  },
  {
   "cell_type": "code",
   "execution_count": 2,
   "metadata": {},
   "outputs": [],
   "source": [
    "import numpy as np\n",
    "import pandas as pd\n",
    "import matplotlib.pyplot as plt\n",
    "\n",
    "mtcars = pd.read_csv('C:/DATA/Programming/AIML/TestAssignment/mtcars.csv')"
   ]
  },
  {
   "cell_type": "markdown",
   "metadata": {},
   "source": [
    "##### Using the mtcars dataset.\n",
    "\n",
    "For the below set of questions, we will be using the cars data from [Motor Trend Car Road Tests](http://stat.ethz.ch/R-manual/R-devel/library/datasets/html/mtcars.html)\n",
    "\n",
    "The data was extracted from the 1974 Motor Trend US magazine, and comprises fuel consumption and 10 aspects of automobile design and performance for 32 automobiles (1973–74 models). \n",
    "\n",
    "\n",
    "Details :\n",
    "    \n",
    "A data frame with 32 observations on 11 (numeric) variables.\n",
    "\n",
    "[, 1] \tmpg \tMiles/(US) gallon\n",
    "\n",
    "[, 2] \tcyl \tNumber of cylinders\n",
    "\n",
    "[, 3] \tdisp \tDisplacement (cu.in.)\n",
    "\n",
    "[, 4] \thp \tGross horsepower\n",
    "\n",
    "[, 5] \tdrat \tRear axle ratio\n",
    "\n",
    "[, 6] \twt \tWeight (1000 lbs)\n",
    "\n",
    "[, 7] \tqsec \t1/4 mile time\n",
    "\n",
    "[, 8] \tvs \tEngine (0 = V-shaped, 1 = straight)\n",
    "\n",
    "[, 9] \tam \tTransmission (0 = automatic, 1 = manual)\n",
    "\n",
    "[,10] \tgear \tNumber of forward gears\n",
    "\n",
    "[,11] \tcarb \tNumber of carburetors "
   ]
  },
  {
   "cell_type": "markdown",
   "metadata": {},
   "source": [
    "#### Explore the data - Setting the index"
   ]
  },
  {
   "cell_type": "code",
   "execution_count": 3,
   "metadata": {},
   "outputs": [
    {
     "data": {
      "text/html": [
       "<div>\n",
       "<style scoped>\n",
       "    .dataframe tbody tr th:only-of-type {\n",
       "        vertical-align: middle;\n",
       "    }\n",
       "\n",
       "    .dataframe tbody tr th {\n",
       "        vertical-align: top;\n",
       "    }\n",
       "\n",
       "    .dataframe thead th {\n",
       "        text-align: right;\n",
       "    }\n",
       "</style>\n",
       "<table border=\"1\" class=\"dataframe\">\n",
       "  <thead>\n",
       "    <tr style=\"text-align: right;\">\n",
       "      <th></th>\n",
       "      <th>name</th>\n",
       "      <th>mpg</th>\n",
       "      <th>cyl</th>\n",
       "      <th>disp</th>\n",
       "      <th>hp</th>\n",
       "      <th>drat</th>\n",
       "      <th>wt</th>\n",
       "      <th>qsec</th>\n",
       "      <th>vs</th>\n",
       "      <th>am</th>\n",
       "      <th>gear</th>\n",
       "      <th>carb</th>\n",
       "    </tr>\n",
       "    <tr>\n",
       "      <th>name</th>\n",
       "      <th></th>\n",
       "      <th></th>\n",
       "      <th></th>\n",
       "      <th></th>\n",
       "      <th></th>\n",
       "      <th></th>\n",
       "      <th></th>\n",
       "      <th></th>\n",
       "      <th></th>\n",
       "      <th></th>\n",
       "      <th></th>\n",
       "      <th></th>\n",
       "    </tr>\n",
       "  </thead>\n",
       "  <tbody>\n",
       "    <tr>\n",
       "      <th>Mazda RX4</th>\n",
       "      <td>Mazda RX4</td>\n",
       "      <td>21.0</td>\n",
       "      <td>6</td>\n",
       "      <td>160.0</td>\n",
       "      <td>110</td>\n",
       "      <td>3.90</td>\n",
       "      <td>2.620</td>\n",
       "      <td>16.46</td>\n",
       "      <td>0</td>\n",
       "      <td>1</td>\n",
       "      <td>4</td>\n",
       "      <td>4</td>\n",
       "    </tr>\n",
       "    <tr>\n",
       "      <th>Mazda RX4 Wag</th>\n",
       "      <td>Mazda RX4 Wag</td>\n",
       "      <td>21.0</td>\n",
       "      <td>6</td>\n",
       "      <td>160.0</td>\n",
       "      <td>110</td>\n",
       "      <td>3.90</td>\n",
       "      <td>2.875</td>\n",
       "      <td>17.02</td>\n",
       "      <td>0</td>\n",
       "      <td>1</td>\n",
       "      <td>4</td>\n",
       "      <td>4</td>\n",
       "    </tr>\n",
       "    <tr>\n",
       "      <th>Datsun 710</th>\n",
       "      <td>Datsun 710</td>\n",
       "      <td>22.8</td>\n",
       "      <td>4</td>\n",
       "      <td>108.0</td>\n",
       "      <td>93</td>\n",
       "      <td>3.85</td>\n",
       "      <td>2.320</td>\n",
       "      <td>18.61</td>\n",
       "      <td>1</td>\n",
       "      <td>1</td>\n",
       "      <td>4</td>\n",
       "      <td>1</td>\n",
       "    </tr>\n",
       "    <tr>\n",
       "      <th>Hornet 4 Drive</th>\n",
       "      <td>Hornet 4 Drive</td>\n",
       "      <td>21.4</td>\n",
       "      <td>6</td>\n",
       "      <td>258.0</td>\n",
       "      <td>110</td>\n",
       "      <td>3.08</td>\n",
       "      <td>3.215</td>\n",
       "      <td>19.44</td>\n",
       "      <td>1</td>\n",
       "      <td>0</td>\n",
       "      <td>3</td>\n",
       "      <td>1</td>\n",
       "    </tr>\n",
       "    <tr>\n",
       "      <th>Hornet Sportabout</th>\n",
       "      <td>Hornet Sportabout</td>\n",
       "      <td>18.7</td>\n",
       "      <td>8</td>\n",
       "      <td>360.0</td>\n",
       "      <td>175</td>\n",
       "      <td>3.15</td>\n",
       "      <td>3.440</td>\n",
       "      <td>17.02</td>\n",
       "      <td>0</td>\n",
       "      <td>0</td>\n",
       "      <td>3</td>\n",
       "      <td>2</td>\n",
       "    </tr>\n",
       "  </tbody>\n",
       "</table>\n",
       "</div>"
      ],
      "text/plain": [
       "                                name   mpg  cyl   disp   hp  drat     wt  \\\n",
       "name                                                                       \n",
       "Mazda RX4                  Mazda RX4  21.0    6  160.0  110  3.90  2.620   \n",
       "Mazda RX4 Wag          Mazda RX4 Wag  21.0    6  160.0  110  3.90  2.875   \n",
       "Datsun 710                Datsun 710  22.8    4  108.0   93  3.85  2.320   \n",
       "Hornet 4 Drive        Hornet 4 Drive  21.4    6  258.0  110  3.08  3.215   \n",
       "Hornet Sportabout  Hornet Sportabout  18.7    8  360.0  175  3.15  3.440   \n",
       "\n",
       "                    qsec  vs  am  gear  carb  \n",
       "name                                          \n",
       "Mazda RX4          16.46   0   1     4     4  \n",
       "Mazda RX4 Wag      17.02   0   1     4     4  \n",
       "Datsun 710         18.61   1   1     4     1  \n",
       "Hornet 4 Drive     19.44   1   0     3     1  \n",
       "Hornet Sportabout  17.02   0   0     3     2  "
      ]
     },
     "execution_count": 3,
     "metadata": {},
     "output_type": "execute_result"
    }
   ],
   "source": [
    "mtcars.index = mtcars[\"name\"]\n",
    "mtcars.head()\n",
    "# mtcars.mean() #By default this will give the mean of each column"
   ]
  },
  {
   "cell_type": "markdown",
   "metadata": {},
   "source": [
    "### Question 1\n",
    "\n",
    "What is the first car name given in mtcars?\n",
    "\n",
    "** Make use of index which has been set previously **\n",
    "\n",
    "**Hint**: Use .loc function\n"
   ]
  },
  {
   "cell_type": "code",
   "execution_count": 7,
   "metadata": {
    "scrolled": true
   },
   "outputs": [
    {
     "data": {
      "text/plain": [
       "'Mazda RX4'"
      ]
     },
     "execution_count": 7,
     "metadata": {},
     "output_type": "execute_result"
    }
   ],
   "source": [
    "mtcars.index[0]"
   ]
  },
  {
   "cell_type": "markdown",
   "metadata": {},
   "source": [
    "### Question 2\n",
    "What is the highest difference between the hp and cyl?\n",
    "\n",
    "**Hint:** You can use **max()** function to find the difference"
   ]
  },
  {
   "cell_type": "code",
   "execution_count": 15,
   "metadata": {},
   "outputs": [
    {
     "data": {
      "text/plain": [
       "335"
      ]
     },
     "execution_count": 15,
     "metadata": {},
     "output_type": "execute_result"
    }
   ],
   "source": [
    "mtcars[\"hp\"].min()\n",
    "mtcars[\"hp\"].max()\n",
    "mtcars[\"hp\"].max() - mtcars[\"hp\"].min()\n",
    "\n",
    "mtcars[\"cyl\"].min()\n",
    "mtcars[\"cyl\"].max()\n",
    "mtcars[\"cyl\"].max() - mtcars[\"cyl\"].min()\n",
    "\n",
    "\n"
   ]
  },
  {
   "cell_type": "markdown",
   "metadata": {},
   "source": [
    "### Question 3\n",
    "What are the cars having highest weight(wt) and lowest weight(wt)?\n",
    "\n",
    "**Hint:** Use idxmax() and idxmin() to locate the row\n",
    "\n",
    "Use **.iloc** function to print the  row\n",
    "\n",
    "**Note:** Both idxmax and idxmin belong to pandas"
   ]
  },
  {
   "cell_type": "code",
   "execution_count": 33,
   "metadata": {},
   "outputs": [
    {
     "data": {
      "text/plain": [
       "'Lotus Europa'"
      ]
     },
     "execution_count": 33,
     "metadata": {},
     "output_type": "execute_result"
    }
   ],
   "source": [
    "\n",
    "mtcars[\"wt\"].idxmin()\n",
    "mtcars[\"wt\"].idxmax()\n"
   ]
  },
  {
   "cell_type": "code",
   "execution_count": 34,
   "metadata": {},
   "outputs": [
    {
     "data": {
      "text/html": [
       "<div>\n",
       "<style scoped>\n",
       "    .dataframe tbody tr th:only-of-type {\n",
       "        vertical-align: middle;\n",
       "    }\n",
       "\n",
       "    .dataframe tbody tr th {\n",
       "        vertical-align: top;\n",
       "    }\n",
       "\n",
       "    .dataframe thead th {\n",
       "        text-align: right;\n",
       "    }\n",
       "</style>\n",
       "<table border=\"1\" class=\"dataframe\">\n",
       "  <thead>\n",
       "    <tr style=\"text-align: right;\">\n",
       "      <th></th>\n",
       "      <th>name</th>\n",
       "      <th>mpg</th>\n",
       "      <th>cyl</th>\n",
       "      <th>disp</th>\n",
       "      <th>hp</th>\n",
       "      <th>drat</th>\n",
       "      <th>wt</th>\n",
       "      <th>qsec</th>\n",
       "      <th>vs</th>\n",
       "      <th>am</th>\n",
       "      <th>gear</th>\n",
       "      <th>carb</th>\n",
       "    </tr>\n",
       "    <tr>\n",
       "      <th>name</th>\n",
       "      <th></th>\n",
       "      <th></th>\n",
       "      <th></th>\n",
       "      <th></th>\n",
       "      <th></th>\n",
       "      <th></th>\n",
       "      <th></th>\n",
       "      <th></th>\n",
       "      <th></th>\n",
       "      <th></th>\n",
       "      <th></th>\n",
       "      <th></th>\n",
       "    </tr>\n",
       "  </thead>\n",
       "  <tbody>\n",
       "    <tr>\n",
       "      <th>Lotus Europa</th>\n",
       "      <td>Lotus Europa</td>\n",
       "      <td>30.4</td>\n",
       "      <td>4</td>\n",
       "      <td>95.1</td>\n",
       "      <td>113</td>\n",
       "      <td>3.77</td>\n",
       "      <td>1.513</td>\n",
       "      <td>16.90</td>\n",
       "      <td>1</td>\n",
       "      <td>1</td>\n",
       "      <td>5</td>\n",
       "      <td>2</td>\n",
       "    </tr>\n",
       "    <tr>\n",
       "      <th>Lincoln Continental</th>\n",
       "      <td>Lincoln Continental</td>\n",
       "      <td>10.4</td>\n",
       "      <td>8</td>\n",
       "      <td>460.0</td>\n",
       "      <td>215</td>\n",
       "      <td>3.00</td>\n",
       "      <td>5.424</td>\n",
       "      <td>17.82</td>\n",
       "      <td>0</td>\n",
       "      <td>0</td>\n",
       "      <td>3</td>\n",
       "      <td>4</td>\n",
       "    </tr>\n",
       "  </tbody>\n",
       "</table>\n",
       "</div>"
      ],
      "text/plain": [
       "                                    name   mpg  cyl   disp   hp  drat     wt  \\\n",
       "name                                                                           \n",
       "Lotus Europa                Lotus Europa  30.4    4   95.1  113  3.77  1.513   \n",
       "Lincoln Continental  Lincoln Continental  10.4    8  460.0  215  3.00  5.424   \n",
       "\n",
       "                      qsec  vs  am  gear  carb  \n",
       "name                                            \n",
       "Lotus Europa         16.90   1   1     5     2  \n",
       "Lincoln Continental  17.82   0   0     3     4  "
      ]
     },
     "execution_count": 34,
     "metadata": {},
     "output_type": "execute_result"
    }
   ],
   "source": [
    "mtcars.loc[[mtcars[\"wt\"].idxmin(),mtcars[\"wt\"].idxmax()]]\n",
    "\n"
   ]
  },
  {
   "cell_type": "markdown",
   "metadata": {},
   "source": [
    "### Question 4\n",
    "\n",
    "Find the mean of each row and each column in the given dataset.\n",
    "\n",
    "**Hint:** Use .mean() function. To operate on rows use **axis=0**, on columns use **axis=1**"
   ]
  },
  {
   "cell_type": "code",
   "execution_count": 36,
   "metadata": {},
   "outputs": [
    {
     "data": {
      "text/plain": [
       "name\n",
       "Mazda RX4              29.907273\n",
       "Mazda RX4 Wag          29.981364\n",
       "Datsun 710             23.598182\n",
       "Hornet 4 Drive         38.739545\n",
       "Hornet Sportabout      53.664545\n",
       "Valiant                35.049091\n",
       "Duster 360             59.720000\n",
       "Merc 240D              24.634545\n",
       "Merc 230               27.233636\n",
       "Merc 280               31.860000\n",
       "Merc 280C              31.787273\n",
       "Merc 450SE             46.430909\n",
       "Merc 450SL             46.500000\n",
       "Merc 450SLC            46.350000\n",
       "Cadillac Fleetwood     66.232727\n",
       "Lincoln Continental    66.058545\n",
       "Chrysler Imperial      65.972273\n",
       "Fiat 128               19.440909\n",
       "Honda Civic            17.742273\n",
       "Toyota Corolla         18.814091\n",
       "Toyota Corona          24.888636\n",
       "Dodge Challenger       47.240909\n",
       "AMC Javelin            46.007727\n",
       "Camaro Z28             58.752727\n",
       "Pontiac Firebird       57.379545\n",
       "Fiat X1-9              18.928636\n",
       "Porsche 914-2          24.779091\n",
       "Lotus Europa           24.880273\n",
       "Ford Pantera L         60.971818\n",
       "Ferrari Dino           34.508182\n",
       "Maserati Bora          63.155455\n",
       "Volvo 142E             26.262727\n",
       "dtype: float64"
      ]
     },
     "execution_count": 36,
     "metadata": {},
     "output_type": "execute_result"
    }
   ],
   "source": [
    "mtcars.mean(axis=0)\n",
    "mtcars.mean(axis=1)"
   ]
  },
  {
   "cell_type": "markdown",
   "metadata": {},
   "source": [
    "### Question 5\n",
    "\n",
    "Plot mpg values of mtcards dataframe using matplotlib.\n",
    "\n",
    "**Hint: Use plt.plot function**"
   ]
  },
  {
   "cell_type": "code",
   "execution_count": 39,
   "metadata": {},
   "outputs": [
    {
     "data": {
      "text/plain": [
       "[<matplotlib.lines.Line2D at 0x2d6f5c79d68>]"
      ]
     },
     "execution_count": 39,
     "metadata": {},
     "output_type": "execute_result"
    },
    {
     "data": {
      "image/png": "[encoded data removed]",
      "text/plain": [
       "<Figure size 432x288 with 1 Axes>"
      ]
     },
     "metadata": {
      "needs_background": "light"
     },
     "output_type": "display_data"
    }
   ],
   "source": [
    "plt.plot(mtcars[\"mpg\"])"
   ]
  },
  {
   "cell_type": "markdown",
   "metadata": {},
   "source": [
    "## Part 2"
   ]
  },
  {
   "cell_type": "markdown",
   "metadata": {},
   "source": [
    "## Measures of Dispersion"
   ]
  },
  {
   "cell_type": "markdown",
   "metadata": {},
   "source": [
    "Measures of Dispersion (Spread) are statistics that describe how data varies. Measure of dispersion gives us the sense of how much the data tends to diverge from the central tendency."
   ]
  },
  {
   "cell_type": "markdown",
   "metadata": {},
   "source": [
    "### Question 6\n",
    "\n",
    "What the range of `mpg` in the given dataset?\n",
    "\n",
    "**Hint:** Range = max-min"
   ]
  },
  {
   "cell_type": "code",
   "execution_count": 41,
   "metadata": {},
   "outputs": [
    {
     "data": {
      "text/plain": [
       "23.5"
      ]
     },
     "execution_count": 41,
     "metadata": {},
     "output_type": "execute_result"
    }
   ],
   "source": [
    "mtcars[\"mpg\"].max() - mtcars[\"mpg\"].min()"
   ]
  },
  {
   "cell_type": "markdown",
   "metadata": {},
   "source": [
    "### Question 7\n",
    "\n",
    "Calculate the 25th quantile (lower quantile)for `mpg` in the given dataset.\n",
    "\n",
    "**Hint:** Use **.quantile()**"
   ]
  },
  {
   "cell_type": "code",
   "execution_count": 43,
   "metadata": {},
   "outputs": [
    {
     "data": {
      "text/plain": [
       "15.425"
      ]
     },
     "execution_count": 43,
     "metadata": {},
     "output_type": "execute_result"
    }
   ],
   "source": [
    "mtcars[\"mpg\"].quantile(.25)"
   ]
  },
  {
   "cell_type": "markdown",
   "metadata": {},
   "source": [
    "### Question 8\n",
    "\n",
    "Calculate the Inter-Quartile Range(IQR) for `mpg` in the given dataset."
   ]
  },
  {
   "cell_type": "markdown",
   "metadata": {},
   "source": [
    "Interquartile range (IQR) is another common measure of spread. IQR is the distance between the 3rd quartile and the 1st quartile.\n",
    "\n",
    "**Hint:** IQR = Q3 - Q1"
   ]
  },
  {
   "cell_type": "code",
   "execution_count": 44,
   "metadata": {},
   "outputs": [
    {
     "data": {
      "text/plain": [
       "7.375"
      ]
     },
     "execution_count": 44,
     "metadata": {},
     "output_type": "execute_result"
    }
   ],
   "source": [
    "mtcars[\"mpg\"].quantile(.75) - mtcars[\"mpg\"].quantile(.25)"
   ]
  },
  {
   "cell_type": "markdown",
   "metadata": {},
   "source": [
    "### Question 9\n",
    "\n",
    "Calculate the Variance, Standard Deviation and Median Absolute Deviation for `mpg`."
   ]
  },
  {
   "cell_type": "markdown",
   "metadata": {},
   "source": [
    "Variance and Standard Deviation are two other common measure of dispersion.\n",
    "\n",
    "**Hint:** Use .var() and .std()"
   ]
  },
  {
   "cell_type": "markdown",
   "metadata": {},
   "source": [
    "**Hint:** Median Absolute Deviation - alternative measure of spread based on the median. It is the median of the absolute value of the deviations from the median. "
   ]
  },
  {
   "cell_type": "code",
   "execution_count": 45,
   "metadata": {},
   "outputs": [
    {
     "data": {
      "text/plain": [
       "36.32410282258065"
      ]
     },
     "execution_count": 45,
     "metadata": {},
     "output_type": "execute_result"
    }
   ],
   "source": [
    "mtcars[\"mpg\"].var()"
   ]
  },
  {
   "cell_type": "code",
   "execution_count": 47,
   "metadata": {},
   "outputs": [
    {
     "data": {
      "text/plain": [
       "4.714453125"
      ]
     },
     "execution_count": 47,
     "metadata": {},
     "output_type": "execute_result"
    }
   ],
   "source": [
    "mtcars[\"mpg\"].std()\n",
    "mtcars[\"mpg\"].mad()"
   ]
  },
  {
   "cell_type": "markdown",
   "metadata": {},
   "source": [
    "## Part 3"
   ]
  },
  {
   "cell_type": "markdown",
   "metadata": {},
   "source": [
    "## Probability Distributions"
   ]
  },
  {
   "cell_type": "markdown",
   "metadata": {},
   "source": [
    "The probability distribution describes how a random variable is distributed. It tells us which values a variable is most likely to take on and which values are less likely to take on. "
   ]
  },
  {
   "cell_type": "markdown",
   "metadata": {},
   "source": [
    "Each value in the given range is equally likely to occur. "
   ]
  },
  {
   "cell_type": "code",
   "execution_count": 29,
   "metadata": {},
   "outputs": [],
   "source": [
    "import scipy.stats as stats # Many functions for probability distributions in python are in scipy.stats"
   ]
  },
  {
   "cell_type": "markdown",
   "metadata": {},
   "source": [
    "### Question 10\n",
    "\n",
    "Generate 1000 datapoints with standard normal distribution with mean 0 and standard deviation 1. "
   ]
  },
  {
   "cell_type": "markdown",
   "metadata": {},
   "source": [
    "#### Normal Distribution"
   ]
  },
  {
   "cell_type": "markdown",
   "metadata": {},
   "source": [
    "The normal or Gaussian Distribution is a continuos probability distribution given by a symmetric bell shaped curve. It is defined its center(mean) and spread(std)."
   ]
  },
  {
   "cell_type": "markdown",
   "metadata": {},
   "source": [
    "The bulk of the observations generated from a normal distribution lie near the mean which lies at the center. About 68% of the data lies within 1 std, 95% lies within 2 stds and 99.7% lies within 3 stds.\n",
    "\n",
    "**Hint:** You can use **np.random.normal()** function to generate normal distribution"
   ]
  },
  {
   "cell_type": "code",
   "execution_count": 49,
   "metadata": {},
   "outputs": [
    {
     "data": {
      "text/plain": [
       "array([-1.15383295e+00, -7.08692907e-01,  2.05510052e+00, -8.53378346e-01,\n",
       "        3.43577208e-01,  3.24211424e-01, -8.89399178e-01, -1.49955013e+00,\n",
       "        2.33734250e-01,  3.63045660e-01,  1.33721733e+00,  1.89982328e+00,\n",
       "        6.15180770e-01,  1.75812141e+00,  1.31713107e+00, -9.73707721e-01,\n",
       "        8.12884368e-01, -9.27220642e-01,  6.12407475e-01,  6.88534740e-01,\n",
       "        3.52666232e-01, -1.49915467e+00,  5.13428082e-01, -1.36873798e+00,\n",
       "        1.29059797e+00, -1.18397670e+00, -5.78222785e-01,  1.83975300e-01,\n",
       "       -2.53190420e+00,  6.48419020e-01, -8.38227317e-01, -8.42053996e-01,\n",
       "       -2.24989991e-02,  2.57579467e-01,  1.53601329e+00, -5.24679296e-01,\n",
       "       -1.57298167e+00, -1.10712512e+00, -1.22264131e+00,  1.87233542e-01,\n",
       "        7.70944670e-01,  1.94317538e+00,  4.40230156e-02, -1.01630462e+00,\n",
       "        1.25600543e+00, -6.44070272e-01, -6.86176484e-01,  4.89226093e-01,\n",
       "        9.38310079e-02, -2.10174987e+00,  7.03212362e-01, -2.63441082e+00,\n",
       "       -1.08947519e+00, -1.00605788e+00, -3.80798890e-01, -8.37245151e-02,\n",
       "        1.96776305e+00,  1.39884468e-01, -9.80481592e-02, -8.64011128e-02,\n",
       "       -1.34543210e+00,  3.93399088e-01, -1.31107603e+00,  5.21061857e-01,\n",
       "        2.11486294e+00,  1.73934950e+00,  1.63872885e+00, -9.78021899e-01,\n",
       "        1.93036645e+00,  1.20219994e-01,  5.16176301e-01,  1.37561715e+00,\n",
       "       -6.15953177e-01,  2.86412537e-01, -1.01674558e+00, -8.01710215e-01,\n",
       "        2.63659345e+00, -2.30623322e-01,  5.37526606e-02,  4.57695163e-01,\n",
       "       -3.86159909e-01,  1.50592475e-01, -7.87472530e-01,  4.70617790e-02,\n",
       "       -5.00473334e-01,  7.80562096e-02,  1.31657218e+00,  1.20703815e-01,\n",
       "        4.19650607e-01,  1.70650024e+00,  2.17284576e-01,  5.96374134e-01,\n",
       "       -1.06780717e+00, -6.09058550e-01,  3.08743627e-01, -9.97385058e-01,\n",
       "       -8.76890730e-02,  4.53035424e-01, -9.89973007e-01,  6.68819496e-01,\n",
       "        1.52789170e-01,  8.47874853e-01,  3.23945615e-01, -1.34291325e+00,\n",
       "        4.39719881e-02, -2.46920596e+00, -4.55141425e-01,  2.62829931e-01,\n",
       "       -3.45753304e-01, -3.35485552e-01, -8.19526625e-01,  2.47293369e-01,\n",
       "       -2.43461208e-01, -1.33873215e-01, -1.59323879e+00,  1.49155864e-01,\n",
       "       -1.73772295e+00, -9.63842463e-01,  1.39403925e+00,  2.71186639e-01,\n",
       "       -9.69698242e-01, -1.08650485e-01,  1.56375897e+00,  6.22333614e-01,\n",
       "        9.03000513e-01, -9.52126128e-01, -6.27859491e-01,  3.80410393e-01,\n",
       "       -4.20217019e-01, -3.76256916e-01, -1.06777222e+00, -5.56182281e-01,\n",
       "       -1.03586821e+00, -7.66594935e-01,  1.28335036e+00,  1.12936792e+00,\n",
       "       -1.30846752e+00, -5.53538442e-01,  3.56021594e-01,  1.36928395e+00,\n",
       "        2.82678701e-01,  6.62225738e-01,  9.89061315e-01, -1.93783942e-01,\n",
       "        1.08376183e+00,  1.54747455e+00,  8.46835138e-01, -4.71705958e-02,\n",
       "        5.95650341e-01,  7.04239442e-02, -3.00459439e+00,  4.11724180e-01,\n",
       "       -7.49783215e-01,  1.38532041e-01,  7.78851061e-01,  1.91073627e+00,\n",
       "       -8.06759098e-02, -1.49625057e+00, -7.31119347e-01, -5.39253204e-01,\n",
       "        9.64953764e-02, -1.96955232e+00,  9.43327730e-01, -9.65237883e-01,\n",
       "        1.31631609e+00, -1.60899750e-01, -4.87445039e-01,  3.44351410e-01,\n",
       "        5.42064513e-01, -6.01590420e-01,  3.41669587e-01,  7.67172756e-01,\n",
       "        3.72674715e-01, -1.03265557e+00, -1.06728594e-01, -5.63115601e-01,\n",
       "       -5.26835558e-01,  6.87217043e-01,  1.16473102e-01,  1.27345677e-01,\n",
       "        1.81688433e-04,  5.64322847e-01,  9.93691910e-01,  1.65060087e+00,\n",
       "       -5.48589901e-01, -6.05524690e-02, -1.03371700e+00, -2.18702963e+00,\n",
       "        2.82740106e+00,  3.31753163e-02,  1.26944694e+00,  1.95420338e-01,\n",
       "       -1.21060731e+00, -1.22790415e+00,  9.02188295e-01,  3.76127963e-02,\n",
       "       -2.12893750e-01, -3.62337701e-01, -9.69419262e-01, -6.54716436e-01,\n",
       "        1.67874107e-01,  4.65306187e-01,  8.21092738e-01, -1.48217353e+00,\n",
       "        5.54755646e-01, -4.65161506e-01, -1.91606855e-01,  1.27508151e+00,\n",
       "        1.21612556e+00, -3.97175537e-01,  1.26415388e+00, -2.11902429e-01,\n",
       "       -3.30594401e-01, -7.85364818e-01, -1.00888642e+00,  5.16540914e-01,\n",
       "       -1.07407372e-01,  1.17307334e+00,  1.91837637e+00, -8.37337597e-01,\n",
       "       -8.56453904e-01, -1.59638185e-02,  5.64946247e-01, -4.68152493e-01,\n",
       "        4.99928043e-01, -3.56556461e-01, -1.75464211e+00,  2.46600243e-01,\n",
       "       -1.12309662e+00, -1.25642229e+00, -1.16924036e+00, -1.13358184e+00,\n",
       "        2.89868255e-01, -5.03929953e-01, -6.22932014e-01, -1.14550256e-01,\n",
       "       -2.26646257e-01,  8.60061216e-01,  3.87111748e-01,  6.45084769e-01,\n",
       "        3.00814748e-01, -4.71080701e-01, -3.22914937e-01,  1.50446459e+00,\n",
       "        3.86129346e-01,  8.58695541e-01,  1.58621083e+00, -7.32121409e-01,\n",
       "        3.38900654e-01,  3.47108052e-01, -1.55609554e+00,  7.04820405e-02,\n",
       "       -5.38723406e-01, -2.88146417e-02,  8.62582316e-01,  5.14936464e-01,\n",
       "       -1.67102333e-01, -9.65306329e-01,  5.28168989e-02,  2.11616027e-01,\n",
       "       -1.36046796e+00,  3.07217010e-01, -5.74627185e-01,  5.37132395e-01,\n",
       "       -6.85264874e-02, -3.09462274e-01,  1.25383199e+00, -8.26066347e-01,\n",
       "       -1.73468734e+00,  9.94034340e-01,  2.50356078e+00, -1.42139283e-01,\n",
       "       -1.65484133e+00,  1.43228295e+00, -8.95148833e-01,  6.30564977e-01,\n",
       "       -2.92133848e-01,  1.19643167e-02,  7.37594971e-01, -2.30753704e-01,\n",
       "        1.22839059e+00, -5.07191124e-01,  1.49066448e+00, -2.69096886e-01,\n",
       "       -1.16067726e-01,  1.25580786e-01,  5.44895612e-01, -4.00728840e-01,\n",
       "        1.99600861e-02, -7.54881050e-01, -5.34172008e-01,  4.93371739e-01,\n",
       "       -2.05024999e-01, -1.19506076e+00, -5.59754525e-02,  1.09393355e+00,\n",
       "        1.80904200e-01, -5.04712072e-01,  1.67670086e-01,  6.70259960e-01,\n",
       "       -3.12605906e-01,  1.52495842e+00, -1.97135352e-01, -2.28613450e-02,\n",
       "        1.88086980e-03,  2.48271458e-01,  6.40948609e-01, -7.75249731e-01,\n",
       "       -9.25907151e-01,  1.71538243e-01,  2.63745648e-01, -4.63399672e-01,\n",
       "       -4.72124793e-01, -4.54591580e-01, -1.37609371e-01,  2.95034901e-01,\n",
       "       -4.49890175e-01, -1.04208016e+00, -1.98928413e-01, -2.26536903e+00,\n",
       "       -1.51315221e+00,  1.15170558e+00,  1.33127185e+00,  2.67861410e-01,\n",
       "        1.12872406e+00,  7.31511184e-01, -6.77810637e-01,  5.62627626e-01,\n",
       "        8.39939957e-01,  9.91536248e-01, -1.07342744e+00,  2.91591353e-01,\n",
       "        8.16556799e-01,  1.51438682e+00, -4.10684975e-01, -5.27265237e-01,\n",
       "       -1.63800972e+00,  1.54207827e+00, -1.43059823e+00,  6.29764051e-01,\n",
       "        8.99803177e-01, -8.91541000e-01, -4.07987985e-01, -2.27620411e+00,\n",
       "        5.49100048e-01,  1.64074855e+00,  8.46553851e-02,  2.45070132e-01,\n",
       "       -1.14049841e+00,  1.51638157e+00, -7.68896750e-01,  3.31227427e-01,\n",
       "        1.90959518e-01,  3.22095716e-01,  6.48550914e-03, -6.93359730e-02,\n",
       "       -1.18211269e-01,  3.90711910e-01, -1.69411227e+00,  1.31198821e+00,\n",
       "        1.03233743e-01, -6.77460656e-01, -2.33656464e+00,  1.01897351e+00,\n",
       "        4.04429524e-01, -1.48475931e+00,  6.39387110e-01,  8.68594078e-01,\n",
       "        1.54051370e+00, -2.58580521e-01, -7.21671235e-01, -7.40340351e-02,\n",
       "        4.00223981e-01,  9.26667613e-01, -1.95168769e+00, -9.34252117e-01,\n",
       "        6.39211799e-01,  1.10317756e+00, -7.37211036e-01,  5.00157386e-02,\n",
       "       -5.00773268e-01,  1.98128344e-01, -5.95468837e-01, -2.24046616e-01,\n",
       "        5.61910274e-01, -1.82755803e+00, -1.03040824e+00,  8.14518443e-01,\n",
       "       -7.06838520e-02,  2.81070518e-01,  6.02990556e-01, -1.15882268e+00,\n",
       "       -2.20312656e-01,  1.84348242e+00, -4.99030447e-01,  8.52200838e-02,\n",
       "        2.06749753e-01,  3.91870648e-01, -7.71183802e-01, -1.18566773e+00,\n",
       "       -1.40657800e+00,  1.40738504e+00, -1.58047901e-01, -6.62476832e-01,\n",
       "        9.46141034e-01,  1.04552304e+00, -1.79265246e+00, -6.14806873e-01,\n",
       "       -9.01888556e-01,  7.71726186e-01, -1.21160754e+00, -5.00141129e-01,\n",
       "       -4.20133377e-01,  8.32135074e-01,  3.53484476e-01, -1.99362235e+00,\n",
       "        3.08671957e-02, -8.98088013e-02, -4.02101846e-01,  5.93161981e-01,\n",
       "        1.20446067e+00, -9.89798483e-01,  1.68759629e-01,  6.43192304e-01,\n",
       "       -8.51021374e-01, -6.71529511e-02,  5.49996124e-01,  2.50506404e-01,\n",
       "       -1.00351948e+00, -1.14590758e+00,  2.53798960e-01,  7.23886082e-01,\n",
       "        5.02751876e-01,  6.76651220e-01, -4.76615511e-02, -1.63252781e+00,\n",
       "        1.61657007e+00,  1.80103401e-01,  1.02023386e+00, -3.65662242e-01,\n",
       "        2.79196296e-01,  3.48006922e-01, -8.37439119e-01,  1.68356187e+00,\n",
       "        5.89358542e-03,  7.08221640e-01,  9.27891194e-01, -2.85654482e-01,\n",
       "       -2.02408147e-01,  8.81509991e-01,  1.70473565e+00, -2.35101344e+00,\n",
       "        5.03277179e-02,  4.75657790e-01,  2.40546369e-01, -1.89043317e-01,\n",
       "       -1.60108447e+00,  1.34276227e+00, -2.87304485e-01,  4.51694928e-02,\n",
       "       -5.53136130e-01, -2.97644018e+00,  2.03949524e-01,  2.66372519e+00,\n",
       "       -1.25365619e+00, -1.68457816e+00,  5.55937001e-01,  3.11221906e-01,\n",
       "        4.24282439e-01, -2.06941405e-01, -8.49230334e-01, -2.35551536e+00,\n",
       "        3.93296891e-01,  5.23216107e-01, -1.92013224e-01,  2.95349398e-01,\n",
       "        7.71087352e-02, -3.35198847e-01,  1.06781312e+00,  1.30878619e+00,\n",
       "       -2.60510428e+00, -3.40866435e-01,  6.63929815e-01, -2.50148346e+00,\n",
       "       -5.43666421e-01, -1.18243775e+00, -5.17501321e-01, -1.48160188e+00,\n",
       "        2.03201358e+00,  9.84011063e-01,  1.78507411e+00,  1.05158960e+00,\n",
       "       -1.13196023e+00, -6.83064236e-02, -8.28784125e-01,  2.43653862e+00,\n",
       "       -4.00345875e-01, -4.21109681e-01, -1.14540275e+00, -2.73516148e-01,\n",
       "       -4.48683576e-01, -1.41359536e+00, -1.96421168e+00, -9.40752780e-01,\n",
       "       -1.62153017e-01, -5.55311869e-01,  7.82841130e-01, -1.06484625e+00,\n",
       "       -4.88713626e-01, -3.53080201e-01,  1.74724806e-01, -1.07054806e+00,\n",
       "        4.87358593e-01, -3.33425070e-01,  2.51768491e-01, -5.68931307e-01,\n",
       "       -1.40824536e+00, -4.51793208e-01, -4.83836759e-01,  6.89032833e-01,\n",
       "        1.80975024e+00, -4.64392135e-01, -2.38078898e-01, -5.96117936e-01,\n",
       "       -1.42169479e+00, -4.29850883e-02,  7.19806084e-01, -1.53450676e+00,\n",
       "       -1.88088521e-01, -1.39502567e+00, -7.76434817e-01,  1.30563884e+00,\n",
       "       -1.99725403e-02, -1.74675688e-01, -1.89535751e+00,  1.46498046e+00,\n",
       "       -1.01663888e+00, -4.49111584e-01, -4.17942759e-02, -5.40270289e-01,\n",
       "       -6.09327148e-01, -1.61437386e+00, -5.04479973e-01,  9.44961047e-01,\n",
       "        1.27275595e+00,  1.11951790e+00,  6.93361651e-01, -2.68645776e+00,\n",
       "       -1.67707913e-02, -3.39306749e-01, -5.92146710e-01, -9.76531559e-01,\n",
       "        4.45914613e-01, -1.24343665e+00,  2.57612541e-02, -1.36005881e-01,\n",
       "       -3.97818415e-01, -4.04066436e-01,  1.47661312e+00, -1.52717577e+00,\n",
       "        1.63503224e-01, -1.95129988e+00, -1.45318477e+00, -9.07831767e-01,\n",
       "        1.18324686e+00,  1.39127866e+00, -4.81093955e-01,  1.07462353e+00,\n",
       "       -1.23004494e+00, -9.06824748e-01, -6.38633689e-02,  7.59583464e-01,\n",
       "        1.11754451e+00,  2.96741773e-01,  4.32083679e-01,  4.17856822e-01,\n",
       "        1.32059364e-01, -2.40063463e-02, -6.07143605e-01, -1.96339635e+00,\n",
       "       -2.65949407e-01,  1.04672180e+00,  1.50029247e+00,  7.08715197e-01,\n",
       "       -2.67722774e-01,  8.54325867e-01, -5.32870685e-01, -8.06944519e-01,\n",
       "        3.74624251e-01,  7.04347182e-02, -1.68406626e-01,  3.32648310e-01,\n",
       "        2.41757465e-01,  2.27704507e+00, -1.12556351e+00, -1.31523769e+00,\n",
       "       -8.72252498e-01,  1.18163835e+00,  1.66396693e+00,  2.03213074e-01,\n",
       "       -1.98424818e-01,  1.84134218e+00, -7.09854156e-01, -1.43154694e+00,\n",
       "        3.54363924e-01,  4.15633569e-01, -6.04604254e-01, -4.24831879e-01,\n",
       "        8.10528235e-01, -5.52415432e-01, -1.06578213e-01,  7.65675756e-03,\n",
       "       -1.25442697e-01, -7.70234884e-01, -1.87622841e-01,  1.15507557e+00,\n",
       "        5.07722395e-01, -1.09966694e+00,  2.72966900e+00,  1.12504521e+00,\n",
       "       -2.69563738e-01,  8.99705573e-01,  2.39904092e+00, -1.87636054e+00,\n",
       "        7.13989818e-01, -9.72274686e-01, -5.35058570e-02, -2.26461301e+00,\n",
       "       -6.80050276e-02, -1.82614841e+00, -2.18075295e-01,  1.75529901e-01,\n",
       "       -9.55061793e-01, -6.75415547e-01, -4.37513640e-01,  6.58084851e-01,\n",
       "        1.08135740e-01, -2.44611877e-02, -1.45830427e+00,  2.21306241e+00,\n",
       "       -5.55315772e-01, -4.64007168e-01, -6.87390158e-01, -1.01943309e+00,\n",
       "       -1.92049473e+00,  7.82128161e-02,  1.76852163e+00,  9.87865460e-01,\n",
       "       -3.84947930e-01, -7.58550496e-01,  2.41706038e+00, -4.22057911e-01,\n",
       "       -2.72448020e-01, -8.24283354e-02,  4.14214876e-01,  6.11426014e-01,\n",
       "        8.39709612e-01,  6.59634691e-01, -1.59169938e+00,  1.52828087e-01,\n",
       "       -1.35120533e+00, -4.91462208e-01, -9.45156657e-02, -9.81871674e-01,\n",
       "       -8.78866326e-01, -9.13422013e-01,  2.78220910e-03,  7.51814019e-01,\n",
       "       -1.78727604e-01, -1.46257736e+00, -7.17374517e-01, -1.74655228e-01,\n",
       "        1.35059471e+00, -1.46933797e+00, -2.29263937e-01, -5.20342912e-01,\n",
       "        3.20371488e-01, -2.34531177e-01,  1.14885550e+00, -6.63478951e-01,\n",
       "        6.43486027e-01, -2.97820982e-01,  1.59159752e+00,  1.60165695e+00,\n",
       "        1.94982533e-01,  2.66328435e-01, -1.63953356e+00, -5.34742855e-01,\n",
       "       -2.39743141e+00,  1.37375357e+00,  8.28758822e-01,  4.07240015e-01,\n",
       "       -1.70671240e+00,  3.39937878e-01, -2.49468984e+00,  8.64251827e-01,\n",
       "       -1.20548535e+00,  1.78267302e+00, -1.73762663e+00, -6.34277956e-01,\n",
       "        6.82258152e-02,  1.13372355e+00, -1.16697453e-01,  1.97887358e+00,\n",
       "       -9.13162616e-01, -1.24737889e+00,  2.62213831e-01, -1.07425713e+00,\n",
       "       -6.83504484e-01,  2.24040029e+00,  8.47083025e-01,  4.75694472e-01,\n",
       "        9.07560905e-01, -2.49146101e-01, -2.67791726e-01,  4.12778434e-01,\n",
       "        2.16134795e+00, -8.66489182e-01,  8.94844181e-01,  5.61544637e-01,\n",
       "        5.55335840e-01, -4.28634125e-01, -6.28153516e-01, -7.55618812e-01,\n",
       "       -1.01262874e+00, -3.83540772e-01,  2.41551689e-02,  9.79684308e-01,\n",
       "       -3.83434533e-01, -7.16882410e-02,  1.18711795e+00, -1.02157209e+00,\n",
       "        1.84366021e+00,  1.06934889e-01,  1.07442840e+00,  2.86910701e+00,\n",
       "       -9.15511648e-01, -7.51726465e-01, -4.41461488e-01, -8.12799349e-01,\n",
       "       -1.69928323e-01, -1.13862097e+00,  5.20726994e-01, -3.55352209e-01,\n",
       "        1.08797788e+00,  9.34884629e-01,  5.45345277e-01, -9.14245671e-01,\n",
       "        7.24579250e-01,  2.71745885e-01, -4.12667661e-02,  3.94581702e-01,\n",
       "        1.72537876e+00,  2.62634157e-02, -7.96468580e-01, -2.05969957e-01,\n",
       "       -7.47592778e-01,  7.95695650e-01, -3.94773061e-01,  1.18807564e+00,\n",
       "        6.93855056e-02,  7.41283551e-02,  2.41667551e-02,  9.85723248e-01,\n",
       "        1.36097947e+00, -7.67599047e-01,  8.67253910e-01, -7.07965708e-01,\n",
       "        1.09369294e+00,  2.23994588e+00,  7.04124518e-01, -2.13925060e+00,\n",
       "        4.87387342e-01,  1.29961196e+00,  1.37716549e+00,  3.23360678e-01,\n",
       "        4.65060054e-01,  5.29735079e-01,  1.02356474e+00,  3.55607902e-01,\n",
       "        1.92285870e-01, -1.29817141e-01,  1.00416208e+00, -1.22583793e+00,\n",
       "        6.66430061e-01, -5.95110100e-01,  2.87620070e-01, -1.25243825e+00,\n",
       "        8.60735631e-01, -1.01007087e+00, -7.35921208e-01, -1.82022229e-01,\n",
       "       -1.44923123e+00, -1.75948936e+00,  1.14471984e-01,  4.72200822e-01,\n",
       "       -4.88234307e-01,  1.16154953e-01,  2.44380848e-01, -2.91682042e-01,\n",
       "       -1.21412944e+00,  1.77658261e-01, -2.45839942e-01,  1.27905248e-01,\n",
       "       -1.09204308e+00,  1.67935095e+00, -2.08024359e-01,  3.77119216e-01,\n",
       "       -8.05609570e-01,  5.56548880e-01, -1.02987645e-01, -1.59492298e-01,\n",
       "        7.63889372e-02,  1.57795950e+00, -1.37921901e+00,  3.74089830e-01,\n",
       "       -4.70707420e-01, -7.20621629e-01,  1.96702117e+00,  6.66766045e-01,\n",
       "        3.91705123e-01,  1.20508996e-01, -9.27091055e-01, -1.78001145e+00,\n",
       "       -5.20104020e-01,  1.81157801e+00,  1.21451556e-01, -7.10757192e-01,\n",
       "       -3.75751016e-01, -8.62409339e-01,  4.33632153e-01, -1.28316586e+00,\n",
       "        1.71978981e-01,  1.23457702e+00, -9.18185800e-01, -1.57661376e+00,\n",
       "        1.66717594e+00,  7.55407443e-01,  1.13948274e-01, -9.12010661e-01,\n",
       "        1.28753870e+00,  1.16423439e+00, -3.11409253e-01,  4.11798343e-01,\n",
       "       -9.69577544e-01,  3.56371296e-01,  4.62356618e-01, -8.21664579e-01,\n",
       "       -6.37724778e-01, -6.79132250e-01, -2.52340236e-01,  5.11384464e-01,\n",
       "       -7.00091467e-02, -9.77308633e-02,  1.32738186e+00,  9.69458868e-01,\n",
       "        1.38242444e+00,  3.58948058e-02, -1.97932470e-01, -9.13727239e-01,\n",
       "       -8.69905406e-01, -2.11511853e+00,  1.20666994e+00, -1.58907964e+00,\n",
       "       -2.39168307e-01,  1.20895478e+00, -6.38271064e-02,  1.99336181e+00,\n",
       "       -4.41648136e-01,  1.47760420e+00,  5.21452433e-01, -1.11543802e+00,\n",
       "       -1.00858928e+00,  2.33765402e-01, -7.47878918e-01,  9.53007101e-01,\n",
       "        1.03714619e+00,  1.67639636e+00,  1.91987830e+00, -7.97167963e-01,\n",
       "       -3.36197525e-02, -4.21435882e-01, -1.00590172e+00,  3.81432477e-01,\n",
       "       -7.97094643e-01,  1.45158017e+00,  1.08159882e+00,  5.56903856e-01,\n",
       "       -3.72741723e-01,  3.61777905e-01, -8.44762808e-01,  2.01613557e+00,\n",
       "        2.20965486e-01,  1.80333126e+00,  2.42892458e-01, -9.48355207e-01,\n",
       "        2.00527402e-01,  5.79110647e-01,  7.25137726e-01, -5.10071641e-01,\n",
       "       -1.46329776e+00, -2.64889595e-01,  8.17263395e-01,  1.93995839e+00,\n",
       "        1.11469344e+00,  6.34495661e-01, -5.47656914e-02,  1.57731477e+00,\n",
       "        9.94109692e-02, -2.26719455e-01,  1.64881135e+00,  7.16495108e-01,\n",
       "        2.91109158e-01,  8.38563890e-01,  6.27215538e-01, -4.15822207e-01,\n",
       "       -3.78679896e-01, -1.67879616e+00,  2.27180580e-01,  2.20367269e-03,\n",
       "       -4.06716790e-01, -1.99074558e+00, -8.72505516e-01, -4.03111753e-01,\n",
       "       -3.37031494e-01, -1.18676462e+00,  2.00507116e-02,  4.89551914e-01,\n",
       "       -6.32757349e-01,  3.55203156e-01, -7.11021159e-01, -4.09508437e-01,\n",
       "       -3.63709045e-01, -2.75297101e-01, -1.35146243e+00, -6.51587405e-01,\n",
       "        1.69573669e+00, -1.10650921e+00,  6.58943595e-01, -8.01967576e-01,\n",
       "        4.07289795e-01,  1.58084396e+00,  7.13512564e-01, -1.01985195e+00,\n",
       "       -1.41832764e-01, -1.76914102e+00,  3.43003572e-01,  8.67380746e-02,\n",
       "       -1.47640993e-01, -3.42831217e-01, -4.36918406e-01,  1.26905439e+00,\n",
       "       -3.60079786e-01, -2.87717935e-01,  1.31134342e+00, -1.19560782e+00,\n",
       "       -1.18568154e+00,  3.16618249e-01, -1.43225988e+00, -8.93649238e-01,\n",
       "       -6.74841621e-01,  1.17321838e-01, -1.37965418e+00, -3.48489059e-01,\n",
       "       -6.15584774e-01, -3.21124792e-02,  5.76595534e-01,  1.94831971e-01,\n",
       "       -3.93232479e-02, -7.15537949e-01, -9.76110655e-01, -1.32708169e+00,\n",
       "        1.79136130e-01,  6.90562612e-01,  9.15070040e-01, -1.09153664e+00,\n",
       "        1.19801326e-01, -7.92036595e-01, -8.78692716e-01, -8.36729283e-01,\n",
       "        8.66116324e-01,  7.73141074e-02,  4.56822649e-02,  2.71198811e-01,\n",
       "        4.57827646e-01,  6.87308047e-01, -2.99658207e+00,  1.62970292e-01,\n",
       "       -3.54889766e-01, -1.20098569e-01,  4.77663071e-01,  2.55147880e-01,\n",
       "       -2.44060643e+00, -2.26440867e-01,  4.27987609e-01,  1.05607777e+00,\n",
       "       -2.15718770e+00, -9.95840853e-01, -4.50891940e-01,  7.25887437e-02])"
      ]
     },
     "execution_count": 49,
     "metadata": {},
     "output_type": "execute_result"
    }
   ],
   "source": [
    "np.random.normal(0,1,1000)"
   ]
  },
  {
   "cell_type": "markdown",
   "metadata": {},
   "source": [
    "## Question 11\n",
    "\n",
    "Generate binomial distribution data for fair coin flipping of size 100. Assume `0` for head and `1` for tail.\n",
    "\n",
    "[ **Hint:** For fair coin flip `p=0.5` ]"
   ]
  },
  {
   "cell_type": "markdown",
   "metadata": {},
   "source": [
    "#### Binomial Distribution"
   ]
  },
  {
   "cell_type": "markdown",
   "metadata": {},
   "source": [
    "It is defined by 2 parameters: the probability of success and the number of trails. It tells about how likely it is possible to get a given number of successes in n trails."
   ]
  },
  {
   "cell_type": "code",
   "execution_count": 50,
   "metadata": {},
   "outputs": [
    {
     "data": {
      "text/plain": [
       "array([56, 57, 51, 49, 51, 54, 55, 51, 45, 53, 54, 51, 46, 48, 49, 50, 47,\n",
       "       52, 53, 51, 48, 38, 52, 57, 41, 46, 56, 53, 41, 48, 52, 55, 48, 51,\n",
       "       49, 58, 57, 60, 60, 42, 54, 40, 51, 50, 52, 49, 54, 50, 47, 54, 48,\n",
       "       42, 43, 54, 57, 43, 45, 54, 55, 48, 47, 47, 49, 59, 49, 49, 53, 47,\n",
       "       53, 48, 54, 52, 54, 47, 47, 59, 60, 46, 54, 39, 49, 49, 47, 54, 51,\n",
       "       51, 45, 42, 46, 51, 49, 50, 47, 52, 58, 58, 52, 58, 53, 54, 45, 48,\n",
       "       56, 43, 54, 53, 52, 49, 55, 52, 47, 49, 59, 53, 47, 48, 47, 45, 45,\n",
       "       49, 52, 51, 48, 49, 52, 56, 58, 54, 51, 50, 53, 42, 55, 48, 54, 43,\n",
       "       54, 54, 44, 45, 47, 49, 51, 44, 60, 35, 49, 48, 44, 52, 56, 45, 44,\n",
       "       47, 45, 49, 55, 41, 45, 53, 55, 46, 49, 47, 52, 44, 46, 58, 48, 52,\n",
       "       44, 52, 50, 42, 54, 60, 51, 53, 51, 53, 58, 53, 55, 52, 48, 51, 47,\n",
       "       50, 48, 52, 45, 36, 50, 53, 54, 51, 44, 46, 57, 59, 49, 52, 59, 50,\n",
       "       51, 45, 52, 50, 48, 55, 55, 52, 46, 54, 50, 54, 48, 49, 57, 41, 48,\n",
       "       47, 55, 44, 55, 55, 52, 55, 50, 38, 46, 46, 52, 44, 54, 59, 43, 57,\n",
       "       48, 57, 54, 56, 57, 43, 53, 59, 48, 54, 52, 41, 55, 47, 47, 46, 49,\n",
       "       45, 51, 46, 47, 46, 47, 51, 47, 50, 44, 52, 53, 54, 58, 46, 58, 55,\n",
       "       50, 58, 48, 49, 44, 50, 56, 51, 50, 49, 54, 50, 43, 53, 53, 53, 54,\n",
       "       48, 41, 44, 47, 50, 49, 46, 55, 59, 55, 53, 57, 46, 49, 39, 49, 48,\n",
       "       51, 53, 51, 48, 54, 45, 48, 44, 53, 51, 52, 44, 49, 44, 46, 38, 51,\n",
       "       43, 47, 43, 52, 54, 44, 51, 52, 50, 56, 53, 43, 60, 51, 45, 42, 50,\n",
       "       49, 51, 47, 43, 51, 53, 53, 40, 57, 53, 51, 50, 53, 51, 54, 53, 52,\n",
       "       49, 55, 49, 45, 44, 55, 47, 42, 43, 62, 46, 42, 50, 54, 58, 57, 53,\n",
       "       51, 55, 52, 54, 48, 58, 46, 51, 58, 48, 58, 51, 52, 51, 52, 46, 59,\n",
       "       51, 51, 47, 56, 58, 50, 45, 50, 59, 52, 49, 58, 42, 45, 54, 48, 56,\n",
       "       51, 49, 55, 46, 37, 50, 46, 55, 52, 56, 49, 50, 52, 46, 50, 45, 53,\n",
       "       45, 47, 51, 47, 45, 57, 60, 50, 52, 48, 45, 46, 55, 49, 44, 46, 48,\n",
       "       50, 60, 49, 59, 50, 45, 45, 53, 53, 58, 50, 57, 49, 55, 44, 54, 45,\n",
       "       48, 53, 47, 47, 53, 47, 51, 54, 47, 61, 43, 49, 54, 51, 50, 59, 53,\n",
       "       46, 48, 49, 51, 52, 50, 60, 52, 45, 44, 49, 49, 59, 55, 50, 46, 42,\n",
       "       61, 50, 48, 44, 52, 48, 45, 44, 43, 47, 44, 52, 44, 52, 57, 54, 50,\n",
       "       43, 51, 45, 46, 57, 50, 60, 46, 59, 49, 50, 61, 48, 47, 50, 55, 53,\n",
       "       46, 48, 49, 41, 50, 45, 61, 43, 61, 58, 51, 41, 51, 45, 44, 49, 54,\n",
       "       51, 49, 44, 44, 51, 58, 50, 53, 48, 56, 50, 45, 55, 57, 53, 53, 56,\n",
       "       52, 48, 57, 55, 47, 44, 46, 63, 49, 55, 50, 42, 53, 52, 42, 46, 50,\n",
       "       56, 60, 43, 51, 50, 45, 61, 43, 48, 41, 49, 49, 45, 50, 56, 53, 50,\n",
       "       54, 53, 47, 52, 49, 44, 45, 49, 37, 47, 58, 49, 55, 42, 52, 54, 46,\n",
       "       56, 49, 56, 42, 57, 54, 49, 47, 58, 53, 50, 58, 42, 48, 51, 51, 46,\n",
       "       40, 52, 58, 52, 50, 46, 55, 51, 56, 49, 53, 45, 54, 49, 52, 54, 48,\n",
       "       63, 54, 46, 58, 53, 47, 49, 59, 62, 56, 50, 44, 56, 41, 59, 53, 51,\n",
       "       51, 51, 50, 40, 48, 49, 53, 47, 56, 56, 54, 52, 45, 45, 47, 53, 54,\n",
       "       52, 56, 55, 43, 49, 53, 52, 49, 53, 47, 47, 48, 49, 51, 44, 42, 53,\n",
       "       38, 47, 45, 46, 50, 49, 50, 45, 46, 55, 45, 45, 51, 46, 46, 55, 47,\n",
       "       50, 46, 56, 45, 50, 47, 53, 44, 45, 49, 56, 44, 48, 46, 39, 46, 47,\n",
       "       36, 51, 50, 45, 50, 50, 49, 41, 51, 57, 55, 55, 51, 48, 49, 49, 48,\n",
       "       49, 48, 48, 55, 49, 46, 64, 47, 49, 47, 49, 57, 54, 41, 50, 51, 39,\n",
       "       57, 49, 56, 52, 47, 50, 59, 48, 47, 55, 44, 55, 50, 53, 59, 46, 43,\n",
       "       50, 42, 56, 62, 51, 48, 55, 49, 46, 49, 53, 48, 54, 55, 57, 44, 49,\n",
       "       54, 53, 54, 42, 42, 50, 53, 49, 53, 51, 45, 57, 47, 52, 49, 50, 50,\n",
       "       54, 53, 51, 50, 58, 47, 48, 45, 50, 55, 55, 52, 48, 55, 44, 47, 46,\n",
       "       54, 43, 45, 44, 52, 50, 49, 56, 58, 54, 49, 48, 50, 44, 54, 46, 50,\n",
       "       55, 49, 45, 49, 53, 43, 59, 41, 51, 49, 44, 51, 50, 51, 50, 50, 46,\n",
       "       46, 50, 44, 43, 47, 51, 56, 49, 58, 53, 45, 40, 49, 61, 51, 54, 48,\n",
       "       54, 52, 57, 47, 47, 52, 45, 49, 47, 47, 43, 52, 59, 50, 54, 53, 47,\n",
       "       40, 54, 60, 49, 53, 48, 57, 51, 48, 54, 46, 51, 49, 46, 47, 44, 50,\n",
       "       50, 51, 51, 65, 49, 53, 54, 52, 54, 59, 60, 53, 54, 51, 62, 53, 45,\n",
       "       50, 47, 46, 46, 57, 46, 45, 49, 40, 39, 50, 40, 54, 51, 48, 55, 46,\n",
       "       46, 52, 51, 50, 46, 48, 48, 53, 46, 51, 60, 47, 46, 45, 54, 55, 46,\n",
       "       49, 45, 46, 39, 47, 52, 44, 41, 48, 43, 53, 50, 45, 47, 56, 49, 59,\n",
       "       40, 47, 56, 48, 49, 44, 42, 48, 48, 43, 47, 47, 59, 48])"
      ]
     },
     "execution_count": 50,
     "metadata": {},
     "output_type": "execute_result"
    }
   ],
   "source": [
    "np.random.binomial(100,0.5,1000)"
   ]
  },
  {
   "cell_type": "markdown",
   "metadata": {},
   "source": [
    "#### Visualizing Poisson Distribution"
   ]
  },
  {
   "cell_type": "markdown",
   "metadata": {},
   "source": [
    "It models the probability of seeing certain number of successes within a time interval."
   ]
  },
  {
   "cell_type": "code",
   "execution_count": 133,
   "metadata": {},
   "outputs": [
    {
     "data": {
      "image/png": "[encoded data removed]",
      "text/plain": [
       "<matplotlib.figure.Figure at 0x7f7c10ffbe90>"
      ]
     },
     "metadata": {},
     "output_type": "display_data"
    }
   ],
   "source": [
    "poisson_data = stats.poisson.rvs(size=100,mu=10)\n",
    "\n",
    "pd.DataFrame(poisson_data).hist()\n",
    "\n",
    "plt.show()"
   ]
  }
 ],
 "metadata": {
  "kernelspec": {
   "display_name": "Python 3",
   "language": "python",
   "name": "python3"
  },
  "language_info": {
   "codemirror_mode": {
    "name": "ipython",
    "version": 3
   },
   "file_extension": ".py",
   "mimetype": "text/x-python",
   "name": "python",
   "nbconvert_exporter": "python",
   "pygments_lexer": "ipython3",
   "version": "3.7.0"
  }
 },
 "nbformat": 4,
 "nbformat_minor": 2
}
