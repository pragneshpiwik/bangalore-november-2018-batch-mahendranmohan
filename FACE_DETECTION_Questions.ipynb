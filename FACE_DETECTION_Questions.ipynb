{
  "nbformat": 4,
  "nbformat_minor": 0,
  "metadata": {
    "colab": {
      "name": "FACE DETECTION_Questions.ipynb",
      "version": "0.3.2",
      "provenance": [],
      "collapsed_sections": [],
      "toc_visible": true
    },
    "kernelspec": {
      "name": "python2",
      "display_name": "Python 2"
    }
  },
  "cells": [
    {
      "metadata": {
        "id": "IgJNvpw9SnZq",
        "colab_type": "text"
      },
      "cell_type": "markdown",
      "source": [
        "#### In this problem we use \"Transfer Learning\" of an Object Detector model to detect any object according to the problem in hand.\n",
        "\n",
        "Here, We are particularly interested in detecting faces in a given image.\n",
        "\n",
        "#### To use the model first, we need to import the model and its supporting files for the model to function. \n",
        "\n",
        "We see the below steps to import the model."
      ]
    },
    {
      "metadata": {
        "id": "HtnH8CujQfxM",
        "colab_type": "text"
      },
      "cell_type": "markdown",
      "source": [
        "### Import MobileNet model given in file `mn_model.py`"
      ]
    },
    {
      "metadata": {
        "id": "FtnDz1qkQESM",
        "colab_type": "code",
        "colab": {}
      },
      "cell_type": "code",
      "source": [
        "### Import MobileNet model given in file `mn_model.py`\n",
        "\n",
        "from mn_model import mn_model"
      ],
      "execution_count": 0,
      "outputs": []
    },
    {
      "metadata": {
        "id": "dwNy4u8zQk1H",
        "colab_type": "text"
      },
      "cell_type": "markdown",
      "source": [
        "### Import the BatchGenerator and SSDLoss functions in given files `face_generator.py`, `keras_ssd_loss` and `ssd_box_encode_decode_utils.py` as well, used in MobileNet model"
      ]
    },
    {
      "metadata": {
        "id": "3gVMOicwQlg_",
        "colab_type": "code",
        "colab": {}
      },
      "cell_type": "code",
      "source": [
        "#### Import the BatchGenerator and SSDLoss functions as well, used in MobileNet model\n",
        "\n",
        "from face_generator import BatchGenerator\n",
        "from keras_ssd_loss import SSDLoss\n",
        "from ssd_box_encode_decode_utils import SSDBoxEncoder, decode_y, decode_y2"
      ],
      "execution_count": 0,
      "outputs": []
    },
    {
      "metadata": {
        "id": "tkzbMq9UeuCM",
        "colab_type": "code",
        "colab": {}
      },
      "cell_type": "code",
      "source": [
        "\n",
        "import warnings\n",
        "warnings.filterwarnings(\"ignore\")\n",
        "\n",
        "from keras.optimizers import Adam, SGD, Nadam\n",
        "from keras.callbacks import ModelCheckpoint, EarlyStopping, ReduceLROnPlateau, TensorBoard, LearningRateScheduler\n",
        "from keras.callbacks import Callback\n",
        "from keras import backend as K \n",
        "from keras.models import load_model\n",
        "from math import ceil \n",
        "import numpy as np \n",
        "from termcolor import colored\n",
        "\n",
        "from mn_model import mn_model\n",
        "from face_generator import BatchGenerator\n",
        "from keras_ssd_loss import SSDLoss\n",
        "from ssd_box_encode_decode_utils import SSDBoxEncoder, decode_y, decode_y2\n",
        "\n",
        "# training parameters\n",
        "from keras import backend as K\n",
        "import scipy.misc as sm\n"
      ],
      "execution_count": 0,
      "outputs": []
    },
    {
      "metadata": {
        "id": "UqyWOSGJRB18",
        "colab_type": "text"
      },
      "cell_type": "markdown",
      "source": [
        "## Set the parameters for the model\n",
        "\n",
        "#### We need to customize the model parameters according to our problem as given below.\n",
        "\n",
        "#### Set n_classes (no.of classes) = 2, as we are interested in only face detection. \n",
        "#### `Face` will be one class and everything else comes under other class (we can call it as `background`)\n",
        "\n",
        "#### Set class_names = [\"background\", \"face\"]"
      ]
    },
    {
      "metadata": {
        "id": "bcoBM5wlfHgZ",
        "colab_type": "code",
        "colab": {}
      },
      "cell_type": "code",
      "source": [
        "img_height =512\n",
        "img_width = 512\n",
        "\n",
        "img_channels = 3\n",
        "\n",
        "n_classes =2 \n",
        "class_names = [\"background\",\"face\"]\n",
        "\n",
        "scales = [0.07, 0.15, 0.33, 0.51, 0.69, 0.87, 1.05] # anchorboxes for coco dataset\n",
        "aspect_ratios = [[0.5, 1.0, 2.0],\n",
        "                 [1.0/3.0, 0.5, 1.0, 2.0, 3.0],\n",
        "                 [1.0/3.0, 0.5, 1.0, 2.0, 3.0],\n",
        "                 [1.0/3.0, 0.5, 1.0, 2.0, 3.0],\n",
        "                 [0.5, 1.0, 2.0],\n",
        "                 [0.5, 1.0, 2.0]] # The anchor box aspect ratios used in the original SSD300\n",
        "two_boxes_for_ar1 = True\n",
        "limit_boxes = True # Whether or not you want to limit the anchor boxes to lie entirely within the image boundaries\n",
        "variances = [0.1, 0.1, 0.2, 0.2] # The variances by which the encoded target coordinates are scaled as in the original implementation\n",
        "coords = 'centroids' # Whether the box coordinates to be used as targets for the model should be in the 'centroids' or 'minmax' format, see documentation\n",
        "normalize_coords = True\n",
        "\n",
        "det_model_path = \"./\""
      ],
      "execution_count": 0,
      "outputs": []
    },
    {
      "metadata": {
        "id": "z7vX1GJjTg0v",
        "colab_type": "text"
      },
      "cell_type": "markdown",
      "source": [
        "### Now, we have imported the model and its dependencies. The next thing is to import the dataset for the model to train on. For this, we are using the WIDER FACE dataset. \n",
        "\n",
        "#### To make the dataset available follow the steps given below.\n",
        "\n",
        "\n",
        "1. Create a folder in your google drive for this project. \n",
        "\n",
        "2. Download the train and test dataset files given in .zip format into your drive folder you created for the project in step-1.\n",
        "\n",
        "3. Set the project path variable according to the folders you created to use for this project in your google drive. \n",
        "\n",
        "      `project_path = \"/content/drive/My Drive/DLCP/\"`\n",
        "\n",
        "4. Now, as we mount the drive the images will be available to use for training and testing but in zip format.\n",
        "\n",
        "5. So, lets extract the images from the zipfiles by using the code given of zipfile module.\n",
        "\n",
        "\n",
        "\n",
        "\n",
        "\n"
      ]
    },
    {
      "metadata": {
        "id": "T2du37JKdpAK",
        "colab_type": "code",
        "colab": {}
      },
      "cell_type": "code",
      "source": [
        "from google.colab import drive"
      ],
      "execution_count": 0,
      "outputs": []
    },
    {
      "metadata": {
        "id": "mXRPqaDfdr1P",
        "colab_type": "code",
        "outputId": "8edc6327-331a-43d7-ae2d-f4eb21429eb1",
        "colab": {
          "base_uri": "https://localhost:8080/",
          "height": 122
        }
      },
      "cell_type": "code",
      "source": [
        "drive.mount('/content/drive')"
      ],
      "execution_count": 0,
      "outputs": [
        {
          "output_type": "stream",
          "text": [
            "Go to this URL in a browser: https://accounts.google.com/o/oauth2/auth?client_id=947318989803-6bn6qk8qdgf4n4g3pfee6491hc0brc4i.apps.googleusercontent.com&redirect_uri=urn%3Aietf%3Awg%3Aoauth%3A2.0%3Aoob&scope=email%20https%3A%2F%2Fwww.googleapis.com%2Fauth%2Fdocs.test%20https%3A%2F%2Fwww.googleapis.com%2Fauth%2Fdrive%20https%3A%2F%2Fwww.googleapis.com%2Fauth%2Fdrive.photos.readonly%20https%3A%2F%2Fwww.googleapis.com%2Fauth%2Fpeopleapi.readonly&response_type=code\n",
            "\n",
            "Enter your authorization code:\n",
            "··········\n",
            "Mounted at /content/drive\n"
          ],
          "name": "stdout"
        }
      ]
    },
    {
      "metadata": {
        "id": "KM1QVQ2pduPE",
        "colab_type": "code",
        "colab": {}
      },
      "cell_type": "code",
      "source": [
        "project_path = \"/content/drive/My Drive/DLCP/\""
      ],
      "execution_count": 0,
      "outputs": []
    },
    {
      "metadata": {
        "id": "F-pOMEK8pCPS",
        "colab_type": "code",
        "colab": {}
      },
      "cell_type": "code",
      "source": [
        "train_images_path = project_path + 'WIDER_train.zip'\n",
        "test_images_path = project_path + 'WIDER_val.zip'"
      ],
      "execution_count": 0,
      "outputs": []
    },
    {
      "metadata": {
        "id": "5uIDTr5ApCR7",
        "colab_type": "code",
        "colab": {}
      },
      "cell_type": "code",
      "source": [
        "import zipfile\n",
        "archive = zipfile.ZipFile(train_images_path, 'r')\n",
        "archive.extractall()"
      ],
      "execution_count": 0,
      "outputs": []
    },
    {
      "metadata": {
        "id": "BhqDPEEfpCUr",
        "colab_type": "code",
        "colab": {}
      },
      "cell_type": "code",
      "source": [
        "archive = zipfile.ZipFile(test_images_path, 'r')\n",
        "archive.extractall()"
      ],
      "execution_count": 0,
      "outputs": []
    },
    {
      "metadata": {
        "id": "-iCibT8AYiJ7",
        "colab_type": "text"
      },
      "cell_type": "markdown",
      "source": [
        "### Now, the images are available. The next thing we need is to get the labels for these images, so that we can use this information while training for detecting faces with the given model using transfer learning. \n",
        "\n",
        "#### Follow the below steps to get those labels available.\n",
        "\n",
        "\n",
        "Load the  '' `wider_train_small.npy`'' file given to check the information given about the dataset. In this file you can see the information about each image in the dataset in a list with following elemets:\n",
        "      \n",
        "\n",
        "        1.   Image filename (str)\n",
        "        2.   Image filename (str)\n",
        "        3.   Image size (list) [height, width]\n",
        "        4.   List of bounding box co-ordinates and Class label (list) [[a,b,c,d], Class label, ...]\n",
        "        \n",
        "        where,\n",
        "        a,b,c,d are the four co-ordinates of the bounding box\n",
        "        Class label is the position of object as mentioned in `class_names` list above."
      ]
    },
    {
      "metadata": {
        "id": "nub3I0LPmlfk",
        "colab_type": "code",
        "colab": {}
      },
      "cell_type": "code",
      "source": [
        "data = np.load('./wider_train_small.npy').item()"
      ],
      "execution_count": 0,
      "outputs": []
    },
    {
      "metadata": {
        "id": "Q2Fd8RY3pCJS",
        "colab_type": "code",
        "outputId": "b9bbd88c-8772-4753-e12c-3b724adcada8",
        "colab": {
          "base_uri": "https://localhost:8080/",
          "height": 71
        }
      },
      "cell_type": "code",
      "source": [
        "### Printed first element to check the above given information.\n",
        "\n",
        "for key in data:\n",
        "    print key\n",
        "    print data[key]\n",
        "    break"
      ],
      "execution_count": 0,
      "outputs": [
        {
          "output_type": "stream",
          "text": [
            "52--Photographers/52_Photographers_photographertakingphoto_52_582.jpg\n",
            "['WIDER_train/images/52--Photographers/52_Photographers_photographertakingphoto_52_582.jpg', 'WIDER_train/images/52--Photographers/52_Photographers_photographertakingphoto_52_582.jpg', [300, 300], [[21, 667, 9, 655], 1]]\n"
          ],
          "name": "stdout"
        }
      ]
    },
    {
      "metadata": {
        "id": "vlTpXziHZwws",
        "colab_type": "text"
      },
      "cell_type": "markdown",
      "source": [
        " As we can see from the above output all the information mentioned above is there for all the images."
      ]
    },
    {
      "metadata": {
        "id": "m2NBAZGqaec9",
        "colab_type": "text"
      },
      "cell_type": "markdown",
      "source": [
        "### Now, load the files `wider_trian.npy` and `wider_val.npy`"
      ]
    },
    {
      "metadata": {
        "id": "_kfX49vXas4f",
        "colab_type": "code",
        "colab": {}
      },
      "cell_type": "code",
      "source": [
        "train_data = 'wider_train_small.npy'\n",
        "test_data = 'wider_val_small.npy'\n",
        "\n",
        "x = np.load(train_data)"
      ],
      "execution_count": 0,
      "outputs": []
    },
    {
      "metadata": {
        "id": "v2KdmbvGblC3",
        "colab_type": "text"
      },
      "cell_type": "markdown",
      "source": [
        "### Now, call the imported model with the given parameters and freeze all the layers in the model with names not having ''`detection`'' word as prefix.\n",
        "\n",
        "As we are not training the model from scratch, we are freezing all the above layers in the model having only last few layers while training to update their weights according to the problem in hand. This is called as **Transfer Learning**."
      ]
    },
    {
      "metadata": {
        "id": "cHwplT2ggR-1",
        "colab_type": "code",
        "colab": {}
      },
      "cell_type": "code",
      "source": [
        "# build the keras model\n",
        "# this model is not retrained, we are doing it from scratch \n",
        "\n",
        "K.clear_session()\n",
        "model, model_layer, img_input, predictor_sizes = mn_model(image_size=(img_height, img_width, img_channels), \n",
        "                                                                      n_classes = n_classes,\n",
        "                                                                      min_scale = None, \n",
        "                                                                      max_scale = None, \n",
        "                                                                      scales = scales, \n",
        "                                                                      aspect_ratios_global = None, \n",
        "                                                                      aspect_ratios_per_layer = aspect_ratios, \n",
        "                                                                      two_boxes_for_ar1= two_boxes_for_ar1, \n",
        "                                                                      limit_boxes=limit_boxes, \n",
        "                                                                      variances= variances, \n",
        "                                                                      coords=coords, \n",
        "                                                                      normalize_coords=normalize_coords)"
      ],
      "execution_count": 0,
      "outputs": []
    },
    {
      "metadata": {
        "id": "FfC4yNb_uCdT",
        "colab_type": "text"
      },
      "cell_type": "markdown",
      "source": [
        "#### Write code to freeze all the layers in the above model with names not having ''`detection`'' word as prefix."
      ]
    },
    {
      "metadata": {
        "id": "snOulB0wt7_t",
        "colab_type": "code",
        "colab": {}
      },
      "cell_type": "code",
      "source": [
        ""
      ],
      "execution_count": 0,
      "outputs": []
    },
    {
      "metadata": {
        "id": "n1IIGWM2c3x-",
        "colab_type": "text"
      },
      "cell_type": "markdown",
      "source": [
        "### After making the model ready for transfer learning, load the weights of the model given in file ''`mobilenet_1_0_224_tf.h5`''"
      ]
    },
    {
      "metadata": {
        "id": "lmCmRr2Rc2Sv",
        "colab_type": "code",
        "colab": {}
      },
      "cell_type": "code",
      "source": [
        ""
      ],
      "execution_count": 0,
      "outputs": []
    },
    {
      "metadata": {
        "id": "73KNzDSCf6Rh",
        "colab_type": "text"
      },
      "cell_type": "markdown",
      "source": [
        "#### Using the functions given in the model, we are trying to divide the dataset into train and validation samples. Run the below code."
      ]
    },
    {
      "metadata": {
        "id": "4_pZEU8TfBoR",
        "colab_type": "code",
        "outputId": "6490ca74-d3f7-463d-f98a-f337d9fb6433",
        "colab": {
          "base_uri": "https://localhost:8080/",
          "height": 221
        }
      },
      "cell_type": "code",
      "source": [
        "batch_size = 32\n",
        "ssd_box_encoder = SSDBoxEncoder(img_height=img_height,\n",
        "                                img_width=img_width,\n",
        "                                n_classes=n_classes, \n",
        "                                predictor_sizes=predictor_sizes,\n",
        "                                min_scale=None,\n",
        "                                max_scale=None,\n",
        "                                scales=scales,\n",
        "                                aspect_ratios_global=None,\n",
        "                                aspect_ratios_per_layer=aspect_ratios,\n",
        "                                two_boxes_for_ar1=two_boxes_for_ar1,\n",
        "                                limit_boxes=limit_boxes,\n",
        "                                variances=variances,\n",
        "                                pos_iou_threshold=0.5,\n",
        "                                neg_iou_threshold=0.2,\n",
        "                                coords=coords,\n",
        "                                normalize_coords=normalize_coords)\n",
        "\n",
        "train_dataset = BatchGenerator(images_path=train_data, \n",
        "                include_classes='all', \n",
        "                box_output_format = ['class_id', 'xmin', 'xmax', 'ymin', 'ymax'])\n",
        "\n",
        "print (\"==>TRAINING DATA\")\n",
        "print (\"==> Parsing XML files ...\")\n",
        "\n",
        "train_dataset.parse_xml(\n",
        "                  annotations_path=train_data,\n",
        "                  image_set_path='None',\n",
        "                  image_set='None',\n",
        "                  classes = class_names, \n",
        "                  exclude_truncated=False,\n",
        "                  exclude_difficult=False,\n",
        "                  ret=False, \n",
        "                  debug = False)\n",
        "print(\"==>Parsing XML Finished.\")\n",
        "\n",
        "print (\"==>Generate training batches...\")\n",
        "train_generator = train_dataset.generate(\n",
        "                 batch_size=batch_size,\n",
        "                 train=True,\n",
        "                 ssd_box_encoder=ssd_box_encoder,\n",
        "                 equalize=True,\n",
        "                 brightness=(0.5,2,0.5),\n",
        "                 flip=0.5,\n",
        "                 translate=((0, 20), (0, 30), 0.5),\n",
        "                 scale=(0.75, 1.2, 0.5),\n",
        "                 crop=False,\n",
        "                 #random_crop = (img_height,img_width,1,3), \n",
        "                 random_crop=False,\n",
        "                 resize=(img_height, img_width),\n",
        "                 #resize=False,\n",
        "                 gray=False,\n",
        "                 limit_boxes=True,\n",
        "                 include_thresh=0.4,\n",
        "                 diagnostics=False)\n",
        "\n",
        "print (\"==>Training batch generation complete\")\n",
        "\n",
        "n_train_samples = train_dataset.get_n_samples()\n",
        "\n",
        "print (\"==>Total number of training samples = {}\".format(n_train_samples))\n",
        "\n",
        "# Now repeat above steps for validation data \n",
        "\n",
        "print (\"==>VALIDATION\")\n",
        "\n",
        "val_dataset = BatchGenerator(images_path=test_data, include_classes='all', \n",
        "                box_output_format = ['class_id', 'xmin', 'xmax', 'ymin', 'ymax'])\n",
        "\n",
        "print (\"==> Parsing XML files ...\")\n",
        "\n",
        "\n",
        "val_dataset.parse_xml(\n",
        "                  annotations_path=test_data,\n",
        "                  image_set_path='None',\n",
        "                  image_set='None',\n",
        "                  classes = class_names, \n",
        "                  exclude_truncated=False,\n",
        "                  exclude_difficult=False,\n",
        "                  ret=False, \n",
        "                  debug = False)\n",
        "\n",
        "\n",
        "print(\"==>Parsing XML Finished.\")\n",
        "\n",
        "\n",
        "print (\"==>Generate training batches...\")\n",
        "val_generator = val_dataset.generate(\n",
        "                 batch_size=batch_size,\n",
        "                 train=True,\n",
        "                 ssd_box_encoder=ssd_box_encoder,\n",
        "                 equalize=False,\n",
        "                 brightness=False,\n",
        "                 flip=False,\n",
        "                 translate=False,\n",
        "                 scale=False,\n",
        "                 crop=False,\n",
        "                 #random_crop = (img_height,img_width,1,3), \n",
        "                 random_crop=False, \n",
        "                 resize=(img_height, img_width), \n",
        "                 #resize=False, \n",
        "                 gray=False,\n",
        "                 limit_boxes=True,\n",
        "                 include_thresh=0.4,\n",
        "                 diagnostics=False)\n",
        "\n",
        "\n",
        "print (\"==>Training batch generation complete\")\n",
        "\n",
        "n_val_samples = val_dataset.get_n_samples()\n",
        "\n",
        "print (\"==>Total number of validation samples = {}\".format(n_val_samples))"
      ],
      "execution_count": 0,
      "outputs": [
        {
          "output_type": "stream",
          "text": [
            "==>TRAINING DATA\n",
            "==> Parsing XML files ...\n",
            "==>Parsing XML Finished.\n",
            "==>Generate training batches...\n",
            "==>Training batch generation complete\n",
            "==>Total number of training samples = 128\n",
            "==>VALIDATION\n",
            "==> Parsing XML files ...\n",
            "==>Parsing XML Finished.\n",
            "==>Generate training batches...\n",
            "==>Training batch generation complete\n",
            "==>Total number of validation samples = 60\n"
          ],
          "name": "stdout"
        }
      ]
    },
    {
      "metadata": {
        "id": "4KtkdFTQhKlE",
        "colab_type": "text"
      },
      "cell_type": "markdown",
      "source": [
        "### Now, lets setup things for training by initilaizing required variables like learning rate, epochs, optimizer and loss function(SSDLoss) to compile the model"
      ]
    },
    {
      "metadata": {
        "id": "g1-3OOPmgmxk",
        "colab_type": "code",
        "colab": {}
      },
      "cell_type": "code",
      "source": [
        "# setting up training \n",
        "\n",
        "# batch_size and no.of epochs\n",
        "\n",
        "batch_size = 16\n",
        "num_epochs = 10\n",
        "\n",
        "#Learning rate\n",
        "base_lr = 0.002\n",
        "\n",
        "# Optimizer\n",
        "adam = Adam(lr=base_lr, beta_1=0.9, beta_2=0.999, epsilon=1e-6, decay = 0.0)\n",
        "\n",
        "# Loss\n",
        "ssd_loss = SSDLoss(neg_pos_ratio=2, n_neg_min=0, alpha=1.0, beta = 1.0)\n",
        "\n",
        "# Compile\n",
        "model.compile(optimizer=adam, loss=ssd_loss.compute_loss)"
      ],
      "execution_count": 0,
      "outputs": []
    },
    {
      "metadata": {
        "id": "vt_RxSHJitPR",
        "colab_type": "text"
      },
      "cell_type": "markdown",
      "source": [
        "### Lets add early stopping and model checkpoint layers on validation loss with some patience values and using fit_generator function to train the model on data generated batch-by-batch by a Python generator, `train_generator` object as generator.\n",
        "\n",
        "\n",
        "We are using checkpoint to save the best model based on validation accuracy."
      ]
    },
    {
      "metadata": {
        "id": "ugJ68M7_vDqy",
        "colab_type": "text"
      },
      "cell_type": "markdown",
      "source": [
        "#### Write code for early_stopping and model_checkpoint layers. Using model.fit_generator train the model and save the best weight file."
      ]
    },
    {
      "metadata": {
        "id": "EeO-T9jwi8be",
        "colab_type": "code",
        "colab": {}
      },
      "cell_type": "code",
      "source": [
        "\n"
      ],
      "execution_count": 0,
      "outputs": []
    },
    {
      "metadata": {
        "id": "U3FHrp77jdOx",
        "colab_type": "text"
      },
      "cell_type": "markdown",
      "source": [
        "### Load the best saved model from above step and check predictions for test data using test_generator object to generate batches."
      ]
    },
    {
      "metadata": {
        "id": "S7eP30cxvcEA",
        "colab_type": "text"
      },
      "cell_type": "markdown",
      "source": [
        "#### Write code in the below cell to load best saved model in the above step."
      ]
    },
    {
      "metadata": {
        "id": "nh7tMrxFjR4B",
        "colab_type": "code",
        "colab": {}
      },
      "cell_type": "code",
      "source": [
        ""
      ],
      "execution_count": 0,
      "outputs": []
    },
    {
      "metadata": {
        "id": "6dD7q7pzqvnh",
        "colab_type": "text"
      },
      "cell_type": "markdown",
      "source": [
        "### Use the below function to plot the boundingbox in the test image to show the predictions."
      ]
    },
    {
      "metadata": {
        "id": "h89fe5NGqwI9",
        "colab_type": "code",
        "colab": {}
      },
      "cell_type": "code",
      "source": [
        "def save_bb(path, filename, results, prediction=True):\n",
        "  \n",
        "  # print filename\n",
        "\n",
        "  img = image.load_img(filename, target_size=(img_height, img_width))\n",
        "  img = image.img_to_array(img)\n",
        "\n",
        "  filename = filename.split(\"/\")[-1]\n",
        "\n",
        "  if(not prediction):\n",
        "    filename = filename[:-4] + \"_gt\" + \".jpg\"\n",
        "\n",
        "  #fig,currentAxis = plt.subplots(1)\n",
        "  currentAxis = plt.gca()\n",
        "\n",
        " # Get detections with confidence higher than 0.6.\n",
        "  colors = plt.cm.hsv(np.linspace(0, 1, 25)).tolist()\n",
        "  color_code = min(len(results), 16)\n",
        "  print (colored(\"total number of bbs: %d\" % len(results), \"yellow\"))\n",
        "  for result in results:\n",
        "    # Parse the outputs.\n",
        "\n",
        "    if(prediction):\n",
        "      det_label = result[0]\n",
        "      det_conf = result[1]\n",
        "      det_xmin = result[2]\n",
        "      det_xmax = result[3]\n",
        "      det_ymin = result[4]\n",
        "      det_ymax = result[5]\n",
        "    else :\n",
        "      det_label = result[0]\n",
        "      det_xmin = result[1]\n",
        "      det_xmax = result[2]\n",
        "      det_ymin = result[3]\n",
        "      det_ymax = result[4]\n",
        "\n",
        "    xmin = int(det_xmin)\n",
        "    ymin = int(det_ymin)\n",
        "    xmax = int(det_xmax)\n",
        "    ymax = int(det_ymax)\n",
        "\n",
        "    if(prediction):\n",
        "      score = det_conf\n",
        "    \n",
        "    plt.imshow(img / 255.)\n",
        "    \n",
        "    label = int(int(det_label))\n",
        "    label_name = class_names[label]\n",
        "    # print label_name \n",
        "    # print label\n",
        "\n",
        "    if(prediction):\n",
        "      display_txt = '{:0.2f}'.format(score)\n",
        "    else:\n",
        "      display_txt = '{}'.format(label_name)\n",
        "\n",
        "      \n",
        "    # print (xmin, ymin, ymin, ymax)\n",
        "    coords = (xmin, ymin), (xmax-xmin), (ymax-ymin)\n",
        "    color_code = color_code-1 \n",
        "    color = colors[color_code]\n",
        "    currentAxis.add_patch(plt.Rectangle(*coords, fill=False, edgecolor=color, linewidth=2))\n",
        "    currentAxis.text(xmin, ymin, display_txt, bbox={'facecolor':color, 'alpha':0.2})\n",
        "\n",
        "  # y\n",
        "  currentAxis.axes.get_yaxis().set_visible(False)\n",
        "  # x\n",
        "  currentAxis.axes.get_xaxis().set_visible(False)\n",
        "  plt.savefig(path + filename, bbox_inches='tight')\n",
        "\n",
        "  print ('saved' , path + filename)\n",
        "\n",
        "  plt.clf()\n"
      ],
      "execution_count": 0,
      "outputs": []
    },
    {
      "metadata": {
        "id": "RrMdNhMtwE3t",
        "colab_type": "text"
      },
      "cell_type": "markdown",
      "source": [
        "#### Run the below code to create a folder with name output_test and get the predictions for the test images using model.predict()"
      ]
    },
    {
      "metadata": {
        "id": "1Sep0lG3vR0R",
        "colab_type": "code",
        "colab": {}
      },
      "cell_type": "code",
      "source": [
        "!mkdir output_test"
      ],
      "execution_count": 0,
      "outputs": []
    },
    {
      "metadata": {
        "id": "70s6RPuInpqo",
        "colab_type": "code",
        "colab": {}
      },
      "cell_type": "code",
      "source": [
        "from keras.preprocessing import image\n",
        "from matplotlib import pyplot as plt\n",
        "\n",
        "test_size = 16\n",
        "test_generator = val_dataset.generate(\n",
        "                 batch_size=test_size,\n",
        "                 train=False,\n",
        "                 ssd_box_encoder=ssd_box_encoder,\n",
        "                 equalize=False,\n",
        "                 brightness=False,\n",
        "                 flip=False,\n",
        "                 translate=False,\n",
        "                 scale=False,\n",
        "                 crop=False,\n",
        "                 #random_crop = (img_height,img_width,1,3), \n",
        "                 random_crop=False, \n",
        "                 resize=(img_height, img_width), \n",
        "                 #resize=False,\n",
        "                 gray=False,\n",
        "                 limit_boxes=True,\n",
        "                 include_thresh=0.4,\n",
        "                 diagnostics=False)\n",
        "\n",
        "print (colored(\"done.\", \"green\"))\n",
        "\n",
        "print (colored(\"now predicting...\", \"yellow\"))\n",
        "\n",
        "_CONF = 0.60 \n",
        "_IOU = 0.15\n",
        "\n",
        "for i in range(test_size):\n",
        "    X, y, filenames = next(test_generator)\n",
        "\n",
        "    y_pred = model.predict(X)\n",
        "    y_pred_decoded = decode_y2(y_pred,\n",
        "                             confidence_thresh=_CONF,\n",
        "                            iou_threshold=_IOU,\n",
        "                            top_k='all',\n",
        "                            input_coords=coords,\n",
        "                            normalize_coords=normalize_coords,\n",
        "                            img_height=img_height,\n",
        "                            img_width=img_width)\n",
        "\n",
        "\n",
        "    np.set_printoptions(suppress=True)\n",
        "\n",
        "    save_bb(\"./output_test/\", filenames[i], y_pred_decoded[i])\n",
        "    save_bb(\"./output_test/\", filenames[i], y[i], prediction=False)\n"
      ],
      "execution_count": 0,
      "outputs": []
    },
    {
      "metadata": {
        "id": "qLKgtPCJwena",
        "colab_type": "text"
      },
      "cell_type": "markdown",
      "source": [
        "In the above step all the test images along with predictions are stored in output_test folder in this notebook environment. You can check the folder in Files section of the menu to left-side of screen in colab.\n",
        "\n",
        "Each test image is used for predictions and is stored as 2 files.\n",
        "\n",
        "one file is the original ground truth with <filename_gt.jpg>\n",
        "second file is the prediction of the model on the image. with <filename.jpg>"
      ]
    },
    {
      "metadata": {
        "id": "TFzb3Vj9kDGH",
        "colab_type": "text"
      },
      "cell_type": "markdown",
      "source": [
        "### Visualize a test image to check predictions\n",
        "\n",
        "\n",
        "#### Write code to show images: Using cv2.imshow() or matplotlib show any 3 test images and their predictions."
      ]
    },
    {
      "metadata": {
        "id": "zA1lMnX4-edG",
        "colab_type": "code",
        "colab": {}
      },
      "cell_type": "code",
      "source": [
        ""
      ],
      "execution_count": 0,
      "outputs": []
    }
  ]
}