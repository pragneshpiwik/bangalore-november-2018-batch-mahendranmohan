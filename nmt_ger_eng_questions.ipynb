{
  "nbformat": 4,
  "nbformat_minor": 0,
  "metadata": {
    "colab": {
      "name": "nmt_ger-eng_questions.ipynb",
      "version": "0.3.2",
      "provenance": [],
      "collapsed_sections": []
    },
    "language_info": {
      "codemirror_mode": {
        "name": "ipython",
        "version": 3
      },
      "file_extension": ".py",
      "mimetype": "text/x-python",
      "name": "python",
      "nbconvert_exporter": "python",
      "pygments_lexer": "ipython3",
      "version": "3.7.1"
    },
    "kernelspec": {
      "display_name": "Python 3",
      "language": "python",
      "name": "python3"
    },
    "accelerator": "GPU"
  },
  "cells": [
    {
      "cell_type": "markdown",
      "metadata": {
        "colab_type": "text",
        "id": "ueeUkE9Pvs91"
      },
      "source": [
        "# Neural Machine Translation\n",
        "\n",
        "- Translate a given sentence in one language to another desired language.\n",
        "\n",
        "#### In this notebook, we aim to build a model which can translate German sentences to English."
      ]
    },
    {
      "cell_type": "markdown",
      "metadata": {
        "colab_type": "text",
        "id": "HphxvZ0fv_kr"
      },
      "source": [
        "## Dataset\n",
        "\n",
        "Dataset is taken from http://www.manythings.org/anki/.\n",
        "\n",
        "We are considering German – English deu-eng.zip file from the above mentioned website.\n",
        "\n",
        "In the above zip file there is a file with name **`deu.txt`** that contains **152,820** pairs of English to German phrases, one pair per line with a tab separating the phrases.\n",
        "\n",
        "\n",
        "For example,\n",
        "\n",
        "The first 5 lines in deu.txt are as given below.\n",
        "\n",
        "***\n",
        "```\n",
        "Hi.    Hallo!\n",
        "Hi.    Grüß Gott!\n",
        "Run!    Lauf!\n",
        "Wow!    Potzdonner!\n",
        "Wow!    Donnerwetter!\n",
        "```\n",
        "***\n"
      ]
    },
    {
      "cell_type": "markdown",
      "metadata": {
        "colab_type": "text",
        "id": "KzhjY_3MxlCT"
      },
      "source": [
        "## Problem\n",
        "\n",
        "### Given a sequence of words in German as input, predict the sequence of words in English."
      ]
    },
    {
      "cell_type": "markdown",
      "metadata": {
        "colab_type": "text",
        "id": "STq1sKSHywCQ"
      },
      "source": [
        "### 1. Prepare Data\n",
        "\n",
        "\n",
        "The preprocessing of the data involves:\n",
        "\n",
        "1. Removing punctuation marks from the data.\n",
        "\n",
        "2. Converting text corpus into lower case characters.\n",
        "\n",
        "3. Split into Train and Test sets.\n",
        "\n",
        "4. Shuffling the sentences.\n",
        "\n",
        "\n",
        "\n",
        "The above tasks are done  and full dataset is given as **``english-german-both.pkl``** respectively.\n",
        "\n",
        "Download dataset files from here: https://drive.google.com/open?id=1gWVk7SuuE93Cf_nT9Lb7GBCiwfAgdBiX\n",
        "\n",
        "\n"
      ]
    },
    {
      "cell_type": "markdown",
      "metadata": {
        "colab_type": "text",
        "id": "x9JDfVgWosMJ"
      },
      "source": [
        "# Character level Machine Translation"
      ]
    },
    {
      "cell_type": "markdown",
      "metadata": {
        "id": "sP4P2nnAXD5G",
        "colab_type": "text"
      },
      "source": [
        "## Initialize parameters\n",
        "Run the below code to initialize the variables required for the model."
      ]
    },
    {
      "cell_type": "code",
      "metadata": {
        "colab_type": "code",
        "id": "4jRTxBQ9owHH",
        "colab": {}
      },
      "source": [
        "batch_size = 64  # Batch size for training.\n",
        "epochs = 10  # Number of epochs to train for.\n",
        "latent_dim = 256  # Latent dimensionality of the encoding space.\n",
        "num_samples = 10000  # Number of samples to train on.\n",
        "# Path to the data txt file on disk.\n",
        "data_path = 'fra.txt'"
      ],
      "execution_count": 0,
      "outputs": []
    },
    {
      "cell_type": "markdown",
      "metadata": {
        "colab_type": "text",
        "id": "0N1Q-zzUJtO0"
      },
      "source": [
        "### Connect to google drive"
      ]
    },
    {
      "cell_type": "code",
      "metadata": {
        "colab_type": "code",
        "id": "SEtf-c5Fo7eF",
        "colab": {
          "base_uri": "https://localhost:8080/",
          "height": 34
        },
        "outputId": "be726c44-6407-4cbf-e7e3-07cfaca7e2d0"
      },
      "source": [
        "from google.colab import drive\n",
        "drive.mount('/content/drive/')"
      ],
      "execution_count": 17,
      "outputs": [
        {
          "output_type": "stream",
          "text": [
            "Drive already mounted at /content/drive/; to attempt to forcibly remount, call drive.mount(\"/content/drive/\", force_remount=True).\n"
          ],
          "name": "stdout"
        }
      ]
    },
    {
      "cell_type": "markdown",
      "metadata": {
        "colab_type": "text",
        "id": "Mv0XAJSZJyOl"
      },
      "source": [
        "### Give the path for the folder in which the dataset is present in google drive"
      ]
    },
    {
      "cell_type": "code",
      "metadata": {
        "colab_type": "code",
        "id": "fXQOArlSo8SX",
        "colab": {}
      },
      "source": [
        "project_path = \"/content/drive/My Drive/Colab Notebooks/Internal_Lab_Residency_10_NLP/\""
      ],
      "execution_count": 0,
      "outputs": []
    },
    {
      "cell_type": "markdown",
      "metadata": {
        "id": "SoEhVDh3qfuj",
        "colab_type": "text"
      },
      "source": [
        "### Change present working directory"
      ]
    },
    {
      "cell_type": "code",
      "metadata": {
        "id": "g-plftRTqlgB",
        "colab_type": "code",
        "colab": {}
      },
      "source": [
        "import os\n",
        "os.chdir(project_path)"
      ],
      "execution_count": 0,
      "outputs": []
    },
    {
      "cell_type": "markdown",
      "metadata": {
        "colab_type": "text",
        "id": "GkAdNgJrKDvK"
      },
      "source": [
        "## Load the pickle file (`english-german-both.pkl`) into a variable with name `dataset`\n",
        "Run the below code to load the .pkl file."
      ]
    },
    {
      "cell_type": "code",
      "metadata": {
        "colab_type": "code",
        "id": "a8fpd1Lxo8VH",
        "colab": {}
      },
      "source": [
        "import pickle\n",
        "\n",
        "with open(project_path + 'english-german-both.pkl', 'rb') as f:\n",
        "  dataset = pickle.load(f)"
      ],
      "execution_count": 0,
      "outputs": []
    },
    {
      "cell_type": "markdown",
      "metadata": {
        "colab_type": "text",
        "id": "9pkL351SKaWb"
      },
      "source": [
        "## Check the `dataset` variable at this step. It should be as given below"
      ]
    },
    {
      "cell_type": "code",
      "metadata": {
        "colab_type": "code",
        "id": "D6kEL_65KmHe",
        "colab": {
          "base_uri": "https://localhost:8080/",
          "height": 134
        },
        "outputId": "957753bd-c94f-4174-e35e-ad6e75b9c149"
      },
      "source": [
        "dataset"
      ],
      "execution_count": 21,
      "outputs": [
        {
          "output_type": "execute_result",
          "data": {
            "text/plain": [
              "array([['stay with us', 'bleib bei uns'],\n",
              "       ['she wants him', 'sie will ihn'],\n",
              "       ['youre strong', 'du bist stark'],\n",
              "       ...,\n",
              "       ['i thought so', 'das dachte ich mir'],\n",
              "       ['keep warm', 'haltet euch warm'],\n",
              "       ['im sick', 'ich bin krank']], dtype='<U291')"
            ]
          },
          "metadata": {
            "tags": []
          },
          "execution_count": 21
        }
      ]
    },
    {
      "cell_type": "markdown",
      "metadata": {
        "colab_type": "text",
        "id": "uQ270GmwK2Qt"
      },
      "source": [
        "## Feature set and target set division from the **dataset**\n",
        "\n",
        "### Run the below code to divide the dataset into feature set(input) and target set(output). \n",
        "\n",
        "1. We are creating two lists for storing input sentences and output sentences separately. \n",
        "2. We are storing each character in a list from both input and target sets separately. \n",
        "3. Print and check `input_texts` and `target_texts`.\n",
        "4. Print and check `input_characters` and `target_characters`."
      ]
    },
    {
      "cell_type": "code",
      "metadata": {
        "colab_type": "code",
        "id": "fJ95hstto8Xy",
        "colab": {}
      },
      "source": [
        "# Vectorize the data.\n",
        "input_texts = []\n",
        "target_texts = []\n",
        "input_characters = set()\n",
        "target_characters = set()\n",
        "\n",
        "for line in dataset[: min(num_samples, len(dataset) - 1)]:\n",
        "    input_text, target_text = line[0], line[1]\n",
        "    # We use \"tab\" as the \"start sequence\" character\n",
        "    # for the targets, and \"\\n\" as \"end sequence\" character.\n",
        "    target_text = '\\t' + target_text + '\\n'\n",
        "    input_texts.append(input_text)\n",
        "    target_texts.append(target_text)\n",
        "    for char in input_text:\n",
        "        if char not in input_characters:\n",
        "            input_characters.add(char)\n",
        "    for char in target_text:\n",
        "        if char not in target_characters:\n",
        "            target_characters.add(char)"
      ],
      "execution_count": 0,
      "outputs": []
    },
    {
      "cell_type": "code",
      "metadata": {
        "id": "sGnIrK_98Bps",
        "colab_type": "code",
        "colab": {}
      },
      "source": [
        "input_characters = sorted(list(input_characters))\n",
        "target_characters = sorted(list(target_characters))\n",
        "num_encoder_tokens = len(input_characters)\n",
        "num_decoder_tokens = len(target_characters)\n",
        "max_encoder_seq_length = max([len(txt) for txt in input_texts])\n",
        "max_decoder_seq_length = max([len(txt) for txt in target_texts])"
      ],
      "execution_count": 0,
      "outputs": []
    },
    {
      "cell_type": "markdown",
      "metadata": {
        "id": "wwWZMeVjlPjB",
        "colab_type": "text"
      },
      "source": [
        "### Print input text"
      ]
    },
    {
      "cell_type": "code",
      "metadata": {
        "colab_type": "code",
        "id": "S-1OyZSULuJY",
        "colab": {
          "base_uri": "https://localhost:8080/",
          "height": 50
        },
        "outputId": "3cc22255-7451-4d10-b6ba-70548f1357f8"
      },
      "source": [
        "print('Number of samples:', len(input_texts))\n",
        "print(input_texts[1:5])\n"
      ],
      "execution_count": 24,
      "outputs": [
        {
          "output_type": "stream",
          "text": [
            "Number of samples: 9999\n",
            "['she wants him', 'youre strong', 'examine this', 'heres my card']\n"
          ],
          "name": "stdout"
        }
      ]
    },
    {
      "cell_type": "markdown",
      "metadata": {
        "id": "fo7Mno1JlVWP",
        "colab_type": "text"
      },
      "source": [
        "### Print target text"
      ]
    },
    {
      "cell_type": "code",
      "metadata": {
        "colab_type": "code",
        "id": "_pnLXkk8LzBx",
        "colab": {
          "base_uri": "https://localhost:8080/",
          "height": 50
        },
        "outputId": "19582917-c947-40aa-feeb-046788cbac58"
      },
      "source": [
        "print('Number of samples:', len(target_texts))\n",
        "print(target_texts[1:5])"
      ],
      "execution_count": 25,
      "outputs": [
        {
          "output_type": "stream",
          "text": [
            "Number of samples: 9999\n",
            "['\\tsie will ihn\\n', '\\tdu bist stark\\n', '\\tuntersuchen sie das\\n', '\\thier ist meine karte\\n']\n"
          ],
          "name": "stdout"
        }
      ]
    },
    {
      "cell_type": "markdown",
      "metadata": {
        "id": "u7IhmN_hlb1K",
        "colab_type": "text"
      },
      "source": [
        "### Print input character"
      ]
    },
    {
      "cell_type": "code",
      "metadata": {
        "colab_type": "code",
        "id": "9az5VYFjNe7I",
        "colab": {
          "base_uri": "https://localhost:8080/",
          "height": 50
        },
        "outputId": "df7e3ae8-3702-41e7-bcda-529b91abf717"
      },
      "source": [
        "\n",
        "print('Number of samples:', len(input_characters))\n",
        "print(input_characters[1:5])"
      ],
      "execution_count": 26,
      "outputs": [
        {
          "output_type": "stream",
          "text": [
            "Number of samples: 27\n",
            "['a', 'b', 'c', 'd']\n"
          ],
          "name": "stdout"
        }
      ]
    },
    {
      "cell_type": "markdown",
      "metadata": {
        "id": "CX30Y8dZlfGQ",
        "colab_type": "text"
      },
      "source": [
        "### Print target character"
      ]
    },
    {
      "cell_type": "code",
      "metadata": {
        "colab_type": "code",
        "id": "kxg3509lNjnU",
        "colab": {
          "base_uri": "https://localhost:8080/",
          "height": 50
        },
        "outputId": "6579e711-2040-48e9-c937-caf33c0dc6d8"
      },
      "source": [
        "\n",
        "print('Number of samples:', len(target_characters))\n",
        "print(target_characters[1:5])"
      ],
      "execution_count": 27,
      "outputs": [
        {
          "output_type": "stream",
          "text": [
            "Number of samples: 29\n",
            "['\\n', ' ', 'a', 'b']\n"
          ],
          "name": "stdout"
        }
      ]
    },
    {
      "cell_type": "markdown",
      "metadata": {
        "colab_type": "text",
        "id": "Dw10uDT3Oc1N"
      },
      "source": [
        "## Stats from the dataset\n",
        "\n",
        "### Run the below code to check the stats from the dataset"
      ]
    },
    {
      "cell_type": "code",
      "metadata": {
        "colab_type": "code",
        "id": "T4stnzMpo8ci",
        "colab": {}
      },
      "source": [
        "input_characters = sorted(list(input_characters))\n",
        "target_characters = sorted(list(target_characters))\n",
        "num_encoder_tokens = len(input_characters)\n",
        "num_decoder_tokens = len(target_characters)\n",
        "max_encoder_seq_length = max([len(txt) for txt in input_texts])\n",
        "max_decoder_seq_length = max([len(txt) for txt in target_texts])"
      ],
      "execution_count": 0,
      "outputs": []
    },
    {
      "cell_type": "code",
      "metadata": {
        "colab_type": "code",
        "id": "VfbreAAUo8e6",
        "colab": {
          "base_uri": "https://localhost:8080/",
          "height": 101
        },
        "outputId": "c6e6dafd-b97e-4b80-8155-13704382a16d"
      },
      "source": [
        "print('Number of samples:', len(input_texts))\n",
        "print('Number of unique input tokens:', num_encoder_tokens)\n",
        "print('Number of unique output tokens:', num_decoder_tokens)\n",
        "print('Max sequence length for inputs:', max_encoder_seq_length)\n",
        "print('Max sequence length for outputs:', max_decoder_seq_length)"
      ],
      "execution_count": 29,
      "outputs": [
        {
          "output_type": "stream",
          "text": [
            "Number of samples: 9999\n",
            "Number of unique input tokens: 27\n",
            "Number of unique output tokens: 29\n",
            "Max sequence length for inputs: 15\n",
            "Max sequence length for outputs: 51\n"
          ],
          "name": "stdout"
        }
      ]
    },
    {
      "cell_type": "markdown",
      "metadata": {
        "colab_type": "text",
        "id": "mVuwMY0UTVKD"
      },
      "source": [
        "## Build character to index dictionary names `input_token_index` and `target_token_index` for input and target sets respectively."
      ]
    },
    {
      "cell_type": "code",
      "metadata": {
        "colab_type": "code",
        "id": "QYXSW9zOo8hl",
        "colab": {}
      },
      "source": [
        "input_token_index = dict(\n",
        "    [(char, i) for i, char in enumerate(input_characters)])\n",
        "target_token_index = dict(\n",
        "    [(char, i) for i, char in enumerate(target_characters)])"
      ],
      "execution_count": 0,
      "outputs": []
    },
    {
      "cell_type": "markdown",
      "metadata": {
        "id": "9aUS5gEamGiC",
        "colab_type": "text"
      },
      "source": [
        "### Print input_index_token"
      ]
    },
    {
      "cell_type": "code",
      "metadata": {
        "colab_type": "code",
        "id": "__ga4KfKTijk",
        "colab": {
          "base_uri": "https://localhost:8080/",
          "height": 470
        },
        "outputId": "9dbb2261-9513-4068-83a3-aefe545c452d"
      },
      "source": [
        "input_token_index"
      ],
      "execution_count": 31,
      "outputs": [
        {
          "output_type": "execute_result",
          "data": {
            "text/plain": [
              "{' ': 0,\n",
              " 'a': 1,\n",
              " 'b': 2,\n",
              " 'c': 3,\n",
              " 'd': 4,\n",
              " 'e': 5,\n",
              " 'f': 6,\n",
              " 'g': 7,\n",
              " 'h': 8,\n",
              " 'i': 9,\n",
              " 'j': 10,\n",
              " 'k': 11,\n",
              " 'l': 12,\n",
              " 'm': 13,\n",
              " 'n': 14,\n",
              " 'o': 15,\n",
              " 'p': 16,\n",
              " 'q': 17,\n",
              " 'r': 18,\n",
              " 's': 19,\n",
              " 't': 20,\n",
              " 'u': 21,\n",
              " 'v': 22,\n",
              " 'w': 23,\n",
              " 'x': 24,\n",
              " 'y': 25,\n",
              " 'z': 26}"
            ]
          },
          "metadata": {
            "tags": []
          },
          "execution_count": 31
        }
      ]
    },
    {
      "cell_type": "markdown",
      "metadata": {
        "id": "zGs66ZhjmNBA",
        "colab_type": "text"
      },
      "source": [
        "### Print target_token_index"
      ]
    },
    {
      "cell_type": "code",
      "metadata": {
        "colab_type": "code",
        "id": "Sa3DArDrTm1z",
        "colab": {
          "base_uri": "https://localhost:8080/",
          "height": 504
        },
        "outputId": "1517d961-a6a1-428b-f1c0-90ce78bb4d54"
      },
      "source": [
        "target_token_index"
      ],
      "execution_count": 32,
      "outputs": [
        {
          "output_type": "execute_result",
          "data": {
            "text/plain": [
              "{'\\t': 0,\n",
              " '\\n': 1,\n",
              " ' ': 2,\n",
              " 'a': 3,\n",
              " 'b': 4,\n",
              " 'c': 5,\n",
              " 'd': 6,\n",
              " 'e': 7,\n",
              " 'f': 8,\n",
              " 'g': 9,\n",
              " 'h': 10,\n",
              " 'i': 11,\n",
              " 'j': 12,\n",
              " 'k': 13,\n",
              " 'l': 14,\n",
              " 'm': 15,\n",
              " 'n': 16,\n",
              " 'o': 17,\n",
              " 'p': 18,\n",
              " 'q': 19,\n",
              " 'r': 20,\n",
              " 's': 21,\n",
              " 't': 22,\n",
              " 'u': 23,\n",
              " 'v': 24,\n",
              " 'w': 25,\n",
              " 'x': 26,\n",
              " 'y': 27,\n",
              " 'z': 28}"
            ]
          },
          "metadata": {
            "tags": []
          },
          "execution_count": 32
        }
      ]
    },
    {
      "cell_type": "markdown",
      "metadata": {
        "colab_type": "text",
        "id": "UB7uI724TrlM"
      },
      "source": [
        "## Build Model\n",
        "Initialize the required layers from keras\n",
        "\n",
        "### Import libraries"
      ]
    },
    {
      "cell_type": "code",
      "metadata": {
        "colab_type": "code",
        "id": "T1GuGnDiqOz3",
        "colab": {
          "base_uri": "https://localhost:8080/",
          "height": 34
        },
        "outputId": "57c311b4-c019-42e0-8cb8-b4eb3bc148ee"
      },
      "source": [
        "from __future__ import print_function\n",
        "\n",
        "from keras.models import Model\n",
        "from keras.layers import Input, LSTM, Dense\n",
        "import numpy as np"
      ],
      "execution_count": 33,
      "outputs": [
        {
          "output_type": "stream",
          "text": [
            "Using TensorFlow backend.\n"
          ],
          "name": "stderr"
        }
      ]
    },
    {
      "cell_type": "markdown",
      "metadata": {
        "colab_type": "text",
        "id": "3q9GVu-pT9UR"
      },
      "source": [
        "### Run the below code to build one-hot vectors for the characters"
      ]
    },
    {
      "cell_type": "code",
      "metadata": {
        "colab_type": "code",
        "id": "uatzEBy5qIpI",
        "colab": {}
      },
      "source": [
        "encoder_input_data = np.zeros(\n",
        "    (len(input_texts), max_encoder_seq_length, num_encoder_tokens),\n",
        "    dtype='float32')\n",
        "decoder_input_data = np.zeros(\n",
        "    (len(input_texts), max_decoder_seq_length, num_decoder_tokens),\n",
        "    dtype='float32')\n",
        "decoder_target_data = np.zeros(\n",
        "    (len(input_texts), max_decoder_seq_length, num_decoder_tokens),\n",
        "    dtype='float32')"
      ],
      "execution_count": 0,
      "outputs": []
    },
    {
      "cell_type": "code",
      "metadata": {
        "colab_type": "code",
        "id": "MDGoIZXuqLF7",
        "colab": {}
      },
      "source": [
        "for i, (input_text, target_text) in enumerate(zip(input_texts, target_texts)):\n",
        "    for t, char in enumerate(input_text):\n",
        "        encoder_input_data[i, t, input_token_index[char]] = 1.\n",
        "    for t, char in enumerate(target_text):\n",
        "        # decoder_target_data is ahead of decoder_input_data by one timestep\n",
        "        decoder_input_data[i, t, target_token_index[char]] = 1.\n",
        "        if t > 0:\n",
        "            # decoder_target_data will be ahead by one timestep\n",
        "            # and will not include the start character.\n",
        "            decoder_target_data[i, t - 1, target_token_index[char]] = 1."
      ],
      "execution_count": 0,
      "outputs": []
    },
    {
      "cell_type": "markdown",
      "metadata": {
        "colab_type": "text",
        "id": "i0ihyyfeW7le"
      },
      "source": [
        "### Build the encoder Model\n",
        "\n",
        "Define an input sequence and process it.\n",
        "\n",
        "Discard `encoder_outputs` and only keep the states."
      ]
    },
    {
      "cell_type": "code",
      "metadata": {
        "colab_type": "code",
        "id": "CQU4zjxdqXnG",
        "colab": {
          "base_uri": "https://localhost:8080/",
          "height": 154
        },
        "outputId": "19217b2a-c261-4367-aab8-fec4f60941c0"
      },
      "source": [
        "# Define an input sequence and process it.\n",
        "encoder_inputs = Input(shape=(None, num_encoder_tokens))\n",
        "encoder = LSTM(latent_dim, return_state=True)\n",
        "encoder_outputs, state_h, state_c = encoder(encoder_inputs)\n",
        "# We discard `encoder_outputs` and only keep the states.\n",
        "encoder_states = [state_h, state_c]\n",
        "encoder_model = Model(encoder_inputs, encoder_states)"
      ],
      "execution_count": 36,
      "outputs": [
        {
          "output_type": "stream",
          "text": [
            "WARNING: Logging before flag parsing goes to stderr.\n",
            "W0811 09:15:14.093592 140404368062336 deprecation_wrapper.py:119] From /usr/local/lib/python3.6/dist-packages/keras/backend/tensorflow_backend.py:74: The name tf.get_default_graph is deprecated. Please use tf.compat.v1.get_default_graph instead.\n",
            "\n",
            "W0811 09:15:14.137633 140404368062336 deprecation_wrapper.py:119] From /usr/local/lib/python3.6/dist-packages/keras/backend/tensorflow_backend.py:517: The name tf.placeholder is deprecated. Please use tf.compat.v1.placeholder instead.\n",
            "\n",
            "W0811 09:15:14.145169 140404368062336 deprecation_wrapper.py:119] From /usr/local/lib/python3.6/dist-packages/keras/backend/tensorflow_backend.py:4138: The name tf.random_uniform is deprecated. Please use tf.random.uniform instead.\n",
            "\n"
          ],
          "name": "stderr"
        }
      ]
    },
    {
      "cell_type": "markdown",
      "metadata": {
        "colab_type": "text",
        "id": "X3PzX5oBXfGW"
      },
      "source": [
        "### Build the decoder Model\n",
        "\n",
        "Set up the decoder, using `encoder_states` as initial state.\n",
        "\n",
        "We set up our decoder to return full output sequences, and to return internal states as well. We don't use the return states in the training model, but we will use them in inference."
      ]
    },
    {
      "cell_type": "code",
      "metadata": {
        "colab_type": "code",
        "id": "ytn5MNCjqZuc",
        "colab": {}
      },
      "source": [
        "\n",
        "# Set up the decoder, using `encoder_states` as initial state.\n",
        "decoder_inputs = Input(shape=(None, num_decoder_tokens))\n",
        "# We set up our decoder to return full output sequences,\n",
        "# and to return internal states as well. We don't use the\n",
        "# return states in the training model, but we will use them in inference.\n",
        "decoder_lstm = LSTM(latent_dim, return_sequences=True, return_state=True)\n",
        "decoder_outputs, _, _ = decoder_lstm(decoder_inputs,\n",
        "                                     initial_state=encoder_states)\n",
        "decoder_dense = Dense(num_decoder_tokens, activation='softmax')\n",
        "decoder_outputs = decoder_dense(decoder_outputs)"
      ],
      "execution_count": 0,
      "outputs": []
    },
    {
      "cell_type": "markdown",
      "metadata": {
        "id": "XpJnlQgvn8vN",
        "colab_type": "text"
      },
      "source": [
        "### Define Model\n",
        "\n",
        "Define the model that will turn `encoder_input_data ` & ` decoder_input_data` into `decoder_target_data`"
      ]
    },
    {
      "cell_type": "code",
      "metadata": {
        "colab_type": "code",
        "id": "E24IW9wIqcYq",
        "colab": {}
      },
      "source": [
        "# Define the model that will turn\n",
        "# `encoder_input_data` & `decoder_input_data` into `decoder_target_data`\n",
        "model = Model([encoder_inputs, decoder_inputs], decoder_outputs)"
      ],
      "execution_count": 0,
      "outputs": []
    },
    {
      "cell_type": "markdown",
      "metadata": {
        "colab_type": "text",
        "id": "qvawc6CfXkzG"
      },
      "source": [
        "### Compile and fit the model"
      ]
    },
    {
      "cell_type": "code",
      "metadata": {
        "colab_type": "code",
        "id": "vhXLFmApqeU4",
        "colab": {
          "base_uri": "https://localhost:8080/",
          "height": 1000
        },
        "outputId": "67cf97c0-3e3b-4dcf-9ab8-de49016c7bc4"
      },
      "source": [
        "# Run training\n",
        "model.compile(optimizer='rmsprop', loss='categorical_crossentropy')\n",
        "model.fit([encoder_input_data, decoder_input_data], decoder_target_data,\n",
        "          batch_size=batch_size,\n",
        "          epochs=30,\n",
        "          validation_split=0.2)\n",
        "# Save model\n",
        "model.save('s2s.h5')"
      ],
      "execution_count": 39,
      "outputs": [
        {
          "output_type": "stream",
          "text": [
            "W0811 09:16:12.903545 140404368062336 deprecation_wrapper.py:119] From /usr/local/lib/python3.6/dist-packages/keras/optimizers.py:790: The name tf.train.Optimizer is deprecated. Please use tf.compat.v1.train.Optimizer instead.\n",
            "\n",
            "W0811 09:16:12.939090 140404368062336 deprecation_wrapper.py:119] From /usr/local/lib/python3.6/dist-packages/keras/backend/tensorflow_backend.py:3295: The name tf.log is deprecated. Please use tf.math.log instead.\n",
            "\n",
            "W0811 09:16:13.076330 140404368062336 deprecation.py:323] From /usr/local/lib/python3.6/dist-packages/tensorflow/python/ops/math_grad.py:1250: add_dispatch_support.<locals>.wrapper (from tensorflow.python.ops.array_ops) is deprecated and will be removed in a future version.\n",
            "Instructions for updating:\n",
            "Use tf.where in 2.0, which has the same broadcast rule as np.where\n",
            "W0811 09:16:14.231928 140404368062336 deprecation_wrapper.py:119] From /usr/local/lib/python3.6/dist-packages/keras/backend/tensorflow_backend.py:986: The name tf.assign_add is deprecated. Please use tf.compat.v1.assign_add instead.\n",
            "\n"
          ],
          "name": "stderr"
        },
        {
          "output_type": "stream",
          "text": [
            "Train on 7999 samples, validate on 2000 samples\n",
            "Epoch 1/30\n",
            "7999/7999 [==============================] - 15s 2ms/step - loss: 0.9605 - val_loss: 0.8110\n",
            "Epoch 2/30\n",
            "7999/7999 [==============================] - 11s 1ms/step - loss: 0.7429 - val_loss: 0.6636\n",
            "Epoch 3/30\n",
            "7999/7999 [==============================] - 11s 1ms/step - loss: 0.6439 - val_loss: 0.6052\n",
            "Epoch 4/30\n",
            "7999/7999 [==============================] - 11s 1ms/step - loss: 0.5901 - val_loss: 0.5623\n",
            "Epoch 5/30\n",
            "7999/7999 [==============================] - 11s 1ms/step - loss: 0.5514 - val_loss: 0.5291\n",
            "Epoch 6/30\n",
            "7999/7999 [==============================] - 11s 1ms/step - loss: 0.5210 - val_loss: 0.5060\n",
            "Epoch 7/30\n",
            "7999/7999 [==============================] - 11s 1ms/step - loss: 0.4957 - val_loss: 0.4865\n",
            "Epoch 8/30\n",
            "7999/7999 [==============================] - 11s 1ms/step - loss: 0.4746 - val_loss: 0.4732\n",
            "Epoch 9/30\n",
            "7999/7999 [==============================] - 11s 1ms/step - loss: 0.4555 - val_loss: 0.4566\n",
            "Epoch 10/30\n",
            "7999/7999 [==============================] - 11s 1ms/step - loss: 0.4391 - val_loss: 0.4418\n",
            "Epoch 11/30\n",
            "7999/7999 [==============================] - 11s 1ms/step - loss: 0.4237 - val_loss: 0.4341\n",
            "Epoch 12/30\n",
            "7999/7999 [==============================] - 11s 1ms/step - loss: 0.4099 - val_loss: 0.4245\n",
            "Epoch 13/30\n",
            "7999/7999 [==============================] - 11s 1ms/step - loss: 0.3969 - val_loss: 0.4170\n",
            "Epoch 14/30\n",
            "7999/7999 [==============================] - 11s 1ms/step - loss: 0.3838 - val_loss: 0.4115\n",
            "Epoch 15/30\n",
            "7999/7999 [==============================] - 11s 1ms/step - loss: 0.3719 - val_loss: 0.4039\n",
            "Epoch 16/30\n",
            "7999/7999 [==============================] - 11s 1ms/step - loss: 0.3607 - val_loss: 0.3995\n",
            "Epoch 17/30\n",
            "7999/7999 [==============================] - 11s 1ms/step - loss: 0.3501 - val_loss: 0.3921\n",
            "Epoch 18/30\n",
            "7999/7999 [==============================] - 11s 1ms/step - loss: 0.3399 - val_loss: 0.3893\n",
            "Epoch 19/30\n",
            "7999/7999 [==============================] - 11s 1ms/step - loss: 0.3298 - val_loss: 0.3864\n",
            "Epoch 20/30\n",
            "7999/7999 [==============================] - 11s 1ms/step - loss: 0.3208 - val_loss: 0.3824\n",
            "Epoch 21/30\n",
            "7999/7999 [==============================] - 11s 1ms/step - loss: 0.3114 - val_loss: 0.3798\n",
            "Epoch 22/30\n",
            "7999/7999 [==============================] - 11s 1ms/step - loss: 0.3023 - val_loss: 0.3819\n",
            "Epoch 23/30\n",
            "7999/7999 [==============================] - 11s 1ms/step - loss: 0.2942 - val_loss: 0.3774\n",
            "Epoch 24/30\n",
            "7999/7999 [==============================] - 11s 1ms/step - loss: 0.2860 - val_loss: 0.3743\n",
            "Epoch 25/30\n",
            "7999/7999 [==============================] - 11s 1ms/step - loss: 0.2780 - val_loss: 0.3752\n",
            "Epoch 26/30\n",
            "7999/7999 [==============================] - 11s 1ms/step - loss: 0.2704 - val_loss: 0.3763\n",
            "Epoch 27/30\n",
            "7999/7999 [==============================] - 11s 1ms/step - loss: 0.2630 - val_loss: 0.3741\n",
            "Epoch 28/30\n",
            "7999/7999 [==============================] - 11s 1ms/step - loss: 0.2555 - val_loss: 0.3756\n",
            "Epoch 29/30\n",
            "7999/7999 [==============================] - 11s 1ms/step - loss: 0.2491 - val_loss: 0.3756\n",
            "Epoch 30/30\n",
            "7999/7999 [==============================] - 11s 1ms/step - loss: 0.2422 - val_loss: 0.3792\n"
          ],
          "name": "stdout"
        },
        {
          "output_type": "stream",
          "text": [
            "/usr/local/lib/python3.6/dist-packages/keras/engine/network.py:877: UserWarning: Layer lstm_2 was passed non-serializable keyword arguments: {'initial_state': [<tf.Tensor 'lstm_1/while/Exit_2:0' shape=(?, 256) dtype=float32>, <tf.Tensor 'lstm_1/while/Exit_3:0' shape=(?, 256) dtype=float32>]}. They will not be included in the serialized model (and thus will be missing at deserialization time).\n",
            "  '. They will not be included '\n"
          ],
          "name": "stderr"
        }
      ]
    },
    {
      "cell_type": "markdown",
      "metadata": {
        "id": "7o4khltlof6H",
        "colab_type": "text"
      },
      "source": [
        "### Save the model"
      ]
    },
    {
      "cell_type": "code",
      "metadata": {
        "id": "nVgGMc5Lojmo",
        "colab_type": "code",
        "colab": {
          "base_uri": "https://localhost:8080/",
          "height": 70
        },
        "outputId": "a4771dcf-5d60-415f-d0cb-25bfb3e71558"
      },
      "source": [
        "# Save model\n",
        "model.save('s2s.h5')"
      ],
      "execution_count": 40,
      "outputs": [
        {
          "output_type": "stream",
          "text": [
            "/usr/local/lib/python3.6/dist-packages/keras/engine/network.py:877: UserWarning: Layer lstm_2 was passed non-serializable keyword arguments: {'initial_state': [<tf.Tensor 'lstm_1/while/Exit_2:0' shape=(?, 256) dtype=float32>, <tf.Tensor 'lstm_1/while/Exit_3:0' shape=(?, 256) dtype=float32>]}. They will not be included in the serialized model (and thus will be missing at deserialization time).\n",
            "  '. They will not be included '\n"
          ],
          "name": "stderr"
        }
      ]
    },
    {
      "cell_type": "markdown",
      "metadata": {
        "colab_type": "text",
        "id": "zbLdraJ1XpsR"
      },
      "source": [
        "## Run the below code for inferencing the model"
      ]
    },
    {
      "cell_type": "code",
      "metadata": {
        "colab_type": "code",
        "id": "4O7jtJYh29uo",
        "colab": {}
      },
      "source": [
        "encoder_model = Model(encoder_inputs, encoder_states)\n",
        "\n",
        "decoder_state_input_h = Input(shape=(latent_dim,))\n",
        "decoder_state_input_c = Input(shape=(latent_dim,))\n",
        "decoder_states_inputs = [decoder_state_input_h, decoder_state_input_c]\n",
        "decoder_outputs, state_h, state_c = decoder_lstm(decoder_inputs, initial_state=decoder_states_inputs)\n",
        "decoder_states = [state_h, state_c]\n",
        "decoder_outputs = decoder_dense(decoder_outputs)\n",
        "\n",
        "decoder_model = Model(\n",
        "    [decoder_inputs] + decoder_states_inputs,\n",
        "    [decoder_outputs] + decoder_states)"
      ],
      "execution_count": 0,
      "outputs": []
    },
    {
      "cell_type": "markdown",
      "metadata": {
        "id": "scaoVQVapHLk",
        "colab_type": "text"
      },
      "source": [
        "## Reverse-lookup token index to decode sequences back to something readable."
      ]
    },
    {
      "cell_type": "code",
      "metadata": {
        "colab_type": "code",
        "id": "_3t_ntoTq0fP",
        "colab": {}
      },
      "source": [
        "# Reverse-lookup token index to decode sequences back to\n",
        "# something readable.\n",
        "reverse_input_char_index = dict(\n",
        "    (i, char) for char, i in input_token_index.items())\n",
        "reverse_target_char_index = dict(\n",
        "    (i, char) for char, i in target_token_index.items())"
      ],
      "execution_count": 0,
      "outputs": []
    },
    {
      "cell_type": "code",
      "metadata": {
        "id": "_9WAWX6ApcrG",
        "colab_type": "code",
        "colab": {
          "base_uri": "https://localhost:8080/",
          "height": 70
        },
        "outputId": "81727735-e5e9-450b-c3df-2cfaf33f08e0"
      },
      "source": [
        "print(reverse_input_char_index)\n",
        "print(reverse_target_char_index)"
      ],
      "execution_count": 43,
      "outputs": [
        {
          "output_type": "stream",
          "text": [
            "{0: ' ', 1: 'a', 2: 'b', 3: 'c', 4: 'd', 5: 'e', 6: 'f', 7: 'g', 8: 'h', 9: 'i', 10: 'j', 11: 'k', 12: 'l', 13: 'm', 14: 'n', 15: 'o', 16: 'p', 17: 'q', 18: 'r', 19: 's', 20: 't', 21: 'u', 22: 'v', 23: 'w', 24: 'x', 25: 'y', 26: 'z'}\n",
            "{0: '\\t', 1: '\\n', 2: ' ', 3: 'a', 4: 'b', 5: 'c', 6: 'd', 7: 'e', 8: 'f', 9: 'g', 10: 'h', 11: 'i', 12: 'j', 13: 'k', 14: 'l', 15: 'm', 16: 'n', 17: 'o', 18: 'p', 19: 'q', 20: 'r', 21: 's', 22: 't', 23: 'u', 24: 'v', 25: 'w', 26: 'x', 27: 'y', 28: 'z'}\n"
          ],
          "name": "stdout"
        }
      ]
    },
    {
      "cell_type": "code",
      "metadata": {
        "colab_type": "code",
        "id": "FYJkd_AZq0iI",
        "colab": {}
      },
      "source": [
        "def decode_sequence(input_seq):\n",
        "    # Encode the input as state vectors.\n",
        "    states_value = encoder_model.predict(input_seq)\n",
        "\n",
        "    # Generate empty target sequence of length 1.\n",
        "    target_seq = np.zeros((1, 1, num_decoder_tokens))\n",
        "    # Populate the first character of target sequence with the start character.\n",
        "    target_seq[0, 0, target_token_index['\\t']] = 1.\n",
        "\n",
        "    # Sampling loop for a batch of sequences\n",
        "    # (to simplify, here we assume a batch of size 1).\n",
        "    stop_condition = False\n",
        "    decoded_sentence = ''\n",
        "    while not stop_condition:\n",
        "        output_tokens, h, c = decoder_model.predict(\n",
        "            [target_seq] + states_value)\n",
        "\n",
        "        # Sample a token\n",
        "        sampled_token_index = np.argmax(output_tokens[0, -1, :])\n",
        "        sampled_char = reverse_target_char_index[sampled_token_index]\n",
        "        decoded_sentence += sampled_char\n",
        "\n",
        "        # Exit condition: either hit max length\n",
        "        # or find stop character.\n",
        "        if (sampled_char == '\\n' or\n",
        "           len(decoded_sentence) > max_decoder_seq_length):\n",
        "            stop_condition = True\n",
        "\n",
        "        # Update the target sequence (of length 1).\n",
        "        target_seq = np.zeros((1, 1, num_decoder_tokens))\n",
        "        target_seq[0, 0, sampled_token_index] = 1.\n",
        "\n",
        "        # Update states\n",
        "        states_value = [h, c]\n",
        "\n",
        "    return decoded_sentence"
      ],
      "execution_count": 0,
      "outputs": []
    },
    {
      "cell_type": "markdown",
      "metadata": {
        "colab_type": "text",
        "id": "jiPl9MHkXv0z"
      },
      "source": [
        "## Run the below code for checking some outputs from the model."
      ]
    },
    {
      "cell_type": "code",
      "metadata": {
        "colab_type": "code",
        "id": "7IFQIeCGq0nk",
        "colab": {
          "base_uri": "https://localhost:8080/",
          "height": 689
        },
        "outputId": "cc1d38d9-ffb5-4158-e5aa-7038fa81ca46"
      },
      "source": [
        "for seq_index in range(10):\n",
        "    # Take one sequence (part of the training set)\n",
        "    # for trying out decoding.\n",
        "    input_seq = encoder_input_data[seq_index: seq_index + 1]\n",
        "    decoded_sentence = decode_sequence(input_seq)\n",
        "    print('-')\n",
        "    print('Input sentence:', input_texts[seq_index])\n",
        "    print('Decoded sentence:', decoded_sentence)"
      ],
      "execution_count": 45,
      "outputs": [
        {
          "output_type": "stream",
          "text": [
            "-\n",
            "Input sentence: stay with us\n",
            "Decoded sentence: bleib deine wagen\n",
            "\n",
            "-\n",
            "Input sentence: she wants him\n",
            "Decoded sentence: sie war aller\n",
            "\n",
            "-\n",
            "Input sentence: youre strong\n",
            "Decoded sentence: du bist beschaftigt\n",
            "\n",
            "-\n",
            "Input sentence: examine this\n",
            "Decoded sentence: lies das machen\n",
            "\n",
            "-\n",
            "Input sentence: heres my card\n",
            "Decoded sentence: hier ist dein auto\n",
            "\n",
            "-\n",
            "Input sentence: tom burped\n",
            "Decoded sentence: tom hat geweint\n",
            "\n",
            "-\n",
            "Input sentence: it is no joke\n",
            "Decoded sentence: es ist nicht geschaftigt\n",
            "\n",
            "-\n",
            "Input sentence: tom is a spy\n",
            "Decoded sentence: tom ist nicht geschaftigt\n",
            "\n",
            "-\n",
            "Input sentence: im a teenager\n",
            "Decoded sentence: ich bin ein beier tung\n",
            "\n",
            "-\n",
            "Input sentence: im not crazy\n",
            "Decoded sentence: ich bin nicht beschaftigt\n",
            "\n"
          ],
          "name": "stdout"
        }
      ]
    },
    {
      "cell_type": "code",
      "metadata": {
        "id": "C7OH455V-H8E",
        "colab_type": "code",
        "colab": {}
      },
      "source": [
        ""
      ],
      "execution_count": 0,
      "outputs": []
    }
  ]
}