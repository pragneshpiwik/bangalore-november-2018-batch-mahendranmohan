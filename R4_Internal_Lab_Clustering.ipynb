{
 "cells": [
  {
   "cell_type": "markdown",
   "metadata": {},
   "source": [
    "### The data set has information about features of silhouette extracted from the images of different cars\n",
    "\n",
    "Four \"Corgie\" model vehicles were used for the experiment: a double decker bus, Cheverolet van, Saab 9000 and an Opel Manta 400 cars. This particular combination of vehicles was chosen with the expectation that the bus, van and either one of the cars would be readily distinguishable, but it would be more difficult to distinguish between the cars.\n",
    "\n"
   ]
  },
  {
   "cell_type": "markdown",
   "metadata": {},
   "source": [
    "### 1. Read the dataset using function .dropna() - to avoid dealing with NAs as of now"
   ]
  },
  {
   "cell_type": "code",
   "execution_count": 1,
   "metadata": {},
   "outputs": [],
   "source": [
    "import numpy as np\n",
    "import pandas as pd\n",
    "import matplotlib.pyplot as plt\n",
    "import seaborn as sns\n",
    "from sklearn.cluster import KMeans\n",
    "from scipy.stats import zscore\n",
    "\n",
    "\n",
    "%matplotlib inline\n",
    "import warnings\n",
    "warnings.filterwarnings('ignore')\n",
    "\n",
    "from IPython.core.interactiveshell import InteractiveShell\n",
    "InteractiveShell.ast_node_interactivity = \"all\""
   ]
  },
  {
   "cell_type": "code",
   "execution_count": 2,
   "metadata": {},
   "outputs": [
    {
     "data": {
      "text/html": [
       "<div>\n",
       "<style scoped>\n",
       "    .dataframe tbody tr th:only-of-type {\n",
       "        vertical-align: middle;\n",
       "    }\n",
       "\n",
       "    .dataframe tbody tr th {\n",
       "        vertical-align: top;\n",
       "    }\n",
       "\n",
       "    .dataframe thead th {\n",
       "        text-align: right;\n",
       "    }\n",
       "</style>\n",
       "<table border=\"1\" class=\"dataframe\">\n",
       "  <thead>\n",
       "    <tr style=\"text-align: right;\">\n",
       "      <th></th>\n",
       "      <th>compactness</th>\n",
       "      <th>circularity</th>\n",
       "      <th>distance_circularity</th>\n",
       "      <th>radius_ratio</th>\n",
       "      <th>pr.axis_aspect_ratio</th>\n",
       "      <th>max.length_aspect_ratio</th>\n",
       "      <th>scatter_ratio</th>\n",
       "      <th>elongatedness</th>\n",
       "      <th>pr.axis_rectangularity</th>\n",
       "      <th>max.length_rectangularity</th>\n",
       "      <th>scaled_variance</th>\n",
       "      <th>scaled_variance.1</th>\n",
       "      <th>scaled_radius_of_gyration</th>\n",
       "      <th>scaled_radius_of_gyration.1</th>\n",
       "      <th>skewness_about</th>\n",
       "      <th>skewness_about.1</th>\n",
       "      <th>skewness_about.2</th>\n",
       "      <th>hollows_ratio</th>\n",
       "      <th>class</th>\n",
       "    </tr>\n",
       "  </thead>\n",
       "  <tbody>\n",
       "    <tr>\n",
       "      <th>0</th>\n",
       "      <td>95</td>\n",
       "      <td>48.0</td>\n",
       "      <td>83.0</td>\n",
       "      <td>178.0</td>\n",
       "      <td>72.0</td>\n",
       "      <td>10</td>\n",
       "      <td>162.0</td>\n",
       "      <td>42.0</td>\n",
       "      <td>20.0</td>\n",
       "      <td>159</td>\n",
       "      <td>176.0</td>\n",
       "      <td>379.0</td>\n",
       "      <td>184.0</td>\n",
       "      <td>70.0</td>\n",
       "      <td>6.0</td>\n",
       "      <td>16.0</td>\n",
       "      <td>187.0</td>\n",
       "      <td>197</td>\n",
       "      <td>van</td>\n",
       "    </tr>\n",
       "    <tr>\n",
       "      <th>1</th>\n",
       "      <td>91</td>\n",
       "      <td>41.0</td>\n",
       "      <td>84.0</td>\n",
       "      <td>141.0</td>\n",
       "      <td>57.0</td>\n",
       "      <td>9</td>\n",
       "      <td>149.0</td>\n",
       "      <td>45.0</td>\n",
       "      <td>19.0</td>\n",
       "      <td>143</td>\n",
       "      <td>170.0</td>\n",
       "      <td>330.0</td>\n",
       "      <td>158.0</td>\n",
       "      <td>72.0</td>\n",
       "      <td>9.0</td>\n",
       "      <td>14.0</td>\n",
       "      <td>189.0</td>\n",
       "      <td>199</td>\n",
       "      <td>van</td>\n",
       "    </tr>\n",
       "    <tr>\n",
       "      <th>2</th>\n",
       "      <td>104</td>\n",
       "      <td>50.0</td>\n",
       "      <td>106.0</td>\n",
       "      <td>209.0</td>\n",
       "      <td>66.0</td>\n",
       "      <td>10</td>\n",
       "      <td>207.0</td>\n",
       "      <td>32.0</td>\n",
       "      <td>23.0</td>\n",
       "      <td>158</td>\n",
       "      <td>223.0</td>\n",
       "      <td>635.0</td>\n",
       "      <td>220.0</td>\n",
       "      <td>73.0</td>\n",
       "      <td>14.0</td>\n",
       "      <td>9.0</td>\n",
       "      <td>188.0</td>\n",
       "      <td>196</td>\n",
       "      <td>car</td>\n",
       "    </tr>\n",
       "    <tr>\n",
       "      <th>3</th>\n",
       "      <td>93</td>\n",
       "      <td>41.0</td>\n",
       "      <td>82.0</td>\n",
       "      <td>159.0</td>\n",
       "      <td>63.0</td>\n",
       "      <td>9</td>\n",
       "      <td>144.0</td>\n",
       "      <td>46.0</td>\n",
       "      <td>19.0</td>\n",
       "      <td>143</td>\n",
       "      <td>160.0</td>\n",
       "      <td>309.0</td>\n",
       "      <td>127.0</td>\n",
       "      <td>63.0</td>\n",
       "      <td>6.0</td>\n",
       "      <td>10.0</td>\n",
       "      <td>199.0</td>\n",
       "      <td>207</td>\n",
       "      <td>van</td>\n",
       "    </tr>\n",
       "    <tr>\n",
       "      <th>4</th>\n",
       "      <td>85</td>\n",
       "      <td>44.0</td>\n",
       "      <td>70.0</td>\n",
       "      <td>205.0</td>\n",
       "      <td>103.0</td>\n",
       "      <td>52</td>\n",
       "      <td>149.0</td>\n",
       "      <td>45.0</td>\n",
       "      <td>19.0</td>\n",
       "      <td>144</td>\n",
       "      <td>241.0</td>\n",
       "      <td>325.0</td>\n",
       "      <td>188.0</td>\n",
       "      <td>127.0</td>\n",
       "      <td>9.0</td>\n",
       "      <td>11.0</td>\n",
       "      <td>180.0</td>\n",
       "      <td>183</td>\n",
       "      <td>bus</td>\n",
       "    </tr>\n",
       "  </tbody>\n",
       "</table>\n",
       "</div>"
      ],
      "text/plain": [
       "   compactness  circularity  distance_circularity  radius_ratio  \\\n",
       "0           95         48.0                  83.0         178.0   \n",
       "1           91         41.0                  84.0         141.0   \n",
       "2          104         50.0                 106.0         209.0   \n",
       "3           93         41.0                  82.0         159.0   \n",
       "4           85         44.0                  70.0         205.0   \n",
       "\n",
       "   pr.axis_aspect_ratio  max.length_aspect_ratio  scatter_ratio  \\\n",
       "0                  72.0                       10          162.0   \n",
       "1                  57.0                        9          149.0   \n",
       "2                  66.0                       10          207.0   \n",
       "3                  63.0                        9          144.0   \n",
       "4                 103.0                       52          149.0   \n",
       "\n",
       "   elongatedness  pr.axis_rectangularity  max.length_rectangularity  \\\n",
       "0           42.0                    20.0                        159   \n",
       "1           45.0                    19.0                        143   \n",
       "2           32.0                    23.0                        158   \n",
       "3           46.0                    19.0                        143   \n",
       "4           45.0                    19.0                        144   \n",
       "\n",
       "   scaled_variance  scaled_variance.1  scaled_radius_of_gyration  \\\n",
       "0            176.0              379.0                      184.0   \n",
       "1            170.0              330.0                      158.0   \n",
       "2            223.0              635.0                      220.0   \n",
       "3            160.0              309.0                      127.0   \n",
       "4            241.0              325.0                      188.0   \n",
       "\n",
       "   scaled_radius_of_gyration.1  skewness_about  skewness_about.1  \\\n",
       "0                         70.0             6.0              16.0   \n",
       "1                         72.0             9.0              14.0   \n",
       "2                         73.0            14.0               9.0   \n",
       "3                         63.0             6.0              10.0   \n",
       "4                        127.0             9.0              11.0   \n",
       "\n",
       "   skewness_about.2  hollows_ratio class  \n",
       "0             187.0            197   van  \n",
       "1             189.0            199   van  \n",
       "2             188.0            196   car  \n",
       "3             199.0            207   van  \n",
       "4             180.0            183   bus  "
      ]
     },
     "execution_count": 2,
     "metadata": {},
     "output_type": "execute_result"
    }
   ],
   "source": [
    "vehicledata = pd.read_csv(\"..\\\\dataset\\\\vehicle.csv\").dropna()\n",
    "vehicledata.head()\n"
   ]
  },
  {
   "cell_type": "code",
   "execution_count": 3,
   "metadata": {},
   "outputs": [
    {
     "data": {
      "text/html": [
       "<div>\n",
       "<style scoped>\n",
       "    .dataframe tbody tr th:only-of-type {\n",
       "        vertical-align: middle;\n",
       "    }\n",
       "\n",
       "    .dataframe tbody tr th {\n",
       "        vertical-align: top;\n",
       "    }\n",
       "\n",
       "    .dataframe thead th {\n",
       "        text-align: right;\n",
       "    }\n",
       "</style>\n",
       "<table border=\"1\" class=\"dataframe\">\n",
       "  <thead>\n",
       "    <tr style=\"text-align: right;\">\n",
       "      <th></th>\n",
       "      <th>compactness</th>\n",
       "      <th>circularity</th>\n",
       "      <th>distance_circularity</th>\n",
       "      <th>radius_ratio</th>\n",
       "      <th>pr.axis_aspect_ratio</th>\n",
       "      <th>max.length_aspect_ratio</th>\n",
       "      <th>scatter_ratio</th>\n",
       "      <th>elongatedness</th>\n",
       "      <th>pr.axis_rectangularity</th>\n",
       "      <th>max.length_rectangularity</th>\n",
       "      <th>scaled_variance</th>\n",
       "      <th>scaled_variance.1</th>\n",
       "      <th>scaled_radius_of_gyration</th>\n",
       "      <th>scaled_radius_of_gyration.1</th>\n",
       "      <th>skewness_about</th>\n",
       "      <th>skewness_about.1</th>\n",
       "      <th>skewness_about.2</th>\n",
       "      <th>hollows_ratio</th>\n",
       "      <th>class</th>\n",
       "    </tr>\n",
       "  </thead>\n",
       "  <tbody>\n",
       "    <tr>\n",
       "      <th>0</th>\n",
       "      <td>95</td>\n",
       "      <td>48.0</td>\n",
       "      <td>83.0</td>\n",
       "      <td>178.0</td>\n",
       "      <td>72.0</td>\n",
       "      <td>10</td>\n",
       "      <td>162.0</td>\n",
       "      <td>42.0</td>\n",
       "      <td>20.0</td>\n",
       "      <td>159</td>\n",
       "      <td>176.0</td>\n",
       "      <td>379.0</td>\n",
       "      <td>184.0</td>\n",
       "      <td>70.0</td>\n",
       "      <td>6.0</td>\n",
       "      <td>16.0</td>\n",
       "      <td>187.0</td>\n",
       "      <td>197</td>\n",
       "      <td>van</td>\n",
       "    </tr>\n",
       "    <tr>\n",
       "      <th>1</th>\n",
       "      <td>91</td>\n",
       "      <td>41.0</td>\n",
       "      <td>84.0</td>\n",
       "      <td>141.0</td>\n",
       "      <td>57.0</td>\n",
       "      <td>9</td>\n",
       "      <td>149.0</td>\n",
       "      <td>45.0</td>\n",
       "      <td>19.0</td>\n",
       "      <td>143</td>\n",
       "      <td>170.0</td>\n",
       "      <td>330.0</td>\n",
       "      <td>158.0</td>\n",
       "      <td>72.0</td>\n",
       "      <td>9.0</td>\n",
       "      <td>14.0</td>\n",
       "      <td>189.0</td>\n",
       "      <td>199</td>\n",
       "      <td>van</td>\n",
       "    </tr>\n",
       "    <tr>\n",
       "      <th>2</th>\n",
       "      <td>104</td>\n",
       "      <td>50.0</td>\n",
       "      <td>106.0</td>\n",
       "      <td>209.0</td>\n",
       "      <td>66.0</td>\n",
       "      <td>10</td>\n",
       "      <td>207.0</td>\n",
       "      <td>32.0</td>\n",
       "      <td>23.0</td>\n",
       "      <td>158</td>\n",
       "      <td>223.0</td>\n",
       "      <td>635.0</td>\n",
       "      <td>220.0</td>\n",
       "      <td>73.0</td>\n",
       "      <td>14.0</td>\n",
       "      <td>9.0</td>\n",
       "      <td>188.0</td>\n",
       "      <td>196</td>\n",
       "      <td>car</td>\n",
       "    </tr>\n",
       "    <tr>\n",
       "      <th>3</th>\n",
       "      <td>93</td>\n",
       "      <td>41.0</td>\n",
       "      <td>82.0</td>\n",
       "      <td>159.0</td>\n",
       "      <td>63.0</td>\n",
       "      <td>9</td>\n",
       "      <td>144.0</td>\n",
       "      <td>46.0</td>\n",
       "      <td>19.0</td>\n",
       "      <td>143</td>\n",
       "      <td>160.0</td>\n",
       "      <td>309.0</td>\n",
       "      <td>127.0</td>\n",
       "      <td>63.0</td>\n",
       "      <td>6.0</td>\n",
       "      <td>10.0</td>\n",
       "      <td>199.0</td>\n",
       "      <td>207</td>\n",
       "      <td>van</td>\n",
       "    </tr>\n",
       "    <tr>\n",
       "      <th>4</th>\n",
       "      <td>85</td>\n",
       "      <td>44.0</td>\n",
       "      <td>70.0</td>\n",
       "      <td>205.0</td>\n",
       "      <td>103.0</td>\n",
       "      <td>52</td>\n",
       "      <td>149.0</td>\n",
       "      <td>45.0</td>\n",
       "      <td>19.0</td>\n",
       "      <td>144</td>\n",
       "      <td>241.0</td>\n",
       "      <td>325.0</td>\n",
       "      <td>188.0</td>\n",
       "      <td>127.0</td>\n",
       "      <td>9.0</td>\n",
       "      <td>11.0</td>\n",
       "      <td>180.0</td>\n",
       "      <td>183</td>\n",
       "      <td>bus</td>\n",
       "    </tr>\n",
       "  </tbody>\n",
       "</table>\n",
       "</div>"
      ],
      "text/plain": [
       "   compactness  circularity  distance_circularity  radius_ratio  \\\n",
       "0           95         48.0                  83.0         178.0   \n",
       "1           91         41.0                  84.0         141.0   \n",
       "2          104         50.0                 106.0         209.0   \n",
       "3           93         41.0                  82.0         159.0   \n",
       "4           85         44.0                  70.0         205.0   \n",
       "\n",
       "   pr.axis_aspect_ratio  max.length_aspect_ratio  scatter_ratio  \\\n",
       "0                  72.0                       10          162.0   \n",
       "1                  57.0                        9          149.0   \n",
       "2                  66.0                       10          207.0   \n",
       "3                  63.0                        9          144.0   \n",
       "4                 103.0                       52          149.0   \n",
       "\n",
       "   elongatedness  pr.axis_rectangularity  max.length_rectangularity  \\\n",
       "0           42.0                    20.0                        159   \n",
       "1           45.0                    19.0                        143   \n",
       "2           32.0                    23.0                        158   \n",
       "3           46.0                    19.0                        143   \n",
       "4           45.0                    19.0                        144   \n",
       "\n",
       "   scaled_variance  scaled_variance.1  scaled_radius_of_gyration  \\\n",
       "0            176.0              379.0                      184.0   \n",
       "1            170.0              330.0                      158.0   \n",
       "2            223.0              635.0                      220.0   \n",
       "3            160.0              309.0                      127.0   \n",
       "4            241.0              325.0                      188.0   \n",
       "\n",
       "   scaled_radius_of_gyration.1  skewness_about  skewness_about.1  \\\n",
       "0                         70.0             6.0              16.0   \n",
       "1                         72.0             9.0              14.0   \n",
       "2                         73.0            14.0               9.0   \n",
       "3                         63.0             6.0              10.0   \n",
       "4                        127.0             9.0              11.0   \n",
       "\n",
       "   skewness_about.2  hollows_ratio class  \n",
       "0             187.0            197   van  \n",
       "1             189.0            199   van  \n",
       "2             188.0            196   car  \n",
       "3             199.0            207   van  \n",
       "4             180.0            183   bus  "
      ]
     },
     "execution_count": 3,
     "metadata": {},
     "output_type": "execute_result"
    },
    {
     "data": {
      "text/html": [
       "<div>\n",
       "<style scoped>\n",
       "    .dataframe tbody tr th:only-of-type {\n",
       "        vertical-align: middle;\n",
       "    }\n",
       "\n",
       "    .dataframe tbody tr th {\n",
       "        vertical-align: top;\n",
       "    }\n",
       "\n",
       "    .dataframe thead th {\n",
       "        text-align: right;\n",
       "    }\n",
       "</style>\n",
       "<table border=\"1\" class=\"dataframe\">\n",
       "  <thead>\n",
       "    <tr style=\"text-align: right;\">\n",
       "      <th></th>\n",
       "      <th>compactness</th>\n",
       "      <th>circularity</th>\n",
       "      <th>distance_circularity</th>\n",
       "      <th>radius_ratio</th>\n",
       "      <th>pr.axis_aspect_ratio</th>\n",
       "      <th>max.length_aspect_ratio</th>\n",
       "      <th>scatter_ratio</th>\n",
       "      <th>elongatedness</th>\n",
       "      <th>pr.axis_rectangularity</th>\n",
       "      <th>max.length_rectangularity</th>\n",
       "      <th>scaled_variance</th>\n",
       "      <th>scaled_variance.1</th>\n",
       "      <th>scaled_radius_of_gyration</th>\n",
       "      <th>scaled_radius_of_gyration.1</th>\n",
       "      <th>skewness_about</th>\n",
       "      <th>skewness_about.1</th>\n",
       "      <th>skewness_about.2</th>\n",
       "      <th>hollows_ratio</th>\n",
       "      <th>class</th>\n",
       "    </tr>\n",
       "  </thead>\n",
       "  <tbody>\n",
       "    <tr>\n",
       "      <th>841</th>\n",
       "      <td>93</td>\n",
       "      <td>39.0</td>\n",
       "      <td>87.0</td>\n",
       "      <td>183.0</td>\n",
       "      <td>64.0</td>\n",
       "      <td>8</td>\n",
       "      <td>169.0</td>\n",
       "      <td>40.0</td>\n",
       "      <td>20.0</td>\n",
       "      <td>134</td>\n",
       "      <td>200.0</td>\n",
       "      <td>422.0</td>\n",
       "      <td>149.0</td>\n",
       "      <td>72.0</td>\n",
       "      <td>7.0</td>\n",
       "      <td>25.0</td>\n",
       "      <td>188.0</td>\n",
       "      <td>195</td>\n",
       "      <td>car</td>\n",
       "    </tr>\n",
       "    <tr>\n",
       "      <th>842</th>\n",
       "      <td>89</td>\n",
       "      <td>46.0</td>\n",
       "      <td>84.0</td>\n",
       "      <td>163.0</td>\n",
       "      <td>66.0</td>\n",
       "      <td>11</td>\n",
       "      <td>159.0</td>\n",
       "      <td>43.0</td>\n",
       "      <td>20.0</td>\n",
       "      <td>159</td>\n",
       "      <td>173.0</td>\n",
       "      <td>368.0</td>\n",
       "      <td>176.0</td>\n",
       "      <td>72.0</td>\n",
       "      <td>1.0</td>\n",
       "      <td>20.0</td>\n",
       "      <td>186.0</td>\n",
       "      <td>197</td>\n",
       "      <td>van</td>\n",
       "    </tr>\n",
       "    <tr>\n",
       "      <th>843</th>\n",
       "      <td>106</td>\n",
       "      <td>54.0</td>\n",
       "      <td>101.0</td>\n",
       "      <td>222.0</td>\n",
       "      <td>67.0</td>\n",
       "      <td>12</td>\n",
       "      <td>222.0</td>\n",
       "      <td>30.0</td>\n",
       "      <td>25.0</td>\n",
       "      <td>173</td>\n",
       "      <td>228.0</td>\n",
       "      <td>721.0</td>\n",
       "      <td>200.0</td>\n",
       "      <td>70.0</td>\n",
       "      <td>3.0</td>\n",
       "      <td>4.0</td>\n",
       "      <td>187.0</td>\n",
       "      <td>201</td>\n",
       "      <td>car</td>\n",
       "    </tr>\n",
       "    <tr>\n",
       "      <th>844</th>\n",
       "      <td>86</td>\n",
       "      <td>36.0</td>\n",
       "      <td>78.0</td>\n",
       "      <td>146.0</td>\n",
       "      <td>58.0</td>\n",
       "      <td>7</td>\n",
       "      <td>135.0</td>\n",
       "      <td>50.0</td>\n",
       "      <td>18.0</td>\n",
       "      <td>124</td>\n",
       "      <td>155.0</td>\n",
       "      <td>270.0</td>\n",
       "      <td>148.0</td>\n",
       "      <td>66.0</td>\n",
       "      <td>0.0</td>\n",
       "      <td>25.0</td>\n",
       "      <td>190.0</td>\n",
       "      <td>195</td>\n",
       "      <td>car</td>\n",
       "    </tr>\n",
       "    <tr>\n",
       "      <th>845</th>\n",
       "      <td>85</td>\n",
       "      <td>36.0</td>\n",
       "      <td>66.0</td>\n",
       "      <td>123.0</td>\n",
       "      <td>55.0</td>\n",
       "      <td>5</td>\n",
       "      <td>120.0</td>\n",
       "      <td>56.0</td>\n",
       "      <td>17.0</td>\n",
       "      <td>128</td>\n",
       "      <td>140.0</td>\n",
       "      <td>212.0</td>\n",
       "      <td>131.0</td>\n",
       "      <td>73.0</td>\n",
       "      <td>1.0</td>\n",
       "      <td>18.0</td>\n",
       "      <td>186.0</td>\n",
       "      <td>190</td>\n",
       "      <td>van</td>\n",
       "    </tr>\n",
       "  </tbody>\n",
       "</table>\n",
       "</div>"
      ],
      "text/plain": [
       "     compactness  circularity  distance_circularity  radius_ratio  \\\n",
       "841           93         39.0                  87.0         183.0   \n",
       "842           89         46.0                  84.0         163.0   \n",
       "843          106         54.0                 101.0         222.0   \n",
       "844           86         36.0                  78.0         146.0   \n",
       "845           85         36.0                  66.0         123.0   \n",
       "\n",
       "     pr.axis_aspect_ratio  max.length_aspect_ratio  scatter_ratio  \\\n",
       "841                  64.0                        8          169.0   \n",
       "842                  66.0                       11          159.0   \n",
       "843                  67.0                       12          222.0   \n",
       "844                  58.0                        7          135.0   \n",
       "845                  55.0                        5          120.0   \n",
       "\n",
       "     elongatedness  pr.axis_rectangularity  max.length_rectangularity  \\\n",
       "841           40.0                    20.0                        134   \n",
       "842           43.0                    20.0                        159   \n",
       "843           30.0                    25.0                        173   \n",
       "844           50.0                    18.0                        124   \n",
       "845           56.0                    17.0                        128   \n",
       "\n",
       "     scaled_variance  scaled_variance.1  scaled_radius_of_gyration  \\\n",
       "841            200.0              422.0                      149.0   \n",
       "842            173.0              368.0                      176.0   \n",
       "843            228.0              721.0                      200.0   \n",
       "844            155.0              270.0                      148.0   \n",
       "845            140.0              212.0                      131.0   \n",
       "\n",
       "     scaled_radius_of_gyration.1  skewness_about  skewness_about.1  \\\n",
       "841                         72.0             7.0              25.0   \n",
       "842                         72.0             1.0              20.0   \n",
       "843                         70.0             3.0               4.0   \n",
       "844                         66.0             0.0              25.0   \n",
       "845                         73.0             1.0              18.0   \n",
       "\n",
       "     skewness_about.2  hollows_ratio class  \n",
       "841             188.0            195   car  \n",
       "842             186.0            197   van  \n",
       "843             187.0            201   car  \n",
       "844             190.0            195   car  \n",
       "845             186.0            190   van  "
      ]
     },
     "execution_count": 3,
     "metadata": {},
     "output_type": "execute_result"
    },
    {
     "name": "stdout",
     "output_type": "stream",
     "text": [
      "<class 'pandas.core.frame.DataFrame'>\n",
      "Int64Index: 813 entries, 0 to 845\n",
      "Data columns (total 19 columns):\n",
      "compactness                    813 non-null int64\n",
      "circularity                    813 non-null float64\n",
      "distance_circularity           813 non-null float64\n",
      "radius_ratio                   813 non-null float64\n",
      "pr.axis_aspect_ratio           813 non-null float64\n",
      "max.length_aspect_ratio        813 non-null int64\n",
      "scatter_ratio                  813 non-null float64\n",
      "elongatedness                  813 non-null float64\n",
      "pr.axis_rectangularity         813 non-null float64\n",
      "max.length_rectangularity      813 non-null int64\n",
      "scaled_variance                813 non-null float64\n",
      "scaled_variance.1              813 non-null float64\n",
      "scaled_radius_of_gyration      813 non-null float64\n",
      "scaled_radius_of_gyration.1    813 non-null float64\n",
      "skewness_about                 813 non-null float64\n",
      "skewness_about.1               813 non-null float64\n",
      "skewness_about.2               813 non-null float64\n",
      "hollows_ratio                  813 non-null int64\n",
      "class                          813 non-null object\n",
      "dtypes: float64(14), int64(4), object(1)\n",
      "memory usage: 127.0+ KB\n"
     ]
    },
    {
     "data": {
      "text/plain": [
       "(813, 19)"
      ]
     },
     "execution_count": 3,
     "metadata": {},
     "output_type": "execute_result"
    },
    {
     "data": {
      "text/plain": [
       "0"
      ]
     },
     "execution_count": 3,
     "metadata": {},
     "output_type": "execute_result"
    },
    {
     "data": {
      "text/plain": [
       "0"
      ]
     },
     "execution_count": 3,
     "metadata": {},
     "output_type": "execute_result"
    },
    {
     "data": {
      "text/html": [
       "<div>\n",
       "<style scoped>\n",
       "    .dataframe tbody tr th:only-of-type {\n",
       "        vertical-align: middle;\n",
       "    }\n",
       "\n",
       "    .dataframe tbody tr th {\n",
       "        vertical-align: top;\n",
       "    }\n",
       "\n",
       "    .dataframe thead th {\n",
       "        text-align: right;\n",
       "    }\n",
       "</style>\n",
       "<table border=\"1\" class=\"dataframe\">\n",
       "  <thead>\n",
       "    <tr style=\"text-align: right;\">\n",
       "      <th></th>\n",
       "      <th>count</th>\n",
       "      <th>mean</th>\n",
       "      <th>std</th>\n",
       "      <th>min</th>\n",
       "      <th>25%</th>\n",
       "      <th>50%</th>\n",
       "      <th>75%</th>\n",
       "      <th>max</th>\n",
       "    </tr>\n",
       "  </thead>\n",
       "  <tbody>\n",
       "    <tr>\n",
       "      <th>compactness</th>\n",
       "      <td>813.0</td>\n",
       "      <td>93.656827</td>\n",
       "      <td>8.233751</td>\n",
       "      <td>73.0</td>\n",
       "      <td>87.0</td>\n",
       "      <td>93.0</td>\n",
       "      <td>100.0</td>\n",
       "      <td>119.0</td>\n",
       "    </tr>\n",
       "    <tr>\n",
       "      <th>circularity</th>\n",
       "      <td>813.0</td>\n",
       "      <td>44.803198</td>\n",
       "      <td>6.146659</td>\n",
       "      <td>33.0</td>\n",
       "      <td>40.0</td>\n",
       "      <td>44.0</td>\n",
       "      <td>49.0</td>\n",
       "      <td>59.0</td>\n",
       "    </tr>\n",
       "    <tr>\n",
       "      <th>distance_circularity</th>\n",
       "      <td>813.0</td>\n",
       "      <td>82.043050</td>\n",
       "      <td>15.783070</td>\n",
       "      <td>40.0</td>\n",
       "      <td>70.0</td>\n",
       "      <td>79.0</td>\n",
       "      <td>98.0</td>\n",
       "      <td>112.0</td>\n",
       "    </tr>\n",
       "    <tr>\n",
       "      <th>radius_ratio</th>\n",
       "      <td>813.0</td>\n",
       "      <td>169.098401</td>\n",
       "      <td>33.615402</td>\n",
       "      <td>104.0</td>\n",
       "      <td>141.0</td>\n",
       "      <td>167.0</td>\n",
       "      <td>195.0</td>\n",
       "      <td>333.0</td>\n",
       "    </tr>\n",
       "    <tr>\n",
       "      <th>pr.axis_aspect_ratio</th>\n",
       "      <td>813.0</td>\n",
       "      <td>61.774908</td>\n",
       "      <td>7.973000</td>\n",
       "      <td>47.0</td>\n",
       "      <td>57.0</td>\n",
       "      <td>61.0</td>\n",
       "      <td>65.0</td>\n",
       "      <td>138.0</td>\n",
       "    </tr>\n",
       "    <tr>\n",
       "      <th>max.length_aspect_ratio</th>\n",
       "      <td>813.0</td>\n",
       "      <td>8.599016</td>\n",
       "      <td>4.677174</td>\n",
       "      <td>2.0</td>\n",
       "      <td>7.0</td>\n",
       "      <td>8.0</td>\n",
       "      <td>10.0</td>\n",
       "      <td>55.0</td>\n",
       "    </tr>\n",
       "    <tr>\n",
       "      <th>scatter_ratio</th>\n",
       "      <td>813.0</td>\n",
       "      <td>168.563346</td>\n",
       "      <td>33.082186</td>\n",
       "      <td>112.0</td>\n",
       "      <td>146.0</td>\n",
       "      <td>157.0</td>\n",
       "      <td>198.0</td>\n",
       "      <td>265.0</td>\n",
       "    </tr>\n",
       "    <tr>\n",
       "      <th>elongatedness</th>\n",
       "      <td>813.0</td>\n",
       "      <td>40.988930</td>\n",
       "      <td>7.803380</td>\n",
       "      <td>26.0</td>\n",
       "      <td>33.0</td>\n",
       "      <td>43.0</td>\n",
       "      <td>46.0</td>\n",
       "      <td>61.0</td>\n",
       "    </tr>\n",
       "    <tr>\n",
       "      <th>pr.axis_rectangularity</th>\n",
       "      <td>813.0</td>\n",
       "      <td>20.558426</td>\n",
       "      <td>2.573184</td>\n",
       "      <td>17.0</td>\n",
       "      <td>19.0</td>\n",
       "      <td>20.0</td>\n",
       "      <td>23.0</td>\n",
       "      <td>29.0</td>\n",
       "    </tr>\n",
       "    <tr>\n",
       "      <th>max.length_rectangularity</th>\n",
       "      <td>813.0</td>\n",
       "      <td>147.891759</td>\n",
       "      <td>14.504648</td>\n",
       "      <td>118.0</td>\n",
       "      <td>137.0</td>\n",
       "      <td>146.0</td>\n",
       "      <td>159.0</td>\n",
       "      <td>188.0</td>\n",
       "    </tr>\n",
       "    <tr>\n",
       "      <th>scaled_variance</th>\n",
       "      <td>813.0</td>\n",
       "      <td>188.377614</td>\n",
       "      <td>31.165873</td>\n",
       "      <td>130.0</td>\n",
       "      <td>167.0</td>\n",
       "      <td>179.0</td>\n",
       "      <td>217.0</td>\n",
       "      <td>320.0</td>\n",
       "    </tr>\n",
       "    <tr>\n",
       "      <th>scaled_variance.1</th>\n",
       "      <td>813.0</td>\n",
       "      <td>438.382534</td>\n",
       "      <td>175.270368</td>\n",
       "      <td>184.0</td>\n",
       "      <td>318.0</td>\n",
       "      <td>364.0</td>\n",
       "      <td>586.0</td>\n",
       "      <td>1018.0</td>\n",
       "    </tr>\n",
       "    <tr>\n",
       "      <th>scaled_radius_of_gyration</th>\n",
       "      <td>813.0</td>\n",
       "      <td>174.252153</td>\n",
       "      <td>32.332161</td>\n",
       "      <td>109.0</td>\n",
       "      <td>149.0</td>\n",
       "      <td>173.0</td>\n",
       "      <td>198.0</td>\n",
       "      <td>268.0</td>\n",
       "    </tr>\n",
       "    <tr>\n",
       "      <th>scaled_radius_of_gyration.1</th>\n",
       "      <td>813.0</td>\n",
       "      <td>72.399754</td>\n",
       "      <td>7.475994</td>\n",
       "      <td>59.0</td>\n",
       "      <td>67.0</td>\n",
       "      <td>71.0</td>\n",
       "      <td>75.0</td>\n",
       "      <td>135.0</td>\n",
       "    </tr>\n",
       "    <tr>\n",
       "      <th>skewness_about</th>\n",
       "      <td>813.0</td>\n",
       "      <td>6.351784</td>\n",
       "      <td>4.921476</td>\n",
       "      <td>0.0</td>\n",
       "      <td>2.0</td>\n",
       "      <td>6.0</td>\n",
       "      <td>9.0</td>\n",
       "      <td>22.0</td>\n",
       "    </tr>\n",
       "    <tr>\n",
       "      <th>skewness_about.1</th>\n",
       "      <td>813.0</td>\n",
       "      <td>12.687577</td>\n",
       "      <td>8.926951</td>\n",
       "      <td>0.0</td>\n",
       "      <td>6.0</td>\n",
       "      <td>11.0</td>\n",
       "      <td>19.0</td>\n",
       "      <td>41.0</td>\n",
       "    </tr>\n",
       "    <tr>\n",
       "      <th>skewness_about.2</th>\n",
       "      <td>813.0</td>\n",
       "      <td>188.979090</td>\n",
       "      <td>6.153681</td>\n",
       "      <td>176.0</td>\n",
       "      <td>184.0</td>\n",
       "      <td>189.0</td>\n",
       "      <td>193.0</td>\n",
       "      <td>206.0</td>\n",
       "    </tr>\n",
       "    <tr>\n",
       "      <th>hollows_ratio</th>\n",
       "      <td>813.0</td>\n",
       "      <td>195.729397</td>\n",
       "      <td>7.398781</td>\n",
       "      <td>181.0</td>\n",
       "      <td>191.0</td>\n",
       "      <td>197.0</td>\n",
       "      <td>201.0</td>\n",
       "      <td>211.0</td>\n",
       "    </tr>\n",
       "  </tbody>\n",
       "</table>\n",
       "</div>"
      ],
      "text/plain": [
       "                             count        mean         std    min    25%  \\\n",
       "compactness                  813.0   93.656827    8.233751   73.0   87.0   \n",
       "circularity                  813.0   44.803198    6.146659   33.0   40.0   \n",
       "distance_circularity         813.0   82.043050   15.783070   40.0   70.0   \n",
       "radius_ratio                 813.0  169.098401   33.615402  104.0  141.0   \n",
       "pr.axis_aspect_ratio         813.0   61.774908    7.973000   47.0   57.0   \n",
       "max.length_aspect_ratio      813.0    8.599016    4.677174    2.0    7.0   \n",
       "scatter_ratio                813.0  168.563346   33.082186  112.0  146.0   \n",
       "elongatedness                813.0   40.988930    7.803380   26.0   33.0   \n",
       "pr.axis_rectangularity       813.0   20.558426    2.573184   17.0   19.0   \n",
       "max.length_rectangularity    813.0  147.891759   14.504648  118.0  137.0   \n",
       "scaled_variance              813.0  188.377614   31.165873  130.0  167.0   \n",
       "scaled_variance.1            813.0  438.382534  175.270368  184.0  318.0   \n",
       "scaled_radius_of_gyration    813.0  174.252153   32.332161  109.0  149.0   \n",
       "scaled_radius_of_gyration.1  813.0   72.399754    7.475994   59.0   67.0   \n",
       "skewness_about               813.0    6.351784    4.921476    0.0    2.0   \n",
       "skewness_about.1             813.0   12.687577    8.926951    0.0    6.0   \n",
       "skewness_about.2             813.0  188.979090    6.153681  176.0  184.0   \n",
       "hollows_ratio                813.0  195.729397    7.398781  181.0  191.0   \n",
       "\n",
       "                               50%    75%     max  \n",
       "compactness                   93.0  100.0   119.0  \n",
       "circularity                   44.0   49.0    59.0  \n",
       "distance_circularity          79.0   98.0   112.0  \n",
       "radius_ratio                 167.0  195.0   333.0  \n",
       "pr.axis_aspect_ratio          61.0   65.0   138.0  \n",
       "max.length_aspect_ratio        8.0   10.0    55.0  \n",
       "scatter_ratio                157.0  198.0   265.0  \n",
       "elongatedness                 43.0   46.0    61.0  \n",
       "pr.axis_rectangularity        20.0   23.0    29.0  \n",
       "max.length_rectangularity    146.0  159.0   188.0  \n",
       "scaled_variance              179.0  217.0   320.0  \n",
       "scaled_variance.1            364.0  586.0  1018.0  \n",
       "scaled_radius_of_gyration    173.0  198.0   268.0  \n",
       "scaled_radius_of_gyration.1   71.0   75.0   135.0  \n",
       "skewness_about                 6.0    9.0    22.0  \n",
       "skewness_about.1              11.0   19.0    41.0  \n",
       "skewness_about.2             189.0  193.0   206.0  \n",
       "hollows_ratio                197.0  201.0   211.0  "
      ]
     },
     "execution_count": 3,
     "metadata": {},
     "output_type": "execute_result"
    }
   ],
   "source": [
    "vehicledata.head()\n",
    "vehicledata.tail()\n",
    "vehicledata.info()\n",
    "vehicledata.shape\n",
    "vehicledata.isnull().sum().sum()\n",
    "vehicledata.isna().sum().sum()\n",
    "vehicledata.describe().transpose()"
   ]
  },
  {
   "cell_type": "markdown",
   "metadata": {},
   "source": [
    "### 2. Print/ Plot the dependent (categorical variable) - Class column"
   ]
  },
  {
   "cell_type": "markdown",
   "metadata": {},
   "source": [
    "Since the variable is categorical, you can use value_counts function"
   ]
  },
  {
   "cell_type": "code",
   "execution_count": 4,
   "metadata": {},
   "outputs": [
    {
     "data": {
      "text/plain": [
       "car    413\n",
       "bus    205\n",
       "van    195\n",
       "Name: class, dtype: int64"
      ]
     },
     "execution_count": 4,
     "metadata": {},
     "output_type": "execute_result"
    }
   ],
   "source": [
    "vehicledata['class'].value_counts()"
   ]
  },
  {
   "cell_type": "markdown",
   "metadata": {},
   "source": [
    "### Check for any missing values in the data "
   ]
  },
  {
   "cell_type": "code",
   "execution_count": 5,
   "metadata": {},
   "outputs": [
    {
     "data": {
      "text/plain": [
       "False"
      ]
     },
     "execution_count": 5,
     "metadata": {},
     "output_type": "execute_result"
    }
   ],
   "source": [
    "vehicledata.isna().values.any()"
   ]
  },
  {
   "cell_type": "markdown",
   "metadata": {},
   "source": [
    "### 3. Standardize the data "
   ]
  },
  {
   "cell_type": "code",
   "execution_count": 6,
   "metadata": {},
   "outputs": [],
   "source": [
    "vehicledata['class']=vehicledata[\"class\"].replace({\"car\":1,\"bus\":2,\"van\":3})"
   ]
  },
  {
   "cell_type": "code",
   "execution_count": 7,
   "metadata": {},
   "outputs": [],
   "source": [
    "vehicledata_z = vehicledata.apply(zscore)"
   ]
  },
  {
   "cell_type": "markdown",
   "metadata": {},
   "source": [
    "Since the dimensions of the data are not really known to us, it would be wise to standardize the data using z scores before we go for any clustering methods.\n",
    "You can use zscore function to do this"
   ]
  },
  {
   "cell_type": "code",
   "execution_count": 8,
   "metadata": {},
   "outputs": [
    {
     "data": {
      "text/html": [
       "<div>\n",
       "<style scoped>\n",
       "    .dataframe tbody tr th:only-of-type {\n",
       "        vertical-align: middle;\n",
       "    }\n",
       "\n",
       "    .dataframe tbody tr th {\n",
       "        vertical-align: top;\n",
       "    }\n",
       "\n",
       "    .dataframe thead th {\n",
       "        text-align: right;\n",
       "    }\n",
       "</style>\n",
       "<table border=\"1\" class=\"dataframe\">\n",
       "  <thead>\n",
       "    <tr style=\"text-align: right;\">\n",
       "      <th></th>\n",
       "      <th>compactness</th>\n",
       "      <th>circularity</th>\n",
       "      <th>distance_circularity</th>\n",
       "      <th>radius_ratio</th>\n",
       "      <th>pr.axis_aspect_ratio</th>\n",
       "      <th>max.length_aspect_ratio</th>\n",
       "      <th>scatter_ratio</th>\n",
       "      <th>elongatedness</th>\n",
       "      <th>pr.axis_rectangularity</th>\n",
       "      <th>max.length_rectangularity</th>\n",
       "      <th>scaled_variance</th>\n",
       "      <th>scaled_variance.1</th>\n",
       "      <th>scaled_radius_of_gyration</th>\n",
       "      <th>scaled_radius_of_gyration.1</th>\n",
       "      <th>skewness_about</th>\n",
       "      <th>skewness_about.1</th>\n",
       "      <th>skewness_about.2</th>\n",
       "      <th>hollows_ratio</th>\n",
       "      <th>class</th>\n",
       "    </tr>\n",
       "  </thead>\n",
       "  <tbody>\n",
       "    <tr>\n",
       "      <th>0</th>\n",
       "      <td>0.163231</td>\n",
       "      <td>0.520408</td>\n",
       "      <td>0.060669</td>\n",
       "      <td>0.264970</td>\n",
       "      <td>1.283254</td>\n",
       "      <td>0.299721</td>\n",
       "      <td>-0.198517</td>\n",
       "      <td>0.129648</td>\n",
       "      <td>-0.217151</td>\n",
       "      <td>0.766312</td>\n",
       "      <td>-0.397397</td>\n",
       "      <td>-0.339014</td>\n",
       "      <td>0.301676</td>\n",
       "      <td>-0.321192</td>\n",
       "      <td>-0.071523</td>\n",
       "      <td>0.371287</td>\n",
       "      <td>-0.321809</td>\n",
       "      <td>0.171837</td>\n",
       "      <td>1.542453</td>\n",
       "    </tr>\n",
       "    <tr>\n",
       "      <th>1</th>\n",
       "      <td>-0.322874</td>\n",
       "      <td>-0.619123</td>\n",
       "      <td>0.124067</td>\n",
       "      <td>-0.836393</td>\n",
       "      <td>-0.599253</td>\n",
       "      <td>0.085785</td>\n",
       "      <td>-0.591720</td>\n",
       "      <td>0.514333</td>\n",
       "      <td>-0.606014</td>\n",
       "      <td>-0.337462</td>\n",
       "      <td>-0.590034</td>\n",
       "      <td>-0.618754</td>\n",
       "      <td>-0.502972</td>\n",
       "      <td>-0.053505</td>\n",
       "      <td>0.538425</td>\n",
       "      <td>0.147109</td>\n",
       "      <td>0.003400</td>\n",
       "      <td>0.442318</td>\n",
       "      <td>1.542453</td>\n",
       "    </tr>\n",
       "    <tr>\n",
       "      <th>2</th>\n",
       "      <td>1.256966</td>\n",
       "      <td>0.845988</td>\n",
       "      <td>1.518823</td>\n",
       "      <td>1.187734</td>\n",
       "      <td>0.530251</td>\n",
       "      <td>0.299721</td>\n",
       "      <td>1.162569</td>\n",
       "      <td>-1.152637</td>\n",
       "      <td>0.949438</td>\n",
       "      <td>0.697326</td>\n",
       "      <td>1.111591</td>\n",
       "      <td>1.122486</td>\n",
       "      <td>1.415804</td>\n",
       "      <td>0.080339</td>\n",
       "      <td>1.555006</td>\n",
       "      <td>-0.413338</td>\n",
       "      <td>-0.159204</td>\n",
       "      <td>0.036596</td>\n",
       "      <td>-0.890164</td>\n",
       "    </tr>\n",
       "    <tr>\n",
       "      <th>3</th>\n",
       "      <td>-0.079822</td>\n",
       "      <td>-0.619123</td>\n",
       "      <td>-0.002729</td>\n",
       "      <td>-0.300595</td>\n",
       "      <td>0.153750</td>\n",
       "      <td>0.085785</td>\n",
       "      <td>-0.742952</td>\n",
       "      <td>0.642562</td>\n",
       "      <td>-0.606014</td>\n",
       "      <td>-0.337462</td>\n",
       "      <td>-0.911095</td>\n",
       "      <td>-0.738643</td>\n",
       "      <td>-1.462359</td>\n",
       "      <td>-1.258099</td>\n",
       "      <td>-0.071523</td>\n",
       "      <td>-0.301249</td>\n",
       "      <td>1.629444</td>\n",
       "      <td>1.524243</td>\n",
       "      <td>1.542453</td>\n",
       "    </tr>\n",
       "    <tr>\n",
       "      <th>4</th>\n",
       "      <td>-1.052030</td>\n",
       "      <td>-0.130753</td>\n",
       "      <td>-0.763506</td>\n",
       "      <td>1.068668</td>\n",
       "      <td>5.173770</td>\n",
       "      <td>9.285029</td>\n",
       "      <td>-0.591720</td>\n",
       "      <td>0.514333</td>\n",
       "      <td>-0.606014</td>\n",
       "      <td>-0.268476</td>\n",
       "      <td>1.689501</td>\n",
       "      <td>-0.647299</td>\n",
       "      <td>0.425468</td>\n",
       "      <td>7.307905</td>\n",
       "      <td>0.538425</td>\n",
       "      <td>-0.189159</td>\n",
       "      <td>-1.460039</td>\n",
       "      <td>-1.721531</td>\n",
       "      <td>0.326144</td>\n",
       "    </tr>\n",
       "  </tbody>\n",
       "</table>\n",
       "</div>"
      ],
      "text/plain": [
       "   compactness  circularity  distance_circularity  radius_ratio  \\\n",
       "0     0.163231     0.520408              0.060669      0.264970   \n",
       "1    -0.322874    -0.619123              0.124067     -0.836393   \n",
       "2     1.256966     0.845988              1.518823      1.187734   \n",
       "3    -0.079822    -0.619123             -0.002729     -0.300595   \n",
       "4    -1.052030    -0.130753             -0.763506      1.068668   \n",
       "\n",
       "   pr.axis_aspect_ratio  max.length_aspect_ratio  scatter_ratio  \\\n",
       "0              1.283254                 0.299721      -0.198517   \n",
       "1             -0.599253                 0.085785      -0.591720   \n",
       "2              0.530251                 0.299721       1.162569   \n",
       "3              0.153750                 0.085785      -0.742952   \n",
       "4              5.173770                 9.285029      -0.591720   \n",
       "\n",
       "   elongatedness  pr.axis_rectangularity  max.length_rectangularity  \\\n",
       "0       0.129648               -0.217151                   0.766312   \n",
       "1       0.514333               -0.606014                  -0.337462   \n",
       "2      -1.152637                0.949438                   0.697326   \n",
       "3       0.642562               -0.606014                  -0.337462   \n",
       "4       0.514333               -0.606014                  -0.268476   \n",
       "\n",
       "   scaled_variance  scaled_variance.1  scaled_radius_of_gyration  \\\n",
       "0        -0.397397          -0.339014                   0.301676   \n",
       "1        -0.590034          -0.618754                  -0.502972   \n",
       "2         1.111591           1.122486                   1.415804   \n",
       "3        -0.911095          -0.738643                  -1.462359   \n",
       "4         1.689501          -0.647299                   0.425468   \n",
       "\n",
       "   scaled_radius_of_gyration.1  skewness_about  skewness_about.1  \\\n",
       "0                    -0.321192       -0.071523          0.371287   \n",
       "1                    -0.053505        0.538425          0.147109   \n",
       "2                     0.080339        1.555006         -0.413338   \n",
       "3                    -1.258099       -0.071523         -0.301249   \n",
       "4                     7.307905        0.538425         -0.189159   \n",
       "\n",
       "   skewness_about.2  hollows_ratio     class  \n",
       "0         -0.321809       0.171837  1.542453  \n",
       "1          0.003400       0.442318  1.542453  \n",
       "2         -0.159204       0.036596 -0.890164  \n",
       "3          1.629444       1.524243  1.542453  \n",
       "4         -1.460039      -1.721531  0.326144  "
      ]
     },
     "execution_count": 8,
     "metadata": {},
     "output_type": "execute_result"
    },
    {
     "data": {
      "text/plain": [
       "(813, 19)"
      ]
     },
     "execution_count": 8,
     "metadata": {},
     "output_type": "execute_result"
    },
    {
     "data": {
      "text/html": [
       "<div>\n",
       "<style scoped>\n",
       "    .dataframe tbody tr th:only-of-type {\n",
       "        vertical-align: middle;\n",
       "    }\n",
       "\n",
       "    .dataframe tbody tr th {\n",
       "        vertical-align: top;\n",
       "    }\n",
       "\n",
       "    .dataframe thead th {\n",
       "        text-align: right;\n",
       "    }\n",
       "</style>\n",
       "<table border=\"1\" class=\"dataframe\">\n",
       "  <thead>\n",
       "    <tr style=\"text-align: right;\">\n",
       "      <th></th>\n",
       "      <th>count</th>\n",
       "      <th>mean</th>\n",
       "      <th>std</th>\n",
       "      <th>min</th>\n",
       "      <th>25%</th>\n",
       "      <th>50%</th>\n",
       "      <th>75%</th>\n",
       "      <th>max</th>\n",
       "    </tr>\n",
       "  </thead>\n",
       "  <tbody>\n",
       "    <tr>\n",
       "      <th>compactness</th>\n",
       "      <td>813.0</td>\n",
       "      <td>-2.425284e-16</td>\n",
       "      <td>1.000616</td>\n",
       "      <td>-2.510344</td>\n",
       "      <td>-0.808978</td>\n",
       "      <td>-0.079822</td>\n",
       "      <td>0.770861</td>\n",
       "      <td>3.079857</td>\n",
       "    </tr>\n",
       "    <tr>\n",
       "      <th>circularity</th>\n",
       "      <td>813.0</td>\n",
       "      <td>-4.642999e-16</td>\n",
       "      <td>1.000616</td>\n",
       "      <td>-1.921444</td>\n",
       "      <td>-0.781913</td>\n",
       "      <td>-0.130753</td>\n",
       "      <td>0.683198</td>\n",
       "      <td>2.311100</td>\n",
       "    </tr>\n",
       "    <tr>\n",
       "      <th>distance_circularity</th>\n",
       "      <td>813.0</td>\n",
       "      <td>-2.351542e-16</td>\n",
       "      <td>1.000616</td>\n",
       "      <td>-2.665447</td>\n",
       "      <td>-0.763506</td>\n",
       "      <td>-0.192923</td>\n",
       "      <td>1.011639</td>\n",
       "      <td>1.899212</td>\n",
       "    </tr>\n",
       "    <tr>\n",
       "      <th>radius_ratio</th>\n",
       "      <td>813.0</td>\n",
       "      <td>3.665238e-16</td>\n",
       "      <td>1.000616</td>\n",
       "      <td>-1.937757</td>\n",
       "      <td>-0.836393</td>\n",
       "      <td>-0.062462</td>\n",
       "      <td>0.771002</td>\n",
       "      <td>4.878790</td>\n",
       "    </tr>\n",
       "    <tr>\n",
       "      <th>pr.axis_aspect_ratio</th>\n",
       "      <td>813.0</td>\n",
       "      <td>-2.047016e-16</td>\n",
       "      <td>1.000616</td>\n",
       "      <td>-1.854258</td>\n",
       "      <td>-0.599253</td>\n",
       "      <td>-0.097251</td>\n",
       "      <td>0.404751</td>\n",
       "      <td>9.566288</td>\n",
       "    </tr>\n",
       "    <tr>\n",
       "      <th>max.length_aspect_ratio</th>\n",
       "      <td>813.0</td>\n",
       "      <td>-1.349201e-16</td>\n",
       "      <td>1.000616</td>\n",
       "      <td>-1.411767</td>\n",
       "      <td>-0.342087</td>\n",
       "      <td>-0.128151</td>\n",
       "      <td>0.299721</td>\n",
       "      <td>9.926837</td>\n",
       "    </tr>\n",
       "    <tr>\n",
       "      <th>scatter_ratio</th>\n",
       "      <td>813.0</td>\n",
       "      <td>3.714399e-16</td>\n",
       "      <td>1.000616</td>\n",
       "      <td>-1.710835</td>\n",
       "      <td>-0.682459</td>\n",
       "      <td>-0.349749</td>\n",
       "      <td>0.890352</td>\n",
       "      <td>2.916857</td>\n",
       "    </tr>\n",
       "    <tr>\n",
       "      <th>elongatedness</th>\n",
       "      <td>813.0</td>\n",
       "      <td>-2.062038e-16</td>\n",
       "      <td>1.000616</td>\n",
       "      <td>-1.922008</td>\n",
       "      <td>-1.024408</td>\n",
       "      <td>0.257876</td>\n",
       "      <td>0.642562</td>\n",
       "      <td>2.565989</td>\n",
       "    </tr>\n",
       "    <tr>\n",
       "      <th>pr.axis_rectangularity</th>\n",
       "      <td>813.0</td>\n",
       "      <td>-2.651972e-16</td>\n",
       "      <td>1.000616</td>\n",
       "      <td>-1.383740</td>\n",
       "      <td>-0.606014</td>\n",
       "      <td>-0.217151</td>\n",
       "      <td>0.949438</td>\n",
       "      <td>3.282615</td>\n",
       "    </tr>\n",
       "    <tr>\n",
       "      <th>max.length_rectangularity</th>\n",
       "      <td>813.0</td>\n",
       "      <td>-7.398756e-16</td>\n",
       "      <td>1.000616</td>\n",
       "      <td>-2.062109</td>\n",
       "      <td>-0.751377</td>\n",
       "      <td>-0.130505</td>\n",
       "      <td>0.766312</td>\n",
       "      <td>2.766901</td>\n",
       "    </tr>\n",
       "    <tr>\n",
       "      <th>scaled_variance</th>\n",
       "      <td>813.0</td>\n",
       "      <td>-3.031605e-17</td>\n",
       "      <td>1.000616</td>\n",
       "      <td>-1.874279</td>\n",
       "      <td>-0.686352</td>\n",
       "      <td>-0.301079</td>\n",
       "      <td>0.918954</td>\n",
       "      <td>4.225885</td>\n",
       "    </tr>\n",
       "    <tr>\n",
       "      <th>scaled_variance.1</th>\n",
       "      <td>813.0</td>\n",
       "      <td>-3.550529e-17</td>\n",
       "      <td>1.000616</td>\n",
       "      <td>-1.452266</td>\n",
       "      <td>-0.687262</td>\n",
       "      <td>-0.424649</td>\n",
       "      <td>0.842746</td>\n",
       "      <td>3.309026</td>\n",
       "    </tr>\n",
       "    <tr>\n",
       "      <th>scaled_radius_of_gyration</th>\n",
       "      <td>813.0</td>\n",
       "      <td>3.348422e-16</td>\n",
       "      <td>1.000616</td>\n",
       "      <td>-2.019423</td>\n",
       "      <td>-0.781504</td>\n",
       "      <td>-0.038752</td>\n",
       "      <td>0.734948</td>\n",
       "      <td>2.901308</td>\n",
       "    </tr>\n",
       "    <tr>\n",
       "      <th>scaled_radius_of_gyration.1</th>\n",
       "      <td>813.0</td>\n",
       "      <td>1.312159e-16</td>\n",
       "      <td>1.000616</td>\n",
       "      <td>-1.793474</td>\n",
       "      <td>-0.722724</td>\n",
       "      <td>-0.187348</td>\n",
       "      <td>0.348027</td>\n",
       "      <td>8.378655</td>\n",
       "    </tr>\n",
       "    <tr>\n",
       "      <th>skewness_about</th>\n",
       "      <td>813.0</td>\n",
       "      <td>-1.693329e-17</td>\n",
       "      <td>1.000616</td>\n",
       "      <td>-1.291420</td>\n",
       "      <td>-0.884788</td>\n",
       "      <td>-0.071523</td>\n",
       "      <td>0.538425</td>\n",
       "      <td>3.181535</td>\n",
       "    </tr>\n",
       "    <tr>\n",
       "      <th>skewness_about.1</th>\n",
       "      <td>813.0</td>\n",
       "      <td>9.845889e-17</td>\n",
       "      <td>1.000616</td>\n",
       "      <td>-1.422141</td>\n",
       "      <td>-0.749606</td>\n",
       "      <td>-0.189159</td>\n",
       "      <td>0.707555</td>\n",
       "      <td>3.173519</td>\n",
       "    </tr>\n",
       "    <tr>\n",
       "      <th>skewness_about.2</th>\n",
       "      <td>813.0</td>\n",
       "      <td>-1.169490e-15</td>\n",
       "      <td>1.000616</td>\n",
       "      <td>-2.110457</td>\n",
       "      <td>-0.809622</td>\n",
       "      <td>0.003400</td>\n",
       "      <td>0.653818</td>\n",
       "      <td>2.767675</td>\n",
       "    </tr>\n",
       "    <tr>\n",
       "      <th>hollows_ratio</th>\n",
       "      <td>813.0</td>\n",
       "      <td>3.482249e-16</td>\n",
       "      <td>1.000616</td>\n",
       "      <td>-1.992013</td>\n",
       "      <td>-0.639607</td>\n",
       "      <td>0.171837</td>\n",
       "      <td>0.712800</td>\n",
       "      <td>2.065206</td>\n",
       "    </tr>\n",
       "    <tr>\n",
       "      <th>class</th>\n",
       "      <td>813.0</td>\n",
       "      <td>-1.207180e-16</td>\n",
       "      <td>1.000616</td>\n",
       "      <td>-0.890164</td>\n",
       "      <td>-0.890164</td>\n",
       "      <td>-0.890164</td>\n",
       "      <td>0.326144</td>\n",
       "      <td>1.542453</td>\n",
       "    </tr>\n",
       "  </tbody>\n",
       "</table>\n",
       "</div>"
      ],
      "text/plain": [
       "                             count          mean       std       min  \\\n",
       "compactness                  813.0 -2.425284e-16  1.000616 -2.510344   \n",
       "circularity                  813.0 -4.642999e-16  1.000616 -1.921444   \n",
       "distance_circularity         813.0 -2.351542e-16  1.000616 -2.665447   \n",
       "radius_ratio                 813.0  3.665238e-16  1.000616 -1.937757   \n",
       "pr.axis_aspect_ratio         813.0 -2.047016e-16  1.000616 -1.854258   \n",
       "max.length_aspect_ratio      813.0 -1.349201e-16  1.000616 -1.411767   \n",
       "scatter_ratio                813.0  3.714399e-16  1.000616 -1.710835   \n",
       "elongatedness                813.0 -2.062038e-16  1.000616 -1.922008   \n",
       "pr.axis_rectangularity       813.0 -2.651972e-16  1.000616 -1.383740   \n",
       "max.length_rectangularity    813.0 -7.398756e-16  1.000616 -2.062109   \n",
       "scaled_variance              813.0 -3.031605e-17  1.000616 -1.874279   \n",
       "scaled_variance.1            813.0 -3.550529e-17  1.000616 -1.452266   \n",
       "scaled_radius_of_gyration    813.0  3.348422e-16  1.000616 -2.019423   \n",
       "scaled_radius_of_gyration.1  813.0  1.312159e-16  1.000616 -1.793474   \n",
       "skewness_about               813.0 -1.693329e-17  1.000616 -1.291420   \n",
       "skewness_about.1             813.0  9.845889e-17  1.000616 -1.422141   \n",
       "skewness_about.2             813.0 -1.169490e-15  1.000616 -2.110457   \n",
       "hollows_ratio                813.0  3.482249e-16  1.000616 -1.992013   \n",
       "class                        813.0 -1.207180e-16  1.000616 -0.890164   \n",
       "\n",
       "                                  25%       50%       75%       max  \n",
       "compactness                 -0.808978 -0.079822  0.770861  3.079857  \n",
       "circularity                 -0.781913 -0.130753  0.683198  2.311100  \n",
       "distance_circularity        -0.763506 -0.192923  1.011639  1.899212  \n",
       "radius_ratio                -0.836393 -0.062462  0.771002  4.878790  \n",
       "pr.axis_aspect_ratio        -0.599253 -0.097251  0.404751  9.566288  \n",
       "max.length_aspect_ratio     -0.342087 -0.128151  0.299721  9.926837  \n",
       "scatter_ratio               -0.682459 -0.349749  0.890352  2.916857  \n",
       "elongatedness               -1.024408  0.257876  0.642562  2.565989  \n",
       "pr.axis_rectangularity      -0.606014 -0.217151  0.949438  3.282615  \n",
       "max.length_rectangularity   -0.751377 -0.130505  0.766312  2.766901  \n",
       "scaled_variance             -0.686352 -0.301079  0.918954  4.225885  \n",
       "scaled_variance.1           -0.687262 -0.424649  0.842746  3.309026  \n",
       "scaled_radius_of_gyration   -0.781504 -0.038752  0.734948  2.901308  \n",
       "scaled_radius_of_gyration.1 -0.722724 -0.187348  0.348027  8.378655  \n",
       "skewness_about              -0.884788 -0.071523  0.538425  3.181535  \n",
       "skewness_about.1            -0.749606 -0.189159  0.707555  3.173519  \n",
       "skewness_about.2            -0.809622  0.003400  0.653818  2.767675  \n",
       "hollows_ratio               -0.639607  0.171837  0.712800  2.065206  \n",
       "class                       -0.890164 -0.890164  0.326144  1.542453  "
      ]
     },
     "execution_count": 8,
     "metadata": {},
     "output_type": "execute_result"
    }
   ],
   "source": [
    "vehicledata_z.head()\n",
    "vehicledata_z.shape\n",
    "vehicledata_z.describe().transpose()"
   ]
  },
  {
   "cell_type": "markdown",
   "metadata": {},
   "source": [
    "### K - Means Clustering"
   ]
  },
  {
   "cell_type": "markdown",
   "metadata": {},
   "source": [
    "### 4. Assign a dummy array called distortion"
   ]
  },
  {
   "cell_type": "code",
   "execution_count": 9,
   "metadata": {},
   "outputs": [],
   "source": [
    "distortion = pd.DataFrame()"
   ]
  },
  {
   "cell_type": "markdown",
   "metadata": {},
   "source": [
    "You can later use this array to plot the elbow plot"
   ]
  },
  {
   "cell_type": "markdown",
   "metadata": {},
   "source": [
    "### 5. Calculating distortion - C distance"
   ]
  },
  {
   "cell_type": "code",
   "execution_count": 10,
   "metadata": {},
   "outputs": [
    {
     "data": {
      "text/plain": [
       "KMeans(algorithm='auto', copy_x=True, init='k-means++', max_iter=300,\n",
       "    n_clusters=1, n_init=5, n_jobs=1, precompute_distances='auto',\n",
       "    random_state=None, tol=0.0001, verbose=0)"
      ]
     },
     "execution_count": 10,
     "metadata": {},
     "output_type": "execute_result"
    },
    {
     "data": {
      "text/plain": [
       "KMeans(algorithm='auto', copy_x=True, init='k-means++', max_iter=300,\n",
       "    n_clusters=2, n_init=5, n_jobs=1, precompute_distances='auto',\n",
       "    random_state=None, tol=0.0001, verbose=0)"
      ]
     },
     "execution_count": 10,
     "metadata": {},
     "output_type": "execute_result"
    },
    {
     "data": {
      "text/plain": [
       "KMeans(algorithm='auto', copy_x=True, init='k-means++', max_iter=300,\n",
       "    n_clusters=3, n_init=5, n_jobs=1, precompute_distances='auto',\n",
       "    random_state=None, tol=0.0001, verbose=0)"
      ]
     },
     "execution_count": 10,
     "metadata": {},
     "output_type": "execute_result"
    },
    {
     "data": {
      "text/plain": [
       "KMeans(algorithm='auto', copy_x=True, init='k-means++', max_iter=300,\n",
       "    n_clusters=4, n_init=5, n_jobs=1, precompute_distances='auto',\n",
       "    random_state=None, tol=0.0001, verbose=0)"
      ]
     },
     "execution_count": 10,
     "metadata": {},
     "output_type": "execute_result"
    },
    {
     "data": {
      "text/plain": [
       "KMeans(algorithm='auto', copy_x=True, init='k-means++', max_iter=300,\n",
       "    n_clusters=5, n_init=5, n_jobs=1, precompute_distances='auto',\n",
       "    random_state=None, tol=0.0001, verbose=0)"
      ]
     },
     "execution_count": 10,
     "metadata": {},
     "output_type": "execute_result"
    },
    {
     "data": {
      "text/plain": [
       "KMeans(algorithm='auto', copy_x=True, init='k-means++', max_iter=300,\n",
       "    n_clusters=6, n_init=5, n_jobs=1, precompute_distances='auto',\n",
       "    random_state=None, tol=0.0001, verbose=0)"
      ]
     },
     "execution_count": 10,
     "metadata": {},
     "output_type": "execute_result"
    },
    {
     "data": {
      "text/plain": [
       "KMeans(algorithm='auto', copy_x=True, init='k-means++', max_iter=300,\n",
       "    n_clusters=7, n_init=5, n_jobs=1, precompute_distances='auto',\n",
       "    random_state=None, tol=0.0001, verbose=0)"
      ]
     },
     "execution_count": 10,
     "metadata": {},
     "output_type": "execute_result"
    },
    {
     "data": {
      "text/plain": [
       "KMeans(algorithm='auto', copy_x=True, init='k-means++', max_iter=300,\n",
       "    n_clusters=8, n_init=5, n_jobs=1, precompute_distances='auto',\n",
       "    random_state=None, tol=0.0001, verbose=0)"
      ]
     },
     "execution_count": 10,
     "metadata": {},
     "output_type": "execute_result"
    },
    {
     "data": {
      "text/plain": [
       "KMeans(algorithm='auto', copy_x=True, init='k-means++', max_iter=300,\n",
       "    n_clusters=9, n_init=5, n_jobs=1, precompute_distances='auto',\n",
       "    random_state=None, tol=0.0001, verbose=0)"
      ]
     },
     "execution_count": 10,
     "metadata": {},
     "output_type": "execute_result"
    },
    {
     "data": {
      "text/html": [
       "<div>\n",
       "<style scoped>\n",
       "    .dataframe tbody tr th:only-of-type {\n",
       "        vertical-align: middle;\n",
       "    }\n",
       "\n",
       "    .dataframe tbody tr th {\n",
       "        vertical-align: top;\n",
       "    }\n",
       "\n",
       "    .dataframe thead th {\n",
       "        text-align: right;\n",
       "    }\n",
       "</style>\n",
       "<table border=\"1\" class=\"dataframe\">\n",
       "  <thead>\n",
       "    <tr style=\"text-align: right;\">\n",
       "      <th></th>\n",
       "      <th>num_clusters</th>\n",
       "      <th>cluster_errors</th>\n",
       "    </tr>\n",
       "  </thead>\n",
       "  <tbody>\n",
       "    <tr>\n",
       "      <th>0</th>\n",
       "      <td>1</td>\n",
       "      <td>15447.000000</td>\n",
       "    </tr>\n",
       "    <tr>\n",
       "      <th>1</th>\n",
       "      <td>2</td>\n",
       "      <td>9260.150522</td>\n",
       "    </tr>\n",
       "    <tr>\n",
       "      <th>2</th>\n",
       "      <td>3</td>\n",
       "      <td>7682.251257</td>\n",
       "    </tr>\n",
       "    <tr>\n",
       "      <th>3</th>\n",
       "      <td>4</td>\n",
       "      <td>6362.509519</td>\n",
       "    </tr>\n",
       "    <tr>\n",
       "      <th>4</th>\n",
       "      <td>5</td>\n",
       "      <td>5756.252966</td>\n",
       "    </tr>\n",
       "    <tr>\n",
       "      <th>5</th>\n",
       "      <td>6</td>\n",
       "      <td>5256.510885</td>\n",
       "    </tr>\n",
       "    <tr>\n",
       "      <th>6</th>\n",
       "      <td>7</td>\n",
       "      <td>4855.990476</td>\n",
       "    </tr>\n",
       "    <tr>\n",
       "      <th>7</th>\n",
       "      <td>8</td>\n",
       "      <td>4625.384537</td>\n",
       "    </tr>\n",
       "    <tr>\n",
       "      <th>8</th>\n",
       "      <td>9</td>\n",
       "      <td>4303.529661</td>\n",
       "    </tr>\n",
       "  </tbody>\n",
       "</table>\n",
       "</div>"
      ],
      "text/plain": [
       "   num_clusters  cluster_errors\n",
       "0             1    15447.000000\n",
       "1             2     9260.150522\n",
       "2             3     7682.251257\n",
       "3             4     6362.509519\n",
       "4             5     5756.252966\n",
       "5             6     5256.510885\n",
       "6             7     4855.990476\n",
       "7             8     4625.384537\n",
       "8             9     4303.529661"
      ]
     },
     "execution_count": 10,
     "metadata": {},
     "output_type": "execute_result"
    }
   ],
   "source": [
    "cluster_range = range( 1, 10)   # expect 3 to four clusters from the pair panel visual inspection hence restricting from 2 to 6\n",
    "cluster_errors = []\n",
    "cluster_sil_scores = []\n",
    "for num_clusters in cluster_range:\n",
    "  clusters = KMeans( num_clusters, n_init = 5)\n",
    "  clusters.fit(vehicledata_z)\n",
    "  labels = clusters.labels_                     # capture the cluster lables\n",
    "  #print(clusters.labels_)\n",
    "  centroids = clusters.cluster_centers_         # capture the centroids\n",
    "  #print(clusters.cluster_centers_)\n",
    "  cluster_errors.append( clusters.inertia_ )    # capture the intertia\n",
    "  #print(clusters.inertia_) \n",
    "  \n",
    "\n",
    "\n",
    "# combine the cluster_range and cluster_errors into a dataframe by combining them\n",
    "distortion[\"num_clusters\"] = cluster_range\n",
    "distortion[\"cluster_errors\"] = cluster_errors\n",
    "distortion[0:15]"
   ]
  },
  {
   "cell_type": "markdown",
   "metadata": {},
   "source": [
    "Iterating values of k from 1 to 10 fit K means model\n",
    "Using c distance - Get the measure for Sum of squares error."
   ]
  },
  {
   "cell_type": "markdown",
   "metadata": {},
   "source": [
    "### 6. Plotting Elbow/ Scree Plot"
   ]
  },
  {
   "cell_type": "code",
   "execution_count": 11,
   "metadata": {},
   "outputs": [
    {
     "data": {
      "text/plain": [
       "<Figure size 1008x576 with 0 Axes>"
      ]
     },
     "execution_count": 11,
     "metadata": {},
     "output_type": "execute_result"
    },
    {
     "data": {
      "text/plain": [
       "[<matplotlib.lines.Line2D at 0x11b34186400>]"
      ]
     },
     "execution_count": 11,
     "metadata": {},
     "output_type": "execute_result"
    },
    {
     "data": {
      "image/png": "[encoded data removed]",
      "text/plain": [
       "<Figure size 1008x576 with 1 Axes>"
      ]
     },
     "metadata": {
      "needs_background": "light"
     },
     "output_type": "display_data"
    }
   ],
   "source": [
    "# Elbow plot\n",
    "\n",
    "plt.figure(figsize=(14,8))\n",
    "plt.plot( distortion.num_clusters, distortion.cluster_errors, marker = \"o\" )"
   ]
  },
  {
   "cell_type": "markdown",
   "metadata": {},
   "source": [
    "Use Matplotlib to plot the scree plot - Note: Scree plot plots distortion vs the no of clusters"
   ]
  },
  {
   "cell_type": "markdown",
   "metadata": {},
   "source": [
    "### Find out the optimal value of K"
   ]
  },
  {
   "cell_type": "markdown",
   "metadata": {},
   "source": [
    "####  Answer: Optimum k value as per the above elbow plot is 4 but even based on data we have only 3 categorical values in the class \"car\", \"van\" and \"bus\""
   ]
  },
  {
   "cell_type": "markdown",
   "metadata": {},
   "source": [
    "### Using optimal value of K - Cluster the data. \n",
    "Note: Since the data has more than 2 dimension we cannot visualize the data. As an alternative, we can observe the centroids and note how they are distributed across different dimensions"
   ]
  },
  {
   "cell_type": "code",
   "execution_count": 12,
   "metadata": {},
   "outputs": [
    {
     "name": "stdout",
     "output_type": "stream",
     "text": [
      "[[ 1.15063017e+00  1.18492237e+00  1.21372045e+00  9.72856669e-01\n",
      "   9.24701570e-02  2.20330516e-01  1.29702324e+00 -1.21324488e+00\n",
      "   1.30032558e+00  1.09911438e+00  1.20602799e+00  1.30784934e+00\n",
      "   1.09483963e+00 -1.11538437e-01  1.69914670e-01  2.66641298e-01\n",
      "   2.76491851e-03  1.91911857e-01 -6.85862367e-01]\n",
      " [-8.77842942e-01 -4.87082285e-01 -8.33243548e-01 -1.01885144e+00\n",
      "  -4.88162169e-01 -2.77906176e-01 -7.65580455e-01  8.37279274e-01\n",
      "  -7.37075016e-01 -4.45540016e-01 -7.79698040e-01 -7.69492355e-01\n",
      "  -3.75855523e-01  6.77679177e-01 -1.02397212e-01 -3.13702952e-01\n",
      "  -9.51147942e-01 -9.87225000e-01  4.56784704e-01]\n",
      " [-1.85231303e-01 -6.17956232e-01 -2.99495734e-01  8.80686710e-03\n",
      "   1.91534803e-01 -1.82593508e-01 -4.33875136e-01  2.89588900e-01\n",
      "  -4.63848913e-01 -5.85465091e-01 -4.00734470e-01 -4.38501611e-01\n",
      "  -6.46951833e-01 -6.95858939e-01 -4.89325907e-02  6.55525700e-02\n",
      "   9.38229671e-01  7.92295772e-01  1.51763055e-01]\n",
      " [-7.33024343e-01  7.27349604e-02 -2.72170954e-01  2.94768327e+00\n",
      "   6.83665190e+00  8.69670551e+00 -5.35008001e-01  4.66247771e-01\n",
      "  -5.57405972e-01  2.83410527e-01  1.69752769e+00 -5.88068272e-01\n",
      "   2.12700856e-01  4.96563826e+00 -2.74839440e-01 -2.31192779e-01\n",
      "  -7.07994144e-01 -4.53650721e-01  1.23837543e+00]]\n"
     ]
    }
   ],
   "source": [
    "# Optimal value of K\n",
    "kmeans = KMeans(n_clusters=4)\n",
    "kmeans = kmeans.fit(vehicledata_z)\n",
    "labels = kmeans.predict(vehicledata_z)\n",
    "\n",
    "# Cluster centroids\n",
    "centroids = kmeans.cluster_centers_\n",
    "print(kmeans.cluster_centers_) "
   ]
  },
  {
   "cell_type": "markdown",
   "metadata": {},
   "source": [
    "You can use kmeans.cluster_centers_ function to pull the centroid information from the instance"
   ]
  },
  {
   "cell_type": "markdown",
   "metadata": {},
   "source": [
    "### 7. Store the centroids in a dataframe with column names from the original dataset given "
   ]
  },
  {
   "cell_type": "code",
   "execution_count": 13,
   "metadata": {},
   "outputs": [],
   "source": [
    "centroids_df = pd.DataFrame()"
   ]
  },
  {
   "cell_type": "code",
   "execution_count": 14,
   "metadata": {},
   "outputs": [],
   "source": [
    "centroids_df[\"columns\"] = vehicledata_z.columns"
   ]
  },
  {
   "cell_type": "code",
   "execution_count": 15,
   "metadata": {},
   "outputs": [],
   "source": [
    "for i in range(1,4):\n",
    "    centroids_df['cluster_'+str(i)] = centroids[i]"
   ]
  },
  {
   "cell_type": "markdown",
   "metadata": {},
   "source": [
    "Hint: Use pd.Dataframe function "
   ]
  },
  {
   "cell_type": "code",
   "execution_count": 16,
   "metadata": {},
   "outputs": [
    {
     "data": {
      "text/html": [
       "<div>\n",
       "<style scoped>\n",
       "    .dataframe tbody tr th:only-of-type {\n",
       "        vertical-align: middle;\n",
       "    }\n",
       "\n",
       "    .dataframe tbody tr th {\n",
       "        vertical-align: top;\n",
       "    }\n",
       "\n",
       "    .dataframe thead th {\n",
       "        text-align: right;\n",
       "    }\n",
       "</style>\n",
       "<table border=\"1\" class=\"dataframe\">\n",
       "  <thead>\n",
       "    <tr style=\"text-align: right;\">\n",
       "      <th></th>\n",
       "      <th>columns</th>\n",
       "      <th>cluster_1</th>\n",
       "      <th>cluster_2</th>\n",
       "      <th>cluster_3</th>\n",
       "    </tr>\n",
       "  </thead>\n",
       "  <tbody>\n",
       "    <tr>\n",
       "      <th>0</th>\n",
       "      <td>compactness</td>\n",
       "      <td>-0.877843</td>\n",
       "      <td>-0.185231</td>\n",
       "      <td>-0.733024</td>\n",
       "    </tr>\n",
       "    <tr>\n",
       "      <th>1</th>\n",
       "      <td>circularity</td>\n",
       "      <td>-0.487082</td>\n",
       "      <td>-0.617956</td>\n",
       "      <td>0.072735</td>\n",
       "    </tr>\n",
       "    <tr>\n",
       "      <th>2</th>\n",
       "      <td>distance_circularity</td>\n",
       "      <td>-0.833244</td>\n",
       "      <td>-0.299496</td>\n",
       "      <td>-0.272171</td>\n",
       "    </tr>\n",
       "    <tr>\n",
       "      <th>3</th>\n",
       "      <td>radius_ratio</td>\n",
       "      <td>-1.018851</td>\n",
       "      <td>0.008807</td>\n",
       "      <td>2.947683</td>\n",
       "    </tr>\n",
       "    <tr>\n",
       "      <th>4</th>\n",
       "      <td>pr.axis_aspect_ratio</td>\n",
       "      <td>-0.488162</td>\n",
       "      <td>0.191535</td>\n",
       "      <td>6.836652</td>\n",
       "    </tr>\n",
       "    <tr>\n",
       "      <th>5</th>\n",
       "      <td>max.length_aspect_ratio</td>\n",
       "      <td>-0.277906</td>\n",
       "      <td>-0.182594</td>\n",
       "      <td>8.696706</td>\n",
       "    </tr>\n",
       "    <tr>\n",
       "      <th>6</th>\n",
       "      <td>scatter_ratio</td>\n",
       "      <td>-0.765580</td>\n",
       "      <td>-0.433875</td>\n",
       "      <td>-0.535008</td>\n",
       "    </tr>\n",
       "    <tr>\n",
       "      <th>7</th>\n",
       "      <td>elongatedness</td>\n",
       "      <td>0.837279</td>\n",
       "      <td>0.289589</td>\n",
       "      <td>0.466248</td>\n",
       "    </tr>\n",
       "    <tr>\n",
       "      <th>8</th>\n",
       "      <td>pr.axis_rectangularity</td>\n",
       "      <td>-0.737075</td>\n",
       "      <td>-0.463849</td>\n",
       "      <td>-0.557406</td>\n",
       "    </tr>\n",
       "    <tr>\n",
       "      <th>9</th>\n",
       "      <td>max.length_rectangularity</td>\n",
       "      <td>-0.445540</td>\n",
       "      <td>-0.585465</td>\n",
       "      <td>0.283411</td>\n",
       "    </tr>\n",
       "    <tr>\n",
       "      <th>10</th>\n",
       "      <td>scaled_variance</td>\n",
       "      <td>-0.779698</td>\n",
       "      <td>-0.400734</td>\n",
       "      <td>1.697528</td>\n",
       "    </tr>\n",
       "    <tr>\n",
       "      <th>11</th>\n",
       "      <td>scaled_variance.1</td>\n",
       "      <td>-0.769492</td>\n",
       "      <td>-0.438502</td>\n",
       "      <td>-0.588068</td>\n",
       "    </tr>\n",
       "    <tr>\n",
       "      <th>12</th>\n",
       "      <td>scaled_radius_of_gyration</td>\n",
       "      <td>-0.375856</td>\n",
       "      <td>-0.646952</td>\n",
       "      <td>0.212701</td>\n",
       "    </tr>\n",
       "    <tr>\n",
       "      <th>13</th>\n",
       "      <td>scaled_radius_of_gyration.1</td>\n",
       "      <td>0.677679</td>\n",
       "      <td>-0.695859</td>\n",
       "      <td>4.965638</td>\n",
       "    </tr>\n",
       "    <tr>\n",
       "      <th>14</th>\n",
       "      <td>skewness_about</td>\n",
       "      <td>-0.102397</td>\n",
       "      <td>-0.048933</td>\n",
       "      <td>-0.274839</td>\n",
       "    </tr>\n",
       "    <tr>\n",
       "      <th>15</th>\n",
       "      <td>skewness_about.1</td>\n",
       "      <td>-0.313703</td>\n",
       "      <td>0.065553</td>\n",
       "      <td>-0.231193</td>\n",
       "    </tr>\n",
       "    <tr>\n",
       "      <th>16</th>\n",
       "      <td>skewness_about.2</td>\n",
       "      <td>-0.951148</td>\n",
       "      <td>0.938230</td>\n",
       "      <td>-0.707994</td>\n",
       "    </tr>\n",
       "    <tr>\n",
       "      <th>17</th>\n",
       "      <td>hollows_ratio</td>\n",
       "      <td>-0.987225</td>\n",
       "      <td>0.792296</td>\n",
       "      <td>-0.453651</td>\n",
       "    </tr>\n",
       "    <tr>\n",
       "      <th>18</th>\n",
       "      <td>class</td>\n",
       "      <td>0.456785</td>\n",
       "      <td>0.151763</td>\n",
       "      <td>1.238375</td>\n",
       "    </tr>\n",
       "  </tbody>\n",
       "</table>\n",
       "</div>"
      ],
      "text/plain": [
       "                        columns  cluster_1  cluster_2  cluster_3\n",
       "0                   compactness  -0.877843  -0.185231  -0.733024\n",
       "1                   circularity  -0.487082  -0.617956   0.072735\n",
       "2          distance_circularity  -0.833244  -0.299496  -0.272171\n",
       "3                  radius_ratio  -1.018851   0.008807   2.947683\n",
       "4          pr.axis_aspect_ratio  -0.488162   0.191535   6.836652\n",
       "5       max.length_aspect_ratio  -0.277906  -0.182594   8.696706\n",
       "6                 scatter_ratio  -0.765580  -0.433875  -0.535008\n",
       "7                 elongatedness   0.837279   0.289589   0.466248\n",
       "8        pr.axis_rectangularity  -0.737075  -0.463849  -0.557406\n",
       "9     max.length_rectangularity  -0.445540  -0.585465   0.283411\n",
       "10              scaled_variance  -0.779698  -0.400734   1.697528\n",
       "11            scaled_variance.1  -0.769492  -0.438502  -0.588068\n",
       "12    scaled_radius_of_gyration  -0.375856  -0.646952   0.212701\n",
       "13  scaled_radius_of_gyration.1   0.677679  -0.695859   4.965638\n",
       "14               skewness_about  -0.102397  -0.048933  -0.274839\n",
       "15             skewness_about.1  -0.313703   0.065553  -0.231193\n",
       "16             skewness_about.2  -0.951148   0.938230  -0.707994\n",
       "17                hollows_ratio  -0.987225   0.792296  -0.453651\n",
       "18                        class   0.456785   0.151763   1.238375"
      ]
     },
     "execution_count": 16,
     "metadata": {},
     "output_type": "execute_result"
    }
   ],
   "source": [
    "centroids_df"
   ]
  },
  {
   "cell_type": "markdown",
   "metadata": {},
   "source": [
    "### Use kmeans.labels_ function to print out the labels of the classes"
   ]
  },
  {
   "cell_type": "code",
   "execution_count": 17,
   "metadata": {},
   "outputs": [
    {
     "data": {
      "text/plain": [
       "array([2, 2, 0, 2, 3, 2, 2, 2, 2, 2, 2, 1, 2, 0, 1, 2, 0, 1, 1, 2, 2, 0,\n",
       "       2, 1, 0, 0, 1, 1, 2, 2, 0, 2, 1, 3, 0, 1, 0, 1, 1, 2, 0, 1, 1, 1,\n",
       "       1, 2, 1, 2, 0, 2, 0, 2, 2, 1, 0, 1, 0, 1, 1, 1, 2, 1, 0, 2, 0, 0,\n",
       "       2, 1, 2, 0, 2, 1, 1, 0, 2, 1, 2, 0, 2, 1, 2, 1, 0, 2, 0, 1, 1, 0,\n",
       "       1, 1, 0, 1, 3, 2, 2, 1, 0, 0, 1, 1, 2, 2, 1, 1, 1, 1, 2, 0, 0, 2,\n",
       "       1, 1, 2, 1, 1, 1, 1, 1, 2, 0, 0, 2, 2, 1, 0, 3, 1, 2, 1, 2, 2, 0,\n",
       "       1, 2, 0, 2, 2, 2, 2, 0, 2, 2, 0, 2, 0, 2, 1, 2, 1, 0, 2, 1, 0, 0,\n",
       "       2, 0, 1, 1, 0, 0, 2, 0, 1, 2, 2, 2, 1, 0, 1, 2, 1, 0, 2, 2, 2, 0,\n",
       "       2, 0, 2, 0, 2, 1, 0, 1, 1, 1, 1, 2, 0, 0, 2, 1, 2, 1, 0, 2, 1, 2,\n",
       "       0, 1, 1, 0, 1, 2, 0, 1, 1, 1, 2, 0, 2, 0, 1, 1, 1, 1, 0, 2, 1, 2,\n",
       "       0, 1, 2, 2, 1, 0, 1, 1, 2, 2, 0, 1, 0, 1, 2, 1, 0, 2, 2, 0, 0, 1,\n",
       "       2, 1, 2, 0, 1, 2, 2, 1, 1, 2, 2, 0, 2, 1, 1, 0, 2, 2, 1, 1, 0, 1,\n",
       "       1, 0, 1, 1, 3, 1, 2, 0, 2, 0, 1, 2, 2, 0, 2, 2, 2, 1, 1, 0, 0, 0,\n",
       "       0, 1, 1, 0, 1, 1, 1, 2, 1, 0, 0, 1, 0, 2, 1, 0, 1, 2, 2, 0, 0, 1,\n",
       "       0, 0, 1, 0, 2, 2, 2, 1, 1, 0, 0, 0, 2, 2, 2, 0, 1, 2, 1, 0, 2, 2,\n",
       "       0, 2, 0, 0, 0, 2, 1, 1, 0, 1, 1, 1, 1, 2, 2, 2, 1, 0, 0, 1, 1, 0,\n",
       "       1, 0, 1, 0, 2, 1, 2, 1, 3, 0, 1, 2, 2, 1, 0, 2, 2, 2, 2, 0, 2, 0,\n",
       "       2, 0, 2, 1, 1, 1, 2, 2, 1, 1, 2, 1, 0, 2, 2, 1, 1, 0, 2, 1, 2, 2,\n",
       "       0, 2, 0, 2, 0, 0, 1, 1, 0, 2, 1, 1, 0, 0, 0, 1, 1, 0, 0, 1, 0, 0,\n",
       "       0, 2, 2, 2, 2, 2, 0, 1, 1, 2, 0, 2, 2, 0, 2, 1, 0, 1, 1, 0, 2, 1,\n",
       "       0, 0, 0, 1, 0, 0, 1, 2, 1, 0, 0, 2, 1, 1, 1, 0, 2, 1, 0, 0, 2, 1,\n",
       "       0, 0, 2, 1, 1, 0, 0, 0, 1, 1, 0, 0, 0, 2, 2, 0, 1, 2, 0, 2, 1, 1,\n",
       "       2, 0, 1, 2, 2, 1, 3, 0, 2, 0, 0, 2, 1, 2, 0, 0, 1, 1, 2, 0, 2, 0,\n",
       "       0, 2, 2, 2, 2, 1, 1, 1, 2, 2, 0, 1, 1, 2, 1, 0, 2, 0, 1, 1, 0, 0,\n",
       "       2, 0, 2, 2, 2, 0, 2, 1, 2, 0, 2, 2, 1, 0, 0, 0, 0, 2, 1, 1, 1, 0,\n",
       "       0, 0, 2, 0, 1, 2, 0, 1, 1, 1, 2, 1, 0, 2, 1, 2, 2, 2, 2, 0, 2, 2,\n",
       "       0, 2, 2, 2, 1, 0, 1, 1, 2, 1, 2, 2, 1, 1, 0, 0, 1, 2, 0, 2, 0, 1,\n",
       "       1, 0, 2, 1, 0, 1, 0, 1, 1, 2, 1, 2, 0, 0, 1, 0, 2, 2, 1, 2, 1, 0,\n",
       "       2, 0, 1, 2, 2, 2, 1, 1, 1, 2, 0, 2, 0, 1, 2, 2, 1, 2, 0, 2, 1, 0,\n",
       "       2, 0, 2, 2, 0, 1, 0, 1, 2, 1, 2, 1, 0, 2, 1, 2, 0, 1, 0, 2, 1, 0,\n",
       "       1, 2, 1, 1, 2, 1, 2, 0, 0, 2, 2, 0, 0, 3, 2, 1, 2, 0, 0, 0, 0, 2,\n",
       "       0, 2, 2, 0, 0, 2, 0, 2, 0, 2, 1, 0, 2, 1, 0, 0, 0, 2, 0, 1, 1, 0,\n",
       "       0, 0, 2, 0, 2, 2, 0, 2, 1, 1, 1, 2, 0, 2, 1, 2, 2, 2, 1, 0, 1, 1,\n",
       "       1, 0, 0, 1, 0, 0, 1, 2, 2, 0, 2, 1, 0, 0, 1, 2, 2, 0, 0, 0, 1, 0,\n",
       "       2, 0, 0, 1, 1, 0, 1, 0, 2, 1, 2, 0, 0, 2, 1, 2, 0, 0, 2, 2, 1, 2,\n",
       "       2, 0, 1, 1, 0, 1, 1, 0, 1, 2, 1, 1, 1, 1, 0, 0, 2, 1, 0, 2, 0, 0,\n",
       "       1, 2, 0, 1, 1, 2, 2, 0, 1, 1, 0, 1, 2, 2, 2, 2, 2, 2, 0, 2, 1])"
      ]
     },
     "execution_count": 17,
     "metadata": {},
     "output_type": "execute_result"
    }
   ],
   "source": [
    "kmeans.labels_"
   ]
  },
  {
   "cell_type": "markdown",
   "metadata": {},
   "source": [
    "## Hierarchical Clustering "
   ]
  },
  {
   "cell_type": "markdown",
   "metadata": {},
   "source": [
    "### 8. Variable creation"
   ]
  },
  {
   "cell_type": "markdown",
   "metadata": {},
   "source": [
    "For Hierarchical clustering, we will create datasets using multivariate normal distribution to visually observe how the clusters are formed at the end"
   ]
  },
  {
   "cell_type": "code",
   "execution_count": 18,
   "metadata": {},
   "outputs": [],
   "source": [
    "a = np.random.multivariate_normal([20, 0], [[4, 2], [2, 6]], size=[100,])\n",
    "b = np.random.multivariate_normal([0, 20], [[4, 2], [1, 4]], size=[50,])\n",
    "c = np.random.multivariate_normal([30, 40], [[4, 2], [2, 6]], size=[100,])"
   ]
  },
  {
   "cell_type": "markdown",
   "metadata": {},
   "source": [
    "### 9. Combine all three arrays a,b,c into a dataframe"
   ]
  },
  {
   "cell_type": "code",
   "execution_count": 19,
   "metadata": {},
   "outputs": [],
   "source": [
    "a_df = pd.DataFrame(a, columns=list('xy'))\n",
    "b_df = pd.DataFrame(b, columns=list('xy'))\n",
    "c_df = pd.DataFrame(c, columns=list('xy'))"
   ]
  },
  {
   "cell_type": "code",
   "execution_count": 20,
   "metadata": {},
   "outputs": [
    {
     "data": {
      "text/html": [
       "<div>\n",
       "<style scoped>\n",
       "    .dataframe tbody tr th:only-of-type {\n",
       "        vertical-align: middle;\n",
       "    }\n",
       "\n",
       "    .dataframe tbody tr th {\n",
       "        vertical-align: top;\n",
       "    }\n",
       "\n",
       "    .dataframe thead th {\n",
       "        text-align: right;\n",
       "    }\n",
       "</style>\n",
       "<table border=\"1\" class=\"dataframe\">\n",
       "  <thead>\n",
       "    <tr style=\"text-align: right;\">\n",
       "      <th></th>\n",
       "      <th>x</th>\n",
       "      <th>y</th>\n",
       "    </tr>\n",
       "  </thead>\n",
       "  <tbody>\n",
       "    <tr>\n",
       "      <th>0</th>\n",
       "      <td>19.498191</td>\n",
       "      <td>2.330584</td>\n",
       "    </tr>\n",
       "    <tr>\n",
       "      <th>1</th>\n",
       "      <td>22.115106</td>\n",
       "      <td>2.844047</td>\n",
       "    </tr>\n",
       "    <tr>\n",
       "      <th>2</th>\n",
       "      <td>20.071138</td>\n",
       "      <td>1.791939</td>\n",
       "    </tr>\n",
       "    <tr>\n",
       "      <th>3</th>\n",
       "      <td>21.724063</td>\n",
       "      <td>4.718390</td>\n",
       "    </tr>\n",
       "    <tr>\n",
       "      <th>4</th>\n",
       "      <td>21.987558</td>\n",
       "      <td>3.393375</td>\n",
       "    </tr>\n",
       "  </tbody>\n",
       "</table>\n",
       "</div>"
      ],
      "text/plain": [
       "           x         y\n",
       "0  19.498191  2.330584\n",
       "1  22.115106  2.844047\n",
       "2  20.071138  1.791939\n",
       "3  21.724063  4.718390\n",
       "4  21.987558  3.393375"
      ]
     },
     "execution_count": 20,
     "metadata": {},
     "output_type": "execute_result"
    },
    {
     "data": {
      "text/html": [
       "<div>\n",
       "<style scoped>\n",
       "    .dataframe tbody tr th:only-of-type {\n",
       "        vertical-align: middle;\n",
       "    }\n",
       "\n",
       "    .dataframe tbody tr th {\n",
       "        vertical-align: top;\n",
       "    }\n",
       "\n",
       "    .dataframe thead th {\n",
       "        text-align: right;\n",
       "    }\n",
       "</style>\n",
       "<table border=\"1\" class=\"dataframe\">\n",
       "  <thead>\n",
       "    <tr style=\"text-align: right;\">\n",
       "      <th></th>\n",
       "      <th>x</th>\n",
       "      <th>y</th>\n",
       "    </tr>\n",
       "  </thead>\n",
       "  <tbody>\n",
       "    <tr>\n",
       "      <th>0</th>\n",
       "      <td>0.778647</td>\n",
       "      <td>19.329105</td>\n",
       "    </tr>\n",
       "    <tr>\n",
       "      <th>1</th>\n",
       "      <td>1.133564</td>\n",
       "      <td>20.667183</td>\n",
       "    </tr>\n",
       "    <tr>\n",
       "      <th>2</th>\n",
       "      <td>3.581172</td>\n",
       "      <td>23.177881</td>\n",
       "    </tr>\n",
       "    <tr>\n",
       "      <th>3</th>\n",
       "      <td>1.764547</td>\n",
       "      <td>21.000683</td>\n",
       "    </tr>\n",
       "    <tr>\n",
       "      <th>4</th>\n",
       "      <td>-0.442819</td>\n",
       "      <td>17.018426</td>\n",
       "    </tr>\n",
       "  </tbody>\n",
       "</table>\n",
       "</div>"
      ],
      "text/plain": [
       "          x          y\n",
       "0  0.778647  19.329105\n",
       "1  1.133564  20.667183\n",
       "2  3.581172  23.177881\n",
       "3  1.764547  21.000683\n",
       "4 -0.442819  17.018426"
      ]
     },
     "execution_count": 20,
     "metadata": {},
     "output_type": "execute_result"
    },
    {
     "data": {
      "text/html": [
       "<div>\n",
       "<style scoped>\n",
       "    .dataframe tbody tr th:only-of-type {\n",
       "        vertical-align: middle;\n",
       "    }\n",
       "\n",
       "    .dataframe tbody tr th {\n",
       "        vertical-align: top;\n",
       "    }\n",
       "\n",
       "    .dataframe thead th {\n",
       "        text-align: right;\n",
       "    }\n",
       "</style>\n",
       "<table border=\"1\" class=\"dataframe\">\n",
       "  <thead>\n",
       "    <tr style=\"text-align: right;\">\n",
       "      <th></th>\n",
       "      <th>x</th>\n",
       "      <th>y</th>\n",
       "    </tr>\n",
       "  </thead>\n",
       "  <tbody>\n",
       "    <tr>\n",
       "      <th>0</th>\n",
       "      <td>30.369198</td>\n",
       "      <td>39.332560</td>\n",
       "    </tr>\n",
       "    <tr>\n",
       "      <th>1</th>\n",
       "      <td>29.524345</td>\n",
       "      <td>39.651399</td>\n",
       "    </tr>\n",
       "    <tr>\n",
       "      <th>2</th>\n",
       "      <td>30.767399</td>\n",
       "      <td>37.393182</td>\n",
       "    </tr>\n",
       "    <tr>\n",
       "      <th>3</th>\n",
       "      <td>27.212488</td>\n",
       "      <td>36.883602</td>\n",
       "    </tr>\n",
       "    <tr>\n",
       "      <th>4</th>\n",
       "      <td>30.439457</td>\n",
       "      <td>41.409394</td>\n",
       "    </tr>\n",
       "  </tbody>\n",
       "</table>\n",
       "</div>"
      ],
      "text/plain": [
       "           x          y\n",
       "0  30.369198  39.332560\n",
       "1  29.524345  39.651399\n",
       "2  30.767399  37.393182\n",
       "3  27.212488  36.883602\n",
       "4  30.439457  41.409394"
      ]
     },
     "execution_count": 20,
     "metadata": {},
     "output_type": "execute_result"
    }
   ],
   "source": [
    "a_df.head()\n",
    "b_df.head()\n",
    "c_df.head()"
   ]
  },
  {
   "cell_type": "code",
   "execution_count": 21,
   "metadata": {},
   "outputs": [],
   "source": [
    "data = pd.concat([a_df,b_df,c_df])"
   ]
  },
  {
   "cell_type": "markdown",
   "metadata": {},
   "source": [
    "### 10. Use scatter matrix to print all the 3 distributions"
   ]
  },
  {
   "cell_type": "code",
   "execution_count": 22,
   "metadata": {},
   "outputs": [
    {
     "data": {
      "text/plain": [
       "<seaborn.axisgrid.PairGrid at 0x11b34b6c0b8>"
      ]
     },
     "execution_count": 22,
     "metadata": {},
     "output_type": "execute_result"
    },
    {
     "data": {
      "image/png": "[encoded data removed]",
      "text/plain": [
       "<Figure size 360x360 with 6 Axes>"
      ]
     },
     "metadata": {
      "needs_background": "light"
     },
     "output_type": "display_data"
    }
   ],
   "source": [
    "#plt.rcParams['figure.figsize'] = (20, 12)\n",
    "#plt.style.use('ggplot')\n",
    "#plt.scatter(data['x'].values, data['y'].values, c='black', s=7)\n",
    "\n",
    "sns.pairplot(data,diag_kind='kde')"
   ]
  },
  {
   "cell_type": "markdown",
   "metadata": {},
   "source": [
    "### 11. Find out the linkage matrix"
   ]
  },
  {
   "cell_type": "code",
   "execution_count": 23,
   "metadata": {},
   "outputs": [],
   "source": [
    "from scipy.cluster.hierarchy import cophenet, dendrogram, linkage, fcluster\n",
    "from scipy.spatial.distance import pdist"
   ]
  },
  {
   "cell_type": "code",
   "execution_count": 24,
   "metadata": {},
   "outputs": [
    {
     "data": {
      "text/plain": [
       "0.9728707987879074"
      ]
     },
     "execution_count": 24,
     "metadata": {},
     "output_type": "execute_result"
    }
   ],
   "source": [
    "Z = linkage(data, 'ward', metric='euclidean')\n",
    "c, coph_dists = cophenet(Z , pdist(data))\n",
    "\n",
    "c"
   ]
  },
  {
   "cell_type": "code",
   "execution_count": 25,
   "metadata": {},
   "outputs": [
    {
     "data": {
      "text/plain": [
       "array([[2.23000000e+02, 2.27000000e+02, 1.94140658e-02, 2.00000000e+00],\n",
       "       [1.61000000e+02, 2.31000000e+02, 5.74816829e-02, 2.00000000e+00],\n",
       "       [2.30000000e+01, 9.10000000e+01, 7.28446140e-02, 2.00000000e+00],\n",
       "       [1.06000000e+02, 1.41000000e+02, 8.04341361e-02, 2.00000000e+00],\n",
       "       [2.02000000e+02, 2.32000000e+02, 8.45080583e-02, 2.00000000e+00],\n",
       "       [1.08000000e+02, 1.32000000e+02, 9.56893712e-02, 2.00000000e+00],\n",
       "       [4.30000000e+01, 8.90000000e+01, 1.04980707e-01, 2.00000000e+00],\n",
       "       [8.80000000e+01, 9.90000000e+01, 1.26909547e-01, 2.00000000e+00],\n",
       "       [2.40000000e+01, 7.40000000e+01, 1.29555423e-01, 2.00000000e+00],\n",
       "       [1.51000000e+02, 2.50000000e+02, 1.39727535e-01, 3.00000000e+00],\n",
       "       [1.07000000e+02, 1.28000000e+02, 1.43339271e-01, 2.00000000e+00],\n",
       "       [4.90000000e+01, 8.20000000e+01, 1.46679797e-01, 2.00000000e+00],\n",
       "       [7.10000000e+01, 8.40000000e+01, 1.60599636e-01, 2.00000000e+00],\n",
       "       [1.58000000e+02, 2.46000000e+02, 1.64175222e-01, 2.00000000e+00],\n",
       "       [2.00000000e+02, 2.24000000e+02, 1.66814979e-01, 2.00000000e+00],\n",
       "       [1.71000000e+02, 2.44000000e+02, 2.02794821e-01, 2.00000000e+00],\n",
       "       [3.40000000e+01, 6.80000000e+01, 2.04626909e-01, 2.00000000e+00],\n",
       "       [1.86000000e+02, 2.06000000e+02, 2.06223309e-01, 2.00000000e+00],\n",
       "       [5.30000000e+01, 6.90000000e+01, 2.07852354e-01, 2.00000000e+00],\n",
       "       [1.13000000e+02, 1.33000000e+02, 2.11567304e-01, 2.00000000e+00],\n",
       "       [4.20000000e+01, 7.60000000e+01, 2.11998337e-01, 2.00000000e+00],\n",
       "       [3.70000000e+01, 9.40000000e+01, 2.15769529e-01, 2.00000000e+00],\n",
       "       [1.70000000e+01, 9.70000000e+01, 2.16499554e-01, 2.00000000e+00],\n",
       "       [1.57000000e+02, 2.48000000e+02, 2.20725967e-01, 2.00000000e+00],\n",
       "       [2.03000000e+02, 2.30000000e+02, 2.28103797e-01, 2.00000000e+00],\n",
       "       [2.50000000e+01, 6.00000000e+01, 2.28619150e-01, 2.00000000e+00],\n",
       "       [3.00000000e+01, 6.30000000e+01, 2.39025470e-01, 2.00000000e+00],\n",
       "       [1.97000000e+02, 2.17000000e+02, 2.40234597e-01, 2.00000000e+00],\n",
       "       [1.16000000e+02, 1.27000000e+02, 2.42727124e-01, 2.00000000e+00],\n",
       "       [1.87000000e+02, 2.28000000e+02, 2.43068555e-01, 2.00000000e+00],\n",
       "       [9.80000000e+01, 2.57000000e+02, 2.43939722e-01, 3.00000000e+00],\n",
       "       [2.70000000e+01, 8.10000000e+01, 2.49036701e-01, 2.00000000e+00],\n",
       "       [1.62000000e+02, 1.96000000e+02, 2.49454667e-01, 2.00000000e+00],\n",
       "       [4.00000000e+00, 1.60000000e+01, 2.60305022e-01, 2.00000000e+00],\n",
       "       [4.10000000e+01, 5.50000000e+01, 2.68484337e-01, 2.00000000e+00],\n",
       "       [1.00000000e+00, 7.20000000e+01, 2.69057964e-01, 2.00000000e+00],\n",
       "       [1.70000000e+02, 2.39000000e+02, 2.75860255e-01, 2.00000000e+00],\n",
       "       [1.54000000e+02, 1.74000000e+02, 2.77385373e-01, 2.00000000e+00],\n",
       "       [1.76000000e+02, 1.83000000e+02, 2.90076397e-01, 2.00000000e+00],\n",
       "       [1.10000000e+01, 5.90000000e+01, 2.92888216e-01, 2.00000000e+00],\n",
       "       [1.77000000e+02, 2.05000000e+02, 2.96730761e-01, 2.00000000e+00],\n",
       "       [2.22000000e+02, 2.34000000e+02, 3.34093322e-01, 2.00000000e+00],\n",
       "       [1.50000000e+02, 1.89000000e+02, 3.35864708e-01, 2.00000000e+00],\n",
       "       [2.60000000e+01, 5.20000000e+01, 3.49666082e-01, 2.00000000e+00],\n",
       "       [1.68000000e+02, 2.09000000e+02, 3.52817198e-01, 2.00000000e+00],\n",
       "       [1.90000000e+01, 8.60000000e+01, 3.53471472e-01, 2.00000000e+00],\n",
       "       [2.14000000e+02, 2.35000000e+02, 3.57102384e-01, 2.00000000e+00],\n",
       "       [2.51000000e+02, 2.82000000e+02, 3.67836166e-01, 4.00000000e+00],\n",
       "       [8.00000000e+00, 3.80000000e+01, 3.71413935e-01, 2.00000000e+00],\n",
       "       [4.50000000e+01, 4.70000000e+01, 3.71450650e-01, 2.00000000e+00],\n",
       "       [1.64000000e+02, 2.40000000e+02, 3.72923666e-01, 2.00000000e+00],\n",
       "       [1.75000000e+02, 1.85000000e+02, 3.78416744e-01, 2.00000000e+00],\n",
       "       [2.18000000e+02, 2.47000000e+02, 3.82844543e-01, 2.00000000e+00],\n",
       "       [2.00000000e+00, 3.90000000e+01, 3.85943844e-01, 2.00000000e+00],\n",
       "       [1.82000000e+02, 2.92000000e+02, 3.88510460e-01, 3.00000000e+00],\n",
       "       [4.60000000e+01, 2.76000000e+02, 3.88835747e-01, 3.00000000e+00],\n",
       "       [1.24000000e+02, 1.35000000e+02, 3.94126251e-01, 2.00000000e+00],\n",
       "       [1.26000000e+02, 1.49000000e+02, 3.97004050e-01, 2.00000000e+00],\n",
       "       [2.26000000e+02, 2.38000000e+02, 4.00044724e-01, 2.00000000e+00],\n",
       "       [1.52000000e+02, 1.99000000e+02, 4.02499300e-01, 2.00000000e+00],\n",
       "       [6.40000000e+01, 2.56000000e+02, 4.03302846e-01, 3.00000000e+00],\n",
       "       [1.67000000e+02, 1.93000000e+02, 4.04107317e-01, 2.00000000e+00],\n",
       "       [7.00000000e+00, 7.80000000e+01, 4.04349225e-01, 2.00000000e+00],\n",
       "       [2.21000000e+02, 2.79000000e+02, 4.05146379e-01, 3.00000000e+00],\n",
       "       [1.80000000e+02, 2.49000000e+02, 4.07448509e-01, 2.00000000e+00],\n",
       "       [3.50000000e+01, 2.83000000e+02, 4.08488954e-01, 3.00000000e+00],\n",
       "       [3.30000000e+01, 2.68000000e+02, 4.14876955e-01, 3.00000000e+00],\n",
       "       [1.81000000e+02, 2.20000000e+02, 4.21861486e-01, 2.00000000e+00],\n",
       "       [1.73000000e+02, 2.29000000e+02, 4.23573041e-01, 2.00000000e+00],\n",
       "       [1.79000000e+02, 2.67000000e+02, 4.29551095e-01, 3.00000000e+00],\n",
       "       [1.50000000e+01, 2.62000000e+02, 4.37309445e-01, 3.00000000e+00],\n",
       "       [2.12000000e+02, 2.33000000e+02, 4.45446329e-01, 2.00000000e+00],\n",
       "       [1.04000000e+02, 1.44000000e+02, 4.53351250e-01, 2.00000000e+00],\n",
       "       [8.30000000e+01, 2.61000000e+02, 4.53697104e-01, 3.00000000e+00],\n",
       "       [3.00000000e+00, 7.70000000e+01, 4.56906103e-01, 2.00000000e+00],\n",
       "       [1.60000000e+02, 2.64000000e+02, 4.58695406e-01, 3.00000000e+00],\n",
       "       [7.00000000e+01, 7.90000000e+01, 4.71037018e-01, 2.00000000e+00],\n",
       "       [2.59000000e+02, 2.90000000e+02, 4.74821049e-01, 5.00000000e+00],\n",
       "       [1.23000000e+02, 1.25000000e+02, 4.75029880e-01, 2.00000000e+00],\n",
       "       [7.50000000e+01, 3.16000000e+02, 4.93025503e-01, 4.00000000e+00],\n",
       "       [2.15000000e+02, 2.45000000e+02, 4.97504853e-01, 2.00000000e+00],\n",
       "       [1.88000000e+02, 2.91000000e+02, 5.00742196e-01, 3.00000000e+00],\n",
       "       [6.20000000e+01, 9.20000000e+01, 5.03758654e-01, 2.00000000e+00],\n",
       "       [2.63000000e+02, 2.73000000e+02, 5.08347917e-01, 4.00000000e+00],\n",
       "       [1.00000000e+02, 1.14000000e+02, 5.09666365e-01, 2.00000000e+00],\n",
       "       [1.05000000e+02, 2.78000000e+02, 5.10956109e-01, 3.00000000e+00],\n",
       "       [1.98000000e+02, 2.54000000e+02, 5.13978062e-01, 3.00000000e+00],\n",
       "       [1.34000000e+02, 3.07000000e+02, 5.48839116e-01, 3.00000000e+00],\n",
       "       [1.95000000e+02, 2.10000000e+02, 5.49830784e-01, 2.00000000e+00],\n",
       "       [2.70000000e+02, 2.84000000e+02, 5.54172540e-01, 4.00000000e+00],\n",
       "       [1.37000000e+02, 1.47000000e+02, 5.59855783e-01, 2.00000000e+00],\n",
       "       [1.78000000e+02, 1.84000000e+02, 5.65429911e-01, 2.00000000e+00],\n",
       "       [1.17000000e+02, 1.40000000e+02, 5.70879964e-01, 2.00000000e+00],\n",
       "       [1.40000000e+01, 2.00000000e+01, 5.71246192e-01, 2.00000000e+00],\n",
       "       [1.46000000e+02, 2.53000000e+02, 5.78567862e-01, 3.00000000e+00],\n",
       "       [1.63000000e+02, 2.77000000e+02, 5.93896686e-01, 3.00000000e+00],\n",
       "       [1.90000000e+02, 2.07000000e+02, 5.99578255e-01, 2.00000000e+00],\n",
       "       [2.25000000e+02, 2.65000000e+02, 6.01760284e-01, 3.00000000e+00],\n",
       "       [1.56000000e+02, 3.08000000e+02, 6.09323171e-01, 3.00000000e+00],\n",
       "       [1.03000000e+02, 1.10000000e+02, 6.11802608e-01, 2.00000000e+00],\n",
       "       [3.10000000e+01, 2.75000000e+02, 6.43289390e-01, 3.00000000e+00],\n",
       "       [1.20000000e+01, 5.10000000e+01, 6.46973637e-01, 2.00000000e+00],\n",
       "       [5.00000000e+01, 5.40000000e+01, 6.52646864e-01, 2.00000000e+00],\n",
       "       [2.13000000e+02, 2.94000000e+02, 6.57670432e-01, 3.00000000e+00],\n",
       "       [8.70000000e+01, 2.52000000e+02, 7.07186575e-01, 3.00000000e+00],\n",
       "       [2.95000000e+02, 3.12000000e+02, 7.14861402e-01, 4.00000000e+00],\n",
       "       [2.19000000e+02, 3.18000000e+02, 7.25396753e-01, 3.00000000e+00],\n",
       "       [2.85000000e+02, 3.15000000e+02, 7.27791104e-01, 5.00000000e+00],\n",
       "       [8.50000000e+01, 2.98000000e+02, 7.30070418e-01, 3.00000000e+00],\n",
       "       [5.60000000e+01, 6.50000000e+01, 7.50502451e-01, 2.00000000e+00],\n",
       "       [5.00000000e+00, 6.60000000e+01, 7.50780624e-01, 2.00000000e+00],\n",
       "       [2.66000000e+02, 2.71000000e+02, 7.59733199e-01, 4.00000000e+00],\n",
       "       [2.16000000e+02, 3.13000000e+02, 7.68128441e-01, 4.00000000e+00],\n",
       "       [1.30000000e+01, 6.10000000e+01, 7.69199965e-01, 2.00000000e+00],\n",
       "       [1.15000000e+02, 2.69000000e+02, 7.69897768e-01, 3.00000000e+00],\n",
       "       [2.72000000e+02, 3.52000000e+02, 7.74334053e-01, 4.00000000e+00],\n",
       "       [1.21000000e+02, 1.38000000e+02, 7.75237846e-01, 2.00000000e+00],\n",
       "       [0.00000000e+00, 3.10000000e+02, 7.89131617e-01, 4.00000000e+00],\n",
       "       [2.01000000e+02, 3.62000000e+02, 8.01178696e-01, 5.00000000e+00],\n",
       "       [1.65000000e+02, 1.94000000e+02, 8.04007324e-01, 2.00000000e+00],\n",
       "       [2.36000000e+02, 3.17000000e+02, 8.04845516e-01, 3.00000000e+00],\n",
       "       [2.41000000e+02, 2.97000000e+02, 8.19284944e-01, 5.00000000e+00],\n",
       "       [5.80000000e+01, 9.60000000e+01, 8.29612586e-01, 2.00000000e+00],\n",
       "       [1.72000000e+02, 2.37000000e+02, 8.34599259e-01, 2.00000000e+00],\n",
       "       [4.40000000e+01, 2.80000000e+02, 8.40842263e-01, 4.00000000e+00],\n",
       "       [1.36000000e+02, 3.35000000e+02, 8.46311421e-01, 4.00000000e+00],\n",
       "       [2.58000000e+02, 3.39000000e+02, 8.64575153e-01, 6.00000000e+00],\n",
       "       [1.29000000e+02, 1.45000000e+02, 8.70154081e-01, 2.00000000e+00],\n",
       "       [3.01000000e+02, 3.11000000e+02, 8.73162839e-01, 4.00000000e+00],\n",
       "       [2.20000000e+01, 9.50000000e+01, 8.73212969e-01, 2.00000000e+00],\n",
       "       [4.80000000e+01, 3.54000000e+02, 8.92271813e-01, 4.00000000e+00],\n",
       "       [1.66000000e+02, 3.36000000e+02, 8.95193832e-01, 4.00000000e+00],\n",
       "       [2.80000000e+01, 8.00000000e+01, 9.02556093e-01, 2.00000000e+00],\n",
       "       [2.55000000e+02, 3.64000000e+02, 9.04297601e-01, 5.00000000e+00],\n",
       "       [9.30000000e+01, 2.93000000e+02, 9.33832912e-01, 3.00000000e+00],\n",
       "       [6.70000000e+01, 3.32000000e+02, 9.51031288e-01, 3.00000000e+00],\n",
       "       [3.43000000e+02, 3.72000000e+02, 9.52948605e-01, 4.00000000e+00],\n",
       "       [1.11000000e+02, 2.60000000e+02, 9.54853859e-01, 3.00000000e+00],\n",
       "       [1.30000000e+02, 1.39000000e+02, 9.57892968e-01, 2.00000000e+00],\n",
       "       [1.19000000e+02, 3.44000000e+02, 1.00141164e+00, 4.00000000e+00],\n",
       "       [1.69000000e+02, 2.88000000e+02, 1.01049222e+00, 3.00000000e+00],\n",
       "       [2.87000000e+02, 3.21000000e+02, 1.03706933e+00, 4.00000000e+00],\n",
       "       [1.18000000e+02, 1.43000000e+02, 1.03732033e+00, 2.00000000e+00],\n",
       "       [1.01000000e+02, 3.49000000e+02, 1.08386302e+00, 3.00000000e+00],\n",
       "       [2.96000000e+02, 3.71000000e+02, 1.11057165e+00, 7.00000000e+00],\n",
       "       [1.53000000e+02, 3.47000000e+02, 1.17845303e+00, 4.00000000e+00],\n",
       "       [1.02000000e+02, 1.31000000e+02, 1.18855544e+00, 2.00000000e+00],\n",
       "       [2.89000000e+02, 3.29000000e+02, 1.19827441e+00, 6.00000000e+00],\n",
       "       [5.70000000e+01, 3.57000000e+02, 1.20965866e+00, 6.00000000e+00],\n",
       "       [3.46000000e+02, 3.69000000e+02, 1.20966093e+00, 4.00000000e+00],\n",
       "       [2.08000000e+02, 3.30000000e+02, 1.22177657e+00, 3.00000000e+00],\n",
       "       [6.00000000e+00, 3.05000000e+02, 1.22807064e+00, 4.00000000e+00],\n",
       "       [3.19000000e+02, 3.48000000e+02, 1.23259453e+00, 6.00000000e+00],\n",
       "       [2.86000000e+02, 3.81000000e+02, 1.24060358e+00, 6.00000000e+00],\n",
       "       [2.43000000e+02, 3.31000000e+02, 1.24910952e+00, 4.00000000e+00],\n",
       "       [3.58000000e+02, 3.74000000e+02, 1.25857403e+00, 7.00000000e+00],\n",
       "       [3.41000000e+02, 3.56000000e+02, 1.26163037e+00, 5.00000000e+00],\n",
       "       [2.10000000e+01, 4.00000000e+01, 1.26631187e+00, 2.00000000e+00],\n",
       "       [1.91000000e+02, 2.42000000e+02, 1.27121498e+00, 2.00000000e+00],\n",
       "       [3.04000000e+02, 3.27000000e+02, 1.30177336e+00, 8.00000000e+00],\n",
       "       [3.24000000e+02, 3.61000000e+02, 1.31026583e+00, 6.00000000e+00],\n",
       "       [3.00000000e+02, 3.02000000e+02, 1.35025062e+00, 4.00000000e+00],\n",
       "       [3.34000000e+02, 3.87000000e+02, 1.41976889e+00, 5.00000000e+00],\n",
       "       [9.00000000e+01, 3.55000000e+02, 1.42460244e+00, 5.00000000e+00],\n",
       "       [3.06000000e+02, 3.42000000e+02, 1.43106471e+00, 4.00000000e+00],\n",
       "       [3.23000000e+02, 4.01000000e+02, 1.46097474e+00, 7.00000000e+00],\n",
       "       [2.99000000e+02, 3.82000000e+02, 1.46287633e+00, 4.00000000e+00],\n",
       "       [1.20000000e+02, 3.92000000e+02, 1.46310889e+00, 3.00000000e+00],\n",
       "       [3.03000000e+02, 3.67000000e+02, 1.46516639e+00, 6.00000000e+00],\n",
       "       [3.09000000e+02, 4.11000000e+02, 1.55149068e+00, 6.00000000e+00],\n",
       "       [1.42000000e+02, 3.66000000e+02, 1.56679854e+00, 3.00000000e+00],\n",
       "       [3.38000000e+02, 3.45000000e+02, 1.56931954e+00, 5.00000000e+00],\n",
       "       [1.09000000e+02, 3.75000000e+02, 1.60988526e+00, 5.00000000e+00],\n",
       "       [3.14000000e+02, 3.95000000e+02, 1.61674353e+00, 6.00000000e+00],\n",
       "       [9.00000000e+00, 1.00000000e+01, 1.62043423e+00, 2.00000000e+00],\n",
       "       [2.81000000e+02, 3.26000000e+02, 1.63319994e+00, 4.00000000e+00],\n",
       "       [2.90000000e+01, 3.60000000e+01, 1.65064278e+00, 2.00000000e+00],\n",
       "       [3.28000000e+02, 3.93000000e+02, 1.69579877e+00, 5.00000000e+00],\n",
       "       [3.40000000e+02, 3.77000000e+02, 1.71393276e+00, 4.00000000e+00],\n",
       "       [3.20000000e+02, 3.65000000e+02, 1.72900935e+00, 7.00000000e+00],\n",
       "       [7.30000000e+01, 3.60000000e+02, 1.72993636e+00, 3.00000000e+00],\n",
       "       [2.74000000e+02, 4.04000000e+02, 1.73544303e+00, 6.00000000e+00],\n",
       "       [3.79000000e+02, 3.97000000e+02, 1.73832010e+00, 8.00000000e+00],\n",
       "       [2.11000000e+02, 3.78000000e+02, 1.75275867e+00, 5.00000000e+00],\n",
       "       [1.55000000e+02, 4.00000000e+02, 1.76256639e+00, 4.00000000e+00],\n",
       "       [3.33000000e+02, 3.91000000e+02, 1.76467976e+00, 8.00000000e+00],\n",
       "       [3.94000000e+02, 4.03000000e+02, 1.82592061e+00, 1.30000000e+01],\n",
       "       [1.48000000e+02, 4.22000000e+02, 1.95503920e+00, 6.00000000e+00],\n",
       "       [1.92000000e+02, 3.53000000e+02, 1.99006825e+00, 4.00000000e+00],\n",
       "       [3.59000000e+02, 3.63000000e+02, 2.14640955e+00, 4.00000000e+00],\n",
       "       [4.10000000e+02, 4.13000000e+02, 2.17611074e+00, 1.10000000e+01],\n",
       "       [3.25000000e+02, 4.38000000e+02, 2.22125846e+00, 7.00000000e+00],\n",
       "       [3.51000000e+02, 4.05000000e+02, 2.48453495e+00, 9.00000000e+00],\n",
       "       [3.90000000e+02, 4.31000000e+02, 2.51559111e+00, 9.00000000e+00],\n",
       "       [3.83000000e+02, 4.14000000e+02, 2.53465479e+00, 9.00000000e+00],\n",
       "       [1.12000000e+02, 3.96000000e+02, 2.57190046e+00, 3.00000000e+00],\n",
       "       [1.80000000e+01, 4.42000000e+02, 2.67381093e+00, 1.00000000e+01],\n",
       "       [3.20000000e+01, 3.86000000e+02, 2.78698812e+00, 5.00000000e+00],\n",
       "       [3.84000000e+02, 4.30000000e+02, 2.79193405e+00, 6.00000000e+00],\n",
       "       [2.04000000e+02, 3.70000000e+02, 2.79547283e+00, 4.00000000e+00],\n",
       "       [3.37000000e+02, 4.17000000e+02, 2.84827893e+00, 6.00000000e+00],\n",
       "       [3.76000000e+02, 4.18000000e+02, 2.87340965e+00, 1.20000000e+01],\n",
       "       [3.88000000e+02, 4.20000000e+02, 2.88425140e+00, 5.00000000e+00],\n",
       "       [3.80000000e+02, 4.16000000e+02, 2.90734255e+00, 8.00000000e+00],\n",
       "       [3.85000000e+02, 4.32000000e+02, 3.02018609e+00, 1.10000000e+01],\n",
       "       [4.07000000e+02, 4.15000000e+02, 3.03193151e+00, 9.00000000e+00],\n",
       "       [3.68000000e+02, 4.23000000e+02, 3.06342896e+00, 1.10000000e+01],\n",
       "       [4.06000000e+02, 4.35000000e+02, 3.12018978e+00, 1.30000000e+01],\n",
       "       [3.50000000e+02, 4.29000000e+02, 3.15037588e+00, 1.00000000e+01],\n",
       "       [3.89000000e+02, 4.52000000e+02, 3.30344397e+00, 9.00000000e+00],\n",
       "       [4.25000000e+02, 4.51000000e+02, 3.32408111e+00, 1.60000000e+01],\n",
       "       [3.98000000e+02, 4.40000000e+02, 3.42997244e+00, 1.70000000e+01],\n",
       "       [4.27000000e+02, 4.50000000e+02, 3.51327442e+00, 1.10000000e+01],\n",
       "       [4.02000000e+02, 4.41000000e+02, 3.56821595e+00, 1.30000000e+01],\n",
       "       [3.99000000e+02, 4.08000000e+02, 3.62720278e+00, 6.00000000e+00],\n",
       "       [3.73000000e+02, 4.43000000e+02, 3.62785970e+00, 1.10000000e+01],\n",
       "       [3.22000000e+02, 4.28000000e+02, 3.77615995e+00, 6.00000000e+00],\n",
       "       [1.59000000e+02, 4.49000000e+02, 3.78612010e+00, 5.00000000e+00],\n",
       "       [4.09000000e+02, 4.36000000e+02, 4.13524465e+00, 2.10000000e+01],\n",
       "       [4.26000000e+02, 4.61000000e+02, 4.49339460e+00, 1.90000000e+01],\n",
       "       [4.12000000e+02, 4.44000000e+02, 4.61166619e+00, 1.40000000e+01],\n",
       "       [4.21000000e+02, 4.63000000e+02, 4.71817689e+00, 1.80000000e+01],\n",
       "       [1.22000000e+02, 4.62000000e+02, 4.77134758e+00, 1.20000000e+01],\n",
       "       [4.33000000e+02, 4.56000000e+02, 5.04549929e+00, 1.60000000e+01],\n",
       "       [4.39000000e+02, 4.55000000e+02, 5.15060083e+00, 1.30000000e+01],\n",
       "       [4.46000000e+02, 4.58000000e+02, 5.36122614e+00, 2.00000000e+01],\n",
       "       [4.24000000e+02, 4.48000000e+02, 5.56782446e+00, 8.00000000e+00],\n",
       "       [4.34000000e+02, 4.57000000e+02, 6.18748890e+00, 1.70000000e+01],\n",
       "       [4.47000000e+02, 4.75000000e+02, 6.55823798e+00, 2.50000000e+01],\n",
       "       [4.45000000e+02, 4.72000000e+02, 7.04586759e+00, 1.50000000e+01],\n",
       "       [4.65000000e+02, 4.67000000e+02, 7.18348478e+00, 1.60000000e+01],\n",
       "       [4.68000000e+02, 4.77000000e+02, 7.39460400e+00, 3.80000000e+01],\n",
       "       [4.64000000e+02, 4.73000000e+02, 7.74755605e+00, 2.20000000e+01],\n",
       "       [4.54000000e+02, 4.60000000e+02, 7.75311046e+00, 2.70000000e+01],\n",
       "       [4.19000000e+02, 4.82000000e+02, 8.14548709e+00, 2.80000000e+01],\n",
       "       [4.37000000e+02, 4.70000000e+02, 8.63869963e+00, 2.00000000e+01],\n",
       "       [4.53000000e+02, 4.74000000e+02, 8.74774290e+00, 2.10000000e+01],\n",
       "       [4.69000000e+02, 4.76000000e+02, 9.37344192e+00, 2.70000000e+01],\n",
       "       [4.59000000e+02, 4.66000000e+02, 9.57883591e+00, 1.50000000e+01],\n",
       "       [4.83000000e+02, 4.87000000e+02, 1.34458613e+01, 5.40000000e+01],\n",
       "       [4.71000000e+02, 4.81000000e+02, 1.35478906e+01, 5.60000000e+01],\n",
       "       [4.85000000e+02, 4.88000000e+02, 1.45725554e+01, 3.50000000e+01],\n",
       "       [4.78000000e+02, 4.86000000e+02, 1.59751673e+01, 4.60000000e+01],\n",
       "       [4.79000000e+02, 4.91000000e+02, 1.91253064e+01, 5.00000000e+01],\n",
       "       [4.80000000e+02, 4.90000000e+02, 1.94200921e+01, 7.20000000e+01],\n",
       "       [4.84000000e+02, 4.94000000e+02, 2.67986001e+01, 1.00000000e+02],\n",
       "       [4.89000000e+02, 4.92000000e+02, 3.23778565e+01, 1.00000000e+02],\n",
       "       [4.93000000e+02, 4.96000000e+02, 2.28859411e+02, 1.50000000e+02],\n",
       "       [4.95000000e+02, 4.97000000e+02, 3.96009074e+02, 2.50000000e+02]])"
      ]
     },
     "execution_count": 25,
     "metadata": {},
     "output_type": "execute_result"
    }
   ],
   "source": [
    "Z"
   ]
  },
  {
   "cell_type": "markdown",
   "metadata": {},
   "source": [
    "Use ward as linkage metric and distance as Eucledian"
   ]
  },
  {
   "cell_type": "markdown",
   "metadata": {},
   "source": [
    "### 12. Plot the dendrogram for the consolidated dataframe"
   ]
  },
  {
   "cell_type": "code",
   "execution_count": 26,
   "metadata": {},
   "outputs": [
    {
     "data": {
      "text/plain": [
       "<Figure size 720x720 with 0 Axes>"
      ]
     },
     "execution_count": 26,
     "metadata": {},
     "output_type": "execute_result"
    },
    {
     "data": {
      "text/plain": [
       "Text(0.5,1,'Agglomerative Hierarchical Clustering Dendogram')"
      ]
     },
     "execution_count": 26,
     "metadata": {},
     "output_type": "execute_result"
    },
    {
     "data": {
      "text/plain": [
       "Text(0.5,0,'sample index')"
      ]
     },
     "execution_count": 26,
     "metadata": {},
     "output_type": "execute_result"
    },
    {
     "data": {
      "text/plain": [
       "Text(0,0.5,'Distance')"
      ]
     },
     "execution_count": 26,
     "metadata": {},
     "output_type": "execute_result"
    },
    {
     "data": {
      "text/plain": [
       "{'icoord': [[5.0, 5.0, 15.0, 15.0],\n",
       "  [25.0, 25.0, 35.0, 35.0],\n",
       "  [45.0, 45.0, 55.0, 55.0],\n",
       "  [30.0, 30.0, 50.0, 50.0],\n",
       "  [10.0, 10.0, 40.0, 40.0],\n",
       "  [65.0, 65.0, 75.0, 75.0],\n",
       "  [85.0, 85.0, 95.0, 95.0],\n",
       "  [70.0, 70.0, 90.0, 90.0],\n",
       "  [105.0, 105.0, 115.0, 115.0],\n",
       "  [80.0, 80.0, 110.0, 110.0],\n",
       "  [135.0, 135.0, 145.0, 145.0],\n",
       "  [155.0, 155.0, 165.0, 165.0],\n",
       "  [140.0, 140.0, 160.0, 160.0],\n",
       "  [125.0, 125.0, 150.0, 150.0],\n",
       "  [205.0, 205.0, 215.0, 215.0],\n",
       "  [195.0, 195.0, 210.0, 210.0],\n",
       "  [185.0, 185.0, 202.5, 202.5],\n",
       "  [175.0, 175.0, 193.75, 193.75],\n",
       "  [225.0, 225.0, 235.0, 235.0],\n",
       "  [265.0, 265.0, 275.0, 275.0],\n",
       "  [255.0, 255.0, 270.0, 270.0],\n",
       "  [245.0, 245.0, 262.5, 262.5],\n",
       "  [230.0, 230.0, 253.75, 253.75],\n",
       "  [184.375, 184.375, 241.875, 241.875],\n",
       "  [137.5, 137.5, 213.125, 213.125],\n",
       "  [95.0, 95.0, 175.3125, 175.3125],\n",
       "  [25.0, 25.0, 135.15625, 135.15625],\n",
       "  [285.0, 285.0, 295.0, 295.0],\n",
       "  [315.0, 315.0, 325.0, 325.0],\n",
       "  [305.0, 305.0, 320.0, 320.0],\n",
       "  [335.0, 335.0, 345.0, 345.0],\n",
       "  [375.0, 375.0, 385.0, 385.0],\n",
       "  [365.0, 365.0, 380.0, 380.0],\n",
       "  [355.0, 355.0, 372.5, 372.5],\n",
       "  [340.0, 340.0, 363.75, 363.75],\n",
       "  [312.5, 312.5, 351.875, 351.875],\n",
       "  [290.0, 290.0, 332.1875, 332.1875],\n",
       "  [425.0, 425.0, 435.0, 435.0],\n",
       "  [415.0, 415.0, 430.0, 430.0],\n",
       "  [405.0, 405.0, 422.5, 422.5],\n",
       "  [395.0, 395.0, 413.75, 413.75],\n",
       "  [311.09375, 311.09375, 404.375, 404.375],\n",
       "  [445.0, 445.0, 455.0, 455.0],\n",
       "  [475.0, 475.0, 485.0, 485.0],\n",
       "  [465.0, 465.0, 480.0, 480.0],\n",
       "  [450.0, 450.0, 472.5, 472.5],\n",
       "  [505.0, 505.0, 515.0, 515.0],\n",
       "  [495.0, 495.0, 510.0, 510.0],\n",
       "  [535.0, 535.0, 545.0, 545.0],\n",
       "  [525.0, 525.0, 540.0, 540.0],\n",
       "  [502.5, 502.5, 532.5, 532.5],\n",
       "  [565.0, 565.0, 575.0, 575.0],\n",
       "  [555.0, 555.0, 570.0, 570.0],\n",
       "  [605.0, 605.0, 615.0, 615.0],\n",
       "  [595.0, 595.0, 610.0, 610.0],\n",
       "  [585.0, 585.0, 602.5, 602.5],\n",
       "  [562.5, 562.5, 593.75, 593.75],\n",
       "  [517.5, 517.5, 578.125, 578.125],\n",
       "  [461.25, 461.25, 547.8125, 547.8125],\n",
       "  [635.0, 635.0, 645.0, 645.0],\n",
       "  [625.0, 625.0, 640.0, 640.0],\n",
       "  [665.0, 665.0, 675.0, 675.0],\n",
       "  [655.0, 655.0, 670.0, 670.0],\n",
       "  [685.0, 685.0, 695.0, 695.0],\n",
       "  [662.5, 662.5, 690.0, 690.0],\n",
       "  [632.5, 632.5, 676.25, 676.25],\n",
       "  [705.0, 705.0, 715.0, 715.0],\n",
       "  [735.0, 735.0, 745.0, 745.0],\n",
       "  [755.0, 755.0, 765.0, 765.0],\n",
       "  [740.0, 740.0, 760.0, 760.0],\n",
       "  [725.0, 725.0, 750.0, 750.0],\n",
       "  [710.0, 710.0, 737.5, 737.5],\n",
       "  [775.0, 775.0, 785.0, 785.0],\n",
       "  [815.0, 815.0, 825.0, 825.0],\n",
       "  [805.0, 805.0, 820.0, 820.0],\n",
       "  [795.0, 795.0, 812.5, 812.5],\n",
       "  [780.0, 780.0, 803.75, 803.75],\n",
       "  [723.75, 723.75, 791.875, 791.875],\n",
       "  [654.375, 654.375, 757.8125, 757.8125],\n",
       "  [855.0, 855.0, 865.0, 865.0],\n",
       "  [845.0, 845.0, 860.0, 860.0],\n",
       "  [835.0, 835.0, 852.5, 852.5],\n",
       "  [875.0, 875.0, 885.0, 885.0],\n",
       "  [905.0, 905.0, 915.0, 915.0],\n",
       "  [895.0, 895.0, 910.0, 910.0],\n",
       "  [880.0, 880.0, 902.5, 902.5],\n",
       "  [925.0, 925.0, 935.0, 935.0],\n",
       "  [945.0, 945.0, 955.0, 955.0],\n",
       "  [930.0, 930.0, 950.0, 950.0],\n",
       "  [965.0, 965.0, 975.0, 975.0],\n",
       "  [985.0, 985.0, 995.0, 995.0],\n",
       "  [970.0, 970.0, 990.0, 990.0],\n",
       "  [940.0, 940.0, 980.0, 980.0],\n",
       "  [891.25, 891.25, 960.0, 960.0],\n",
       "  [843.75, 843.75, 925.625, 925.625],\n",
       "  [706.09375, 706.09375, 884.6875, 884.6875],\n",
       "  [504.53125, 504.53125, 795.390625, 795.390625],\n",
       "  [357.734375, 357.734375, 649.9609375, 649.9609375],\n",
       "  [80.078125, 80.078125, 503.84765625, 503.84765625],\n",
       "  [1015.0, 1015.0, 1025.0, 1025.0],\n",
       "  [1005.0, 1005.0, 1020.0, 1020.0],\n",
       "  [1045.0, 1045.0, 1055.0, 1055.0],\n",
       "  [1075.0, 1075.0, 1085.0, 1085.0],\n",
       "  [1065.0, 1065.0, 1080.0, 1080.0],\n",
       "  [1050.0, 1050.0, 1072.5, 1072.5],\n",
       "  [1105.0, 1105.0, 1115.0, 1115.0],\n",
       "  [1095.0, 1095.0, 1110.0, 1110.0],\n",
       "  [1135.0, 1135.0, 1145.0, 1145.0],\n",
       "  [1125.0, 1125.0, 1140.0, 1140.0],\n",
       "  [1102.5, 1102.5, 1132.5, 1132.5],\n",
       "  [1061.25, 1061.25, 1117.5, 1117.5],\n",
       "  [1035.0, 1035.0, 1089.375, 1089.375],\n",
       "  [1012.5, 1012.5, 1062.1875, 1062.1875],\n",
       "  [1195.0, 1195.0, 1205.0, 1205.0],\n",
       "  [1185.0, 1185.0, 1200.0, 1200.0],\n",
       "  [1175.0, 1175.0, 1192.5, 1192.5],\n",
       "  [1165.0, 1165.0, 1183.75, 1183.75],\n",
       "  [1155.0, 1155.0, 1174.375, 1174.375],\n",
       "  [1215.0, 1215.0, 1225.0, 1225.0],\n",
       "  [1245.0, 1245.0, 1255.0, 1255.0],\n",
       "  [1235.0, 1235.0, 1250.0, 1250.0],\n",
       "  [1220.0, 1220.0, 1242.5, 1242.5],\n",
       "  [1265.0, 1265.0, 1275.0, 1275.0],\n",
       "  [1295.0, 1295.0, 1305.0, 1305.0],\n",
       "  [1285.0, 1285.0, 1300.0, 1300.0],\n",
       "  [1270.0, 1270.0, 1292.5, 1292.5],\n",
       "  [1315.0, 1315.0, 1325.0, 1325.0],\n",
       "  [1335.0, 1335.0, 1345.0, 1345.0],\n",
       "  [1320.0, 1320.0, 1340.0, 1340.0],\n",
       "  [1281.25, 1281.25, 1330.0, 1330.0],\n",
       "  [1231.25, 1231.25, 1305.625, 1305.625],\n",
       "  [1164.6875, 1164.6875, 1268.4375, 1268.4375],\n",
       "  [1375.0, 1375.0, 1385.0, 1385.0],\n",
       "  [1365.0, 1365.0, 1380.0, 1380.0],\n",
       "  [1355.0, 1355.0, 1372.5, 1372.5],\n",
       "  [1395.0, 1395.0, 1405.0, 1405.0],\n",
       "  [1425.0, 1425.0, 1435.0, 1435.0],\n",
       "  [1415.0, 1415.0, 1430.0, 1430.0],\n",
       "  [1400.0, 1400.0, 1422.5, 1422.5],\n",
       "  [1363.75, 1363.75, 1411.25, 1411.25],\n",
       "  [1445.0, 1445.0, 1455.0, 1455.0],\n",
       "  [1465.0, 1465.0, 1475.0, 1475.0],\n",
       "  [1485.0, 1485.0, 1495.0, 1495.0],\n",
       "  [1470.0, 1470.0, 1490.0, 1490.0],\n",
       "  [1450.0, 1450.0, 1480.0, 1480.0],\n",
       "  [1387.5, 1387.5, 1465.0, 1465.0],\n",
       "  [1216.5625, 1216.5625, 1426.25, 1426.25],\n",
       "  [1037.34375, 1037.34375, 1321.40625, 1321.40625],\n",
       "  [1515.0, 1515.0, 1525.0, 1525.0],\n",
       "  [1505.0, 1505.0, 1520.0, 1520.0],\n",
       "  [1535.0, 1535.0, 1545.0, 1545.0],\n",
       "  [1555.0, 1555.0, 1565.0, 1565.0],\n",
       "  [1595.0, 1595.0, 1605.0, 1605.0],\n",
       "  [1585.0, 1585.0, 1600.0, 1600.0],\n",
       "  [1575.0, 1575.0, 1592.5, 1592.5],\n",
       "  [1560.0, 1560.0, 1583.75, 1583.75],\n",
       "  [1540.0, 1540.0, 1571.875, 1571.875],\n",
       "  [1512.5, 1512.5, 1555.9375, 1555.9375],\n",
       "  [1615.0, 1615.0, 1625.0, 1625.0],\n",
       "  [1635.0, 1635.0, 1645.0, 1645.0],\n",
       "  [1620.0, 1620.0, 1640.0, 1640.0],\n",
       "  [1655.0, 1655.0, 1665.0, 1665.0],\n",
       "  [1675.0, 1675.0, 1685.0, 1685.0],\n",
       "  [1695.0, 1695.0, 1705.0, 1705.0],\n",
       "  [1680.0, 1680.0, 1700.0, 1700.0],\n",
       "  [1660.0, 1660.0, 1690.0, 1690.0],\n",
       "  [1715.0, 1715.0, 1725.0, 1725.0],\n",
       "  [1755.0, 1755.0, 1765.0, 1765.0],\n",
       "  [1745.0, 1745.0, 1760.0, 1760.0],\n",
       "  [1735.0, 1735.0, 1752.5, 1752.5],\n",
       "  [1720.0, 1720.0, 1743.75, 1743.75],\n",
       "  [1675.0, 1675.0, 1731.875, 1731.875],\n",
       "  [1630.0, 1630.0, 1703.4375, 1703.4375],\n",
       "  [1534.21875, 1534.21875, 1666.71875, 1666.71875],\n",
       "  [1775.0, 1775.0, 1785.0, 1785.0],\n",
       "  [1805.0, 1805.0, 1815.0, 1815.0],\n",
       "  [1835.0, 1835.0, 1845.0, 1845.0],\n",
       "  [1825.0, 1825.0, 1840.0, 1840.0],\n",
       "  [1810.0, 1810.0, 1832.5, 1832.5],\n",
       "  [1795.0, 1795.0, 1821.25, 1821.25],\n",
       "  [1855.0, 1855.0, 1865.0, 1865.0],\n",
       "  [1875.0, 1875.0, 1885.0, 1885.0],\n",
       "  [1895.0, 1895.0, 1905.0, 1905.0],\n",
       "  [1880.0, 1880.0, 1900.0, 1900.0],\n",
       "  [1860.0, 1860.0, 1890.0, 1890.0],\n",
       "  [1925.0, 1925.0, 1935.0, 1935.0],\n",
       "  [1945.0, 1945.0, 1955.0, 1955.0],\n",
       "  [1930.0, 1930.0, 1950.0, 1950.0],\n",
       "  [1915.0, 1915.0, 1940.0, 1940.0],\n",
       "  [1875.0, 1875.0, 1927.5, 1927.5],\n",
       "  [1808.125, 1808.125, 1901.25, 1901.25],\n",
       "  [1780.0, 1780.0, 1854.6875, 1854.6875],\n",
       "  [1965.0, 1965.0, 1975.0, 1975.0],\n",
       "  [1995.0, 1995.0, 2005.0, 2005.0],\n",
       "  [1985.0, 1985.0, 2000.0, 2000.0],\n",
       "  [2025.0, 2025.0, 2035.0, 2035.0],\n",
       "  [2015.0, 2015.0, 2030.0, 2030.0],\n",
       "  [1992.5, 1992.5, 2022.5, 2022.5],\n",
       "  [1970.0, 1970.0, 2007.5, 2007.5],\n",
       "  [1817.34375, 1817.34375, 1988.75, 1988.75],\n",
       "  [1600.46875, 1600.46875, 1903.046875, 1903.046875],\n",
       "  [2055.0, 2055.0, 2065.0, 2065.0],\n",
       "  [2075.0, 2075.0, 2085.0, 2085.0],\n",
       "  [2060.0, 2060.0, 2080.0, 2080.0],\n",
       "  [2045.0, 2045.0, 2070.0, 2070.0],\n",
       "  [2105.0, 2105.0, 2115.0, 2115.0],\n",
       "  [2135.0, 2135.0, 2145.0, 2145.0],\n",
       "  [2125.0, 2125.0, 2140.0, 2140.0],\n",
       "  [2175.0, 2175.0, 2185.0, 2185.0],\n",
       "  [2165.0, 2165.0, 2180.0, 2180.0],\n",
       "  [2155.0, 2155.0, 2172.5, 2172.5],\n",
       "  [2132.5, 2132.5, 2163.75, 2163.75],\n",
       "  [2110.0, 2110.0, 2148.125, 2148.125],\n",
       "  [2095.0, 2095.0, 2129.0625, 2129.0625],\n",
       "  [2205.0, 2205.0, 2215.0, 2215.0],\n",
       "  [2195.0, 2195.0, 2210.0, 2210.0],\n",
       "  [2235.0, 2235.0, 2245.0, 2245.0],\n",
       "  [2225.0, 2225.0, 2240.0, 2240.0],\n",
       "  [2255.0, 2255.0, 2265.0, 2265.0],\n",
       "  [2275.0, 2275.0, 2285.0, 2285.0],\n",
       "  [2260.0, 2260.0, 2280.0, 2280.0],\n",
       "  [2232.5, 2232.5, 2270.0, 2270.0],\n",
       "  [2202.5, 2202.5, 2251.25, 2251.25],\n",
       "  [2112.03125, 2112.03125, 2226.875, 2226.875],\n",
       "  [2057.5, 2057.5, 2169.453125, 2169.453125],\n",
       "  [2315.0, 2315.0, 2325.0, 2325.0],\n",
       "  [2305.0, 2305.0, 2320.0, 2320.0],\n",
       "  [2295.0, 2295.0, 2312.5, 2312.5],\n",
       "  [2335.0, 2335.0, 2345.0, 2345.0],\n",
       "  [2355.0, 2355.0, 2365.0, 2365.0],\n",
       "  [2340.0, 2340.0, 2360.0, 2360.0],\n",
       "  [2303.75, 2303.75, 2350.0, 2350.0],\n",
       "  [2375.0, 2375.0, 2385.0, 2385.0],\n",
       "  [2395.0, 2395.0, 2405.0, 2405.0],\n",
       "  [2380.0, 2380.0, 2400.0, 2400.0],\n",
       "  [2415.0, 2415.0, 2425.0, 2425.0],\n",
       "  [2445.0, 2445.0, 2455.0, 2455.0],\n",
       "  [2435.0, 2435.0, 2450.0, 2450.0],\n",
       "  [2485.0, 2485.0, 2495.0, 2495.0],\n",
       "  [2475.0, 2475.0, 2490.0, 2490.0],\n",
       "  [2465.0, 2465.0, 2482.5, 2482.5],\n",
       "  [2442.5, 2442.5, 2473.75, 2473.75],\n",
       "  [2420.0, 2420.0, 2458.125, 2458.125],\n",
       "  [2390.0, 2390.0, 2439.0625, 2439.0625],\n",
       "  [2326.875, 2326.875, 2414.53125, 2414.53125],\n",
       "  [2113.4765625, 2113.4765625, 2370.703125, 2370.703125],\n",
       "  [1751.7578125, 1751.7578125, 2242.08984375, 2242.08984375],\n",
       "  [1179.375, 1179.375, 1996.923828125, 1996.923828125],\n",
       "  [291.962890625, 291.962890625, 1588.1494140625, 1588.1494140625]],\n",
       " 'dcoord': [[0.0, 0.40249929990970423, 0.40249929990970423, 0.0],\n",
       "  [0.0, 0.37292366608562205, 0.37292366608562205, 0.0],\n",
       "  [0.0, 0.38284454335532714, 0.38284454335532714, 0.0],\n",
       "  [0.37292366608562205,\n",
       "   1.3502506244131847,\n",
       "   1.3502506244131847,\n",
       "   0.38284454335532714],\n",
       "  [0.40249929990970423,\n",
       "   1.5514906772828996,\n",
       "   1.5514906772828996,\n",
       "   1.3502506244131847],\n",
       "  [0.0, 0.5995782551852349, 0.5995782551852349, 0.0],\n",
       "  [0.0, 0.804007324145244, 0.804007324145244, 0.0],\n",
       "  [0.5995782551852349,\n",
       "   1.209660925504888,\n",
       "   1.209660925504888,\n",
       "   0.804007324145244],\n",
       "  [0.0, 1.271214980981197, 1.271214980981197, 0.0],\n",
       "  [1.209660925504888,\n",
       "   3.6272027761508814,\n",
       "   3.6272027761508814,\n",
       "   1.271214980981197],\n",
       "  [0.0, 0.37841674395484887, 0.37841674395484887, 0.0],\n",
       "  [0.0, 0.4041073169809532, 0.4041073169809532, 0.0],\n",
       "  [0.37841674395484887,\n",
       "   0.8731628390634981,\n",
       "   0.8731628390634981,\n",
       "   0.4041073169809532],\n",
       "  [0.0, 1.7527586680940748, 1.7527586680940748, 0.8731628390634981],\n",
       "  [0.0, 0.2430685554461994, 0.2430685554461994, 0.0],\n",
       "  [0.0, 0.40514637853730606, 0.40514637853730606, 0.2430685554461994],\n",
       "  [0.0, 0.7681284413169571, 0.7681284413169571, 0.40514637853730606],\n",
       "  [0.0, 0.8011786960129839, 0.8011786960129839, 0.7681284413169571],\n",
       "  [0.0, 0.40744850889981993, 0.40744850889981993, 0.0],\n",
       "  [0.0, 0.20279482127162274, 0.20279482127162274, 0.0],\n",
       "  [0.0, 0.6017602843061349, 0.6017602843061349, 0.20279482127162274],\n",
       "  [0.0, 1.1784530318665274, 1.1784530318665274, 0.6017602843061349],\n",
       "  [0.40744850889981993,\n",
       "   1.616743527671245,\n",
       "   1.616743527671245,\n",
       "   1.1784530318665274],\n",
       "  [0.8011786960129839,\n",
       "   3.0634289643656847,\n",
       "   3.0634289643656847,\n",
       "   1.616743527671245],\n",
       "  [1.7527586680940748,\n",
       "   5.045499286099949,\n",
       "   5.045499286099949,\n",
       "   3.0634289643656847],\n",
       "  [3.6272027761508814,\n",
       "   7.747556052668198,\n",
       "   7.747556052668198,\n",
       "   5.045499286099949],\n",
       "  [1.5514906772828996,\n",
       "   8.145487091873767,\n",
       "   8.145487091873767,\n",
       "   7.747556052668198],\n",
       "  [0.0, 0.8345992589723158, 0.8345992589723158, 0.0],\n",
       "  [0.0, 0.29007639712035727, 0.29007639712035727, 0.0],\n",
       "  [0.0, 1.0104922169042057, 1.0104922169042057, 0.29007639712035727],\n",
       "  [0.0, 0.22810379733688632, 0.22810379733688632, 0.0],\n",
       "  [0.0, 0.3340933223508354, 0.3340933223508354, 0.0],\n",
       "  [0.0, 0.5007421962689154, 0.5007421962689154, 0.3340933223508354],\n",
       "  [0.0, 1.2491095166312935, 1.2491095166312935, 0.5007421962689154],\n",
       "  [0.22810379733688632,\n",
       "   1.735443025314955,\n",
       "   1.735443025314955,\n",
       "   1.2491095166312935],\n",
       "  [1.0104922169042057,\n",
       "   2.5155911142476133,\n",
       "   2.5155911142476133,\n",
       "   1.735443025314955],\n",
       "  [0.8345992589723158,\n",
       "   3.627859697767697,\n",
       "   3.627859697767697,\n",
       "   2.5155911142476133],\n",
       "  [0.0, 0.4218614858210788, 0.4218614858210788, 0.0],\n",
       "  [0.0, 0.8048455162872004, 0.8048455162872004, 0.4218614858210788],\n",
       "  [0.0, 2.795472828418114, 2.795472828418114, 0.8048455162872004],\n",
       "  [0.0, 3.786120096028431, 3.786120096028431, 2.795472828418114],\n",
       "  [3.627859697767697, 7.1834847770352, 7.1834847770352, 3.786120096028431],\n",
       "  [0.0, 0.5498307840131426, 0.5498307840131426, 0.0],\n",
       "  [0.0, 0.24023459729270477, 0.24023459729270477, 0.0],\n",
       "  [0.0, 0.5938966864653102, 0.5938966864653102, 0.24023459729270477],\n",
       "  [0.5498307840131426,\n",
       "   1.569319535087434,\n",
       "   1.569319535087434,\n",
       "   0.5938966864653102],\n",
       "  [0.0, 0.20622330926636406, 0.20622330926636406, 0.0],\n",
       "  [0.0, 0.42955109458140867, 0.42955109458140867, 0.20622330926636406],\n",
       "  [0.0, 0.4000447243894372, 0.4000447243894372, 0.0],\n",
       "  [0.0, 0.6093231706204993, 0.6093231706204993, 0.4000447243894372],\n",
       "  [0.42955109458140867,\n",
       "   1.2325945323796934,\n",
       "   1.2325945323796934,\n",
       "   0.6093231706204993],\n",
       "  [0.0, 0.16681497897391898, 0.16681497897391898, 0.0],\n",
       "  [0.0, 0.4586954062732276, 0.4586954062732276, 0.16681497897391898],\n",
       "  [0.0, 0.3528171981302255, 0.3528171981302255, 0.0],\n",
       "  [0.0, 0.657670432287344, 0.657670432287344, 0.3528171981302255],\n",
       "  [0.0, 1.9900682529148674, 1.9900682529148674, 0.657670432287344],\n",
       "  [0.4586954062732276,\n",
       "   2.221258462120111,\n",
       "   2.221258462120111,\n",
       "   1.9900682529148674],\n",
       "  [1.2325945323796934,\n",
       "   3.568215949650784,\n",
       "   3.568215949650784,\n",
       "   2.221258462120111],\n",
       "  [1.569319535087434, 4.718176894473045, 4.718176894473045, 3.568215949650784],\n",
       "  [0.0, 0.3358647084547253, 0.3358647084547253, 0.0],\n",
       "  [0.0, 0.3885104600890917, 0.3885104600890917, 0.3358647084547253],\n",
       "  [0.0, 0.019414065797509428, 0.019414065797509428, 0.0],\n",
       "  [0.0, 0.13972753496367898, 0.13972753496367898, 0.019414065797509428],\n",
       "  [0.0, 0.2967307607422382, 0.2967307607422382, 0.0],\n",
       "  [0.13972753496367898,\n",
       "   0.47482104873421166,\n",
       "   0.47482104873421166,\n",
       "   0.2967307607422382],\n",
       "  [0.3885104600890917,\n",
       "   1.301773356280131,\n",
       "   1.301773356280131,\n",
       "   0.47482104873421166],\n",
       "  [0.0, 0.3571023838145864, 0.3571023838145864, 0.0],\n",
       "  [0.0, 0.05748168292470861, 0.05748168292470861, 0.0],\n",
       "  [0.0, 0.24945466722590198, 0.24945466722590198, 0.0],\n",
       "  [0.05748168292470861,\n",
       "   0.36783616622682713,\n",
       "   0.36783616622682713,\n",
       "   0.24945466722590198],\n",
       "  [0.0, 0.8192849437590848, 0.8192849437590848, 0.36783616622682713],\n",
       "  [0.3571023838145864,\n",
       "   1.1105716537189139,\n",
       "   1.1105716537189139,\n",
       "   0.8192849437590848],\n",
       "  [0.0, 0.27586025501320244, 0.27586025501320244, 0.0],\n",
       "  [0.0, 0.08450805834235543, 0.08450805834235543, 0.0],\n",
       "  [0.0, 0.5139780619500558, 0.5139780619500558, 0.08450805834235543],\n",
       "  [0.0, 0.8951938320744643, 0.8951938320744643, 0.5139780619500558],\n",
       "  [0.27586025501320244,\n",
       "   1.2406035768913628,\n",
       "   1.2406035768913628,\n",
       "   0.8951938320744643],\n",
       "  [1.1105716537189139,\n",
       "   1.825920607351148,\n",
       "   1.825920607351148,\n",
       "   1.2406035768913628],\n",
       "  [1.301773356280131, 4.135244649697338, 4.135244649697338, 1.825920607351148],\n",
       "  [0.0, 0.49750485294422536, 0.49750485294422536, 0.0],\n",
       "  [0.0, 1.221776566659452, 1.221776566659452, 0.49750485294422536],\n",
       "  [0.0, 1.762566385551615, 1.762566385551615, 1.221776566659452],\n",
       "  [0.0, 0.5654299105522753, 0.5654299105522753, 0.0],\n",
       "  [0.0, 0.4235730407095465, 0.4235730407095465, 0.0],\n",
       "  [0.0, 0.7253967533181733, 0.7253967533181733, 0.4235730407095465],\n",
       "  [0.5654299105522753,\n",
       "   1.2616303699652787,\n",
       "   1.2616303699652787,\n",
       "   0.7253967533181733],\n",
       "  [0.0, 0.16417522182702526, 0.16417522182702526, 0.0],\n",
       "  [0.0, 0.22072596699678862, 0.22072596699678862, 0.0],\n",
       "  [0.16417522182702526,\n",
       "   0.5083479168428495,\n",
       "   0.5083479168428495,\n",
       "   0.22072596699678862],\n",
       "  [0.0, 0.2773853730604731, 0.2773853730604731, 0.0],\n",
       "  [0.0, 0.4454463294863799, 0.4454463294863799, 0.0],\n",
       "  [0.2773853730604731,\n",
       "   1.0370693289167277,\n",
       "   1.0370693289167277,\n",
       "   0.4454463294863799],\n",
       "  [0.5083479168428495,\n",
       "   1.764679759868816,\n",
       "   1.764679759868816,\n",
       "   1.0370693289167277],\n",
       "  [1.2616303699652787,\n",
       "   3.1201897784221804,\n",
       "   3.1201897784221804,\n",
       "   1.764679759868816],\n",
       "  [1.762566385551615,\n",
       "   6.187488898987714,\n",
       "   6.187488898987714,\n",
       "   3.1201897784221804],\n",
       "  [4.135244649697338, 7.394604000087628, 7.394604000087628, 6.187488898987714],\n",
       "  [4.718176894473045,\n",
       "   13.547890612513772,\n",
       "   13.547890612513772,\n",
       "   7.394604000087628],\n",
       "  [7.1834847770352, 19.42009212381029, 19.42009212381029, 13.547890612513772],\n",
       "  [8.145487091873767, 26.79860013784603, 26.79860013784603, 19.42009212381029],\n",
       "  [0.0, 1.1885554367109223, 1.1885554367109223, 0.0],\n",
       "  [0.0, 2.5719004599843527, 2.5719004599843527, 1.1885554367109223],\n",
       "  [0.0, 0.47502987971685495, 0.47502987971685495, 0.0],\n",
       "  [0.0, 0.611802607611816, 0.611802607611816, 0.0],\n",
       "  [0.0, 1.0838630191779453, 1.0838630191779453, 0.611802607611816],\n",
       "  [0.47502987971685495,\n",
       "   1.695798766557919,\n",
       "   1.695798766557919,\n",
       "   1.0838630191779453],\n",
       "  [0.0, 0.3970040501876299, 0.3970040501876299, 0.0],\n",
       "  [0.0, 0.5488391164660118, 0.5488391164660118, 0.3970040501876299],\n",
       "  [0.0, 1.037320333146837, 1.037320333146837, 0.0],\n",
       "  [0.0, 1.4631088863891188, 1.4631088863891188, 1.037320333146837],\n",
       "  [0.5488391164660118,\n",
       "   2.8482789316374486,\n",
       "   2.8482789316374486,\n",
       "   1.4631088863891188],\n",
       "  [1.695798766557919,\n",
       "   3.513274418128009,\n",
       "   3.513274418128009,\n",
       "   2.8482789316374486],\n",
       "  [0.0, 4.771347580071283, 4.771347580071283, 3.513274418128009],\n",
       "  [2.5719004599843527,\n",
       "   7.045867590012939,\n",
       "   7.045867590012939,\n",
       "   4.771347580071283],\n",
       "  [0.0, 0.24272712386113895, 0.24272712386113895, 0.0],\n",
       "  [0.0, 0.5109561093798671, 0.5109561093798671, 0.24272712386113895],\n",
       "  [0.0, 0.8463114209152128, 0.8463114209152128, 0.5109561093798671],\n",
       "  [0.0, 1.6098852562427437, 1.6098852562427437, 0.8463114209152128],\n",
       "  [0.0, 1.9550391967172391, 1.9550391967172391, 1.6098852562427437],\n",
       "  [0.0, 0.5096663653100774, 0.5096663653100774, 0.0],\n",
       "  [0.0, 0.14333927109509284, 0.14333927109509284, 0.0],\n",
       "  [0.0, 0.9548538593801125, 0.9548538593801125, 0.14333927109509284],\n",
       "  [0.5096663653100774,\n",
       "   1.419768890243676,\n",
       "   1.419768890243676,\n",
       "   0.9548538593801125],\n",
       "  [0.0, 0.09568937121649482, 0.09568937121649482, 0.0],\n",
       "  [0.0, 0.21156730444383184, 0.21156730444383184, 0.0],\n",
       "  [0.0, 0.7698977683892653, 0.7698977683892653, 0.21156730444383184],\n",
       "  [0.09568937121649482,\n",
       "   0.9042976011496324,\n",
       "   0.9042976011496324,\n",
       "   0.7698977683892653],\n",
       "  [0.0, 0.39412625093757303, 0.39412625093757303, 0.0],\n",
       "  [0.0, 0.5708799642774309, 0.5708799642774309, 0.0],\n",
       "  [0.39412625093757303,\n",
       "   1.431064710329298,\n",
       "   1.431064710329298,\n",
       "   0.5708799642774309],\n",
       "  [0.9042976011496324,\n",
       "   2.5346547884542243,\n",
       "   2.5346547884542243,\n",
       "   1.431064710329298],\n",
       "  [1.419768890243676,\n",
       "   4.611666191587052,\n",
       "   4.611666191587052,\n",
       "   2.5346547884542243],\n",
       "  [1.9550391967172391,\n",
       "   8.638699632067272,\n",
       "   8.638699632067272,\n",
       "   4.611666191587052],\n",
       "  [0.0, 0.08043413614124399, 0.08043413614124399, 0.0],\n",
       "  [0.0, 0.5785678618418086, 0.5785678618418086, 0.08043413614124399],\n",
       "  [0.0, 1.0014116418740717, 1.0014116418740717, 0.5785678618418086],\n",
       "  [0.0, 0.9578929684338273, 0.9578929684338273, 0.0],\n",
       "  [0.0, 0.7752378457982274, 0.7752378457982274, 0.0],\n",
       "  [0.0, 1.5667985421445942, 1.5667985421445942, 0.7752378457982274],\n",
       "  [0.9578929684338273,\n",
       "   2.8842513969120454,\n",
       "   2.8842513969120454,\n",
       "   1.5667985421445942],\n",
       "  [1.0014116418740717,\n",
       "   3.3034439748085114,\n",
       "   3.3034439748085114,\n",
       "   2.8842513969120454],\n",
       "  [0.0, 0.4533512498147979, 0.4533512498147979, 0.0],\n",
       "  [0.0, 0.5598557829823799, 0.5598557829823799, 0.0],\n",
       "  [0.0, 0.8701540812136164, 0.8701540812136164, 0.0],\n",
       "  [0.5598557829823799,\n",
       "   1.7139327607415247,\n",
       "   1.7139327607415247,\n",
       "   0.8701540812136164],\n",
       "  [0.4533512498147979,\n",
       "   3.776159948943867,\n",
       "   3.776159948943867,\n",
       "   1.7139327607415247],\n",
       "  [3.3034439748085114,\n",
       "   9.578835914416112,\n",
       "   9.578835914416112,\n",
       "   3.776159948943867],\n",
       "  [8.638699632067272,\n",
       "   14.572555360066765,\n",
       "   14.572555360066765,\n",
       "   9.578835914416112],\n",
       "  [7.045867590012939,\n",
       "   19.12530638544582,\n",
       "   19.12530638544582,\n",
       "   14.572555360066765],\n",
       "  [0.0, 0.5037586537574484, 0.5037586537574484, 0.0],\n",
       "  [0.0, 0.9510312875025272, 0.9510312875025272, 0.5037586537574484],\n",
       "  [0.0, 0.8732129685428037, 0.8732129685428037, 0.0],\n",
       "  [0.0, 0.2928882155631442, 0.2928882155631442, 0.0],\n",
       "  [0.0, 0.20785235442541644, 0.20785235442541644, 0.0],\n",
       "  [0.0, 0.41487695487652837, 0.41487695487652837, 0.20785235442541644],\n",
       "  [0.0, 0.4930255030118502, 0.4930255030118502, 0.41487695487652837],\n",
       "  [0.2928882155631442,\n",
       "   1.1982744098634979,\n",
       "   1.1982744098634979,\n",
       "   0.4930255030118502],\n",
       "  [0.8732129685428037,\n",
       "   1.7383201005948428,\n",
       "   1.7383201005948428,\n",
       "   1.1982744098634979],\n",
       "  [0.9510312875025272,\n",
       "   3.020186093541267,\n",
       "   3.020186093541267,\n",
       "   1.7383201005948428],\n",
       "  [0.0, 0.24903670105488404, 0.24903670105488404, 0.0],\n",
       "  [0.0, 0.4710370184414079, 0.4710370184414079, 0.0],\n",
       "  [0.24903670105488404,\n",
       "   1.6331999391264362,\n",
       "   1.6331999391264362,\n",
       "   0.4710370184414079],\n",
       "  [0.0, 0.12955542255985095, 0.12955542255985095, 0.0],\n",
       "  [0.0, 0.21199833666736675, 0.21199833666736675, 0.0],\n",
       "  [0.0, 0.2684843365265883, 0.2684843365265883, 0.0],\n",
       "  [0.21199833666736675,\n",
       "   0.5541725401171352,\n",
       "   0.5541725401171352,\n",
       "   0.2684843365265883],\n",
       "  [0.12955542255985095,\n",
       "   0.8645751525874179,\n",
       "   0.8645751525874179,\n",
       "   0.5541725401171352],\n",
       "  [0.0, 0.38594384412015587, 0.38594384412015587, 0.0],\n",
       "  [0.0, 0.10498070681749691, 0.10498070681749691, 0.0],\n",
       "  [0.0, 0.40330284631326174, 0.40330284631326174, 0.10498070681749691],\n",
       "  [0.0, 0.789131617353482, 0.789131617353482, 0.40330284631326174],\n",
       "  [0.38594384412015587,\n",
       "   1.465166392861521,\n",
       "   1.465166392861521,\n",
       "   0.789131617353482],\n",
       "  [0.8645751525874179,\n",
       "   2.8734096485445195,\n",
       "   2.8734096485445195,\n",
       "   1.465166392861521],\n",
       "  [1.6331999391264362, 3.32408111139847, 3.32408111139847, 2.8734096485445195],\n",
       "  [3.020186093541267, 7.753110456012591, 7.753110456012591, 3.32408111139847],\n",
       "  [0.0, 1.650642776061679, 1.650642776061679, 0.0],\n",
       "  [0.0, 0.26905796372451984, 0.26905796372451984, 0.0],\n",
       "  [0.0, 0.2603050219853991, 0.2603050219853991, 0.0],\n",
       "  [0.0, 0.4084889541454038, 0.4084889541454038, 0.2603050219853991],\n",
       "  [0.26905796372451984,\n",
       "   0.7277911043604797,\n",
       "   0.7277911043604797,\n",
       "   0.4084889541454038],\n",
       "  [0.0, 1.2096586613247102, 1.2096586613247102, 0.7277911043604797],\n",
       "  [0.0, 0.4569061025890376, 0.4569061025890376, 0.0],\n",
       "  [0.0, 0.20462690928031724, 0.20462690928031724, 0.0],\n",
       "  [0.0, 0.21576952901240523, 0.21576952901240523, 0.0],\n",
       "  [0.20462690928031724,\n",
       "   0.7597331986802965,\n",
       "   0.7597331986802965,\n",
       "   0.21576952901240523],\n",
       "  [0.4569061025890376,\n",
       "   1.3102658313080513,\n",
       "   1.3102658313080513,\n",
       "   0.7597331986802965],\n",
       "  [0.0, 0.3534714723142547, 0.3534714723142547, 0.0],\n",
       "  [0.0, 0.40434922465912854, 0.40434922465912854, 0.0],\n",
       "  [0.3534714723142547,\n",
       "   0.7148614024679457,\n",
       "   0.7148614024679457,\n",
       "   0.40434922465912854],\n",
       "  [0.0, 1.4246024443241154, 1.4246024443241154, 0.7148614024679457],\n",
       "  [1.3102658313080513,\n",
       "   2.176110741548713,\n",
       "   2.176110741548713,\n",
       "   1.4246024443241154],\n",
       "  [1.2096586613247102,\n",
       "   3.4299724373380265,\n",
       "   3.4299724373380265,\n",
       "   2.176110741548713],\n",
       "  [1.650642776061679,\n",
       "   4.493394595961934,\n",
       "   4.493394595961934,\n",
       "   3.4299724373380265],\n",
       "  [0.0, 1.6204342276995223, 1.6204342276995223, 0.0],\n",
       "  [0.0, 0.34966608164195484, 0.34966608164195484, 0.0],\n",
       "  [0.0, 0.9338329119418337, 0.9338329119418337, 0.34966608164195484],\n",
       "  [0.0, 0.750780623667059, 0.750780623667059, 0.0],\n",
       "  [0.0, 1.7299363558586989, 1.7299363558586989, 0.750780623667059],\n",
       "  [0.9338329119418337, 2.79193405183464, 2.79193405183464, 1.7299363558586989],\n",
       "  [1.6204342276995223, 5.567824457789801, 5.567824457789801, 2.79193405183464],\n",
       "  [4.493394595961934, 9.373441916503284, 9.373441916503284, 5.567824457789801],\n",
       "  [7.753110456012591,\n",
       "   13.445861267634779,\n",
       "   13.445861267634779,\n",
       "   9.373441916503284],\n",
       "  [0.0, 0.5712461919428147, 0.5712461919428147, 0.0],\n",
       "  [0.0, 0.8296125859226332, 0.8296125859226332, 0.0],\n",
       "  [0.5712461919428147,\n",
       "   0.9529486049075777,\n",
       "   0.9529486049075777,\n",
       "   0.8296125859226332],\n",
       "  [0.0, 2.7869881175304885, 2.7869881175304885, 0.9529486049075777],\n",
       "  [0.0, 0.6469736372711401, 0.6469736372711401, 0.0],\n",
       "  [0.0, 0.3714139353688837, 0.3714139353688837, 0.0],\n",
       "  [0.0, 0.7300704177102972, 0.7300704177102972, 0.3714139353688837],\n",
       "  [0.0, 0.12690954661004922, 0.12690954661004922, 0.0],\n",
       "  [0.0, 0.2439397219816525, 0.2439397219816525, 0.12690954661004922],\n",
       "  [0.0, 0.8408422627781956, 0.8408422627781956, 0.2439397219816525],\n",
       "  [0.7300704177102972, 1.25857402575292, 1.25857402575292, 0.8408422627781956],\n",
       "  [0.6469736372711401, 2.484534954094507, 2.484534954094507, 1.25857402575292],\n",
       "  [0.0, 2.67381093131851, 2.67381093131851, 2.484534954094507],\n",
       "  [0.0, 0.22861915042316863, 0.22861915042316863, 0.0],\n",
       "  [0.0, 0.643289389616307, 0.643289389616307, 0.22861915042316863],\n",
       "  [0.0, 0.16059963554799667, 0.16059963554799667, 0.0],\n",
       "  [0.0, 0.437309445210786, 0.437309445210786, 0.16059963554799667],\n",
       "  [0.0, 0.21649955387335265, 0.21649955387335265, 0.0],\n",
       "  [0.0, 0.6526468642108546, 0.6526468642108546, 0.0],\n",
       "  [0.21649955387335265,\n",
       "   0.7743340533318549,\n",
       "   0.7743340533318549,\n",
       "   0.6526468642108546],\n",
       "  [0.437309445210786,\n",
       "   1.729009346286455,\n",
       "   1.729009346286455,\n",
       "   0.7743340533318549],\n",
       "  [0.643289389616307, 3.150375875882717, 3.150375875882717, 1.729009346286455],\n",
       "  [2.67381093131851,\n",
       "   5.3612261433513835,\n",
       "   5.3612261433513835,\n",
       "   3.150375875882717],\n",
       "  [2.7869881175304885,\n",
       "   6.558237980574623,\n",
       "   6.558237980574623,\n",
       "   5.3612261433513835],\n",
       "  [0.0, 0.07284461400660203, 0.07284461400660203, 0.0],\n",
       "  [0.0, 0.7071865748240278, 0.7071865748240278, 0.07284461400660203],\n",
       "  [0.0, 0.8922718131881787, 0.8922718131881787, 0.7071865748240278],\n",
       "  [0.0, 0.37145065030900065, 0.37145065030900065, 0.0],\n",
       "  [0.0, 0.902556092763988, 0.902556092763988, 0.0],\n",
       "  [0.37145065030900065,\n",
       "   1.4628763294829628,\n",
       "   1.4628763294829628,\n",
       "   0.902556092763988],\n",
       "  [0.8922718131881787,\n",
       "   2.907342550645892,\n",
       "   2.907342550645892,\n",
       "   1.4628763294829628],\n",
       "  [0.0, 0.7505024511314825, 0.7505024511314825, 0.0],\n",
       "  [0.0, 0.7691999653743121, 0.7691999653743121, 0.0],\n",
       "  [0.7505024511314825,\n",
       "   2.1464095499556923,\n",
       "   2.1464095499556923,\n",
       "   0.7691999653743121],\n",
       "  [0.0, 1.2663118678278906, 1.2663118678278906, 0.0],\n",
       "  [0.0, 0.14667979661918867, 0.14667979661918867, 0.0],\n",
       "  [0.0, 0.45369710369957006, 0.45369710369957006, 0.14667979661918867],\n",
       "  [0.0, 0.23902547003841684, 0.23902547003841684, 0.0],\n",
       "  [0.0, 0.38883574690359285, 0.38883574690359285, 0.23902547003841684],\n",
       "  [0.0, 1.2280706374388717, 1.2280706374388717, 0.38883574690359285],\n",
       "  [0.45369710369957006,\n",
       "   1.4609747418905414,\n",
       "   1.4609747418905414,\n",
       "   1.2280706374388717],\n",
       "  [1.2663118678278906,\n",
       "   3.0319315109303386,\n",
       "   3.0319315109303386,\n",
       "   1.4609747418905414],\n",
       "  [2.1464095499556923,\n",
       "   5.150600825012571,\n",
       "   5.150600825012571,\n",
       "   3.0319315109303386],\n",
       "  [2.907342550645892, 8.747742899947582, 8.747742899947582, 5.150600825012571],\n",
       "  [6.558237980574623,\n",
       "   15.975167277192496,\n",
       "   15.975167277192496,\n",
       "   8.747742899947582],\n",
       "  [13.445861267634779,\n",
       "   32.37785646584682,\n",
       "   32.37785646584682,\n",
       "   15.975167277192496],\n",
       "  [19.12530638544582,\n",
       "   228.85941072078882,\n",
       "   228.85941072078882,\n",
       "   32.37785646584682],\n",
       "  [26.79860013784603,\n",
       "   396.0090741682716,\n",
       "   396.0090741682716,\n",
       "   228.85941072078882]],\n",
       " 'ivl': ['152',\n",
       "  '199',\n",
       "  '164',\n",
       "  '240',\n",
       "  '218',\n",
       "  '247',\n",
       "  '190',\n",
       "  '207',\n",
       "  '165',\n",
       "  '194',\n",
       "  '191',\n",
       "  '242',\n",
       "  '211',\n",
       "  '175',\n",
       "  '185',\n",
       "  '167',\n",
       "  '193',\n",
       "  '201',\n",
       "  '216',\n",
       "  '221',\n",
       "  '187',\n",
       "  '228',\n",
       "  '180',\n",
       "  '249',\n",
       "  '153',\n",
       "  '225',\n",
       "  '171',\n",
       "  '244',\n",
       "  '172',\n",
       "  '237',\n",
       "  '169',\n",
       "  '176',\n",
       "  '183',\n",
       "  '203',\n",
       "  '230',\n",
       "  '243',\n",
       "  '188',\n",
       "  '222',\n",
       "  '234',\n",
       "  '159',\n",
       "  '204',\n",
       "  '236',\n",
       "  '181',\n",
       "  '220',\n",
       "  '195',\n",
       "  '210',\n",
       "  '163',\n",
       "  '197',\n",
       "  '217',\n",
       "  '179',\n",
       "  '186',\n",
       "  '206',\n",
       "  '156',\n",
       "  '226',\n",
       "  '238',\n",
       "  '160',\n",
       "  '200',\n",
       "  '224',\n",
       "  '192',\n",
       "  '213',\n",
       "  '168',\n",
       "  '209',\n",
       "  '182',\n",
       "  '150',\n",
       "  '189',\n",
       "  '151',\n",
       "  '223',\n",
       "  '227',\n",
       "  '177',\n",
       "  '205',\n",
       "  '214',\n",
       "  '235',\n",
       "  '241',\n",
       "  '161',\n",
       "  '231',\n",
       "  '162',\n",
       "  '196',\n",
       "  '170',\n",
       "  '239',\n",
       "  '166',\n",
       "  '198',\n",
       "  '202',\n",
       "  '232',\n",
       "  '155',\n",
       "  '208',\n",
       "  '215',\n",
       "  '245',\n",
       "  '178',\n",
       "  '184',\n",
       "  '219',\n",
       "  '173',\n",
       "  '229',\n",
       "  '158',\n",
       "  '246',\n",
       "  '157',\n",
       "  '248',\n",
       "  '154',\n",
       "  '174',\n",
       "  '212',\n",
       "  '233',\n",
       "  '112',\n",
       "  '102',\n",
       "  '131',\n",
       "  '122',\n",
       "  '123',\n",
       "  '125',\n",
       "  '101',\n",
       "  '103',\n",
       "  '110',\n",
       "  '134',\n",
       "  '126',\n",
       "  '149',\n",
       "  '120',\n",
       "  '118',\n",
       "  '143',\n",
       "  '148',\n",
       "  '109',\n",
       "  '136',\n",
       "  '105',\n",
       "  '116',\n",
       "  '127',\n",
       "  '100',\n",
       "  '114',\n",
       "  '111',\n",
       "  '107',\n",
       "  '128',\n",
       "  '108',\n",
       "  '132',\n",
       "  '115',\n",
       "  '113',\n",
       "  '133',\n",
       "  '124',\n",
       "  '135',\n",
       "  '117',\n",
       "  '140',\n",
       "  '119',\n",
       "  '146',\n",
       "  '106',\n",
       "  '141',\n",
       "  '130',\n",
       "  '139',\n",
       "  '142',\n",
       "  '121',\n",
       "  '138',\n",
       "  '104',\n",
       "  '144',\n",
       "  '137',\n",
       "  '147',\n",
       "  '129',\n",
       "  '145',\n",
       "  '67',\n",
       "  '62',\n",
       "  '92',\n",
       "  '22',\n",
       "  '95',\n",
       "  '11',\n",
       "  '59',\n",
       "  '75',\n",
       "  '33',\n",
       "  '53',\n",
       "  '69',\n",
       "  '27',\n",
       "  '81',\n",
       "  '70',\n",
       "  '79',\n",
       "  '24',\n",
       "  '74',\n",
       "  '42',\n",
       "  '76',\n",
       "  '41',\n",
       "  '55',\n",
       "  '2',\n",
       "  '39',\n",
       "  '0',\n",
       "  '64',\n",
       "  '43',\n",
       "  '89',\n",
       "  '29',\n",
       "  '36',\n",
       "  '57',\n",
       "  '1',\n",
       "  '72',\n",
       "  '35',\n",
       "  '4',\n",
       "  '16',\n",
       "  '3',\n",
       "  '77',\n",
       "  '34',\n",
       "  '68',\n",
       "  '37',\n",
       "  '94',\n",
       "  '90',\n",
       "  '19',\n",
       "  '86',\n",
       "  '7',\n",
       "  '78',\n",
       "  '9',\n",
       "  '10',\n",
       "  '93',\n",
       "  '26',\n",
       "  '52',\n",
       "  '73',\n",
       "  '5',\n",
       "  '66',\n",
       "  '32',\n",
       "  '14',\n",
       "  '20',\n",
       "  '58',\n",
       "  '96',\n",
       "  '18',\n",
       "  '12',\n",
       "  '51',\n",
       "  '85',\n",
       "  '8',\n",
       "  '38',\n",
       "  '44',\n",
       "  '98',\n",
       "  '88',\n",
       "  '99',\n",
       "  '31',\n",
       "  '25',\n",
       "  '60',\n",
       "  '15',\n",
       "  '71',\n",
       "  '84',\n",
       "  '17',\n",
       "  '97',\n",
       "  '50',\n",
       "  '54',\n",
       "  '48',\n",
       "  '87',\n",
       "  '23',\n",
       "  '91',\n",
       "  '45',\n",
       "  '47',\n",
       "  '28',\n",
       "  '80',\n",
       "  '56',\n",
       "  '65',\n",
       "  '13',\n",
       "  '61',\n",
       "  '21',\n",
       "  '40',\n",
       "  '83',\n",
       "  '49',\n",
       "  '82',\n",
       "  '6',\n",
       "  '46',\n",
       "  '30',\n",
       "  '63'],\n",
       " 'leaves': [152,\n",
       "  199,\n",
       "  164,\n",
       "  240,\n",
       "  218,\n",
       "  247,\n",
       "  190,\n",
       "  207,\n",
       "  165,\n",
       "  194,\n",
       "  191,\n",
       "  242,\n",
       "  211,\n",
       "  175,\n",
       "  185,\n",
       "  167,\n",
       "  193,\n",
       "  201,\n",
       "  216,\n",
       "  221,\n",
       "  187,\n",
       "  228,\n",
       "  180,\n",
       "  249,\n",
       "  153,\n",
       "  225,\n",
       "  171,\n",
       "  244,\n",
       "  172,\n",
       "  237,\n",
       "  169,\n",
       "  176,\n",
       "  183,\n",
       "  203,\n",
       "  230,\n",
       "  243,\n",
       "  188,\n",
       "  222,\n",
       "  234,\n",
       "  159,\n",
       "  204,\n",
       "  236,\n",
       "  181,\n",
       "  220,\n",
       "  195,\n",
       "  210,\n",
       "  163,\n",
       "  197,\n",
       "  217,\n",
       "  179,\n",
       "  186,\n",
       "  206,\n",
       "  156,\n",
       "  226,\n",
       "  238,\n",
       "  160,\n",
       "  200,\n",
       "  224,\n",
       "  192,\n",
       "  213,\n",
       "  168,\n",
       "  209,\n",
       "  182,\n",
       "  150,\n",
       "  189,\n",
       "  151,\n",
       "  223,\n",
       "  227,\n",
       "  177,\n",
       "  205,\n",
       "  214,\n",
       "  235,\n",
       "  241,\n",
       "  161,\n",
       "  231,\n",
       "  162,\n",
       "  196,\n",
       "  170,\n",
       "  239,\n",
       "  166,\n",
       "  198,\n",
       "  202,\n",
       "  232,\n",
       "  155,\n",
       "  208,\n",
       "  215,\n",
       "  245,\n",
       "  178,\n",
       "  184,\n",
       "  219,\n",
       "  173,\n",
       "  229,\n",
       "  158,\n",
       "  246,\n",
       "  157,\n",
       "  248,\n",
       "  154,\n",
       "  174,\n",
       "  212,\n",
       "  233,\n",
       "  112,\n",
       "  102,\n",
       "  131,\n",
       "  122,\n",
       "  123,\n",
       "  125,\n",
       "  101,\n",
       "  103,\n",
       "  110,\n",
       "  134,\n",
       "  126,\n",
       "  149,\n",
       "  120,\n",
       "  118,\n",
       "  143,\n",
       "  148,\n",
       "  109,\n",
       "  136,\n",
       "  105,\n",
       "  116,\n",
       "  127,\n",
       "  100,\n",
       "  114,\n",
       "  111,\n",
       "  107,\n",
       "  128,\n",
       "  108,\n",
       "  132,\n",
       "  115,\n",
       "  113,\n",
       "  133,\n",
       "  124,\n",
       "  135,\n",
       "  117,\n",
       "  140,\n",
       "  119,\n",
       "  146,\n",
       "  106,\n",
       "  141,\n",
       "  130,\n",
       "  139,\n",
       "  142,\n",
       "  121,\n",
       "  138,\n",
       "  104,\n",
       "  144,\n",
       "  137,\n",
       "  147,\n",
       "  129,\n",
       "  145,\n",
       "  67,\n",
       "  62,\n",
       "  92,\n",
       "  22,\n",
       "  95,\n",
       "  11,\n",
       "  59,\n",
       "  75,\n",
       "  33,\n",
       "  53,\n",
       "  69,\n",
       "  27,\n",
       "  81,\n",
       "  70,\n",
       "  79,\n",
       "  24,\n",
       "  74,\n",
       "  42,\n",
       "  76,\n",
       "  41,\n",
       "  55,\n",
       "  2,\n",
       "  39,\n",
       "  0,\n",
       "  64,\n",
       "  43,\n",
       "  89,\n",
       "  29,\n",
       "  36,\n",
       "  57,\n",
       "  1,\n",
       "  72,\n",
       "  35,\n",
       "  4,\n",
       "  16,\n",
       "  3,\n",
       "  77,\n",
       "  34,\n",
       "  68,\n",
       "  37,\n",
       "  94,\n",
       "  90,\n",
       "  19,\n",
       "  86,\n",
       "  7,\n",
       "  78,\n",
       "  9,\n",
       "  10,\n",
       "  93,\n",
       "  26,\n",
       "  52,\n",
       "  73,\n",
       "  5,\n",
       "  66,\n",
       "  32,\n",
       "  14,\n",
       "  20,\n",
       "  58,\n",
       "  96,\n",
       "  18,\n",
       "  12,\n",
       "  51,\n",
       "  85,\n",
       "  8,\n",
       "  38,\n",
       "  44,\n",
       "  98,\n",
       "  88,\n",
       "  99,\n",
       "  31,\n",
       "  25,\n",
       "  60,\n",
       "  15,\n",
       "  71,\n",
       "  84,\n",
       "  17,\n",
       "  97,\n",
       "  50,\n",
       "  54,\n",
       "  48,\n",
       "  87,\n",
       "  23,\n",
       "  91,\n",
       "  45,\n",
       "  47,\n",
       "  28,\n",
       "  80,\n",
       "  56,\n",
       "  65,\n",
       "  13,\n",
       "  61,\n",
       "  21,\n",
       "  40,\n",
       "  83,\n",
       "  49,\n",
       "  82,\n",
       "  6,\n",
       "  46,\n",
       "  30,\n",
       "  63],\n",
       " 'color_list': ['g',\n",
       "  'g',\n",
       "  'g',\n",
       "  'g',\n",
       "  'g',\n",
       "  'g',\n",
       "  'g',\n",
       "  'g',\n",
       "  'g',\n",
       "  'g',\n",
       "  'g',\n",
       "  'g',\n",
       "  'g',\n",
       "  'g',\n",
       "  'g',\n",
       "  'g',\n",
       "  'g',\n",
       "  'g',\n",
       "  'g',\n",
       "  'g',\n",
       "  'g',\n",
       "  'g',\n",
       "  'g',\n",
       "  'g',\n",
       "  'g',\n",
       "  'g',\n",
       "  'g',\n",
       "  'g',\n",
       "  'g',\n",
       "  'g',\n",
       "  'g',\n",
       "  'g',\n",
       "  'g',\n",
       "  'g',\n",
       "  'g',\n",
       "  'g',\n",
       "  'g',\n",
       "  'g',\n",
       "  'g',\n",
       "  'g',\n",
       "  'g',\n",
       "  'g',\n",
       "  'g',\n",
       "  'g',\n",
       "  'g',\n",
       "  'g',\n",
       "  'g',\n",
       "  'g',\n",
       "  'g',\n",
       "  'g',\n",
       "  'g',\n",
       "  'g',\n",
       "  'g',\n",
       "  'g',\n",
       "  'g',\n",
       "  'g',\n",
       "  'g',\n",
       "  'g',\n",
       "  'g',\n",
       "  'g',\n",
       "  'g',\n",
       "  'g',\n",
       "  'g',\n",
       "  'g',\n",
       "  'g',\n",
       "  'g',\n",
       "  'g',\n",
       "  'g',\n",
       "  'g',\n",
       "  'g',\n",
       "  'g',\n",
       "  'g',\n",
       "  'g',\n",
       "  'g',\n",
       "  'g',\n",
       "  'g',\n",
       "  'g',\n",
       "  'g',\n",
       "  'g',\n",
       "  'g',\n",
       "  'g',\n",
       "  'g',\n",
       "  'g',\n",
       "  'g',\n",
       "  'g',\n",
       "  'g',\n",
       "  'g',\n",
       "  'g',\n",
       "  'g',\n",
       "  'g',\n",
       "  'g',\n",
       "  'g',\n",
       "  'g',\n",
       "  'g',\n",
       "  'g',\n",
       "  'g',\n",
       "  'g',\n",
       "  'g',\n",
       "  'g',\n",
       "  'r',\n",
       "  'r',\n",
       "  'r',\n",
       "  'r',\n",
       "  'r',\n",
       "  'r',\n",
       "  'r',\n",
       "  'r',\n",
       "  'r',\n",
       "  'r',\n",
       "  'r',\n",
       "  'r',\n",
       "  'r',\n",
       "  'r',\n",
       "  'r',\n",
       "  'r',\n",
       "  'r',\n",
       "  'r',\n",
       "  'r',\n",
       "  'r',\n",
       "  'r',\n",
       "  'r',\n",
       "  'r',\n",
       "  'r',\n",
       "  'r',\n",
       "  'r',\n",
       "  'r',\n",
       "  'r',\n",
       "  'r',\n",
       "  'r',\n",
       "  'r',\n",
       "  'r',\n",
       "  'r',\n",
       "  'r',\n",
       "  'r',\n",
       "  'r',\n",
       "  'r',\n",
       "  'r',\n",
       "  'r',\n",
       "  'r',\n",
       "  'r',\n",
       "  'r',\n",
       "  'r',\n",
       "  'r',\n",
       "  'r',\n",
       "  'r',\n",
       "  'r',\n",
       "  'r',\n",
       "  'r',\n",
       "  'c',\n",
       "  'c',\n",
       "  'c',\n",
       "  'c',\n",
       "  'c',\n",
       "  'c',\n",
       "  'c',\n",
       "  'c',\n",
       "  'c',\n",
       "  'c',\n",
       "  'c',\n",
       "  'c',\n",
       "  'c',\n",
       "  'c',\n",
       "  'c',\n",
       "  'c',\n",
       "  'c',\n",
       "  'c',\n",
       "  'c',\n",
       "  'c',\n",
       "  'c',\n",
       "  'c',\n",
       "  'c',\n",
       "  'c',\n",
       "  'c',\n",
       "  'c',\n",
       "  'c',\n",
       "  'c',\n",
       "  'c',\n",
       "  'c',\n",
       "  'c',\n",
       "  'c',\n",
       "  'c',\n",
       "  'c',\n",
       "  'c',\n",
       "  'c',\n",
       "  'c',\n",
       "  'c',\n",
       "  'c',\n",
       "  'c',\n",
       "  'c',\n",
       "  'c',\n",
       "  'c',\n",
       "  'c',\n",
       "  'c',\n",
       "  'c',\n",
       "  'c',\n",
       "  'c',\n",
       "  'c',\n",
       "  'c',\n",
       "  'c',\n",
       "  'c',\n",
       "  'c',\n",
       "  'm',\n",
       "  'm',\n",
       "  'm',\n",
       "  'm',\n",
       "  'm',\n",
       "  'm',\n",
       "  'm',\n",
       "  'm',\n",
       "  'm',\n",
       "  'm',\n",
       "  'm',\n",
       "  'm',\n",
       "  'm',\n",
       "  'm',\n",
       "  'm',\n",
       "  'm',\n",
       "  'm',\n",
       "  'm',\n",
       "  'm',\n",
       "  'm',\n",
       "  'm',\n",
       "  'm',\n",
       "  'm',\n",
       "  'm',\n",
       "  'm',\n",
       "  'm',\n",
       "  'm',\n",
       "  'm',\n",
       "  'm',\n",
       "  'm',\n",
       "  'm',\n",
       "  'm',\n",
       "  'm',\n",
       "  'm',\n",
       "  'm',\n",
       "  'm',\n",
       "  'm',\n",
       "  'm',\n",
       "  'm',\n",
       "  'm',\n",
       "  'm',\n",
       "  'm',\n",
       "  'm',\n",
       "  'm',\n",
       "  'm',\n",
       "  'b',\n",
       "  'b',\n",
       "  'b']}"
      ]
     },
     "execution_count": 26,
     "metadata": {},
     "output_type": "execute_result"
    },
    {
     "data": {
      "image/png": "[encoded data removed]",
      "text/plain": [
       "<Figure size 720x720 with 1 Axes>"
      ]
     },
     "metadata": {
      "needs_background": "light"
     },
     "output_type": "display_data"
    }
   ],
   "source": [
    "plt.figure(figsize=(10, 10))\n",
    "plt.title('Agglomerative Hierarchical Clustering Dendogram')\n",
    "plt.xlabel('sample index')\n",
    "plt.ylabel('Distance')\n",
    "dendrogram(Z, leaf_rotation=90.,color_threshold = 30, leaf_font_size=8. )\n",
    "plt.tight_layout()"
   ]
  },
  {
   "cell_type": "markdown",
   "metadata": {},
   "source": [
    "### 13. Recreate the dendrogram for last 12 merged clusters "
   ]
  },
  {
   "cell_type": "code",
   "execution_count": 27,
   "metadata": {},
   "outputs": [
    {
     "data": {
      "text/plain": [
       "<Figure size 720x720 with 0 Axes>"
      ]
     },
     "execution_count": 27,
     "metadata": {},
     "output_type": "execute_result"
    },
    {
     "data": {
      "text/plain": [
       "Text(0.5,1,'Agglomerative Hierarchical Clustering Dendogram')"
      ]
     },
     "execution_count": 27,
     "metadata": {},
     "output_type": "execute_result"
    },
    {
     "data": {
      "text/plain": [
       "Text(0.5,0,'sample index')"
      ]
     },
     "execution_count": 27,
     "metadata": {},
     "output_type": "execute_result"
    },
    {
     "data": {
      "text/plain": [
       "Text(0,0.5,'Distance')"
      ]
     },
     "execution_count": 27,
     "metadata": {},
     "output_type": "execute_result"
    },
    {
     "data": {
      "text/plain": [
       "{'icoord': [[25.0, 25.0, 35.0, 35.0],\n",
       "  [15.0, 15.0, 30.0, 30.0],\n",
       "  [5.0, 5.0, 22.5, 22.5],\n",
       "  [45.0, 45.0, 55.0, 55.0],\n",
       "  [65.0, 65.0, 75.0, 75.0],\n",
       "  [95.0, 95.0, 105.0, 105.0],\n",
       "  [85.0, 85.0, 100.0, 100.0],\n",
       "  [70.0, 70.0, 92.5, 92.5],\n",
       "  [50.0, 50.0, 81.25, 81.25],\n",
       "  [13.75, 13.75, 65.625, 65.625],\n",
       "  [125.0, 125.0, 135.0, 135.0],\n",
       "  [115.0, 115.0, 130.0, 130.0],\n",
       "  [155.0, 155.0, 165.0, 165.0],\n",
       "  [145.0, 145.0, 160.0, 160.0],\n",
       "  [175.0, 175.0, 185.0, 185.0],\n",
       "  [152.5, 152.5, 180.0, 180.0],\n",
       "  [122.5, 122.5, 166.25, 166.25],\n",
       "  [195.0, 195.0, 205.0, 205.0],\n",
       "  [225.0, 225.0, 235.0, 235.0],\n",
       "  [215.0, 215.0, 230.0, 230.0],\n",
       "  [200.0, 200.0, 222.5, 222.5],\n",
       "  [255.0, 255.0, 265.0, 265.0],\n",
       "  [245.0, 245.0, 260.0, 260.0],\n",
       "  [285.0, 285.0, 295.0, 295.0],\n",
       "  [275.0, 275.0, 290.0, 290.0],\n",
       "  [252.5, 252.5, 282.5, 282.5],\n",
       "  [211.25, 211.25, 267.5, 267.5],\n",
       "  [144.375, 144.375, 239.375, 239.375],\n",
       "  [39.6875, 39.6875, 191.875, 191.875]],\n",
       " 'dcoord': [[0.0, 5.045499286099949, 5.045499286099949, 0.0],\n",
       "  [0.0, 7.747556052668198, 7.747556052668198, 5.045499286099949],\n",
       "  [0.0, 8.145487091873767, 8.145487091873767, 7.747556052668198],\n",
       "  [0.0, 7.1834847770352, 7.1834847770352, 0.0],\n",
       "  [0.0, 4.718176894473045, 4.718176894473045, 0.0],\n",
       "  [0.0, 6.187488898987714, 6.187488898987714, 0.0],\n",
       "  [0.0, 7.394604000087628, 7.394604000087628, 6.187488898987714],\n",
       "  [4.718176894473045,\n",
       "   13.547890612513772,\n",
       "   13.547890612513772,\n",
       "   7.394604000087628],\n",
       "  [7.1834847770352, 19.42009212381029, 19.42009212381029, 13.547890612513772],\n",
       "  [8.145487091873767, 26.79860013784603, 26.79860013784603, 19.42009212381029],\n",
       "  [0.0, 4.771347580071283, 4.771347580071283, 0.0],\n",
       "  [0.0, 7.045867590012939, 7.045867590012939, 4.771347580071283],\n",
       "  [0.0, 4.611666191587052, 4.611666191587052, 0.0],\n",
       "  [0.0, 8.638699632067272, 8.638699632067272, 4.611666191587052],\n",
       "  [0.0, 9.578835914416112, 9.578835914416112, 0.0],\n",
       "  [8.638699632067272,\n",
       "   14.572555360066765,\n",
       "   14.572555360066765,\n",
       "   9.578835914416112],\n",
       "  [7.045867590012939,\n",
       "   19.12530638544582,\n",
       "   19.12530638544582,\n",
       "   14.572555360066765],\n",
       "  [0.0, 7.753110456012591, 7.753110456012591, 0.0],\n",
       "  [0.0, 5.567824457789801, 5.567824457789801, 0.0],\n",
       "  [0.0, 9.373441916503284, 9.373441916503284, 5.567824457789801],\n",
       "  [7.753110456012591,\n",
       "   13.445861267634779,\n",
       "   13.445861267634779,\n",
       "   9.373441916503284],\n",
       "  [0.0, 5.3612261433513835, 5.3612261433513835, 0.0],\n",
       "  [0.0, 6.558237980574623, 6.558237980574623, 5.3612261433513835],\n",
       "  [0.0, 5.150600825012571, 5.150600825012571, 0.0],\n",
       "  [0.0, 8.747742899947582, 8.747742899947582, 5.150600825012571],\n",
       "  [6.558237980574623,\n",
       "   15.975167277192496,\n",
       "   15.975167277192496,\n",
       "   8.747742899947582],\n",
       "  [13.445861267634779,\n",
       "   32.37785646584682,\n",
       "   32.37785646584682,\n",
       "   15.975167277192496],\n",
       "  [19.12530638544582,\n",
       "   228.85941072078882,\n",
       "   228.85941072078882,\n",
       "   32.37785646584682],\n",
       "  [26.79860013784603,\n",
       "   396.0090741682716,\n",
       "   396.0090741682716,\n",
       "   228.85941072078882]],\n",
       " 'ivl': ['(6)',\n",
       "  '(6)',\n",
       "  '(5)',\n",
       "  '(11)',\n",
       "  '(11)',\n",
       "  '(5)',\n",
       "  '(5)',\n",
       "  '(13)',\n",
       "  '(21)',\n",
       "  '(4)',\n",
       "  '(13)',\n",
       "  '(3)',\n",
       "  '122',\n",
       "  '(11)',\n",
       "  '(6)',\n",
       "  '(5)',\n",
       "  '(9)',\n",
       "  '(9)',\n",
       "  '(6)',\n",
       "  '(11)',\n",
       "  '(16)',\n",
       "  '(19)',\n",
       "  '(2)',\n",
       "  '(6)',\n",
       "  '(5)',\n",
       "  '(10)',\n",
       "  '(10)',\n",
       "  '(8)',\n",
       "  '(4)',\n",
       "  '(9)'],\n",
       " 'leaves': [419,\n",
       "  464,\n",
       "  433,\n",
       "  456,\n",
       "  465,\n",
       "  467,\n",
       "  421,\n",
       "  463,\n",
       "  468,\n",
       "  434,\n",
       "  457,\n",
       "  445,\n",
       "  122,\n",
       "  462,\n",
       "  437,\n",
       "  412,\n",
       "  444,\n",
       "  459,\n",
       "  466,\n",
       "  454,\n",
       "  460,\n",
       "  469,\n",
       "  424,\n",
       "  448,\n",
       "  447,\n",
       "  446,\n",
       "  458,\n",
       "  453,\n",
       "  439,\n",
       "  455],\n",
       " 'color_list': ['g',\n",
       "  'g',\n",
       "  'g',\n",
       "  'g',\n",
       "  'g',\n",
       "  'g',\n",
       "  'g',\n",
       "  'g',\n",
       "  'g',\n",
       "  'g',\n",
       "  'r',\n",
       "  'r',\n",
       "  'r',\n",
       "  'r',\n",
       "  'r',\n",
       "  'r',\n",
       "  'r',\n",
       "  'c',\n",
       "  'c',\n",
       "  'c',\n",
       "  'c',\n",
       "  'm',\n",
       "  'm',\n",
       "  'm',\n",
       "  'm',\n",
       "  'm',\n",
       "  'b',\n",
       "  'b',\n",
       "  'b']}"
      ]
     },
     "execution_count": 27,
     "metadata": {},
     "output_type": "execute_result"
    },
    {
     "data": {
      "image/png": "[encoded data removed]",
      "text/plain": [
       "<Figure size 720x720 with 1 Axes>"
      ]
     },
     "metadata": {
      "needs_background": "light"
     },
     "output_type": "display_data"
    }
   ],
   "source": [
    "plt.figure(figsize=(10, 10))\n",
    "plt.title('Agglomerative Hierarchical Clustering Dendogram')\n",
    "plt.xlabel('sample index')\n",
    "plt.ylabel('Distance')\n",
    "dendrogram(Z, leaf_rotation=90.,color_threshold = 30, leaf_font_size=8., truncate_mode='lastp' )\n",
    "plt.tight_layout()"
   ]
  },
  {
   "cell_type": "markdown",
   "metadata": {},
   "source": [
    "Hint: Use truncate_mode='lastp' attribute in dendrogram function to arrive at dendrogram "
   ]
  },
  {
   "cell_type": "markdown",
   "metadata": {},
   "source": [
    "### 14. From the truncated dendrogram, find out the optimal distance between clusters which u want to use an input for clustering data"
   ]
  },
  {
   "cell_type": "markdown",
   "metadata": {},
   "source": [
    "### From the above observations in the above dendogram we can confirm that at the distance = 50 we can draw the line to cut the clusters where we can see the maximum distance between the clusters"
   ]
  },
  {
   "cell_type": "code",
   "execution_count": null,
   "metadata": {},
   "outputs": [],
   "source": []
  },
  {
   "cell_type": "markdown",
   "metadata": {},
   "source": [
    "### 15. Using this distance measure and fcluster function to cluster the data into 3 different groups"
   ]
  },
  {
   "cell_type": "code",
   "execution_count": 28,
   "metadata": {},
   "outputs": [
    {
     "name": "stdout",
     "output_type": "stream",
     "text": [
      "[3 3 3 3 3 3 3 3 3 3 3 3 3 3 3 3 3 3 3 3 3 3 3 3 3 3 3 3 3 3 3 3 3 3 3 3 3\n",
      " 3 3 3 3 3 3 3 3 3 3 3 3 3 3 3 3 3 3 3 3 3 3 3 3 3 3 3 3 3 3 3 3 3 3 3 3 3\n",
      " 3 3 3 3 3 3 3 3 3 3 3 3 3 3 3 3 3 3 3 3 3 3 3 3 3 3 2 2 2 2 2 2 2 2 2 2 2\n",
      " 2 2 2 2 2 2 2 2 2 2 2 2 2 2 2 2 2 2 2 2 2 2 2 2 2 2 2 2 2 2 2 2 2 2 2 2 2\n",
      " 2 2 1 1 1 1 1 1 1 1 1 1 1 1 1 1 1 1 1 1 1 1 1 1 1 1 1 1 1 1 1 1 1 1 1 1 1\n",
      " 1 1 1 1 1 1 1 1 1 1 1 1 1 1 1 1 1 1 1 1 1 1 1 1 1 1 1 1 1 1 1 1 1 1 1 1 1\n",
      " 1 1 1 1 1 1 1 1 1 1 1 1 1 1 1 1 1 1 1 1 1 1 1 1 1 1 1 1]\n"
     ]
    },
    {
     "data": {
      "text/plain": [
       "250"
      ]
     },
     "execution_count": 28,
     "metadata": {},
     "output_type": "execute_result"
    }
   ],
   "source": [
    "groupes_cah = fcluster(Z,t=50,criterion='distance')\n",
    "print(groupes_cah)\n",
    "len(groupes_cah)"
   ]
  },
  {
   "cell_type": "markdown",
   "metadata": {},
   "source": [
    "### Use matplotlib to visually observe the clusters in 2D space "
   ]
  },
  {
   "cell_type": "code",
   "execution_count": 29,
   "metadata": {},
   "outputs": [
    {
     "data": {
      "text/html": [
       "<div>\n",
       "<style scoped>\n",
       "    .dataframe tbody tr th:only-of-type {\n",
       "        vertical-align: middle;\n",
       "    }\n",
       "\n",
       "    .dataframe tbody tr th {\n",
       "        vertical-align: top;\n",
       "    }\n",
       "\n",
       "    .dataframe thead th {\n",
       "        text-align: right;\n",
       "    }\n",
       "</style>\n",
       "<table border=\"1\" class=\"dataframe\">\n",
       "  <thead>\n",
       "    <tr style=\"text-align: right;\">\n",
       "      <th></th>\n",
       "      <th>x</th>\n",
       "      <th>y</th>\n",
       "      <th>group</th>\n",
       "    </tr>\n",
       "  </thead>\n",
       "  <tbody>\n",
       "    <tr>\n",
       "      <th>0</th>\n",
       "      <td>19.498191</td>\n",
       "      <td>2.330584</td>\n",
       "      <td>3</td>\n",
       "    </tr>\n",
       "    <tr>\n",
       "      <th>1</th>\n",
       "      <td>22.115106</td>\n",
       "      <td>2.844047</td>\n",
       "      <td>3</td>\n",
       "    </tr>\n",
       "    <tr>\n",
       "      <th>2</th>\n",
       "      <td>20.071138</td>\n",
       "      <td>1.791939</td>\n",
       "      <td>3</td>\n",
       "    </tr>\n",
       "    <tr>\n",
       "      <th>3</th>\n",
       "      <td>21.724063</td>\n",
       "      <td>4.718390</td>\n",
       "      <td>3</td>\n",
       "    </tr>\n",
       "    <tr>\n",
       "      <th>4</th>\n",
       "      <td>21.987558</td>\n",
       "      <td>3.393375</td>\n",
       "      <td>3</td>\n",
       "    </tr>\n",
       "  </tbody>\n",
       "</table>\n",
       "</div>"
      ],
      "text/plain": [
       "           x         y  group\n",
       "0  19.498191  2.330584      3\n",
       "1  22.115106  2.844047      3\n",
       "2  20.071138  1.791939      3\n",
       "3  21.724063  4.718390      3\n",
       "4  21.987558  3.393375      3"
      ]
     },
     "execution_count": 29,
     "metadata": {},
     "output_type": "execute_result"
    }
   ],
   "source": [
    "data[\"group\"] = groupes_cah\n",
    "data.head()"
   ]
  },
  {
   "cell_type": "code",
   "execution_count": 30,
   "metadata": {},
   "outputs": [
    {
     "name": "stdout",
     "output_type": "stream",
     "text": [
      "AxesSubplot(0.125,0.125;0.775x0.755)\n"
     ]
    },
    {
     "data": {
      "text/plain": [
       "<matplotlib.collections.PathCollection at 0x11b35c0ebe0>"
      ]
     },
     "execution_count": 30,
     "metadata": {},
     "output_type": "execute_result"
    },
    {
     "data": {
      "text/plain": [
       "<matplotlib.collections.PathCollection at 0x11b35c0ee10>"
      ]
     },
     "execution_count": 30,
     "metadata": {},
     "output_type": "execute_result"
    },
    {
     "data": {
      "text/plain": [
       "<matplotlib.collections.PathCollection at 0x11b35c0eb00>"
      ]
     },
     "execution_count": 30,
     "metadata": {},
     "output_type": "execute_result"
    },
    {
     "data": {
      "text/plain": [
       "<matplotlib.collections.PathCollection at 0x11b35c19588>"
      ]
     },
     "execution_count": 30,
     "metadata": {},
     "output_type": "execute_result"
    },
    {
     "data": {
      "text/plain": [
       "<matplotlib.collections.PathCollection at 0x11b35c19908>"
      ]
     },
     "execution_count": 30,
     "metadata": {},
     "output_type": "execute_result"
    },
    {
     "data": {
      "text/plain": [
       "<matplotlib.collections.PathCollection at 0x11b35c19860>"
      ]
     },
     "execution_count": 30,
     "metadata": {},
     "output_type": "execute_result"
    },
    {
     "data": {
      "text/plain": [
       "<matplotlib.collections.PathCollection at 0x11b35c19b70>"
      ]
     },
     "execution_count": 30,
     "metadata": {},
     "output_type": "execute_result"
    },
    {
     "data": {
      "text/plain": [
       "<matplotlib.collections.PathCollection at 0x11b35c19c18>"
      ]
     },
     "execution_count": 30,
     "metadata": {},
     "output_type": "execute_result"
    },
    {
     "data": {
      "text/plain": [
       "<matplotlib.collections.PathCollection at 0x11b35c19518>"
      ]
     },
     "execution_count": 30,
     "metadata": {},
     "output_type": "execute_result"
    },
    {
     "data": {
      "text/plain": [
       "<matplotlib.collections.PathCollection at 0x11b35c24550>"
      ]
     },
     "execution_count": 30,
     "metadata": {},
     "output_type": "execute_result"
    },
    {
     "data": {
      "text/plain": [
       "<matplotlib.collections.PathCollection at 0x11b35c0ee48>"
      ]
     },
     "execution_count": 30,
     "metadata": {},
     "output_type": "execute_result"
    },
    {
     "data": {
      "text/plain": [
       "<matplotlib.collections.PathCollection at 0x11b35c24b38>"
      ]
     },
     "execution_count": 30,
     "metadata": {},
     "output_type": "execute_result"
    },
    {
     "data": {
      "text/plain": [
       "<matplotlib.collections.PathCollection at 0x11b35c24dd8>"
      ]
     },
     "execution_count": 30,
     "metadata": {},
     "output_type": "execute_result"
    },
    {
     "data": {
      "text/plain": [
       "<matplotlib.collections.PathCollection at 0x11b35c247f0>"
      ]
     },
     "execution_count": 30,
     "metadata": {},
     "output_type": "execute_result"
    },
    {
     "data": {
      "text/plain": [
       "<matplotlib.collections.PathCollection at 0x11b35c353c8>"
      ]
     },
     "execution_count": 30,
     "metadata": {},
     "output_type": "execute_result"
    },
    {
     "data": {
      "text/plain": [
       "<matplotlib.collections.PathCollection at 0x11b35c357b8>"
      ]
     },
     "execution_count": 30,
     "metadata": {},
     "output_type": "execute_result"
    },
    {
     "data": {
      "text/plain": [
       "<matplotlib.collections.PathCollection at 0x11b35c35a58>"
      ]
     },
     "execution_count": 30,
     "metadata": {},
     "output_type": "execute_result"
    },
    {
     "data": {
      "text/plain": [
       "<matplotlib.collections.PathCollection at 0x11b35c35a90>"
      ]
     },
     "execution_count": 30,
     "metadata": {},
     "output_type": "execute_result"
    },
    {
     "data": {
      "text/plain": [
       "<matplotlib.collections.PathCollection at 0x11b35c35cf8>"
      ]
     },
     "execution_count": 30,
     "metadata": {},
     "output_type": "execute_result"
    },
    {
     "data": {
      "text/plain": [
       "<matplotlib.collections.PathCollection at 0x11b35c35dd8>"
      ]
     },
     "execution_count": 30,
     "metadata": {},
     "output_type": "execute_result"
    },
    {
     "data": {
      "text/plain": [
       "<matplotlib.collections.PathCollection at 0x11b35c24b70>"
      ]
     },
     "execution_count": 30,
     "metadata": {},
     "output_type": "execute_result"
    },
    {
     "data": {
      "text/plain": [
       "<matplotlib.collections.PathCollection at 0x11b35c3e2b0>"
      ]
     },
     "execution_count": 30,
     "metadata": {},
     "output_type": "execute_result"
    },
    {
     "data": {
      "text/plain": [
       "<matplotlib.collections.PathCollection at 0x11b35c3e630>"
      ]
     },
     "execution_count": 30,
     "metadata": {},
     "output_type": "execute_result"
    },
    {
     "data": {
      "text/plain": [
       "<matplotlib.collections.PathCollection at 0x11b35c3eb38>"
      ]
     },
     "execution_count": 30,
     "metadata": {},
     "output_type": "execute_result"
    },
    {
     "data": {
      "text/plain": [
       "<matplotlib.collections.PathCollection at 0x11b35c3ef28>"
      ]
     },
     "execution_count": 30,
     "metadata": {},
     "output_type": "execute_result"
    },
    {
     "data": {
      "text/plain": [
       "<matplotlib.collections.PathCollection at 0x11b35c3eba8>"
      ]
     },
     "execution_count": 30,
     "metadata": {},
     "output_type": "execute_result"
    },
    {
     "data": {
      "text/plain": [
       "<matplotlib.collections.PathCollection at 0x11b35c494a8>"
      ]
     },
     "execution_count": 30,
     "metadata": {},
     "output_type": "execute_result"
    },
    {
     "data": {
      "text/plain": [
       "<matplotlib.collections.PathCollection at 0x11b35c49898>"
      ]
     },
     "execution_count": 30,
     "metadata": {},
     "output_type": "execute_result"
    },
    {
     "data": {
      "text/plain": [
       "<matplotlib.collections.PathCollection at 0x11b35c49ac8>"
      ]
     },
     "execution_count": 30,
     "metadata": {},
     "output_type": "execute_result"
    },
    {
     "data": {
      "text/plain": [
       "<matplotlib.collections.PathCollection at 0x11b35c49eb8>"
      ]
     },
     "execution_count": 30,
     "metadata": {},
     "output_type": "execute_result"
    },
    {
     "data": {
      "text/plain": [
       "<matplotlib.collections.PathCollection at 0x11b35c497f0>"
      ]
     },
     "execution_count": 30,
     "metadata": {},
     "output_type": "execute_result"
    },
    {
     "data": {
      "text/plain": [
       "<matplotlib.collections.PathCollection at 0x11b35c49ef0>"
      ]
     },
     "execution_count": 30,
     "metadata": {},
     "output_type": "execute_result"
    },
    {
     "data": {
      "text/plain": [
       "<matplotlib.collections.PathCollection at 0x11b35c35ac8>"
      ]
     },
     "execution_count": 30,
     "metadata": {},
     "output_type": "execute_result"
    },
    {
     "data": {
      "text/plain": [
       "<matplotlib.collections.PathCollection at 0x11b35c59400>"
      ]
     },
     "execution_count": 30,
     "metadata": {},
     "output_type": "execute_result"
    },
    {
     "data": {
      "text/plain": [
       "<matplotlib.collections.PathCollection at 0x11b35c59828>"
      ]
     },
     "execution_count": 30,
     "metadata": {},
     "output_type": "execute_result"
    },
    {
     "data": {
      "text/plain": [
       "<matplotlib.collections.PathCollection at 0x11b35c59b70>"
      ]
     },
     "execution_count": 30,
     "metadata": {},
     "output_type": "execute_result"
    },
    {
     "data": {
      "text/plain": [
       "<matplotlib.collections.PathCollection at 0x11b35c59630>"
      ]
     },
     "execution_count": 30,
     "metadata": {},
     "output_type": "execute_result"
    },
    {
     "data": {
      "text/plain": [
       "<matplotlib.collections.PathCollection at 0x11b35c59eb8>"
      ]
     },
     "execution_count": 30,
     "metadata": {},
     "output_type": "execute_result"
    },
    {
     "data": {
      "text/plain": [
       "<matplotlib.collections.PathCollection at 0x11b35c635f8>"
      ]
     },
     "execution_count": 30,
     "metadata": {},
     "output_type": "execute_result"
    },
    {
     "data": {
      "text/plain": [
       "<matplotlib.collections.PathCollection at 0x11b35c639b0>"
      ]
     },
     "execution_count": 30,
     "metadata": {},
     "output_type": "execute_result"
    },
    {
     "data": {
      "text/plain": [
       "<matplotlib.collections.PathCollection at 0x11b35c35400>"
      ]
     },
     "execution_count": 30,
     "metadata": {},
     "output_type": "execute_result"
    },
    {
     "data": {
      "text/plain": [
       "<matplotlib.collections.PathCollection at 0x11b35c49828>"
      ]
     },
     "execution_count": 30,
     "metadata": {},
     "output_type": "execute_result"
    },
    {
     "data": {
      "text/plain": [
       "<matplotlib.collections.PathCollection at 0x11b35c74278>"
      ]
     },
     "execution_count": 30,
     "metadata": {},
     "output_type": "execute_result"
    },
    {
     "data": {
      "text/plain": [
       "<matplotlib.collections.PathCollection at 0x11b35c74780>"
      ]
     },
     "execution_count": 30,
     "metadata": {},
     "output_type": "execute_result"
    },
    {
     "data": {
      "text/plain": [
       "<matplotlib.collections.PathCollection at 0x11b35c74a90>"
      ]
     },
     "execution_count": 30,
     "metadata": {},
     "output_type": "execute_result"
    },
    {
     "data": {
      "text/plain": [
       "<matplotlib.collections.PathCollection at 0x11b35c74e10>"
      ]
     },
     "execution_count": 30,
     "metadata": {},
     "output_type": "execute_result"
    },
    {
     "data": {
      "text/plain": [
       "<matplotlib.collections.PathCollection at 0x11b35c74dd8>"
      ]
     },
     "execution_count": 30,
     "metadata": {},
     "output_type": "execute_result"
    },
    {
     "data": {
      "text/plain": [
       "<matplotlib.collections.PathCollection at 0x11b35c7c160>"
      ]
     },
     "execution_count": 30,
     "metadata": {},
     "output_type": "execute_result"
    },
    {
     "data": {
      "text/plain": [
       "<matplotlib.collections.PathCollection at 0x11b35c74ac8>"
      ]
     },
     "execution_count": 30,
     "metadata": {},
     "output_type": "execute_result"
    },
    {
     "data": {
      "text/plain": [
       "<matplotlib.collections.PathCollection at 0x11b35c7c128>"
      ]
     },
     "execution_count": 30,
     "metadata": {},
     "output_type": "execute_result"
    },
    {
     "data": {
      "text/plain": [
       "<matplotlib.collections.PathCollection at 0x11b35c7ca90>"
      ]
     },
     "execution_count": 30,
     "metadata": {},
     "output_type": "execute_result"
    },
    {
     "data": {
      "text/plain": [
       "<matplotlib.collections.PathCollection at 0x11b35c7cf60>"
      ]
     },
     "execution_count": 30,
     "metadata": {},
     "output_type": "execute_result"
    },
    {
     "data": {
      "text/plain": [
       "<matplotlib.collections.PathCollection at 0x11b35c7cba8>"
      ]
     },
     "execution_count": 30,
     "metadata": {},
     "output_type": "execute_result"
    },
    {
     "data": {
      "text/plain": [
       "<matplotlib.collections.PathCollection at 0x11b35c87630>"
      ]
     },
     "execution_count": 30,
     "metadata": {},
     "output_type": "execute_result"
    },
    {
     "data": {
      "text/plain": [
       "<matplotlib.collections.PathCollection at 0x11b35c879b0>"
      ]
     },
     "execution_count": 30,
     "metadata": {},
     "output_type": "execute_result"
    },
    {
     "data": {
      "text/plain": [
       "<matplotlib.collections.PathCollection at 0x11b35c87da0>"
      ]
     },
     "execution_count": 30,
     "metadata": {},
     "output_type": "execute_result"
    },
    {
     "data": {
      "text/plain": [
       "<matplotlib.collections.PathCollection at 0x11b35c875f8>"
      ]
     },
     "execution_count": 30,
     "metadata": {},
     "output_type": "execute_result"
    },
    {
     "data": {
      "text/plain": [
       "<matplotlib.collections.PathCollection at 0x11b35c96358>"
      ]
     },
     "execution_count": 30,
     "metadata": {},
     "output_type": "execute_result"
    },
    {
     "data": {
      "text/plain": [
       "<matplotlib.collections.PathCollection at 0x11b35c872e8>"
      ]
     },
     "execution_count": 30,
     "metadata": {},
     "output_type": "execute_result"
    },
    {
     "data": {
      "text/plain": [
       "<matplotlib.collections.PathCollection at 0x11b35c87c88>"
      ]
     },
     "execution_count": 30,
     "metadata": {},
     "output_type": "execute_result"
    },
    {
     "data": {
      "text/plain": [
       "<matplotlib.collections.PathCollection at 0x11b35c96a20>"
      ]
     },
     "execution_count": 30,
     "metadata": {},
     "output_type": "execute_result"
    },
    {
     "data": {
      "text/plain": [
       "<matplotlib.collections.PathCollection at 0x11b35c96a58>"
      ]
     },
     "execution_count": 30,
     "metadata": {},
     "output_type": "execute_result"
    },
    {
     "data": {
      "text/plain": [
       "<matplotlib.collections.PathCollection at 0x11b35c9d208>"
      ]
     },
     "execution_count": 30,
     "metadata": {},
     "output_type": "execute_result"
    },
    {
     "data": {
      "text/plain": [
       "<matplotlib.collections.PathCollection at 0x11b35c9d160>"
      ]
     },
     "execution_count": 30,
     "metadata": {},
     "output_type": "execute_result"
    },
    {
     "data": {
      "text/plain": [
       "<matplotlib.collections.PathCollection at 0x11b35c9d550>"
      ]
     },
     "execution_count": 30,
     "metadata": {},
     "output_type": "execute_result"
    },
    {
     "data": {
      "text/plain": [
       "<matplotlib.collections.PathCollection at 0x11b35c9db38>"
      ]
     },
     "execution_count": 30,
     "metadata": {},
     "output_type": "execute_result"
    },
    {
     "data": {
      "text/plain": [
       "<matplotlib.collections.PathCollection at 0x11b35c9def0>"
      ]
     },
     "execution_count": 30,
     "metadata": {},
     "output_type": "execute_result"
    },
    {
     "data": {
      "text/plain": [
       "<matplotlib.collections.PathCollection at 0x11b35cad278>"
      ]
     },
     "execution_count": 30,
     "metadata": {},
     "output_type": "execute_result"
    },
    {
     "data": {
      "text/plain": [
       "<matplotlib.collections.PathCollection at 0x11b35c9d470>"
      ]
     },
     "execution_count": 30,
     "metadata": {},
     "output_type": "execute_result"
    },
    {
     "data": {
      "text/plain": [
       "<matplotlib.collections.PathCollection at 0x11b35c87668>"
      ]
     },
     "execution_count": 30,
     "metadata": {},
     "output_type": "execute_result"
    },
    {
     "data": {
      "text/plain": [
       "<matplotlib.collections.PathCollection at 0x11b35cad940>"
      ]
     },
     "execution_count": 30,
     "metadata": {},
     "output_type": "execute_result"
    },
    {
     "data": {
      "text/plain": [
       "<matplotlib.collections.PathCollection at 0x11b35cadda0>"
      ]
     },
     "execution_count": 30,
     "metadata": {},
     "output_type": "execute_result"
    },
    {
     "data": {
      "text/plain": [
       "<matplotlib.collections.PathCollection at 0x11b35cad978>"
      ]
     },
     "execution_count": 30,
     "metadata": {},
     "output_type": "execute_result"
    },
    {
     "data": {
      "text/plain": [
       "<matplotlib.collections.PathCollection at 0x11b35cb6358>"
      ]
     },
     "execution_count": 30,
     "metadata": {},
     "output_type": "execute_result"
    },
    {
     "data": {
      "text/plain": [
       "<matplotlib.collections.PathCollection at 0x11b35cb65c0>"
      ]
     },
     "execution_count": 30,
     "metadata": {},
     "output_type": "execute_result"
    },
    {
     "data": {
      "text/plain": [
       "<matplotlib.collections.PathCollection at 0x11b35cb6ac8>"
      ]
     },
     "execution_count": 30,
     "metadata": {},
     "output_type": "execute_result"
    },
    {
     "data": {
      "text/plain": [
       "<matplotlib.collections.PathCollection at 0x11b35cb6e80>"
      ]
     },
     "execution_count": 30,
     "metadata": {},
     "output_type": "execute_result"
    },
    {
     "data": {
      "text/plain": [
       "<matplotlib.collections.PathCollection at 0x11b35cb6a58>"
      ]
     },
     "execution_count": 30,
     "metadata": {},
     "output_type": "execute_result"
    },
    {
     "data": {
      "text/plain": [
       "<matplotlib.collections.PathCollection at 0x11b35cb60b8>"
      ]
     },
     "execution_count": 30,
     "metadata": {},
     "output_type": "execute_result"
    },
    {
     "data": {
      "text/plain": [
       "<matplotlib.collections.PathCollection at 0x11b35cc2518>"
      ]
     },
     "execution_count": 30,
     "metadata": {},
     "output_type": "execute_result"
    },
    {
     "data": {
      "text/plain": [
       "<matplotlib.collections.PathCollection at 0x11b35cc22b0>"
      ]
     },
     "execution_count": 30,
     "metadata": {},
     "output_type": "execute_result"
    },
    {
     "data": {
      "text/plain": [
       "<matplotlib.collections.PathCollection at 0x11b35cc2c88>"
      ]
     },
     "execution_count": 30,
     "metadata": {},
     "output_type": "execute_result"
    },
    {
     "data": {
      "text/plain": [
       "<matplotlib.collections.PathCollection at 0x11b35cc29b0>"
      ]
     },
     "execution_count": 30,
     "metadata": {},
     "output_type": "execute_result"
    },
    {
     "data": {
      "text/plain": [
       "<matplotlib.collections.PathCollection at 0x11b35cc2ef0>"
      ]
     },
     "execution_count": 30,
     "metadata": {},
     "output_type": "execute_result"
    },
    {
     "data": {
      "text/plain": [
       "<matplotlib.collections.PathCollection at 0x11b35ccd710>"
      ]
     },
     "execution_count": 30,
     "metadata": {},
     "output_type": "execute_result"
    },
    {
     "data": {
      "text/plain": [
       "<matplotlib.collections.PathCollection at 0x11b35ccd630>"
      ]
     },
     "execution_count": 30,
     "metadata": {},
     "output_type": "execute_result"
    },
    {
     "data": {
      "text/plain": [
       "<matplotlib.collections.PathCollection at 0x11b35ccdd30>"
      ]
     },
     "execution_count": 30,
     "metadata": {},
     "output_type": "execute_result"
    },
    {
     "data": {
      "text/plain": [
       "<matplotlib.collections.PathCollection at 0x11b35ccdd68>"
      ]
     },
     "execution_count": 30,
     "metadata": {},
     "output_type": "execute_result"
    },
    {
     "data": {
      "text/plain": [
       "<matplotlib.collections.PathCollection at 0x11b35ccd0b8>"
      ]
     },
     "execution_count": 30,
     "metadata": {},
     "output_type": "execute_result"
    },
    {
     "data": {
      "text/plain": [
       "<matplotlib.collections.PathCollection at 0x11b35cd6518>"
      ]
     },
     "execution_count": 30,
     "metadata": {},
     "output_type": "execute_result"
    },
    {
     "data": {
      "text/plain": [
       "<matplotlib.collections.PathCollection at 0x11b35cd6208>"
      ]
     },
     "execution_count": 30,
     "metadata": {},
     "output_type": "execute_result"
    },
    {
     "data": {
      "text/plain": [
       "<matplotlib.collections.PathCollection at 0x11b35cd6ac8>"
      ]
     },
     "execution_count": 30,
     "metadata": {},
     "output_type": "execute_result"
    },
    {
     "data": {
      "text/plain": [
       "<matplotlib.collections.PathCollection at 0x11b35cd6da0>"
      ]
     },
     "execution_count": 30,
     "metadata": {},
     "output_type": "execute_result"
    },
    {
     "data": {
      "text/plain": [
       "<matplotlib.collections.PathCollection at 0x11b35ce7320>"
      ]
     },
     "execution_count": 30,
     "metadata": {},
     "output_type": "execute_result"
    },
    {
     "data": {
      "text/plain": [
       "<matplotlib.collections.PathCollection at 0x11b35ce7630>"
      ]
     },
     "execution_count": 30,
     "metadata": {},
     "output_type": "execute_result"
    },
    {
     "data": {
      "text/plain": [
       "<matplotlib.collections.PathCollection at 0x11b35ce79e8>"
      ]
     },
     "execution_count": 30,
     "metadata": {},
     "output_type": "execute_result"
    },
    {
     "data": {
      "text/plain": [
       "<matplotlib.collections.PathCollection at 0x11b35ce7d30>"
      ]
     },
     "execution_count": 30,
     "metadata": {},
     "output_type": "execute_result"
    },
    {
     "data": {
      "text/plain": [
       "<matplotlib.collections.PathCollection at 0x11b35ced0b8>"
      ]
     },
     "execution_count": 30,
     "metadata": {},
     "output_type": "execute_result"
    },
    {
     "data": {
      "text/plain": [
       "<matplotlib.collections.PathCollection at 0x11b35ce7978>"
      ]
     },
     "execution_count": 30,
     "metadata": {},
     "output_type": "execute_result"
    },
    {
     "data": {
      "text/plain": [
       "<matplotlib.collections.PathCollection at 0x11b35ccdb00>"
      ]
     },
     "execution_count": 30,
     "metadata": {},
     "output_type": "execute_result"
    },
    {
     "data": {
      "text/plain": [
       "<matplotlib.collections.PathCollection at 0x11b35ccddd8>"
      ]
     },
     "execution_count": 30,
     "metadata": {},
     "output_type": "execute_result"
    },
    {
     "data": {
      "text/plain": [
       "<matplotlib.collections.PathCollection at 0x11b35ceda20>"
      ]
     },
     "execution_count": 30,
     "metadata": {},
     "output_type": "execute_result"
    },
    {
     "data": {
      "text/plain": [
       "<matplotlib.collections.PathCollection at 0x11b35cedd30>"
      ]
     },
     "execution_count": 30,
     "metadata": {},
     "output_type": "execute_result"
    },
    {
     "data": {
      "text/plain": [
       "<matplotlib.collections.PathCollection at 0x11b35cf6240>"
      ]
     },
     "execution_count": 30,
     "metadata": {},
     "output_type": "execute_result"
    },
    {
     "data": {
      "text/plain": [
       "<matplotlib.collections.PathCollection at 0x11b35cf6160>"
      ]
     },
     "execution_count": 30,
     "metadata": {},
     "output_type": "execute_result"
    },
    {
     "data": {
      "text/plain": [
       "<matplotlib.collections.PathCollection at 0x11b35cf6518>"
      ]
     },
     "execution_count": 30,
     "metadata": {},
     "output_type": "execute_result"
    },
    {
     "data": {
      "text/plain": [
       "<matplotlib.collections.PathCollection at 0x11b35cf67f0>"
      ]
     },
     "execution_count": 30,
     "metadata": {},
     "output_type": "execute_result"
    },
    {
     "data": {
      "text/plain": [
       "<matplotlib.collections.PathCollection at 0x11b35cf6b70>"
      ]
     },
     "execution_count": 30,
     "metadata": {},
     "output_type": "execute_result"
    },
    {
     "data": {
      "text/plain": [
       "<matplotlib.collections.PathCollection at 0x11b35cf67b8>"
      ]
     },
     "execution_count": 30,
     "metadata": {},
     "output_type": "execute_result"
    },
    {
     "data": {
      "text/plain": [
       "<matplotlib.collections.PathCollection at 0x11b35ced7b8>"
      ]
     },
     "execution_count": 30,
     "metadata": {},
     "output_type": "execute_result"
    },
    {
     "data": {
      "text/plain": [
       "<matplotlib.collections.PathCollection at 0x11b35d07668>"
      ]
     },
     "execution_count": 30,
     "metadata": {},
     "output_type": "execute_result"
    },
    {
     "data": {
      "text/plain": [
       "<matplotlib.collections.PathCollection at 0x11b35d079b0>"
      ]
     },
     "execution_count": 30,
     "metadata": {},
     "output_type": "execute_result"
    },
    {
     "data": {
      "text/plain": [
       "<matplotlib.collections.PathCollection at 0x11b35d07c18>"
      ]
     },
     "execution_count": 30,
     "metadata": {},
     "output_type": "execute_result"
    },
    {
     "data": {
      "text/plain": [
       "<matplotlib.collections.PathCollection at 0x11b35d10160>"
      ]
     },
     "execution_count": 30,
     "metadata": {},
     "output_type": "execute_result"
    },
    {
     "data": {
      "text/plain": [
       "<matplotlib.collections.PathCollection at 0x11b35d10390>"
      ]
     },
     "execution_count": 30,
     "metadata": {},
     "output_type": "execute_result"
    },
    {
     "data": {
      "text/plain": [
       "<matplotlib.collections.PathCollection at 0x11b35d10780>"
      ]
     },
     "execution_count": 30,
     "metadata": {},
     "output_type": "execute_result"
    },
    {
     "data": {
      "text/plain": [
       "<matplotlib.collections.PathCollection at 0x11b35d10a90>"
      ]
     },
     "execution_count": 30,
     "metadata": {},
     "output_type": "execute_result"
    },
    {
     "data": {
      "text/plain": [
       "<matplotlib.collections.PathCollection at 0x11b35d10d68>"
      ]
     },
     "execution_count": 30,
     "metadata": {},
     "output_type": "execute_result"
    },
    {
     "data": {
      "text/plain": [
       "<matplotlib.collections.PathCollection at 0x11b35d10b00>"
      ]
     },
     "execution_count": 30,
     "metadata": {},
     "output_type": "execute_result"
    },
    {
     "data": {
      "text/plain": [
       "<matplotlib.collections.PathCollection at 0x11b35d07a20>"
      ]
     },
     "execution_count": 30,
     "metadata": {},
     "output_type": "execute_result"
    },
    {
     "data": {
      "text/plain": [
       "<matplotlib.collections.PathCollection at 0x11b35d1c400>"
      ]
     },
     "execution_count": 30,
     "metadata": {},
     "output_type": "execute_result"
    },
    {
     "data": {
      "text/plain": [
       "<matplotlib.collections.PathCollection at 0x11b35d1c748>"
      ]
     },
     "execution_count": 30,
     "metadata": {},
     "output_type": "execute_result"
    },
    {
     "data": {
      "text/plain": [
       "<matplotlib.collections.PathCollection at 0x11b35d1cac8>"
      ]
     },
     "execution_count": 30,
     "metadata": {},
     "output_type": "execute_result"
    },
    {
     "data": {
      "text/plain": [
       "<matplotlib.collections.PathCollection at 0x11b35d1c860>"
      ]
     },
     "execution_count": 30,
     "metadata": {},
     "output_type": "execute_result"
    },
    {
     "data": {
      "text/plain": [
       "<matplotlib.collections.PathCollection at 0x11b35d27400>"
      ]
     },
     "execution_count": 30,
     "metadata": {},
     "output_type": "execute_result"
    },
    {
     "data": {
      "text/plain": [
       "<matplotlib.collections.PathCollection at 0x11b35d27320>"
      ]
     },
     "execution_count": 30,
     "metadata": {},
     "output_type": "execute_result"
    },
    {
     "data": {
      "text/plain": [
       "<matplotlib.collections.PathCollection at 0x11b35d279b0>"
      ]
     },
     "execution_count": 30,
     "metadata": {},
     "output_type": "execute_result"
    },
    {
     "data": {
      "text/plain": [
       "<matplotlib.collections.PathCollection at 0x11b35d27e80>"
      ]
     },
     "execution_count": 30,
     "metadata": {},
     "output_type": "execute_result"
    },
    {
     "data": {
      "text/plain": [
       "<matplotlib.collections.PathCollection at 0x11b35d27668>"
      ]
     },
     "execution_count": 30,
     "metadata": {},
     "output_type": "execute_result"
    },
    {
     "data": {
      "text/plain": [
       "<matplotlib.collections.PathCollection at 0x11b35d1c4a8>"
      ]
     },
     "execution_count": 30,
     "metadata": {},
     "output_type": "execute_result"
    },
    {
     "data": {
      "text/plain": [
       "<matplotlib.collections.PathCollection at 0x11b35d27978>"
      ]
     },
     "execution_count": 30,
     "metadata": {},
     "output_type": "execute_result"
    },
    {
     "data": {
      "text/plain": [
       "<matplotlib.collections.PathCollection at 0x11b35d322e8>"
      ]
     },
     "execution_count": 30,
     "metadata": {},
     "output_type": "execute_result"
    },
    {
     "data": {
      "text/plain": [
       "<matplotlib.collections.PathCollection at 0x11b35d32be0>"
      ]
     },
     "execution_count": 30,
     "metadata": {},
     "output_type": "execute_result"
    },
    {
     "data": {
      "text/plain": [
       "<matplotlib.collections.PathCollection at 0x11b35d32b70>"
      ]
     },
     "execution_count": 30,
     "metadata": {},
     "output_type": "execute_result"
    },
    {
     "data": {
      "text/plain": [
       "<matplotlib.collections.PathCollection at 0x11b35d32a90>"
      ]
     },
     "execution_count": 30,
     "metadata": {},
     "output_type": "execute_result"
    },
    {
     "data": {
      "text/plain": [
       "<matplotlib.collections.PathCollection at 0x11b35d32e80>"
      ]
     },
     "execution_count": 30,
     "metadata": {},
     "output_type": "execute_result"
    },
    {
     "data": {
      "text/plain": [
       "<matplotlib.collections.PathCollection at 0x11b35d415f8>"
      ]
     },
     "execution_count": 30,
     "metadata": {},
     "output_type": "execute_result"
    },
    {
     "data": {
      "text/plain": [
       "<matplotlib.collections.PathCollection at 0x11b35d41898>"
      ]
     },
     "execution_count": 30,
     "metadata": {},
     "output_type": "execute_result"
    },
    {
     "data": {
      "text/plain": [
       "<matplotlib.collections.PathCollection at 0x11b35d41908>"
      ]
     },
     "execution_count": 30,
     "metadata": {},
     "output_type": "execute_result"
    },
    {
     "data": {
      "text/plain": [
       "<matplotlib.collections.PathCollection at 0x11b35d327b8>"
      ]
     },
     "execution_count": 30,
     "metadata": {},
     "output_type": "execute_result"
    },
    {
     "data": {
      "text/plain": [
       "<matplotlib.collections.PathCollection at 0x11b35d10eb8>"
      ]
     },
     "execution_count": 30,
     "metadata": {},
     "output_type": "execute_result"
    },
    {
     "data": {
      "text/plain": [
       "<matplotlib.collections.PathCollection at 0x11b35d4c320>"
      ]
     },
     "execution_count": 30,
     "metadata": {},
     "output_type": "execute_result"
    },
    {
     "data": {
      "text/plain": [
       "<matplotlib.collections.PathCollection at 0x11b35d4cac8>"
      ]
     },
     "execution_count": 30,
     "metadata": {},
     "output_type": "execute_result"
    },
    {
     "data": {
      "text/plain": [
       "<matplotlib.collections.PathCollection at 0x11b35d4ccc0>"
      ]
     },
     "execution_count": 30,
     "metadata": {},
     "output_type": "execute_result"
    },
    {
     "data": {
      "text/plain": [
       "<matplotlib.collections.PathCollection at 0x11b35d4ca90>"
      ]
     },
     "execution_count": 30,
     "metadata": {},
     "output_type": "execute_result"
    },
    {
     "data": {
      "text/plain": [
       "<matplotlib.collections.PathCollection at 0x11b35d57400>"
      ]
     },
     "execution_count": 30,
     "metadata": {},
     "output_type": "execute_result"
    },
    {
     "data": {
      "text/plain": [
       "<matplotlib.collections.PathCollection at 0x11b35d577f0>"
      ]
     },
     "execution_count": 30,
     "metadata": {},
     "output_type": "execute_result"
    },
    {
     "data": {
      "text/plain": [
       "<matplotlib.collections.PathCollection at 0x11b35d57c88>"
      ]
     },
     "execution_count": 30,
     "metadata": {},
     "output_type": "execute_result"
    },
    {
     "data": {
      "text/plain": [
       "<matplotlib.collections.PathCollection at 0x11b35d57470>"
      ]
     },
     "execution_count": 30,
     "metadata": {},
     "output_type": "execute_result"
    },
    {
     "data": {
      "text/plain": [
       "<matplotlib.collections.PathCollection at 0x11b35d4c3c8>"
      ]
     },
     "execution_count": 30,
     "metadata": {},
     "output_type": "execute_result"
    },
    {
     "data": {
      "text/plain": [
       "<matplotlib.collections.PathCollection at 0x11b35d57ef0>"
      ]
     },
     "execution_count": 30,
     "metadata": {},
     "output_type": "execute_result"
    },
    {
     "data": {
      "text/plain": [
       "<matplotlib.collections.PathCollection at 0x11b35d644e0>"
      ]
     },
     "execution_count": 30,
     "metadata": {},
     "output_type": "execute_result"
    },
    {
     "data": {
      "text/plain": [
       "<matplotlib.collections.PathCollection at 0x11b35d649b0>"
      ]
     },
     "execution_count": 30,
     "metadata": {},
     "output_type": "execute_result"
    },
    {
     "data": {
      "text/plain": [
       "<matplotlib.collections.PathCollection at 0x11b35d64be0>"
      ]
     },
     "execution_count": 30,
     "metadata": {},
     "output_type": "execute_result"
    },
    {
     "data": {
      "text/plain": [
       "<matplotlib.collections.PathCollection at 0x11b35d6e160>"
      ]
     },
     "execution_count": 30,
     "metadata": {},
     "output_type": "execute_result"
    },
    {
     "data": {
      "text/plain": [
       "<matplotlib.collections.PathCollection at 0x11b35d64fd0>"
      ]
     },
     "execution_count": 30,
     "metadata": {},
     "output_type": "execute_result"
    },
    {
     "data": {
      "text/plain": [
       "<matplotlib.collections.PathCollection at 0x11b35d6e710>"
      ]
     },
     "execution_count": 30,
     "metadata": {},
     "output_type": "execute_result"
    },
    {
     "data": {
      "text/plain": [
       "<matplotlib.collections.PathCollection at 0x11b35d6e9e8>"
      ]
     },
     "execution_count": 30,
     "metadata": {},
     "output_type": "execute_result"
    },
    {
     "data": {
      "text/plain": [
       "<matplotlib.collections.PathCollection at 0x11b35d6ef60>"
      ]
     },
     "execution_count": 30,
     "metadata": {},
     "output_type": "execute_result"
    },
    {
     "data": {
      "text/plain": [
       "<matplotlib.collections.PathCollection at 0x11b35d64630>"
      ]
     },
     "execution_count": 30,
     "metadata": {},
     "output_type": "execute_result"
    },
    {
     "data": {
      "text/plain": [
       "<matplotlib.collections.PathCollection at 0x11b35d6ee10>"
      ]
     },
     "execution_count": 30,
     "metadata": {},
     "output_type": "execute_result"
    },
    {
     "data": {
      "text/plain": [
       "<matplotlib.collections.PathCollection at 0x11b35d794e0>"
      ]
     },
     "execution_count": 30,
     "metadata": {},
     "output_type": "execute_result"
    },
    {
     "data": {
      "text/plain": [
       "<matplotlib.collections.PathCollection at 0x11b35d79780>"
      ]
     },
     "execution_count": 30,
     "metadata": {},
     "output_type": "execute_result"
    },
    {
     "data": {
      "text/plain": [
       "<matplotlib.collections.PathCollection at 0x11b35d797b8>"
      ]
     },
     "execution_count": 30,
     "metadata": {},
     "output_type": "execute_result"
    },
    {
     "data": {
      "text/plain": [
       "<matplotlib.collections.PathCollection at 0x11b35d79b00>"
      ]
     },
     "execution_count": 30,
     "metadata": {},
     "output_type": "execute_result"
    },
    {
     "data": {
      "text/plain": [
       "<matplotlib.collections.PathCollection at 0x11b35d79be0>"
      ]
     },
     "execution_count": 30,
     "metadata": {},
     "output_type": "execute_result"
    },
    {
     "data": {
      "text/plain": [
       "<matplotlib.collections.PathCollection at 0x11b35d81630>"
      ]
     },
     "execution_count": 30,
     "metadata": {},
     "output_type": "execute_result"
    },
    {
     "data": {
      "text/plain": [
       "<matplotlib.collections.PathCollection at 0x11b35d81a58>"
      ]
     },
     "execution_count": 30,
     "metadata": {},
     "output_type": "execute_result"
    },
    {
     "data": {
      "text/plain": [
       "<matplotlib.collections.PathCollection at 0x11b35d81e80>"
      ]
     },
     "execution_count": 30,
     "metadata": {},
     "output_type": "execute_result"
    },
    {
     "data": {
      "text/plain": [
       "<matplotlib.collections.PathCollection at 0x11b35d812e8>"
      ]
     },
     "execution_count": 30,
     "metadata": {},
     "output_type": "execute_result"
    },
    {
     "data": {
      "text/plain": [
       "<matplotlib.collections.PathCollection at 0x11b35d8e048>"
      ]
     },
     "execution_count": 30,
     "metadata": {},
     "output_type": "execute_result"
    },
    {
     "data": {
      "text/plain": [
       "<matplotlib.collections.PathCollection at 0x11b35d8e4e0>"
      ]
     },
     "execution_count": 30,
     "metadata": {},
     "output_type": "execute_result"
    },
    {
     "data": {
      "text/plain": [
       "<matplotlib.collections.PathCollection at 0x11b35d8e7f0>"
      ]
     },
     "execution_count": 30,
     "metadata": {},
     "output_type": "execute_result"
    },
    {
     "data": {
      "text/plain": [
       "<matplotlib.collections.PathCollection at 0x11b35d8eb70>"
      ]
     },
     "execution_count": 30,
     "metadata": {},
     "output_type": "execute_result"
    },
    {
     "data": {
      "text/plain": [
       "<matplotlib.collections.PathCollection at 0x11b35d8e710>"
      ]
     },
     "execution_count": 30,
     "metadata": {},
     "output_type": "execute_result"
    },
    {
     "data": {
      "text/plain": [
       "<matplotlib.collections.PathCollection at 0x11b35d8eef0>"
      ]
     },
     "execution_count": 30,
     "metadata": {},
     "output_type": "execute_result"
    },
    {
     "data": {
      "text/plain": [
       "<matplotlib.collections.PathCollection at 0x11b35d9c550>"
      ]
     },
     "execution_count": 30,
     "metadata": {},
     "output_type": "execute_result"
    },
    {
     "data": {
      "text/plain": [
       "<matplotlib.collections.PathCollection at 0x11b35d9c8d0>"
      ]
     },
     "execution_count": 30,
     "metadata": {},
     "output_type": "execute_result"
    },
    {
     "data": {
      "text/plain": [
       "<matplotlib.collections.PathCollection at 0x11b35d9cc18>"
      ]
     },
     "execution_count": 30,
     "metadata": {},
     "output_type": "execute_result"
    },
    {
     "data": {
      "text/plain": [
       "<matplotlib.collections.PathCollection at 0x11b35d9cfd0>"
      ]
     },
     "execution_count": 30,
     "metadata": {},
     "output_type": "execute_result"
    },
    {
     "data": {
      "text/plain": [
       "<matplotlib.collections.PathCollection at 0x11b35d8e7b8>"
      ]
     },
     "execution_count": 30,
     "metadata": {},
     "output_type": "execute_result"
    },
    {
     "data": {
      "text/plain": [
       "<matplotlib.collections.PathCollection at 0x11b35d8e470>"
      ]
     },
     "execution_count": 30,
     "metadata": {},
     "output_type": "execute_result"
    },
    {
     "data": {
      "text/plain": [
       "<matplotlib.collections.PathCollection at 0x11b35da7630>"
      ]
     },
     "execution_count": 30,
     "metadata": {},
     "output_type": "execute_result"
    },
    {
     "data": {
      "text/plain": [
       "<matplotlib.collections.PathCollection at 0x11b35da7b00>"
      ]
     },
     "execution_count": 30,
     "metadata": {},
     "output_type": "execute_result"
    },
    {
     "data": {
      "text/plain": [
       "<matplotlib.collections.PathCollection at 0x11b35da7d30>"
      ]
     },
     "execution_count": 30,
     "metadata": {},
     "output_type": "execute_result"
    },
    {
     "data": {
      "text/plain": [
       "<matplotlib.collections.PathCollection at 0x11b35daf240>"
      ]
     },
     "execution_count": 30,
     "metadata": {},
     "output_type": "execute_result"
    },
    {
     "data": {
      "text/plain": [
       "<matplotlib.collections.PathCollection at 0x11b35daf470>"
      ]
     },
     "execution_count": 30,
     "metadata": {},
     "output_type": "execute_result"
    },
    {
     "data": {
      "text/plain": [
       "<matplotlib.collections.PathCollection at 0x11b35daf898>"
      ]
     },
     "execution_count": 30,
     "metadata": {},
     "output_type": "execute_result"
    },
    {
     "data": {
      "text/plain": [
       "<matplotlib.collections.PathCollection at 0x11b35dafb70>"
      ]
     },
     "execution_count": 30,
     "metadata": {},
     "output_type": "execute_result"
    },
    {
     "data": {
      "text/plain": [
       "<matplotlib.collections.PathCollection at 0x11b35daff98>"
      ]
     },
     "execution_count": 30,
     "metadata": {},
     "output_type": "execute_result"
    },
    {
     "data": {
      "text/plain": [
       "<matplotlib.collections.PathCollection at 0x11b35d81dd8>"
      ]
     },
     "execution_count": 30,
     "metadata": {},
     "output_type": "execute_result"
    },
    {
     "data": {
      "text/plain": [
       "<matplotlib.collections.PathCollection at 0x11b35ffc320>"
      ]
     },
     "execution_count": 30,
     "metadata": {},
     "output_type": "execute_result"
    },
    {
     "data": {
      "text/plain": [
       "<matplotlib.collections.PathCollection at 0x11b35ffc0f0>"
      ]
     },
     "execution_count": 30,
     "metadata": {},
     "output_type": "execute_result"
    },
    {
     "data": {
      "text/plain": [
       "<matplotlib.collections.PathCollection at 0x11b35ffc978>"
      ]
     },
     "execution_count": 30,
     "metadata": {},
     "output_type": "execute_result"
    },
    {
     "data": {
      "text/plain": [
       "<matplotlib.collections.PathCollection at 0x11b35ffccf8>"
      ]
     },
     "execution_count": 30,
     "metadata": {},
     "output_type": "execute_result"
    },
    {
     "data": {
      "text/plain": [
       "<matplotlib.collections.PathCollection at 0x11b35ffcc18>"
      ]
     },
     "execution_count": 30,
     "metadata": {},
     "output_type": "execute_result"
    },
    {
     "data": {
      "text/plain": [
       "<matplotlib.collections.PathCollection at 0x11b360064e0>"
      ]
     },
     "execution_count": 30,
     "metadata": {},
     "output_type": "execute_result"
    },
    {
     "data": {
      "text/plain": [
       "<matplotlib.collections.PathCollection at 0x11b360063c8>"
      ]
     },
     "execution_count": 30,
     "metadata": {},
     "output_type": "execute_result"
    },
    {
     "data": {
      "text/plain": [
       "<matplotlib.collections.PathCollection at 0x11b36006be0>"
      ]
     },
     "execution_count": 30,
     "metadata": {},
     "output_type": "execute_result"
    },
    {
     "data": {
      "text/plain": [
       "<matplotlib.collections.PathCollection at 0x11b36006ef0>"
      ]
     },
     "execution_count": 30,
     "metadata": {},
     "output_type": "execute_result"
    },
    {
     "data": {
      "text/plain": [
       "<matplotlib.collections.PathCollection at 0x11b35ffc2b0>"
      ]
     },
     "execution_count": 30,
     "metadata": {},
     "output_type": "execute_result"
    },
    {
     "data": {
      "text/plain": [
       "<matplotlib.collections.PathCollection at 0x11b36015128>"
      ]
     },
     "execution_count": 30,
     "metadata": {},
     "output_type": "execute_result"
    },
    {
     "data": {
      "text/plain": [
       "<matplotlib.collections.PathCollection at 0x11b36015240>"
      ]
     },
     "execution_count": 30,
     "metadata": {},
     "output_type": "execute_result"
    },
    {
     "data": {
      "text/plain": [
       "<matplotlib.collections.PathCollection at 0x11b36015668>"
      ]
     },
     "execution_count": 30,
     "metadata": {},
     "output_type": "execute_result"
    },
    {
     "data": {
      "text/plain": [
       "<matplotlib.collections.PathCollection at 0x11b36015cc0>"
      ]
     },
     "execution_count": 30,
     "metadata": {},
     "output_type": "execute_result"
    },
    {
     "data": {
      "text/plain": [
       "<matplotlib.collections.PathCollection at 0x11b36015ef0>"
      ]
     },
     "execution_count": 30,
     "metadata": {},
     "output_type": "execute_result"
    },
    {
     "data": {
      "text/plain": [
       "<matplotlib.collections.PathCollection at 0x11b36015898>"
      ]
     },
     "execution_count": 30,
     "metadata": {},
     "output_type": "execute_result"
    },
    {
     "data": {
      "text/plain": [
       "<matplotlib.collections.PathCollection at 0x11b3601f748>"
      ]
     },
     "execution_count": 30,
     "metadata": {},
     "output_type": "execute_result"
    },
    {
     "data": {
      "text/plain": [
       "<matplotlib.collections.PathCollection at 0x11b3601f240>"
      ]
     },
     "execution_count": 30,
     "metadata": {},
     "output_type": "execute_result"
    },
    {
     "data": {
      "text/plain": [
       "<matplotlib.collections.PathCollection at 0x11b3601fd68>"
      ]
     },
     "execution_count": 30,
     "metadata": {},
     "output_type": "execute_result"
    },
    {
     "data": {
      "text/plain": [
       "<matplotlib.collections.PathCollection at 0x11b36015ba8>"
      ]
     },
     "execution_count": 30,
     "metadata": {},
     "output_type": "execute_result"
    },
    {
     "data": {
      "text/plain": [
       "<matplotlib.collections.PathCollection at 0x11b3601fcf8>"
      ]
     },
     "execution_count": 30,
     "metadata": {},
     "output_type": "execute_result"
    },
    {
     "data": {
      "text/plain": [
       "<matplotlib.collections.PathCollection at 0x11b3602b080>"
      ]
     },
     "execution_count": 30,
     "metadata": {},
     "output_type": "execute_result"
    },
    {
     "data": {
      "text/plain": [
       "<matplotlib.collections.PathCollection at 0x11b3602b470>"
      ]
     },
     "execution_count": 30,
     "metadata": {},
     "output_type": "execute_result"
    },
    {
     "data": {
      "text/plain": [
       "<matplotlib.collections.PathCollection at 0x11b3602b7f0>"
      ]
     },
     "execution_count": 30,
     "metadata": {},
     "output_type": "execute_result"
    },
    {
     "data": {
      "text/plain": [
       "<matplotlib.collections.PathCollection at 0x11b3602bda0>"
      ]
     },
     "execution_count": 30,
     "metadata": {},
     "output_type": "execute_result"
    },
    {
     "data": {
      "text/plain": [
       "<matplotlib.collections.PathCollection at 0x11b3602bdd8>"
      ]
     },
     "execution_count": 30,
     "metadata": {},
     "output_type": "execute_result"
    },
    {
     "data": {
      "text/plain": [
       "<matplotlib.collections.PathCollection at 0x11b360321d0>"
      ]
     },
     "execution_count": 30,
     "metadata": {},
     "output_type": "execute_result"
    },
    {
     "data": {
      "text/plain": [
       "<matplotlib.collections.PathCollection at 0x11b3602be48>"
      ]
     },
     "execution_count": 30,
     "metadata": {},
     "output_type": "execute_result"
    },
    {
     "data": {
      "text/plain": [
       "<matplotlib.collections.PathCollection at 0x11b360324e0>"
      ]
     },
     "execution_count": 30,
     "metadata": {},
     "output_type": "execute_result"
    },
    {
     "data": {
      "text/plain": [
       "<matplotlib.collections.PathCollection at 0x11b36032da0>"
      ]
     },
     "execution_count": 30,
     "metadata": {},
     "output_type": "execute_result"
    },
    {
     "data": {
      "text/plain": [
       "<matplotlib.collections.PathCollection at 0x11b360410b8>"
      ]
     },
     "execution_count": 30,
     "metadata": {},
     "output_type": "execute_result"
    },
    {
     "data": {
      "text/plain": [
       "<matplotlib.collections.PathCollection at 0x11b36032518>"
      ]
     },
     "execution_count": 30,
     "metadata": {},
     "output_type": "execute_result"
    },
    {
     "data": {
      "text/plain": [
       "<matplotlib.collections.PathCollection at 0x11b36041320>"
      ]
     },
     "execution_count": 30,
     "metadata": {},
     "output_type": "execute_result"
    },
    {
     "data": {
      "text/plain": [
       "<matplotlib.collections.PathCollection at 0x11b360415f8>"
      ]
     },
     "execution_count": 30,
     "metadata": {},
     "output_type": "execute_result"
    },
    {
     "data": {
      "text/plain": [
       "<matplotlib.collections.PathCollection at 0x11b36041940>"
      ]
     },
     "execution_count": 30,
     "metadata": {},
     "output_type": "execute_result"
    },
    {
     "data": {
      "text/plain": [
       "<matplotlib.collections.PathCollection at 0x11b36049160>"
      ]
     },
     "execution_count": 30,
     "metadata": {},
     "output_type": "execute_result"
    },
    {
     "data": {
      "text/plain": [
       "<matplotlib.collections.PathCollection at 0x11b360495c0>"
      ]
     },
     "execution_count": 30,
     "metadata": {},
     "output_type": "execute_result"
    },
    {
     "data": {
      "text/plain": [
       "<matplotlib.collections.PathCollection at 0x11b36041048>"
      ]
     },
     "execution_count": 30,
     "metadata": {},
     "output_type": "execute_result"
    },
    {
     "data": {
      "text/plain": [
       "<matplotlib.collections.PathCollection at 0x11b36049940>"
      ]
     },
     "execution_count": 30,
     "metadata": {},
     "output_type": "execute_result"
    },
    {
     "data": {
      "text/plain": [
       "<matplotlib.collections.PathCollection at 0x11b36049080>"
      ]
     },
     "execution_count": 30,
     "metadata": {},
     "output_type": "execute_result"
    },
    {
     "data": {
      "text/plain": [
       "<matplotlib.collections.PathCollection at 0x11b36049518>"
      ]
     },
     "execution_count": 30,
     "metadata": {},
     "output_type": "execute_result"
    },
    {
     "data": {
      "text/plain": [
       "<matplotlib.collections.PathCollection at 0x11b36049b38>"
      ]
     },
     "execution_count": 30,
     "metadata": {},
     "output_type": "execute_result"
    },
    {
     "data": {
      "text/plain": [
       "<matplotlib.collections.PathCollection at 0x11b360565f8>"
      ]
     },
     "execution_count": 30,
     "metadata": {},
     "output_type": "execute_result"
    },
    {
     "data": {
      "text/plain": [
       "<matplotlib.collections.PathCollection at 0x11b360568d0>"
      ]
     },
     "execution_count": 30,
     "metadata": {},
     "output_type": "execute_result"
    },
    {
     "data": {
      "text/plain": [
       "<matplotlib.collections.PathCollection at 0x11b36056be0>"
      ]
     },
     "execution_count": 30,
     "metadata": {},
     "output_type": "execute_result"
    },
    {
     "data": {
      "text/plain": [
       "<matplotlib.collections.PathCollection at 0x11b36060080>"
      ]
     },
     "execution_count": 30,
     "metadata": {},
     "output_type": "execute_result"
    },
    {
     "data": {
      "text/plain": [
       "<matplotlib.collections.PathCollection at 0x11b36060390>"
      ]
     },
     "execution_count": 30,
     "metadata": {},
     "output_type": "execute_result"
    },
    {
     "data": {
      "text/plain": [
       "<matplotlib.collections.PathCollection at 0x11b360564e0>"
      ]
     },
     "execution_count": 30,
     "metadata": {},
     "output_type": "execute_result"
    },
    {
     "data": {
      "text/plain": [
       "<matplotlib.collections.PathCollection at 0x11b36056d30>"
      ]
     },
     "execution_count": 30,
     "metadata": {},
     "output_type": "execute_result"
    },
    {
     "data": {
      "text/plain": [
       "<matplotlib.collections.PathCollection at 0x11b36060128>"
      ]
     },
     "execution_count": 30,
     "metadata": {},
     "output_type": "execute_result"
    },
    {
     "data": {
      "text/plain": [
       "<matplotlib.collections.PathCollection at 0x11b360604e0>"
      ]
     },
     "execution_count": 30,
     "metadata": {},
     "output_type": "execute_result"
    },
    {
     "data": {
      "text/plain": [
       "<matplotlib.collections.PathCollection at 0x11b36060dd8>"
      ]
     },
     "execution_count": 30,
     "metadata": {},
     "output_type": "execute_result"
    },
    {
     "data": {
      "text/plain": [
       "<matplotlib.collections.PathCollection at 0x11b3606d400>"
      ]
     },
     "execution_count": 30,
     "metadata": {},
     "output_type": "execute_result"
    },
    {
     "data": {
      "text/plain": [
       "<matplotlib.collections.PathCollection at 0x11b3606d6a0>"
      ]
     },
     "execution_count": 30,
     "metadata": {},
     "output_type": "execute_result"
    },
    {
     "data": {
      "text/plain": [
       "<matplotlib.collections.PathCollection at 0x11b3606dac8>"
      ]
     },
     "execution_count": 30,
     "metadata": {},
     "output_type": "execute_result"
    },
    {
     "data": {
      "text/plain": [
       "<matplotlib.collections.PathCollection at 0x11b3606dfd0>"
      ]
     },
     "execution_count": 30,
     "metadata": {},
     "output_type": "execute_result"
    },
    {
     "data": {
      "text/plain": [
       "<matplotlib.collections.PathCollection at 0x11b3606dcc0>"
      ]
     },
     "execution_count": 30,
     "metadata": {},
     "output_type": "execute_result"
    },
    {
     "data": {
      "text/plain": [
       "<matplotlib.collections.PathCollection at 0x11b36077630>"
      ]
     },
     "execution_count": 30,
     "metadata": {},
     "output_type": "execute_result"
    },
    {
     "data": {
      "text/plain": [
       "<matplotlib.collections.PathCollection at 0x11b36077a90>"
      ]
     },
     "execution_count": 30,
     "metadata": {},
     "output_type": "execute_result"
    },
    {
     "data": {
      "image/png": "[encoded data removed]",
      "text/plain": [
       "<Figure size 432x288 with 1 Axes>"
      ]
     },
     "metadata": {
      "needs_background": "light"
     },
     "output_type": "display_data"
    }
   ],
   "source": [
    "import matplotlib.pyplot as plt\n",
    "\n",
    "colors = ['r', 'g', 'b', 'y', 'c', 'm']\n",
    "fig, ax = plt.subplots()\n",
    "print(ax)\n",
    "c = np.array([3,3])\n",
    "\n",
    "for i in groupes_cah:\n",
    "        points = np.array(data.loc[data['group'] == i])\n",
    "        ax.scatter(points[:, 0], points[:, 1], s=7, c=colors[i])\n"
   ]
  },
  {
   "cell_type": "code",
   "execution_count": null,
   "metadata": {},
   "outputs": [],
   "source": []
  },
  {
   "cell_type": "code",
   "execution_count": null,
   "metadata": {},
   "outputs": [],
   "source": []
  }
 ],
 "metadata": {
  "kernelspec": {
   "display_name": "Python 3",
   "language": "python",
   "name": "python3"
  },
  "language_info": {
   "codemirror_mode": {
    "name": "ipython",
    "version": 3
   },
   "file_extension": ".py",
   "mimetype": "text/x-python",
   "name": "python",
   "nbconvert_exporter": "python",
   "pygments_lexer": "ipython3",
   "version": "3.7.0"
  }
 },
 "nbformat": 4,
 "nbformat_minor": 2
}
