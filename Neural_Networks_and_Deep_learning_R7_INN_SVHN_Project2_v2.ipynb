{
 "cells": [
  {
   "cell_type": "code",
   "execution_count": 1,
   "metadata": {},
   "outputs": [
    {
     "name": "stderr",
     "output_type": "stream",
     "text": [
      "Using TensorFlow backend.\n"
     ]
    }
   ],
   "source": [
    "from __future__ import absolute_import, division, print_function\n",
    "from IPython.core.interactiveshell import InteractiveShell\n",
    "InteractiveShell.ast_node_interactivity = \"all\"\n",
    "\n",
    "import os\n",
    "import time\n",
    "import math\n",
    "import h5py\n",
    "import numpy as np\n",
    "import tensorflow as tf\n",
    "import matplotlib.pyplot as plt\n",
    "import seaborn as sns\n",
    "from datetime import timedelta\n",
    "\n",
    "from sklearn.neighbors import KNeighborsClassifier\n",
    "from sklearn.model_selection import KFold\n",
    "from sklearn.model_selection import cross_val_score\n",
    "from sklearn import metrics\n",
    "#from sklearn import metrics.classification_report\n",
    "#from sklearn import metrics.confusion_matrix\n",
    "\n",
    "import keras\n",
    "from keras.utils import np_utils\n",
    "from keras.layers.normalization import BatchNormalization\n",
    "from keras.models import Sequential\n",
    "from keras.layers import Dense, Activation, Dropout, Flatten, Reshape\n",
    "from keras.layers import Convolution2D, MaxPooling2D\n",
    "\n"
   ]
  },
  {
   "cell_type": "code",
   "execution_count": 2,
   "metadata": {},
   "outputs": [
    {
     "name": "stdout",
     "output_type": "stream",
     "text": [
      "Tensorflow version 1.13.1\n"
     ]
    }
   ],
   "source": [
    "%matplotlib inline\n",
    "plt.rcParams['figure.figsize'] = (16.0, 4.0) # Set default figure size\n",
    "print(\"Tensorflow version\", tf.__version__)"
   ]
  },
  {
   "cell_type": "code",
   "execution_count": 3,
   "metadata": {},
   "outputs": [
    {
     "data": {
      "text/plain": [
       "h5py._hl.files.File"
      ]
     },
     "execution_count": 3,
     "metadata": {},
     "output_type": "execute_result"
    },
    {
     "name": "stdout",
     "output_type": "stream",
     "text": [
      "X_test\n",
      "X_train\n",
      "X_val\n",
      "y_test\n",
      "y_train\n",
      "y_val\n"
     ]
    }
   ],
   "source": [
    "# Open the file as readonly\n",
    "h5f = h5py.File('SVHN_single_grey1.h5', 'r')\n",
    "\n",
    "type(h5f)\n",
    "for key in h5f.keys():\n",
    "    print(key) #Names of the groups in HDF5 file."
   ]
  },
  {
   "cell_type": "code",
   "execution_count": 4,
   "metadata": {},
   "outputs": [
    {
     "name": "stdout",
     "output_type": "stream",
     "text": [
      "Training set (42000, 32, 32) (42000,)\n",
      "Validation set (60000, 32, 32) (60000,)\n",
      "Test set (18000, 32, 32) (18000,)\n"
     ]
    }
   ],
   "source": [
    "# Load the training, test and validation set\n",
    "X_train = h5f['X_train'][:]\n",
    "y_train = h5f['y_train'][:]\n",
    "X_test = h5f['X_test'][:]\n",
    "y_test = h5f['y_test'][:]\n",
    "X_val = h5f['X_val'][:]\n",
    "y_val = h5f['y_val'][:]\n",
    "\n",
    "# Close this file\n",
    "h5f.close()\n",
    "\n",
    "print('Training set', X_train.shape, y_train.shape)\n",
    "print('Validation set', X_val.shape, y_val.shape)\n",
    "print('Test set', X_test.shape, y_test.shape)"
   ]
  },
  {
   "cell_type": "code",
   "execution_count": 5,
   "metadata": {},
   "outputs": [
    {
     "data": {
      "text/plain": [
       "<matplotlib.image.AxesImage at 0x7f92fcfef4e0>"
      ]
     },
     "execution_count": 5,
     "metadata": {},
     "output_type": "execute_result"
    },
    {
     "data": {
      "text/plain": [
       "Text(0.5, 1.0, '2')"
      ]
     },
     "execution_count": 5,
     "metadata": {},
     "output_type": "execute_result"
    },
    {
     "data": {
      "text/plain": [
       "<matplotlib.image.AxesImage at 0x7f92fcfef908>"
      ]
     },
     "execution_count": 5,
     "metadata": {},
     "output_type": "execute_result"
    },
    {
     "data": {
      "text/plain": [
       "Text(0.5, 1.0, '6')"
      ]
     },
     "execution_count": 5,
     "metadata": {},
     "output_type": "execute_result"
    },
    {
     "data": {
      "text/plain": [
       "<matplotlib.image.AxesImage at 0x7f92fcfefc18>"
      ]
     },
     "execution_count": 5,
     "metadata": {},
     "output_type": "execute_result"
    },
    {
     "data": {
      "text/plain": [
       "Text(0.5, 1.0, '7')"
      ]
     },
     "execution_count": 5,
     "metadata": {},
     "output_type": "execute_result"
    },
    {
     "data": {
      "text/plain": [
       "<matplotlib.image.AxesImage at 0x7f92fcfeff28>"
      ]
     },
     "execution_count": 5,
     "metadata": {},
     "output_type": "execute_result"
    },
    {
     "data": {
      "text/plain": [
       "Text(0.5, 1.0, '4')"
      ]
     },
     "execution_count": 5,
     "metadata": {},
     "output_type": "execute_result"
    },
    {
     "data": {
      "text/plain": [
       "<matplotlib.image.AxesImage at 0x7f931c56bcc0>"
      ]
     },
     "execution_count": 5,
     "metadata": {},
     "output_type": "execute_result"
    },
    {
     "data": {
      "text/plain": [
       "Text(0.5, 1.0, '4')"
      ]
     },
     "execution_count": 5,
     "metadata": {},
     "output_type": "execute_result"
    },
    {
     "data": {
      "text/plain": [
       "<matplotlib.image.AxesImage at 0x7f92fcf866d8>"
      ]
     },
     "execution_count": 5,
     "metadata": {},
     "output_type": "execute_result"
    },
    {
     "data": {
      "text/plain": [
       "Text(0.5, 1.0, '0')"
      ]
     },
     "execution_count": 5,
     "metadata": {},
     "output_type": "execute_result"
    },
    {
     "data": {
      "text/plain": [
       "<matplotlib.image.AxesImage at 0x7f92fcf86978>"
      ]
     },
     "execution_count": 5,
     "metadata": {},
     "output_type": "execute_result"
    },
    {
     "data": {
      "text/plain": [
       "Text(0.5, 1.0, '3')"
      ]
     },
     "execution_count": 5,
     "metadata": {},
     "output_type": "execute_result"
    },
    {
     "data": {
      "text/plain": [
       "<matplotlib.image.AxesImage at 0x7f92fcf86cc0>"
      ]
     },
     "execution_count": 5,
     "metadata": {},
     "output_type": "execute_result"
    },
    {
     "data": {
      "text/plain": [
       "Text(0.5, 1.0, '0')"
      ]
     },
     "execution_count": 5,
     "metadata": {},
     "output_type": "execute_result"
    },
    {
     "data": {
      "text/plain": [
       "<matplotlib.image.AxesImage at 0x7f92fcf8d0b8>"
      ]
     },
     "execution_count": 5,
     "metadata": {},
     "output_type": "execute_result"
    },
    {
     "data": {
      "text/plain": [
       "Text(0.5, 1.0, '7')"
      ]
     },
     "execution_count": 5,
     "metadata": {},
     "output_type": "execute_result"
    },
    {
     "data": {
      "text/plain": [
       "<matplotlib.image.AxesImage at 0x7f92fcf8d390>"
      ]
     },
     "execution_count": 5,
     "metadata": {},
     "output_type": "execute_result"
    },
    {
     "data": {
      "text/plain": [
       "Text(0.5, 1.0, '3')"
      ]
     },
     "execution_count": 5,
     "metadata": {},
     "output_type": "execute_result"
    },
    {
     "data": {
      "text/plain": [
       "([], <a list of 0 Text xticklabel objects>)"
      ]
     },
     "execution_count": 5,
     "metadata": {},
     "output_type": "execute_result"
    },
    {
     "data": {
      "text/plain": [
       "([], <a list of 0 Text yticklabel objects>)"
      ]
     },
     "execution_count": 5,
     "metadata": {},
     "output_type": "execute_result"
    },
    {
     "name": "stdout",
     "output_type": "stream",
     "text": [
      "Label for each of the below images:  [2 6 7 4 4 0 3 0 7 3]\n"
     ]
    },
    {
     "data": {
      "image/png": "[encoded data removed]",
      "text/plain": [
       "<Figure size 648x648 with 10 Axes>"
      ]
     },
     "metadata": {},
     "output_type": "display_data"
    }
   ],
   "source": [
    "#Visualize few sample images\n",
    "fig, axes = plt.subplots(1, 10,figsize=(9, 9), sharey=True, sharex=True)\n",
    "\n",
    "for i in range(10):\n",
    "    axes[i].imshow(X_train[i].reshape(32,32),cmap=plt.get_cmap('gray'))\n",
    "    axes[i].set_title(y_train[i])\n",
    "    \n",
    "plt.xticks([])\n",
    "plt.yticks([])\n",
    "\n",
    "print('Label for each of the below images: ', y_train[0:10])"
   ]
  },
  {
   "cell_type": "code",
   "execution_count": 6,
   "metadata": {
    "colab": {},
    "colab_type": "code",
    "id": "3fUQpMHxJjwE"
   },
   "outputs": [
    {
     "name": "stdout",
     "output_type": "stream",
     "text": [
      "42000 42000 18000 18000\n",
      "(32, 32) (32, 32)\n",
      "(32, 32) (32, 32)\n",
      "(32, 32) (32, 32)\n",
      "(32, 32, 1) (32, 32, 1)\n",
      "42000 42000 18000 18000\n"
     ]
    }
   ],
   "source": [
    "x_train = X_train.copy()\n",
    "x_test = X_test.copy()\n",
    "\n",
    "print(x_train.shape[0], y_train.shape[0], x_test.shape[0], y_test.shape[0])\n",
    "print(x_train.shape[1:3], x_test.shape[1:3])\n",
    "print(x_train[1].shape, x_test[3].shape)\n",
    "\n",
    "x_train = x_train.reshape(x_train.shape[0], 32, 32, 1).astype('float32')\n",
    "x_test = x_test.reshape(x_test.shape[0], 32, 32, 1).astype('float32')\n",
    "x_train /= 255\n",
    "x_test /= 255\n",
    "y_train = np_utils.to_categorical(y_train, 10)\n",
    "y_test = np_utils.to_categorical(y_test, 10)\n",
    "\n",
    "print(x_train.shape[1:3], x_test.shape[1:3])\n",
    "print(x_train[1].shape, x_test[3].shape)\n",
    "print(x_train.shape[0], y_train.shape[0], x_test.shape[0], y_test.shape[0])"
   ]
  },
  {
   "cell_type": "code",
   "execution_count": 7,
   "metadata": {},
   "outputs": [
    {
     "name": "stdout",
     "output_type": "stream",
     "text": [
      "42000 (1024,) <class 'list'>\n",
      "18000 (1024,) <class 'list'>\n"
     ]
    }
   ],
   "source": [
    "#Prepare flattened pixel array\n",
    "ind=0\n",
    "x_train_knn=[]\n",
    "for i in x_train:\n",
    "    x_train_knn.append(np.array(x_train[ind]).flatten())\n",
    "    ind=ind+1\n",
    "print(ind, x_train_knn[1].shape, type(x_train_knn))\n",
    "\n",
    "ind=0\n",
    "x_test_knn=[]\n",
    "for i in x_test:\n",
    "    x_test_knn.append(np.array(x_test[ind]).flatten())\n",
    "    ind=ind+1\n",
    "print(ind, x_test_knn[1].shape, type(x_test_knn))\n"
   ]
  },
  {
   "cell_type": "code",
   "execution_count": 8,
   "metadata": {},
   "outputs": [
    {
     "name": "stdout",
     "output_type": "stream",
     "text": [
      "1\n",
      "2\n",
      "3\n",
      "4\n",
      "5\n",
      "6\n",
      "7\n",
      "8\n",
      "9\n"
     ]
    },
    {
     "data": {
      "text/plain": [
       "0.5513571428571429"
      ]
     },
     "execution_count": 8,
     "metadata": {},
     "output_type": "execute_result"
    },
    {
     "data": {
      "text/plain": [
       "0"
      ]
     },
     "execution_count": 8,
     "metadata": {},
     "output_type": "execute_result"
    },
    {
     "name": "stdout",
     "output_type": "stream",
     "text": [
      "The optimal number of neighbors is 1\n"
     ]
    }
   ],
   "source": [
    "##Use kfold cross validation to get no of neighbours\n",
    "\n",
    "# creating odd list of K for KNN\n",
    "myList = list(range(1,10))\n",
    "\n",
    "# empty list that will hold cv scores\n",
    "cv_scores = []\n",
    "k_neighbors = []\n",
    "\n",
    "# perform 10-fold cross validation\n",
    "for k in myList:\n",
    "    print(k)\n",
    "    knn = KNeighborsClassifier(n_neighbors=k)\n",
    "    scores = cross_val_score(knn, x_train_knn, y_train, cv=10, scoring='accuracy')\n",
    "    cv_scores.append(scores.mean())\n",
    "    k_neighbors.append(k)\n",
    "\n",
    "\n",
    "MSE = [1 - x for x in cv_scores]\n",
    "min(MSE)\n",
    "MSE.index(min(MSE))\n",
    "best_k = myList[MSE.index(min(MSE))]\n",
    "print (\"The optimal number of neighbors is %d\" % best_k)"
   ]
  },
  {
   "cell_type": "code",
   "execution_count": null,
   "metadata": {},
   "outputs": [],
   "source": []
  },
  {
   "cell_type": "code",
   "execution_count": 9,
   "metadata": {},
   "outputs": [],
   "source": [
    "##Use the best_k to get classification report\n",
    "model1_knn = KNeighborsClassifier(n_neighbors= best_k , weights = 'distance' )"
   ]
  },
  {
   "cell_type": "code",
   "execution_count": 10,
   "metadata": {},
   "outputs": [
    {
     "data": {
      "text/plain": [
       "KNeighborsClassifier(algorithm='auto', leaf_size=30, metric='minkowski',\n",
       "                     metric_params=None, n_jobs=None, n_neighbors=1, p=2,\n",
       "                     weights='distance')"
      ]
     },
     "execution_count": 10,
     "metadata": {},
     "output_type": "execute_result"
    }
   ],
   "source": [
    "model1_knn.fit(x_train_knn, y_train)"
   ]
  },
  {
   "cell_type": "code",
   "execution_count": 11,
   "metadata": {},
   "outputs": [],
   "source": [
    "y_pred = model1_knn.predict(x_test_knn)"
   ]
  },
  {
   "cell_type": "code",
   "execution_count": 13,
   "metadata": {},
   "outputs": [
    {
     "name": "stdout",
     "output_type": "stream",
     "text": [
      "[INFO] Test accuracy: 45.92%\n"
     ]
    }
   ],
   "source": [
    "print(\"[INFO] Test accuracy: {:.2f}%\".format(model1_knn.score(x_test_knn, y_test) * 100))"
   ]
  },
  {
   "cell_type": "code",
   "execution_count": 14,
   "metadata": {},
   "outputs": [
    {
     "name": "stdout",
     "output_type": "stream",
     "text": [
      "Classification report for classifier KNeighborsClassifier(algorithm='auto', leaf_size=30, metric='minkowski',\n",
      "                     metric_params=None, n_jobs=None, n_neighbors=1, p=2,\n",
      "                     weights='distance'):\n",
      "              precision    recall  f1-score   support\n",
      "\n",
      "           0       0.47      0.52      0.49      1814\n",
      "           1       0.50      0.57      0.53      1828\n",
      "           2       0.54      0.48      0.51      1803\n",
      "           3       0.37      0.35      0.36      1719\n",
      "           4       0.60      0.57      0.59      1812\n",
      "           5       0.38      0.33      0.36      1768\n",
      "           6       0.38      0.39      0.39      1832\n",
      "           7       0.63      0.59      0.61      1808\n",
      "           8       0.34      0.37      0.36      1812\n",
      "           9       0.39      0.40      0.40      1804\n",
      "\n",
      "   micro avg       0.46      0.46      0.46     18000\n",
      "   macro avg       0.46      0.46      0.46     18000\n",
      "weighted avg       0.46      0.46      0.46     18000\n",
      " samples avg       0.46      0.46      0.46     18000\n",
      "\n",
      "\n"
     ]
    }
   ],
   "source": [
    "# Classification report \n",
    "print(\"Classification report for classifier %s:\\n%s\\n\" % (model1_knn, metrics.classification_report(y_test, y_pred)))"
   ]
  },
  {
   "cell_type": "code",
   "execution_count": null,
   "metadata": {},
   "outputs": [],
   "source": []
  },
  {
   "cell_type": "code",
   "execution_count": 16,
   "metadata": {},
   "outputs": [],
   "source": [
    "#Initialize variables\n",
    "BATCH_SIZE = 30\n",
    "EPOCHS = 10\n",
    "PATIENCE = 3\n"
   ]
  },
  {
   "cell_type": "code",
   "execution_count": 21,
   "metadata": {},
   "outputs": [
    {
     "name": "stderr",
     "output_type": "stream",
     "text": [
      "/conda/envs/rapids/lib/python3.6/site-packages/ipykernel_launcher.py:6: UserWarning: Update your `Conv2D` call to the Keras 2 API: `Conv2D(32, (3, 3), input_shape=(32, 32, 1...)`\n",
      "  \n",
      "/conda/envs/rapids/lib/python3.6/site-packages/ipykernel_launcher.py:10: UserWarning: Update your `Conv2D` call to the Keras 2 API: `Conv2D(32, (3, 3))`\n",
      "  # Remove the CWD from sys.path while we load stuff.\n",
      "/conda/envs/rapids/lib/python3.6/site-packages/ipykernel_launcher.py:39: UserWarning: The `nb_epoch` argument in `fit` has been renamed `epochs`.\n"
     ]
    },
    {
     "name": "stdout",
     "output_type": "stream",
     "text": [
      "Train on 42000 samples, validate on 18000 samples\n",
      "Epoch 1/10\n",
      "42000/42000 [==============================] - 9s 215us/step - loss: 2.3020 - acc: 0.1090 - val_loss: 2.2982 - val_acc: 0.1492\n",
      "Epoch 2/10\n",
      "42000/42000 [==============================] - 9s 208us/step - loss: 2.2927 - acc: 0.1381 - val_loss: 2.2732 - val_acc: 0.2091\n",
      "Epoch 3/10\n",
      "42000/42000 [==============================] - 9s 209us/step - loss: 2.1681 - acc: 0.2437 - val_loss: 1.7681 - val_acc: 0.5770\n",
      "Epoch 4/10\n",
      "42000/42000 [==============================] - 9s 209us/step - loss: 1.4097 - acc: 0.5493 - val_loss: 0.8654 - val_acc: 0.7753\n",
      "Epoch 5/10\n",
      "42000/42000 [==============================] - 9s 208us/step - loss: 0.9854 - acc: 0.6960 - val_loss: 0.7013 - val_acc: 0.8132\n",
      "Epoch 6/10\n",
      "42000/42000 [==============================] - 9s 206us/step - loss: 0.8422 - acc: 0.7424 - val_loss: 0.6258 - val_acc: 0.8282\n",
      "Epoch 7/10\n",
      "42000/42000 [==============================] - 9s 209us/step - loss: 0.7685 - acc: 0.7647 - val_loss: 0.5575 - val_acc: 0.8441\n",
      "Epoch 8/10\n",
      "42000/42000 [==============================] - 9s 205us/step - loss: 0.7183 - acc: 0.7800 - val_loss: 0.5330 - val_acc: 0.8507\n",
      "Epoch 9/10\n",
      "42000/42000 [==============================] - 9s 206us/step - loss: 0.6831 - acc: 0.7902 - val_loss: 0.5026 - val_acc: 0.8558\n",
      "Epoch 10/10\n",
      "42000/42000 [==============================] - 9s 207us/step - loss: 0.6529 - acc: 0.7984 - val_loss: 0.4924 - val_acc: 0.8627\n"
     ]
    },
    {
     "data": {
      "text/plain": [
       "<keras.callbacks.History at 0x7f91f44fa630>"
      ]
     },
     "execution_count": 21,
     "metadata": {},
     "output_type": "execute_result"
    },
    {
     "name": "stdout",
     "output_type": "stream",
     "text": [
      "18000/18000 [==============================] - 1s 60us/step\n",
      "[0.4923990302483241, 0.8626666666666667]\n"
     ]
    }
   ],
   "source": [
    "## Without Batch Normalization - just to show its effects\n",
    "# Define Model\n",
    "model2_dnn = Sequential()\n",
    "\n",
    "# 1st Conv Layer\n",
    "model2_dnn.add(Convolution2D(32, 3, 3, input_shape=(32, 32, 1)))\n",
    "model2_dnn.add(Activation('relu'))\n",
    "\n",
    "# 2nd Conv Layer\n",
    "model2_dnn.add(Convolution2D(32, 3, 3))\n",
    "model2_dnn.add(Activation('relu'))  \n",
    "\n",
    "# Max Pooling\n",
    "model2_dnn.add(MaxPooling2D(pool_size=(2,2)))\n",
    "    \n",
    "# Dropout\n",
    "model2_dnn.add(Dropout(0.25))\n",
    "\n",
    "# Fully Connected Layer\n",
    "model2_dnn.add(Flatten())\n",
    "model2_dnn.add(Dense(128))\n",
    "model2_dnn.add(Activation('relu'))\n",
    "    \n",
    "# More Dropout\n",
    "model2_dnn.add(Dropout(0.5))\n",
    "\n",
    "# Prediction Layer\n",
    "model2_dnn.add(Dense(10))\n",
    "model2_dnn.add(Activation('softmax'))\n",
    "\n",
    "# Loss and Optimizer\n",
    "model2_dnn.compile(loss='categorical_crossentropy', optimizer='sgd', metrics=['accuracy'])\n",
    "\n",
    "# Store Training Results\n",
    "early_stopping = keras.callbacks.EarlyStopping(monitor='val_acc', patience=PATIENCE, verbose=1, mode='auto')\n",
    "cb_list = [early_stopping]\n",
    "\n",
    "# Train the model\n",
    "model2_dnn.fit(x_train, y_train, batch_size=BATCH_SIZE, nb_epoch=EPOCHS, validation_data=(x_test, y_test), callbacks=cb_list)\n",
    "\n",
    "loss_and_metrics1 = model2_dnn.evaluate(x_test, y_test)\n",
    "print(loss_and_metrics1)\n",
    "\n",
    "# Classification report \n",
    "print(\"Classification report for classifier %s:\\n%s\\n\" % (model2_dnn, metrics.classification_report(y_test, y_pred)))\n"
   ]
  },
  {
   "cell_type": "code",
   "execution_count": 22,
   "metadata": {},
   "outputs": [
    {
     "name": "stderr",
     "output_type": "stream",
     "text": [
      "/conda/envs/rapids/lib/python3.6/site-packages/ipykernel_launcher.py:6: UserWarning: Update your `Conv2D` call to the Keras 2 API: `Conv2D(32, (3, 3), input_shape=(32, 32, 1...)`\n",
      "  \n",
      "/conda/envs/rapids/lib/python3.6/site-packages/ipykernel_launcher.py:11: UserWarning: Update your `Conv2D` call to the Keras 2 API: `Conv2D(32, (3, 3))`\n",
      "  # This is added back by InteractiveShellApp.init_path()\n"
     ]
    }
   ],
   "source": [
    "## With batch normalization. Final model.\n",
    "# Define Model\n",
    "model3_dnn = Sequential()\n",
    "\n",
    "# 1st Conv Layer\n",
    "model3_dnn.add(Convolution2D(32, 3, 3, input_shape=(32, 32, 1)))\n",
    "model3_dnn.add(BatchNormalization())\n",
    "model3_dnn.add(Activation('relu'))\n",
    "\n",
    "# 2nd Conv Layer\n",
    "model3_dnn.add(Convolution2D(32, 3, 3))\n",
    "model3_dnn.add(BatchNormalization())\n",
    "model3_dnn.add(Activation('relu'))  \n",
    "\n",
    "# Max Pooling\n",
    "model3_dnn.add(MaxPooling2D(pool_size=(2,2)))\n",
    "    \n",
    "# Dropout\n",
    "model3_dnn.add(Dropout(0.25))\n",
    "\n",
    "# Fully Connected Layer\n",
    "model3_dnn.add(Flatten())\n",
    "model3_dnn.add(Dense(128))\n",
    "model3_dnn.add(Activation('relu'))\n",
    "    \n",
    "# More Dropout\n",
    "model3_dnn.add(Dropout(0.5))\n",
    "\n",
    "# Prediction Layer\n",
    "model3_dnn.add(Dense(10))\n",
    "model3_dnn.add(Activation('softmax'))\n",
    "\n",
    "# Loss and Optimizer\n",
    "model3_dnn.compile(loss='categorical_crossentropy', optimizer='sgd', metrics=['accuracy'])\n",
    "    "
   ]
  },
  {
   "cell_type": "code",
   "execution_count": 23,
   "metadata": {},
   "outputs": [
    {
     "name": "stderr",
     "output_type": "stream",
     "text": [
      "/conda/envs/rapids/lib/python3.6/site-packages/ipykernel_launcher.py:6: UserWarning: The `nb_epoch` argument in `fit` has been renamed `epochs`.\n",
      "  \n"
     ]
    },
    {
     "name": "stdout",
     "output_type": "stream",
     "text": [
      "Train on 42000 samples, validate on 18000 samples\n",
      "Epoch 1/10\n",
      "42000/42000 [==============================] - 11s 272us/step - loss: 1.7861 - acc: 0.3551 - val_loss: 1.0366 - val_acc: 0.6992\n",
      "Epoch 2/10\n",
      "42000/42000 [==============================] - 11s 258us/step - loss: 0.9192 - acc: 0.7038 - val_loss: 0.6606 - val_acc: 0.8057\n",
      "Epoch 3/10\n",
      "42000/42000 [==============================] - 11s 260us/step - loss: 0.7199 - acc: 0.7730 - val_loss: 0.6925 - val_acc: 0.7987\n",
      "Epoch 4/10\n",
      "42000/42000 [==============================] - 11s 258us/step - loss: 0.6481 - acc: 0.7962 - val_loss: 0.5322 - val_acc: 0.8442\n",
      "Epoch 5/10\n",
      "42000/42000 [==============================] - 11s 258us/step - loss: 0.5954 - acc: 0.8103 - val_loss: 0.5938 - val_acc: 0.8369\n",
      "Epoch 6/10\n",
      "42000/42000 [==============================] - 11s 259us/step - loss: 0.5602 - acc: 0.8232 - val_loss: 0.4432 - val_acc: 0.8689\n",
      "Epoch 7/10\n",
      "42000/42000 [==============================] - 11s 258us/step - loss: 0.5302 - acc: 0.8313 - val_loss: 0.4431 - val_acc: 0.8683\n",
      "Epoch 8/10\n",
      "42000/42000 [==============================] - 11s 258us/step - loss: 0.5118 - acc: 0.8383 - val_loss: 0.4986 - val_acc: 0.8568\n",
      "Epoch 9/10\n",
      "42000/42000 [==============================] - 11s 260us/step - loss: 0.4918 - acc: 0.8441 - val_loss: 0.4359 - val_acc: 0.8734\n",
      "Epoch 10/10\n",
      "42000/42000 [==============================] - 11s 259us/step - loss: 0.4757 - acc: 0.8498 - val_loss: 0.4030 - val_acc: 0.8798\n"
     ]
    },
    {
     "data": {
      "text/plain": [
       "<keras.callbacks.History at 0x7f91f45dbdd8>"
      ]
     },
     "execution_count": 23,
     "metadata": {},
     "output_type": "execute_result"
    }
   ],
   "source": [
    "# Store Training Results\n",
    "early_stopping = keras.callbacks.EarlyStopping(monitor='val_acc', patience=PATIENCE, verbose=1, mode='auto')\n",
    "cb_list = [early_stopping]\n",
    "\n",
    "# Train the model\n",
    "model3_dnn.fit(x_train, y_train, batch_size=BATCH_SIZE, nb_epoch=EPOCHS, validation_data=(x_test, y_test), callbacks=cb_list)"
   ]
  },
  {
   "cell_type": "code",
   "execution_count": 20,
   "metadata": {},
   "outputs": [
    {
     "name": "stdout",
     "output_type": "stream",
     "text": [
      "18000/18000 [==============================] - 1s 79us/step\n",
      "[0.42544503529866534, 0.8740555555555556]\n"
     ]
    }
   ],
   "source": [
    "loss_and_metrics1 = model3_dnn.evaluate(x_test, y_test)\n",
    "print(loss_and_metrics1)\n"
   ]
  },
  {
   "cell_type": "code",
   "execution_count": 27,
   "metadata": {},
   "outputs": [
    {
     "name": "stdout",
     "output_type": "stream",
     "text": [
      "              precision    recall  f1-score   support\n",
      "\n",
      "           0       0.91      0.90      0.90      1814\n",
      "           1       0.91      0.89      0.90      1828\n",
      "           2       0.97      0.84      0.90      1803\n",
      "           3       0.94      0.78      0.85      1719\n",
      "           4       0.96      0.87      0.91      1812\n",
      "           5       0.93      0.84      0.88      1768\n",
      "           6       0.95      0.79      0.86      1832\n",
      "           7       0.95      0.88      0.91      1808\n",
      "           8       0.95      0.77      0.85      1812\n",
      "           9       0.93      0.80      0.86      1804\n",
      "\n",
      "   micro avg       0.94      0.84      0.88     18000\n",
      "   macro avg       0.94      0.84      0.88     18000\n",
      "weighted avg       0.94      0.84      0.88     18000\n",
      " samples avg       0.84      0.84      0.84     18000\n",
      "\n"
     ]
    },
    {
     "name": "stderr",
     "output_type": "stream",
     "text": [
      "/conda/envs/rapids/lib/python3.6/site-packages/sklearn/metrics/classification.py:1437: UndefinedMetricWarning: Precision and F-score are ill-defined and being set to 0.0 in samples with no predicted labels.\n",
      "  'precision', 'predicted', average, warn_for)\n"
     ]
    }
   ],
   "source": [
    "from sklearn.metrics import classification_report\n",
    "y_pred_dnn=model3_dnn.predict(x_test, batch_size=200, verbose=2)\n",
    "report = classification_report(y_test, y_pred_dnn.round())\n",
    "print(report)"
   ]
  },
  {
   "cell_type": "code",
   "execution_count": null,
   "metadata": {},
   "outputs": [],
   "source": [
    "\n",
    "##Comparison of CNN with and without batch normalization\n",
    "#1. Batch normalization has reduced overfitting effect as difference between training acc and\n",
    "#validation acc came down. \n",
    "#2. Batch normalization provided only a small marginal increase in performance. (0.826 vs 0.874)\n",
    "\n",
    "##Comparison of final CNN with KNN model.\n",
    "#1. The Acurracy is high for CNN as expected. CNN extracts features through convolution layer \n",
    "#whereas KNN processes the raw pixel data\n",
    "#2. Memory requirement is high for KNN as expected. When kfold cross validation was run from laptop it \n",
    "#ran out of memory. Rerun the code from desktop system to complete it. \n",
    "#3. Training time was also high for KNN as expected. It took hours to complete kfold\n",
    "#cross validation. "
   ]
  }
 ],
 "metadata": {
  "accelerator": "GPU",
  "colab": {
   "collapsed_sections": [],
   "name": "R7_InternalLab_Questions_FMNIST_Simple_CNN_CIFAR_DATA_Augment.ipynb",
   "provenance": [],
   "version": "0.3.2"
  },
  "kernelspec": {
   "display_name": "Python 3",
   "language": "python",
   "name": "python3"
  },
  "language_info": {
   "codemirror_mode": {
    "name": "ipython",
    "version": 3
   },
   "file_extension": ".py",
   "mimetype": "text/x-python",
   "name": "python",
   "nbconvert_exporter": "python",
   "pygments_lexer": "ipython3",
   "version": "3.7.0"
  }
 },
 "nbformat": 4,
 "nbformat_minor": 2
}
